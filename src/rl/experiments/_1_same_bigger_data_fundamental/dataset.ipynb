{
 "cells": [
  {
   "cell_type": "code",
   "execution_count": 1,
   "outputs": [],
   "source": [
    "#\n",
    "import os\n",
    "import copy\n",
    "import sys\n",
    "import warnings\n",
    "import matplotlib\n",
    "from pathlib import Path\n",
    "from typing import Dict\n",
    "\n",
    "#\n",
    "sys.path.append(\"./src/\")\n",
    "sys.path.append(\"./\")\n",
    "sys.path.append(\"../\")\n",
    "sys.path.append(\"../../\")\n",
    "sys.path.append(\"../../../\")\n",
    "\n",
    "# FinRL\n",
    "from finrl.config_tickers import DOW_30_TICKER\n",
    "\n",
    "# FinRL-Meta\n",
    "from meta.data_processors.yahoofinance import Yahoofinance\n",
    "\n",
    "#\n",
    "import yfinance as yf"
   ],
   "metadata": {
    "collapsed": false
   }
  },
  {
   "cell_type": "code",
   "execution_count": 2,
   "outputs": [],
   "source": [
    "def config():\n",
    "    #\n",
    "    warnings.filterwarnings(\"ignore\", category=UserWarning)  # TODO: zipline problem\n",
    "    warnings.filterwarnings(\"ignore\", category=DeprecationWarning)\n",
    "    warnings.filterwarnings(\"ignore\", category=FutureWarning)\n",
    "    warnings.filterwarnings(\"ignore\", category=RuntimeWarning)\n",
    "\n",
    "    #\n",
    "    matplotlib.use(\"Agg\")\n",
    "\n",
    "\n",
    "config()"
   ],
   "metadata": {
    "collapsed": false
   }
  },
  {
   "cell_type": "code",
   "execution_count": 3,
   "outputs": [],
   "source": [
    "#\n",
    "import numpy as np\n",
    "import pandas as pd\n",
    "import tqdm\n",
    "\n",
    "#\n",
    "from common.utils import now_time\n",
    "from configuration.settings import ProjectDir, ExperimentDir\n",
    "from rl.data.CompanyInfo import CompanyInfo"
   ],
   "metadata": {
    "collapsed": false
   }
  },
  {
   "cell_type": "code",
   "execution_count": 4,
   "outputs": [],
   "source": [
    "#\n",
    "prj_dir = ProjectDir(root=Path(\"/Users/zlapik/my-drive-zlapik/0-todo/ai-investing\"))\n",
    "exp_dir = ExperimentDir(root=Path(os.getcwd()))\n",
    "exp_dir.check_and_create_dirs()\n",
    "\n",
    "#\n",
    "_TRAIN_DATA_START = \"2000-01-01\"\n",
    "_TRAIN_DATA_END = \"2015-12-31\"\n",
    "_TEST_DATA_START = \"2016-01-01\"\n",
    "_TEST_DATA_END = \"2021-12-31\"\n",
    "\n",
    "#\n",
    "TICKERS = copy.deepcopy(DOW_30_TICKER)\n",
    "TICKERS.remove(\"DOW\")  # TODO: I don't have all necessary data"
   ],
   "metadata": {
    "collapsed": false
   }
  },
  {
   "cell_type": "code",
   "execution_count": 5,
   "outputs": [
    {
     "data": {
      "text/plain": "['AXP',\n 'AMGN',\n 'AAPL',\n 'BA',\n 'CAT',\n 'CSCO',\n 'CVX',\n 'GS',\n 'HD',\n 'HON',\n 'IBM',\n 'INTC',\n 'JNJ',\n 'KO',\n 'JPM',\n 'MCD',\n 'MMM',\n 'MRK',\n 'MSFT',\n 'NKE',\n 'PG',\n 'TRV',\n 'UNH',\n 'CRM',\n 'VZ',\n 'V',\n 'WBA',\n 'WMT',\n 'DIS']"
     },
     "execution_count": 5,
     "metadata": {},
     "output_type": "execute_result"
    }
   ],
   "source": [
    "TICKERS"
   ],
   "metadata": {
    "collapsed": false
   }
  },
  {
   "cell_type": "code",
   "execution_count": 6,
   "outputs": [
    {
     "name": "stdout",
     "output_type": "stream",
     "text": [
      "/Users/zlapik/my-drive-zlapik/0-todo/ai-investing\n",
      "/Users/zlapik/my-drive-zlapik/0-todo/ai-investing/src/rl/experiments/_1_same_bigger_data_fundamental\n"
     ]
    }
   ],
   "source": [
    "print(prj_dir.root)\n",
    "print(exp_dir.root)"
   ],
   "metadata": {
    "collapsed": false
   }
  },
  {
   "cell_type": "code",
   "execution_count": 7,
   "outputs": [
    {
     "name": "stdout",
     "output_type": "stream",
     "text": [
      "['date', 'tic']\n",
      "['open', 'high', 'low', 'close', 'volume']\n",
      "['operatingProfitMargin', 'netProfitMargin', 'returnOnAssets', 'returnOnEquity', 'currentRatio', 'quickRatio', 'cashRatio', 'inventoryTurnover', 'receivablesTurnover', 'payablesTurnover', 'debtRatio', 'debtEquityRatio', 'priceEarningsRatio', 'priceBookValueRatio', 'dividendYield']\n"
     ]
    }
   ],
   "source": [
    "from rl.experiments._1_same_bigger_data_fundamental.train import base_cols, data_cols, ratios_cols\n",
    "\n",
    "print(base_cols)\n",
    "print(data_cols)\n",
    "print(ratios_cols)"
   ],
   "metadata": {
    "collapsed": false
   }
  },
  {
   "cell_type": "code",
   "execution_count": 8,
   "outputs": [],
   "source": [
    "# Load All Initial Tickers Data\n",
    "tickers_data: Dict[str, CompanyInfo] = dict()\n",
    "for tic in TICKERS:\n",
    "    data = dict(symbol=tic)\n",
    "    files = copy.deepcopy(CompanyInfo.Names.list())\n",
    "    files.remove(\"symbol\")\n",
    "    for f in files:\n",
    "        tic_file = prj_dir.dataset.tickers.joinpath(tic).joinpath(f + \".csv\")\n",
    "        if tic_file.exists():\n",
    "            data[f] = pd.read_csv(tic_file, index_col=0)\n",
    "        else:\n",
    "            raise FileExistsError(f\"File not exists: {tic_file}\")\n",
    "    tickers_data[tic] = CompanyInfo(**data)"
   ],
   "metadata": {
    "collapsed": false
   }
  },
  {
   "cell_type": "code",
   "execution_count": 9,
   "outputs": [
    {
     "name": "stdout",
     "output_type": "stream",
     "text": [
      "dict_keys(['AXP', 'AMGN', 'AAPL', 'BA', 'CAT', 'CSCO', 'CVX', 'GS', 'HD', 'HON', 'IBM', 'INTC', 'JNJ', 'KO', 'JPM', 'MCD', 'MMM', 'MRK', 'MSFT', 'NKE', 'PG', 'TRV', 'UNH', 'CRM', 'VZ', 'V', 'WBA', 'WMT', 'DIS'])\n"
     ]
    }
   ],
   "source": [
    "print(tickers_data.keys())\n",
    "# print(tickers_data.values())"
   ],
   "metadata": {
    "collapsed": false
   }
  },
  {
   "cell_type": "code",
   "execution_count": 10,
   "outputs": [],
   "source": [
    "dataset = pd.DataFrame()\n",
    "\n",
    "# Merge tickers information into one pd.Dataframe\n",
    "# for k, v in [(\"DIS\", tickers_data[\"DIS\"])]:\n",
    "for k, v in tickers_data.items():\n",
    "    # Prices\n",
    "    data = v.data_detailed[data_cols]\n",
    "    data.insert(0, \"tic\", k)\n",
    "\n",
    "    # Fill before or forward\n",
    "    data = data.fillna(method=\"bfill\")\n",
    "    data = data.fillna(method=\"ffill\")\n",
    "\n",
    "    # Ratios\n",
    "    ratios = v.financial_ratios.loc[ratios_cols].transpose()\n",
    "\n",
    "    # Fill 0, where Nan/np.inf\n",
    "    ratios = ratios.fillna(0)\n",
    "    ratios = ratios.replace(np.inf, 0)\n",
    "\n",
    "    #\n",
    "    merge = pd.merge(data, ratios, how=\"outer\", left_index=True, right_index=True)\n",
    "    filled = merge.fillna(method=\"bfill\")\n",
    "    filled = filled.fillna(method=\"ffill\")\n",
    "    clean = filled.drop(filled[~filled.index.str.contains(\"\\d{4}-\\d{2}-\\d{2}\")].index)\n",
    "    dataset = pd.concat([clean, dataset])\n",
    "\n",
    "dataset.insert(0, \"date\", dataset.index)"
   ],
   "metadata": {
    "collapsed": false
   }
  },
  {
   "cell_type": "code",
   "execution_count": 11,
   "outputs": [],
   "source": [
    "assert dataset.isna().any().any() == False  # Can't be any Nan/np.inf values"
   ],
   "metadata": {
    "collapsed": false
   }
  },
  {
   "cell_type": "code",
   "execution_count": 12,
   "outputs": [
    {
     "data": {
      "text/plain": "                  date  tic        open        high         low       close  \\\n1962-01-02  1962-01-02  DIS    0.092908    0.096026    0.092908    0.092908   \n1962-01-03  1962-01-03  DIS    0.092908    0.094467    0.092908    0.094155   \n1962-01-04  1962-01-04  DIS    0.094155    0.094467    0.093532    0.094155   \n1962-01-05  1962-01-05  DIS    0.094155    0.094779    0.093844    0.094467   \n1962-01-08  1962-01-08  DIS    0.094467    0.095714    0.092285    0.094155   \n...                ...  ...         ...         ...         ...         ...   \n2022-12-12  2022-12-12  AXP  154.260000  157.760000  154.000000  157.310000   \n2022-12-13  2022-12-13  AXP  160.620000  161.550000  156.160000  157.520000   \n2022-12-14  2022-12-14  AXP  157.570000  158.620000  153.840000  154.110000   \n2022-12-15  2022-12-15  AXP  151.650000  152.280000  146.470000  150.220000   \n2022-12-16  2022-12-16  AXP  148.590000  148.590000  144.150000  146.300000   \n\n               volume operatingProfitMargin      netProfitMargin  \\\n1962-01-02   817400.0    0.2144077006675982  0.13538270454898307   \n1962-01-03   778500.0    0.2144077006675982  0.13538270454898307   \n1962-01-04   934200.0    0.2144077006675982  0.13538270454898307   \n1962-01-05   934200.0    0.2144077006675982  0.13538270454898307   \n1962-01-08  1245600.0    0.2144077006675982  0.13538270454898307   \n...               ...                   ...                  ...   \n2022-12-12  2773675.0                   0.0  0.13909245688059813   \n2022-12-13  3110000.0                   0.0  0.13909245688059813   \n2022-12-14  3554804.0                   0.0  0.13909245688059813   \n2022-12-15  4282628.0                   0.0  0.13909245688059813   \n2022-12-16  4130931.0                   0.0  0.13909245688059813   \n\n                  returnOnAssets  ...         quickRatio          cashRatio  \\\n1962-01-02  0.025337420638956283  ...  1.052858261550509  0.313469068128426   \n1962-01-03  0.025337420638956283  ...  1.052858261550509  0.313469068128426   \n1962-01-04  0.025337420638956283  ...  1.052858261550509  0.313469068128426   \n1962-01-05  0.025337420638956283  ...  1.052858261550509  0.313469068128426   \n1962-01-08  0.025337420638956283  ...  1.052858261550509  0.313469068128426   \n...                          ...  ...                ...                ...   \n2022-12-12  0.008742991415210665  ...                  0                  0   \n2022-12-13  0.008742991415210665  ...                  0                  0   \n2022-12-14  0.008742991415210665  ...                  0                  0   \n2022-12-15  0.008742991415210665  ...                  0                  0   \n2022-12-16  0.008742991415210665  ...                  0                  0   \n\n             inventoryTurnover receivablesTurnover    payablesTurnover  \\\n1962-01-02  3.7693993862341078  1.3643295911883075  0.6732967893500391   \n1962-01-03  3.7693993862341078  1.3643295911883075  0.6732967893500391   \n1962-01-04  3.7693993862341078  1.3643295911883075  0.6732967893500391   \n1962-01-05  3.7693993862341078  1.3643295911883075  0.6732967893500391   \n1962-01-08  3.7693993862341078  1.3643295911883075  0.6732967893500391   \n...                        ...                 ...                 ...   \n2022-12-12                 0.0                   0                 0.0   \n2022-12-13                 0.0                   0                 0.0   \n2022-12-14                 0.0                   0                 0.0   \n2022-12-15                 0.0                   0                 0.0   \n2022-12-16                 0.0                   0                 0.0   \n\n                     debtRatio     debtEquityRatio  priceEarningsRatio  \\\n1962-01-02  0.5342069706963433  1.1468762671158106  22.104169110154817   \n1962-01-03  0.5342069706963433  1.1468762671158106  22.104169110154817   \n1962-01-04  0.5342069706963433  1.1468762671158106  22.104169110154817   \n1962-01-05  0.5342069706963433  1.1468762671158106  22.104169110154817   \n1962-01-08  0.5342069706963433  1.1468762671158106  22.104169110154817   \n...                        ...                 ...                 ...   \n2022-12-12  0.8886071237465974   7.977234753550543  13.426381421979777   \n2022-12-13  0.8886071237465974   7.977234753550543  13.426381421979777   \n2022-12-14  0.8886071237465974   7.977234753550543  13.426381421979777   \n2022-12-15  0.8886071237465974   7.977234753550543  13.426381421979777   \n2022-12-16  0.8886071237465974   7.977234753550543  13.426381421979777   \n\n           priceBookValueRatio          dividendYield  \n1962-01-02   4.809540679094226  0.0010570777653587061  \n1962-01-03   4.809540679094226  0.0010570777653587061  \n1962-01-04   4.809540679094226  0.0010570777653587061  \n1962-01-05   4.809540679094226  0.0010570777653587061  \n1962-01-08   4.809540679094226  0.0010570777653587061  \n...                        ...                    ...  \n2022-12-12   4.215233198312448   0.004033189771966654  \n2022-12-13   4.215233198312448   0.004033189771966654  \n2022-12-14   4.215233198312448   0.004033189771966654  \n2022-12-15   4.215233198312448   0.004033189771966654  \n2022-12-16   4.215233198312448   0.004033189771966654  \n\n[345570 rows x 22 columns]",
      "text/html": "<div>\n<style scoped>\n    .dataframe tbody tr th:only-of-type {\n        vertical-align: middle;\n    }\n\n    .dataframe tbody tr th {\n        vertical-align: top;\n    }\n\n    .dataframe thead th {\n        text-align: right;\n    }\n</style>\n<table border=\"1\" class=\"dataframe\">\n  <thead>\n    <tr style=\"text-align: right;\">\n      <th></th>\n      <th>date</th>\n      <th>tic</th>\n      <th>open</th>\n      <th>high</th>\n      <th>low</th>\n      <th>close</th>\n      <th>volume</th>\n      <th>operatingProfitMargin</th>\n      <th>netProfitMargin</th>\n      <th>returnOnAssets</th>\n      <th>...</th>\n      <th>quickRatio</th>\n      <th>cashRatio</th>\n      <th>inventoryTurnover</th>\n      <th>receivablesTurnover</th>\n      <th>payablesTurnover</th>\n      <th>debtRatio</th>\n      <th>debtEquityRatio</th>\n      <th>priceEarningsRatio</th>\n      <th>priceBookValueRatio</th>\n      <th>dividendYield</th>\n    </tr>\n  </thead>\n  <tbody>\n    <tr>\n      <th>1962-01-02</th>\n      <td>1962-01-02</td>\n      <td>DIS</td>\n      <td>0.092908</td>\n      <td>0.096026</td>\n      <td>0.092908</td>\n      <td>0.092908</td>\n      <td>817400.0</td>\n      <td>0.2144077006675982</td>\n      <td>0.13538270454898307</td>\n      <td>0.025337420638956283</td>\n      <td>...</td>\n      <td>1.052858261550509</td>\n      <td>0.313469068128426</td>\n      <td>3.7693993862341078</td>\n      <td>1.3643295911883075</td>\n      <td>0.6732967893500391</td>\n      <td>0.5342069706963433</td>\n      <td>1.1468762671158106</td>\n      <td>22.104169110154817</td>\n      <td>4.809540679094226</td>\n      <td>0.0010570777653587061</td>\n    </tr>\n    <tr>\n      <th>1962-01-03</th>\n      <td>1962-01-03</td>\n      <td>DIS</td>\n      <td>0.092908</td>\n      <td>0.094467</td>\n      <td>0.092908</td>\n      <td>0.094155</td>\n      <td>778500.0</td>\n      <td>0.2144077006675982</td>\n      <td>0.13538270454898307</td>\n      <td>0.025337420638956283</td>\n      <td>...</td>\n      <td>1.052858261550509</td>\n      <td>0.313469068128426</td>\n      <td>3.7693993862341078</td>\n      <td>1.3643295911883075</td>\n      <td>0.6732967893500391</td>\n      <td>0.5342069706963433</td>\n      <td>1.1468762671158106</td>\n      <td>22.104169110154817</td>\n      <td>4.809540679094226</td>\n      <td>0.0010570777653587061</td>\n    </tr>\n    <tr>\n      <th>1962-01-04</th>\n      <td>1962-01-04</td>\n      <td>DIS</td>\n      <td>0.094155</td>\n      <td>0.094467</td>\n      <td>0.093532</td>\n      <td>0.094155</td>\n      <td>934200.0</td>\n      <td>0.2144077006675982</td>\n      <td>0.13538270454898307</td>\n      <td>0.025337420638956283</td>\n      <td>...</td>\n      <td>1.052858261550509</td>\n      <td>0.313469068128426</td>\n      <td>3.7693993862341078</td>\n      <td>1.3643295911883075</td>\n      <td>0.6732967893500391</td>\n      <td>0.5342069706963433</td>\n      <td>1.1468762671158106</td>\n      <td>22.104169110154817</td>\n      <td>4.809540679094226</td>\n      <td>0.0010570777653587061</td>\n    </tr>\n    <tr>\n      <th>1962-01-05</th>\n      <td>1962-01-05</td>\n      <td>DIS</td>\n      <td>0.094155</td>\n      <td>0.094779</td>\n      <td>0.093844</td>\n      <td>0.094467</td>\n      <td>934200.0</td>\n      <td>0.2144077006675982</td>\n      <td>0.13538270454898307</td>\n      <td>0.025337420638956283</td>\n      <td>...</td>\n      <td>1.052858261550509</td>\n      <td>0.313469068128426</td>\n      <td>3.7693993862341078</td>\n      <td>1.3643295911883075</td>\n      <td>0.6732967893500391</td>\n      <td>0.5342069706963433</td>\n      <td>1.1468762671158106</td>\n      <td>22.104169110154817</td>\n      <td>4.809540679094226</td>\n      <td>0.0010570777653587061</td>\n    </tr>\n    <tr>\n      <th>1962-01-08</th>\n      <td>1962-01-08</td>\n      <td>DIS</td>\n      <td>0.094467</td>\n      <td>0.095714</td>\n      <td>0.092285</td>\n      <td>0.094155</td>\n      <td>1245600.0</td>\n      <td>0.2144077006675982</td>\n      <td>0.13538270454898307</td>\n      <td>0.025337420638956283</td>\n      <td>...</td>\n      <td>1.052858261550509</td>\n      <td>0.313469068128426</td>\n      <td>3.7693993862341078</td>\n      <td>1.3643295911883075</td>\n      <td>0.6732967893500391</td>\n      <td>0.5342069706963433</td>\n      <td>1.1468762671158106</td>\n      <td>22.104169110154817</td>\n      <td>4.809540679094226</td>\n      <td>0.0010570777653587061</td>\n    </tr>\n    <tr>\n      <th>...</th>\n      <td>...</td>\n      <td>...</td>\n      <td>...</td>\n      <td>...</td>\n      <td>...</td>\n      <td>...</td>\n      <td>...</td>\n      <td>...</td>\n      <td>...</td>\n      <td>...</td>\n      <td>...</td>\n      <td>...</td>\n      <td>...</td>\n      <td>...</td>\n      <td>...</td>\n      <td>...</td>\n      <td>...</td>\n      <td>...</td>\n      <td>...</td>\n      <td>...</td>\n      <td>...</td>\n    </tr>\n    <tr>\n      <th>2022-12-12</th>\n      <td>2022-12-12</td>\n      <td>AXP</td>\n      <td>154.260000</td>\n      <td>157.760000</td>\n      <td>154.000000</td>\n      <td>157.310000</td>\n      <td>2773675.0</td>\n      <td>0.0</td>\n      <td>0.13909245688059813</td>\n      <td>0.008742991415210665</td>\n      <td>...</td>\n      <td>0</td>\n      <td>0</td>\n      <td>0.0</td>\n      <td>0</td>\n      <td>0.0</td>\n      <td>0.8886071237465974</td>\n      <td>7.977234753550543</td>\n      <td>13.426381421979777</td>\n      <td>4.215233198312448</td>\n      <td>0.004033189771966654</td>\n    </tr>\n    <tr>\n      <th>2022-12-13</th>\n      <td>2022-12-13</td>\n      <td>AXP</td>\n      <td>160.620000</td>\n      <td>161.550000</td>\n      <td>156.160000</td>\n      <td>157.520000</td>\n      <td>3110000.0</td>\n      <td>0.0</td>\n      <td>0.13909245688059813</td>\n      <td>0.008742991415210665</td>\n      <td>...</td>\n      <td>0</td>\n      <td>0</td>\n      <td>0.0</td>\n      <td>0</td>\n      <td>0.0</td>\n      <td>0.8886071237465974</td>\n      <td>7.977234753550543</td>\n      <td>13.426381421979777</td>\n      <td>4.215233198312448</td>\n      <td>0.004033189771966654</td>\n    </tr>\n    <tr>\n      <th>2022-12-14</th>\n      <td>2022-12-14</td>\n      <td>AXP</td>\n      <td>157.570000</td>\n      <td>158.620000</td>\n      <td>153.840000</td>\n      <td>154.110000</td>\n      <td>3554804.0</td>\n      <td>0.0</td>\n      <td>0.13909245688059813</td>\n      <td>0.008742991415210665</td>\n      <td>...</td>\n      <td>0</td>\n      <td>0</td>\n      <td>0.0</td>\n      <td>0</td>\n      <td>0.0</td>\n      <td>0.8886071237465974</td>\n      <td>7.977234753550543</td>\n      <td>13.426381421979777</td>\n      <td>4.215233198312448</td>\n      <td>0.004033189771966654</td>\n    </tr>\n    <tr>\n      <th>2022-12-15</th>\n      <td>2022-12-15</td>\n      <td>AXP</td>\n      <td>151.650000</td>\n      <td>152.280000</td>\n      <td>146.470000</td>\n      <td>150.220000</td>\n      <td>4282628.0</td>\n      <td>0.0</td>\n      <td>0.13909245688059813</td>\n      <td>0.008742991415210665</td>\n      <td>...</td>\n      <td>0</td>\n      <td>0</td>\n      <td>0.0</td>\n      <td>0</td>\n      <td>0.0</td>\n      <td>0.8886071237465974</td>\n      <td>7.977234753550543</td>\n      <td>13.426381421979777</td>\n      <td>4.215233198312448</td>\n      <td>0.004033189771966654</td>\n    </tr>\n    <tr>\n      <th>2022-12-16</th>\n      <td>2022-12-16</td>\n      <td>AXP</td>\n      <td>148.590000</td>\n      <td>148.590000</td>\n      <td>144.150000</td>\n      <td>146.300000</td>\n      <td>4130931.0</td>\n      <td>0.0</td>\n      <td>0.13909245688059813</td>\n      <td>0.008742991415210665</td>\n      <td>...</td>\n      <td>0</td>\n      <td>0</td>\n      <td>0.0</td>\n      <td>0</td>\n      <td>0.0</td>\n      <td>0.8886071237465974</td>\n      <td>7.977234753550543</td>\n      <td>13.426381421979777</td>\n      <td>4.215233198312448</td>\n      <td>0.004033189771966654</td>\n    </tr>\n  </tbody>\n</table>\n<p>345570 rows × 22 columns</p>\n</div>"
     },
     "execution_count": 12,
     "metadata": {},
     "output_type": "execute_result"
    }
   ],
   "source": [
    "dataset"
   ],
   "metadata": {
    "collapsed": false
   }
  },
  {
   "cell_type": "code",
   "execution_count": 13,
   "outputs": [
    {
     "name": "stdout",
     "output_type": "stream",
     "text": [
      "15347\n",
      "15347\n"
     ]
    }
   ],
   "source": [
    "# Take only those dates where we have data for all stock in each day\n",
    "max_size = dataset.groupby(\"date\").size().unique().max()\n",
    "_d = dataset.groupby(\"date\").size()\n",
    "binary = _d.values == 29\n",
    "\n",
    "print(_d.size)\n",
    "print(binary.size)\n",
    "\n",
    "latest_date = _d[binary].index[0]\n",
    "dataset = dataset[dataset[\"date\"] > latest_date]"
   ],
   "metadata": {
    "collapsed": false
   }
  },
  {
   "cell_type": "code",
   "execution_count": 14,
   "outputs": [
    {
     "data": {
      "text/plain": "                  date  tic        open        high         low       close  \\\n2008-03-20  2008-03-20  DIS   31.280001   31.980000   31.250000   31.900000   \n2008-03-24  2008-03-24  DIS   32.000000   32.160000   31.799999   32.040001   \n2008-03-25  2008-03-25  DIS   31.990000   32.240002   31.840000   32.080002   \n2008-03-26  2008-03-26  DIS   31.910000   32.040001   31.530001   31.760000   \n2008-03-27  2008-03-27  DIS   31.879999   31.959999   31.309999   31.379999   \n...                ...  ...         ...         ...         ...         ...   \n2022-12-12  2022-12-12  AXP  154.260000  157.760000  154.000000  157.310000   \n2022-12-13  2022-12-13  AXP  160.620000  161.550000  156.160000  157.520000   \n2022-12-14  2022-12-14  AXP  157.570000  158.620000  153.840000  154.110000   \n2022-12-15  2022-12-15  AXP  151.650000  152.280000  146.470000  150.220000   \n2022-12-16  2022-12-16  AXP  148.590000  148.590000  144.150000  146.300000   \n\n                volume operatingProfitMargin      netProfitMargin  \\\n2008-03-20  13802300.0   0.21881766998700736  0.13902122130792552   \n2008-03-24  10536000.0   0.21881766998700736  0.13902122130792552   \n2008-03-25   8547300.0   0.21881766998700736  0.13902122130792552   \n2008-03-26   9219700.0   0.21881766998700736  0.13902122130792552   \n2008-03-27   9569900.0   0.21881766998700736  0.13902122130792552   \n...                ...                   ...                  ...   \n2022-12-12   2773675.0                   0.0  0.13909245688059813   \n2022-12-13   3110000.0                   0.0  0.13909245688059813   \n2022-12-14   3554804.0                   0.0  0.13909245688059813   \n2022-12-15   4282628.0                   0.0  0.13909245688059813   \n2022-12-16   4130931.0                   0.0  0.13909245688059813   \n\n                  returnOnAssets  ...          quickRatio           cashRatio  \\\n2008-03-20  0.020850248449222175  ...  0.8225918916226715  0.2578942125709732   \n2008-03-24  0.020850248449222175  ...  0.8225918916226715  0.2578942125709732   \n2008-03-25  0.020850248449222175  ...  0.8225918916226715  0.2578942125709732   \n2008-03-26  0.020850248449222175  ...  0.8225918916226715  0.2578942125709732   \n2008-03-27  0.020850248449222175  ...  0.8225918916226715  0.2578942125709732   \n...                          ...  ...                 ...                 ...   \n2022-12-12  0.008742991415210665  ...                   0                   0   \n2022-12-13  0.008742991415210665  ...                   0                   0   \n2022-12-14  0.008742991415210665  ...                   0                   0   \n2022-12-15  0.008742991415210665  ...                   0                   0   \n2022-12-16  0.008742991415210665  ...                   0                   0   \n\n            inventoryTurnover receivablesTurnover    payablesTurnover  \\\n2008-03-20  7.273185483870968  1.6292115011465866  1.3753335874952344   \n2008-03-24  7.273185483870968  1.6292115011465866  1.3753335874952344   \n2008-03-25  7.273185483870968  1.6292115011465866  1.3753335874952344   \n2008-03-26  7.273185483870968  1.6292115011465866  1.3753335874952344   \n2008-03-27  7.273185483870968  1.6292115011465866  1.3753335874952344   \n...                       ...                 ...                 ...   \n2022-12-12                0.0                   0                 0.0   \n2022-12-13                0.0                   0                 0.0   \n2022-12-14                0.0                   0                 0.0   \n2022-12-15                0.0                   0                 0.0   \n2022-12-16                0.0                   0                 0.0   \n\n                     debtRatio     debtEquityRatio  priceEarningsRatio  \\\n2008-03-20  0.4476470397193985  0.8409957594801549   11.54205644470405   \n2008-03-24  0.4476470397193985  0.8409957594801549   11.54205644470405   \n2008-03-25  0.4476470397193985  0.8409957594801549   11.54205644470405   \n2008-03-26  0.4476470397193985  0.8409957594801549   11.54205644470405   \n2008-03-27  0.4476470397193985  0.8409957594801549   11.54205644470405   \n...                        ...                 ...                 ...   \n2022-12-12  0.8886071237465974   7.977234753550543  13.426381421979777   \n2022-12-13  0.8886071237465974   7.977234753550543  13.426381421979777   \n2022-12-14  0.8886071237465974   7.977234753550543  13.426381421979777   \n2022-12-15  0.8886071237465974   7.977234753550543  13.426381421979777   \n2022-12-16  0.8886071237465974   7.977234753550543  13.426381421979777   \n\n           priceBookValueRatio         dividendYield  \n2008-03-20   1.808474996186583                     0  \n2008-03-24   1.808474996186583                     0  \n2008-03-25   1.808474996186583                     0  \n2008-03-26   1.808474996186583                     0  \n2008-03-27   1.808474996186583                     0  \n...                        ...                   ...  \n2022-12-12   4.215233198312448  0.004033189771966654  \n2022-12-13   4.215233198312448  0.004033189771966654  \n2022-12-14   4.215233198312448  0.004033189771966654  \n2022-12-15   4.215233198312448  0.004033189771966654  \n2022-12-16   4.215233198312448  0.004033189771966654  \n\n[107706 rows x 22 columns]",
      "text/html": "<div>\n<style scoped>\n    .dataframe tbody tr th:only-of-type {\n        vertical-align: middle;\n    }\n\n    .dataframe tbody tr th {\n        vertical-align: top;\n    }\n\n    .dataframe thead th {\n        text-align: right;\n    }\n</style>\n<table border=\"1\" class=\"dataframe\">\n  <thead>\n    <tr style=\"text-align: right;\">\n      <th></th>\n      <th>date</th>\n      <th>tic</th>\n      <th>open</th>\n      <th>high</th>\n      <th>low</th>\n      <th>close</th>\n      <th>volume</th>\n      <th>operatingProfitMargin</th>\n      <th>netProfitMargin</th>\n      <th>returnOnAssets</th>\n      <th>...</th>\n      <th>quickRatio</th>\n      <th>cashRatio</th>\n      <th>inventoryTurnover</th>\n      <th>receivablesTurnover</th>\n      <th>payablesTurnover</th>\n      <th>debtRatio</th>\n      <th>debtEquityRatio</th>\n      <th>priceEarningsRatio</th>\n      <th>priceBookValueRatio</th>\n      <th>dividendYield</th>\n    </tr>\n  </thead>\n  <tbody>\n    <tr>\n      <th>2008-03-20</th>\n      <td>2008-03-20</td>\n      <td>DIS</td>\n      <td>31.280001</td>\n      <td>31.980000</td>\n      <td>31.250000</td>\n      <td>31.900000</td>\n      <td>13802300.0</td>\n      <td>0.21881766998700736</td>\n      <td>0.13902122130792552</td>\n      <td>0.020850248449222175</td>\n      <td>...</td>\n      <td>0.8225918916226715</td>\n      <td>0.2578942125709732</td>\n      <td>7.273185483870968</td>\n      <td>1.6292115011465866</td>\n      <td>1.3753335874952344</td>\n      <td>0.4476470397193985</td>\n      <td>0.8409957594801549</td>\n      <td>11.54205644470405</td>\n      <td>1.808474996186583</td>\n      <td>0</td>\n    </tr>\n    <tr>\n      <th>2008-03-24</th>\n      <td>2008-03-24</td>\n      <td>DIS</td>\n      <td>32.000000</td>\n      <td>32.160000</td>\n      <td>31.799999</td>\n      <td>32.040001</td>\n      <td>10536000.0</td>\n      <td>0.21881766998700736</td>\n      <td>0.13902122130792552</td>\n      <td>0.020850248449222175</td>\n      <td>...</td>\n      <td>0.8225918916226715</td>\n      <td>0.2578942125709732</td>\n      <td>7.273185483870968</td>\n      <td>1.6292115011465866</td>\n      <td>1.3753335874952344</td>\n      <td>0.4476470397193985</td>\n      <td>0.8409957594801549</td>\n      <td>11.54205644470405</td>\n      <td>1.808474996186583</td>\n      <td>0</td>\n    </tr>\n    <tr>\n      <th>2008-03-25</th>\n      <td>2008-03-25</td>\n      <td>DIS</td>\n      <td>31.990000</td>\n      <td>32.240002</td>\n      <td>31.840000</td>\n      <td>32.080002</td>\n      <td>8547300.0</td>\n      <td>0.21881766998700736</td>\n      <td>0.13902122130792552</td>\n      <td>0.020850248449222175</td>\n      <td>...</td>\n      <td>0.8225918916226715</td>\n      <td>0.2578942125709732</td>\n      <td>7.273185483870968</td>\n      <td>1.6292115011465866</td>\n      <td>1.3753335874952344</td>\n      <td>0.4476470397193985</td>\n      <td>0.8409957594801549</td>\n      <td>11.54205644470405</td>\n      <td>1.808474996186583</td>\n      <td>0</td>\n    </tr>\n    <tr>\n      <th>2008-03-26</th>\n      <td>2008-03-26</td>\n      <td>DIS</td>\n      <td>31.910000</td>\n      <td>32.040001</td>\n      <td>31.530001</td>\n      <td>31.760000</td>\n      <td>9219700.0</td>\n      <td>0.21881766998700736</td>\n      <td>0.13902122130792552</td>\n      <td>0.020850248449222175</td>\n      <td>...</td>\n      <td>0.8225918916226715</td>\n      <td>0.2578942125709732</td>\n      <td>7.273185483870968</td>\n      <td>1.6292115011465866</td>\n      <td>1.3753335874952344</td>\n      <td>0.4476470397193985</td>\n      <td>0.8409957594801549</td>\n      <td>11.54205644470405</td>\n      <td>1.808474996186583</td>\n      <td>0</td>\n    </tr>\n    <tr>\n      <th>2008-03-27</th>\n      <td>2008-03-27</td>\n      <td>DIS</td>\n      <td>31.879999</td>\n      <td>31.959999</td>\n      <td>31.309999</td>\n      <td>31.379999</td>\n      <td>9569900.0</td>\n      <td>0.21881766998700736</td>\n      <td>0.13902122130792552</td>\n      <td>0.020850248449222175</td>\n      <td>...</td>\n      <td>0.8225918916226715</td>\n      <td>0.2578942125709732</td>\n      <td>7.273185483870968</td>\n      <td>1.6292115011465866</td>\n      <td>1.3753335874952344</td>\n      <td>0.4476470397193985</td>\n      <td>0.8409957594801549</td>\n      <td>11.54205644470405</td>\n      <td>1.808474996186583</td>\n      <td>0</td>\n    </tr>\n    <tr>\n      <th>...</th>\n      <td>...</td>\n      <td>...</td>\n      <td>...</td>\n      <td>...</td>\n      <td>...</td>\n      <td>...</td>\n      <td>...</td>\n      <td>...</td>\n      <td>...</td>\n      <td>...</td>\n      <td>...</td>\n      <td>...</td>\n      <td>...</td>\n      <td>...</td>\n      <td>...</td>\n      <td>...</td>\n      <td>...</td>\n      <td>...</td>\n      <td>...</td>\n      <td>...</td>\n      <td>...</td>\n    </tr>\n    <tr>\n      <th>2022-12-12</th>\n      <td>2022-12-12</td>\n      <td>AXP</td>\n      <td>154.260000</td>\n      <td>157.760000</td>\n      <td>154.000000</td>\n      <td>157.310000</td>\n      <td>2773675.0</td>\n      <td>0.0</td>\n      <td>0.13909245688059813</td>\n      <td>0.008742991415210665</td>\n      <td>...</td>\n      <td>0</td>\n      <td>0</td>\n      <td>0.0</td>\n      <td>0</td>\n      <td>0.0</td>\n      <td>0.8886071237465974</td>\n      <td>7.977234753550543</td>\n      <td>13.426381421979777</td>\n      <td>4.215233198312448</td>\n      <td>0.004033189771966654</td>\n    </tr>\n    <tr>\n      <th>2022-12-13</th>\n      <td>2022-12-13</td>\n      <td>AXP</td>\n      <td>160.620000</td>\n      <td>161.550000</td>\n      <td>156.160000</td>\n      <td>157.520000</td>\n      <td>3110000.0</td>\n      <td>0.0</td>\n      <td>0.13909245688059813</td>\n      <td>0.008742991415210665</td>\n      <td>...</td>\n      <td>0</td>\n      <td>0</td>\n      <td>0.0</td>\n      <td>0</td>\n      <td>0.0</td>\n      <td>0.8886071237465974</td>\n      <td>7.977234753550543</td>\n      <td>13.426381421979777</td>\n      <td>4.215233198312448</td>\n      <td>0.004033189771966654</td>\n    </tr>\n    <tr>\n      <th>2022-12-14</th>\n      <td>2022-12-14</td>\n      <td>AXP</td>\n      <td>157.570000</td>\n      <td>158.620000</td>\n      <td>153.840000</td>\n      <td>154.110000</td>\n      <td>3554804.0</td>\n      <td>0.0</td>\n      <td>0.13909245688059813</td>\n      <td>0.008742991415210665</td>\n      <td>...</td>\n      <td>0</td>\n      <td>0</td>\n      <td>0.0</td>\n      <td>0</td>\n      <td>0.0</td>\n      <td>0.8886071237465974</td>\n      <td>7.977234753550543</td>\n      <td>13.426381421979777</td>\n      <td>4.215233198312448</td>\n      <td>0.004033189771966654</td>\n    </tr>\n    <tr>\n      <th>2022-12-15</th>\n      <td>2022-12-15</td>\n      <td>AXP</td>\n      <td>151.650000</td>\n      <td>152.280000</td>\n      <td>146.470000</td>\n      <td>150.220000</td>\n      <td>4282628.0</td>\n      <td>0.0</td>\n      <td>0.13909245688059813</td>\n      <td>0.008742991415210665</td>\n      <td>...</td>\n      <td>0</td>\n      <td>0</td>\n      <td>0.0</td>\n      <td>0</td>\n      <td>0.0</td>\n      <td>0.8886071237465974</td>\n      <td>7.977234753550543</td>\n      <td>13.426381421979777</td>\n      <td>4.215233198312448</td>\n      <td>0.004033189771966654</td>\n    </tr>\n    <tr>\n      <th>2022-12-16</th>\n      <td>2022-12-16</td>\n      <td>AXP</td>\n      <td>148.590000</td>\n      <td>148.590000</td>\n      <td>144.150000</td>\n      <td>146.300000</td>\n      <td>4130931.0</td>\n      <td>0.0</td>\n      <td>0.13909245688059813</td>\n      <td>0.008742991415210665</td>\n      <td>...</td>\n      <td>0</td>\n      <td>0</td>\n      <td>0.0</td>\n      <td>0</td>\n      <td>0.0</td>\n      <td>0.8886071237465974</td>\n      <td>7.977234753550543</td>\n      <td>13.426381421979777</td>\n      <td>4.215233198312448</td>\n      <td>0.004033189771966654</td>\n    </tr>\n  </tbody>\n</table>\n<p>107706 rows × 22 columns</p>\n</div>"
     },
     "execution_count": 14,
     "metadata": {},
     "output_type": "execute_result"
    }
   ],
   "source": [
    "dataset"
   ],
   "metadata": {
    "collapsed": false
   }
  },
  {
   "cell_type": "code",
   "execution_count": 15,
   "outputs": [],
   "source": [
    "dataset = dataset.sort_values(by=\"date\")\n",
    "dataset.index = dataset[\"date\"].factorize()[0]"
   ],
   "metadata": {
    "collapsed": false
   }
  },
  {
   "cell_type": "code",
   "execution_count": 16,
   "outputs": [],
   "source": [
    "assert dataset.groupby(\"date\").size().unique().size == 1"
   ],
   "metadata": {
    "collapsed": false
   }
  },
  {
   "cell_type": "code",
   "execution_count": 75,
   "outputs": [
    {
     "data": {
      "text/plain": "            date   tic        open        high         low       close  \\\n0     2008-03-20   DIS   31.280001   31.980000   31.250000   31.900000   \n0     2008-03-20   UNH   35.729999   35.729999   34.840000   35.320000   \n0     2008-03-20   HON   52.606930   52.606930   51.005268   51.758431   \n0     2008-03-20   TRV   46.470001   48.259998   46.259998   47.790001   \n0     2008-03-20   CVX   81.279999   84.070000   80.870003   83.209999   \n...          ...   ...         ...         ...         ...         ...   \n3713  2022-12-16   CAT  228.630000  233.220000  228.050000  232.720000   \n3713  2022-12-16  CSCO   47.410000   48.000000   47.080000   47.810000   \n3713  2022-12-16   WMT  144.480000  144.720000  142.570000  142.750000   \n3713  2022-12-16   JPM  129.150000  129.900000  128.425000  129.290000   \n3713  2022-12-16   AXP  148.590000  148.590000  144.150000  146.300000   \n\n          volume operatingProfitMargin        netProfitMargin  \\\n0     13802300.0   0.21881766998700736    0.13902122130792552   \n0     12731500.0   0.03319850039463299   0.016623914759273876   \n0     12340441.0   0.10967541864792227    0.07473640686375853   \n0      6908900.0                   0.0    0.14964257347100873   \n0     18373200.0   0.14176577618720554    0.07199749364373592   \n...          ...                   ...                    ...   \n3713   7610640.0    0.1617313592103508    0.13612111511271174   \n3713  66126196.0    0.2596830985915493    0.19586267605633803   \n3713  13443780.0  0.017635934115552997  -0.011766014671526636   \n3713  15917668.0                   0.0    0.29762195867465463   \n3713   4130931.0                   0.0    0.13909245688059813   \n\n             returnOnAssets  ...           quickRatio             cashRatio  \\\n0      0.020850248449222175  ...   0.8225918916226715    0.2578942125709732   \n0      0.006221385319745976  ...   0.4222244458898284     0.263821483964577   \n0      0.019657956986323718  ...   0.7566042365257217   0.18025680870205282   \n0        0.2121143886512047  ...  0.23136199395324827  0.004043457955411351   \n0       0.03664160523959624  ...   0.9225880857674112    0.1925294796055264   \n...                     ...  ...                  ...                   ...   \n3713   0.025226494617276628  ...    0.775511555526124    0.2101185351963446   \n3713   0.028693016957895414  ...   1.1610700514138816   0.29289845758354754   \n3713  -0.007260070420260361  ...  0.19530017355632692    0.1142612022720101   \n3713   0.002580100501234272  ...                    0                     0   \n3713   0.008742991415210665  ...                    0                     0   \n\n       inventoryTurnover  receivablesTurnover    payablesTurnover  \\\n0      7.273185483870968   1.6292115011465866  1.3753335874952344   \n0                    0.0    8.626382978723404                   0   \n0     1.8330413016270337    1.372782744430254  1.7390168606031822   \n0                    0.0  0.48561289824886217                   0   \n0      9.670538377020875   2.7128567225654603  2.1070793433652533   \n...                  ...                  ...                 ...   \n3713  0.6140569395017793   0.8780744905130007  1.2533898305084745   \n3713  1.9842342342342343   1.4944091208068406  2.2823834196891193   \n3713  1.7867431150125181    18.59491360428328   2.018982589106404   \n3713                 0.0   0.2273444286161009                   0   \n3713                 0.0                    0                 0.0   \n\n                debtRatio     debtEquityRatio  priceEarningsRatio  \\\n0      0.4476470397193985  0.8409957594801549   11.54205644470405   \n0      0.6417811253876827  1.7915893630179345   23.67952522255193   \n0      0.7210092715952038  2.5843485040444403  12.354489952725562   \n0      19.748254897545596   3.383173243837519   6.895854803091826   \n0     0.49410668073050173  0.9793844508192736   8.505988366230666   \n...                   ...                 ...                 ...   \n3713   0.8069141112635495   4.187351677249695  10.551445485668788   \n3713   0.5672190341092269  1.3106376638855781   17.55516104868914   \n3713   0.6754247827631876   2.315101103068385  -53.65081130141824   \n3713   0.9236812790218247  12.102944954829212   7.945090890417993   \n3713   0.8886071237465974   7.977234753550543  13.426381421979777   \n\n     priceBookValueRatio          dividendYield  \n0      1.808474996186583                      0  \n0      1.645021645021645                      0  \n0     3.4820373202692063   0.005737606394476217  \n0      1.002336955524052   0.006927451635948628  \n0     2.4711081095068907  0.0065717914465864054  \n...                  ...                    ...  \n3713   5.525110701366172   0.007348331743584158  \n3713   4.655570123162495   0.008320482809882516  \n3713  5.3403545164878965   0.003936695297395082  \n3713  1.0743960446916514   0.011026177800671784  \n3713   4.215233198312448   0.004033189771966654  \n\n[107706 rows x 22 columns]",
      "text/html": "<div>\n<style scoped>\n    .dataframe tbody tr th:only-of-type {\n        vertical-align: middle;\n    }\n\n    .dataframe tbody tr th {\n        vertical-align: top;\n    }\n\n    .dataframe thead th {\n        text-align: right;\n    }\n</style>\n<table border=\"1\" class=\"dataframe\">\n  <thead>\n    <tr style=\"text-align: right;\">\n      <th></th>\n      <th>date</th>\n      <th>tic</th>\n      <th>open</th>\n      <th>high</th>\n      <th>low</th>\n      <th>close</th>\n      <th>volume</th>\n      <th>operatingProfitMargin</th>\n      <th>netProfitMargin</th>\n      <th>returnOnAssets</th>\n      <th>...</th>\n      <th>quickRatio</th>\n      <th>cashRatio</th>\n      <th>inventoryTurnover</th>\n      <th>receivablesTurnover</th>\n      <th>payablesTurnover</th>\n      <th>debtRatio</th>\n      <th>debtEquityRatio</th>\n      <th>priceEarningsRatio</th>\n      <th>priceBookValueRatio</th>\n      <th>dividendYield</th>\n    </tr>\n  </thead>\n  <tbody>\n    <tr>\n      <th>0</th>\n      <td>2008-03-20</td>\n      <td>DIS</td>\n      <td>31.280001</td>\n      <td>31.980000</td>\n      <td>31.250000</td>\n      <td>31.900000</td>\n      <td>13802300.0</td>\n      <td>0.21881766998700736</td>\n      <td>0.13902122130792552</td>\n      <td>0.020850248449222175</td>\n      <td>...</td>\n      <td>0.8225918916226715</td>\n      <td>0.2578942125709732</td>\n      <td>7.273185483870968</td>\n      <td>1.6292115011465866</td>\n      <td>1.3753335874952344</td>\n      <td>0.4476470397193985</td>\n      <td>0.8409957594801549</td>\n      <td>11.54205644470405</td>\n      <td>1.808474996186583</td>\n      <td>0</td>\n    </tr>\n    <tr>\n      <th>0</th>\n      <td>2008-03-20</td>\n      <td>UNH</td>\n      <td>35.729999</td>\n      <td>35.729999</td>\n      <td>34.840000</td>\n      <td>35.320000</td>\n      <td>12731500.0</td>\n      <td>0.03319850039463299</td>\n      <td>0.016623914759273876</td>\n      <td>0.006221385319745976</td>\n      <td>...</td>\n      <td>0.4222244458898284</td>\n      <td>0.263821483964577</td>\n      <td>0.0</td>\n      <td>8.626382978723404</td>\n      <td>0</td>\n      <td>0.6417811253876827</td>\n      <td>1.7915893630179345</td>\n      <td>23.67952522255193</td>\n      <td>1.645021645021645</td>\n      <td>0</td>\n    </tr>\n    <tr>\n      <th>0</th>\n      <td>2008-03-20</td>\n      <td>HON</td>\n      <td>52.606930</td>\n      <td>52.606930</td>\n      <td>51.005268</td>\n      <td>51.758431</td>\n      <td>12340441.0</td>\n      <td>0.10967541864792227</td>\n      <td>0.07473640686375853</td>\n      <td>0.019657956986323718</td>\n      <td>...</td>\n      <td>0.7566042365257217</td>\n      <td>0.18025680870205282</td>\n      <td>1.8330413016270337</td>\n      <td>1.372782744430254</td>\n      <td>1.7390168606031822</td>\n      <td>0.7210092715952038</td>\n      <td>2.5843485040444403</td>\n      <td>12.354489952725562</td>\n      <td>3.4820373202692063</td>\n      <td>0.005737606394476217</td>\n    </tr>\n    <tr>\n      <th>0</th>\n      <td>2008-03-20</td>\n      <td>TRV</td>\n      <td>46.470001</td>\n      <td>48.259998</td>\n      <td>46.259998</td>\n      <td>47.790001</td>\n      <td>6908900.0</td>\n      <td>0.0</td>\n      <td>0.14964257347100873</td>\n      <td>0.2121143886512047</td>\n      <td>...</td>\n      <td>0.23136199395324827</td>\n      <td>0.004043457955411351</td>\n      <td>0.0</td>\n      <td>0.48561289824886217</td>\n      <td>0</td>\n      <td>19.748254897545596</td>\n      <td>3.383173243837519</td>\n      <td>6.895854803091826</td>\n      <td>1.002336955524052</td>\n      <td>0.006927451635948628</td>\n    </tr>\n    <tr>\n      <th>0</th>\n      <td>2008-03-20</td>\n      <td>CVX</td>\n      <td>81.279999</td>\n      <td>84.070000</td>\n      <td>80.870003</td>\n      <td>83.209999</td>\n      <td>18373200.0</td>\n      <td>0.14176577618720554</td>\n      <td>0.07199749364373592</td>\n      <td>0.03664160523959624</td>\n      <td>...</td>\n      <td>0.9225880857674112</td>\n      <td>0.1925294796055264</td>\n      <td>9.670538377020875</td>\n      <td>2.7128567225654603</td>\n      <td>2.1070793433652533</td>\n      <td>0.49410668073050173</td>\n      <td>0.9793844508192736</td>\n      <td>8.505988366230666</td>\n      <td>2.4711081095068907</td>\n      <td>0.0065717914465864054</td>\n    </tr>\n    <tr>\n      <th>...</th>\n      <td>...</td>\n      <td>...</td>\n      <td>...</td>\n      <td>...</td>\n      <td>...</td>\n      <td>...</td>\n      <td>...</td>\n      <td>...</td>\n      <td>...</td>\n      <td>...</td>\n      <td>...</td>\n      <td>...</td>\n      <td>...</td>\n      <td>...</td>\n      <td>...</td>\n      <td>...</td>\n      <td>...</td>\n      <td>...</td>\n      <td>...</td>\n      <td>...</td>\n      <td>...</td>\n    </tr>\n    <tr>\n      <th>3713</th>\n      <td>2022-12-16</td>\n      <td>CAT</td>\n      <td>228.630000</td>\n      <td>233.220000</td>\n      <td>228.050000</td>\n      <td>232.720000</td>\n      <td>7610640.0</td>\n      <td>0.1617313592103508</td>\n      <td>0.13612111511271174</td>\n      <td>0.025226494617276628</td>\n      <td>...</td>\n      <td>0.775511555526124</td>\n      <td>0.2101185351963446</td>\n      <td>0.6140569395017793</td>\n      <td>0.8780744905130007</td>\n      <td>1.2533898305084745</td>\n      <td>0.8069141112635495</td>\n      <td>4.187351677249695</td>\n      <td>10.551445485668788</td>\n      <td>5.525110701366172</td>\n      <td>0.007348331743584158</td>\n    </tr>\n    <tr>\n      <th>3713</th>\n      <td>2022-12-16</td>\n      <td>CSCO</td>\n      <td>47.410000</td>\n      <td>48.000000</td>\n      <td>47.080000</td>\n      <td>47.810000</td>\n      <td>66126196.0</td>\n      <td>0.2596830985915493</td>\n      <td>0.19586267605633803</td>\n      <td>0.028693016957895414</td>\n      <td>...</td>\n      <td>1.1610700514138816</td>\n      <td>0.29289845758354754</td>\n      <td>1.9842342342342343</td>\n      <td>1.4944091208068406</td>\n      <td>2.2823834196891193</td>\n      <td>0.5672190341092269</td>\n      <td>1.3106376638855781</td>\n      <td>17.55516104868914</td>\n      <td>4.655570123162495</td>\n      <td>0.008320482809882516</td>\n    </tr>\n    <tr>\n      <th>3713</th>\n      <td>2022-12-16</td>\n      <td>WMT</td>\n      <td>144.480000</td>\n      <td>144.720000</td>\n      <td>142.570000</td>\n      <td>142.750000</td>\n      <td>13443780.0</td>\n      <td>0.017635934115552997</td>\n      <td>-0.011766014671526636</td>\n      <td>-0.007260070420260361</td>\n      <td>...</td>\n      <td>0.19530017355632692</td>\n      <td>0.1142612022720101</td>\n      <td>1.7867431150125181</td>\n      <td>18.59491360428328</td>\n      <td>2.018982589106404</td>\n      <td>0.6754247827631876</td>\n      <td>2.315101103068385</td>\n      <td>-53.65081130141824</td>\n      <td>5.3403545164878965</td>\n      <td>0.003936695297395082</td>\n    </tr>\n    <tr>\n      <th>3713</th>\n      <td>2022-12-16</td>\n      <td>JPM</td>\n      <td>129.150000</td>\n      <td>129.900000</td>\n      <td>128.425000</td>\n      <td>129.290000</td>\n      <td>15917668.0</td>\n      <td>0.0</td>\n      <td>0.29762195867465463</td>\n      <td>0.002580100501234272</td>\n      <td>...</td>\n      <td>0</td>\n      <td>0</td>\n      <td>0.0</td>\n      <td>0.2273444286161009</td>\n      <td>0</td>\n      <td>0.9236812790218247</td>\n      <td>12.102944954829212</td>\n      <td>7.945090890417993</td>\n      <td>1.0743960446916514</td>\n      <td>0.011026177800671784</td>\n    </tr>\n    <tr>\n      <th>3713</th>\n      <td>2022-12-16</td>\n      <td>AXP</td>\n      <td>148.590000</td>\n      <td>148.590000</td>\n      <td>144.150000</td>\n      <td>146.300000</td>\n      <td>4130931.0</td>\n      <td>0.0</td>\n      <td>0.13909245688059813</td>\n      <td>0.008742991415210665</td>\n      <td>...</td>\n      <td>0</td>\n      <td>0</td>\n      <td>0.0</td>\n      <td>0</td>\n      <td>0.0</td>\n      <td>0.8886071237465974</td>\n      <td>7.977234753550543</td>\n      <td>13.426381421979777</td>\n      <td>4.215233198312448</td>\n      <td>0.004033189771966654</td>\n    </tr>\n  </tbody>\n</table>\n<p>107706 rows × 22 columns</p>\n</div>"
     },
     "execution_count": 75,
     "metadata": {},
     "output_type": "execute_result"
    }
   ],
   "source": [
    "dataset"
   ],
   "metadata": {
    "collapsed": false
   }
  },
  {
   "cell_type": "code",
   "execution_count": 26,
   "outputs": [
    {
     "name": "stdout",
     "output_type": "stream",
     "text": [
      "2008-03-20\n",
      "2022-12-16\n"
     ]
    },
    {
     "data": {
      "text/plain": "            date   tic        open        high         low       close  \\\n0     2008-03-20   DIS   31.280001   31.980000   31.250000   31.900000   \n0     2008-03-20   MRK   41.593510   41.593510   40.076336   41.374046   \n0     2008-03-20   IBM  111.940727  113.269600  111.520073  113.126198   \n0     2008-03-20   MCD   53.950001   54.759998   53.700001   54.419998   \n0     2008-03-20  AMGN   40.160000   40.220001   39.160000   40.110001   \n...          ...   ...         ...         ...         ...         ...   \n2784  2019-04-11   WBA   54.590000   54.799999   53.320000   53.439999   \n2784  2019-04-11     V  159.110001  159.300003  157.440002  157.860001   \n2784  2019-04-11    HD  199.899994  201.500000  199.029999  201.479996   \n2784  2019-04-11   CVX  125.339996  126.260002  124.750000  125.989998   \n2784  2019-04-11   UNH  246.050003  246.919998  232.679993  235.419998   \n\n          volume operatingProfitMargin       netProfitMargin  \\\n0     13802300.0   0.21881766998700736   0.13902122130792552   \n0     17209522.0    0.2570805380217456   0.29219405796622494   \n0     11943123.0   0.11490564596225838    0.1056230422492169   \n0     13075600.0    0.2722828502296183    0.1959574012805952   \n0     17844400.0     0.313230605738576                  0.25   \n...          ...                   ...                   ...   \n2784   8194100.0   0.03477783238414617  0.029631985198462028   \n2784   5771400.0    0.6691780821917809    0.5309931506849315   \n2784   2465100.0    0.1363481293355066   0.09525795079792275   \n2784   3248300.0   0.10194642513008287   0.11851994603969937   \n2784   8223400.0   0.07904953926649226  0.054871444520353925   \n\n            returnOnAssets  ...           quickRatio             cashRatio  \\\n0     0.020850248449222175  ...   0.8225918916226715    0.2578942125709732   \n0      0.03726070694832218  ...     1.40292840532587    0.7557878706809623   \n0       0.0228648451971421  ...   0.8297339032741758   0.21542868652507666   \n0      0.03900554694590335  ...   1.1150006611133148    0.7743289699854555   \n0       0.0260946729153379  ...   1.9918953766807883    0.6247927795174065   \n...                    ...  ...                  ...                   ...   \n2784  0.014944740909223457  ...   0.3223463687150838  0.033479648842777335   \n2784   0.04414297712422953  ...   1.3294856404100102    0.7306307138239911   \n2784   0.04878190818208289  ...  0.21343973974482794   0.09566410816855589   \n2784  0.016824424139629042  ...   0.7962121474903743    0.2952929341982032   \n2784  0.019694976076555022  ...   0.5686689770247721   0.22052689000128353   \n\n        inventoryTurnover receivablesTurnover    payablesTurnover  \\\n0       7.273185483870968  1.6292115011465866  1.3753335874952344   \n0      0.6374965762804711  1.6593912805045243   2.630438877378037   \n0       5.221612349914237  0.9614367562802997   2.021112734032665   \n0       33.45351867940921   5.894915583155443   6.402560691719321   \n0     0.24133083411433928  1.6147576147576148  0.6740837696335078   \n...                   ...                 ...                 ...   \n2784   2.7484302207818514   4.778422434037851  1.9205944798301486   \n2784                  0.0   1.813664596273292                7.04   \n2784    1.120619554695063  11.385843763487268  1.6840267675298226   \n2784   3.6964311940079306  2.5254119446568866  1.7000337723741978   \n2784                  0.0   3.301953232462173  1.2299723938477718   \n\n                debtRatio      debtEquityRatio  priceEarningsRatio  \\\n0      0.4476470397193985   0.8409957594801549   11.54205644470405   \n0      0.5223916135489649    1.223904028436019  10.903727198135215   \n0      0.7662741465996296    3.278516841211435   13.99869448680199   \n0      0.5209378368549177    1.087411774361219   13.32775290942461   \n0     0.48606527827847257   0.9457724059785247  13.506503662167908   \n...                   ...                  ...                 ...   \n2784   0.6388329979879276   1.8155637508805371  10.949869800482928   \n2784   0.5018434426112828   1.0074010572938992  27.933608898806835   \n2784   1.0415995341162767  -25.038730751283246  21.865562613897733   \n2784   0.3846637850850796   0.6293487643466863  13.696622276987194   \n2784    0.665944976076555    2.096793024876184   17.46300633398117   \n\n      priceBookValueRatio         dividendYield  \n0       1.808474996186583                     0  \n0       3.807476462176639  0.010656830663198981  \n0        5.47783615284567  0.004424334040641282  \n0       4.340616577849209   0.00664284744150737  \n0      2.7431327785247936                     0  \n...                   ...                   ...  \n2784   1.8602936303808062  0.008976607459067159  \n2784    9.901085434513503  0.001630645821772223  \n2784  -102.56305898035464   0.00682006472740434  \n2784   1.5080778516558682  0.009539725799802423  \n2784    4.331633230348568  0.004451734170138264  \n\n[80765 rows x 22 columns]",
      "text/html": "<div>\n<style scoped>\n    .dataframe tbody tr th:only-of-type {\n        vertical-align: middle;\n    }\n\n    .dataframe tbody tr th {\n        vertical-align: top;\n    }\n\n    .dataframe thead th {\n        text-align: right;\n    }\n</style>\n<table border=\"1\" class=\"dataframe\">\n  <thead>\n    <tr style=\"text-align: right;\">\n      <th></th>\n      <th>date</th>\n      <th>tic</th>\n      <th>open</th>\n      <th>high</th>\n      <th>low</th>\n      <th>close</th>\n      <th>volume</th>\n      <th>operatingProfitMargin</th>\n      <th>netProfitMargin</th>\n      <th>returnOnAssets</th>\n      <th>...</th>\n      <th>quickRatio</th>\n      <th>cashRatio</th>\n      <th>inventoryTurnover</th>\n      <th>receivablesTurnover</th>\n      <th>payablesTurnover</th>\n      <th>debtRatio</th>\n      <th>debtEquityRatio</th>\n      <th>priceEarningsRatio</th>\n      <th>priceBookValueRatio</th>\n      <th>dividendYield</th>\n    </tr>\n  </thead>\n  <tbody>\n    <tr>\n      <th>0</th>\n      <td>2008-03-20</td>\n      <td>DIS</td>\n      <td>31.280001</td>\n      <td>31.980000</td>\n      <td>31.250000</td>\n      <td>31.900000</td>\n      <td>13802300.0</td>\n      <td>0.21881766998700736</td>\n      <td>0.13902122130792552</td>\n      <td>0.020850248449222175</td>\n      <td>...</td>\n      <td>0.8225918916226715</td>\n      <td>0.2578942125709732</td>\n      <td>7.273185483870968</td>\n      <td>1.6292115011465866</td>\n      <td>1.3753335874952344</td>\n      <td>0.4476470397193985</td>\n      <td>0.8409957594801549</td>\n      <td>11.54205644470405</td>\n      <td>1.808474996186583</td>\n      <td>0</td>\n    </tr>\n    <tr>\n      <th>0</th>\n      <td>2008-03-20</td>\n      <td>MRK</td>\n      <td>41.593510</td>\n      <td>41.593510</td>\n      <td>40.076336</td>\n      <td>41.374046</td>\n      <td>17209522.0</td>\n      <td>0.2570805380217456</td>\n      <td>0.29219405796622494</td>\n      <td>0.03726070694832218</td>\n      <td>...</td>\n      <td>1.40292840532587</td>\n      <td>0.7557878706809623</td>\n      <td>0.6374965762804711</td>\n      <td>1.6593912805045243</td>\n      <td>2.630438877378037</td>\n      <td>0.5223916135489649</td>\n      <td>1.223904028436019</td>\n      <td>10.903727198135215</td>\n      <td>3.807476462176639</td>\n      <td>0.010656830663198981</td>\n    </tr>\n    <tr>\n      <th>0</th>\n      <td>2008-03-20</td>\n      <td>IBM</td>\n      <td>111.940727</td>\n      <td>113.269600</td>\n      <td>111.520073</td>\n      <td>113.126198</td>\n      <td>11943123.0</td>\n      <td>0.11490564596225838</td>\n      <td>0.1056230422492169</td>\n      <td>0.0228648451971421</td>\n      <td>...</td>\n      <td>0.8297339032741758</td>\n      <td>0.21542868652507666</td>\n      <td>5.221612349914237</td>\n      <td>0.9614367562802997</td>\n      <td>2.021112734032665</td>\n      <td>0.7662741465996296</td>\n      <td>3.278516841211435</td>\n      <td>13.99869448680199</td>\n      <td>5.47783615284567</td>\n      <td>0.004424334040641282</td>\n    </tr>\n    <tr>\n      <th>0</th>\n      <td>2008-03-20</td>\n      <td>MCD</td>\n      <td>53.950001</td>\n      <td>54.759998</td>\n      <td>53.700001</td>\n      <td>54.419998</td>\n      <td>13075600.0</td>\n      <td>0.2722828502296183</td>\n      <td>0.1959574012805952</td>\n      <td>0.03900554694590335</td>\n      <td>...</td>\n      <td>1.1150006611133148</td>\n      <td>0.7743289699854555</td>\n      <td>33.45351867940921</td>\n      <td>5.894915583155443</td>\n      <td>6.402560691719321</td>\n      <td>0.5209378368549177</td>\n      <td>1.087411774361219</td>\n      <td>13.32775290942461</td>\n      <td>4.340616577849209</td>\n      <td>0.00664284744150737</td>\n    </tr>\n    <tr>\n      <th>0</th>\n      <td>2008-03-20</td>\n      <td>AMGN</td>\n      <td>40.160000</td>\n      <td>40.220001</td>\n      <td>39.160000</td>\n      <td>40.110001</td>\n      <td>17844400.0</td>\n      <td>0.313230605738576</td>\n      <td>0.25</td>\n      <td>0.0260946729153379</td>\n      <td>...</td>\n      <td>1.9918953766807883</td>\n      <td>0.6247927795174065</td>\n      <td>0.24133083411433928</td>\n      <td>1.6147576147576148</td>\n      <td>0.6740837696335078</td>\n      <td>0.48606527827847257</td>\n      <td>0.9457724059785247</td>\n      <td>13.506503662167908</td>\n      <td>2.7431327785247936</td>\n      <td>0</td>\n    </tr>\n    <tr>\n      <th>...</th>\n      <td>...</td>\n      <td>...</td>\n      <td>...</td>\n      <td>...</td>\n      <td>...</td>\n      <td>...</td>\n      <td>...</td>\n      <td>...</td>\n      <td>...</td>\n      <td>...</td>\n      <td>...</td>\n      <td>...</td>\n      <td>...</td>\n      <td>...</td>\n      <td>...</td>\n      <td>...</td>\n      <td>...</td>\n      <td>...</td>\n      <td>...</td>\n      <td>...</td>\n      <td>...</td>\n    </tr>\n    <tr>\n      <th>2784</th>\n      <td>2019-04-11</td>\n      <td>WBA</td>\n      <td>54.590000</td>\n      <td>54.799999</td>\n      <td>53.320000</td>\n      <td>53.439999</td>\n      <td>8194100.0</td>\n      <td>0.03477783238414617</td>\n      <td>0.029631985198462028</td>\n      <td>0.014944740909223457</td>\n      <td>...</td>\n      <td>0.3223463687150838</td>\n      <td>0.033479648842777335</td>\n      <td>2.7484302207818514</td>\n      <td>4.778422434037851</td>\n      <td>1.9205944798301486</td>\n      <td>0.6388329979879276</td>\n      <td>1.8155637508805371</td>\n      <td>10.949869800482928</td>\n      <td>1.8602936303808062</td>\n      <td>0.008976607459067159</td>\n    </tr>\n    <tr>\n      <th>2784</th>\n      <td>2019-04-11</td>\n      <td>V</td>\n      <td>159.110001</td>\n      <td>159.300003</td>\n      <td>157.440002</td>\n      <td>157.860001</td>\n      <td>5771400.0</td>\n      <td>0.6691780821917809</td>\n      <td>0.5309931506849315</td>\n      <td>0.04414297712422953</td>\n      <td>...</td>\n      <td>1.3294856404100102</td>\n      <td>0.7306307138239911</td>\n      <td>0.0</td>\n      <td>1.813664596273292</td>\n      <td>7.04</td>\n      <td>0.5018434426112828</td>\n      <td>1.0074010572938992</td>\n      <td>27.933608898806835</td>\n      <td>9.901085434513503</td>\n      <td>0.001630645821772223</td>\n    </tr>\n    <tr>\n      <th>2784</th>\n      <td>2019-04-11</td>\n      <td>HD</td>\n      <td>199.899994</td>\n      <td>201.500000</td>\n      <td>199.029999</td>\n      <td>201.479996</td>\n      <td>2465100.0</td>\n      <td>0.1363481293355066</td>\n      <td>0.09525795079792275</td>\n      <td>0.04878190818208289</td>\n      <td>...</td>\n      <td>0.21343973974482794</td>\n      <td>0.09566410816855589</td>\n      <td>1.120619554695063</td>\n      <td>11.385843763487268</td>\n      <td>1.6840267675298226</td>\n      <td>1.0415995341162767</td>\n      <td>-25.038730751283246</td>\n      <td>21.865562613897733</td>\n      <td>-102.56305898035464</td>\n      <td>0.00682006472740434</td>\n    </tr>\n    <tr>\n      <th>2784</th>\n      <td>2019-04-11</td>\n      <td>CVX</td>\n      <td>125.339996</td>\n      <td>126.260002</td>\n      <td>124.750000</td>\n      <td>125.989998</td>\n      <td>3248300.0</td>\n      <td>0.10194642513008287</td>\n      <td>0.11851994603969937</td>\n      <td>0.016824424139629042</td>\n      <td>...</td>\n      <td>0.7962121474903743</td>\n      <td>0.2952929341982032</td>\n      <td>3.6964311940079306</td>\n      <td>2.5254119446568866</td>\n      <td>1.7000337723741978</td>\n      <td>0.3846637850850796</td>\n      <td>0.6293487643466863</td>\n      <td>13.696622276987194</td>\n      <td>1.5080778516558682</td>\n      <td>0.009539725799802423</td>\n    </tr>\n    <tr>\n      <th>2784</th>\n      <td>2019-04-11</td>\n      <td>UNH</td>\n      <td>246.050003</td>\n      <td>246.919998</td>\n      <td>232.679993</td>\n      <td>235.419998</td>\n      <td>8223400.0</td>\n      <td>0.07904953926649226</td>\n      <td>0.054871444520353925</td>\n      <td>0.019694976076555022</td>\n      <td>...</td>\n      <td>0.5686689770247721</td>\n      <td>0.22052689000128353</td>\n      <td>0.0</td>\n      <td>3.301953232462173</td>\n      <td>1.2299723938477718</td>\n      <td>0.665944976076555</td>\n      <td>2.096793024876184</td>\n      <td>17.46300633398117</td>\n      <td>4.331633230348568</td>\n      <td>0.004451734170138264</td>\n    </tr>\n  </tbody>\n</table>\n<p>80765 rows × 22 columns</p>\n</div>"
     },
     "execution_count": 26,
     "metadata": {},
     "output_type": "execute_result"
    }
   ],
   "source": [
    "print(dataset[\"date\"].min())\n",
    "print(dataset[\"date\"].max())\n",
    "\n",
    "date_split = dataset.iloc[dataset.index.size // 4 * 3][\"date\"]\n",
    "dataset[dataset[\"date\"] < date_split]"
   ],
   "metadata": {
    "collapsed": false
   }
  },
  {
   "cell_type": "code",
   "execution_count": 76,
   "outputs": [],
   "source": [
    "from rl.experiments._1_same_bigger_data_fundamental.train import dataset_name\n",
    "\n",
    "dataset.to_csv(exp_dir.out.datasets.joinpath(dataset_name).with_suffix(\".csv\"))"
   ],
   "metadata": {
    "collapsed": false
   }
  }
 ],
 "metadata": {
  "colab": {
   "collapsed_sections": [
    "_gDkU-j-fCmZ",
    "MRiOtrywfAo1",
    "3Zpv4S0-fDBv",
    "Dr49PotrfG01"
   ],
   "name": "Stock_Fundamental.ipynb",
   "provenance": []
  },
  "gpuClass": "standard",
  "kernelspec": {
   "display_name": "Python 3.10.8 ('venv3.10': venv)",
   "language": "python",
   "name": "python3"
  },
  "language_info": {
   "codemirror_mode": {
    "name": "ipython",
    "version": 3
   },
   "file_extension": ".py",
   "mimetype": "text/x-python",
   "name": "python",
   "nbconvert_exporter": "python",
   "pygments_lexer": "ipython3",
   "version": "3.10.8"
  },
  "vscode": {
   "interpreter": {
    "hash": "32c0c8ab8a6b580687c5ec847b855eb3ee7063ee446f183d34922604f3e580fd"
   }
  }
 },
 "nbformat": 4,
 "nbformat_minor": 0
}
