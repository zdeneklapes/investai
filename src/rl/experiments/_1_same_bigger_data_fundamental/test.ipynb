{
 "cells": [
  {
   "cell_type": "code",
   "execution_count": 8,
   "outputs": [
    {
     "data": {
      "text/plain": "<module 'test' from '/Users/zlapik/my-drive-zlapik/0-todo/ai-investing/src/rl/experiments/_1_same_bigger_data_fundamental/test.py'>"
     },
     "execution_count": 8,
     "metadata": {},
     "output_type": "execute_result"
    }
   ],
   "source": [
    "import test as t\n",
    "from importlib import reload\n",
    "from rl.experiments.common.classes import TestProgram\n",
    "\n",
    "reload(t)"
   ],
   "metadata": {
    "collapsed": false
   }
  },
  {
   "cell_type": "code",
   "execution_count": 2,
   "outputs": [],
   "source": [
    "t.ignore_warnings()"
   ],
   "metadata": {
    "collapsed": false
   }
  },
  {
   "cell_type": "code",
   "execution_count": 3,
   "outputs": [],
   "source": [
    "program = t.init_program()"
   ],
   "metadata": {
    "collapsed": false
   }
  },
  {
   "cell_type": "code",
   "execution_count": 27,
   "outputs": [
    {
     "name": "stdout",
     "output_type": "stream",
     "text": [
      "Stock Dimension: 29, State Space: 494\n",
      "hit end!\n",
      "Stock Dimension: 29, State Space: 494\n",
      "hit end!\n",
      "Stock Dimension: 29, State Space: 494\n",
      "hit end!\n",
      "Stock Dimension: 29, State Space: 494\n",
      "hit end!\n",
      "Stock Dimension: 29, State Space: 494\n",
      "hit end!\n",
      "Stock Dimension: 29, State Space: 494\n",
      "hit end!\n",
      "Stock Dimension: 29, State Space: 494\n",
      "hit end!\n",
      "Stock Dimension: 29, State Space: 494\n",
      "hit end!\n",
      "Stock Dimension: 29, State Space: 494\n",
      "hit end!\n",
      "Stock Dimension: 29, State Space: 494\n",
      "hit end!\n",
      "Stock Dimension: 29, State Space: 494\n",
      "hit end!\n",
      "Stock Dimension: 29, State Space: 494\n",
      "hit end!\n",
      "Stock Dimension: 29, State Space: 494\n",
      "hit end!\n",
      "Stock Dimension: 29, State Space: 494\n",
      "hit end!\n",
      "Stock Dimension: 29, State Space: 494\n",
      "hit end!\n",
      "Stock Dimension: 29, State Space: 494\n",
      "hit end!\n",
      "Stock Dimension: 29, State Space: 494\n",
      "hit end!\n",
      "Stock Dimension: 29, State Space: 494\n",
      "hit end!\n",
      "Stock Dimension: 29, State Space: 494\n",
      "hit end!\n",
      "Stock Dimension: 29, State Space: 494\n",
      "hit end!\n",
      "Stock Dimension: 29, State Space: 494\n",
      "hit end!\n",
      "Stock Dimension: 29, State Space: 494\n",
      "hit end!\n",
      "Stock Dimension: 29, State Space: 494\n"
     ]
    },
    {
     "name": "stderr",
     "output_type": "stream",
     "text": [
      "\n",
      "KeyboardInterrupt\n",
      "\n"
     ]
    }
   ],
   "source": [
    "algos = t.get_learned_algos(program)\n",
    "t.predicate(program)"
   ],
   "metadata": {
    "collapsed": false
   }
  },
  {
   "cell_type": "code",
   "execution_count": 12,
   "outputs": [],
   "source": [
    "import attr\n",
    "\n",
    "prg_fields = attr.asdict(program)\n",
    "del prg_fields[\"dataset\"]"
   ],
   "metadata": {
    "collapsed": false
   }
  },
  {
   "cell_type": "code",
   "execution_count": 13,
   "outputs": [],
   "source": [
    "#\n",
    "tp = TestProgram(**prg_fields, algos=t.get_learned_algos(program))"
   ],
   "metadata": {
    "collapsed": false
   }
  },
  {
   "cell_type": "code",
   "execution_count": 4,
   "outputs": [
    {
     "ename": "NameError",
     "evalue": "name 'tp' is not defined",
     "output_type": "error",
     "traceback": [
      "\u001B[0;31m---------------------------------------------------------------------------\u001B[0m",
      "\u001B[0;31mNameError\u001B[0m                                 Traceback (most recent call last)",
      "Cell \u001B[0;32mIn[4], line 1\u001B[0m\n\u001B[0;32m----> 1\u001B[0m \u001B[43mtp\u001B[49m\u001B[38;5;241m.\u001B[39m\u001B[38;5;21m__init__\u001B[39m\u001B[38;5;241m.\u001B[39m\u001B[38;5;18m__code__\u001B[39m\u001B[38;5;241m.\u001B[39mco_varnames\n",
      "\u001B[0;31mNameError\u001B[0m: name 'tp' is not defined"
     ]
    }
   ],
   "source": [
    "tp.__init__.__code__.co_varnames"
   ],
   "metadata": {
    "collapsed": false
   }
  },
  {
   "cell_type": "code",
   "execution_count": 11,
   "outputs": [
    {
     "data": {
      "text/plain": "5"
     },
     "execution_count": 11,
     "metadata": {},
     "output_type": "execute_result"
    }
   ],
   "source": [
    "program.__dict__.__len__()"
   ],
   "metadata": {
    "collapsed": false
   }
  },
  {
   "cell_type": "code",
   "execution_count": 3,
   "outputs": [
    {
     "name": "stdout",
     "output_type": "stream",
     "text": [
      "Stock Dimension: 29, State Space: 494\n",
      "hit end!\n",
      "Stock Dimension: 29, State Space: 494\n",
      "hit end!\n",
      "Stock Dimension: 29, State Space: 494\n",
      "hit end!\n",
      "Stock Dimension: 29, State Space: 494\n",
      "hit end!\n",
      "Stock Dimension: 29, State Space: 494\n",
      "hit end!\n",
      "Stock Dimension: 29, State Space: 494\n",
      "hit end!\n",
      "Stock Dimension: 29, State Space: 494\n",
      "hit end!\n",
      "Stock Dimension: 29, State Space: 494\n",
      "hit end!\n",
      "Stock Dimension: 29, State Space: 494\n",
      "hit end!\n",
      "Stock Dimension: 29, State Space: 494\n",
      "hit end!\n",
      "Stock Dimension: 29, State Space: 494\n",
      "hit end!\n",
      "Stock Dimension: 29, State Space: 494\n",
      "hit end!\n",
      "Stock Dimension: 29, State Space: 494\n",
      "hit end!\n",
      "Stock Dimension: 29, State Space: 494\n",
      "hit end!\n",
      "Stock Dimension: 29, State Space: 494\n",
      "hit end!\n",
      "Stock Dimension: 29, State Space: 494\n",
      "hit end!\n",
      "Stock Dimension: 29, State Space: 494\n",
      "hit end!\n",
      "Stock Dimension: 29, State Space: 494\n",
      "hit end!\n",
      "Stock Dimension: 29, State Space: 494\n",
      "hit end!\n",
      "Stock Dimension: 29, State Space: 494\n",
      "hit end!\n",
      "Stock Dimension: 29, State Space: 494\n",
      "hit end!\n",
      "Stock Dimension: 29, State Space: 494\n",
      "hit end!\n",
      "Stock Dimension: 29, State Space: 494\n",
      "hit end!\n",
      "Stock Dimension: 29, State Space: 494\n",
      "hit end!\n"
     ]
    },
    {
     "data": {
      "text/plain": "[LearnedAlgorithm(algorithm='a2c', filename=PosixPath('/Users/zlapik/my-drive-zlapik/0-todo/ai-investing/src/rl/experiments/_1_same_bigger_data_fundamental/out/algorithms/a2c_2022-12-20T13-16-18_10000.zip'), learned_algorithm=<stable_baselines3.a2c.a2c.A2C object at 0x159f7f100>),\n LearnedAlgorithm(algorithm='a2c', filename=PosixPath('/Users/zlapik/my-drive-zlapik/0-todo/ai-investing/src/rl/experiments/_1_same_bigger_data_fundamental/out/algorithms/a2c_2022-12-20T13-16-18_120000.zip'), learned_algorithm=<stable_baselines3.a2c.a2c.A2C object at 0x1079d31f0>),\n LearnedAlgorithm(algorithm='a2c', filename=PosixPath('/Users/zlapik/my-drive-zlapik/0-todo/ai-investing/src/rl/experiments/_1_same_bigger_data_fundamental/out/algorithms/a2c_2022-12-20T13-16-18_80000.zip'), learned_algorithm=<stable_baselines3.a2c.a2c.A2C object at 0x1079ae380>),\n LearnedAlgorithm(algorithm='a2c', filename=PosixPath('/Users/zlapik/my-drive-zlapik/0-todo/ai-investing/src/rl/experiments/_1_same_bigger_data_fundamental/out/algorithms/a2c_2022-12-18T21-09-41.zip'), learned_algorithm=<stable_baselines3.a2c.a2c.A2C object at 0x15a01d8d0>),\n LearnedAlgorithm(algorithm='a2c', filename=PosixPath('/Users/zlapik/my-drive-zlapik/0-todo/ai-investing/src/rl/experiments/_1_same_bigger_data_fundamental/out/algorithms/a2c_2022-12-20T13-16-18_90000.zip'), learned_algorithm=<stable_baselines3.a2c.a2c.A2C object at 0x15a01df60>),\n LearnedAlgorithm(algorithm='a2c', filename=PosixPath('/Users/zlapik/my-drive-zlapik/0-todo/ai-investing/src/rl/experiments/_1_same_bigger_data_fundamental/out/algorithms/a2c_2022-12-20T13-16-18_130000.zip'), learned_algorithm=<stable_baselines3.a2c.a2c.A2C object at 0x15a01e3b0>),\n LearnedAlgorithm(algorithm='a2c', filename=PosixPath('/Users/zlapik/my-drive-zlapik/0-todo/ai-investing/src/rl/experiments/_1_same_bigger_data_fundamental/out/algorithms/a2c_2022-12-20T13-16-18_180000.zip'), learned_algorithm=<stable_baselines3.a2c.a2c.A2C object at 0x15a01ea70>),\n LearnedAlgorithm(algorithm='a2c', filename=PosixPath('/Users/zlapik/my-drive-zlapik/0-todo/ai-investing/src/rl/experiments/_1_same_bigger_data_fundamental/out/algorithms/a2c_2022-12-20T13-16-18_20000.zip'), learned_algorithm=<stable_baselines3.a2c.a2c.A2C object at 0x15a01ee90>),\n LearnedAlgorithm(algorithm='a2c', filename=PosixPath('/Users/zlapik/my-drive-zlapik/0-todo/ai-investing/src/rl/experiments/_1_same_bigger_data_fundamental/out/algorithms/a2c_2022-12-20T13-16-18_110000.zip'), learned_algorithm=<stable_baselines3.a2c.a2c.A2C object at 0x15a01f550>),\n LearnedAlgorithm(algorithm='a2c', filename=PosixPath('/Users/zlapik/my-drive-zlapik/0-todo/ai-investing/src/rl/experiments/_1_same_bigger_data_fundamental/out/algorithms/a2c_2022-12-20T13-16-18_30000.zip'), learned_algorithm=<stable_baselines3.a2c.a2c.A2C object at 0x15a01f9a0>),\n LearnedAlgorithm(algorithm='a2c', filename=PosixPath('/Users/zlapik/my-drive-zlapik/0-todo/ai-investing/src/rl/experiments/_1_same_bigger_data_fundamental/out/algorithms/a2c_2022-12-20T13-16-18_100000.zip'), learned_algorithm=<stable_baselines3.a2c.a2c.A2C object at 0x15a01ffa0>),\n LearnedAlgorithm(algorithm='a2c', filename=PosixPath('/Users/zlapik/my-drive-zlapik/0-todo/ai-investing/src/rl/experiments/_1_same_bigger_data_fundamental/out/algorithms/a2c_2022-12-20T13-16-18_190000.zip'), learned_algorithm=<stable_baselines3.a2c.a2c.A2C object at 0x15a01feb0>),\n LearnedAlgorithm(algorithm='a2c', filename=PosixPath('/Users/zlapik/my-drive-zlapik/0-todo/ai-investing/src/rl/experiments/_1_same_bigger_data_fundamental/out/algorithms/a2c_2022-12-20T13-16-18_150000.zip'), learned_algorithm=<stable_baselines3.a2c.a2c.A2C object at 0x15a01edd0>),\n LearnedAlgorithm(algorithm='a2c', filename=PosixPath('/Users/zlapik/my-drive-zlapik/0-todo/ai-investing/src/rl/experiments/_1_same_bigger_data_fundamental/out/algorithms/a2c_2022-12-20T13-16-18_60000.zip'), learned_algorithm=<stable_baselines3.a2c.a2c.A2C object at 0x15a0b9000>),\n LearnedAlgorithm(algorithm='a2c', filename=PosixPath('/Users/zlapik/my-drive-zlapik/0-todo/ai-investing/src/rl/experiments/_1_same_bigger_data_fundamental/out/algorithms/a2c_2022-12-20T13-16-18_140000.zip'), learned_algorithm=<stable_baselines3.a2c.a2c.A2C object at 0x15a0b9750>),\n LearnedAlgorithm(algorithm='a2c', filename=PosixPath('/Users/zlapik/my-drive-zlapik/0-todo/ai-investing/src/rl/experiments/_1_same_bigger_data_fundamental/out/algorithms/a2c_2022-12-20T13-16-18_70000.zip'), learned_algorithm=<stable_baselines3.a2c.a2c.A2C object at 0x15a0b9c30>),\n LearnedAlgorithm(algorithm='a2c', filename=PosixPath('/Users/zlapik/my-drive-zlapik/0-todo/ai-investing/src/rl/experiments/_1_same_bigger_data_fundamental/out/algorithms/a2c_2022-12-20T13-16-18_160000.zip'), learned_algorithm=<stable_baselines3.a2c.a2c.A2C object at 0x15a0ba3b0>),\n LearnedAlgorithm(algorithm='a2c', filename=PosixPath('/Users/zlapik/my-drive-zlapik/0-todo/ai-investing/src/rl/experiments/_1_same_bigger_data_fundamental/out/algorithms/a2c_2022-12-20T13-16-18_50000.zip'), learned_algorithm=<stable_baselines3.a2c.a2c.A2C object at 0x15a0ba890>),\n LearnedAlgorithm(algorithm='a2c', filename=PosixPath('/Users/zlapik/my-drive-zlapik/0-todo/ai-investing/src/rl/experiments/_1_same_bigger_data_fundamental/out/algorithms/a2c_2022-12-20T12-20-18_500.zip'), learned_algorithm=<stable_baselines3.a2c.a2c.A2C object at 0x15a0bb010>),\n LearnedAlgorithm(algorithm='a2c', filename=PosixPath('/Users/zlapik/my-drive-zlapik/0-todo/ai-investing/src/rl/experiments/_1_same_bigger_data_fundamental/out/algorithms/a2c_2022-12-18T21-12-41.zip'), learned_algorithm=<stable_baselines3.a2c.a2c.A2C object at 0x15a0bb4f0>),\n LearnedAlgorithm(algorithm='a2c', filename=PosixPath('/Users/zlapik/my-drive-zlapik/0-todo/ai-investing/src/rl/experiments/_1_same_bigger_data_fundamental/out/algorithms/a2c_2022-12-20T13-16-18_200000.zip'), learned_algorithm=<stable_baselines3.a2c.a2c.A2C object at 0x15a0bbc70>),\n LearnedAlgorithm(algorithm='a2c', filename=PosixPath('/Users/zlapik/my-drive-zlapik/0-todo/ai-investing/src/rl/experiments/_1_same_bigger_data_fundamental/out/algorithms/a2c_2022-12-18T21-11-15.zip'), learned_algorithm=<stable_baselines3.a2c.a2c.A2C object at 0x15a0bbeb0>),\n LearnedAlgorithm(algorithm='a2c', filename=PosixPath('/Users/zlapik/my-drive-zlapik/0-todo/ai-investing/src/rl/experiments/_1_same_bigger_data_fundamental/out/algorithms/a2c_2022-12-20T13-16-18_170000.zip'), learned_algorithm=<stable_baselines3.a2c.a2c.A2C object at 0x15a0bb280>),\n LearnedAlgorithm(algorithm='a2c', filename=PosixPath('/Users/zlapik/my-drive-zlapik/0-todo/ai-investing/src/rl/experiments/_1_same_bigger_data_fundamental/out/algorithms/a2c_2022-12-20T13-16-18_40000.zip'), learned_algorithm=<stable_baselines3.a2c.a2c.A2C object at 0x15a0b86a0>)]"
     },
     "execution_count": 3,
     "metadata": {},
     "output_type": "execute_result"
    }
   ],
   "source": [
    "t.predicate(program, algos)"
   ],
   "metadata": {
    "collapsed": false
   }
  },
  {
   "cell_type": "code",
   "execution_count": 4,
   "outputs": [
    {
     "ename": "NameError",
     "evalue": "name 'metric' is not defined",
     "output_type": "error",
     "traceback": [
      "\u001B[0;31m---------------------------------------------------------------------------\u001B[0m",
      "\u001B[0;31mNameError\u001B[0m                                 Traceback (most recent call last)",
      "Cell \u001B[0;32mIn[4], line 3\u001B[0m\n\u001B[1;32m      1\u001B[0m \u001B[38;5;66;03m#\u001B[39;00m\n\u001B[1;32m      2\u001B[0m t\u001B[38;5;241m.\u001B[39mcalc_performance_statistics(algos)\n\u001B[0;32m----> 3\u001B[0m sorted_list \u001B[38;5;241m=\u001B[39m \u001B[38;5;28;43msorted\u001B[39;49m\u001B[43m(\u001B[49m\u001B[43malgos\u001B[49m\u001B[43m,\u001B[49m\u001B[43m \u001B[49m\u001B[43mkey\u001B[49m\u001B[38;5;241;43m=\u001B[39;49m\u001B[38;5;28;43;01mlambda\u001B[39;49;00m\u001B[43m \u001B[49m\u001B[43mx\u001B[49m\u001B[43m:\u001B[49m\u001B[43m \u001B[49m\u001B[43mx\u001B[49m\u001B[38;5;241;43m.\u001B[39;49m\u001B[43mperf_stats_all\u001B[49m\u001B[38;5;241;43m.\u001B[39;49m\u001B[43mloc\u001B[49m\u001B[43m[\u001B[49m\u001B[43mmetric\u001B[49m\u001B[43m]\u001B[49m\u001B[43m[\u001B[49m\u001B[38;5;241;43m0\u001B[39;49m\u001B[43m]\u001B[49m\u001B[43m)\u001B[49m\n\u001B[1;32m      5\u001B[0m \u001B[38;5;66;03m#\u001B[39;00m\n\u001B[1;32m      6\u001B[0m start_end \u001B[38;5;241m=\u001B[39m t\u001B[38;5;241m.\u001B[39mget_start_end(program)\n",
      "Cell \u001B[0;32mIn[4], line 3\u001B[0m, in \u001B[0;36m<lambda>\u001B[0;34m(x)\u001B[0m\n\u001B[1;32m      1\u001B[0m \u001B[38;5;66;03m#\u001B[39;00m\n\u001B[1;32m      2\u001B[0m t\u001B[38;5;241m.\u001B[39mcalc_performance_statistics(algos)\n\u001B[0;32m----> 3\u001B[0m sorted_list \u001B[38;5;241m=\u001B[39m \u001B[38;5;28msorted\u001B[39m(algos, key\u001B[38;5;241m=\u001B[39m\u001B[38;5;28;01mlambda\u001B[39;00m x: x\u001B[38;5;241m.\u001B[39mperf_stats_all\u001B[38;5;241m.\u001B[39mloc[\u001B[43mmetric\u001B[49m][\u001B[38;5;241m0\u001B[39m])\n\u001B[1;32m      5\u001B[0m \u001B[38;5;66;03m#\u001B[39;00m\n\u001B[1;32m      6\u001B[0m start_end \u001B[38;5;241m=\u001B[39m t\u001B[38;5;241m.\u001B[39mget_start_end(program)\n",
      "\u001B[0;31mNameError\u001B[0m: name 'metric' is not defined"
     ]
    }
   ],
   "source": [
    "#\n",
    "t.calc_performance_statistics(algos)\n",
    "\n",
    "#\n",
    "start_end = t.get_start_end(program)\n",
    "print(f\"Start: {start_end['start']}  -  End: {start_end['end']}\")"
   ],
   "metadata": {
    "collapsed": false
   }
  },
  {
   "cell_type": "code",
   "execution_count": 22,
   "outputs": [
    {
     "ename": "KeyError",
     "evalue": "'account_value'",
     "output_type": "error",
     "traceback": [
      "\u001B[0;31m---------------------------------------------------------------------------\u001B[0m",
      "\u001B[0;31mKeyError\u001B[0m                                  Traceback (most recent call last)",
      "File \u001B[0;32m~/my-drive-zlapik/0-todo/ai-investing/venv3.10/lib/python3.10/site-packages/pandas/core/indexes/base.py:3803\u001B[0m, in \u001B[0;36mIndex.get_loc\u001B[0;34m(self, key, method, tolerance)\u001B[0m\n\u001B[1;32m   3802\u001B[0m \u001B[38;5;28;01mtry\u001B[39;00m:\n\u001B[0;32m-> 3803\u001B[0m     \u001B[38;5;28;01mreturn\u001B[39;00m \u001B[38;5;28;43mself\u001B[39;49m\u001B[38;5;241;43m.\u001B[39;49m\u001B[43m_engine\u001B[49m\u001B[38;5;241;43m.\u001B[39;49m\u001B[43mget_loc\u001B[49m\u001B[43m(\u001B[49m\u001B[43mcasted_key\u001B[49m\u001B[43m)\u001B[49m\n\u001B[1;32m   3804\u001B[0m \u001B[38;5;28;01mexcept\u001B[39;00m \u001B[38;5;167;01mKeyError\u001B[39;00m \u001B[38;5;28;01mas\u001B[39;00m err:\n",
      "File \u001B[0;32m~/my-drive-zlapik/0-todo/ai-investing/venv3.10/lib/python3.10/site-packages/pandas/_libs/index.pyx:138\u001B[0m, in \u001B[0;36mpandas._libs.index.IndexEngine.get_loc\u001B[0;34m()\u001B[0m\n",
      "File \u001B[0;32m~/my-drive-zlapik/0-todo/ai-investing/venv3.10/lib/python3.10/site-packages/pandas/_libs/index.pyx:165\u001B[0m, in \u001B[0;36mpandas._libs.index.IndexEngine.get_loc\u001B[0;34m()\u001B[0m\n",
      "File \u001B[0;32mpandas/_libs/hashtable_class_helper.pxi:5745\u001B[0m, in \u001B[0;36mpandas._libs.hashtable.PyObjectHashTable.get_item\u001B[0;34m()\u001B[0m\n",
      "File \u001B[0;32mpandas/_libs/hashtable_class_helper.pxi:5753\u001B[0m, in \u001B[0;36mpandas._libs.hashtable.PyObjectHashTable.get_item\u001B[0;34m()\u001B[0m\n",
      "\u001B[0;31mKeyError\u001B[0m: 'account_value'",
      "\nThe above exception was the direct cause of the following exception:\n",
      "\u001B[0;31mKeyError\u001B[0m                                  Traceback (most recent call last)",
      "Cell \u001B[0;32mIn[22], line 1\u001B[0m\n\u001B[0;32m----> 1\u001B[0m \u001B[43mt\u001B[49m\u001B[38;5;241;43m.\u001B[39;49m\u001B[43mcalc_performance_statistics\u001B[49m\u001B[43m(\u001B[49m\u001B[43malgos\u001B[49m\u001B[43m)\u001B[49m\n\u001B[1;32m      2\u001B[0m \u001B[38;5;66;03m# start_end = t.get_start_end(program.dataset)\u001B[39;00m\n\u001B[1;32m      3\u001B[0m \u001B[38;5;66;03m# baseline = t.Baseline(ticker=\"SPY\", start=start_end[\"start\"], end=start_end[\"end\"])\u001B[39;00m\n\u001B[1;32m      4\u001B[0m \u001B[38;5;66;03m# sorted_list = sorted(algos, key=lambda x: x.perf_stats_all.loc[metric][0])\u001B[39;00m\n\u001B[1;32m      5\u001B[0m \u001B[38;5;66;03m# compare = t.CompareAlgoBaseline(algos=sorted_list, baseline=baseline)\u001B[39;00m\n\u001B[1;32m      6\u001B[0m \u001B[38;5;66;03m# compare.plot_baseline()\u001B[39;00m\n",
      "File \u001B[0;32m~/my-drive-zlapik/0-todo/ai-investing/src/rl/experiments/_1_same_bigger_data_fundamental/test.py:82\u001B[0m, in \u001B[0;36mcalc_performance_statistics\u001B[0;34m(algos)\u001B[0m\n\u001B[1;32m     80\u001B[0m \u001B[38;5;28;01mdef\u001B[39;00m \u001B[38;5;21mcalc_performance_statistics\u001B[39m(algos: List[LearnedAlgorithm]):\n\u001B[1;32m     81\u001B[0m     \u001B[38;5;28;01mfor\u001B[39;00m algo \u001B[38;5;129;01min\u001B[39;00m algos:\n\u001B[0;32m---> 82\u001B[0m         perf_stats_all \u001B[38;5;241m=\u001B[39m \u001B[43mbacktest_stats\u001B[49m\u001B[43m(\u001B[49m\u001B[43maccount_value\u001B[49m\u001B[38;5;241;43m=\u001B[39;49m\u001B[43malgo\u001B[49m\u001B[38;5;241;43m.\u001B[39;49m\u001B[43mdf_account_value\u001B[49m\u001B[43m,\u001B[49m\u001B[43m \u001B[49m\u001B[43mvalue_col_name\u001B[49m\u001B[38;5;241;43m=\u001B[39;49m\u001B[38;5;124;43m\"\u001B[39;49m\u001B[38;5;124;43maccount_value\u001B[39;49m\u001B[38;5;124;43m\"\u001B[39;49m\u001B[43m)\u001B[49m\n\u001B[1;32m     83\u001B[0m         algo\u001B[38;5;241m.\u001B[39mperf_stats_all \u001B[38;5;241m=\u001B[39m pd\u001B[38;5;241m.\u001B[39mDataFrame(perf_stats_all)\n",
      "File \u001B[0;32m~/my-drive-zlapik/0-todo/ai-investing/src/rl/experiments/_1_same_bigger_data_fundamental/../../../rl/plot/plot.py:34\u001B[0m, in \u001B[0;36mbacktest_stats\u001B[0;34m(account_value, value_col_name)\u001B[0m\n\u001B[1;32m     33\u001B[0m \u001B[38;5;28;01mdef\u001B[39;00m \u001B[38;5;21mbacktest_stats\u001B[39m(account_value, value_col_name\u001B[38;5;241m=\u001B[39m\u001B[38;5;124m\"\u001B[39m\u001B[38;5;124maccount_value\u001B[39m\u001B[38;5;124m\"\u001B[39m):\n\u001B[0;32m---> 34\u001B[0m     dr_test \u001B[38;5;241m=\u001B[39m \u001B[43mget_daily_return\u001B[49m\u001B[43m(\u001B[49m\u001B[43maccount_value\u001B[49m\u001B[43m,\u001B[49m\u001B[43m \u001B[49m\u001B[43mvalue_col_name\u001B[49m\u001B[38;5;241;43m=\u001B[39;49m\u001B[43mvalue_col_name\u001B[49m\u001B[43m)\u001B[49m\n\u001B[1;32m     35\u001B[0m     perf_stats_all \u001B[38;5;241m=\u001B[39m timeseries\u001B[38;5;241m.\u001B[39mperf_stats(\n\u001B[1;32m     36\u001B[0m         returns\u001B[38;5;241m=\u001B[39mdr_test,\n\u001B[1;32m     37\u001B[0m         positions\u001B[38;5;241m=\u001B[39m\u001B[38;5;28;01mNone\u001B[39;00m,\n\u001B[1;32m     38\u001B[0m         transactions\u001B[38;5;241m=\u001B[39m\u001B[38;5;28;01mNone\u001B[39;00m,\n\u001B[1;32m     39\u001B[0m         turnover_denom\u001B[38;5;241m=\u001B[39m\u001B[38;5;124m\"\u001B[39m\u001B[38;5;124mAGB\u001B[39m\u001B[38;5;124m\"\u001B[39m,\n\u001B[1;32m     40\u001B[0m     )\n\u001B[1;32m     41\u001B[0m     \u001B[38;5;66;03m# print(perf_stats_all)\u001B[39;00m\n",
      "File \u001B[0;32m~/my-drive-zlapik/0-todo/ai-investing/src/rl/experiments/_1_same_bigger_data_fundamental/../../../rl/plot/plot.py:17\u001B[0m, in \u001B[0;36mget_daily_return\u001B[0;34m(df, value_col_name)\u001B[0m\n\u001B[1;32m     15\u001B[0m \u001B[38;5;28;01mdef\u001B[39;00m \u001B[38;5;21mget_daily_return\u001B[39m(df, value_col_name\u001B[38;5;241m=\u001B[39m\u001B[38;5;124m\"\u001B[39m\u001B[38;5;124maccount_value\u001B[39m\u001B[38;5;124m\"\u001B[39m):\n\u001B[1;32m     16\u001B[0m     df \u001B[38;5;241m=\u001B[39m deepcopy(df)\n\u001B[0;32m---> 17\u001B[0m     df[\u001B[38;5;124m\"\u001B[39m\u001B[38;5;124mdaily_return\u001B[39m\u001B[38;5;124m\"\u001B[39m] \u001B[38;5;241m=\u001B[39m \u001B[43mdf\u001B[49m\u001B[43m[\u001B[49m\u001B[43mvalue_col_name\u001B[49m\u001B[43m]\u001B[49m\u001B[38;5;241m.\u001B[39mpct_change(\u001B[38;5;241m1\u001B[39m)\n\u001B[1;32m     18\u001B[0m     df[\u001B[38;5;124m\"\u001B[39m\u001B[38;5;124mdate\u001B[39m\u001B[38;5;124m\"\u001B[39m] \u001B[38;5;241m=\u001B[39m pd\u001B[38;5;241m.\u001B[39mto_datetime(df[\u001B[38;5;124m\"\u001B[39m\u001B[38;5;124mdate\u001B[39m\u001B[38;5;124m\"\u001B[39m])\n\u001B[1;32m     19\u001B[0m     df\u001B[38;5;241m.\u001B[39mset_index(\u001B[38;5;124m\"\u001B[39m\u001B[38;5;124mdate\u001B[39m\u001B[38;5;124m\"\u001B[39m, inplace\u001B[38;5;241m=\u001B[39m\u001B[38;5;28;01mTrue\u001B[39;00m, drop\u001B[38;5;241m=\u001B[39m\u001B[38;5;28;01mTrue\u001B[39;00m)\n",
      "File \u001B[0;32m~/my-drive-zlapik/0-todo/ai-investing/venv3.10/lib/python3.10/site-packages/pandas/core/frame.py:3805\u001B[0m, in \u001B[0;36mDataFrame.__getitem__\u001B[0;34m(self, key)\u001B[0m\n\u001B[1;32m   3803\u001B[0m \u001B[38;5;28;01mif\u001B[39;00m \u001B[38;5;28mself\u001B[39m\u001B[38;5;241m.\u001B[39mcolumns\u001B[38;5;241m.\u001B[39mnlevels \u001B[38;5;241m>\u001B[39m \u001B[38;5;241m1\u001B[39m:\n\u001B[1;32m   3804\u001B[0m     \u001B[38;5;28;01mreturn\u001B[39;00m \u001B[38;5;28mself\u001B[39m\u001B[38;5;241m.\u001B[39m_getitem_multilevel(key)\n\u001B[0;32m-> 3805\u001B[0m indexer \u001B[38;5;241m=\u001B[39m \u001B[38;5;28;43mself\u001B[39;49m\u001B[38;5;241;43m.\u001B[39;49m\u001B[43mcolumns\u001B[49m\u001B[38;5;241;43m.\u001B[39;49m\u001B[43mget_loc\u001B[49m\u001B[43m(\u001B[49m\u001B[43mkey\u001B[49m\u001B[43m)\u001B[49m\n\u001B[1;32m   3806\u001B[0m \u001B[38;5;28;01mif\u001B[39;00m is_integer(indexer):\n\u001B[1;32m   3807\u001B[0m     indexer \u001B[38;5;241m=\u001B[39m [indexer]\n",
      "File \u001B[0;32m~/my-drive-zlapik/0-todo/ai-investing/venv3.10/lib/python3.10/site-packages/pandas/core/indexes/base.py:3805\u001B[0m, in \u001B[0;36mIndex.get_loc\u001B[0;34m(self, key, method, tolerance)\u001B[0m\n\u001B[1;32m   3803\u001B[0m     \u001B[38;5;28;01mreturn\u001B[39;00m \u001B[38;5;28mself\u001B[39m\u001B[38;5;241m.\u001B[39m_engine\u001B[38;5;241m.\u001B[39mget_loc(casted_key)\n\u001B[1;32m   3804\u001B[0m \u001B[38;5;28;01mexcept\u001B[39;00m \u001B[38;5;167;01mKeyError\u001B[39;00m \u001B[38;5;28;01mas\u001B[39;00m err:\n\u001B[0;32m-> 3805\u001B[0m     \u001B[38;5;28;01mraise\u001B[39;00m \u001B[38;5;167;01mKeyError\u001B[39;00m(key) \u001B[38;5;28;01mfrom\u001B[39;00m \u001B[38;5;21;01merr\u001B[39;00m\n\u001B[1;32m   3806\u001B[0m \u001B[38;5;28;01mexcept\u001B[39;00m \u001B[38;5;167;01mTypeError\u001B[39;00m:\n\u001B[1;32m   3807\u001B[0m     \u001B[38;5;66;03m# If we have a listlike key, _check_indexing_error will raise\u001B[39;00m\n\u001B[1;32m   3808\u001B[0m     \u001B[38;5;66;03m#  InvalidIndexError. Otherwise we fall through and re-raise\u001B[39;00m\n\u001B[1;32m   3809\u001B[0m     \u001B[38;5;66;03m#  the TypeError.\u001B[39;00m\n\u001B[1;32m   3810\u001B[0m     \u001B[38;5;28mself\u001B[39m\u001B[38;5;241m.\u001B[39m_check_indexing_error(key)\n",
      "\u001B[0;31mKeyError\u001B[0m: 'account_value'"
     ]
    }
   ],
   "source": [
    "#\n",
    "baseline = t.Baseline(ticker=\"SPY\", start=start_end[\"start\"], end=start_end[\"end\"])\n",
    "\n",
    "# compare = t.CompareAlgoBaseline(algos=sorted_list, baseline=baseline)\n",
    "# compare.plot_baseline()"
   ],
   "metadata": {
    "collapsed": false
   }
  },
  {
   "cell_type": "code",
   "execution_count": null,
   "outputs": [],
   "source": [],
   "metadata": {
    "collapsed": false
   }
  }
 ],
 "metadata": {
  "colab": {
   "collapsed_sections": [
    "_gDkU-j-fCmZ",
    "MRiOtrywfAo1",
    "3Zpv4S0-fDBv",
    "Dr49PotrfG01"
   ],
   "name": "Stock_Fundamental.ipynb",
   "provenance": []
  },
  "gpuClass": "standard",
  "kernelspec": {
   "display_name": "Python 3.10.8 ('venv3.10': venv)",
   "language": "python",
   "name": "python3"
  },
  "language_info": {
   "codemirror_mode": {
    "name": "ipython",
    "version": 3
   },
   "file_extension": ".py",
   "mimetype": "text/x-python",
   "name": "python",
   "nbconvert_exporter": "python",
   "pygments_lexer": "ipython3",
   "version": "3.10.8"
  },
  "vscode": {
   "interpreter": {
    "hash": "32c0c8ab8a6b580687c5ec847b855eb3ee7063ee446f183d34922604f3e580fd"
   }
  }
 },
 "nbformat": 4,
 "nbformat_minor": 0
}
