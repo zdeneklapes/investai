{
 "cells": [
  {
   "cell_type": "code",
   "execution_count": 2,
   "outputs": [
    {
     "name": "stderr",
     "output_type": "stream",
     "text": [
      "/Users/zlapik/my-drive-zlapik/0-todo/ai-investing/venv3.10/lib/python3.10/site-packages/pyfolio/pos.py:26: UserWarning: Module \"zipline.assets\" not found; multipliers will not be applied to position notionals.\n",
      "  warnings.warn(\n"
     ]
    }
   ],
   "source": [
    "#\n",
    "import os\n",
    "import sys\n",
    "import warnings\n",
    "from pathlib import Path\n",
    "import dataclasses\n",
    "from typing import Dict, Union\n",
    "\n",
    "#\n",
    "sys.path.append(\"./src/\")\n",
    "sys.path.append(\"./\")\n",
    "sys.path.append(\"../\")\n",
    "sys.path.append(\"../../\")\n",
    "sys.path.append(\"../../../\")\n",
    "\n",
    "# Stable Baseline3\n",
    "from stable_baselines3 import A2C, DDPG, PPO, SAC, TD3\n",
    "\n",
    "# AI4Finance\n",
    "from meta.config import TIME_ZONE_PARIS\n",
    "\n",
    "#\n",
    "import seaborn as sns\n",
    "from copy import deepcopy\n",
    "import matplotlib.dates as mdates\n",
    "import matplotlib.pyplot as plt\n",
    "import numpy as np\n",
    "import pandas as pd\n",
    "import pyfolio\n",
    "from pyfolio import timeseries\n",
    "import tqdm\n",
    "import yfinance as yf\n",
    "import pyfolio as pf\n",
    "\n",
    "#\n",
    "from rl.plot.plot import backtest_stats, backtest_plot, get_daily_return, get_baseline\n",
    "from common.utils import now_time\n",
    "from configuration.settings import ProjectDir, ExperimentDir\n",
    "from rl.data.CompanyInfo import CompanyInfo\n",
    "from rl.envs.StockTradingEnv import StockTradingEnv\n",
    "from rl.experiments._1_same_bigger_data_fundamental.train import (\n",
    "    Program,\n",
    "    CustomDRLAgent,\n",
    "    get_dataset,\n",
    "    get_env_kwargs,\n",
    "    dataset_name,\n",
    "    base_cols,\n",
    "    data_cols,\n",
    "    ratios_cols,\n",
    "    algorithm_name,\n",
    ")"
   ],
   "metadata": {
    "collapsed": false
   }
  },
  {
   "cell_type": "code",
   "execution_count": 3,
   "outputs": [],
   "source": [
    "def ignore_warnings():\n",
    "    warnings.filterwarnings(\"ignore\", category=UserWarning)  # TODO: zipline problem\n",
    "    warnings.filterwarnings(\"ignore\", category=DeprecationWarning)\n",
    "    warnings.filterwarnings(\"ignore\", category=FutureWarning)\n",
    "    warnings.filterwarnings(\"ignore\", category=RuntimeWarning)\n",
    "\n",
    "\n",
    "ignore_warnings()"
   ],
   "metadata": {
    "collapsed": false
   }
  },
  {
   "cell_type": "code",
   "execution_count": 4,
   "outputs": [],
   "source": [
    "def main():\n",
    "    program = Program(\n",
    "        prj_dir=ProjectDir(root=Path(\"/Users/zlapik/my-drive-zlapik/0-todo/ai-investing\")),\n",
    "        exp_dir=ExperimentDir(Path(os.getcwd())),\n",
    "        DEBUG=False,\n",
    "    )\n",
    "    program.dataset = get_dataset(\n",
    "        pd.read_csv(program.exp_dir.out.datasets.joinpath(f\"{dataset_name}.csv\"), index_col=0), purpose=\"test\"\n",
    "    )\n",
    "    program.exp_dir.check_and_create_dirs()\n",
    "    return program\n",
    "\n",
    "\n",
    "program = main()"
   ],
   "metadata": {
    "collapsed": false
   }
  },
  {
   "cell_type": "code",
   "execution_count": 5,
   "outputs": [
    {
     "name": "stdout",
     "output_type": "stream",
     "text": [
      "['date', 'tic']\n",
      "['open', 'high', 'low', 'close', 'volume']\n",
      "['operatingProfitMargin', 'netProfitMargin', 'returnOnAssets', 'returnOnEquity', 'currentRatio', 'quickRatio', 'cashRatio', 'inventoryTurnover', 'receivablesTurnover', 'payablesTurnover', 'debtRatio', 'debtEquityRatio', 'priceEarningsRatio', 'priceBookValueRatio', 'dividendYield']\n"
     ]
    }
   ],
   "source": [
    "print(base_cols)\n",
    "print(data_cols)\n",
    "print(ratios_cols)"
   ],
   "metadata": {
    "collapsed": false
   }
  },
  {
   "cell_type": "code",
   "execution_count": 6,
   "outputs": [],
   "source": [
    "@dataclasses.dataclass\n",
    "class LearnedAlgorithm:\n",
    "    algorithm: str\n",
    "    filename: Path\n",
    "    learned_algorithm: Union[A2C, PPO, DDPG, A2C, TD3]\n",
    "\n",
    "\n",
    "def get_algorithm(filename: Path):\n",
    "    if \"a2c\" in filename.as_posix():\n",
    "        return LearnedAlgorithm(algorithm=\"a2c\", filename=filename, learned_algorithm=A2C.load(filename))\n",
    "\n",
    "\n",
    "learned_algorithms = [get_algorithm(filepath) for filepath in program.exp_dir.out.algorithms.glob(\"*\")]"
   ],
   "metadata": {
    "collapsed": false
   }
  },
  {
   "cell_type": "code",
   "execution_count": 7,
   "outputs": [
    {
     "name": "stdout",
     "output_type": "stream",
     "text": [
      "Stock Dimension: 29, State Space: 494\n"
     ]
    }
   ],
   "source": [
    "# Env\n",
    "env_kwargs = get_env_kwargs(program.dataset)\n",
    "env_gym = StockTradingEnv(df=program.dataset, **env_kwargs)"
   ],
   "metadata": {
    "collapsed": false
   }
  },
  {
   "cell_type": "code",
   "execution_count": 8,
   "outputs": [
    {
     "name": "stdout",
     "output_type": "stream",
     "text": [
      "hit end!\n"
     ]
    }
   ],
   "source": [
    "# Test Learned Algorithms\n",
    "df_account_value, df_actions = CustomDRLAgent.DRL_prediction(\n",
    "    model=learned_algorithms[len(learned_algorithms) - 1].learned_algorithm, environment=env_gym\n",
    ")"
   ],
   "metadata": {
    "collapsed": false
   }
  },
  {
   "cell_type": "code",
   "execution_count": 9,
   "outputs": [
    {
     "data": {
      "text/plain": "           date  account_value\n0    2019-04-12   1.000000e+06\n1    2019-04-15   9.994271e+05\n2    2019-04-16   1.000304e+06\n3    2019-04-17   9.962704e+05\n4    2019-04-18   9.988517e+05\n..          ...            ...\n923  2022-12-09   1.241070e+06\n924  2022-12-12   1.260773e+06\n925  2022-12-13   1.278515e+06\n926  2022-12-14   1.262068e+06\n927  2022-12-15   1.229539e+06\n\n[928 rows x 2 columns]",
      "text/html": "<div>\n<style scoped>\n    .dataframe tbody tr th:only-of-type {\n        vertical-align: middle;\n    }\n\n    .dataframe tbody tr th {\n        vertical-align: top;\n    }\n\n    .dataframe thead th {\n        text-align: right;\n    }\n</style>\n<table border=\"1\" class=\"dataframe\">\n  <thead>\n    <tr style=\"text-align: right;\">\n      <th></th>\n      <th>date</th>\n      <th>account_value</th>\n    </tr>\n  </thead>\n  <tbody>\n    <tr>\n      <th>0</th>\n      <td>2019-04-12</td>\n      <td>1.000000e+06</td>\n    </tr>\n    <tr>\n      <th>1</th>\n      <td>2019-04-15</td>\n      <td>9.994271e+05</td>\n    </tr>\n    <tr>\n      <th>2</th>\n      <td>2019-04-16</td>\n      <td>1.000304e+06</td>\n    </tr>\n    <tr>\n      <th>3</th>\n      <td>2019-04-17</td>\n      <td>9.962704e+05</td>\n    </tr>\n    <tr>\n      <th>4</th>\n      <td>2019-04-18</td>\n      <td>9.988517e+05</td>\n    </tr>\n    <tr>\n      <th>...</th>\n      <td>...</td>\n      <td>...</td>\n    </tr>\n    <tr>\n      <th>923</th>\n      <td>2022-12-09</td>\n      <td>1.241070e+06</td>\n    </tr>\n    <tr>\n      <th>924</th>\n      <td>2022-12-12</td>\n      <td>1.260773e+06</td>\n    </tr>\n    <tr>\n      <th>925</th>\n      <td>2022-12-13</td>\n      <td>1.278515e+06</td>\n    </tr>\n    <tr>\n      <th>926</th>\n      <td>2022-12-14</td>\n      <td>1.262068e+06</td>\n    </tr>\n    <tr>\n      <th>927</th>\n      <td>2022-12-15</td>\n      <td>1.229539e+06</td>\n    </tr>\n  </tbody>\n</table>\n<p>928 rows × 2 columns</p>\n</div>"
     },
     "execution_count": 9,
     "metadata": {},
     "output_type": "execute_result"
    }
   ],
   "source": [
    "df_account_value"
   ],
   "metadata": {
    "collapsed": false
   }
  },
  {
   "cell_type": "code",
   "execution_count": 10,
   "outputs": [
    {
     "name": "stdout",
     "output_type": "stream",
     "text": [
      "Annual return          0.057717\n",
      "Cumulative returns     0.229539\n",
      "Annual volatility      0.295385\n",
      "Sharpe ratio           0.339129\n",
      "Calmar ratio           0.130704\n",
      "Stability              0.362444\n",
      "Max drawdown          -0.441589\n",
      "Omega ratio            1.068750\n",
      "Sortino ratio          0.469728\n",
      "Skew                        NaN\n",
      "Kurtosis                    NaN\n",
      "Tail ratio             1.037811\n",
      "Daily value at risk   -0.036818\n",
      "dtype: float64\n"
     ]
    }
   ],
   "source": [
    "# Get results\n",
    "perf_stats_all = backtest_stats(account_value=df_account_value)\n",
    "perf_stats_all = pd.DataFrame(perf_stats_all)\n",
    "perf_stats_all.to_csv(program.exp_dir.out.results.joinpath(f\"perf_stats_all_{algorithm_name}_{now_time()}.csv\"))"
   ],
   "metadata": {
    "collapsed": false
   }
  },
  {
   "cell_type": "code",
   "execution_count": 11,
   "outputs": [
    {
     "name": "stdout",
     "output_type": "stream",
     "text": [
      "2019-04-12 2022-12-15\n"
     ]
    }
   ],
   "source": [
    "start = program.dataset[\"date\"].min()\n",
    "end = program.dataset[\"date\"].max()\n",
    "print(start, end)"
   ],
   "metadata": {
    "collapsed": false
   }
  },
  {
   "cell_type": "code",
   "execution_count": 36,
   "outputs": [],
   "source": [
    "# Baseline\n",
    "baseline_tic = yf.Ticker(\"^DJI\")"
   ],
   "metadata": {
    "collapsed": false
   }
  },
  {
   "cell_type": "code",
   "execution_count": 37,
   "outputs": [
    {
     "data": {
      "text/plain": "                                   Open          High           Low  \\\nDate                                                                  \n2019-04-12 00:00:00-04:00  26357.789062  26436.679688  26309.720703   \n2019-04-15 00:00:00-04:00  26407.759766  26424.849609  26316.419922   \n2019-04-16 00:00:00-04:00  26482.189453  26530.710938  26397.189453   \n2019-04-17 00:00:00-04:00  26468.529297  26501.019531  26391.859375   \n2019-04-18 00:00:00-04:00  26463.369141  26602.419922  26444.529297   \n...                                 ...           ...           ...   \n2022-12-08 00:00:00-05:00  33695.968750  33899.171875  33642.460938   \n2022-12-09 00:00:00-05:00  33746.710938  33844.628906  33462.648438   \n2022-12-12 00:00:00-05:00  33519.500000  34005.039062  33519.500000   \n2022-12-13 00:00:00-05:00  34268.441406  34712.281250  33890.878906   \n2022-12-14 00:00:00-05:00  34086.070312  34395.648438  33704.171875   \n\n                                  Close     Volume  Dividends  Stock Splits  \nDate                                                                         \n2019-04-12 00:00:00-04:00  26412.300781  369910000          0             0  \n2019-04-15 00:00:00-04:00  26384.769531  250620000          0             0  \n2019-04-16 00:00:00-04:00  26452.660156  302340000          0             0  \n2019-04-17 00:00:00-04:00  26449.539062  367780000          0             0  \n2019-04-18 00:00:00-04:00  26559.539062  332850000          0             0  \n...                                 ...        ...        ...           ...  \n2022-12-08 00:00:00-05:00  33781.480469  271830000          0             0  \n2022-12-09 00:00:00-05:00  33476.460938  287630000          0             0  \n2022-12-12 00:00:00-05:00  34005.039062  313440000          0             0  \n2022-12-13 00:00:00-05:00  34108.640625  442650000          0             0  \n2022-12-14 00:00:00-05:00  33966.351562  339090000          0             0  \n\n[927 rows x 7 columns]",
      "text/html": "<div>\n<style scoped>\n    .dataframe tbody tr th:only-of-type {\n        vertical-align: middle;\n    }\n\n    .dataframe tbody tr th {\n        vertical-align: top;\n    }\n\n    .dataframe thead th {\n        text-align: right;\n    }\n</style>\n<table border=\"1\" class=\"dataframe\">\n  <thead>\n    <tr style=\"text-align: right;\">\n      <th></th>\n      <th>Open</th>\n      <th>High</th>\n      <th>Low</th>\n      <th>Close</th>\n      <th>Volume</th>\n      <th>Dividends</th>\n      <th>Stock Splits</th>\n    </tr>\n    <tr>\n      <th>Date</th>\n      <th></th>\n      <th></th>\n      <th></th>\n      <th></th>\n      <th></th>\n      <th></th>\n      <th></th>\n    </tr>\n  </thead>\n  <tbody>\n    <tr>\n      <th>2019-04-12 00:00:00-04:00</th>\n      <td>26357.789062</td>\n      <td>26436.679688</td>\n      <td>26309.720703</td>\n      <td>26412.300781</td>\n      <td>369910000</td>\n      <td>0</td>\n      <td>0</td>\n    </tr>\n    <tr>\n      <th>2019-04-15 00:00:00-04:00</th>\n      <td>26407.759766</td>\n      <td>26424.849609</td>\n      <td>26316.419922</td>\n      <td>26384.769531</td>\n      <td>250620000</td>\n      <td>0</td>\n      <td>0</td>\n    </tr>\n    <tr>\n      <th>2019-04-16 00:00:00-04:00</th>\n      <td>26482.189453</td>\n      <td>26530.710938</td>\n      <td>26397.189453</td>\n      <td>26452.660156</td>\n      <td>302340000</td>\n      <td>0</td>\n      <td>0</td>\n    </tr>\n    <tr>\n      <th>2019-04-17 00:00:00-04:00</th>\n      <td>26468.529297</td>\n      <td>26501.019531</td>\n      <td>26391.859375</td>\n      <td>26449.539062</td>\n      <td>367780000</td>\n      <td>0</td>\n      <td>0</td>\n    </tr>\n    <tr>\n      <th>2019-04-18 00:00:00-04:00</th>\n      <td>26463.369141</td>\n      <td>26602.419922</td>\n      <td>26444.529297</td>\n      <td>26559.539062</td>\n      <td>332850000</td>\n      <td>0</td>\n      <td>0</td>\n    </tr>\n    <tr>\n      <th>...</th>\n      <td>...</td>\n      <td>...</td>\n      <td>...</td>\n      <td>...</td>\n      <td>...</td>\n      <td>...</td>\n      <td>...</td>\n    </tr>\n    <tr>\n      <th>2022-12-08 00:00:00-05:00</th>\n      <td>33695.968750</td>\n      <td>33899.171875</td>\n      <td>33642.460938</td>\n      <td>33781.480469</td>\n      <td>271830000</td>\n      <td>0</td>\n      <td>0</td>\n    </tr>\n    <tr>\n      <th>2022-12-09 00:00:00-05:00</th>\n      <td>33746.710938</td>\n      <td>33844.628906</td>\n      <td>33462.648438</td>\n      <td>33476.460938</td>\n      <td>287630000</td>\n      <td>0</td>\n      <td>0</td>\n    </tr>\n    <tr>\n      <th>2022-12-12 00:00:00-05:00</th>\n      <td>33519.500000</td>\n      <td>34005.039062</td>\n      <td>33519.500000</td>\n      <td>34005.039062</td>\n      <td>313440000</td>\n      <td>0</td>\n      <td>0</td>\n    </tr>\n    <tr>\n      <th>2022-12-13 00:00:00-05:00</th>\n      <td>34268.441406</td>\n      <td>34712.281250</td>\n      <td>33890.878906</td>\n      <td>34108.640625</td>\n      <td>442650000</td>\n      <td>0</td>\n      <td>0</td>\n    </tr>\n    <tr>\n      <th>2022-12-14 00:00:00-05:00</th>\n      <td>34086.070312</td>\n      <td>34395.648438</td>\n      <td>33704.171875</td>\n      <td>33966.351562</td>\n      <td>339090000</td>\n      <td>0</td>\n      <td>0</td>\n    </tr>\n  </tbody>\n</table>\n<p>927 rows × 7 columns</p>\n</div>"
     },
     "execution_count": 37,
     "metadata": {},
     "output_type": "execute_result"
    }
   ],
   "source": [
    "baseline_df = baseline_tic.history(interval=\"1d\", start=start, end=end)\n",
    "baseline_df\n",
    "# baseline_df = get_baseline(\"^DJI\", start, end, \"1d\") # TODO: fixme"
   ],
   "metadata": {
    "collapsed": false
   }
  },
  {
   "cell_type": "code",
   "execution_count": 38,
   "outputs": [],
   "source": [
    "date_format = \"%Y-%m-%d\"\n",
    "baseline_df.index = baseline_df.index.strftime(date_format)\n",
    "baseline_df.insert(0, \"date\", baseline_df.index)"
   ],
   "metadata": {
    "collapsed": false
   }
  },
  {
   "cell_type": "code",
   "execution_count": 39,
   "outputs": [
    {
     "data": {
      "text/plain": "                  date          Open          High           Low  \\\nDate                                                               \n2019-04-12  2019-04-12  26357.789062  26436.679688  26309.720703   \n2019-04-15  2019-04-15  26407.759766  26424.849609  26316.419922   \n2019-04-16  2019-04-16  26482.189453  26530.710938  26397.189453   \n2019-04-17  2019-04-17  26468.529297  26501.019531  26391.859375   \n2019-04-18  2019-04-18  26463.369141  26602.419922  26444.529297   \n...                ...           ...           ...           ...   \n2022-12-08  2022-12-08  33695.968750  33899.171875  33642.460938   \n2022-12-09  2022-12-09  33746.710938  33844.628906  33462.648438   \n2022-12-12  2022-12-12  33519.500000  34005.039062  33519.500000   \n2022-12-13  2022-12-13  34268.441406  34712.281250  33890.878906   \n2022-12-14  2022-12-14  34086.070312  34395.648438  33704.171875   \n\n                   Close     Volume  Dividends  Stock Splits  \nDate                                                          \n2019-04-12  26412.300781  369910000          0             0  \n2019-04-15  26384.769531  250620000          0             0  \n2019-04-16  26452.660156  302340000          0             0  \n2019-04-17  26449.539062  367780000          0             0  \n2019-04-18  26559.539062  332850000          0             0  \n...                  ...        ...        ...           ...  \n2022-12-08  33781.480469  271830000          0             0  \n2022-12-09  33476.460938  287630000          0             0  \n2022-12-12  34005.039062  313440000          0             0  \n2022-12-13  34108.640625  442650000          0             0  \n2022-12-14  33966.351562  339090000          0             0  \n\n[927 rows x 8 columns]",
      "text/html": "<div>\n<style scoped>\n    .dataframe tbody tr th:only-of-type {\n        vertical-align: middle;\n    }\n\n    .dataframe tbody tr th {\n        vertical-align: top;\n    }\n\n    .dataframe thead th {\n        text-align: right;\n    }\n</style>\n<table border=\"1\" class=\"dataframe\">\n  <thead>\n    <tr style=\"text-align: right;\">\n      <th></th>\n      <th>date</th>\n      <th>Open</th>\n      <th>High</th>\n      <th>Low</th>\n      <th>Close</th>\n      <th>Volume</th>\n      <th>Dividends</th>\n      <th>Stock Splits</th>\n    </tr>\n    <tr>\n      <th>Date</th>\n      <th></th>\n      <th></th>\n      <th></th>\n      <th></th>\n      <th></th>\n      <th></th>\n      <th></th>\n      <th></th>\n    </tr>\n  </thead>\n  <tbody>\n    <tr>\n      <th>2019-04-12</th>\n      <td>2019-04-12</td>\n      <td>26357.789062</td>\n      <td>26436.679688</td>\n      <td>26309.720703</td>\n      <td>26412.300781</td>\n      <td>369910000</td>\n      <td>0</td>\n      <td>0</td>\n    </tr>\n    <tr>\n      <th>2019-04-15</th>\n      <td>2019-04-15</td>\n      <td>26407.759766</td>\n      <td>26424.849609</td>\n      <td>26316.419922</td>\n      <td>26384.769531</td>\n      <td>250620000</td>\n      <td>0</td>\n      <td>0</td>\n    </tr>\n    <tr>\n      <th>2019-04-16</th>\n      <td>2019-04-16</td>\n      <td>26482.189453</td>\n      <td>26530.710938</td>\n      <td>26397.189453</td>\n      <td>26452.660156</td>\n      <td>302340000</td>\n      <td>0</td>\n      <td>0</td>\n    </tr>\n    <tr>\n      <th>2019-04-17</th>\n      <td>2019-04-17</td>\n      <td>26468.529297</td>\n      <td>26501.019531</td>\n      <td>26391.859375</td>\n      <td>26449.539062</td>\n      <td>367780000</td>\n      <td>0</td>\n      <td>0</td>\n    </tr>\n    <tr>\n      <th>2019-04-18</th>\n      <td>2019-04-18</td>\n      <td>26463.369141</td>\n      <td>26602.419922</td>\n      <td>26444.529297</td>\n      <td>26559.539062</td>\n      <td>332850000</td>\n      <td>0</td>\n      <td>0</td>\n    </tr>\n    <tr>\n      <th>...</th>\n      <td>...</td>\n      <td>...</td>\n      <td>...</td>\n      <td>...</td>\n      <td>...</td>\n      <td>...</td>\n      <td>...</td>\n      <td>...</td>\n    </tr>\n    <tr>\n      <th>2022-12-08</th>\n      <td>2022-12-08</td>\n      <td>33695.968750</td>\n      <td>33899.171875</td>\n      <td>33642.460938</td>\n      <td>33781.480469</td>\n      <td>271830000</td>\n      <td>0</td>\n      <td>0</td>\n    </tr>\n    <tr>\n      <th>2022-12-09</th>\n      <td>2022-12-09</td>\n      <td>33746.710938</td>\n      <td>33844.628906</td>\n      <td>33462.648438</td>\n      <td>33476.460938</td>\n      <td>287630000</td>\n      <td>0</td>\n      <td>0</td>\n    </tr>\n    <tr>\n      <th>2022-12-12</th>\n      <td>2022-12-12</td>\n      <td>33519.500000</td>\n      <td>34005.039062</td>\n      <td>33519.500000</td>\n      <td>34005.039062</td>\n      <td>313440000</td>\n      <td>0</td>\n      <td>0</td>\n    </tr>\n    <tr>\n      <th>2022-12-13</th>\n      <td>2022-12-13</td>\n      <td>34268.441406</td>\n      <td>34712.281250</td>\n      <td>33890.878906</td>\n      <td>34108.640625</td>\n      <td>442650000</td>\n      <td>0</td>\n      <td>0</td>\n    </tr>\n    <tr>\n      <th>2022-12-14</th>\n      <td>2022-12-14</td>\n      <td>34086.070312</td>\n      <td>34395.648438</td>\n      <td>33704.171875</td>\n      <td>33966.351562</td>\n      <td>339090000</td>\n      <td>0</td>\n      <td>0</td>\n    </tr>\n  </tbody>\n</table>\n<p>927 rows × 8 columns</p>\n</div>"
     },
     "execution_count": 39,
     "metadata": {},
     "output_type": "execute_result"
    }
   ],
   "source": [
    "baseline_df"
   ],
   "metadata": {
    "collapsed": false
   }
  },
  {
   "cell_type": "code",
   "execution_count": 40,
   "outputs": [
    {
     "name": "stdout",
     "output_type": "stream",
     "text": [
      "2019-04-12\n",
      "2022-12-14\n"
     ]
    }
   ],
   "source": [
    "print(baseline_df.index.min())\n",
    "print(baseline_df.index.max())"
   ],
   "metadata": {
    "collapsed": false
   }
  },
  {
   "cell_type": "code",
   "execution_count": 41,
   "outputs": [
    {
     "name": "stdout",
     "output_type": "stream",
     "text": [
      "Annual return          0.070772\n",
      "Cumulative returns     0.286005\n",
      "Annual volatility      0.232728\n",
      "Sharpe ratio           0.411239\n",
      "Calmar ratio           0.190831\n",
      "Stability              0.561379\n",
      "Max drawdown          -0.370862\n",
      "Omega ratio            1.087791\n",
      "Sortino ratio          0.567932\n",
      "Skew                        NaN\n",
      "Kurtosis                    NaN\n",
      "Tail ratio             0.953450\n",
      "Daily value at risk   -0.028941\n",
      "dtype: float64\n"
     ]
    }
   ],
   "source": [
    "stats = backtest_stats(baseline_df, value_col_name=\"Close\")"
   ],
   "metadata": {
    "collapsed": false
   }
  },
  {
   "cell_type": "code",
   "execution_count": 42,
   "outputs": [
    {
     "ename": "AttributeError",
     "evalue": "module 'meta' has no attribute 'data_processors'",
     "output_type": "error",
     "traceback": [
      "\u001b[0;31m---------------------------------------------------------------------------\u001b[0m",
      "\u001b[0;31mAttributeError\u001b[0m                            Traceback (most recent call last)",
      "Cell \u001b[0;32mIn[42], line 1\u001b[0m\n\u001b[0;32m----> 1\u001b[0m \u001b[43mbacktest_plot\u001b[49m\u001b[43m(\u001b[49m\n\u001b[1;32m      2\u001b[0m \u001b[43m    \u001b[49m\u001b[43mdf_account_value\u001b[49m\u001b[43m,\u001b[49m\n\u001b[1;32m      3\u001b[0m \u001b[43m    \u001b[49m\u001b[43mbaseline_ticker\u001b[49m\u001b[38;5;241;43m=\u001b[39;49m\u001b[38;5;124;43m\"\u001b[39;49m\u001b[38;5;124;43m^DJI\u001b[39;49m\u001b[38;5;124;43m\"\u001b[39;49m\u001b[43m,\u001b[49m\n\u001b[1;32m      4\u001b[0m \u001b[43m    \u001b[49m\u001b[43mbaseline_start\u001b[49m\u001b[38;5;241;43m=\u001b[39;49m\u001b[43mprogram\u001b[49m\u001b[38;5;241;43m.\u001b[39;49m\u001b[43mdataset\u001b[49m\u001b[43m[\u001b[49m\u001b[38;5;124;43m\"\u001b[39;49m\u001b[38;5;124;43mdate\u001b[39;49m\u001b[38;5;124;43m\"\u001b[39;49m\u001b[43m]\u001b[49m\u001b[38;5;241;43m.\u001b[39;49m\u001b[43mmin\u001b[49m\u001b[43m(\u001b[49m\u001b[43m)\u001b[49m\u001b[43m,\u001b[49m\n\u001b[1;32m      5\u001b[0m \u001b[43m    \u001b[49m\u001b[43mbaseline_end\u001b[49m\u001b[38;5;241;43m=\u001b[39;49m\u001b[43mprogram\u001b[49m\u001b[38;5;241;43m.\u001b[39;49m\u001b[43mdataset\u001b[49m\u001b[43m[\u001b[49m\u001b[38;5;124;43m\"\u001b[39;49m\u001b[38;5;124;43mdate\u001b[39;49m\u001b[38;5;124;43m\"\u001b[39;49m\u001b[43m]\u001b[49m\u001b[38;5;241;43m.\u001b[39;49m\u001b[43mmax\u001b[49m\u001b[43m(\u001b[49m\u001b[43m)\u001b[49m\u001b[43m,\u001b[49m\n\u001b[1;32m      6\u001b[0m \u001b[43m)\u001b[49m\n",
      "File \u001b[0;32m~/my-drive-zlapik/0-todo/ai-investing/src/rl/experiments/_1_same_bigger_data_fundamental/../../../rl/plot/plot.py:56\u001b[0m, in \u001b[0;36mbacktest_plot\u001b[0;34m(account_value, baseline_start, baseline_end, baseline_ticker, value_col_name)\u001b[0m\n\u001b[1;32m     53\u001b[0m df[\u001b[38;5;124m\"\u001b[39m\u001b[38;5;124mdate\u001b[39m\u001b[38;5;124m\"\u001b[39m] \u001b[38;5;241m=\u001b[39m pd\u001b[38;5;241m.\u001b[39mto_datetime(df[\u001b[38;5;124m\"\u001b[39m\u001b[38;5;124mdate\u001b[39m\u001b[38;5;124m\"\u001b[39m])\n\u001b[1;32m     54\u001b[0m test_returns \u001b[38;5;241m=\u001b[39m get_daily_return(df, value_col_name\u001b[38;5;241m=\u001b[39mvalue_col_name)\n\u001b[0;32m---> 56\u001b[0m baseline_df \u001b[38;5;241m=\u001b[39m \u001b[43mget_baseline\u001b[49m\u001b[43m(\u001b[49m\u001b[43mticker\u001b[49m\u001b[38;5;241;43m=\u001b[39;49m\u001b[43mbaseline_ticker\u001b[49m\u001b[43m,\u001b[49m\u001b[43m \u001b[49m\u001b[43mstart\u001b[49m\u001b[38;5;241;43m=\u001b[39;49m\u001b[43mbaseline_start\u001b[49m\u001b[43m,\u001b[49m\u001b[43m \u001b[49m\u001b[43mend\u001b[49m\u001b[38;5;241;43m=\u001b[39;49m\u001b[43mbaseline_end\u001b[49m\u001b[43m)\u001b[49m\n\u001b[1;32m     58\u001b[0m baseline_df[\u001b[38;5;124m\"\u001b[39m\u001b[38;5;124mdate\u001b[39m\u001b[38;5;124m\"\u001b[39m] \u001b[38;5;241m=\u001b[39m pd\u001b[38;5;241m.\u001b[39mto_datetime(baseline_df[\u001b[38;5;124m\"\u001b[39m\u001b[38;5;124mdate\u001b[39m\u001b[38;5;124m\"\u001b[39m], \u001b[38;5;28mformat\u001b[39m\u001b[38;5;241m=\u001b[39m\u001b[38;5;124m\"\u001b[39m\u001b[38;5;124m%\u001b[39m\u001b[38;5;124mY-\u001b[39m\u001b[38;5;124m%\u001b[39m\u001b[38;5;124mm-\u001b[39m\u001b[38;5;132;01m%d\u001b[39;00m\u001b[38;5;124m\"\u001b[39m)\n\u001b[1;32m     59\u001b[0m baseline_df \u001b[38;5;241m=\u001b[39m pd\u001b[38;5;241m.\u001b[39mmerge(df[[\u001b[38;5;124m\"\u001b[39m\u001b[38;5;124mdate\u001b[39m\u001b[38;5;124m\"\u001b[39m]], baseline_df, how\u001b[38;5;241m=\u001b[39m\u001b[38;5;124m\"\u001b[39m\u001b[38;5;124mleft\u001b[39m\u001b[38;5;124m\"\u001b[39m, on\u001b[38;5;241m=\u001b[39m\u001b[38;5;124m\"\u001b[39m\u001b[38;5;124mdate\u001b[39m\u001b[38;5;124m\"\u001b[39m)\n",
      "File \u001b[0;32m~/my-drive-zlapik/0-todo/ai-investing/src/rl/experiments/_1_same_bigger_data_fundamental/../../../rl/plot/plot.py:75\u001b[0m, in \u001b[0;36mget_baseline\u001b[0;34m(ticker, start, end, time_zone, time_interval)\u001b[0m\n\u001b[1;32m     73\u001b[0m     meta\u001b[38;5;241m.\u001b[39mconfig\u001b[38;5;241m.\u001b[39mTIME_ZONE_SELFDEFINED \u001b[38;5;241m=\u001b[39m meta\u001b[38;5;241m.\u001b[39mconfig\u001b[38;5;241m.\u001b[39mTIME_ZONE_PARIS\n\u001b[1;32m     74\u001b[0m     meta\u001b[38;5;241m.\u001b[39mconfig\u001b[38;5;241m.\u001b[39mUSE_TIME_ZONE_SELFDEFINED \u001b[38;5;241m=\u001b[39m \u001b[38;5;241m1\u001b[39m\n\u001b[0;32m---> 75\u001b[0m meta_yf \u001b[38;5;241m=\u001b[39m \u001b[43mmeta\u001b[49m\u001b[38;5;241;43m.\u001b[39;49m\u001b[43mdata_processors\u001b[49m\u001b[38;5;241m.\u001b[39myahoofinance\u001b[38;5;241m.\u001b[39mYahoofinance(\u001b[38;5;124m\"\u001b[39m\u001b[38;5;124myahoofinance\u001b[39m\u001b[38;5;124m\"\u001b[39m, start, end, time_interval)\n\u001b[1;32m     76\u001b[0m meta_yf\u001b[38;5;241m.\u001b[39mdownload_data([ticker])\n\u001b[1;32m     77\u001b[0m \u001b[38;5;28;01mreturn\u001b[39;00m meta_yf\u001b[38;5;241m.\u001b[39mdataframe\n",
      "\u001b[0;31mAttributeError\u001b[0m: module 'meta' has no attribute 'data_processors'"
     ]
    }
   ],
   "source": [
    "backtest_plot(\n",
    "    df_account_value,\n",
    "    baseline_ticker=\"^DJI\",\n",
    "    baseline_start=program.dataset.index.min(),\n",
    "    baseline_end=program.dataset.index.max(),\n",
    ")"
   ],
   "metadata": {
    "collapsed": false
   }
  },
  {
   "cell_type": "code",
   "execution_count": null,
   "outputs": [],
   "source": [],
   "metadata": {
    "collapsed": false
   }
  }
 ],
 "metadata": {
  "colab": {
   "collapsed_sections": [
    "_gDkU-j-fCmZ",
    "MRiOtrywfAo1",
    "3Zpv4S0-fDBv",
    "Dr49PotrfG01"
   ],
   "name": "Stock_Fundamental.ipynb",
   "provenance": []
  },
  "gpuClass": "standard",
  "kernelspec": {
   "display_name": "Python 3.10.8 ('venv3.10': venv)",
   "language": "python",
   "name": "python3"
  },
  "language_info": {
   "codemirror_mode": {
    "name": "ipython",
    "version": 3
   },
   "file_extension": ".py",
   "mimetype": "text/x-python",
   "name": "python",
   "nbconvert_exporter": "python",
   "pygments_lexer": "ipython3",
   "version": "3.10.8"
  },
  "vscode": {
   "interpreter": {
    "hash": "32c0c8ab8a6b580687c5ec847b855eb3ee7063ee446f183d34922604f3e580fd"
   }
  }
 },
 "nbformat": 4,
 "nbformat_minor": 0
}
