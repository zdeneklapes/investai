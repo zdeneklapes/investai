{
 "cells": [
  {
   "cell_type": "code",
   "execution_count": 1,
   "outputs": [
    {
     "name": "stderr",
     "output_type": "stream",
     "text": [
      "/Users/zlapik/my-drive-zlapik/0-todo/ai-investing/venv3.10/lib/python3.10/site-packages/pyfolio/pos.py:26: UserWarning: Module \"zipline.assets\" not found; multipliers will not be applied to position notionals.\n",
      "  warnings.warn(\n"
     ]
    }
   ],
   "source": [
    "#\n",
    "import os\n",
    "import sys\n",
    "import warnings\n",
    "import dataclasses\n",
    "from copy import deepcopy\n",
    "from pathlib import Path\n",
    "from typing import Dict, Union\n",
    "\n",
    "#\n",
    "sys.path.append(\"./src/\")\n",
    "sys.path.append(\"./\")\n",
    "sys.path.append(\"../\")\n",
    "sys.path.append(\"../../\")\n",
    "sys.path.append(\"../../../\")\n",
    "\n",
    "# Stable Baseline3\n",
    "from stable_baselines3 import A2C, DDPG, PPO, SAC, TD3\n",
    "\n",
    "#\n",
    "import seaborn as sns\n",
    "import matplotlib.dates as mdates\n",
    "import matplotlib.pyplot as plt\n",
    "import numpy as np\n",
    "import pandas as pd\n",
    "\n",
    "# from pyfolio import create_returns_tear_sheet\n",
    "# from pyfolio import utils\n",
    "\n",
    "#\n",
    "from rl.plot.plot import backtest_stats, backtest_plot, get_daily_return, get_baseline\n",
    "from common.utils import now_time\n",
    "from configuration.settings import ProjectDir, ExperimentDir\n",
    "from rl.data.CompanyInfo import CompanyInfo\n",
    "from rl.envs.StockTradingEnv import StockTradingEnv\n",
    "from rl.experiments._1_same_bigger_data_fundamental.train import (\n",
    "    Program,\n",
    "    CustomDRLAgent,\n",
    "    get_dataset,\n",
    "    get_env_kwargs,\n",
    "    dataset_name,\n",
    "    base_cols,\n",
    "    data_cols,\n",
    "    ratios_cols,\n",
    "    algorithm_name,\n",
    ")"
   ],
   "metadata": {
    "collapsed": false
   }
  },
  {
   "cell_type": "code",
   "execution_count": 2,
   "outputs": [],
   "source": [
    "def ignore_warnings():\n",
    "    warnings.filterwarnings(\"ignore\", category=UserWarning)  # TODO: zipline problem\n",
    "    warnings.filterwarnings(\"ignore\", category=DeprecationWarning)\n",
    "    warnings.filterwarnings(\"ignore\", category=FutureWarning)\n",
    "    warnings.filterwarnings(\"ignore\", category=RuntimeWarning)\n",
    "\n",
    "\n",
    "ignore_warnings()"
   ],
   "metadata": {
    "collapsed": false
   }
  },
  {
   "cell_type": "code",
   "execution_count": 3,
   "outputs": [],
   "source": [
    "def main():\n",
    "    program = Program(\n",
    "        prj_dir=ProjectDir(root=Path(\"/Users/zlapik/my-drive-zlapik/0-todo/ai-investing\")),\n",
    "        exp_dir=ExperimentDir(Path(os.getcwd())),\n",
    "        DEBUG=False,\n",
    "    )\n",
    "    program.dataset = get_dataset(\n",
    "        pd.read_csv(program.exp_dir.out.datasets.joinpath(f\"{dataset_name}.csv\"), index_col=0), purpose=\"test\"\n",
    "    )\n",
    "    program.exp_dir.check_and_create_dirs()\n",
    "    return program\n",
    "\n",
    "\n",
    "program = main()"
   ],
   "metadata": {
    "collapsed": false
   }
  },
  {
   "cell_type": "code",
   "execution_count": 4,
   "outputs": [
    {
     "name": "stdout",
     "output_type": "stream",
     "text": [
      "['date', 'tic']\n",
      "['open', 'high', 'low', 'close', 'volume']\n",
      "['operatingProfitMargin', 'netProfitMargin', 'returnOnAssets', 'returnOnEquity', 'currentRatio', 'quickRatio', 'cashRatio', 'inventoryTurnover', 'receivablesTurnover', 'payablesTurnover', 'debtRatio', 'debtEquityRatio', 'priceEarningsRatio', 'priceBookValueRatio', 'dividendYield']\n"
     ]
    }
   ],
   "source": [
    "print(base_cols)\n",
    "print(data_cols)\n",
    "print(ratios_cols)"
   ],
   "metadata": {
    "collapsed": false
   }
  },
  {
   "cell_type": "code",
   "execution_count": 5,
   "outputs": [],
   "source": [
    "@dataclasses.dataclass\n",
    "class LearnedAlgorithm:\n",
    "    algorithm: str\n",
    "    filename: Path\n",
    "    learned_algorithm: Union[A2C, PPO, DDPG, A2C, TD3]\n",
    "    df_account_value = pd.DataFrame()\n",
    "    df_actions = pd.DataFrame()\n",
    "    perf_stats_all = pd.DataFrame()\n",
    "\n",
    "\n",
    "def get_algorithm(filename: Path):\n",
    "    if \"a2c\" in filename.as_posix():\n",
    "        return LearnedAlgorithm(algorithm=\"a2c\", filename=filename, learned_algorithm=A2C.load(filename))\n",
    "\n",
    "\n",
    "learned_algorithms = [get_algorithm(filepath) for filepath in program.exp_dir.out.algorithms.glob(\"*\")]"
   ],
   "metadata": {
    "collapsed": false
   }
  },
  {
   "cell_type": "code",
   "execution_count": 6,
   "outputs": [
    {
     "name": "stdout",
     "output_type": "stream",
     "text": [
      "24\n",
      "Stock Dimension: 29, State Space: 494\n",
      "hit end!\n",
      "Stock Dimension: 29, State Space: 494\n",
      "hit end!\n",
      "Stock Dimension: 29, State Space: 494\n",
      "hit end!\n",
      "Stock Dimension: 29, State Space: 494\n",
      "hit end!\n",
      "Stock Dimension: 29, State Space: 494\n",
      "hit end!\n",
      "Stock Dimension: 29, State Space: 494\n",
      "hit end!\n",
      "Stock Dimension: 29, State Space: 494\n",
      "hit end!\n",
      "Stock Dimension: 29, State Space: 494\n",
      "hit end!\n",
      "Stock Dimension: 29, State Space: 494\n",
      "hit end!\n",
      "Stock Dimension: 29, State Space: 494\n",
      "hit end!\n",
      "Stock Dimension: 29, State Space: 494\n",
      "hit end!\n",
      "Stock Dimension: 29, State Space: 494\n",
      "hit end!\n",
      "Stock Dimension: 29, State Space: 494\n",
      "hit end!\n",
      "Stock Dimension: 29, State Space: 494\n",
      "hit end!\n",
      "Stock Dimension: 29, State Space: 494\n",
      "hit end!\n",
      "Stock Dimension: 29, State Space: 494\n",
      "hit end!\n",
      "Stock Dimension: 29, State Space: 494\n",
      "hit end!\n",
      "Stock Dimension: 29, State Space: 494\n",
      "hit end!\n",
      "Stock Dimension: 29, State Space: 494\n",
      "hit end!\n",
      "Stock Dimension: 29, State Space: 494\n",
      "hit end!\n",
      "Stock Dimension: 29, State Space: 494\n",
      "hit end!\n",
      "Stock Dimension: 29, State Space: 494\n",
      "hit end!\n",
      "Stock Dimension: 29, State Space: 494\n",
      "hit end!\n",
      "Stock Dimension: 29, State Space: 494\n",
      "hit end!\n"
     ]
    }
   ],
   "source": [
    "# Test Learned Algorithms\n",
    "\n",
    "print(len(learned_algorithms))\n",
    "\n",
    "for algo in learned_algorithms:\n",
    "    env_kwargs = get_env_kwargs(program.dataset)\n",
    "    env_gym = StockTradingEnv(df=program.dataset, **env_kwargs)\n",
    "    algo.df_account_value, algo.df_actions = CustomDRLAgent.DRL_prediction(\n",
    "        model=algo.learned_algorithm, environment=env_gym\n",
    "    )"
   ],
   "metadata": {
    "collapsed": false
   }
  },
  {
   "cell_type": "code",
   "execution_count": 7,
   "outputs": [
    {
     "name": "stdout",
     "output_type": "stream",
     "text": [
      "           date  account_value\n",
      "0    2019-04-12   1.000000e+06\n",
      "1    2019-04-15   9.999540e+05\n",
      "2    2019-04-16   9.999689e+05\n",
      "3    2019-04-17   9.968838e+05\n",
      "4    2019-04-18   9.995996e+05\n",
      "..          ...            ...\n",
      "923  2022-12-09   1.304557e+06\n",
      "924  2022-12-12   1.326564e+06\n",
      "925  2022-12-13   1.334561e+06\n",
      "926  2022-12-14   1.332686e+06\n",
      "927  2022-12-15   1.301198e+06\n",
      "\n",
      "[928 rows x 2 columns]\n"
     ]
    }
   ],
   "source": [
    "# print(learned_algorithms[0].df_actions)\n",
    "print(learned_algorithms[0].df_account_value)"
   ],
   "metadata": {
    "collapsed": false
   }
  },
  {
   "cell_type": "code",
   "execution_count": 8,
   "outputs": [
    {
     "ename": "KeyError",
     "evalue": "'Annual return'",
     "output_type": "error",
     "traceback": [
      "\u001b[0;31m---------------------------------------------------------------------------\u001b[0m",
      "\u001b[0;31mKeyError\u001b[0m                                  Traceback (most recent call last)",
      "File \u001b[0;32m~/my-drive-zlapik/0-todo/ai-investing/venv3.10/lib/python3.10/site-packages/pandas/core/indexes/base.py:3803\u001b[0m, in \u001b[0;36mIndex.get_loc\u001b[0;34m(self, key, method, tolerance)\u001b[0m\n\u001b[1;32m   3802\u001b[0m \u001b[38;5;28;01mtry\u001b[39;00m:\n\u001b[0;32m-> 3803\u001b[0m     \u001b[38;5;28;01mreturn\u001b[39;00m \u001b[38;5;28;43mself\u001b[39;49m\u001b[38;5;241;43m.\u001b[39;49m\u001b[43m_engine\u001b[49m\u001b[38;5;241;43m.\u001b[39;49m\u001b[43mget_loc\u001b[49m\u001b[43m(\u001b[49m\u001b[43mcasted_key\u001b[49m\u001b[43m)\u001b[49m\n\u001b[1;32m   3804\u001b[0m \u001b[38;5;28;01mexcept\u001b[39;00m \u001b[38;5;167;01mKeyError\u001b[39;00m \u001b[38;5;28;01mas\u001b[39;00m err:\n",
      "File \u001b[0;32m~/my-drive-zlapik/0-todo/ai-investing/venv3.10/lib/python3.10/site-packages/pandas/_libs/index.pyx:138\u001b[0m, in \u001b[0;36mpandas._libs.index.IndexEngine.get_loc\u001b[0;34m()\u001b[0m\n",
      "File \u001b[0;32m~/my-drive-zlapik/0-todo/ai-investing/venv3.10/lib/python3.10/site-packages/pandas/_libs/index.pyx:165\u001b[0m, in \u001b[0;36mpandas._libs.index.IndexEngine.get_loc\u001b[0;34m()\u001b[0m\n",
      "File \u001b[0;32mpandas/_libs/hashtable_class_helper.pxi:5745\u001b[0m, in \u001b[0;36mpandas._libs.hashtable.PyObjectHashTable.get_item\u001b[0;34m()\u001b[0m\n",
      "File \u001b[0;32mpandas/_libs/hashtable_class_helper.pxi:5753\u001b[0m, in \u001b[0;36mpandas._libs.hashtable.PyObjectHashTable.get_item\u001b[0;34m()\u001b[0m\n",
      "\u001b[0;31mKeyError\u001b[0m: 'Annual return'",
      "\nThe above exception was the direct cause of the following exception:\n",
      "\u001b[0;31mKeyError\u001b[0m                                  Traceback (most recent call last)",
      "Cell \u001b[0;32mIn[8], line 17\u001b[0m\n\u001b[1;32m     15\u001b[0m \u001b[38;5;28;01mif\u001b[39;00m perf_stats_all\u001b[38;5;241m.\u001b[39mloc[metric][\u001b[38;5;241m0\u001b[39m] \u001b[38;5;241m>\u001b[39m best_stats\u001b[38;5;241m.\u001b[39mperf_stats_all\u001b[38;5;241m.\u001b[39mloc[metric][\u001b[38;5;241m0\u001b[39m]:\n\u001b[1;32m     16\u001b[0m     best_stats \u001b[38;5;241m=\u001b[39m algo\n\u001b[0;32m---> 17\u001b[0m \u001b[38;5;28;01melif\u001b[39;00m perf_stats_all\u001b[38;5;241m.\u001b[39mloc[metric][\u001b[38;5;241m0\u001b[39m] \u001b[38;5;241m<\u001b[39m \u001b[43mworts_stats\u001b[49m\u001b[38;5;241;43m.\u001b[39;49m\u001b[43mperf_stats_all\u001b[49m\u001b[38;5;241;43m.\u001b[39;49m\u001b[43mloc\u001b[49m\u001b[43m[\u001b[49m\u001b[43mmetric\u001b[49m\u001b[43m]\u001b[49m[\u001b[38;5;241m0\u001b[39m]:\n\u001b[1;32m     18\u001b[0m     worts_stats \u001b[38;5;241m=\u001b[39m algo\n",
      "File \u001b[0;32m~/my-drive-zlapik/0-todo/ai-investing/venv3.10/lib/python3.10/site-packages/pandas/core/indexing.py:1073\u001b[0m, in \u001b[0;36m_LocationIndexer.__getitem__\u001b[0;34m(self, key)\u001b[0m\n\u001b[1;32m   1070\u001b[0m axis \u001b[38;5;241m=\u001b[39m \u001b[38;5;28mself\u001b[39m\u001b[38;5;241m.\u001b[39maxis \u001b[38;5;129;01mor\u001b[39;00m \u001b[38;5;241m0\u001b[39m\n\u001b[1;32m   1072\u001b[0m maybe_callable \u001b[38;5;241m=\u001b[39m com\u001b[38;5;241m.\u001b[39mapply_if_callable(key, \u001b[38;5;28mself\u001b[39m\u001b[38;5;241m.\u001b[39mobj)\n\u001b[0;32m-> 1073\u001b[0m \u001b[38;5;28;01mreturn\u001b[39;00m \u001b[38;5;28;43mself\u001b[39;49m\u001b[38;5;241;43m.\u001b[39;49m\u001b[43m_getitem_axis\u001b[49m\u001b[43m(\u001b[49m\u001b[43mmaybe_callable\u001b[49m\u001b[43m,\u001b[49m\u001b[43m \u001b[49m\u001b[43maxis\u001b[49m\u001b[38;5;241;43m=\u001b[39;49m\u001b[43maxis\u001b[49m\u001b[43m)\u001b[49m\n",
      "File \u001b[0;32m~/my-drive-zlapik/0-todo/ai-investing/venv3.10/lib/python3.10/site-packages/pandas/core/indexing.py:1312\u001b[0m, in \u001b[0;36m_LocIndexer._getitem_axis\u001b[0;34m(self, key, axis)\u001b[0m\n\u001b[1;32m   1310\u001b[0m \u001b[38;5;66;03m# fall thru to straight lookup\u001b[39;00m\n\u001b[1;32m   1311\u001b[0m \u001b[38;5;28mself\u001b[39m\u001b[38;5;241m.\u001b[39m_validate_key(key, axis)\n\u001b[0;32m-> 1312\u001b[0m \u001b[38;5;28;01mreturn\u001b[39;00m \u001b[38;5;28;43mself\u001b[39;49m\u001b[38;5;241;43m.\u001b[39;49m\u001b[43m_get_label\u001b[49m\u001b[43m(\u001b[49m\u001b[43mkey\u001b[49m\u001b[43m,\u001b[49m\u001b[43m \u001b[49m\u001b[43maxis\u001b[49m\u001b[38;5;241;43m=\u001b[39;49m\u001b[43maxis\u001b[49m\u001b[43m)\u001b[49m\n",
      "File \u001b[0;32m~/my-drive-zlapik/0-todo/ai-investing/venv3.10/lib/python3.10/site-packages/pandas/core/indexing.py:1260\u001b[0m, in \u001b[0;36m_LocIndexer._get_label\u001b[0;34m(self, label, axis)\u001b[0m\n\u001b[1;32m   1258\u001b[0m \u001b[38;5;28;01mdef\u001b[39;00m \u001b[38;5;21m_get_label\u001b[39m(\u001b[38;5;28mself\u001b[39m, label, axis: \u001b[38;5;28mint\u001b[39m):\n\u001b[1;32m   1259\u001b[0m     \u001b[38;5;66;03m# GH#5567 this will fail if the label is not present in the axis.\u001b[39;00m\n\u001b[0;32m-> 1260\u001b[0m     \u001b[38;5;28;01mreturn\u001b[39;00m \u001b[38;5;28;43mself\u001b[39;49m\u001b[38;5;241;43m.\u001b[39;49m\u001b[43mobj\u001b[49m\u001b[38;5;241;43m.\u001b[39;49m\u001b[43mxs\u001b[49m\u001b[43m(\u001b[49m\u001b[43mlabel\u001b[49m\u001b[43m,\u001b[49m\u001b[43m \u001b[49m\u001b[43maxis\u001b[49m\u001b[38;5;241;43m=\u001b[39;49m\u001b[43maxis\u001b[49m\u001b[43m)\u001b[49m\n",
      "File \u001b[0;32m~/my-drive-zlapik/0-todo/ai-investing/venv3.10/lib/python3.10/site-packages/pandas/core/generic.py:4056\u001b[0m, in \u001b[0;36mNDFrame.xs\u001b[0;34m(self, key, axis, level, drop_level)\u001b[0m\n\u001b[1;32m   4054\u001b[0m             new_index \u001b[38;5;241m=\u001b[39m index[loc]\n\u001b[1;32m   4055\u001b[0m \u001b[38;5;28;01melse\u001b[39;00m:\n\u001b[0;32m-> 4056\u001b[0m     loc \u001b[38;5;241m=\u001b[39m \u001b[43mindex\u001b[49m\u001b[38;5;241;43m.\u001b[39;49m\u001b[43mget_loc\u001b[49m\u001b[43m(\u001b[49m\u001b[43mkey\u001b[49m\u001b[43m)\u001b[49m\n\u001b[1;32m   4058\u001b[0m     \u001b[38;5;28;01mif\u001b[39;00m \u001b[38;5;28misinstance\u001b[39m(loc, np\u001b[38;5;241m.\u001b[39mndarray):\n\u001b[1;32m   4059\u001b[0m         \u001b[38;5;28;01mif\u001b[39;00m loc\u001b[38;5;241m.\u001b[39mdtype \u001b[38;5;241m==\u001b[39m np\u001b[38;5;241m.\u001b[39mbool_:\n",
      "File \u001b[0;32m~/my-drive-zlapik/0-todo/ai-investing/venv3.10/lib/python3.10/site-packages/pandas/core/indexes/base.py:3805\u001b[0m, in \u001b[0;36mIndex.get_loc\u001b[0;34m(self, key, method, tolerance)\u001b[0m\n\u001b[1;32m   3803\u001b[0m     \u001b[38;5;28;01mreturn\u001b[39;00m \u001b[38;5;28mself\u001b[39m\u001b[38;5;241m.\u001b[39m_engine\u001b[38;5;241m.\u001b[39mget_loc(casted_key)\n\u001b[1;32m   3804\u001b[0m \u001b[38;5;28;01mexcept\u001b[39;00m \u001b[38;5;167;01mKeyError\u001b[39;00m \u001b[38;5;28;01mas\u001b[39;00m err:\n\u001b[0;32m-> 3805\u001b[0m     \u001b[38;5;28;01mraise\u001b[39;00m \u001b[38;5;167;01mKeyError\u001b[39;00m(key) \u001b[38;5;28;01mfrom\u001b[39;00m \u001b[38;5;21;01merr\u001b[39;00m\n\u001b[1;32m   3806\u001b[0m \u001b[38;5;28;01mexcept\u001b[39;00m \u001b[38;5;167;01mTypeError\u001b[39;00m:\n\u001b[1;32m   3807\u001b[0m     \u001b[38;5;66;03m# If we have a listlike key, _check_indexing_error will raise\u001b[39;00m\n\u001b[1;32m   3808\u001b[0m     \u001b[38;5;66;03m#  InvalidIndexError. Otherwise we fall through and re-raise\u001b[39;00m\n\u001b[1;32m   3809\u001b[0m     \u001b[38;5;66;03m#  the TypeError.\u001b[39;00m\n\u001b[1;32m   3810\u001b[0m     \u001b[38;5;28mself\u001b[39m\u001b[38;5;241m.\u001b[39m_check_indexing_error(key)\n",
      "\u001b[0;31mKeyError\u001b[0m: 'Annual return'"
     ]
    }
   ],
   "source": [
    "best_stats: LearnedAlgorithm = None\n",
    "worst_stats: LearnedAlgorithm = None\n",
    "\n",
    "metric = \"Annual return\"\n",
    "\n",
    "for algo in learned_algorithms:\n",
    "    perf_stats_all = backtest_stats(account_value=algo.df_account_value)\n",
    "    perf_stats_all = pd.DataFrame(perf_stats_all)\n",
    "\n",
    "    if best_stats is None or worst_stats is None:\n",
    "        algo.perf_stats_all = perf_stats_all\n",
    "        best_stats = algo\n",
    "        worst_stats = algo\n",
    "\n",
    "    if perf_stats_all.loc[metric][0] > best_stats.perf_stats_all.loc[metric][0]:\n",
    "        best_stats = algo\n",
    "    elif perf_stats_all.loc[metric][0] < worst_stats.perf_stats_all.loc[metric][0]:\n",
    "        worst_stats = algo"
   ],
   "metadata": {
    "collapsed": false
   }
  },
  {
   "cell_type": "code",
   "execution_count": 27,
   "outputs": [
    {
     "name": "stdout",
     "output_type": "stream",
     "text": [
      "Start: 2019-04-12  -  End: 2022-12-15\n"
     ]
    }
   ],
   "source": [
    "start = program.dataset[\"date\"].min()\n",
    "end = program.dataset[\"date\"].max()\n",
    "print(f\"Start: {start}  -  End: {end}\")"
   ],
   "metadata": {
    "collapsed": false
   }
  },
  {
   "cell_type": "code",
   "execution_count": 28,
   "outputs": [],
   "source": [
    "# Baseline\n",
    "baseline_df = get_baseline(\"^DJI\", start, end)"
   ],
   "metadata": {
    "collapsed": false
   }
  },
  {
   "cell_type": "code",
   "execution_count": 29,
   "outputs": [
    {
     "data": {
      "text/plain": "                  date          open          high           low  \\\nDate                                                               \n2019-04-12  2019-04-12  26357.789062  26436.679688  26309.720703   \n2019-04-15  2019-04-15  26407.759766  26424.849609  26316.419922   \n2019-04-16  2019-04-16  26482.189453  26530.710938  26397.189453   \n2019-04-17  2019-04-17  26468.529297  26501.019531  26391.859375   \n2019-04-18  2019-04-18  26463.369141  26602.419922  26444.529297   \n...                ...           ...           ...           ...   \n2022-12-08  2022-12-08  33695.968750  33899.171875  33642.460938   \n2022-12-09  2022-12-09  33746.710938  33844.628906  33462.648438   \n2022-12-12  2022-12-12  33519.500000  34005.039062  33519.500000   \n2022-12-13  2022-12-13  34268.441406  34712.281250  33890.878906   \n2022-12-14  2022-12-14  34086.070312  34395.648438  33704.171875   \n\n                   close     volume  dividends  stock splits  \nDate                                                          \n2019-04-12  26412.300781  369910000          0             0  \n2019-04-15  26384.769531  250620000          0             0  \n2019-04-16  26452.660156  302340000          0             0  \n2019-04-17  26449.539062  367780000          0             0  \n2019-04-18  26559.539062  332850000          0             0  \n...                  ...        ...        ...           ...  \n2022-12-08  33781.480469  271830000          0             0  \n2022-12-09  33476.460938  287630000          0             0  \n2022-12-12  34005.039062  313440000          0             0  \n2022-12-13  34108.640625  442650000          0             0  \n2022-12-14  33966.351562  339090000          0             0  \n\n[927 rows x 8 columns]",
      "text/html": "<div>\n<style scoped>\n    .dataframe tbody tr th:only-of-type {\n        vertical-align: middle;\n    }\n\n    .dataframe tbody tr th {\n        vertical-align: top;\n    }\n\n    .dataframe thead th {\n        text-align: right;\n    }\n</style>\n<table border=\"1\" class=\"dataframe\">\n  <thead>\n    <tr style=\"text-align: right;\">\n      <th></th>\n      <th>date</th>\n      <th>open</th>\n      <th>high</th>\n      <th>low</th>\n      <th>close</th>\n      <th>volume</th>\n      <th>dividends</th>\n      <th>stock splits</th>\n    </tr>\n    <tr>\n      <th>Date</th>\n      <th></th>\n      <th></th>\n      <th></th>\n      <th></th>\n      <th></th>\n      <th></th>\n      <th></th>\n      <th></th>\n    </tr>\n  </thead>\n  <tbody>\n    <tr>\n      <th>2019-04-12</th>\n      <td>2019-04-12</td>\n      <td>26357.789062</td>\n      <td>26436.679688</td>\n      <td>26309.720703</td>\n      <td>26412.300781</td>\n      <td>369910000</td>\n      <td>0</td>\n      <td>0</td>\n    </tr>\n    <tr>\n      <th>2019-04-15</th>\n      <td>2019-04-15</td>\n      <td>26407.759766</td>\n      <td>26424.849609</td>\n      <td>26316.419922</td>\n      <td>26384.769531</td>\n      <td>250620000</td>\n      <td>0</td>\n      <td>0</td>\n    </tr>\n    <tr>\n      <th>2019-04-16</th>\n      <td>2019-04-16</td>\n      <td>26482.189453</td>\n      <td>26530.710938</td>\n      <td>26397.189453</td>\n      <td>26452.660156</td>\n      <td>302340000</td>\n      <td>0</td>\n      <td>0</td>\n    </tr>\n    <tr>\n      <th>2019-04-17</th>\n      <td>2019-04-17</td>\n      <td>26468.529297</td>\n      <td>26501.019531</td>\n      <td>26391.859375</td>\n      <td>26449.539062</td>\n      <td>367780000</td>\n      <td>0</td>\n      <td>0</td>\n    </tr>\n    <tr>\n      <th>2019-04-18</th>\n      <td>2019-04-18</td>\n      <td>26463.369141</td>\n      <td>26602.419922</td>\n      <td>26444.529297</td>\n      <td>26559.539062</td>\n      <td>332850000</td>\n      <td>0</td>\n      <td>0</td>\n    </tr>\n    <tr>\n      <th>...</th>\n      <td>...</td>\n      <td>...</td>\n      <td>...</td>\n      <td>...</td>\n      <td>...</td>\n      <td>...</td>\n      <td>...</td>\n      <td>...</td>\n    </tr>\n    <tr>\n      <th>2022-12-08</th>\n      <td>2022-12-08</td>\n      <td>33695.968750</td>\n      <td>33899.171875</td>\n      <td>33642.460938</td>\n      <td>33781.480469</td>\n      <td>271830000</td>\n      <td>0</td>\n      <td>0</td>\n    </tr>\n    <tr>\n      <th>2022-12-09</th>\n      <td>2022-12-09</td>\n      <td>33746.710938</td>\n      <td>33844.628906</td>\n      <td>33462.648438</td>\n      <td>33476.460938</td>\n      <td>287630000</td>\n      <td>0</td>\n      <td>0</td>\n    </tr>\n    <tr>\n      <th>2022-12-12</th>\n      <td>2022-12-12</td>\n      <td>33519.500000</td>\n      <td>34005.039062</td>\n      <td>33519.500000</td>\n      <td>34005.039062</td>\n      <td>313440000</td>\n      <td>0</td>\n      <td>0</td>\n    </tr>\n    <tr>\n      <th>2022-12-13</th>\n      <td>2022-12-13</td>\n      <td>34268.441406</td>\n      <td>34712.281250</td>\n      <td>33890.878906</td>\n      <td>34108.640625</td>\n      <td>442650000</td>\n      <td>0</td>\n      <td>0</td>\n    </tr>\n    <tr>\n      <th>2022-12-14</th>\n      <td>2022-12-14</td>\n      <td>34086.070312</td>\n      <td>34395.648438</td>\n      <td>33704.171875</td>\n      <td>33966.351562</td>\n      <td>339090000</td>\n      <td>0</td>\n      <td>0</td>\n    </tr>\n  </tbody>\n</table>\n<p>927 rows × 8 columns</p>\n</div>"
     },
     "execution_count": 29,
     "metadata": {},
     "output_type": "execute_result"
    }
   ],
   "source": [
    "baseline_df"
   ],
   "metadata": {
    "collapsed": false
   }
  },
  {
   "cell_type": "code",
   "execution_count": 30,
   "outputs": [
    {
     "name": "stdout",
     "output_type": "stream",
     "text": [
      "2019-04-12\n",
      "2022-12-14\n"
     ]
    }
   ],
   "source": [
    "print(baseline_df.index.min())\n",
    "print(baseline_df.index.max())"
   ],
   "metadata": {
    "collapsed": false
   }
  },
  {
   "cell_type": "code",
   "execution_count": 31,
   "outputs": [
    {
     "name": "stdout",
     "output_type": "stream",
     "text": [
      "Annual return          0.070772\n",
      "Cumulative returns     0.286005\n",
      "Annual volatility      0.232728\n",
      "Sharpe ratio           0.411239\n",
      "Calmar ratio           0.190831\n",
      "Stability              0.561379\n",
      "Max drawdown          -0.370862\n",
      "Omega ratio            1.087791\n",
      "Sortino ratio          0.567932\n",
      "Skew                        NaN\n",
      "Kurtosis                    NaN\n",
      "Tail ratio             0.953450\n",
      "Daily value at risk   -0.028941\n",
      "dtype: float64\n"
     ]
    }
   ],
   "source": [
    "stats = backtest_stats(baseline_df, value_col_name=\"close\")"
   ],
   "metadata": {
    "collapsed": false
   }
  },
  {
   "cell_type": "code",
   "execution_count": 1,
   "outputs": [
    {
     "ename": "ModuleNotFoundError",
     "evalue": "No module named 'rl'",
     "output_type": "error",
     "traceback": [
      "\u001b[0;31m---------------------------------------------------------------------------\u001b[0m",
      "\u001b[0;31mModuleNotFoundError\u001b[0m                       Traceback (most recent call last)",
      "Cell \u001b[0;32mIn[1], line 1\u001b[0m\n\u001b[0;32m----> 1\u001b[0m \u001b[38;5;28;01mfrom\u001b[39;00m \u001b[38;5;21;01mrl\u001b[39;00m\u001b[38;5;21;01m.\u001b[39;00m\u001b[38;5;21;01mplot\u001b[39;00m\u001b[38;5;21;01m.\u001b[39;00m\u001b[38;5;21;01mplot\u001b[39;00m \u001b[38;5;28;01mimport\u001b[39;00m backtest_plot, get_baseline\n\u001b[1;32m      3\u001b[0m backtest_plot(\n\u001b[1;32m      4\u001b[0m     get_baseline(\u001b[38;5;124m\"\u001b[39m\u001b[38;5;124mAAPL\u001b[39m\u001b[38;5;124m\"\u001b[39m, start, end),\n\u001b[1;32m      5\u001b[0m     baseline_ticker\u001b[38;5;241m=\u001b[39m\u001b[38;5;124m\"\u001b[39m\u001b[38;5;124m^DJI\u001b[39m\u001b[38;5;124m\"\u001b[39m,\n\u001b[1;32m      6\u001b[0m     baseline_start\u001b[38;5;241m=\u001b[39mstart,\n\u001b[1;32m      7\u001b[0m     baseline_end\u001b[38;5;241m=\u001b[39mend,\n\u001b[1;32m      8\u001b[0m )\n",
      "\u001b[0;31mModuleNotFoundError\u001b[0m: No module named 'rl'"
     ]
    }
   ],
   "source": [],
   "metadata": {
    "collapsed": false
   }
  },
  {
   "cell_type": "code",
   "execution_count": 33,
   "outputs": [
    {
     "data": {
      "text/plain": "<IPython.core.display.HTML object>",
      "text/html": "<table border=\"1\" class=\"dataframe\">\n  <thead>\n    <tr style=\"text-align: right;\"><th>Start date</th><td colspan=2>2019-04-12</td></tr>\n    <tr style=\"text-align: right;\"><th>End date</th><td colspan=2>2022-12-15</td></tr>\n    <tr style=\"text-align: right;\"><th>Total months</th><td colspan=2>44</td></tr>\n    <tr style=\"text-align: right;\">\n      <th></th>\n      <th>Backtest</th>\n    </tr>\n  </thead>\n  <tbody>\n    <tr>\n      <th>Annual return</th>\n      <td>5.772%</td>\n    </tr>\n    <tr>\n      <th>Cumulative returns</th>\n      <td>22.954%</td>\n    </tr>\n    <tr>\n      <th>Annual volatility</th>\n      <td>29.539%</td>\n    </tr>\n    <tr>\n      <th>Sharpe ratio</th>\n      <td>0.34</td>\n    </tr>\n    <tr>\n      <th>Calmar ratio</th>\n      <td>0.13</td>\n    </tr>\n    <tr>\n      <th>Stability</th>\n      <td>0.36</td>\n    </tr>\n    <tr>\n      <th>Max drawdown</th>\n      <td>-44.159%</td>\n    </tr>\n    <tr>\n      <th>Omega ratio</th>\n      <td>1.07</td>\n    </tr>\n    <tr>\n      <th>Sortino ratio</th>\n      <td>0.47</td>\n    </tr>\n    <tr>\n      <th>Skew</th>\n      <td>NaN</td>\n    </tr>\n    <tr>\n      <th>Kurtosis</th>\n      <td>NaN</td>\n    </tr>\n    <tr>\n      <th>Tail ratio</th>\n      <td>1.04</td>\n    </tr>\n    <tr>\n      <th>Daily value at risk</th>\n      <td>-3.682%</td>\n    </tr>\n    <tr>\n      <th>Alpha</th>\n      <td>0.11</td>\n    </tr>\n    <tr>\n      <th>Beta</th>\n      <td>1.11</td>\n    </tr>\n  </tbody>\n</table>"
     },
     "metadata": {},
     "output_type": "display_data"
    },
    {
     "data": {
      "text/plain": "<IPython.core.display.HTML object>",
      "text/html": "<table border=\"1\" class=\"dataframe\">\n  <thead>\n    <tr style=\"text-align: right;\">\n      <th>Worst drawdown periods</th>\n      <th>Net drawdown in %</th>\n      <th>Peak date</th>\n      <th>Valley date</th>\n      <th>Recovery date</th>\n      <th>Duration</th>\n    </tr>\n  </thead>\n  <tbody>\n    <tr>\n      <th>0</th>\n      <td>44.16</td>\n      <td>2020-02-12</td>\n      <td>2020-03-20</td>\n      <td>2021-01-06</td>\n      <td>236</td>\n    </tr>\n    <tr>\n      <th>1</th>\n      <td>32.13</td>\n      <td>2021-11-02</td>\n      <td>2022-09-27</td>\n      <td>NaT</td>\n      <td>NaN</td>\n    </tr>\n    <tr>\n      <th>2</th>\n      <td>9.42</td>\n      <td>2019-07-23</td>\n      <td>2019-08-14</td>\n      <td>2019-09-11</td>\n      <td>37</td>\n    </tr>\n    <tr>\n      <th>3</th>\n      <td>7.11</td>\n      <td>2019-04-30</td>\n      <td>2019-06-03</td>\n      <td>2019-06-20</td>\n      <td>38</td>\n    </tr>\n    <tr>\n      <th>4</th>\n      <td>6.81</td>\n      <td>2021-08-27</td>\n      <td>2021-09-21</td>\n      <td>2021-10-18</td>\n      <td>37</td>\n    </tr>\n  </tbody>\n</table>"
     },
     "metadata": {},
     "output_type": "display_data"
    },
    {
     "data": {
      "text/plain": "<IPython.core.display.HTML object>",
      "text/html": "<table border=\"1\" class=\"dataframe\">\n  <thead>\n    <tr style=\"text-align: right;\">\n      <th>Stress Events</th>\n      <th>mean</th>\n      <th>min</th>\n      <th>max</th>\n    </tr>\n  </thead>\n  <tbody>\n    <tr>\n      <th>New Normal</th>\n      <td>0.04%</td>\n      <td>-15.71%</td>\n      <td>13.63%</td>\n    </tr>\n  </tbody>\n</table>"
     },
     "metadata": {},
     "output_type": "display_data"
    }
   ],
   "source": [
    "# account_value = df_account_value\n",
    "# baseline_ticker = \"^DJI\"\n",
    "# baseline_start = program.dataset.index.min()\n",
    "# baseline_end = program.dataset.index.max()\n",
    "# value_col_name = \"account_value\"\n",
    "#\n",
    "# df = deepcopy(account_value)\n",
    "# df[\"date\"] = pd.to_datetime(df[\"date\"])\n",
    "# test_returns = get_daily_return(df, value_col_name=value_col_name)\n",
    "#\n",
    "# baseline_df = get_baseline(ticker=baseline_ticker, start=baseline_start, end=baseline_end)\n",
    "#\n",
    "# baseline_df[\"date\"] = pd.to_datetime(baseline_df[\"date\"], format=\"%Y-%m-%d\")\n",
    "# baseline_df = pd.merge(df[[\"date\"]], baseline_df, how=\"left\", on=\"date\")\n",
    "# baseline_df = baseline_df.fillna(method=\"ffill\").fillna(method=\"bfill\")\n",
    "# baseline_returns = get_daily_return(baseline_df, value_col_name=\"close\")\n",
    "#\n",
    "# with pyfolio.plotting.plotting_context(font_scale=1.1):\n",
    "#     pyfolio.create_full_tear_sheet(\n",
    "#         returns=test_returns,\n",
    "#         benchmark_rets=baseline_returns,\n",
    "#         set_context=False,\n",
    "#     )\n",
    "#"
   ],
   "metadata": {
    "collapsed": false
   }
  },
  {
   "cell_type": "code",
   "execution_count": 34,
   "outputs": [
    {
     "data": {
      "text/plain": "<IPython.core.display.HTML object>",
      "text/html": "<table border=\"1\" class=\"dataframe\">\n  <thead>\n    <tr style=\"text-align: right;\"><th>Start date</th><td colspan=2>2019-04-12</td></tr>\n    <tr style=\"text-align: right;\"><th>End date</th><td colspan=2>2022-12-15</td></tr>\n    <tr style=\"text-align: right;\"><th>Total months</th><td colspan=2>44</td></tr>\n    <tr style=\"text-align: right;\">\n      <th></th>\n      <th>Backtest</th>\n    </tr>\n  </thead>\n  <tbody>\n    <tr>\n      <th>Annual return</th>\n      <td>5.772%</td>\n    </tr>\n    <tr>\n      <th>Cumulative returns</th>\n      <td>22.954%</td>\n    </tr>\n    <tr>\n      <th>Annual volatility</th>\n      <td>29.539%</td>\n    </tr>\n    <tr>\n      <th>Sharpe ratio</th>\n      <td>0.34</td>\n    </tr>\n    <tr>\n      <th>Calmar ratio</th>\n      <td>0.13</td>\n    </tr>\n    <tr>\n      <th>Stability</th>\n      <td>0.36</td>\n    </tr>\n    <tr>\n      <th>Max drawdown</th>\n      <td>-44.159%</td>\n    </tr>\n    <tr>\n      <th>Omega ratio</th>\n      <td>1.07</td>\n    </tr>\n    <tr>\n      <th>Sortino ratio</th>\n      <td>0.47</td>\n    </tr>\n    <tr>\n      <th>Skew</th>\n      <td>NaN</td>\n    </tr>\n    <tr>\n      <th>Kurtosis</th>\n      <td>NaN</td>\n    </tr>\n    <tr>\n      <th>Tail ratio</th>\n      <td>1.04</td>\n    </tr>\n    <tr>\n      <th>Daily value at risk</th>\n      <td>-3.682%</td>\n    </tr>\n  </tbody>\n</table>"
     },
     "metadata": {},
     "output_type": "display_data"
    },
    {
     "data": {
      "text/plain": "<IPython.core.display.HTML object>",
      "text/html": "<table border=\"1\" class=\"dataframe\">\n  <thead>\n    <tr style=\"text-align: right;\">\n      <th>Worst drawdown periods</th>\n      <th>Net drawdown in %</th>\n      <th>Peak date</th>\n      <th>Valley date</th>\n      <th>Recovery date</th>\n      <th>Duration</th>\n    </tr>\n  </thead>\n  <tbody>\n    <tr>\n      <th>0</th>\n      <td>44.16</td>\n      <td>2020-02-12</td>\n      <td>2020-03-20</td>\n      <td>2021-01-06</td>\n      <td>236</td>\n    </tr>\n    <tr>\n      <th>1</th>\n      <td>32.13</td>\n      <td>2021-11-02</td>\n      <td>2022-09-27</td>\n      <td>NaT</td>\n      <td>NaN</td>\n    </tr>\n    <tr>\n      <th>2</th>\n      <td>9.42</td>\n      <td>2019-07-23</td>\n      <td>2019-08-14</td>\n      <td>2019-09-11</td>\n      <td>37</td>\n    </tr>\n    <tr>\n      <th>3</th>\n      <td>7.11</td>\n      <td>2019-04-30</td>\n      <td>2019-06-03</td>\n      <td>2019-06-20</td>\n      <td>38</td>\n    </tr>\n    <tr>\n      <th>4</th>\n      <td>6.81</td>\n      <td>2021-08-27</td>\n      <td>2021-09-21</td>\n      <td>2021-10-18</td>\n      <td>37</td>\n    </tr>\n  </tbody>\n</table>"
     },
     "metadata": {},
     "output_type": "display_data"
    }
   ],
   "source": [
    "#\n",
    "# df = deepcopy(account_value)\n",
    "# df[\"date\"] = pd.to_datetime(df[\"date\"])\n",
    "# test_returns = get_daily_return(df, value_col_name=value_col_name)\n",
    "#\n",
    "# positions = utils.check_intraday(\"infer\", test_returns, None, None)\n",
    "#\n",
    "# create_returns_tear_sheet(\n",
    "#     test_returns,\n",
    "#     positions=positions,\n",
    "#     transactions=None,\n",
    "#     live_start_date=None,\n",
    "#     cone_std=(1.0, 1.5, 2.0),\n",
    "#     benchmark_rets=None,\n",
    "#     bootstrap=False,\n",
    "#     turnover_denom=\"AGB\",\n",
    "#     header_rows=None,\n",
    "#     set_context=True\n",
    "# )"
   ],
   "metadata": {
    "collapsed": false
   }
  },
  {
   "cell_type": "code",
   "execution_count": null,
   "outputs": [],
   "source": [],
   "metadata": {
    "collapsed": false
   }
  }
 ],
 "metadata": {
  "colab": {
   "collapsed_sections": [
    "_gDkU-j-fCmZ",
    "MRiOtrywfAo1",
    "3Zpv4S0-fDBv",
    "Dr49PotrfG01"
   ],
   "name": "Stock_Fundamental.ipynb",
   "provenance": []
  },
  "gpuClass": "standard",
  "kernelspec": {
   "display_name": "Python 3.10.8 ('venv3.10': venv)",
   "language": "python",
   "name": "python3"
  },
  "language_info": {
   "codemirror_mode": {
    "name": "ipython",
    "version": 3
   },
   "file_extension": ".py",
   "mimetype": "text/x-python",
   "name": "python",
   "nbconvert_exporter": "python",
   "pygments_lexer": "ipython3",
   "version": "3.10.8"
  },
  "vscode": {
   "interpreter": {
    "hash": "32c0c8ab8a6b580687c5ec847b855eb3ee7063ee446f183d34922604f3e580fd"
   }
  }
 },
 "nbformat": 4,
 "nbformat_minor": 0
}
