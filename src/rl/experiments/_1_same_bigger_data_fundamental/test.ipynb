{
 "cells": [
  {
   "cell_type": "code",
   "execution_count": 33,
   "outputs": [],
   "source": [
    "#\n",
    "import os\n",
    "import copy\n",
    "import sys\n",
    "import warnings\n",
    "import matplotlib\n",
    "from pathlib import Path\n",
    "from typing import Dict\n",
    "\n",
    "#\n",
    "sys.path.append(\"./src/\")\n",
    "sys.path.append(\"./\")\n",
    "sys.path.append(\"../\")\n",
    "sys.path.append(\"../../\")\n",
    "sys.path.append(\"../../../\")\n",
    "\n",
    "# FinRL\n",
    "from finrl.config_tickers import DOW_30_TICKER\n",
    "\n",
    "# FinRL-Meta\n",
    "from meta.data_processors.yahoofinance import Yahoofinance\n",
    "\n",
    "#\n",
    "import yfinance as yf"
   ],
   "metadata": {
    "collapsed": false
   }
  },
  {
   "cell_type": "code",
   "execution_count": 34,
   "outputs": [],
   "source": [
    "def config():\n",
    "    #\n",
    "    warnings.filterwarnings(\"ignore\", category=UserWarning)  # TODO: zipline problem\n",
    "    warnings.filterwarnings(\"ignore\", category=DeprecationWarning)\n",
    "    warnings.filterwarnings(\"ignore\", category=FutureWarning)\n",
    "    warnings.filterwarnings(\"ignore\", category=RuntimeWarning)\n",
    "\n",
    "    #\n",
    "    matplotlib.use(\"Agg\")\n",
    "\n",
    "\n",
    "config()"
   ],
   "metadata": {
    "collapsed": false
   }
  },
  {
   "cell_type": "code",
   "execution_count": 35,
   "outputs": [],
   "source": [
    "#\n",
    "import numpy as np\n",
    "import pandas as pd\n",
    "import tqdm\n",
    "\n",
    "#\n",
    "from common.utils import now_time\n",
    "from configuration.settings import ProjectDir\n",
    "from rl.data.CompanyInfo import CompanyInfo"
   ],
   "metadata": {
    "collapsed": false
   }
  },
  {
   "cell_type": "code",
   "execution_count": 36,
   "outputs": [],
   "source": [
    "#\n",
    "prj_dir = ProjectDir(root=Path(\"/Users/zlapik/my-drive-zlapik/0-todo/ai-investing\"))\n",
    "\n",
    "#\n",
    "_TRAIN_DATA_START = \"2000-01-01\"\n",
    "_TRAIN_DATA_END = \"2015-12-31\"\n",
    "_TEST_DATA_START = \"2016-01-01\"\n",
    "_TEST_DATA_END = \"2021-12-31\"\n",
    "\n",
    "#\n",
    "TICKERS = copy.deepcopy(DOW_30_TICKER)\n",
    "TICKERS.remove(\"DOW\")  # TODO: I don't have all necessary data\n",
    "\n",
    "#\n",
    "prj_dir = ProjectDir(root=Path(\"/Users/zlapik/my-drive-zlapik/0-todo/ai-investing\"))"
   ],
   "metadata": {
    "collapsed": false
   }
  },
  {
   "cell_type": "code",
   "execution_count": 37,
   "outputs": [
    {
     "data": {
      "text/plain": "['AXP',\n 'AMGN',\n 'AAPL',\n 'BA',\n 'CAT',\n 'CSCO',\n 'CVX',\n 'GS',\n 'HD',\n 'HON',\n 'IBM',\n 'INTC',\n 'JNJ',\n 'KO',\n 'JPM',\n 'MCD',\n 'MMM',\n 'MRK',\n 'MSFT',\n 'NKE',\n 'PG',\n 'TRV',\n 'UNH',\n 'CRM',\n 'VZ',\n 'V',\n 'WBA',\n 'WMT',\n 'DIS']"
     },
     "execution_count": 37,
     "metadata": {},
     "output_type": "execute_result"
    }
   ],
   "source": [
    "TICKERS"
   ],
   "metadata": {
    "collapsed": false
   }
  },
  {
   "cell_type": "code",
   "execution_count": 38,
   "outputs": [
    {
     "data": {
      "text/plain": "PosixPath('/Users/zlapik/my-drive-zlapik/0-todo/ai-investing')"
     },
     "execution_count": 38,
     "metadata": {},
     "output_type": "execute_result"
    }
   ],
   "source": [
    "prj_dir.root"
   ],
   "metadata": {
    "collapsed": false
   }
  },
  {
   "cell_type": "code",
   "execution_count": 39,
   "outputs": [
    {
     "name": "stdout",
     "output_type": "stream",
     "text": [
      "['date', 'tic']\n",
      "['open', 'high', 'low', 'close', 'volume']\n",
      "['operatingProfitMargin', 'netProfitMargin', 'returnOnAssets', 'returnOnEquity', 'currentRatio', 'quickRatio', 'cashRatio', 'inventoryTurnover', 'receivablesTurnover', 'payablesTurnover', 'debtRatio', 'debtEquityRatio', 'priceEarningsRatio', 'priceBookValueRatio', 'dividendYield']\n"
     ]
    }
   ],
   "source": [
    "base_cols = list([\"date\", \"tic\"])\n",
    "\n",
    "data_cols = list([\"open\", \"high\", \"low\", \"close\", \"volume\"])\n",
    "\n",
    "ratios_cols = list(\n",
    "    [\n",
    "        \"operatingProfitMargin\",\n",
    "        \"netProfitMargin\",\n",
    "        \"returnOnAssets\",\n",
    "        \"returnOnEquity\",\n",
    "        \"currentRatio\",\n",
    "        \"quickRatio\",\n",
    "        \"cashRatio\",\n",
    "        \"inventoryTurnover\",\n",
    "        \"receivablesTurnover\",\n",
    "        \"payablesTurnover\",\n",
    "        \"debtRatio\",\n",
    "        \"debtEquityRatio\",\n",
    "        \"priceEarningsRatio\",\n",
    "        \"priceBookValueRatio\",\n",
    "        \"dividendYield\",\n",
    "    ]\n",
    ")\n",
    "\n",
    "print(base_cols)\n",
    "print(data_cols)\n",
    "print(ratios_cols)"
   ],
   "metadata": {
    "collapsed": false
   }
  },
  {
   "cell_type": "code",
   "execution_count": null,
   "outputs": [],
   "source": [],
   "metadata": {
    "collapsed": false
   }
  }
 ],
 "metadata": {
  "colab": {
   "collapsed_sections": [
    "_gDkU-j-fCmZ",
    "MRiOtrywfAo1",
    "3Zpv4S0-fDBv",
    "Dr49PotrfG01"
   ],
   "name": "Stock_Fundamental.ipynb",
   "provenance": []
  },
  "gpuClass": "standard",
  "kernelspec": {
   "display_name": "Python 3.10.8 ('venv3.10': venv)",
   "language": "python",
   "name": "python3"
  },
  "language_info": {
   "codemirror_mode": {
    "name": "ipython",
    "version": 3
   },
   "file_extension": ".py",
   "mimetype": "text/x-python",
   "name": "python",
   "nbconvert_exporter": "python",
   "pygments_lexer": "ipython3",
   "version": "3.10.8"
  },
  "vscode": {
   "interpreter": {
    "hash": "32c0c8ab8a6b580687c5ec847b855eb3ee7063ee446f183d34922604f3e580fd"
   }
  }
 },
 "nbformat": 4,
 "nbformat_minor": 0
}
