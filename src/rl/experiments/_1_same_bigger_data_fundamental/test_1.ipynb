{
 "cells": [
  {
   "cell_type": "code",
   "execution_count": null,
   "outputs": [],
   "source": [
    "#\n",
    "import os\n",
    "import sys\n",
    "import warnings\n",
    "import dataclasses\n",
    "from copy import deepcopy\n",
    "from pathlib import Path\n",
    "from typing import Dict, Union, List, Callable\n",
    "\n",
    "#\n",
    "sys.path.append(\"./src/\")\n",
    "sys.path.append(\"./\")\n",
    "sys.path.append(\"../\")\n",
    "sys.path.append(\"../../\")\n",
    "sys.path.append(\"../../../\")\n",
    "\n",
    "# Stable Baseline3\n",
    "from stable_baselines3 import A2C, DDPG, PPO, SAC, TD3\n",
    "\n",
    "#\n",
    "import seaborn as sns\n",
    "import matplotlib.dates as mdates\n",
    "import matplotlib.pyplot as plt\n",
    "import numpy as np\n",
    "import pandas as pd\n",
    "\n",
    "# from pyfolio import create_returns_tear_sheet\n",
    "# from pyfolio import utils\n",
    "\n",
    "#\n",
    "from rl.plot.plot import backtest_stats, backtest_plot, get_daily_return, get_baseline\n",
    "from common.utils import now_time\n",
    "from configuration.settings import ProjectDir, ExperimentDir\n",
    "from rl.data.CompanyInfo import CompanyInfo\n",
    "from rl.envs.StockTradingEnv import StockTradingEnv\n",
    "from rl.experiments._1_same_bigger_data_fundamental.train import (\n",
    "    Program,\n",
    "    CustomDRLAgent,\n",
    "    get_dataset,\n",
    "    get_env_kwargs,\n",
    "    dataset_name,\n",
    "    base_cols,\n",
    "    data_cols,\n",
    "    ratios_cols,\n",
    "    algorithm_name,\n",
    ")"
   ],
   "metadata": {
    "collapsed": false
   }
  },
  {
   "cell_type": "code",
   "execution_count": null,
   "outputs": [],
   "source": [
    "def ignore_warnings():\n",
    "    warnings.filterwarnings(\"ignore\", category=UserWarning)  # TODO: zipline problem\n",
    "    warnings.filterwarnings(\"ignore\", category=DeprecationWarning)\n",
    "    warnings.filterwarnings(\"ignore\", category=FutureWarning)\n",
    "    warnings.filterwarnings(\"ignore\", category=RuntimeWarning)\n",
    "\n",
    "\n",
    "ignore_warnings()"
   ],
   "metadata": {
    "collapsed": false
   }
  },
  {
   "cell_type": "code",
   "execution_count": null,
   "outputs": [],
   "source": [
    "def main():\n",
    "    program = Program(\n",
    "        prj_dir=ProjectDir(root=Path(\"/Users/zlapik/my-drive-zlapik/0-todo/ai-investing\")),\n",
    "        exp_dir=ExperimentDir(Path(os.getcwd())),\n",
    "        DEBUG=False,\n",
    "    )\n",
    "    program.dataset = get_dataset(\n",
    "        pd.read_csv(program.exp_dir.out.datasets.joinpath(f\"{dataset_name}.csv\"), index_col=0), purpose=\"test\"\n",
    "    )\n",
    "    program.exp_dir.check_and_create_dirs()\n",
    "    return program\n",
    "\n",
    "\n",
    "program = main()"
   ],
   "metadata": {
    "collapsed": false
   }
  },
  {
   "cell_type": "code",
   "execution_count": null,
   "outputs": [],
   "source": [
    "print(base_cols)\n",
    "print(data_cols)\n",
    "print(ratios_cols)"
   ],
   "metadata": {
    "collapsed": false
   }
  },
  {
   "cell_type": "code",
   "execution_count": null,
   "outputs": [],
   "source": [
    "@dataclasses.dataclass\n",
    "class LearnedAlgorithm:\n",
    "    algorithm: str\n",
    "    filename: Path\n",
    "    learned_algorithm: Union[A2C, PPO, DDPG, A2C, TD3]\n",
    "    df_account_value = pd.DataFrame()\n",
    "    df_actions = pd.DataFrame()\n",
    "    perf_stats_all = pd.DataFrame()\n",
    "\n",
    "\n",
    "def get_algorithm(filename: Path):\n",
    "    if \"a2c\" in filename.as_posix():\n",
    "        return LearnedAlgorithm(algorithm=\"a2c\", filename=filename, learned_algorithm=A2C.load(filename))\n",
    "\n",
    "\n",
    "learned_algorithms = [get_algorithm(filepath) for filepath in program.exp_dir.out.algorithms.glob(\"*\")]"
   ],
   "metadata": {
    "collapsed": false
   }
  },
  {
   "cell_type": "code",
   "execution_count": null,
   "outputs": [],
   "source": [
    "# Test Learned Algorithms\n",
    "\n",
    "print(len(learned_algorithms))\n",
    "\n",
    "for algo in learned_algorithms:\n",
    "    env_kwargs = get_env_kwargs(program.dataset)\n",
    "    env_gym = StockTradingEnv(df=program.dataset, **env_kwargs)\n",
    "    algo.df_account_value, algo.df_actions = CustomDRLAgent.DRL_prediction(\n",
    "        model=algo.learned_algorithm, environment=env_gym\n",
    "    )"
   ],
   "metadata": {
    "collapsed": false
   }
  },
  {
   "cell_type": "code",
   "execution_count": null,
   "outputs": [],
   "source": [
    "# print(learned_algorithms[0].df_actions)\n",
    "# print(learned_algorithms[0].df_account_value)"
   ],
   "metadata": {
    "collapsed": false
   }
  },
  {
   "cell_type": "code",
   "execution_count": null,
   "outputs": [],
   "source": [
    "metric = \"Annual return\"\n",
    "\n",
    "\n",
    "def calc_performance_statistics(algos: List[LearnedAlgorithm]):\n",
    "    for algo in algos:\n",
    "        perf_stats_all = backtest_stats(account_value=algo.df_account_value)\n",
    "        algo.perf_stats_all = pd.DataFrame(perf_stats_all)\n",
    "\n",
    "\n",
    "calc_performance_statistics(learned_algorithms)"
   ],
   "metadata": {
    "collapsed": false
   }
  },
  {
   "cell_type": "code",
   "execution_count": null,
   "outputs": [],
   "source": [],
   "metadata": {
    "collapsed": false
   }
  },
  {
   "cell_type": "code",
   "execution_count": null,
   "outputs": [],
   "source": [
    "def print_learned_algo(algos: List[LearnedAlgorithm]):\n",
    "    for i in algos:\n",
    "        try:\n",
    "            print(i.perf_stats_all.loc[metric][0])\n",
    "        except Exception as e:\n",
    "            print(f\"{e}\")\n",
    "\n",
    "\n",
    "print_learned_algo(learned_algorithms)"
   ],
   "metadata": {
    "collapsed": false
   }
  },
  {
   "cell_type": "code",
   "execution_count": null,
   "outputs": [],
   "source": [
    "sorted_list = sorted(learned_algorithms, key=lambda x: x.perf_stats_all.loc[metric][0])"
   ],
   "metadata": {
    "collapsed": false
   }
  },
  {
   "cell_type": "code",
   "execution_count": 54,
   "outputs": [
    {
     "name": "stdout",
     "output_type": "stream",
     "text": [
      "0.08263260068750422:  a2c_2022-12-20T13-16-18_50000.zip\n",
      "-0.0534658598936103:  a2c_2022-12-20T13-16-18_90000.zip\n"
     ]
    }
   ],
   "source": [
    "# print_learned_algo(sorted_list)\n",
    "# print(f\"{sorted_list[len(sorted_list)].filename}\")\n",
    "\n",
    "best_idx = len(sorted_list) - 1\n",
    "worst_idk = 0\n",
    "\n",
    "\n",
    "def get_annual_return(algo: LearnedAlgorithm):\n",
    "    return algo.perf_stats_all.loc[metric][0]\n",
    "\n",
    "\n",
    "print(f\"{get_annual_return(sorted_list[best_idx])}:  {sorted_list[best_idx].filename.name}\")\n",
    "print(f\"{get_annual_return(sorted_list[worst_idk])}:  {sorted_list[worst_idk].filename.name}\")"
   ],
   "metadata": {
    "collapsed": false
   }
  },
  {
   "cell_type": "code",
   "execution_count": null,
   "outputs": [],
   "source": [
    "start = program.dataset[\"date\"].min()\n",
    "end = program.dataset[\"date\"].max()\n",
    "print(f\"Start: {start}  -  End: {end}\")"
   ],
   "metadata": {
    "collapsed": false,
    "pycharm": {
     "is_executing": true
    }
   }
  },
  {
   "cell_type": "code",
   "execution_count": null,
   "outputs": [],
   "source": [
    "# Baseline\n",
    "baseline_df = get_baseline(\"^DJI\", start, end)"
   ],
   "metadata": {
    "collapsed": false
   }
  },
  {
   "cell_type": "code",
   "execution_count": null,
   "outputs": [],
   "source": [
    "baseline_df"
   ],
   "metadata": {
    "collapsed": false
   }
  },
  {
   "cell_type": "code",
   "execution_count": null,
   "outputs": [],
   "source": [
    "print(baseline_df.index.min())\n",
    "print(baseline_df.index.max())"
   ],
   "metadata": {
    "collapsed": false
   }
  },
  {
   "cell_type": "code",
   "execution_count": null,
   "outputs": [],
   "source": [
    "stats = backtest_stats(baseline_df, value_col_name=\"close\")"
   ],
   "metadata": {
    "collapsed": false
   }
  },
  {
   "cell_type": "code",
   "execution_count": null,
   "outputs": [],
   "source": [],
   "metadata": {
    "collapsed": false
   }
  },
  {
   "cell_type": "code",
   "execution_count": null,
   "outputs": [],
   "source": [
    "# account_value = df_account_value\n",
    "# baseline_ticker = \"^DJI\"\n",
    "# baseline_start = program.dataset.index.min()\n",
    "# baseline_end = program.dataset.index.max()\n",
    "# value_col_name = \"account_value\"\n",
    "#\n",
    "# df = deepcopy(account_value)\n",
    "# df[\"date\"] = pd.to_datetime(df[\"date\"])\n",
    "# test_returns = get_daily_return(df, value_col_name=value_col_name)\n",
    "#\n",
    "# baseline_df = get_baseline(ticker=baseline_ticker, start=baseline_start, end=baseline_end)\n",
    "#\n",
    "# baseline_df[\"date\"] = pd.to_datetime(baseline_df[\"date\"], format=\"%Y-%m-%d\")\n",
    "# baseline_df = pd.merge(df[[\"date\"]], baseline_df, how=\"left\", on=\"date\")\n",
    "# baseline_df = baseline_df.fillna(method=\"ffill\").fillna(method=\"bfill\")\n",
    "# baseline_returns = get_daily_return(baseline_df, value_col_name=\"close\")\n",
    "#\n",
    "# with pyfolio.plotting.plotting_context(font_scale=1.1):\n",
    "#     pyfolio.create_full_tear_sheet(\n",
    "#         returns=test_returns,\n",
    "#         benchmark_rets=baseline_returns,\n",
    "#         set_context=False,\n",
    "#     )\n",
    "#"
   ],
   "metadata": {
    "collapsed": false
   }
  },
  {
   "cell_type": "code",
   "execution_count": null,
   "outputs": [],
   "source": [
    "#\n",
    "# df = deepcopy(account_value)\n",
    "# df[\"date\"] = pd.to_datetime(df[\"date\"])\n",
    "# test_returns = get_daily_return(df, value_col_name=value_col_name)\n",
    "#\n",
    "# positions = utils.check_intraday(\"infer\", test_returns, None, None)\n",
    "#\n",
    "# create_returns_tear_sheet(\n",
    "#     test_returns,\n",
    "#     positions=positions,\n",
    "#     transactions=None,\n",
    "#     live_start_date=None,\n",
    "#     cone_std=(1.0, 1.5, 2.0),\n",
    "#     benchmark_rets=None,\n",
    "#     bootstrap=False,\n",
    "#     turnover_denom=\"AGB\",\n",
    "#     header_rows=None,\n",
    "#     set_context=True\n",
    "# )"
   ],
   "metadata": {
    "collapsed": false
   }
  },
  {
   "cell_type": "code",
   "execution_count": null,
   "outputs": [],
   "source": [],
   "metadata": {
    "collapsed": false
   }
  }
 ],
 "metadata": {
  "colab": {
   "collapsed_sections": [
    "_gDkU-j-fCmZ",
    "MRiOtrywfAo1",
    "3Zpv4S0-fDBv",
    "Dr49PotrfG01"
   ],
   "name": "Stock_Fundamental.ipynb",
   "provenance": []
  },
  "gpuClass": "standard",
  "kernelspec": {
   "display_name": "Python 3.10.8 ('venv3.10': venv)",
   "language": "python",
   "name": "python3"
  },
  "language_info": {
   "codemirror_mode": {
    "name": "ipython",
    "version": 3
   },
   "file_extension": ".py",
   "mimetype": "text/x-python",
   "name": "python",
   "nbconvert_exporter": "python",
   "pygments_lexer": "ipython3",
   "version": "3.10.8"
  },
  "vscode": {
   "interpreter": {
    "hash": "32c0c8ab8a6b580687c5ec847b855eb3ee7063ee446f183d34922604f3e580fd"
   }
  }
 },
 "nbformat": 4,
 "nbformat_minor": 0
}
