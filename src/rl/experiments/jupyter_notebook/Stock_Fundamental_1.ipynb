{
 "cells": [
  {
   "cell_type": "markdown",
   "metadata": {
    "id": "WwNYSFfH3Zzk",
    "pycharm": {
     "name": "#%% md\n"
    }
   },
   "source": [
    "<a href=\"https://colab.research.google.com/github/AI4Finance-Foundation/FinRL/blob/master/tutorials/1-Introduction/Stock_Fundamental.ipynb\" target=\"_parent\"><img src=\"https://colab.research.google.com/assets/colab-badge.svg\" alt=\"Open In Colab\"/></a>"
   ]
  },
  {
   "cell_type": "markdown",
   "metadata": {
    "id": "gXaoZs2lh1hi",
    "pycharm": {
     "name": "#%% md\n"
    }
   },
   "source": [
    "# Stock trading with fundamentals\n",
    "\n",
    "* This notebook is based on the tutorial: https://towardsdatascience.com/finrl-for-quantitative-finance-tutorial-for-multiple-stock-trading-7b00763b7530\n",
    "\n",
    "* This project is a result of the almuni-mentored research project at Columbia University, Application of Reinforcement Learning to Finance.\n",
    "* For detailed explanation, please check out the Medium article: https://medium.com/@mariko.sawada1/automated-stock-trading-with-deep-reinforcement-learning-and-financial-data-a63286ccbe2b\n",
    "\n"
   ]
  },
  {
   "cell_type": "markdown",
   "metadata": {
    "id": "lGunVt8oLCVS",
    "pycharm": {
     "name": "#%% md\n"
    }
   },
   "source": [
    "# Content"
   ]
  },
  {
   "cell_type": "markdown",
   "metadata": {
    "id": "HOzAKQ-SLGX6",
    "pycharm": {
     "name": "#%% md\n"
    }
   },
   "source": [
    "* [1. Task Discription](#0)\n",
    "* [2. Install Python packages](#1)\n",
    "    * [2.1. Install Packages](#1.1)    \n",
    "    * [2.2. A List of Python Packages](#1.2)\n",
    "    * [2.3. Import Packages](#1.3)\n",
    "    * [2.4. Create Folders](#1.4)\n",
    "* [3. Download Data](#2)\n",
    "* [4. Preprocess fundamental Data](#3)        \n",
    "    * [4.1 Import financial data](#3.1)\n",
    "    * [4.2 Specify items needed to calculate financial ratios](#3.2)\n",
    "    * [4.3 Calculate financial ratios](#3.3)\n",
    "    * [4.4 Deal with NAs and infinite values](#3.4)\n",
    "    * [4.5 Merge stock price data and ratios into one dataframe](#3.5)\n",
    "    * [4.6 Calculate market valuation ratios using daily stock price data](#3.6)\n",
    "* [5. Build Environment](#4)  \n",
    "    * [5.1. Training & Trade Data Split](#4.1)\n",
    "    * [5.2. User-defined Environment](#4.2)   \n",
    "    * [5.3. Initialize Environment](#4.3)    \n",
    "* [6. Train DRL Agents](#5)  \n",
    "* [7. Backtesting Performance](#6)  \n",
    "    * [7.1. BackTestStats](#6.1)\n",
    "    * [7.2. BackTestPlot](#6.2)   \n",
    "    * [7.3. Baseline Stats](#6.3)   \n",
    "    * [7.3. Compare to Stock Market Index](#6.4)             "
   ]
  },
  {
   "cell_type": "markdown",
   "metadata": {
    "id": "sApkDlD9LIZv",
    "pycharm": {
     "name": "#%% md\n"
    }
   },
   "source": [
    "<a id='0'></a>\n",
    "# Part 1. Task Description"
   ]
  },
  {
   "cell_type": "markdown",
   "metadata": {
    "id": "HjLD2TZSLKZ-",
    "pycharm": {
     "name": "#%% md\n"
    }
   },
   "source": [
    "We train a DRL agent for stock trading. The task is modeled as a Markov Decision Process (MDP), and the objective function is maximizing (expected) cumulative return.\n",
    "\n",
    "We specify the state-action-reward as follows:\n",
    "\n",
    "* **State s**: The state space represents an agent's perception of the market environment. Like a human trader analyzes various information, here our agent passively observes many features and learn by interacting with the market environment (usually by replaying historical data).\n",
    "\n",
    "* **Action a**: The action space includes allowed actions that an agent can take at each state. For example, a ∈ {−1, 0, 1}, where −1, 0, 1 represent\n",
    "selling, holding, and buying. When an action operates multiple shares, a ∈{−k, ..., −1, 0, 1, ..., k}, e.g.. \"Buy\n",
    "10 shares of AAPL\" or \"Sell 10 shares of AAPL\" are 10 or −10, respectively\n",
    "\n",
    "* **Reward function r(s, a, s′)**: Reward is an incentive for an agent to learn a better policy. For example, it can be the change of the portfolio value when taking a at state s and arriving at new state s',  i.e., r(s, a, s′) = v′ − v, where v′ and v represent the portfolio values at state s′ and s, respectively\n",
    "\n",
    "\n",
    "**Market environment**: 30 consituent stocks of Dow Jones Industrial Average (DJIA) index. Accessed at the starting date of the testing period.\n",
    "\n",
    "\n",
    "The data of the single stock that we will use for this case study is obtained from Yahoo Finance API. The data contains Open-High-Low-Close prices and volume.\n"
   ]
  },
  {
   "cell_type": "markdown",
   "metadata": {
    "id": "Ffsre789LY08",
    "pycharm": {
     "name": "#%% md\n"
    }
   },
   "source": [
    "<a id='1'></a>\n",
    "# Part 2. Load Python Packages"
   ]
  },
  {
   "cell_type": "markdown",
   "metadata": {
    "id": "Uy5_PTmOh1hj",
    "pycharm": {
     "name": "#%% md\n"
    }
   },
   "source": [
    "<a id='1.1'></a>\n",
    "## 2.1. Install all the packages through FinRL library\n"
   ]
  },
  {
   "cell_type": "code",
   "execution_count": 1,
   "metadata": {
    "colab": {
     "base_uri": "https://localhost:8080/",
     "height": 1000
    },
    "id": "mPT0ipYE28wL",
    "outputId": "4a352ef5-65c2-4393-c78b-909aa8a0b4d0",
    "pycharm": {
     "name": "#%%\n"
    }
   },
   "outputs": [
    {
     "name": "stdout",
     "output_type": "stream",
     "text": [
      "Collecting git+https://github.com/AI4Finance-Foundation/FinRL.git\r\n",
      "  Cloning https://github.com/AI4Finance-Foundation/FinRL.git to /private/var/folders/9c/z5w432ls60300pg8dcrpkhkr0000gn/T/pip-req-build-qt0g37n0\r\n",
      "  Running command git clone --filter=blob:none --quiet https://github.com/AI4Finance-Foundation/FinRL.git /private/var/folders/9c/z5w432ls60300pg8dcrpkhkr0000gn/T/pip-req-build-qt0g37n0\r\n",
      "  Resolved https://github.com/AI4Finance-Foundation/FinRL.git to commit eec4c887681dec9ef45bea641cde461c2b2a7084\r\n",
      "  Preparing metadata (setup.py) ... \u001b[?25ldone\r\n",
      "\u001b[?25hCollecting pyfolio@ git+https://github.com/quantopian/pyfolio.git#egg=pyfolio-0.9.2\r\n",
      "  Cloning https://github.com/quantopian/pyfolio.git to /private/var/folders/9c/z5w432ls60300pg8dcrpkhkr0000gn/T/pip-install-qass_944/pyfolio_9d2e43e652694a5f836785d6e1d79a98\r\n",
      "  Running command git clone --filter=blob:none --quiet https://github.com/quantopian/pyfolio.git /private/var/folders/9c/z5w432ls60300pg8dcrpkhkr0000gn/T/pip-install-qass_944/pyfolio_9d2e43e652694a5f836785d6e1d79a98\r\n",
      "  Resolved https://github.com/quantopian/pyfolio.git to commit 4b901f6d73aa02ceb6d04b7d83502e5c6f2e81aa\r\n",
      "  Preparing metadata (setup.py) ... \u001b[?25ldone\r\n",
      "\u001b[?25hCollecting elegantrl@ git+https://github.com/AI4Finance-Foundation/ElegantRL.git#egg=elegantrl\r\n",
      "  Cloning https://github.com/AI4Finance-Foundation/ElegantRL.git to /private/var/folders/9c/z5w432ls60300pg8dcrpkhkr0000gn/T/pip-install-qass_944/elegantrl_121a0569cc684909847336c80dcd9dbb\r\n",
      "  Running command git clone --filter=blob:none --quiet https://github.com/AI4Finance-Foundation/ElegantRL.git /private/var/folders/9c/z5w432ls60300pg8dcrpkhkr0000gn/T/pip-install-qass_944/elegantrl_121a0569cc684909847336c80dcd9dbb\r\n",
      "  Resolved https://github.com/AI4Finance-Foundation/ElegantRL.git to commit 1d5bf9e1639222c5d2a462adcc0c4eab453bbe70\r\n",
      "  Preparing metadata (setup.py) ... \u001b[?25ldone\r\n",
      "\u001b[?25hRequirement already satisfied: alpaca_trade_api>=2.1.0 in /Users/zlapik/my-drive-zdenda-lapes/0-todo/ai-investing/venv_2/lib/python3.10/site-packages (from finrl==0.3.5) (2.3.0)\r\n",
      "Requirement already satisfied: ccxt==1.66.32 in /Users/zlapik/my-drive-zdenda-lapes/0-todo/ai-investing/venv_2/lib/python3.10/site-packages (from finrl==0.3.5) (1.66.32)\r\n",
      "Requirement already satisfied: elegantrl in /Users/zlapik/my-drive-zdenda-lapes/0-todo/ai-investing/venv_2/lib/python3.10/site-packages (from finrl==0.3.5) (0.3.3)\r\n",
      "Requirement already satisfied: exchange_calendars==3.6.3 in /Users/zlapik/my-drive-zdenda-lapes/0-todo/ai-investing/venv_2/lib/python3.10/site-packages (from finrl==0.3.5) (3.6.3)\r\n",
      "Requirement already satisfied: gputil in /Users/zlapik/my-drive-zdenda-lapes/0-todo/ai-investing/venv_2/lib/python3.10/site-packages (from finrl==0.3.5) (1.4.0)\r\n",
      "Requirement already satisfied: gym>=0.17 in /Users/zlapik/my-drive-zdenda-lapes/0-todo/ai-investing/venv_2/lib/python3.10/site-packages (from finrl==0.3.5) (0.21.0)\r\n",
      "Requirement already satisfied: importlib-metadata==4.13.0 in /Users/zlapik/my-drive-zdenda-lapes/0-todo/ai-investing/venv_2/lib/python3.10/site-packages (from finrl==0.3.5) (4.13.0)\r\n",
      "Requirement already satisfied: jqdatasdk in /Users/zlapik/my-drive-zdenda-lapes/0-todo/ai-investing/venv_2/lib/python3.10/site-packages (from finrl==0.3.5) (1.8.11)\r\n",
      "Requirement already satisfied: lz4 in /Users/zlapik/my-drive-zdenda-lapes/0-todo/ai-investing/venv_2/lib/python3.10/site-packages (from finrl==0.3.5) (4.0.2)\r\n",
      "Requirement already satisfied: matplotlib in /Users/zlapik/my-drive-zdenda-lapes/0-todo/ai-investing/venv_2/lib/python3.10/site-packages (from finrl==0.3.5) (3.6.0)\r\n",
      "Requirement already satisfied: numpy>=1.17.3 in /Users/zlapik/my-drive-zdenda-lapes/0-todo/ai-investing/venv_2/lib/python3.10/site-packages (from finrl==0.3.5) (1.23.4)\r\n",
      "Requirement already satisfied: pandas>=1.1.5 in /Users/zlapik/my-drive-zdenda-lapes/0-todo/ai-investing/venv_2/lib/python3.10/site-packages (from finrl==0.3.5) (1.5.1)\r\n",
      "Requirement already satisfied: pre-commit in /Users/zlapik/my-drive-zdenda-lapes/0-todo/ai-investing/venv_2/lib/python3.10/site-packages (from finrl==0.3.5) (2.20.0)\r\n",
      "Requirement already satisfied: pytest in /Users/zlapik/my-drive-zdenda-lapes/0-todo/ai-investing/venv_2/lib/python3.10/site-packages (from finrl==0.3.5) (7.1.3)\r\n",
      "Requirement already satisfied: ray[default] in /Users/zlapik/my-drive-zdenda-lapes/0-todo/ai-investing/venv_2/lib/python3.10/site-packages (from finrl==0.3.5) (2.0.1)\r\n",
      "Requirement already satisfied: scikit-learn>=0.21.0 in /Users/zlapik/my-drive-zdenda-lapes/0-todo/ai-investing/venv_2/lib/python3.10/site-packages (from finrl==0.3.5) (1.1.2)\r\n",
      "Requirement already satisfied: setuptools==59.5.0 in /Users/zlapik/my-drive-zdenda-lapes/0-todo/ai-investing/venv_2/lib/python3.10/site-packages (from finrl==0.3.5) (59.5.0)\r\n",
      "Requirement already satisfied: stable-baselines3[extra] in /Users/zlapik/my-drive-zdenda-lapes/0-todo/ai-investing/venv_2/lib/python3.10/site-packages (from finrl==0.3.5) (1.6.2)\r\n",
      "Requirement already satisfied: stockstats>=0.4.0 in /Users/zlapik/my-drive-zdenda-lapes/0-todo/ai-investing/venv_2/lib/python3.10/site-packages (from finrl==0.3.5) (0.4.1)\r\n",
      "Requirement already satisfied: tensorboardX in /Users/zlapik/my-drive-zdenda-lapes/0-todo/ai-investing/venv_2/lib/python3.10/site-packages (from finrl==0.3.5) (2.5.1)\r\n",
      "Requirement already satisfied: wheel>=0.33.6 in /Users/zlapik/my-drive-zdenda-lapes/0-todo/ai-investing/venv_2/lib/python3.10/site-packages (from finrl==0.3.5) (0.37.1)\r\n",
      "Requirement already satisfied: wrds in /Users/zlapik/my-drive-zdenda-lapes/0-todo/ai-investing/venv_2/lib/python3.10/site-packages (from finrl==0.3.5) (3.1.2)\r\n",
      "Requirement already satisfied: yfinance in /Users/zlapik/my-drive-zdenda-lapes/0-todo/ai-investing/venv_2/lib/python3.10/site-packages (from finrl==0.3.5) (0.1.80)\r\n",
      "Requirement already satisfied: cryptography>=2.6.1 in /Users/zlapik/my-drive-zdenda-lapes/0-todo/ai-investing/venv_2/lib/python3.10/site-packages (from ccxt==1.66.32->finrl==0.3.5) (38.0.1)\r\n",
      "Requirement already satisfied: aiohttp>=3.8 in /Users/zlapik/my-drive-zdenda-lapes/0-todo/ai-investing/venv_2/lib/python3.10/site-packages (from ccxt==1.66.32->finrl==0.3.5) (3.8.1)\r\n",
      "Requirement already satisfied: yarl==1.7.2 in /Users/zlapik/my-drive-zdenda-lapes/0-todo/ai-investing/venv_2/lib/python3.10/site-packages (from ccxt==1.66.32->finrl==0.3.5) (1.7.2)\r\n",
      "Requirement already satisfied: aiodns>=1.1.1 in /Users/zlapik/my-drive-zdenda-lapes/0-todo/ai-investing/venv_2/lib/python3.10/site-packages (from ccxt==1.66.32->finrl==0.3.5) (3.0.0)\r\n",
      "Requirement already satisfied: requests>=2.18.4 in /Users/zlapik/my-drive-zdenda-lapes/0-todo/ai-investing/venv_2/lib/python3.10/site-packages (from ccxt==1.66.32->finrl==0.3.5) (2.28.1)\r\n",
      "Requirement already satisfied: certifi>=2018.1.18 in /Users/zlapik/my-drive-zdenda-lapes/0-todo/ai-investing/venv_2/lib/python3.10/site-packages (from ccxt==1.66.32->finrl==0.3.5) (2022.9.24)\r\n",
      "Requirement already satisfied: python-dateutil in /Users/zlapik/my-drive-zdenda-lapes/0-todo/ai-investing/venv_2/lib/python3.10/site-packages (from exchange_calendars==3.6.3->finrl==0.3.5) (2.8.2)\r\n",
      "Requirement already satisfied: toolz in /Users/zlapik/my-drive-zdenda-lapes/0-todo/ai-investing/venv_2/lib/python3.10/site-packages (from exchange_calendars==3.6.3->finrl==0.3.5) (0.12.0)\r\n",
      "Requirement already satisfied: pytz in /Users/zlapik/my-drive-zdenda-lapes/0-todo/ai-investing/venv_2/lib/python3.10/site-packages (from exchange_calendars==3.6.3->finrl==0.3.5) (2022.5)\r\n",
      "Requirement already satisfied: pyluach in /Users/zlapik/my-drive-zdenda-lapes/0-todo/ai-investing/venv_2/lib/python3.10/site-packages (from exchange_calendars==3.6.3->finrl==0.3.5) (2.0.1)\r\n",
      "Requirement already satisfied: korean-lunar-calendar in /Users/zlapik/my-drive-zdenda-lapes/0-todo/ai-investing/venv_2/lib/python3.10/site-packages (from exchange_calendars==3.6.3->finrl==0.3.5) (0.3.1)\r\n",
      "Requirement already satisfied: zipp>=0.5 in /Users/zlapik/my-drive-zdenda-lapes/0-todo/ai-investing/venv_2/lib/python3.10/site-packages (from importlib-metadata==4.13.0->finrl==0.3.5) (3.9.0)\r\n",
      "Requirement already satisfied: multidict>=4.0 in /Users/zlapik/my-drive-zdenda-lapes/0-todo/ai-investing/venv_2/lib/python3.10/site-packages (from yarl==1.7.2->ccxt==1.66.32->finrl==0.3.5) (6.0.2)\r\n",
      "Requirement already satisfied: idna>=2.0 in /Users/zlapik/my-drive-zdenda-lapes/0-todo/ai-investing/venv_2/lib/python3.10/site-packages (from yarl==1.7.2->ccxt==1.66.32->finrl==0.3.5) (3.4)\r\n",
      "Requirement already satisfied: deprecation==2.1.0 in /Users/zlapik/my-drive-zdenda-lapes/0-todo/ai-investing/venv_2/lib/python3.10/site-packages (from alpaca_trade_api>=2.1.0->finrl==0.3.5) (2.1.0)\r\n",
      "Requirement already satisfied: PyYAML==6.0 in /Users/zlapik/my-drive-zdenda-lapes/0-todo/ai-investing/venv_2/lib/python3.10/site-packages (from alpaca_trade_api>=2.1.0->finrl==0.3.5) (6.0)\r\n",
      "Requirement already satisfied: websockets<11,>=9.0 in /Users/zlapik/my-drive-zdenda-lapes/0-todo/ai-investing/venv_2/lib/python3.10/site-packages (from alpaca_trade_api>=2.1.0->finrl==0.3.5) (10.3)\r\n",
      "Requirement already satisfied: msgpack==1.0.3 in /Users/zlapik/my-drive-zdenda-lapes/0-todo/ai-investing/venv_2/lib/python3.10/site-packages (from alpaca_trade_api>=2.1.0->finrl==0.3.5) (1.0.3)\r\n",
      "Requirement already satisfied: websocket-client<2,>=0.56.0 in /Users/zlapik/my-drive-zdenda-lapes/0-todo/ai-investing/venv_2/lib/python3.10/site-packages (from alpaca_trade_api>=2.1.0->finrl==0.3.5) (1.4.1)\r\n",
      "Requirement already satisfied: urllib3<2,>1.24 in /Users/zlapik/my-drive-zdenda-lapes/0-todo/ai-investing/venv_2/lib/python3.10/site-packages (from alpaca_trade_api>=2.1.0->finrl==0.3.5) (1.26.12)\r\n",
      "Requirement already satisfied: frozenlist>=1.1.1 in /Users/zlapik/my-drive-zdenda-lapes/0-todo/ai-investing/venv_2/lib/python3.10/site-packages (from aiohttp>=3.8->ccxt==1.66.32->finrl==0.3.5) (1.3.1)\r\n",
      "Requirement already satisfied: aiosignal>=1.1.2 in /Users/zlapik/my-drive-zdenda-lapes/0-todo/ai-investing/venv_2/lib/python3.10/site-packages (from aiohttp>=3.8->ccxt==1.66.32->finrl==0.3.5) (1.2.0)\r\n",
      "Requirement already satisfied: attrs>=17.3.0 in /Users/zlapik/my-drive-zdenda-lapes/0-todo/ai-investing/venv_2/lib/python3.10/site-packages (from aiohttp>=3.8->ccxt==1.66.32->finrl==0.3.5) (22.1.0)\r\n",
      "Requirement already satisfied: async-timeout<5.0,>=4.0.0a3 in /Users/zlapik/my-drive-zdenda-lapes/0-todo/ai-investing/venv_2/lib/python3.10/site-packages (from aiohttp>=3.8->ccxt==1.66.32->finrl==0.3.5) (4.0.2)\r\n",
      "Requirement already satisfied: charset-normalizer<3.0,>=2.0 in /Users/zlapik/my-drive-zdenda-lapes/0-todo/ai-investing/venv_2/lib/python3.10/site-packages (from aiohttp>=3.8->ccxt==1.66.32->finrl==0.3.5) (2.1.1)\r\n",
      "Requirement already satisfied: packaging in /Users/zlapik/my-drive-zdenda-lapes/0-todo/ai-investing/venv_2/lib/python3.10/site-packages (from deprecation==2.1.0->alpaca_trade_api>=2.1.0->finrl==0.3.5) (21.3)\r\n",
      "Requirement already satisfied: cloudpickle>=1.2.0 in /Users/zlapik/my-drive-zdenda-lapes/0-todo/ai-investing/venv_2/lib/python3.10/site-packages (from gym>=0.17->finrl==0.3.5) (2.2.0)\r\n",
      "Requirement already satisfied: joblib>=1.0.0 in /Users/zlapik/my-drive-zdenda-lapes/0-todo/ai-investing/venv_2/lib/python3.10/site-packages (from scikit-learn>=0.21.0->finrl==0.3.5) (1.2.0)\r\n",
      "Requirement already satisfied: scipy>=1.3.2 in /Users/zlapik/my-drive-zdenda-lapes/0-todo/ai-investing/venv_2/lib/python3.10/site-packages (from scikit-learn>=0.21.0->finrl==0.3.5) (1.9.3)\r\n",
      "Requirement already satisfied: threadpoolctl>=2.0.0 in /Users/zlapik/my-drive-zdenda-lapes/0-todo/ai-investing/venv_2/lib/python3.10/site-packages (from scikit-learn>=0.21.0->finrl==0.3.5) (3.1.0)\r\n",
      "Requirement already satisfied: pybullet in /Users/zlapik/my-drive-zdenda-lapes/0-todo/ai-investing/venv_2/lib/python3.10/site-packages (from elegantrl@ git+https://github.com/AI4Finance-Foundation/ElegantRL.git#egg=elegantrl->finrl==0.3.5) (3.2.5)\r\n",
      "Requirement already satisfied: torch in /Users/zlapik/my-drive-zdenda-lapes/0-todo/ai-investing/venv_2/lib/python3.10/site-packages (from elegantrl@ git+https://github.com/AI4Finance-Foundation/ElegantRL.git#egg=elegantrl->finrl==0.3.5) (1.12.1)\r\n",
      "Requirement already satisfied: opencv-python in /Users/zlapik/my-drive-zdenda-lapes/0-todo/ai-investing/venv_2/lib/python3.10/site-packages (from elegantrl@ git+https://github.com/AI4Finance-Foundation/ElegantRL.git#egg=elegantrl->finrl==0.3.5) (4.6.0.66)\r\n",
      "Requirement already satisfied: box2d-py in /Users/zlapik/my-drive-zdenda-lapes/0-todo/ai-investing/venv_2/lib/python3.10/site-packages (from elegantrl@ git+https://github.com/AI4Finance-Foundation/ElegantRL.git#egg=elegantrl->finrl==0.3.5) (2.3.8)\r\n",
      "Requirement already satisfied: thriftpy2>=0.3.9 in /Users/zlapik/my-drive-zdenda-lapes/0-todo/ai-investing/venv_2/lib/python3.10/site-packages (from jqdatasdk->finrl==0.3.5) (0.4.14)\r\n",
      "Requirement already satisfied: SQLAlchemy>=1.2.8 in /Users/zlapik/my-drive-zdenda-lapes/0-todo/ai-investing/venv_2/lib/python3.10/site-packages (from jqdatasdk->finrl==0.3.5) (1.4.42)\r\n",
      "Requirement already satisfied: six in /Users/zlapik/my-drive-zdenda-lapes/0-todo/ai-investing/venv_2/lib/python3.10/site-packages (from jqdatasdk->finrl==0.3.5) (1.16.0)\r\n",
      "Requirement already satisfied: pymysql>=0.7.6 in /Users/zlapik/my-drive-zdenda-lapes/0-todo/ai-investing/venv_2/lib/python3.10/site-packages (from jqdatasdk->finrl==0.3.5) (1.0.2)\r\n",
      "Requirement already satisfied: fonttools>=4.22.0 in /Users/zlapik/my-drive-zdenda-lapes/0-todo/ai-investing/venv_2/lib/python3.10/site-packages (from matplotlib->finrl==0.3.5) (4.38.0)\r\n",
      "Requirement already satisfied: kiwisolver>=1.0.1 in /Users/zlapik/my-drive-zdenda-lapes/0-todo/ai-investing/venv_2/lib/python3.10/site-packages (from matplotlib->finrl==0.3.5) (1.4.4)\r\n",
      "Requirement already satisfied: cycler>=0.10 in /Users/zlapik/my-drive-zdenda-lapes/0-todo/ai-investing/venv_2/lib/python3.10/site-packages (from matplotlib->finrl==0.3.5) (0.11.0)\r\n",
      "Requirement already satisfied: contourpy>=1.0.1 in /Users/zlapik/my-drive-zdenda-lapes/0-todo/ai-investing/venv_2/lib/python3.10/site-packages (from matplotlib->finrl==0.3.5) (1.0.5)\r\n",
      "Requirement already satisfied: pillow>=6.2.0 in /Users/zlapik/my-drive-zdenda-lapes/0-todo/ai-investing/venv_2/lib/python3.10/site-packages (from matplotlib->finrl==0.3.5) (9.2.0)\r\n",
      "Requirement already satisfied: pyparsing>=2.2.1 in /Users/zlapik/my-drive-zdenda-lapes/0-todo/ai-investing/venv_2/lib/python3.10/site-packages (from matplotlib->finrl==0.3.5) (3.0.9)\r\n",
      "Requirement already satisfied: identify>=1.0.0 in /Users/zlapik/my-drive-zdenda-lapes/0-todo/ai-investing/venv_2/lib/python3.10/site-packages (from pre-commit->finrl==0.3.5) (2.5.6)\r\n",
      "Requirement already satisfied: virtualenv>=20.0.8 in /Users/zlapik/my-drive-zdenda-lapes/0-todo/ai-investing/venv_2/lib/python3.10/site-packages (from pre-commit->finrl==0.3.5) (20.16.5)\r\n",
      "Requirement already satisfied: cfgv>=2.0.0 in /Users/zlapik/my-drive-zdenda-lapes/0-todo/ai-investing/venv_2/lib/python3.10/site-packages (from pre-commit->finrl==0.3.5) (3.3.1)\r\n",
      "Requirement already satisfied: nodeenv>=0.11.1 in /Users/zlapik/my-drive-zdenda-lapes/0-todo/ai-investing/venv_2/lib/python3.10/site-packages (from pre-commit->finrl==0.3.5) (1.7.0)\r\n",
      "Requirement already satisfied: toml in /Users/zlapik/my-drive-zdenda-lapes/0-todo/ai-investing/venv_2/lib/python3.10/site-packages (from pre-commit->finrl==0.3.5) (0.10.2)\r\n",
      "Requirement already satisfied: ipython>=3.2.3 in /Users/zlapik/my-drive-zdenda-lapes/0-todo/ai-investing/venv_2/lib/python3.10/site-packages (from pyfolio@ git+https://github.com/quantopian/pyfolio.git#egg=pyfolio-0.9.2->finrl==0.3.5) (8.5.0)\r\n",
      "Requirement already satisfied: seaborn>=0.7.1 in /Users/zlapik/my-drive-zdenda-lapes/0-todo/ai-investing/venv_2/lib/python3.10/site-packages (from pyfolio@ git+https://github.com/quantopian/pyfolio.git#egg=pyfolio-0.9.2->finrl==0.3.5) (0.12.1)\r\n",
      "Requirement already satisfied: empyrical>=0.5.0 in /Users/zlapik/my-drive-zdenda-lapes/0-todo/ai-investing/venv_2/lib/python3.10/site-packages (from pyfolio@ git+https://github.com/quantopian/pyfolio.git#egg=pyfolio-0.9.2->finrl==0.3.5) (0.5.5)\r\n",
      "Requirement already satisfied: py>=1.8.2 in /Users/zlapik/my-drive-zdenda-lapes/0-todo/ai-investing/venv_2/lib/python3.10/site-packages (from pytest->finrl==0.3.5) (1.11.0)\r\n",
      "Requirement already satisfied: iniconfig in /Users/zlapik/my-drive-zdenda-lapes/0-todo/ai-investing/venv_2/lib/python3.10/site-packages (from pytest->finrl==0.3.5) (1.1.1)\r\n",
      "Requirement already satisfied: tomli>=1.0.0 in /Users/zlapik/my-drive-zdenda-lapes/0-todo/ai-investing/venv_2/lib/python3.10/site-packages (from pytest->finrl==0.3.5) (2.0.1)\r\n",
      "Requirement already satisfied: pluggy<2.0,>=0.12 in /Users/zlapik/my-drive-zdenda-lapes/0-todo/ai-investing/venv_2/lib/python3.10/site-packages (from pytest->finrl==0.3.5) (1.0.0)\r\n",
      "Requirement already satisfied: grpcio<=1.43.0,>=1.42.0 in /Users/zlapik/my-drive-zdenda-lapes/0-todo/ai-investing/venv_2/lib/python3.10/site-packages (from ray[default]->finrl==0.3.5) (1.43.0)\r\n",
      "Requirement already satisfied: protobuf<4.0.0,>=3.15.3 in /Users/zlapik/my-drive-zdenda-lapes/0-todo/ai-investing/venv_2/lib/python3.10/site-packages (from ray[default]->finrl==0.3.5) (3.19.6)\r\n",
      "Requirement already satisfied: click<=8.0.4,>=7.0 in /Users/zlapik/my-drive-zdenda-lapes/0-todo/ai-investing/venv_2/lib/python3.10/site-packages (from ray[default]->finrl==0.3.5) (8.0.4)\r\n",
      "Requirement already satisfied: filelock in /Users/zlapik/my-drive-zdenda-lapes/0-todo/ai-investing/venv_2/lib/python3.10/site-packages (from ray[default]->finrl==0.3.5) (3.8.0)\r\n",
      "Requirement already satisfied: jsonschema in /Users/zlapik/my-drive-zdenda-lapes/0-todo/ai-investing/venv_2/lib/python3.10/site-packages (from ray[default]->finrl==0.3.5) (4.16.0)\r\n",
      "Requirement already satisfied: aiohttp-cors in /Users/zlapik/my-drive-zdenda-lapes/0-todo/ai-investing/venv_2/lib/python3.10/site-packages (from ray[default]->finrl==0.3.5) (0.7.0)\r\n",
      "Requirement already satisfied: smart-open in /Users/zlapik/my-drive-zdenda-lapes/0-todo/ai-investing/venv_2/lib/python3.10/site-packages (from ray[default]->finrl==0.3.5) (6.2.0)\r\n",
      "Requirement already satisfied: colorful in /Users/zlapik/my-drive-zdenda-lapes/0-todo/ai-investing/venv_2/lib/python3.10/site-packages (from ray[default]->finrl==0.3.5) (0.5.4)\r\n",
      "Requirement already satisfied: opencensus in /Users/zlapik/my-drive-zdenda-lapes/0-todo/ai-investing/venv_2/lib/python3.10/site-packages (from ray[default]->finrl==0.3.5) (0.11.0)\r\n",
      "Requirement already satisfied: pydantic in /Users/zlapik/my-drive-zdenda-lapes/0-todo/ai-investing/venv_2/lib/python3.10/site-packages (from ray[default]->finrl==0.3.5) (1.10.2)\r\n",
      "Requirement already satisfied: prometheus-client<0.14.0,>=0.7.1 in /Users/zlapik/my-drive-zdenda-lapes/0-todo/ai-investing/venv_2/lib/python3.10/site-packages (from ray[default]->finrl==0.3.5) (0.13.1)\r\n",
      "Requirement already satisfied: gpustat>=1.0.0b1 in /Users/zlapik/my-drive-zdenda-lapes/0-todo/ai-investing/venv_2/lib/python3.10/site-packages (from ray[default]->finrl==0.3.5) (1.0.0)\r\n",
      "Requirement already satisfied: py-spy>=0.2.0 in /Users/zlapik/my-drive-zdenda-lapes/0-todo/ai-investing/venv_2/lib/python3.10/site-packages (from ray[default]->finrl==0.3.5) (0.3.14)\r\n",
      "Requirement already satisfied: tabulate in /Users/zlapik/my-drive-zdenda-lapes/0-todo/ai-investing/venv_2/lib/python3.10/site-packages (from ray[default]->finrl==0.3.5) (0.9.0)\r\n",
      "Requirement already satisfied: ale-py==0.7.4 in /Users/zlapik/my-drive-zdenda-lapes/0-todo/ai-investing/venv_2/lib/python3.10/site-packages (from stable-baselines3[extra]->finrl==0.3.5) (0.7.4)\r\n",
      "Requirement already satisfied: rich in /Users/zlapik/my-drive-zdenda-lapes/0-todo/ai-investing/venv_2/lib/python3.10/site-packages (from stable-baselines3[extra]->finrl==0.3.5) (12.6.0)\r\n",
      "Requirement already satisfied: tensorboard>=2.9.1 in /Users/zlapik/my-drive-zdenda-lapes/0-todo/ai-investing/venv_2/lib/python3.10/site-packages (from stable-baselines3[extra]->finrl==0.3.5) (2.10.1)\r\n",
      "Requirement already satisfied: tqdm in /Users/zlapik/my-drive-zdenda-lapes/0-todo/ai-investing/venv_2/lib/python3.10/site-packages (from stable-baselines3[extra]->finrl==0.3.5) (4.64.1)\r\n",
      "Requirement already satisfied: psutil in /Users/zlapik/my-drive-zdenda-lapes/0-todo/ai-investing/venv_2/lib/python3.10/site-packages (from stable-baselines3[extra]->finrl==0.3.5) (5.9.3)\r\n",
      "Requirement already satisfied: autorom[accept-rom-license]~=0.4.2 in /Users/zlapik/my-drive-zdenda-lapes/0-todo/ai-investing/venv_2/lib/python3.10/site-packages (from stable-baselines3[extra]->finrl==0.3.5) (0.4.2)\r\n",
      "Requirement already satisfied: importlib-resources in /Users/zlapik/my-drive-zdenda-lapes/0-todo/ai-investing/venv_2/lib/python3.10/site-packages (from ale-py==0.7.4->stable-baselines3[extra]->finrl==0.3.5) (5.10.0)\r\n",
      "Requirement already satisfied: mock in /Users/zlapik/my-drive-zdenda-lapes/0-todo/ai-investing/venv_2/lib/python3.10/site-packages (from wrds->finrl==0.3.5) (4.0.3)\r\n",
      "Requirement already satisfied: psycopg2-binary in /Users/zlapik/my-drive-zdenda-lapes/0-todo/ai-investing/venv_2/lib/python3.10/site-packages (from wrds->finrl==0.3.5) (2.9.4)\r\n",
      "Requirement already satisfied: appdirs>=1.4.4 in /Users/zlapik/my-drive-zdenda-lapes/0-todo/ai-investing/venv_2/lib/python3.10/site-packages (from yfinance->finrl==0.3.5) (1.4.4)\r\n",
      "Requirement already satisfied: lxml>=4.5.1 in /Users/zlapik/my-drive-zdenda-lapes/0-todo/ai-investing/venv_2/lib/python3.10/site-packages (from yfinance->finrl==0.3.5) (4.9.1)\r\n",
      "Requirement already satisfied: multitasking>=0.0.7 in /Users/zlapik/my-drive-zdenda-lapes/0-todo/ai-investing/venv_2/lib/python3.10/site-packages (from yfinance->finrl==0.3.5) (0.0.11)\r\n",
      "Requirement already satisfied: pycares>=4.0.0 in /Users/zlapik/my-drive-zdenda-lapes/0-todo/ai-investing/venv_2/lib/python3.10/site-packages (from aiodns>=1.1.1->ccxt==1.66.32->finrl==0.3.5) (4.2.2)\r\n",
      "Requirement already satisfied: AutoROM.accept-rom-license in /Users/zlapik/my-drive-zdenda-lapes/0-todo/ai-investing/venv_2/lib/python3.10/site-packages (from autorom[accept-rom-license]~=0.4.2->stable-baselines3[extra]->finrl==0.3.5) (0.4.2)\r\n",
      "Requirement already satisfied: cffi>=1.12 in /Users/zlapik/my-drive-zdenda-lapes/0-todo/ai-investing/venv_2/lib/python3.10/site-packages (from cryptography>=2.6.1->ccxt==1.66.32->finrl==0.3.5) (1.15.1)\r\n",
      "Requirement already satisfied: pandas-datareader>=0.2 in /Users/zlapik/my-drive-zdenda-lapes/0-todo/ai-investing/venv_2/lib/python3.10/site-packages (from empyrical>=0.5.0->pyfolio@ git+https://github.com/quantopian/pyfolio.git#egg=pyfolio-0.9.2->finrl==0.3.5) (0.10.0)\r\n",
      "Requirement already satisfied: nvidia-ml-py<=11.495.46,>=11.450.129 in /Users/zlapik/my-drive-zdenda-lapes/0-todo/ai-investing/venv_2/lib/python3.10/site-packages (from gpustat>=1.0.0b1->ray[default]->finrl==0.3.5) (11.495.46)\r\n",
      "Requirement already satisfied: blessed>=1.17.1 in /Users/zlapik/my-drive-zdenda-lapes/0-todo/ai-investing/venv_2/lib/python3.10/site-packages (from gpustat>=1.0.0b1->ray[default]->finrl==0.3.5) (1.19.1)\r\n",
      "Requirement already satisfied: matplotlib-inline in /Users/zlapik/my-drive-zdenda-lapes/0-todo/ai-investing/venv_2/lib/python3.10/site-packages (from ipython>=3.2.3->pyfolio@ git+https://github.com/quantopian/pyfolio.git#egg=pyfolio-0.9.2->finrl==0.3.5) (0.1.6)\r\n",
      "Requirement already satisfied: pygments>=2.4.0 in /Users/zlapik/my-drive-zdenda-lapes/0-todo/ai-investing/venv_2/lib/python3.10/site-packages (from ipython>=3.2.3->pyfolio@ git+https://github.com/quantopian/pyfolio.git#egg=pyfolio-0.9.2->finrl==0.3.5) (2.13.0)\r\n",
      "Requirement already satisfied: traitlets>=5 in /Users/zlapik/my-drive-zdenda-lapes/0-todo/ai-investing/venv_2/lib/python3.10/site-packages (from ipython>=3.2.3->pyfolio@ git+https://github.com/quantopian/pyfolio.git#egg=pyfolio-0.9.2->finrl==0.3.5) (5.5.0)\r\n",
      "Requirement already satisfied: backcall in /Users/zlapik/my-drive-zdenda-lapes/0-todo/ai-investing/venv_2/lib/python3.10/site-packages (from ipython>=3.2.3->pyfolio@ git+https://github.com/quantopian/pyfolio.git#egg=pyfolio-0.9.2->finrl==0.3.5) (0.2.0)\r\n",
      "Requirement already satisfied: appnope in /Users/zlapik/my-drive-zdenda-lapes/0-todo/ai-investing/venv_2/lib/python3.10/site-packages (from ipython>=3.2.3->pyfolio@ git+https://github.com/quantopian/pyfolio.git#egg=pyfolio-0.9.2->finrl==0.3.5) (0.1.3)\r\n",
      "Requirement already satisfied: pickleshare in /Users/zlapik/my-drive-zdenda-lapes/0-todo/ai-investing/venv_2/lib/python3.10/site-packages (from ipython>=3.2.3->pyfolio@ git+https://github.com/quantopian/pyfolio.git#egg=pyfolio-0.9.2->finrl==0.3.5) (0.7.5)\r\n",
      "Requirement already satisfied: jedi>=0.16 in /Users/zlapik/my-drive-zdenda-lapes/0-todo/ai-investing/venv_2/lib/python3.10/site-packages (from ipython>=3.2.3->pyfolio@ git+https://github.com/quantopian/pyfolio.git#egg=pyfolio-0.9.2->finrl==0.3.5) (0.18.1)\r\n",
      "Requirement already satisfied: decorator in /Users/zlapik/my-drive-zdenda-lapes/0-todo/ai-investing/venv_2/lib/python3.10/site-packages (from ipython>=3.2.3->pyfolio@ git+https://github.com/quantopian/pyfolio.git#egg=pyfolio-0.9.2->finrl==0.3.5) (5.1.1)\r\n",
      "Requirement already satisfied: prompt-toolkit<3.1.0,>3.0.1 in /Users/zlapik/my-drive-zdenda-lapes/0-todo/ai-investing/venv_2/lib/python3.10/site-packages (from ipython>=3.2.3->pyfolio@ git+https://github.com/quantopian/pyfolio.git#egg=pyfolio-0.9.2->finrl==0.3.5) (3.0.31)\r\n",
      "Requirement already satisfied: stack-data in /Users/zlapik/my-drive-zdenda-lapes/0-todo/ai-investing/venv_2/lib/python3.10/site-packages (from ipython>=3.2.3->pyfolio@ git+https://github.com/quantopian/pyfolio.git#egg=pyfolio-0.9.2->finrl==0.3.5) (0.5.1)\r\n",
      "Requirement already satisfied: pexpect>4.3 in /Users/zlapik/my-drive-zdenda-lapes/0-todo/ai-investing/venv_2/lib/python3.10/site-packages (from ipython>=3.2.3->pyfolio@ git+https://github.com/quantopian/pyfolio.git#egg=pyfolio-0.9.2->finrl==0.3.5) (4.8.0)\r\n",
      "Requirement already satisfied: greenlet!=0.4.17 in /Users/zlapik/my-drive-zdenda-lapes/0-todo/ai-investing/venv_2/lib/python3.10/site-packages (from SQLAlchemy>=1.2.8->jqdatasdk->finrl==0.3.5) (1.1.3.post0)\r\n",
      "Requirement already satisfied: tensorboard-plugin-wit>=1.6.0 in /Users/zlapik/my-drive-zdenda-lapes/0-todo/ai-investing/venv_2/lib/python3.10/site-packages (from tensorboard>=2.9.1->stable-baselines3[extra]->finrl==0.3.5) (1.8.1)\r\n",
      "Requirement already satisfied: google-auth<3,>=1.6.3 in /Users/zlapik/my-drive-zdenda-lapes/0-todo/ai-investing/venv_2/lib/python3.10/site-packages (from tensorboard>=2.9.1->stable-baselines3[extra]->finrl==0.3.5) (2.13.0)\r\n",
      "Requirement already satisfied: werkzeug>=1.0.1 in /Users/zlapik/my-drive-zdenda-lapes/0-todo/ai-investing/venv_2/lib/python3.10/site-packages (from tensorboard>=2.9.1->stable-baselines3[extra]->finrl==0.3.5) (2.2.2)\r\n",
      "Requirement already satisfied: markdown>=2.6.8 in /Users/zlapik/my-drive-zdenda-lapes/0-todo/ai-investing/venv_2/lib/python3.10/site-packages (from tensorboard>=2.9.1->stable-baselines3[extra]->finrl==0.3.5) (3.4.1)\r\n",
      "Requirement already satisfied: tensorboard-data-server<0.7.0,>=0.6.0 in /Users/zlapik/my-drive-zdenda-lapes/0-todo/ai-investing/venv_2/lib/python3.10/site-packages (from tensorboard>=2.9.1->stable-baselines3[extra]->finrl==0.3.5) (0.6.1)\r\n",
      "Requirement already satisfied: absl-py>=0.4 in /Users/zlapik/my-drive-zdenda-lapes/0-todo/ai-investing/venv_2/lib/python3.10/site-packages (from tensorboard>=2.9.1->stable-baselines3[extra]->finrl==0.3.5) (1.3.0)\r\n",
      "Requirement already satisfied: google-auth-oauthlib<0.5,>=0.4.1 in /Users/zlapik/my-drive-zdenda-lapes/0-todo/ai-investing/venv_2/lib/python3.10/site-packages (from tensorboard>=2.9.1->stable-baselines3[extra]->finrl==0.3.5) (0.4.6)\r\n",
      "Requirement already satisfied: ply<4.0,>=3.4 in /Users/zlapik/my-drive-zdenda-lapes/0-todo/ai-investing/venv_2/lib/python3.10/site-packages (from thriftpy2>=0.3.9->jqdatasdk->finrl==0.3.5) (3.11)\r\n",
      "Requirement already satisfied: typing-extensions in /Users/zlapik/my-drive-zdenda-lapes/0-todo/ai-investing/venv_2/lib/python3.10/site-packages (from torch->elegantrl@ git+https://github.com/AI4Finance-Foundation/ElegantRL.git#egg=elegantrl->finrl==0.3.5) (4.4.0)\r\n",
      "Requirement already satisfied: distlib<1,>=0.3.5 in /Users/zlapik/my-drive-zdenda-lapes/0-todo/ai-investing/venv_2/lib/python3.10/site-packages (from virtualenv>=20.0.8->pre-commit->finrl==0.3.5) (0.3.6)\r\n",
      "Requirement already satisfied: platformdirs<3,>=2.4 in /Users/zlapik/my-drive-zdenda-lapes/0-todo/ai-investing/venv_2/lib/python3.10/site-packages (from virtualenv>=20.0.8->pre-commit->finrl==0.3.5) (2.5.2)\r\n",
      "Requirement already satisfied: pyrsistent!=0.17.0,!=0.17.1,!=0.17.2,>=0.14.0 in /Users/zlapik/my-drive-zdenda-lapes/0-todo/ai-investing/venv_2/lib/python3.10/site-packages (from jsonschema->ray[default]->finrl==0.3.5) (0.18.1)\r\n",
      "Requirement already satisfied: google-api-core<3.0.0,>=1.0.0 in /Users/zlapik/my-drive-zdenda-lapes/0-todo/ai-investing/venv_2/lib/python3.10/site-packages (from opencensus->ray[default]->finrl==0.3.5) (2.10.2)\r\n",
      "Requirement already satisfied: opencensus-context>=0.1.3 in /Users/zlapik/my-drive-zdenda-lapes/0-todo/ai-investing/venv_2/lib/python3.10/site-packages (from opencensus->ray[default]->finrl==0.3.5) (0.1.3)\r\n",
      "Requirement already satisfied: commonmark<0.10.0,>=0.9.0 in /Users/zlapik/my-drive-zdenda-lapes/0-todo/ai-investing/venv_2/lib/python3.10/site-packages (from rich->stable-baselines3[extra]->finrl==0.3.5) (0.9.1)\r\n",
      "Requirement already satisfied: wcwidth>=0.1.4 in /Users/zlapik/my-drive-zdenda-lapes/0-todo/ai-investing/venv_2/lib/python3.10/site-packages (from blessed>=1.17.1->gpustat>=1.0.0b1->ray[default]->finrl==0.3.5) (0.2.5)\r\n",
      "Requirement already satisfied: pycparser in /Users/zlapik/my-drive-zdenda-lapes/0-todo/ai-investing/venv_2/lib/python3.10/site-packages (from cffi>=1.12->cryptography>=2.6.1->ccxt==1.66.32->finrl==0.3.5) (2.21)\r\n",
      "Requirement already satisfied: googleapis-common-protos<2.0dev,>=1.56.2 in /Users/zlapik/my-drive-zdenda-lapes/0-todo/ai-investing/venv_2/lib/python3.10/site-packages (from google-api-core<3.0.0,>=1.0.0->opencensus->ray[default]->finrl==0.3.5) (1.56.4)\r\n",
      "Requirement already satisfied: pyasn1-modules>=0.2.1 in /Users/zlapik/my-drive-zdenda-lapes/0-todo/ai-investing/venv_2/lib/python3.10/site-packages (from google-auth<3,>=1.6.3->tensorboard>=2.9.1->stable-baselines3[extra]->finrl==0.3.5) (0.2.8)\r\n",
      "Requirement already satisfied: rsa<5,>=3.1.4 in /Users/zlapik/my-drive-zdenda-lapes/0-todo/ai-investing/venv_2/lib/python3.10/site-packages (from google-auth<3,>=1.6.3->tensorboard>=2.9.1->stable-baselines3[extra]->finrl==0.3.5) (4.9)\r\n",
      "Requirement already satisfied: cachetools<6.0,>=2.0.0 in /Users/zlapik/my-drive-zdenda-lapes/0-todo/ai-investing/venv_2/lib/python3.10/site-packages (from google-auth<3,>=1.6.3->tensorboard>=2.9.1->stable-baselines3[extra]->finrl==0.3.5) (5.2.0)\r\n",
      "Requirement already satisfied: requests-oauthlib>=0.7.0 in /Users/zlapik/my-drive-zdenda-lapes/0-todo/ai-investing/venv_2/lib/python3.10/site-packages (from google-auth-oauthlib<0.5,>=0.4.1->tensorboard>=2.9.1->stable-baselines3[extra]->finrl==0.3.5) (1.3.1)\r\n",
      "Requirement already satisfied: parso<0.9.0,>=0.8.0 in /Users/zlapik/my-drive-zdenda-lapes/0-todo/ai-investing/venv_2/lib/python3.10/site-packages (from jedi>=0.16->ipython>=3.2.3->pyfolio@ git+https://github.com/quantopian/pyfolio.git#egg=pyfolio-0.9.2->finrl==0.3.5) (0.8.3)\r\n",
      "Requirement already satisfied: ptyprocess>=0.5 in /Users/zlapik/my-drive-zdenda-lapes/0-todo/ai-investing/venv_2/lib/python3.10/site-packages (from pexpect>4.3->ipython>=3.2.3->pyfolio@ git+https://github.com/quantopian/pyfolio.git#egg=pyfolio-0.9.2->finrl==0.3.5) (0.7.0)\r\n",
      "Requirement already satisfied: MarkupSafe>=2.1.1 in /Users/zlapik/my-drive-zdenda-lapes/0-todo/ai-investing/venv_2/lib/python3.10/site-packages (from werkzeug>=1.0.1->tensorboard>=2.9.1->stable-baselines3[extra]->finrl==0.3.5) (2.1.1)\r\n",
      "Requirement already satisfied: asttokens in /Users/zlapik/my-drive-zdenda-lapes/0-todo/ai-investing/venv_2/lib/python3.10/site-packages (from stack-data->ipython>=3.2.3->pyfolio@ git+https://github.com/quantopian/pyfolio.git#egg=pyfolio-0.9.2->finrl==0.3.5) (2.0.8)\r\n",
      "Requirement already satisfied: pure-eval in /Users/zlapik/my-drive-zdenda-lapes/0-todo/ai-investing/venv_2/lib/python3.10/site-packages (from stack-data->ipython>=3.2.3->pyfolio@ git+https://github.com/quantopian/pyfolio.git#egg=pyfolio-0.9.2->finrl==0.3.5) (0.2.2)\r\n",
      "Requirement already satisfied: executing in /Users/zlapik/my-drive-zdenda-lapes/0-todo/ai-investing/venv_2/lib/python3.10/site-packages (from stack-data->ipython>=3.2.3->pyfolio@ git+https://github.com/quantopian/pyfolio.git#egg=pyfolio-0.9.2->finrl==0.3.5) (1.1.1)\r\n",
      "Requirement already satisfied: pyasn1<0.5.0,>=0.4.6 in /Users/zlapik/my-drive-zdenda-lapes/0-todo/ai-investing/venv_2/lib/python3.10/site-packages (from pyasn1-modules>=0.2.1->google-auth<3,>=1.6.3->tensorboard>=2.9.1->stable-baselines3[extra]->finrl==0.3.5) (0.4.8)\r\n",
      "Requirement already satisfied: oauthlib>=3.0.0 in /Users/zlapik/my-drive-zdenda-lapes/0-todo/ai-investing/venv_2/lib/python3.10/site-packages (from requests-oauthlib>=0.7.0->google-auth-oauthlib<0.5,>=0.4.1->tensorboard>=2.9.1->stable-baselines3[extra]->finrl==0.3.5) (3.2.2)\r\n"
     ]
    }
   ],
   "source": [
    "## install finrl library\n",
    "!pip install \"git+https://github.com/AI4Finance-Foundation/FinRL.git\""
   ]
  },
  {
   "cell_type": "markdown",
   "metadata": {
    "id": "osBHhVysOEzi",
    "pycharm": {
     "name": "#%% md\n"
    }
   },
   "source": [
    "\n",
    "<a id='1.2'></a>\n",
    "## 2.2. A List of Python Packages\n",
    "* Yahoo Finance API\n",
    "* pandas\n",
    "* numpy\n",
    "* matplotlib\n",
    "* stockstats\n",
    "* OpenAI gym\n",
    "* stable-baselines\n",
    "* pyfolio"
   ]
  },
  {
   "cell_type": "markdown",
   "metadata": {
    "id": "nGv01K8Sh1hn",
    "pycharm": {
     "name": "#%% md\n"
    }
   },
   "source": [
    "<a id='1.3'></a>\n",
    "## 2.3. Import Packages"
   ]
  },
  {
   "cell_type": "code",
   "execution_count": 2,
   "metadata": {
    "id": "lPqeTTwoh1hn",
    "pycharm": {
     "name": "#%%\n"
    }
   },
   "outputs": [
    {
     "name": "stderr",
     "output_type": "stream",
     "text": [
      "/Users/zlapik/my-drive-zdenda-lapes/0-todo/ai-investing/venv_2/lib/python3.10/site-packages/pyfolio/pos.py:26: UserWarning: Module \"zipline.assets\" not found; multipliers will not be applied to position notionals.\n",
      "  warnings.warn(\n"
     ]
    }
   ],
   "source": [
    "import pandas as pd\n",
    "import numpy as np\n",
    "import matplotlib\n",
    "import matplotlib.pyplot as plt\n",
    "\n",
    "# matplotlib.use('Agg')\n",
    "import datetime\n",
    "\n",
    "%matplotlib inline\n",
    "\n",
    "import os\n",
    "from os import path\n",
    "import sys\n",
    "from pathlib import Path\n",
    "from pprint import pprint\n",
    "import itertools\n",
    "\n",
    "from finrl import config\n",
    "from finrl import config_tickers\n",
    "from finrl.meta.preprocessor.yahoodownloader import YahooDownloader\n",
    "from finrl.meta.preprocessor.preprocessors import FeatureEngineer, data_split\n",
    "from finrl.meta.env_stock_trading.env_stocktrading import StockTradingEnv\n",
    "from finrl.agents.stablebaselines3.models import DRLAgent\n",
    "from finrl.plot import backtest_stats, backtest_plot, get_daily_return, get_baseline\n",
    "from finrl.main import check_and_make_directories\n",
    "from finrl.config import (\n",
    "    DATA_SAVE_DIR,\n",
    "    TRAINED_MODEL_DIR,\n",
    "    TENSORBOARD_LOG_DIR,\n",
    "    RESULTS_DIR,\n",
    "    INDICATORS,\n",
    "    TRAIN_START_DATE,\n",
    "    TRAIN_END_DATE,\n",
    "    TEST_START_DATE,\n",
    "    TEST_END_DATE,\n",
    "    TRADE_START_DATE,\n",
    "    TRADE_END_DATE,\n",
    ")\n",
    "from finrl.config_tickers import DOW_30_TICKER\n",
    "\n",
    "from stable_baselines3.common.logger import configure\n",
    "from stable_baselines3 import A2C\n",
    "from stable_baselines3 import DDPG\n",
    "from stable_baselines3 import PPO\n",
    "from stable_baselines3 import SAC\n",
    "from stable_baselines3 import TD3\n",
    "\n",
    "\n",
    "from src.config.settings import DATA_DIR"
   ]
  },
  {
   "cell_type": "markdown",
   "metadata": {
    "id": "T2owTj985RW4",
    "pycharm": {
     "name": "#%% md\n"
    }
   },
   "source": [
    "<a id='1.4'></a>\n",
    "## 2.4. Create Folders"
   ]
  },
  {
   "cell_type": "code",
   "execution_count": 3,
   "metadata": {
    "id": "w9A8CN5R5PuZ",
    "pycharm": {
     "name": "#%%\n"
    }
   },
   "outputs": [],
   "source": [
    "check_and_make_directories([DATA_SAVE_DIR, TRAINED_MODEL_DIR, TENSORBOARD_LOG_DIR, RESULTS_DIR])"
   ]
  },
  {
   "cell_type": "markdown",
   "metadata": {
    "id": "A289rQWMh1hq",
    "pycharm": {
     "name": "#%% md\n"
    }
   },
   "source": [
    "<a id='2'></a>\n",
    "# Part 3. Download Stock Data from Yahoo Finance\n",
    "Yahoo Finance provides stock data, financial news, financial reports, etc. Yahoo Finance is free.\n",
    "* FinRL uses a class **YahooDownloader** in FinRL-Meta to fetch data via Yahoo Finance API\n",
    "* Call Limit: Using the Public API (without authentication), you are limited to 2,000 requests per hour per IP (or up to a total of 48,000 requests a day).\n"
   ]
  },
  {
   "cell_type": "markdown",
   "metadata": {
    "id": "NPeQ7iS-LoMm",
    "pycharm": {
     "name": "#%% md\n"
    }
   },
   "source": [
    "\n",
    "\n",
    "-----\n",
    "class YahooDownloader:\n",
    "    Retrieving daily stock data from Yahoo Finance API\n",
    "\n",
    "    Attributes\n",
    "    ----------\n",
    "        start_date : str\n",
    "            start date of the data (modified from config.py)\n",
    "        end_date : str\n",
    "            end date of the data (modified from config.py)\n",
    "        ticker_list : list\n",
    "            a list of stock tickers (modified from config.py)\n",
    "\n",
    "    Methods\n",
    "    -------\n",
    "    fetch_data()"
   ]
  },
  {
   "cell_type": "code",
   "execution_count": 4,
   "metadata": {
    "colab": {
     "base_uri": "https://localhost:8080/"
    },
    "id": "JzqRRTOX6aFu",
    "outputId": "067a94e9-2baf-437b-997c-74ff6cc4b932",
    "pycharm": {
     "name": "#%%\n"
    }
   },
   "outputs": [
    {
     "name": "stdout",
     "output_type": "stream",
     "text": [
      "['AXP', 'AMGN', 'AAPL', 'BA', 'CAT', 'CSCO', 'CVX', 'GS', 'HD', 'HON', 'IBM', 'INTC', 'JNJ', 'KO', 'JPM', 'MCD', 'MMM', 'MRK', 'MSFT', 'NKE', 'PG', 'TRV', 'UNH', 'CRM', 'VZ', 'V', 'WBA', 'WMT', 'DIS', 'DOW']\n"
     ]
    }
   ],
   "source": [
    "print(DOW_30_TICKER)"
   ]
  },
  {
   "cell_type": "code",
   "execution_count": 5,
   "outputs": [
    {
     "name": "stdout",
     "output_type": "stream",
     "text": [
      "[*********************100%***********************]  1 of 1 completed\n"
     ]
    },
    {
     "name": "stderr",
     "output_type": "stream",
     "text": [
      "/Users/zlapik/my-drive-zdenda-lapes/0-todo/ai-investing/venv_2/lib/python3.10/site-packages/finrl/meta/preprocessor/yahoodownloader.py:54: FutureWarning: The frame.append method is deprecated and will be removed from pandas in a future version. Use pandas.concat instead.\n",
      "  data_df = data_df.append(temp_df)\n"
     ]
    },
    {
     "name": "stdout",
     "output_type": "stream",
     "text": [
      "[*********************100%***********************]  1 of 1 completed\n"
     ]
    },
    {
     "name": "stderr",
     "output_type": "stream",
     "text": [
      "/Users/zlapik/my-drive-zdenda-lapes/0-todo/ai-investing/venv_2/lib/python3.10/site-packages/finrl/meta/preprocessor/yahoodownloader.py:54: FutureWarning: The frame.append method is deprecated and will be removed from pandas in a future version. Use pandas.concat instead.\n",
      "  data_df = data_df.append(temp_df)\n"
     ]
    },
    {
     "name": "stdout",
     "output_type": "stream",
     "text": [
      "[*********************100%***********************]  1 of 1 completed\n"
     ]
    },
    {
     "name": "stderr",
     "output_type": "stream",
     "text": [
      "/Users/zlapik/my-drive-zdenda-lapes/0-todo/ai-investing/venv_2/lib/python3.10/site-packages/finrl/meta/preprocessor/yahoodownloader.py:54: FutureWarning: The frame.append method is deprecated and will be removed from pandas in a future version. Use pandas.concat instead.\n",
      "  data_df = data_df.append(temp_df)\n"
     ]
    },
    {
     "name": "stdout",
     "output_type": "stream",
     "text": [
      "[*********************100%***********************]  1 of 1 completed\n"
     ]
    },
    {
     "name": "stderr",
     "output_type": "stream",
     "text": [
      "/Users/zlapik/my-drive-zdenda-lapes/0-todo/ai-investing/venv_2/lib/python3.10/site-packages/finrl/meta/preprocessor/yahoodownloader.py:54: FutureWarning: The frame.append method is deprecated and will be removed from pandas in a future version. Use pandas.concat instead.\n",
      "  data_df = data_df.append(temp_df)\n"
     ]
    },
    {
     "name": "stdout",
     "output_type": "stream",
     "text": [
      "[*********************100%***********************]  1 of 1 completed\n"
     ]
    },
    {
     "name": "stderr",
     "output_type": "stream",
     "text": [
      "/Users/zlapik/my-drive-zdenda-lapes/0-todo/ai-investing/venv_2/lib/python3.10/site-packages/finrl/meta/preprocessor/yahoodownloader.py:54: FutureWarning: The frame.append method is deprecated and will be removed from pandas in a future version. Use pandas.concat instead.\n",
      "  data_df = data_df.append(temp_df)\n"
     ]
    },
    {
     "name": "stdout",
     "output_type": "stream",
     "text": [
      "[*********************100%***********************]  1 of 1 completed\n"
     ]
    },
    {
     "name": "stderr",
     "output_type": "stream",
     "text": [
      "/Users/zlapik/my-drive-zdenda-lapes/0-todo/ai-investing/venv_2/lib/python3.10/site-packages/finrl/meta/preprocessor/yahoodownloader.py:54: FutureWarning: The frame.append method is deprecated and will be removed from pandas in a future version. Use pandas.concat instead.\n",
      "  data_df = data_df.append(temp_df)\n"
     ]
    },
    {
     "name": "stdout",
     "output_type": "stream",
     "text": [
      "[*********************100%***********************]  1 of 1 completed\n"
     ]
    },
    {
     "name": "stderr",
     "output_type": "stream",
     "text": [
      "/Users/zlapik/my-drive-zdenda-lapes/0-todo/ai-investing/venv_2/lib/python3.10/site-packages/finrl/meta/preprocessor/yahoodownloader.py:54: FutureWarning: The frame.append method is deprecated and will be removed from pandas in a future version. Use pandas.concat instead.\n",
      "  data_df = data_df.append(temp_df)\n"
     ]
    },
    {
     "name": "stdout",
     "output_type": "stream",
     "text": [
      "[*********************100%***********************]  1 of 1 completed\n"
     ]
    },
    {
     "name": "stderr",
     "output_type": "stream",
     "text": [
      "/Users/zlapik/my-drive-zdenda-lapes/0-todo/ai-investing/venv_2/lib/python3.10/site-packages/finrl/meta/preprocessor/yahoodownloader.py:54: FutureWarning: The frame.append method is deprecated and will be removed from pandas in a future version. Use pandas.concat instead.\n",
      "  data_df = data_df.append(temp_df)\n"
     ]
    },
    {
     "name": "stdout",
     "output_type": "stream",
     "text": [
      "[*********************100%***********************]  1 of 1 completed\n"
     ]
    },
    {
     "name": "stderr",
     "output_type": "stream",
     "text": [
      "/Users/zlapik/my-drive-zdenda-lapes/0-todo/ai-investing/venv_2/lib/python3.10/site-packages/finrl/meta/preprocessor/yahoodownloader.py:54: FutureWarning: The frame.append method is deprecated and will be removed from pandas in a future version. Use pandas.concat instead.\n",
      "  data_df = data_df.append(temp_df)\n"
     ]
    },
    {
     "name": "stdout",
     "output_type": "stream",
     "text": [
      "[*********************100%***********************]  1 of 1 completed\n"
     ]
    },
    {
     "name": "stderr",
     "output_type": "stream",
     "text": [
      "/Users/zlapik/my-drive-zdenda-lapes/0-todo/ai-investing/venv_2/lib/python3.10/site-packages/finrl/meta/preprocessor/yahoodownloader.py:54: FutureWarning: The frame.append method is deprecated and will be removed from pandas in a future version. Use pandas.concat instead.\n",
      "  data_df = data_df.append(temp_df)\n"
     ]
    },
    {
     "name": "stdout",
     "output_type": "stream",
     "text": [
      "[*********************100%***********************]  1 of 1 completed\n"
     ]
    },
    {
     "name": "stderr",
     "output_type": "stream",
     "text": [
      "/Users/zlapik/my-drive-zdenda-lapes/0-todo/ai-investing/venv_2/lib/python3.10/site-packages/finrl/meta/preprocessor/yahoodownloader.py:54: FutureWarning: The frame.append method is deprecated and will be removed from pandas in a future version. Use pandas.concat instead.\n",
      "  data_df = data_df.append(temp_df)\n"
     ]
    },
    {
     "name": "stdout",
     "output_type": "stream",
     "text": [
      "[*********************100%***********************]  1 of 1 completed\n"
     ]
    },
    {
     "name": "stderr",
     "output_type": "stream",
     "text": [
      "/Users/zlapik/my-drive-zdenda-lapes/0-todo/ai-investing/venv_2/lib/python3.10/site-packages/finrl/meta/preprocessor/yahoodownloader.py:54: FutureWarning: The frame.append method is deprecated and will be removed from pandas in a future version. Use pandas.concat instead.\n",
      "  data_df = data_df.append(temp_df)\n"
     ]
    },
    {
     "name": "stdout",
     "output_type": "stream",
     "text": [
      "[*********************100%***********************]  1 of 1 completed\n"
     ]
    },
    {
     "name": "stderr",
     "output_type": "stream",
     "text": [
      "/Users/zlapik/my-drive-zdenda-lapes/0-todo/ai-investing/venv_2/lib/python3.10/site-packages/finrl/meta/preprocessor/yahoodownloader.py:54: FutureWarning: The frame.append method is deprecated and will be removed from pandas in a future version. Use pandas.concat instead.\n",
      "  data_df = data_df.append(temp_df)\n"
     ]
    },
    {
     "name": "stdout",
     "output_type": "stream",
     "text": [
      "[*********************100%***********************]  1 of 1 completed\n"
     ]
    },
    {
     "name": "stderr",
     "output_type": "stream",
     "text": [
      "/Users/zlapik/my-drive-zdenda-lapes/0-todo/ai-investing/venv_2/lib/python3.10/site-packages/finrl/meta/preprocessor/yahoodownloader.py:54: FutureWarning: The frame.append method is deprecated and will be removed from pandas in a future version. Use pandas.concat instead.\n",
      "  data_df = data_df.append(temp_df)\n"
     ]
    },
    {
     "name": "stdout",
     "output_type": "stream",
     "text": [
      "[*********************100%***********************]  1 of 1 completed\n"
     ]
    },
    {
     "name": "stderr",
     "output_type": "stream",
     "text": [
      "/Users/zlapik/my-drive-zdenda-lapes/0-todo/ai-investing/venv_2/lib/python3.10/site-packages/finrl/meta/preprocessor/yahoodownloader.py:54: FutureWarning: The frame.append method is deprecated and will be removed from pandas in a future version. Use pandas.concat instead.\n",
      "  data_df = data_df.append(temp_df)\n"
     ]
    },
    {
     "name": "stdout",
     "output_type": "stream",
     "text": [
      "[*********************100%***********************]  1 of 1 completed\n"
     ]
    },
    {
     "name": "stderr",
     "output_type": "stream",
     "text": [
      "/Users/zlapik/my-drive-zdenda-lapes/0-todo/ai-investing/venv_2/lib/python3.10/site-packages/finrl/meta/preprocessor/yahoodownloader.py:54: FutureWarning: The frame.append method is deprecated and will be removed from pandas in a future version. Use pandas.concat instead.\n",
      "  data_df = data_df.append(temp_df)\n"
     ]
    },
    {
     "name": "stdout",
     "output_type": "stream",
     "text": [
      "[*********************100%***********************]  1 of 1 completed\n"
     ]
    },
    {
     "name": "stderr",
     "output_type": "stream",
     "text": [
      "/Users/zlapik/my-drive-zdenda-lapes/0-todo/ai-investing/venv_2/lib/python3.10/site-packages/finrl/meta/preprocessor/yahoodownloader.py:54: FutureWarning: The frame.append method is deprecated and will be removed from pandas in a future version. Use pandas.concat instead.\n",
      "  data_df = data_df.append(temp_df)\n"
     ]
    },
    {
     "name": "stdout",
     "output_type": "stream",
     "text": [
      "[*********************100%***********************]  1 of 1 completed\n"
     ]
    },
    {
     "name": "stderr",
     "output_type": "stream",
     "text": [
      "/Users/zlapik/my-drive-zdenda-lapes/0-todo/ai-investing/venv_2/lib/python3.10/site-packages/finrl/meta/preprocessor/yahoodownloader.py:54: FutureWarning: The frame.append method is deprecated and will be removed from pandas in a future version. Use pandas.concat instead.\n",
      "  data_df = data_df.append(temp_df)\n"
     ]
    },
    {
     "name": "stdout",
     "output_type": "stream",
     "text": [
      "[*********************100%***********************]  1 of 1 completed\n"
     ]
    },
    {
     "name": "stderr",
     "output_type": "stream",
     "text": [
      "/Users/zlapik/my-drive-zdenda-lapes/0-todo/ai-investing/venv_2/lib/python3.10/site-packages/finrl/meta/preprocessor/yahoodownloader.py:54: FutureWarning: The frame.append method is deprecated and will be removed from pandas in a future version. Use pandas.concat instead.\n",
      "  data_df = data_df.append(temp_df)\n"
     ]
    },
    {
     "name": "stdout",
     "output_type": "stream",
     "text": [
      "[*********************100%***********************]  1 of 1 completed\n"
     ]
    },
    {
     "name": "stderr",
     "output_type": "stream",
     "text": [
      "/Users/zlapik/my-drive-zdenda-lapes/0-todo/ai-investing/venv_2/lib/python3.10/site-packages/finrl/meta/preprocessor/yahoodownloader.py:54: FutureWarning: The frame.append method is deprecated and will be removed from pandas in a future version. Use pandas.concat instead.\n",
      "  data_df = data_df.append(temp_df)\n"
     ]
    },
    {
     "name": "stdout",
     "output_type": "stream",
     "text": [
      "[*********************100%***********************]  1 of 1 completed\n"
     ]
    },
    {
     "name": "stderr",
     "output_type": "stream",
     "text": [
      "/Users/zlapik/my-drive-zdenda-lapes/0-todo/ai-investing/venv_2/lib/python3.10/site-packages/finrl/meta/preprocessor/yahoodownloader.py:54: FutureWarning: The frame.append method is deprecated and will be removed from pandas in a future version. Use pandas.concat instead.\n",
      "  data_df = data_df.append(temp_df)\n"
     ]
    },
    {
     "name": "stdout",
     "output_type": "stream",
     "text": [
      "[*********************100%***********************]  1 of 1 completed\n"
     ]
    },
    {
     "name": "stderr",
     "output_type": "stream",
     "text": [
      "/Users/zlapik/my-drive-zdenda-lapes/0-todo/ai-investing/venv_2/lib/python3.10/site-packages/finrl/meta/preprocessor/yahoodownloader.py:54: FutureWarning: The frame.append method is deprecated and will be removed from pandas in a future version. Use pandas.concat instead.\n",
      "  data_df = data_df.append(temp_df)\n"
     ]
    },
    {
     "name": "stdout",
     "output_type": "stream",
     "text": [
      "[*********************100%***********************]  1 of 1 completed\n"
     ]
    },
    {
     "name": "stderr",
     "output_type": "stream",
     "text": [
      "/Users/zlapik/my-drive-zdenda-lapes/0-todo/ai-investing/venv_2/lib/python3.10/site-packages/finrl/meta/preprocessor/yahoodownloader.py:54: FutureWarning: The frame.append method is deprecated and will be removed from pandas in a future version. Use pandas.concat instead.\n",
      "  data_df = data_df.append(temp_df)\n"
     ]
    },
    {
     "name": "stdout",
     "output_type": "stream",
     "text": [
      "[*********************100%***********************]  1 of 1 completed\n"
     ]
    },
    {
     "name": "stderr",
     "output_type": "stream",
     "text": [
      "/Users/zlapik/my-drive-zdenda-lapes/0-todo/ai-investing/venv_2/lib/python3.10/site-packages/finrl/meta/preprocessor/yahoodownloader.py:54: FutureWarning: The frame.append method is deprecated and will be removed from pandas in a future version. Use pandas.concat instead.\n",
      "  data_df = data_df.append(temp_df)\n"
     ]
    },
    {
     "name": "stdout",
     "output_type": "stream",
     "text": [
      "[*********************100%***********************]  1 of 1 completed\n"
     ]
    },
    {
     "name": "stderr",
     "output_type": "stream",
     "text": [
      "/Users/zlapik/my-drive-zdenda-lapes/0-todo/ai-investing/venv_2/lib/python3.10/site-packages/finrl/meta/preprocessor/yahoodownloader.py:54: FutureWarning: The frame.append method is deprecated and will be removed from pandas in a future version. Use pandas.concat instead.\n",
      "  data_df = data_df.append(temp_df)\n"
     ]
    },
    {
     "name": "stdout",
     "output_type": "stream",
     "text": [
      "[*********************100%***********************]  1 of 1 completed\n"
     ]
    },
    {
     "name": "stderr",
     "output_type": "stream",
     "text": [
      "/Users/zlapik/my-drive-zdenda-lapes/0-todo/ai-investing/venv_2/lib/python3.10/site-packages/finrl/meta/preprocessor/yahoodownloader.py:54: FutureWarning: The frame.append method is deprecated and will be removed from pandas in a future version. Use pandas.concat instead.\n",
      "  data_df = data_df.append(temp_df)\n"
     ]
    },
    {
     "name": "stdout",
     "output_type": "stream",
     "text": [
      "[*********************100%***********************]  1 of 1 completed\n"
     ]
    },
    {
     "name": "stderr",
     "output_type": "stream",
     "text": [
      "/Users/zlapik/my-drive-zdenda-lapes/0-todo/ai-investing/venv_2/lib/python3.10/site-packages/finrl/meta/preprocessor/yahoodownloader.py:54: FutureWarning: The frame.append method is deprecated and will be removed from pandas in a future version. Use pandas.concat instead.\n",
      "  data_df = data_df.append(temp_df)\n"
     ]
    },
    {
     "name": "stdout",
     "output_type": "stream",
     "text": [
      "[*********************100%***********************]  1 of 1 completed\n"
     ]
    },
    {
     "name": "stderr",
     "output_type": "stream",
     "text": [
      "/Users/zlapik/my-drive-zdenda-lapes/0-todo/ai-investing/venv_2/lib/python3.10/site-packages/finrl/meta/preprocessor/yahoodownloader.py:54: FutureWarning: The frame.append method is deprecated and will be removed from pandas in a future version. Use pandas.concat instead.\n",
      "  data_df = data_df.append(temp_df)\n"
     ]
    },
    {
     "name": "stdout",
     "output_type": "stream",
     "text": [
      "[*********************100%***********************]  1 of 1 completed\n",
      "[*********************100%***********************]  1 of 1 completed\n"
     ]
    },
    {
     "name": "stderr",
     "output_type": "stream",
     "text": [
      "/Users/zlapik/my-drive-zdenda-lapes/0-todo/ai-investing/venv_2/lib/python3.10/site-packages/finrl/meta/preprocessor/yahoodownloader.py:54: FutureWarning: The frame.append method is deprecated and will be removed from pandas in a future version. Use pandas.concat instead.\n",
      "  data_df = data_df.append(temp_df)\n",
      "/Users/zlapik/my-drive-zdenda-lapes/0-todo/ai-investing/venv_2/lib/python3.10/site-packages/finrl/meta/preprocessor/yahoodownloader.py:54: FutureWarning: The frame.append method is deprecated and will be removed from pandas in a future version. Use pandas.concat instead.\n",
      "  data_df = data_df.append(temp_df)\n"
     ]
    },
    {
     "name": "stdout",
     "output_type": "stream",
     "text": [
      "Shape of DataFrame:  (99341, 8)\n"
     ]
    }
   ],
   "source": [
    "TRAIN_START_DATE = \"2009-01-01\"\n",
    "TRAIN_END_DATE = \"2021-07-01\"\n",
    "TEST_START_DATE = \"2021-07-01\"\n",
    "TEST_END_DATE = \"2022-07-01\"\n",
    "\n",
    "df = YahooDownloader(start_date=TRAIN_START_DATE, end_date=TEST_END_DATE, ticker_list=DOW_30_TICKER).fetch_data()"
   ],
   "metadata": {
    "collapsed": false,
    "pycharm": {
     "name": "#%%\n"
    }
   }
  },
  {
   "cell_type": "code",
   "execution_count": 6,
   "outputs": [
    {
     "data": {
      "text/plain": "(99341, 8)"
     },
     "execution_count": 6,
     "metadata": {},
     "output_type": "execute_result"
    }
   ],
   "source": [
    "df.shape"
   ],
   "metadata": {
    "collapsed": false,
    "pycharm": {
     "name": "#%%\n"
    }
   }
  },
  {
   "cell_type": "code",
   "execution_count": 7,
   "outputs": [
    {
     "data": {
      "text/plain": "         date       open       high        low      close     volume   tic  \\\n0  2009-01-02   3.067143   3.251429   3.041429   2.767330  746015200  AAPL   \n1  2009-01-02  58.590000  59.080002  57.750000  44.523758    6547900  AMGN   \n2  2009-01-02  18.570000  19.520000  18.400000  15.418564   10955700   AXP   \n3  2009-01-02  42.799999  45.560001  42.779999  33.941090    7010200    BA   \n4  2009-01-02  44.910000  46.980000  44.709999  31.729939    7117200   CAT   \n\n   day  \n0    4  \n1    4  \n2    4  \n3    4  \n4    4  ",
      "text/html": "<div>\n<style scoped>\n    .dataframe tbody tr th:only-of-type {\n        vertical-align: middle;\n    }\n\n    .dataframe tbody tr th {\n        vertical-align: top;\n    }\n\n    .dataframe thead th {\n        text-align: right;\n    }\n</style>\n<table border=\"1\" class=\"dataframe\">\n  <thead>\n    <tr style=\"text-align: right;\">\n      <th></th>\n      <th>date</th>\n      <th>open</th>\n      <th>high</th>\n      <th>low</th>\n      <th>close</th>\n      <th>volume</th>\n      <th>tic</th>\n      <th>day</th>\n    </tr>\n  </thead>\n  <tbody>\n    <tr>\n      <th>0</th>\n      <td>2009-01-02</td>\n      <td>3.067143</td>\n      <td>3.251429</td>\n      <td>3.041429</td>\n      <td>2.767330</td>\n      <td>746015200</td>\n      <td>AAPL</td>\n      <td>4</td>\n    </tr>\n    <tr>\n      <th>1</th>\n      <td>2009-01-02</td>\n      <td>58.590000</td>\n      <td>59.080002</td>\n      <td>57.750000</td>\n      <td>44.523758</td>\n      <td>6547900</td>\n      <td>AMGN</td>\n      <td>4</td>\n    </tr>\n    <tr>\n      <th>2</th>\n      <td>2009-01-02</td>\n      <td>18.570000</td>\n      <td>19.520000</td>\n      <td>18.400000</td>\n      <td>15.418564</td>\n      <td>10955700</td>\n      <td>AXP</td>\n      <td>4</td>\n    </tr>\n    <tr>\n      <th>3</th>\n      <td>2009-01-02</td>\n      <td>42.799999</td>\n      <td>45.560001</td>\n      <td>42.779999</td>\n      <td>33.941090</td>\n      <td>7010200</td>\n      <td>BA</td>\n      <td>4</td>\n    </tr>\n    <tr>\n      <th>4</th>\n      <td>2009-01-02</td>\n      <td>44.910000</td>\n      <td>46.980000</td>\n      <td>44.709999</td>\n      <td>31.729939</td>\n      <td>7117200</td>\n      <td>CAT</td>\n      <td>4</td>\n    </tr>\n  </tbody>\n</table>\n</div>"
     },
     "execution_count": 7,
     "metadata": {},
     "output_type": "execute_result"
    }
   ],
   "source": [
    "df.head()"
   ],
   "metadata": {
    "collapsed": false,
    "pycharm": {
     "name": "#%%\n"
    }
   }
  },
  {
   "cell_type": "code",
   "execution_count": 8,
   "outputs": [],
   "source": [
    "df[\"date\"] = pd.to_datetime(df[\"date\"], format=\"%Y-%m-%d\")"
   ],
   "metadata": {
    "collapsed": false,
    "pycharm": {
     "name": "#%%\n"
    }
   }
  },
  {
   "cell_type": "code",
   "execution_count": 9,
   "outputs": [
    {
     "data": {
      "text/plain": "        date       open       high        low      close     volume   tic  day\n0 2009-01-02   3.067143   3.251429   3.041429   2.767330  746015200  AAPL    4\n1 2009-01-02  58.590000  59.080002  57.750000  44.523758    6547900  AMGN    4\n2 2009-01-02  18.570000  19.520000  18.400000  15.418564   10955700   AXP    4\n3 2009-01-02  42.799999  45.560001  42.779999  33.941090    7010200    BA    4\n4 2009-01-02  44.910000  46.980000  44.709999  31.729939    7117200   CAT    4",
      "text/html": "<div>\n<style scoped>\n    .dataframe tbody tr th:only-of-type {\n        vertical-align: middle;\n    }\n\n    .dataframe tbody tr th {\n        vertical-align: top;\n    }\n\n    .dataframe thead th {\n        text-align: right;\n    }\n</style>\n<table border=\"1\" class=\"dataframe\">\n  <thead>\n    <tr style=\"text-align: right;\">\n      <th></th>\n      <th>date</th>\n      <th>open</th>\n      <th>high</th>\n      <th>low</th>\n      <th>close</th>\n      <th>volume</th>\n      <th>tic</th>\n      <th>day</th>\n    </tr>\n  </thead>\n  <tbody>\n    <tr>\n      <th>0</th>\n      <td>2009-01-02</td>\n      <td>3.067143</td>\n      <td>3.251429</td>\n      <td>3.041429</td>\n      <td>2.767330</td>\n      <td>746015200</td>\n      <td>AAPL</td>\n      <td>4</td>\n    </tr>\n    <tr>\n      <th>1</th>\n      <td>2009-01-02</td>\n      <td>58.590000</td>\n      <td>59.080002</td>\n      <td>57.750000</td>\n      <td>44.523758</td>\n      <td>6547900</td>\n      <td>AMGN</td>\n      <td>4</td>\n    </tr>\n    <tr>\n      <th>2</th>\n      <td>2009-01-02</td>\n      <td>18.570000</td>\n      <td>19.520000</td>\n      <td>18.400000</td>\n      <td>15.418564</td>\n      <td>10955700</td>\n      <td>AXP</td>\n      <td>4</td>\n    </tr>\n    <tr>\n      <th>3</th>\n      <td>2009-01-02</td>\n      <td>42.799999</td>\n      <td>45.560001</td>\n      <td>42.779999</td>\n      <td>33.941090</td>\n      <td>7010200</td>\n      <td>BA</td>\n      <td>4</td>\n    </tr>\n    <tr>\n      <th>4</th>\n      <td>2009-01-02</td>\n      <td>44.910000</td>\n      <td>46.980000</td>\n      <td>44.709999</td>\n      <td>31.729939</td>\n      <td>7117200</td>\n      <td>CAT</td>\n      <td>4</td>\n    </tr>\n  </tbody>\n</table>\n</div>"
     },
     "execution_count": 9,
     "metadata": {},
     "output_type": "execute_result"
    }
   ],
   "source": [
    "df.sort_values([\"date\", \"tic\"], ignore_index=True).head()"
   ],
   "metadata": {
    "collapsed": false,
    "pycharm": {
     "name": "#%%\n"
    }
   }
  },
  {
   "cell_type": "markdown",
   "source": [
    "# Part 4: Preprocess fundamental data\n",
    "- Import finanical data downloaded from Compustat via WRDS(Wharton Research Data Service)\n",
    "- Preprocess the dataset and calculate financial ratios\n",
    "- Add those ratios to the price data preprocessed in Part 3\n",
    "- Calculate price-related ratios such as P/E and P/B"
   ],
   "metadata": {
    "collapsed": false,
    "pycharm": {
     "name": "#%% md\n"
    }
   }
  },
  {
   "cell_type": "markdown",
   "source": [
    "## 4.1 Import the financial data"
   ],
   "metadata": {
    "collapsed": false,
    "pycharm": {
     "name": "#%% md\n"
    }
   }
  },
  {
   "cell_type": "code",
   "execution_count": 10,
   "outputs": [],
   "source": [
    "# Import fundamental data from my GitHub repository\n",
    "# url = \"https://raw.githubusercontent.com/mariko-sawada/FinRL_with_fundamental_data/main/dow_30_fundamental_wrds.csv\"\n",
    "\n",
    "# fund = pd.read_csv(url, low_memory=False)\n",
    "\n",
    "# if not path.exists(fundamenatal_data_filename.parent):\n",
    "#     os.makedirs(fundamenatal_data_filename.parent)\n",
    "# fund.to_csv(fundamenatal_data_filename\n",
    "# del fund\n",
    "\n",
    "fundamenatal_data_filename = Path(path.join(DATA_DIR, \"stock/ai4-finance/dji30_fundamental_data.csv\"))\n",
    "fund = pd.read_csv(fundamenatal_data_filename, low_memory=False)  # dtype param make low_memory warning silent"
   ],
   "metadata": {
    "collapsed": false,
    "pycharm": {
     "name": "#%%\n"
    }
   }
  },
  {
   "cell_type": "code",
   "execution_count": 11,
   "outputs": [
    {
     "data": {
      "text/plain": "   Unnamed: 0  gvkey  datadate  fyearq  fqtr  fyr indfmt consol popsrc  \\\n0           0   1447  19990630    1999     2   12   INDL      C      D   \n1           1   1447  19990930    1999     3   12   INDL      C      D   \n2           2   1447  19991231    1999     4   12   INDL      C      D   \n3           3   1447  20000331    2000     1   12   INDL      C      D   \n4           4   1447  20000630    2000     2   12   INDL      C      D   \n\n  datafmt  ... dvpsxq mkvaltq     prccq     prchq     prclq  adjex  ggroup  \\\n0     STD  ...  0.225     NaN  130.1250  142.6250  114.5000    3.0    4020   \n1     STD  ...  0.000     NaN  135.0000  150.6250  121.8750    3.0    4020   \n2     STD  ...  0.225     NaN  166.2500  168.8750  130.2500    3.0    4020   \n3     STD  ...  0.225     NaN  148.9375  169.5000  119.5000    3.0    4020   \n4     STD  ...  0.080     NaN   52.1250   57.1875   43.9375    1.0    4020   \n\n     gind gsector   gsubind  \n0  402020      40  40202010  \n1  402020      40  40202010  \n2  402020      40  40202010  \n3  402020      40  40202010  \n4  402020      40  40202010  \n\n[5 rows x 648 columns]",
      "text/html": "<div>\n<style scoped>\n    .dataframe tbody tr th:only-of-type {\n        vertical-align: middle;\n    }\n\n    .dataframe tbody tr th {\n        vertical-align: top;\n    }\n\n    .dataframe thead th {\n        text-align: right;\n    }\n</style>\n<table border=\"1\" class=\"dataframe\">\n  <thead>\n    <tr style=\"text-align: right;\">\n      <th></th>\n      <th>Unnamed: 0</th>\n      <th>gvkey</th>\n      <th>datadate</th>\n      <th>fyearq</th>\n      <th>fqtr</th>\n      <th>fyr</th>\n      <th>indfmt</th>\n      <th>consol</th>\n      <th>popsrc</th>\n      <th>datafmt</th>\n      <th>...</th>\n      <th>dvpsxq</th>\n      <th>mkvaltq</th>\n      <th>prccq</th>\n      <th>prchq</th>\n      <th>prclq</th>\n      <th>adjex</th>\n      <th>ggroup</th>\n      <th>gind</th>\n      <th>gsector</th>\n      <th>gsubind</th>\n    </tr>\n  </thead>\n  <tbody>\n    <tr>\n      <th>0</th>\n      <td>0</td>\n      <td>1447</td>\n      <td>19990630</td>\n      <td>1999</td>\n      <td>2</td>\n      <td>12</td>\n      <td>INDL</td>\n      <td>C</td>\n      <td>D</td>\n      <td>STD</td>\n      <td>...</td>\n      <td>0.225</td>\n      <td>NaN</td>\n      <td>130.1250</td>\n      <td>142.6250</td>\n      <td>114.5000</td>\n      <td>3.0</td>\n      <td>4020</td>\n      <td>402020</td>\n      <td>40</td>\n      <td>40202010</td>\n    </tr>\n    <tr>\n      <th>1</th>\n      <td>1</td>\n      <td>1447</td>\n      <td>19990930</td>\n      <td>1999</td>\n      <td>3</td>\n      <td>12</td>\n      <td>INDL</td>\n      <td>C</td>\n      <td>D</td>\n      <td>STD</td>\n      <td>...</td>\n      <td>0.000</td>\n      <td>NaN</td>\n      <td>135.0000</td>\n      <td>150.6250</td>\n      <td>121.8750</td>\n      <td>3.0</td>\n      <td>4020</td>\n      <td>402020</td>\n      <td>40</td>\n      <td>40202010</td>\n    </tr>\n    <tr>\n      <th>2</th>\n      <td>2</td>\n      <td>1447</td>\n      <td>19991231</td>\n      <td>1999</td>\n      <td>4</td>\n      <td>12</td>\n      <td>INDL</td>\n      <td>C</td>\n      <td>D</td>\n      <td>STD</td>\n      <td>...</td>\n      <td>0.225</td>\n      <td>NaN</td>\n      <td>166.2500</td>\n      <td>168.8750</td>\n      <td>130.2500</td>\n      <td>3.0</td>\n      <td>4020</td>\n      <td>402020</td>\n      <td>40</td>\n      <td>40202010</td>\n    </tr>\n    <tr>\n      <th>3</th>\n      <td>3</td>\n      <td>1447</td>\n      <td>20000331</td>\n      <td>2000</td>\n      <td>1</td>\n      <td>12</td>\n      <td>INDL</td>\n      <td>C</td>\n      <td>D</td>\n      <td>STD</td>\n      <td>...</td>\n      <td>0.225</td>\n      <td>NaN</td>\n      <td>148.9375</td>\n      <td>169.5000</td>\n      <td>119.5000</td>\n      <td>3.0</td>\n      <td>4020</td>\n      <td>402020</td>\n      <td>40</td>\n      <td>40202010</td>\n    </tr>\n    <tr>\n      <th>4</th>\n      <td>4</td>\n      <td>1447</td>\n      <td>20000630</td>\n      <td>2000</td>\n      <td>2</td>\n      <td>12</td>\n      <td>INDL</td>\n      <td>C</td>\n      <td>D</td>\n      <td>STD</td>\n      <td>...</td>\n      <td>0.080</td>\n      <td>NaN</td>\n      <td>52.1250</td>\n      <td>57.1875</td>\n      <td>43.9375</td>\n      <td>1.0</td>\n      <td>4020</td>\n      <td>402020</td>\n      <td>40</td>\n      <td>40202010</td>\n    </tr>\n  </tbody>\n</table>\n<p>5 rows × 648 columns</p>\n</div>"
     },
     "execution_count": 11,
     "metadata": {},
     "output_type": "execute_result"
    }
   ],
   "source": [
    "# Check the imported dataset\n",
    "fund.head()"
   ],
   "metadata": {
    "collapsed": false,
    "pycharm": {
     "name": "#%%\n"
    }
   }
  },
  {
   "cell_type": "markdown",
   "source": [
    "## 4.2 Specify items needed to calculate financial ratios\n",
    "- To learn more about the data description of the dataset, please check WRDS's website(https://wrds-www.wharton.upenn.edu/). Login will be required."
   ],
   "metadata": {
    "collapsed": false,
    "pycharm": {
     "name": "#%% md\n"
    }
   }
  },
  {
   "cell_type": "code",
   "execution_count": 12,
   "outputs": [],
   "source": [
    "# List items that are used to calculate financial ratios\n",
    "\n",
    "items = [\n",
    "    \"datadate\",  # Date\n",
    "    \"tic\",  # Ticker\n",
    "    \"oiadpq\",  # Quarterly operating income\n",
    "    \"revtq\",  # Quartely revenue\n",
    "    \"niq\",  # Quartely net income\n",
    "    \"atq\",  # Total asset\n",
    "    \"teqq\",  # Shareholder's equity\n",
    "    \"epspiy\",  # EPS(Basic) incl. Extraordinary items\n",
    "    \"ceqq\",  # Common Equity\n",
    "    \"cshoq\",  # Common Shares Outstanding\n",
    "    \"dvpspq\",  # Dividends per share\n",
    "    \"actq\",  # Current assets\n",
    "    \"lctq\",  # Current liabilities\n",
    "    \"cheq\",  # Cash & Equivalent\n",
    "    \"rectq\",  # Recievalbles\n",
    "    \"cogsq\",  # Cost of  Goods Sold\n",
    "    \"invtq\",  # Inventories\n",
    "    \"apq\",  # Account payable\n",
    "    \"dlttq\",  # Long term debt\n",
    "    \"dlcq\",  # Debt in current liabilites\n",
    "    \"ltq\",  # Liabilities\n",
    "]\n",
    "\n",
    "# Omit items that will not be used\n",
    "fund_data = fund[items]"
   ],
   "metadata": {
    "collapsed": false,
    "pycharm": {
     "name": "#%%\n"
    }
   }
  },
  {
   "cell_type": "code",
   "execution_count": 13,
   "outputs": [],
   "source": [
    "# Rename column names for the sake of readability\n",
    "fund_data = fund_data.rename(\n",
    "    columns={\n",
    "        \"datadate\": \"date\",  # Date\n",
    "        \"oiadpq\": \"op_inc_q\",  # Quarterly operating income\n",
    "        \"revtq\": \"rev_q\",  # Quartely revenue\n",
    "        \"niq\": \"net_inc_q\",  # Quartely net income\n",
    "        \"atq\": \"tot_assets\",  # Assets\n",
    "        \"teqq\": \"sh_equity\",  # Shareholder's equity\n",
    "        \"epspiy\": \"eps_incl_ex\",  # EPS(Basic) incl. Extraordinary items\n",
    "        \"ceqq\": \"com_eq\",  # Common Equity\n",
    "        \"cshoq\": \"sh_outstanding\",  # Common Shares Outstanding\n",
    "        \"dvpspq\": \"div_per_sh\",  # Dividends per share\n",
    "        \"actq\": \"cur_assets\",  # Current assets\n",
    "        \"lctq\": \"cur_liabilities\",  # Current liabilities\n",
    "        \"cheq\": \"cash_eq\",  # Cash & Equivalent\n",
    "        \"rectq\": \"receivables\",  # Receivalbles\n",
    "        \"cogsq\": \"cogs_q\",  # Cost of  Goods Sold\n",
    "        \"invtq\": \"inventories\",  # Inventories\n",
    "        \"apq\": \"payables\",  # Account payable\n",
    "        \"dlttq\": \"long_debt\",  # Long term debt\n",
    "        \"dlcq\": \"short_debt\",  # Debt in current liabilites\n",
    "        \"ltq\": \"tot_liabilities\",  # Liabilities\n",
    "    }\n",
    ")"
   ],
   "metadata": {
    "collapsed": false,
    "pycharm": {
     "name": "#%%\n"
    }
   }
  },
  {
   "cell_type": "code",
   "execution_count": 14,
   "outputs": [
    {
     "data": {
      "text/plain": "       date  tic  op_inc_q   rev_q  net_inc_q  tot_assets  sh_equity  \\\n0  19990630  AXP     896.0  5564.0      646.0    132452.0     9762.0   \n1  19990930  AXP     906.0  5584.0      648.0    132616.0     9744.0   \n2  19991231  AXP     845.0  6009.0      606.0    148517.0    10095.0   \n3  20000331  AXP     920.0  6021.0      656.0    150662.0    10253.0   \n4  20000630  AXP    1046.0  6370.0      740.0    148553.0    10509.0   \n\n   eps_incl_ex   com_eq  sh_outstanding  ...  cur_assets  cur_liabilities  \\\n0         2.73   9762.0           449.0  ...         NaN              NaN   \n1         4.18   9744.0           447.6  ...         NaN              NaN   \n2         5.54  10095.0           446.9  ...         NaN              NaN   \n3         1.48  10253.0           444.7  ...         NaN              NaN   \n4         1.05  10509.0          1333.0  ...         NaN              NaN   \n\n   cash_eq  receivables  cogs_q  inventories  payables  long_debt  short_debt  \\\n0   6096.0      46774.0  4668.0        448.0   22282.0     7005.0     24785.0   \n1   5102.0      48827.0  4678.0        284.0   23587.0     6720.0     24683.0   \n2  10391.0      54033.0  5164.0        277.0   25719.0     4685.0     32437.0   \n3   7425.0      53663.0  5101.0        315.0   26379.0     5670.0     29342.0   \n4   6841.0      54286.0  5324.0        261.0   29536.0     5336.0     26170.0   \n\n   tot_liabilities  \n0         122690.0  \n1         122872.0  \n2         138422.0  \n3         140409.0  \n4         138044.0  \n\n[5 rows x 21 columns]",
      "text/html": "<div>\n<style scoped>\n    .dataframe tbody tr th:only-of-type {\n        vertical-align: middle;\n    }\n\n    .dataframe tbody tr th {\n        vertical-align: top;\n    }\n\n    .dataframe thead th {\n        text-align: right;\n    }\n</style>\n<table border=\"1\" class=\"dataframe\">\n  <thead>\n    <tr style=\"text-align: right;\">\n      <th></th>\n      <th>date</th>\n      <th>tic</th>\n      <th>op_inc_q</th>\n      <th>rev_q</th>\n      <th>net_inc_q</th>\n      <th>tot_assets</th>\n      <th>sh_equity</th>\n      <th>eps_incl_ex</th>\n      <th>com_eq</th>\n      <th>sh_outstanding</th>\n      <th>...</th>\n      <th>cur_assets</th>\n      <th>cur_liabilities</th>\n      <th>cash_eq</th>\n      <th>receivables</th>\n      <th>cogs_q</th>\n      <th>inventories</th>\n      <th>payables</th>\n      <th>long_debt</th>\n      <th>short_debt</th>\n      <th>tot_liabilities</th>\n    </tr>\n  </thead>\n  <tbody>\n    <tr>\n      <th>0</th>\n      <td>19990630</td>\n      <td>AXP</td>\n      <td>896.0</td>\n      <td>5564.0</td>\n      <td>646.0</td>\n      <td>132452.0</td>\n      <td>9762.0</td>\n      <td>2.73</td>\n      <td>9762.0</td>\n      <td>449.0</td>\n      <td>...</td>\n      <td>NaN</td>\n      <td>NaN</td>\n      <td>6096.0</td>\n      <td>46774.0</td>\n      <td>4668.0</td>\n      <td>448.0</td>\n      <td>22282.0</td>\n      <td>7005.0</td>\n      <td>24785.0</td>\n      <td>122690.0</td>\n    </tr>\n    <tr>\n      <th>1</th>\n      <td>19990930</td>\n      <td>AXP</td>\n      <td>906.0</td>\n      <td>5584.0</td>\n      <td>648.0</td>\n      <td>132616.0</td>\n      <td>9744.0</td>\n      <td>4.18</td>\n      <td>9744.0</td>\n      <td>447.6</td>\n      <td>...</td>\n      <td>NaN</td>\n      <td>NaN</td>\n      <td>5102.0</td>\n      <td>48827.0</td>\n      <td>4678.0</td>\n      <td>284.0</td>\n      <td>23587.0</td>\n      <td>6720.0</td>\n      <td>24683.0</td>\n      <td>122872.0</td>\n    </tr>\n    <tr>\n      <th>2</th>\n      <td>19991231</td>\n      <td>AXP</td>\n      <td>845.0</td>\n      <td>6009.0</td>\n      <td>606.0</td>\n      <td>148517.0</td>\n      <td>10095.0</td>\n      <td>5.54</td>\n      <td>10095.0</td>\n      <td>446.9</td>\n      <td>...</td>\n      <td>NaN</td>\n      <td>NaN</td>\n      <td>10391.0</td>\n      <td>54033.0</td>\n      <td>5164.0</td>\n      <td>277.0</td>\n      <td>25719.0</td>\n      <td>4685.0</td>\n      <td>32437.0</td>\n      <td>138422.0</td>\n    </tr>\n    <tr>\n      <th>3</th>\n      <td>20000331</td>\n      <td>AXP</td>\n      <td>920.0</td>\n      <td>6021.0</td>\n      <td>656.0</td>\n      <td>150662.0</td>\n      <td>10253.0</td>\n      <td>1.48</td>\n      <td>10253.0</td>\n      <td>444.7</td>\n      <td>...</td>\n      <td>NaN</td>\n      <td>NaN</td>\n      <td>7425.0</td>\n      <td>53663.0</td>\n      <td>5101.0</td>\n      <td>315.0</td>\n      <td>26379.0</td>\n      <td>5670.0</td>\n      <td>29342.0</td>\n      <td>140409.0</td>\n    </tr>\n    <tr>\n      <th>4</th>\n      <td>20000630</td>\n      <td>AXP</td>\n      <td>1046.0</td>\n      <td>6370.0</td>\n      <td>740.0</td>\n      <td>148553.0</td>\n      <td>10509.0</td>\n      <td>1.05</td>\n      <td>10509.0</td>\n      <td>1333.0</td>\n      <td>...</td>\n      <td>NaN</td>\n      <td>NaN</td>\n      <td>6841.0</td>\n      <td>54286.0</td>\n      <td>5324.0</td>\n      <td>261.0</td>\n      <td>29536.0</td>\n      <td>5336.0</td>\n      <td>26170.0</td>\n      <td>138044.0</td>\n    </tr>\n  </tbody>\n</table>\n<p>5 rows × 21 columns</p>\n</div>"
     },
     "execution_count": 14,
     "metadata": {},
     "output_type": "execute_result"
    }
   ],
   "source": [
    "# Check the data\n",
    "fund_data.head()"
   ],
   "metadata": {
    "collapsed": false,
    "pycharm": {
     "name": "#%%\n"
    }
   }
  },
  {
   "cell_type": "markdown",
   "source": [
    "## 4.3 Calculate financial ratios\n",
    "- For items from Profit/Loss statements, we calculate LTM (Last Twelve Months) and use them to derive profitability related ratios such as Operating Maring and ROE. For items from balance sheets, we use the numbers on the day.\n",
    "- To check the definitions of the financial ratios calculated here, please refer to CFI's website: https://corporatefinanceinstitute.com/resources/knowledge/finance/financial-ratios/"
   ],
   "metadata": {
    "collapsed": false,
    "pycharm": {
     "name": "#%% md\n"
    }
   }
  },
  {
   "cell_type": "code",
   "execution_count": 15,
   "outputs": [
    {
     "name": "stderr",
     "output_type": "stream",
     "text": [
      "/var/folders/9c/z5w432ls60300pg8dcrpkhkr0000gn/T/ipykernel_35329/557795553.py:15: RuntimeWarning: divide by zero encountered in double_scalars\n",
      "  OPM.iloc[i] = np.sum(fund_data[\"op_inc_q\"].iloc[i - 3 : i]) / np.sum(fund_data[\"rev_q\"].iloc[i - 3 : i])\n",
      "/var/folders/9c/z5w432ls60300pg8dcrpkhkr0000gn/T/ipykernel_35329/557795553.py:15: RuntimeWarning: invalid value encountered in double_scalars\n",
      "  OPM.iloc[i] = np.sum(fund_data[\"op_inc_q\"].iloc[i - 3 : i]) / np.sum(fund_data[\"rev_q\"].iloc[i - 3 : i])\n",
      "/var/folders/9c/z5w432ls60300pg8dcrpkhkr0000gn/T/ipykernel_35329/557795553.py:25: RuntimeWarning: divide by zero encountered in double_scalars\n",
      "  NPM.iloc[i] = np.sum(fund_data[\"net_inc_q\"].iloc[i - 3 : i]) / np.sum(fund_data[\"rev_q\"].iloc[i - 3 : i])\n",
      "/var/folders/9c/z5w432ls60300pg8dcrpkhkr0000gn/T/ipykernel_35329/557795553.py:25: RuntimeWarning: invalid value encountered in double_scalars\n",
      "  NPM.iloc[i] = np.sum(fund_data[\"net_inc_q\"].iloc[i - 3 : i]) / np.sum(fund_data[\"rev_q\"].iloc[i - 3 : i])\n",
      "/var/folders/9c/z5w432ls60300pg8dcrpkhkr0000gn/T/ipykernel_35329/557795553.py:76: RuntimeWarning: divide by zero encountered in double_scalars\n",
      "  inv_turnover.iloc[i] = np.sum(fund_data[\"cogs_q\"].iloc[i - 3 : i]) / fund_data[\"inventories\"].iloc[i]\n",
      "/var/folders/9c/z5w432ls60300pg8dcrpkhkr0000gn/T/ipykernel_35329/557795553.py:76: RuntimeWarning: invalid value encountered in double_scalars\n",
      "  inv_turnover.iloc[i] = np.sum(fund_data[\"cogs_q\"].iloc[i - 3 : i]) / fund_data[\"inventories\"].iloc[i]\n"
     ]
    }
   ],
   "source": [
    "# Calculate financial ratios\n",
    "date = pd.to_datetime(fund_data[\"date\"], format=\"%Y%m%d\")\n",
    "\n",
    "tic = fund_data[\"tic\"].to_frame(\"tic\")\n",
    "\n",
    "# Profitability ratios\n",
    "# Operating Margin\n",
    "OPM = pd.Series(np.empty(fund_data.shape[0], dtype=object), name=\"OPM\")\n",
    "for i in range(0, fund_data.shape[0]):\n",
    "    if i - 3 < 0:\n",
    "        OPM[i] = np.nan\n",
    "    elif fund_data.iloc[i, 1] != fund_data.iloc[i - 3, 1]:\n",
    "        OPM.iloc[i] = np.nan\n",
    "    else:\n",
    "        OPM.iloc[i] = np.sum(fund_data[\"op_inc_q\"].iloc[i - 3 : i]) / np.sum(fund_data[\"rev_q\"].iloc[i - 3 : i])\n",
    "\n",
    "# Net Profit Margin\n",
    "NPM = pd.Series(np.empty(fund_data.shape[0], dtype=object), name=\"NPM\")\n",
    "for i in range(0, fund_data.shape[0]):\n",
    "    if i - 3 < 0:\n",
    "        NPM[i] = np.nan\n",
    "    elif fund_data.iloc[i, 1] != fund_data.iloc[i - 3, 1]:\n",
    "        NPM.iloc[i] = np.nan\n",
    "    else:\n",
    "        NPM.iloc[i] = np.sum(fund_data[\"net_inc_q\"].iloc[i - 3 : i]) / np.sum(fund_data[\"rev_q\"].iloc[i - 3 : i])\n",
    "\n",
    "# Return On Assets\n",
    "ROA = pd.Series(np.empty(fund_data.shape[0], dtype=object), name=\"ROA\")\n",
    "for i in range(0, fund_data.shape[0]):\n",
    "    if i - 3 < 0:\n",
    "        ROA[i] = np.nan\n",
    "    elif fund_data.iloc[i, 1] != fund_data.iloc[i - 3, 1]:\n",
    "        ROA.iloc[i] = np.nan\n",
    "    else:\n",
    "        ROA.iloc[i] = np.sum(fund_data[\"net_inc_q\"].iloc[i - 3 : i]) / fund_data[\"tot_assets\"].iloc[i]\n",
    "\n",
    "# Return on Equity\n",
    "ROE = pd.Series(np.empty(fund_data.shape[0], dtype=object), name=\"ROE\")\n",
    "for i in range(0, fund_data.shape[0]):\n",
    "    if i - 3 < 0:\n",
    "        ROE[i] = np.nan\n",
    "    elif fund_data.iloc[i, 1] != fund_data.iloc[i - 3, 1]:\n",
    "        ROE.iloc[i] = np.nan\n",
    "    else:\n",
    "        ROE.iloc[i] = np.sum(fund_data[\"net_inc_q\"].iloc[i - 3 : i]) / fund_data[\"sh_equity\"].iloc[i]\n",
    "\n",
    "    # For calculating valuation ratios in the next subpart, calculate per share items in advance\n",
    "# Earnings Per Share\n",
    "EPS = fund_data[\"eps_incl_ex\"].to_frame(\"EPS\")\n",
    "\n",
    "# Book Per Share\n",
    "BPS = (fund_data[\"com_eq\"] / fund_data[\"sh_outstanding\"]).to_frame(\"BPS\")  # Need to check units\n",
    "\n",
    "# Dividend Per Share\n",
    "DPS = fund_data[\"div_per_sh\"].to_frame(\"DPS\")\n",
    "\n",
    "# Liquidity ratios\n",
    "# Current ratio\n",
    "cur_ratio = (fund_data[\"cur_assets\"] / fund_data[\"cur_liabilities\"]).to_frame(\"cur_ratio\")\n",
    "\n",
    "# Quick ratio\n",
    "quick_ratio = ((fund_data[\"cash_eq\"] + fund_data[\"receivables\"]) / fund_data[\"cur_liabilities\"]).to_frame(\"quick_ratio\")\n",
    "\n",
    "# Cash ratio\n",
    "cash_ratio = (fund_data[\"cash_eq\"] / fund_data[\"cur_liabilities\"]).to_frame(\"cash_ratio\")\n",
    "\n",
    "# Efficiency ratios\n",
    "# Inventory turnover ratio\n",
    "inv_turnover = pd.Series(np.empty(fund_data.shape[0], dtype=object), name=\"inv_turnover\")\n",
    "for i in range(0, fund_data.shape[0]):\n",
    "    if i - 3 < 0:\n",
    "        inv_turnover[i] = np.nan\n",
    "    elif fund_data.iloc[i, 1] != fund_data.iloc[i - 3, 1]:\n",
    "        inv_turnover.iloc[i] = np.nan\n",
    "    else:\n",
    "        inv_turnover.iloc[i] = np.sum(fund_data[\"cogs_q\"].iloc[i - 3 : i]) / fund_data[\"inventories\"].iloc[i]\n",
    "\n",
    "# Receivables turnover ratio\n",
    "acc_rec_turnover = pd.Series(np.empty(fund_data.shape[0], dtype=object), name=\"acc_rec_turnover\")\n",
    "for i in range(0, fund_data.shape[0]):\n",
    "    if i - 3 < 0:\n",
    "        acc_rec_turnover[i] = np.nan\n",
    "    elif fund_data.iloc[i, 1] != fund_data.iloc[i - 3, 1]:\n",
    "        acc_rec_turnover.iloc[i] = np.nan\n",
    "    else:\n",
    "        acc_rec_turnover.iloc[i] = np.sum(fund_data[\"rev_q\"].iloc[i - 3 : i]) / fund_data[\"receivables\"].iloc[i]\n",
    "\n",
    "# Payable turnover ratio\n",
    "acc_pay_turnover = pd.Series(np.empty(fund_data.shape[0], dtype=object), name=\"acc_pay_turnover\")\n",
    "for i in range(0, fund_data.shape[0]):\n",
    "    if i - 3 < 0:\n",
    "        acc_pay_turnover[i] = np.nan\n",
    "    elif fund_data.iloc[i, 1] != fund_data.iloc[i - 3, 1]:\n",
    "        acc_pay_turnover.iloc[i] = np.nan\n",
    "    else:\n",
    "        acc_pay_turnover.iloc[i] = np.sum(fund_data[\"cogs_q\"].iloc[i - 3 : i]) / fund_data[\"payables\"].iloc[i]\n",
    "\n",
    "## Leverage financial ratios\n",
    "# Debt ratio\n",
    "debt_ratio = (fund_data[\"tot_liabilities\"] / fund_data[\"tot_assets\"]).to_frame(\"debt_ratio\")\n",
    "\n",
    "# Debt to Equity ratio\n",
    "debt_to_equity = (fund_data[\"tot_liabilities\"] / fund_data[\"sh_equity\"]).to_frame(\"debt_to_equity\")"
   ],
   "metadata": {
    "collapsed": false,
    "pycharm": {
     "name": "#%%\n"
    }
   }
  },
  {
   "cell_type": "code",
   "execution_count": 16,
   "outputs": [],
   "source": [
    "# Create a dataframe that merges all the ratios\n",
    "ratios = pd.concat(\n",
    "    [\n",
    "        date,\n",
    "        tic,\n",
    "        OPM,\n",
    "        NPM,\n",
    "        ROA,\n",
    "        ROE,\n",
    "        EPS,\n",
    "        BPS,\n",
    "        DPS,\n",
    "        cur_ratio,\n",
    "        quick_ratio,\n",
    "        cash_ratio,\n",
    "        inv_turnover,\n",
    "        acc_rec_turnover,\n",
    "        acc_pay_turnover,\n",
    "        debt_ratio,\n",
    "        debt_to_equity,\n",
    "    ],\n",
    "    axis=1,\n",
    ")"
   ],
   "metadata": {
    "collapsed": false,
    "pycharm": {
     "name": "#%%\n"
    }
   }
  },
  {
   "cell_type": "code",
   "execution_count": 17,
   "outputs": [
    {
     "data": {
      "text/plain": "        date  tic       OPM       NPM       ROA       ROE   EPS        BPS  \\\n0 1999-06-30  AXP       NaN       NaN       NaN       NaN  2.73  21.741648   \n1 1999-09-30  AXP       NaN       NaN       NaN       NaN  4.18  21.769437   \n2 1999-12-31  AXP       NaN       NaN       NaN       NaN  5.54  22.588946   \n3 2000-03-31  AXP  0.154281  0.110742  0.012611  0.185312  1.48  23.055993   \n4 2000-06-30  AXP  0.151641  0.108436  0.012857  0.181749  1.05   7.883721   \n\n     DPS  cur_ratio  quick_ratio  cash_ratio inv_turnover acc_rec_turnover  \\\n0  0.225        NaN          NaN         NaN          NaN              NaN   \n1  0.225        NaN          NaN         NaN          NaN              NaN   \n2  0.225        NaN          NaN         NaN          NaN              NaN   \n3  0.225        NaN          NaN         NaN    46.063492         0.319717   \n4  0.080        NaN          NaN         NaN    57.252874         0.324467   \n\n  acc_pay_turnover  debt_ratio  debt_to_equity  \n0              NaN    0.926298       12.568121  \n1              NaN    0.926525       12.610016  \n2              NaN    0.932028       13.711937  \n3         0.550059    0.931947       13.694431  \n4         0.505925    0.929258       13.135788  ",
      "text/html": "<div>\n<style scoped>\n    .dataframe tbody tr th:only-of-type {\n        vertical-align: middle;\n    }\n\n    .dataframe tbody tr th {\n        vertical-align: top;\n    }\n\n    .dataframe thead th {\n        text-align: right;\n    }\n</style>\n<table border=\"1\" class=\"dataframe\">\n  <thead>\n    <tr style=\"text-align: right;\">\n      <th></th>\n      <th>date</th>\n      <th>tic</th>\n      <th>OPM</th>\n      <th>NPM</th>\n      <th>ROA</th>\n      <th>ROE</th>\n      <th>EPS</th>\n      <th>BPS</th>\n      <th>DPS</th>\n      <th>cur_ratio</th>\n      <th>quick_ratio</th>\n      <th>cash_ratio</th>\n      <th>inv_turnover</th>\n      <th>acc_rec_turnover</th>\n      <th>acc_pay_turnover</th>\n      <th>debt_ratio</th>\n      <th>debt_to_equity</th>\n    </tr>\n  </thead>\n  <tbody>\n    <tr>\n      <th>0</th>\n      <td>1999-06-30</td>\n      <td>AXP</td>\n      <td>NaN</td>\n      <td>NaN</td>\n      <td>NaN</td>\n      <td>NaN</td>\n      <td>2.73</td>\n      <td>21.741648</td>\n      <td>0.225</td>\n      <td>NaN</td>\n      <td>NaN</td>\n      <td>NaN</td>\n      <td>NaN</td>\n      <td>NaN</td>\n      <td>NaN</td>\n      <td>0.926298</td>\n      <td>12.568121</td>\n    </tr>\n    <tr>\n      <th>1</th>\n      <td>1999-09-30</td>\n      <td>AXP</td>\n      <td>NaN</td>\n      <td>NaN</td>\n      <td>NaN</td>\n      <td>NaN</td>\n      <td>4.18</td>\n      <td>21.769437</td>\n      <td>0.225</td>\n      <td>NaN</td>\n      <td>NaN</td>\n      <td>NaN</td>\n      <td>NaN</td>\n      <td>NaN</td>\n      <td>NaN</td>\n      <td>0.926525</td>\n      <td>12.610016</td>\n    </tr>\n    <tr>\n      <th>2</th>\n      <td>1999-12-31</td>\n      <td>AXP</td>\n      <td>NaN</td>\n      <td>NaN</td>\n      <td>NaN</td>\n      <td>NaN</td>\n      <td>5.54</td>\n      <td>22.588946</td>\n      <td>0.225</td>\n      <td>NaN</td>\n      <td>NaN</td>\n      <td>NaN</td>\n      <td>NaN</td>\n      <td>NaN</td>\n      <td>NaN</td>\n      <td>0.932028</td>\n      <td>13.711937</td>\n    </tr>\n    <tr>\n      <th>3</th>\n      <td>2000-03-31</td>\n      <td>AXP</td>\n      <td>0.154281</td>\n      <td>0.110742</td>\n      <td>0.012611</td>\n      <td>0.185312</td>\n      <td>1.48</td>\n      <td>23.055993</td>\n      <td>0.225</td>\n      <td>NaN</td>\n      <td>NaN</td>\n      <td>NaN</td>\n      <td>46.063492</td>\n      <td>0.319717</td>\n      <td>0.550059</td>\n      <td>0.931947</td>\n      <td>13.694431</td>\n    </tr>\n    <tr>\n      <th>4</th>\n      <td>2000-06-30</td>\n      <td>AXP</td>\n      <td>0.151641</td>\n      <td>0.108436</td>\n      <td>0.012857</td>\n      <td>0.181749</td>\n      <td>1.05</td>\n      <td>7.883721</td>\n      <td>0.080</td>\n      <td>NaN</td>\n      <td>NaN</td>\n      <td>NaN</td>\n      <td>57.252874</td>\n      <td>0.324467</td>\n      <td>0.505925</td>\n      <td>0.929258</td>\n      <td>13.135788</td>\n    </tr>\n  </tbody>\n</table>\n</div>"
     },
     "execution_count": 17,
     "metadata": {},
     "output_type": "execute_result"
    }
   ],
   "source": [
    "# Check the ratio data\n",
    "ratios.head()"
   ],
   "metadata": {
    "collapsed": false,
    "pycharm": {
     "name": "#%%\n"
    }
   }
  },
  {
   "cell_type": "code",
   "execution_count": 18,
   "outputs": [
    {
     "data": {
      "text/plain": "           date tic       OPM       NPM       ROA       ROE   EPS        BPS  \\\n2451 2020-03-31   V  0.667517  0.521213  0.129058  0.271736  2.85  13.647142   \n2452 2020-06-30   V  0.668385  0.519867  0.120448  0.264075  3.92  14.203947   \n2453 2020-09-30   V  0.654464   0.52129  0.107873  0.241066  4.90  14.653484   \n2454 2020-12-31   V  0.638994  0.480876  0.094422  0.201545  1.42  15.908283   \n2455 2021-03-31   V  0.640128  0.488704  0.095218  0.202568  2.80  16.088525   \n\n       DPS  cur_ratio  quick_ratio  cash_ratio inv_turnover acc_rec_turnover  \\\n2451  0.30   1.248714     1.140070    0.955150          inf          6.11635   \n2452  0.30   1.553478     1.443292    1.221925          inf         5.063131   \n2453  0.30   1.905238     1.784838    1.579807          inf         5.628571   \n2454  0.32   2.121065     1.969814    1.700081          inf         4.725314   \n2455  0.32   2.116356     1.954292    1.700574          inf         4.844961   \n\n     acc_pay_turnover  debt_ratio  debt_to_equity  \n2451         2.697537    0.525062        1.105537  \n2452         1.889507    0.543886        1.192433  \n2453         2.730366    0.552515        1.234714  \n2454         2.347866    0.531507        1.134505  \n2455         2.367357    0.529946        1.127414  ",
      "text/html": "<div>\n<style scoped>\n    .dataframe tbody tr th:only-of-type {\n        vertical-align: middle;\n    }\n\n    .dataframe tbody tr th {\n        vertical-align: top;\n    }\n\n    .dataframe thead th {\n        text-align: right;\n    }\n</style>\n<table border=\"1\" class=\"dataframe\">\n  <thead>\n    <tr style=\"text-align: right;\">\n      <th></th>\n      <th>date</th>\n      <th>tic</th>\n      <th>OPM</th>\n      <th>NPM</th>\n      <th>ROA</th>\n      <th>ROE</th>\n      <th>EPS</th>\n      <th>BPS</th>\n      <th>DPS</th>\n      <th>cur_ratio</th>\n      <th>quick_ratio</th>\n      <th>cash_ratio</th>\n      <th>inv_turnover</th>\n      <th>acc_rec_turnover</th>\n      <th>acc_pay_turnover</th>\n      <th>debt_ratio</th>\n      <th>debt_to_equity</th>\n    </tr>\n  </thead>\n  <tbody>\n    <tr>\n      <th>2451</th>\n      <td>2020-03-31</td>\n      <td>V</td>\n      <td>0.667517</td>\n      <td>0.521213</td>\n      <td>0.129058</td>\n      <td>0.271736</td>\n      <td>2.85</td>\n      <td>13.647142</td>\n      <td>0.30</td>\n      <td>1.248714</td>\n      <td>1.140070</td>\n      <td>0.955150</td>\n      <td>inf</td>\n      <td>6.11635</td>\n      <td>2.697537</td>\n      <td>0.525062</td>\n      <td>1.105537</td>\n    </tr>\n    <tr>\n      <th>2452</th>\n      <td>2020-06-30</td>\n      <td>V</td>\n      <td>0.668385</td>\n      <td>0.519867</td>\n      <td>0.120448</td>\n      <td>0.264075</td>\n      <td>3.92</td>\n      <td>14.203947</td>\n      <td>0.30</td>\n      <td>1.553478</td>\n      <td>1.443292</td>\n      <td>1.221925</td>\n      <td>inf</td>\n      <td>5.063131</td>\n      <td>1.889507</td>\n      <td>0.543886</td>\n      <td>1.192433</td>\n    </tr>\n    <tr>\n      <th>2453</th>\n      <td>2020-09-30</td>\n      <td>V</td>\n      <td>0.654464</td>\n      <td>0.52129</td>\n      <td>0.107873</td>\n      <td>0.241066</td>\n      <td>4.90</td>\n      <td>14.653484</td>\n      <td>0.30</td>\n      <td>1.905238</td>\n      <td>1.784838</td>\n      <td>1.579807</td>\n      <td>inf</td>\n      <td>5.628571</td>\n      <td>2.730366</td>\n      <td>0.552515</td>\n      <td>1.234714</td>\n    </tr>\n    <tr>\n      <th>2454</th>\n      <td>2020-12-31</td>\n      <td>V</td>\n      <td>0.638994</td>\n      <td>0.480876</td>\n      <td>0.094422</td>\n      <td>0.201545</td>\n      <td>1.42</td>\n      <td>15.908283</td>\n      <td>0.32</td>\n      <td>2.121065</td>\n      <td>1.969814</td>\n      <td>1.700081</td>\n      <td>inf</td>\n      <td>4.725314</td>\n      <td>2.347866</td>\n      <td>0.531507</td>\n      <td>1.134505</td>\n    </tr>\n    <tr>\n      <th>2455</th>\n      <td>2021-03-31</td>\n      <td>V</td>\n      <td>0.640128</td>\n      <td>0.488704</td>\n      <td>0.095218</td>\n      <td>0.202568</td>\n      <td>2.80</td>\n      <td>16.088525</td>\n      <td>0.32</td>\n      <td>2.116356</td>\n      <td>1.954292</td>\n      <td>1.700574</td>\n      <td>inf</td>\n      <td>4.844961</td>\n      <td>2.367357</td>\n      <td>0.529946</td>\n      <td>1.127414</td>\n    </tr>\n  </tbody>\n</table>\n</div>"
     },
     "execution_count": 18,
     "metadata": {},
     "output_type": "execute_result"
    }
   ],
   "source": [
    "ratios.tail()"
   ],
   "metadata": {
    "collapsed": false,
    "pycharm": {
     "name": "#%%\n"
    }
   }
  },
  {
   "cell_type": "markdown",
   "source": [
    "## 4.4 Deal with NAs and infinite values\n",
    "- We replace N/A and infinite values with zero."
   ],
   "metadata": {
    "collapsed": false,
    "pycharm": {
     "name": "#%% md\n"
    }
   }
  },
  {
   "cell_type": "code",
   "execution_count": 19,
   "outputs": [],
   "source": [
    "# Replace NAs infinite values with zero\n",
    "final_ratios = ratios.copy()\n",
    "final_ratios = final_ratios.fillna(0)\n",
    "final_ratios = final_ratios.replace(np.inf, 0)"
   ],
   "metadata": {
    "collapsed": false,
    "pycharm": {
     "name": "#%%\n"
    }
   }
  },
  {
   "cell_type": "code",
   "execution_count": 20,
   "outputs": [
    {
     "data": {
      "text/plain": "        date  tic       OPM       NPM       ROA       ROE   EPS        BPS  \\\n0 1999-06-30  AXP  0.000000  0.000000  0.000000  0.000000  2.73  21.741648   \n1 1999-09-30  AXP  0.000000  0.000000  0.000000  0.000000  4.18  21.769437   \n2 1999-12-31  AXP  0.000000  0.000000  0.000000  0.000000  5.54  22.588946   \n3 2000-03-31  AXP  0.154281  0.110742  0.012611  0.185312  1.48  23.055993   \n4 2000-06-30  AXP  0.151641  0.108436  0.012857  0.181749  1.05   7.883721   \n\n     DPS  cur_ratio  quick_ratio  cash_ratio  inv_turnover  acc_rec_turnover  \\\n0  0.225        0.0          0.0         0.0      0.000000          0.000000   \n1  0.225        0.0          0.0         0.0      0.000000          0.000000   \n2  0.225        0.0          0.0         0.0      0.000000          0.000000   \n3  0.225        0.0          0.0         0.0     46.063492          0.319717   \n4  0.080        0.0          0.0         0.0     57.252874          0.324467   \n\n   acc_pay_turnover  debt_ratio  debt_to_equity  \n0          0.000000    0.926298       12.568121  \n1          0.000000    0.926525       12.610016  \n2          0.000000    0.932028       13.711937  \n3          0.550059    0.931947       13.694431  \n4          0.505925    0.929258       13.135788  ",
      "text/html": "<div>\n<style scoped>\n    .dataframe tbody tr th:only-of-type {\n        vertical-align: middle;\n    }\n\n    .dataframe tbody tr th {\n        vertical-align: top;\n    }\n\n    .dataframe thead th {\n        text-align: right;\n    }\n</style>\n<table border=\"1\" class=\"dataframe\">\n  <thead>\n    <tr style=\"text-align: right;\">\n      <th></th>\n      <th>date</th>\n      <th>tic</th>\n      <th>OPM</th>\n      <th>NPM</th>\n      <th>ROA</th>\n      <th>ROE</th>\n      <th>EPS</th>\n      <th>BPS</th>\n      <th>DPS</th>\n      <th>cur_ratio</th>\n      <th>quick_ratio</th>\n      <th>cash_ratio</th>\n      <th>inv_turnover</th>\n      <th>acc_rec_turnover</th>\n      <th>acc_pay_turnover</th>\n      <th>debt_ratio</th>\n      <th>debt_to_equity</th>\n    </tr>\n  </thead>\n  <tbody>\n    <tr>\n      <th>0</th>\n      <td>1999-06-30</td>\n      <td>AXP</td>\n      <td>0.000000</td>\n      <td>0.000000</td>\n      <td>0.000000</td>\n      <td>0.000000</td>\n      <td>2.73</td>\n      <td>21.741648</td>\n      <td>0.225</td>\n      <td>0.0</td>\n      <td>0.0</td>\n      <td>0.0</td>\n      <td>0.000000</td>\n      <td>0.000000</td>\n      <td>0.000000</td>\n      <td>0.926298</td>\n      <td>12.568121</td>\n    </tr>\n    <tr>\n      <th>1</th>\n      <td>1999-09-30</td>\n      <td>AXP</td>\n      <td>0.000000</td>\n      <td>0.000000</td>\n      <td>0.000000</td>\n      <td>0.000000</td>\n      <td>4.18</td>\n      <td>21.769437</td>\n      <td>0.225</td>\n      <td>0.0</td>\n      <td>0.0</td>\n      <td>0.0</td>\n      <td>0.000000</td>\n      <td>0.000000</td>\n      <td>0.000000</td>\n      <td>0.926525</td>\n      <td>12.610016</td>\n    </tr>\n    <tr>\n      <th>2</th>\n      <td>1999-12-31</td>\n      <td>AXP</td>\n      <td>0.000000</td>\n      <td>0.000000</td>\n      <td>0.000000</td>\n      <td>0.000000</td>\n      <td>5.54</td>\n      <td>22.588946</td>\n      <td>0.225</td>\n      <td>0.0</td>\n      <td>0.0</td>\n      <td>0.0</td>\n      <td>0.000000</td>\n      <td>0.000000</td>\n      <td>0.000000</td>\n      <td>0.932028</td>\n      <td>13.711937</td>\n    </tr>\n    <tr>\n      <th>3</th>\n      <td>2000-03-31</td>\n      <td>AXP</td>\n      <td>0.154281</td>\n      <td>0.110742</td>\n      <td>0.012611</td>\n      <td>0.185312</td>\n      <td>1.48</td>\n      <td>23.055993</td>\n      <td>0.225</td>\n      <td>0.0</td>\n      <td>0.0</td>\n      <td>0.0</td>\n      <td>46.063492</td>\n      <td>0.319717</td>\n      <td>0.550059</td>\n      <td>0.931947</td>\n      <td>13.694431</td>\n    </tr>\n    <tr>\n      <th>4</th>\n      <td>2000-06-30</td>\n      <td>AXP</td>\n      <td>0.151641</td>\n      <td>0.108436</td>\n      <td>0.012857</td>\n      <td>0.181749</td>\n      <td>1.05</td>\n      <td>7.883721</td>\n      <td>0.080</td>\n      <td>0.0</td>\n      <td>0.0</td>\n      <td>0.0</td>\n      <td>57.252874</td>\n      <td>0.324467</td>\n      <td>0.505925</td>\n      <td>0.929258</td>\n      <td>13.135788</td>\n    </tr>\n  </tbody>\n</table>\n</div>"
     },
     "execution_count": 20,
     "metadata": {},
     "output_type": "execute_result"
    }
   ],
   "source": [
    "final_ratios.head()"
   ],
   "metadata": {
    "collapsed": false,
    "pycharm": {
     "name": "#%%\n"
    }
   }
  },
  {
   "cell_type": "code",
   "execution_count": 21,
   "outputs": [
    {
     "data": {
      "text/plain": "           date tic       OPM       NPM       ROA       ROE   EPS        BPS  \\\n2451 2020-03-31   V  0.667517  0.521213  0.129058  0.271736  2.85  13.647142   \n2452 2020-06-30   V  0.668385  0.519867  0.120448  0.264075  3.92  14.203947   \n2453 2020-09-30   V  0.654464  0.521290  0.107873  0.241066  4.90  14.653484   \n2454 2020-12-31   V  0.638994  0.480876  0.094422  0.201545  1.42  15.908283   \n2455 2021-03-31   V  0.640128  0.488704  0.095218  0.202568  2.80  16.088525   \n\n       DPS  cur_ratio  quick_ratio  cash_ratio  inv_turnover  \\\n2451  0.30   1.248714     1.140070    0.955150           0.0   \n2452  0.30   1.553478     1.443292    1.221925           0.0   \n2453  0.30   1.905238     1.784838    1.579807           0.0   \n2454  0.32   2.121065     1.969814    1.700081           0.0   \n2455  0.32   2.116356     1.954292    1.700574           0.0   \n\n      acc_rec_turnover  acc_pay_turnover  debt_ratio  debt_to_equity  \n2451          6.116350          2.697537    0.525062        1.105537  \n2452          5.063131          1.889507    0.543886        1.192433  \n2453          5.628571          2.730366    0.552515        1.234714  \n2454          4.725314          2.347866    0.531507        1.134505  \n2455          4.844961          2.367357    0.529946        1.127414  ",
      "text/html": "<div>\n<style scoped>\n    .dataframe tbody tr th:only-of-type {\n        vertical-align: middle;\n    }\n\n    .dataframe tbody tr th {\n        vertical-align: top;\n    }\n\n    .dataframe thead th {\n        text-align: right;\n    }\n</style>\n<table border=\"1\" class=\"dataframe\">\n  <thead>\n    <tr style=\"text-align: right;\">\n      <th></th>\n      <th>date</th>\n      <th>tic</th>\n      <th>OPM</th>\n      <th>NPM</th>\n      <th>ROA</th>\n      <th>ROE</th>\n      <th>EPS</th>\n      <th>BPS</th>\n      <th>DPS</th>\n      <th>cur_ratio</th>\n      <th>quick_ratio</th>\n      <th>cash_ratio</th>\n      <th>inv_turnover</th>\n      <th>acc_rec_turnover</th>\n      <th>acc_pay_turnover</th>\n      <th>debt_ratio</th>\n      <th>debt_to_equity</th>\n    </tr>\n  </thead>\n  <tbody>\n    <tr>\n      <th>2451</th>\n      <td>2020-03-31</td>\n      <td>V</td>\n      <td>0.667517</td>\n      <td>0.521213</td>\n      <td>0.129058</td>\n      <td>0.271736</td>\n      <td>2.85</td>\n      <td>13.647142</td>\n      <td>0.30</td>\n      <td>1.248714</td>\n      <td>1.140070</td>\n      <td>0.955150</td>\n      <td>0.0</td>\n      <td>6.116350</td>\n      <td>2.697537</td>\n      <td>0.525062</td>\n      <td>1.105537</td>\n    </tr>\n    <tr>\n      <th>2452</th>\n      <td>2020-06-30</td>\n      <td>V</td>\n      <td>0.668385</td>\n      <td>0.519867</td>\n      <td>0.120448</td>\n      <td>0.264075</td>\n      <td>3.92</td>\n      <td>14.203947</td>\n      <td>0.30</td>\n      <td>1.553478</td>\n      <td>1.443292</td>\n      <td>1.221925</td>\n      <td>0.0</td>\n      <td>5.063131</td>\n      <td>1.889507</td>\n      <td>0.543886</td>\n      <td>1.192433</td>\n    </tr>\n    <tr>\n      <th>2453</th>\n      <td>2020-09-30</td>\n      <td>V</td>\n      <td>0.654464</td>\n      <td>0.521290</td>\n      <td>0.107873</td>\n      <td>0.241066</td>\n      <td>4.90</td>\n      <td>14.653484</td>\n      <td>0.30</td>\n      <td>1.905238</td>\n      <td>1.784838</td>\n      <td>1.579807</td>\n      <td>0.0</td>\n      <td>5.628571</td>\n      <td>2.730366</td>\n      <td>0.552515</td>\n      <td>1.234714</td>\n    </tr>\n    <tr>\n      <th>2454</th>\n      <td>2020-12-31</td>\n      <td>V</td>\n      <td>0.638994</td>\n      <td>0.480876</td>\n      <td>0.094422</td>\n      <td>0.201545</td>\n      <td>1.42</td>\n      <td>15.908283</td>\n      <td>0.32</td>\n      <td>2.121065</td>\n      <td>1.969814</td>\n      <td>1.700081</td>\n      <td>0.0</td>\n      <td>4.725314</td>\n      <td>2.347866</td>\n      <td>0.531507</td>\n      <td>1.134505</td>\n    </tr>\n    <tr>\n      <th>2455</th>\n      <td>2021-03-31</td>\n      <td>V</td>\n      <td>0.640128</td>\n      <td>0.488704</td>\n      <td>0.095218</td>\n      <td>0.202568</td>\n      <td>2.80</td>\n      <td>16.088525</td>\n      <td>0.32</td>\n      <td>2.116356</td>\n      <td>1.954292</td>\n      <td>1.700574</td>\n      <td>0.0</td>\n      <td>4.844961</td>\n      <td>2.367357</td>\n      <td>0.529946</td>\n      <td>1.127414</td>\n    </tr>\n  </tbody>\n</table>\n</div>"
     },
     "execution_count": 21,
     "metadata": {},
     "output_type": "execute_result"
    }
   ],
   "source": [
    "final_ratios.tail()"
   ],
   "metadata": {
    "collapsed": false,
    "pycharm": {
     "name": "#%%\n"
    }
   }
  },
  {
   "cell_type": "markdown",
   "source": [
    "## 4.5 Merge stock price data and ratios into one dataframe\n",
    "- Merge the price dataframe preprocessed in Part 3 and the ratio dataframe created in this part\n",
    "- Since the prices are daily and ratios are quartely, we have NAs in the ratio columns after merging the two dataframes. We deal with this by backfilling the ratios."
   ],
   "metadata": {
    "collapsed": false,
    "pycharm": {
     "name": "#%% md\n"
    }
   }
  },
  {
   "cell_type": "code",
   "execution_count": 22,
   "outputs": [
    {
     "name": "stdout",
     "output_type": "stream",
     "text": [
      "(147840, 23)\n"
     ]
    }
   ],
   "source": [
    "list_ticker = df[\"tic\"].unique().tolist()\n",
    "list_date = list(pd.date_range(df[\"date\"].min(), df[\"date\"].max()))\n",
    "combination = list(itertools.product(list_date, list_ticker))\n",
    "\n",
    "# Merge stock price data and ratios into one dataframe\n",
    "processed_full = pd.DataFrame(combination, columns=[\"date\", \"tic\"]).merge(df, on=[\"date\", \"tic\"], how=\"left\")\n",
    "processed_full = processed_full.merge(final_ratios, how=\"left\", on=[\"date\", \"tic\"])\n",
    "processed_full = processed_full.sort_values([\"tic\", \"date\"])\n",
    "\n",
    "# Backfill the ratio data to make them daily\n",
    "processed_full = processed_full.bfill(axis=\"rows\")\n",
    "print(processed_full.shape)"
   ],
   "metadata": {
    "collapsed": false,
    "pycharm": {
     "name": "#%%\n"
    }
   }
  },
  {
   "cell_type": "markdown",
   "source": [
    "## 4.6 Calculate market valuation ratios using daily stock price data "
   ],
   "metadata": {
    "collapsed": false,
    "pycharm": {
     "name": "#%% md\n"
    }
   }
  },
  {
   "cell_type": "code",
   "execution_count": 23,
   "outputs": [
    {
     "name": "stdout",
     "output_type": "stream",
     "text": [
      "(147840, 22)\n"
     ]
    }
   ],
   "source": [
    "# Calculate P/E, P/B and dividend yield using daily closing price\n",
    "processed_full[\"PE\"] = processed_full[\"close\"] / processed_full[\"EPS\"]\n",
    "processed_full[\"PB\"] = processed_full[\"close\"] / processed_full[\"BPS\"]\n",
    "processed_full[\"Div_yield\"] = processed_full[\"DPS\"] / processed_full[\"close\"]\n",
    "\n",
    "# Drop per share items used for the above calculation\n",
    "processed_full = processed_full.drop(columns=[\"day\", \"EPS\", \"BPS\", \"DPS\"])\n",
    "# Replace NAs infinite values with zero\n",
    "processed_full = processed_full.copy()\n",
    "processed_full = processed_full.fillna(0)\n",
    "processed_full = processed_full.replace(np.inf, 0)\n",
    "print(processed_full.shape)"
   ],
   "metadata": {
    "collapsed": false,
    "pycharm": {
     "name": "#%%\n"
    }
   }
  },
  {
   "cell_type": "code",
   "execution_count": 24,
   "outputs": [
    {
     "data": {
      "text/plain": "        date   tic       open       high        low      close       volume  \\\n0 2009-01-02  AAPL   3.067143   3.251429   3.041429   2.767330  746015200.0   \n1 2009-01-02  AMGN  58.590000  59.080002  57.750000  44.523758    6547900.0   \n2 2009-01-02   AXP  18.570000  19.520000  18.400000  15.418564   10955700.0   \n3 2009-01-02    BA  42.799999  45.560001  42.779999  33.941090    7010200.0   \n4 2009-01-02   CAT  44.910000  46.980000  44.709999  31.729939    7117200.0   \n5 2009-01-02   CRM   8.025000   8.550000   7.912500   8.505000    4069200.0   \n6 2009-01-02  CSCO  16.410000  17.000000  16.250000  12.043801   40980600.0   \n7 2009-01-02   CVX  74.230003  77.300003  73.580002  44.404148   13695900.0   \n8 2009-01-02   DIS  22.760000  24.030001  22.500000  20.597498    9796600.0   \n9 2009-01-02   DOW  52.750000  53.500000  49.500000  41.373943    2350800.0   \n\n        OPM       NPM       ROA  ...  quick_ratio  cash_ratio  inv_turnover  \\\n0  0.217886  0.163846  0.103222  ...     2.039779    1.818995     54.403846   \n1  0.093973  0.072040  0.014094  ...     0.000000    0.000000      0.000000   \n2  0.093973  0.072040  0.014094  ...     0.000000    0.000000      0.000000   \n3  0.047307  0.032525  0.026400  ...     0.368463    0.148507      2.329670   \n4  0.124545  0.066662  0.040891  ...     0.890488    0.163158      3.540791   \n5  0.234698  0.196418  0.097593  ...     2.498162    2.170759      9.054201   \n6  0.234698  0.196418  0.097593  ...     2.498162    2.170759      9.054201   \n7  0.141417  0.097223  0.117691  ...     0.952878    0.373760     23.920348   \n8  0.167221  0.102157  0.045834  ...     0.815629    0.330748     11.310223   \n9  0.000000  0.000000  0.000000  ...     0.000000    0.000000      0.000000   \n\n   acc_rec_turnover  acc_pay_turnover  debt_ratio  debt_to_equity          PE  \\\n0          8.972003          4.269115    0.437727        0.778495    0.636168   \n1          0.351354          0.653355    0.869784        6.679531  143.625026   \n2          0.351354          0.653355    0.869784        6.679531   49.737303   \n3          6.815203          2.076967    1.009198     -109.722986   39.012747   \n4          2.460351          8.472455    0.893715        9.089489 -166.999676   \n5          6.844634         16.036800    0.400215        0.667591   13.500000   \n6          6.844634         16.036800    0.400215        0.667591   19.117145   \n7         13.387209         11.276861    0.449174        0.815455   48.265378   \n8          5.725855          4.287167    0.455848        0.837721   26.072782   \n9          0.000000          0.000000    0.000000        0.000000  179.886710   \n\n          PB  Div_yield  \n0   0.101527   0.000000  \n1   4.123355   0.004043  \n2   1.427916   0.011674  \n3 -35.751042   0.012374  \n4   3.062596   0.013237  \n5   1.351255   0.000000  \n6   1.913492   0.000000  \n7   1.019502   0.014638  \n8   1.126511   0.016992  \n9   0.000000   0.000000  \n\n[10 rows x 22 columns]",
      "text/html": "<div>\n<style scoped>\n    .dataframe tbody tr th:only-of-type {\n        vertical-align: middle;\n    }\n\n    .dataframe tbody tr th {\n        vertical-align: top;\n    }\n\n    .dataframe thead th {\n        text-align: right;\n    }\n</style>\n<table border=\"1\" class=\"dataframe\">\n  <thead>\n    <tr style=\"text-align: right;\">\n      <th></th>\n      <th>date</th>\n      <th>tic</th>\n      <th>open</th>\n      <th>high</th>\n      <th>low</th>\n      <th>close</th>\n      <th>volume</th>\n      <th>OPM</th>\n      <th>NPM</th>\n      <th>ROA</th>\n      <th>...</th>\n      <th>quick_ratio</th>\n      <th>cash_ratio</th>\n      <th>inv_turnover</th>\n      <th>acc_rec_turnover</th>\n      <th>acc_pay_turnover</th>\n      <th>debt_ratio</th>\n      <th>debt_to_equity</th>\n      <th>PE</th>\n      <th>PB</th>\n      <th>Div_yield</th>\n    </tr>\n  </thead>\n  <tbody>\n    <tr>\n      <th>0</th>\n      <td>2009-01-02</td>\n      <td>AAPL</td>\n      <td>3.067143</td>\n      <td>3.251429</td>\n      <td>3.041429</td>\n      <td>2.767330</td>\n      <td>746015200.0</td>\n      <td>0.217886</td>\n      <td>0.163846</td>\n      <td>0.103222</td>\n      <td>...</td>\n      <td>2.039779</td>\n      <td>1.818995</td>\n      <td>54.403846</td>\n      <td>8.972003</td>\n      <td>4.269115</td>\n      <td>0.437727</td>\n      <td>0.778495</td>\n      <td>0.636168</td>\n      <td>0.101527</td>\n      <td>0.000000</td>\n    </tr>\n    <tr>\n      <th>1</th>\n      <td>2009-01-02</td>\n      <td>AMGN</td>\n      <td>58.590000</td>\n      <td>59.080002</td>\n      <td>57.750000</td>\n      <td>44.523758</td>\n      <td>6547900.0</td>\n      <td>0.093973</td>\n      <td>0.072040</td>\n      <td>0.014094</td>\n      <td>...</td>\n      <td>0.000000</td>\n      <td>0.000000</td>\n      <td>0.000000</td>\n      <td>0.351354</td>\n      <td>0.653355</td>\n      <td>0.869784</td>\n      <td>6.679531</td>\n      <td>143.625026</td>\n      <td>4.123355</td>\n      <td>0.004043</td>\n    </tr>\n    <tr>\n      <th>2</th>\n      <td>2009-01-02</td>\n      <td>AXP</td>\n      <td>18.570000</td>\n      <td>19.520000</td>\n      <td>18.400000</td>\n      <td>15.418564</td>\n      <td>10955700.0</td>\n      <td>0.093973</td>\n      <td>0.072040</td>\n      <td>0.014094</td>\n      <td>...</td>\n      <td>0.000000</td>\n      <td>0.000000</td>\n      <td>0.000000</td>\n      <td>0.351354</td>\n      <td>0.653355</td>\n      <td>0.869784</td>\n      <td>6.679531</td>\n      <td>49.737303</td>\n      <td>1.427916</td>\n      <td>0.011674</td>\n    </tr>\n    <tr>\n      <th>3</th>\n      <td>2009-01-02</td>\n      <td>BA</td>\n      <td>42.799999</td>\n      <td>45.560001</td>\n      <td>42.779999</td>\n      <td>33.941090</td>\n      <td>7010200.0</td>\n      <td>0.047307</td>\n      <td>0.032525</td>\n      <td>0.026400</td>\n      <td>...</td>\n      <td>0.368463</td>\n      <td>0.148507</td>\n      <td>2.329670</td>\n      <td>6.815203</td>\n      <td>2.076967</td>\n      <td>1.009198</td>\n      <td>-109.722986</td>\n      <td>39.012747</td>\n      <td>-35.751042</td>\n      <td>0.012374</td>\n    </tr>\n    <tr>\n      <th>4</th>\n      <td>2009-01-02</td>\n      <td>CAT</td>\n      <td>44.910000</td>\n      <td>46.980000</td>\n      <td>44.709999</td>\n      <td>31.729939</td>\n      <td>7117200.0</td>\n      <td>0.124545</td>\n      <td>0.066662</td>\n      <td>0.040891</td>\n      <td>...</td>\n      <td>0.890488</td>\n      <td>0.163158</td>\n      <td>3.540791</td>\n      <td>2.460351</td>\n      <td>8.472455</td>\n      <td>0.893715</td>\n      <td>9.089489</td>\n      <td>-166.999676</td>\n      <td>3.062596</td>\n      <td>0.013237</td>\n    </tr>\n    <tr>\n      <th>5</th>\n      <td>2009-01-02</td>\n      <td>CRM</td>\n      <td>8.025000</td>\n      <td>8.550000</td>\n      <td>7.912500</td>\n      <td>8.505000</td>\n      <td>4069200.0</td>\n      <td>0.234698</td>\n      <td>0.196418</td>\n      <td>0.097593</td>\n      <td>...</td>\n      <td>2.498162</td>\n      <td>2.170759</td>\n      <td>9.054201</td>\n      <td>6.844634</td>\n      <td>16.036800</td>\n      <td>0.400215</td>\n      <td>0.667591</td>\n      <td>13.500000</td>\n      <td>1.351255</td>\n      <td>0.000000</td>\n    </tr>\n    <tr>\n      <th>6</th>\n      <td>2009-01-02</td>\n      <td>CSCO</td>\n      <td>16.410000</td>\n      <td>17.000000</td>\n      <td>16.250000</td>\n      <td>12.043801</td>\n      <td>40980600.0</td>\n      <td>0.234698</td>\n      <td>0.196418</td>\n      <td>0.097593</td>\n      <td>...</td>\n      <td>2.498162</td>\n      <td>2.170759</td>\n      <td>9.054201</td>\n      <td>6.844634</td>\n      <td>16.036800</td>\n      <td>0.400215</td>\n      <td>0.667591</td>\n      <td>19.117145</td>\n      <td>1.913492</td>\n      <td>0.000000</td>\n    </tr>\n    <tr>\n      <th>7</th>\n      <td>2009-01-02</td>\n      <td>CVX</td>\n      <td>74.230003</td>\n      <td>77.300003</td>\n      <td>73.580002</td>\n      <td>44.404148</td>\n      <td>13695900.0</td>\n      <td>0.141417</td>\n      <td>0.097223</td>\n      <td>0.117691</td>\n      <td>...</td>\n      <td>0.952878</td>\n      <td>0.373760</td>\n      <td>23.920348</td>\n      <td>13.387209</td>\n      <td>11.276861</td>\n      <td>0.449174</td>\n      <td>0.815455</td>\n      <td>48.265378</td>\n      <td>1.019502</td>\n      <td>0.014638</td>\n    </tr>\n    <tr>\n      <th>8</th>\n      <td>2009-01-02</td>\n      <td>DIS</td>\n      <td>22.760000</td>\n      <td>24.030001</td>\n      <td>22.500000</td>\n      <td>20.597498</td>\n      <td>9796600.0</td>\n      <td>0.167221</td>\n      <td>0.102157</td>\n      <td>0.045834</td>\n      <td>...</td>\n      <td>0.815629</td>\n      <td>0.330748</td>\n      <td>11.310223</td>\n      <td>5.725855</td>\n      <td>4.287167</td>\n      <td>0.455848</td>\n      <td>0.837721</td>\n      <td>26.072782</td>\n      <td>1.126511</td>\n      <td>0.016992</td>\n    </tr>\n    <tr>\n      <th>9</th>\n      <td>2009-01-02</td>\n      <td>DOW</td>\n      <td>52.750000</td>\n      <td>53.500000</td>\n      <td>49.500000</td>\n      <td>41.373943</td>\n      <td>2350800.0</td>\n      <td>0.000000</td>\n      <td>0.000000</td>\n      <td>0.000000</td>\n      <td>...</td>\n      <td>0.000000</td>\n      <td>0.000000</td>\n      <td>0.000000</td>\n      <td>0.000000</td>\n      <td>0.000000</td>\n      <td>0.000000</td>\n      <td>0.000000</td>\n      <td>179.886710</td>\n      <td>0.000000</td>\n      <td>0.000000</td>\n    </tr>\n  </tbody>\n</table>\n<p>10 rows × 22 columns</p>\n</div>"
     },
     "execution_count": 24,
     "metadata": {},
     "output_type": "execute_result"
    }
   ],
   "source": [
    "# Check the final data\n",
    "processed_full.sort_values([\"date\", \"tic\"], ignore_index=True).head(10)"
   ],
   "metadata": {
    "collapsed": false,
    "pycharm": {
     "name": "#%%\n"
    }
   }
  },
  {
   "cell_type": "markdown",
   "source": [
    "<a id='4'></a>\n",
    "# Part 5. A Market Environment in OpenAI Gym-style\n",
    "The training process involves observing stock price change, taking an action and reward's calculation. By interacting with the market environment, the agent will eventually derive a trading strategy that may maximize (expected) rewards.\n",
    "\n",
    "Our market environment, based on OpenAI Gym, simulates stock markets with historical market data."
   ],
   "metadata": {
    "collapsed": false,
    "pycharm": {
     "name": "#%% md\n"
    }
   }
  },
  {
   "cell_type": "markdown",
   "source": [
    "## 5.1 Data Split\n",
    "- Training data period: 2009-01-01 to 2019-01-01\n",
    "- Trade data period: 2019-01-01 to 2020-12-31"
   ],
   "metadata": {
    "collapsed": false,
    "pycharm": {
     "name": "#%% md\n"
    }
   }
  },
  {
   "cell_type": "code",
   "execution_count": 25,
   "outputs": [
    {
     "name": "stdout",
     "output_type": "stream",
     "text": [
      "136890\n",
      "10950\n"
     ]
    }
   ],
   "source": [
    "train_data = data_split(processed_full, TRAIN_START_DATE, TRAIN_END_DATE)\n",
    "trade_data = data_split(processed_full, TEST_START_DATE, TEST_END_DATE)\n",
    "# Check the length of the two datasets\n",
    "print(len(train_data))\n",
    "print(len(trade_data))"
   ],
   "metadata": {
    "collapsed": false,
    "pycharm": {
     "name": "#%%\n"
    }
   }
  },
  {
   "cell_type": "code",
   "execution_count": 26,
   "outputs": [
    {
     "data": {
      "text/plain": "        date   tic       open       high        low      close       volume  \\\n0 2009-01-02  AAPL   3.067143   3.251429   3.041429   2.767330  746015200.0   \n0 2009-01-02  AMGN  58.590000  59.080002  57.750000  44.523758    6547900.0   \n0 2009-01-02   AXP  18.570000  19.520000  18.400000  15.418564   10955700.0   \n0 2009-01-02    BA  42.799999  45.560001  42.779999  33.941090    7010200.0   \n0 2009-01-02   CAT  44.910000  46.980000  44.709999  31.729939    7117200.0   \n\n        OPM       NPM       ROA  ...  quick_ratio  cash_ratio  inv_turnover  \\\n0  0.217886  0.163846  0.103222  ...     2.039779    1.818995     54.403846   \n0  0.093973  0.072040  0.014094  ...     0.000000    0.000000      0.000000   \n0  0.093973  0.072040  0.014094  ...     0.000000    0.000000      0.000000   \n0  0.047307  0.032525  0.026400  ...     0.368463    0.148507      2.329670   \n0  0.124545  0.066662  0.040891  ...     0.890488    0.163158      3.540791   \n\n   acc_rec_turnover  acc_pay_turnover  debt_ratio  debt_to_equity          PE  \\\n0          8.972003          4.269115    0.437727        0.778495    0.636168   \n0          0.351354          0.653355    0.869784        6.679531  143.625026   \n0          0.351354          0.653355    0.869784        6.679531   49.737303   \n0          6.815203          2.076967    1.009198     -109.722986   39.012747   \n0          2.460351          8.472455    0.893715        9.089489 -166.999676   \n\n          PB  Div_yield  \n0   0.101527   0.000000  \n0   4.123355   0.004043  \n0   1.427916   0.011674  \n0 -35.751042   0.012374  \n0   3.062596   0.013237  \n\n[5 rows x 22 columns]",
      "text/html": "<div>\n<style scoped>\n    .dataframe tbody tr th:only-of-type {\n        vertical-align: middle;\n    }\n\n    .dataframe tbody tr th {\n        vertical-align: top;\n    }\n\n    .dataframe thead th {\n        text-align: right;\n    }\n</style>\n<table border=\"1\" class=\"dataframe\">\n  <thead>\n    <tr style=\"text-align: right;\">\n      <th></th>\n      <th>date</th>\n      <th>tic</th>\n      <th>open</th>\n      <th>high</th>\n      <th>low</th>\n      <th>close</th>\n      <th>volume</th>\n      <th>OPM</th>\n      <th>NPM</th>\n      <th>ROA</th>\n      <th>...</th>\n      <th>quick_ratio</th>\n      <th>cash_ratio</th>\n      <th>inv_turnover</th>\n      <th>acc_rec_turnover</th>\n      <th>acc_pay_turnover</th>\n      <th>debt_ratio</th>\n      <th>debt_to_equity</th>\n      <th>PE</th>\n      <th>PB</th>\n      <th>Div_yield</th>\n    </tr>\n  </thead>\n  <tbody>\n    <tr>\n      <th>0</th>\n      <td>2009-01-02</td>\n      <td>AAPL</td>\n      <td>3.067143</td>\n      <td>3.251429</td>\n      <td>3.041429</td>\n      <td>2.767330</td>\n      <td>746015200.0</td>\n      <td>0.217886</td>\n      <td>0.163846</td>\n      <td>0.103222</td>\n      <td>...</td>\n      <td>2.039779</td>\n      <td>1.818995</td>\n      <td>54.403846</td>\n      <td>8.972003</td>\n      <td>4.269115</td>\n      <td>0.437727</td>\n      <td>0.778495</td>\n      <td>0.636168</td>\n      <td>0.101527</td>\n      <td>0.000000</td>\n    </tr>\n    <tr>\n      <th>0</th>\n      <td>2009-01-02</td>\n      <td>AMGN</td>\n      <td>58.590000</td>\n      <td>59.080002</td>\n      <td>57.750000</td>\n      <td>44.523758</td>\n      <td>6547900.0</td>\n      <td>0.093973</td>\n      <td>0.072040</td>\n      <td>0.014094</td>\n      <td>...</td>\n      <td>0.000000</td>\n      <td>0.000000</td>\n      <td>0.000000</td>\n      <td>0.351354</td>\n      <td>0.653355</td>\n      <td>0.869784</td>\n      <td>6.679531</td>\n      <td>143.625026</td>\n      <td>4.123355</td>\n      <td>0.004043</td>\n    </tr>\n    <tr>\n      <th>0</th>\n      <td>2009-01-02</td>\n      <td>AXP</td>\n      <td>18.570000</td>\n      <td>19.520000</td>\n      <td>18.400000</td>\n      <td>15.418564</td>\n      <td>10955700.0</td>\n      <td>0.093973</td>\n      <td>0.072040</td>\n      <td>0.014094</td>\n      <td>...</td>\n      <td>0.000000</td>\n      <td>0.000000</td>\n      <td>0.000000</td>\n      <td>0.351354</td>\n      <td>0.653355</td>\n      <td>0.869784</td>\n      <td>6.679531</td>\n      <td>49.737303</td>\n      <td>1.427916</td>\n      <td>0.011674</td>\n    </tr>\n    <tr>\n      <th>0</th>\n      <td>2009-01-02</td>\n      <td>BA</td>\n      <td>42.799999</td>\n      <td>45.560001</td>\n      <td>42.779999</td>\n      <td>33.941090</td>\n      <td>7010200.0</td>\n      <td>0.047307</td>\n      <td>0.032525</td>\n      <td>0.026400</td>\n      <td>...</td>\n      <td>0.368463</td>\n      <td>0.148507</td>\n      <td>2.329670</td>\n      <td>6.815203</td>\n      <td>2.076967</td>\n      <td>1.009198</td>\n      <td>-109.722986</td>\n      <td>39.012747</td>\n      <td>-35.751042</td>\n      <td>0.012374</td>\n    </tr>\n    <tr>\n      <th>0</th>\n      <td>2009-01-02</td>\n      <td>CAT</td>\n      <td>44.910000</td>\n      <td>46.980000</td>\n      <td>44.709999</td>\n      <td>31.729939</td>\n      <td>7117200.0</td>\n      <td>0.124545</td>\n      <td>0.066662</td>\n      <td>0.040891</td>\n      <td>...</td>\n      <td>0.890488</td>\n      <td>0.163158</td>\n      <td>3.540791</td>\n      <td>2.460351</td>\n      <td>8.472455</td>\n      <td>0.893715</td>\n      <td>9.089489</td>\n      <td>-166.999676</td>\n      <td>3.062596</td>\n      <td>0.013237</td>\n    </tr>\n  </tbody>\n</table>\n<p>5 rows × 22 columns</p>\n</div>"
     },
     "execution_count": 26,
     "metadata": {},
     "output_type": "execute_result"
    }
   ],
   "source": [
    "train_data.head()"
   ],
   "metadata": {
    "collapsed": false,
    "pycharm": {
     "name": "#%%\n"
    }
   }
  },
  {
   "cell_type": "code",
   "execution_count": 27,
   "outputs": [
    {
     "data": {
      "text/plain": "           date  tic        open        high         low       close  \\\n4562 2021-06-30  UNH  397.540009  401.399994  396.799988  393.923309   \n4562 2021-06-30    V  235.110001  236.399994  233.820007  231.858459   \n4562 2021-06-30   VZ   55.759998   56.139999   55.759998   51.915409   \n4562 2021-06-30  WBA   52.060001   52.810001   51.869999   49.897144   \n4562 2021-06-30  WMT  139.559998  142.580002  138.690002  138.293182   \n\n          volume       OPM       NPM       ROA  ...  quick_ratio  cash_ratio  \\\n4562   2875600.0  0.491800  0.126457  0.020023  ...     1.539477    1.212821   \n4562   7797100.0  0.185607  0.065097  0.021098  ...     0.465939    0.124070   \n4562  14559700.0  0.050023  0.031948  0.057345  ...     0.605289    0.214709   \n4562   4398600.0  0.055546  0.032500  0.058790  ...     0.201841    0.131341   \n4562  15170400.0  0.000000  0.000000  0.000000  ...     0.000000    0.000000   \n\n      inv_turnover  acc_rec_turnover  acc_pay_turnover  debt_ratio  \\\n4562      0.000000          3.651515          2.889423    0.307846   \n4562     13.396811          6.132371          2.041658    0.644903   \n4562      4.145016         15.712094          6.371261    0.448983   \n4562      6.289502         75.704738          7.523900    0.587123   \n4562      0.000000          0.000000          0.000000    0.000000   \n\n      debt_to_equity          PE         PB  Div_yield  \n4562        0.444846  269.810486  13.448528   0.000267  \n4562        1.816136  399.755965  15.737046   0.001984  \n4562        0.814826   48.976801   3.763797   0.002167  \n4562        0.000000   14.675631   2.999867   0.004760  \n4562        0.000000    0.000000   0.000000   0.000000  \n\n[5 rows x 22 columns]",
      "text/html": "<div>\n<style scoped>\n    .dataframe tbody tr th:only-of-type {\n        vertical-align: middle;\n    }\n\n    .dataframe tbody tr th {\n        vertical-align: top;\n    }\n\n    .dataframe thead th {\n        text-align: right;\n    }\n</style>\n<table border=\"1\" class=\"dataframe\">\n  <thead>\n    <tr style=\"text-align: right;\">\n      <th></th>\n      <th>date</th>\n      <th>tic</th>\n      <th>open</th>\n      <th>high</th>\n      <th>low</th>\n      <th>close</th>\n      <th>volume</th>\n      <th>OPM</th>\n      <th>NPM</th>\n      <th>ROA</th>\n      <th>...</th>\n      <th>quick_ratio</th>\n      <th>cash_ratio</th>\n      <th>inv_turnover</th>\n      <th>acc_rec_turnover</th>\n      <th>acc_pay_turnover</th>\n      <th>debt_ratio</th>\n      <th>debt_to_equity</th>\n      <th>PE</th>\n      <th>PB</th>\n      <th>Div_yield</th>\n    </tr>\n  </thead>\n  <tbody>\n    <tr>\n      <th>4562</th>\n      <td>2021-06-30</td>\n      <td>UNH</td>\n      <td>397.540009</td>\n      <td>401.399994</td>\n      <td>396.799988</td>\n      <td>393.923309</td>\n      <td>2875600.0</td>\n      <td>0.491800</td>\n      <td>0.126457</td>\n      <td>0.020023</td>\n      <td>...</td>\n      <td>1.539477</td>\n      <td>1.212821</td>\n      <td>0.000000</td>\n      <td>3.651515</td>\n      <td>2.889423</td>\n      <td>0.307846</td>\n      <td>0.444846</td>\n      <td>269.810486</td>\n      <td>13.448528</td>\n      <td>0.000267</td>\n    </tr>\n    <tr>\n      <th>4562</th>\n      <td>2021-06-30</td>\n      <td>V</td>\n      <td>235.110001</td>\n      <td>236.399994</td>\n      <td>233.820007</td>\n      <td>231.858459</td>\n      <td>7797100.0</td>\n      <td>0.185607</td>\n      <td>0.065097</td>\n      <td>0.021098</td>\n      <td>...</td>\n      <td>0.465939</td>\n      <td>0.124070</td>\n      <td>13.396811</td>\n      <td>6.132371</td>\n      <td>2.041658</td>\n      <td>0.644903</td>\n      <td>1.816136</td>\n      <td>399.755965</td>\n      <td>15.737046</td>\n      <td>0.001984</td>\n    </tr>\n    <tr>\n      <th>4562</th>\n      <td>2021-06-30</td>\n      <td>VZ</td>\n      <td>55.759998</td>\n      <td>56.139999</td>\n      <td>55.759998</td>\n      <td>51.915409</td>\n      <td>14559700.0</td>\n      <td>0.050023</td>\n      <td>0.031948</td>\n      <td>0.057345</td>\n      <td>...</td>\n      <td>0.605289</td>\n      <td>0.214709</td>\n      <td>4.145016</td>\n      <td>15.712094</td>\n      <td>6.371261</td>\n      <td>0.448983</td>\n      <td>0.814826</td>\n      <td>48.976801</td>\n      <td>3.763797</td>\n      <td>0.002167</td>\n    </tr>\n    <tr>\n      <th>4562</th>\n      <td>2021-06-30</td>\n      <td>WBA</td>\n      <td>52.060001</td>\n      <td>52.810001</td>\n      <td>51.869999</td>\n      <td>49.897144</td>\n      <td>4398600.0</td>\n      <td>0.055546</td>\n      <td>0.032500</td>\n      <td>0.058790</td>\n      <td>...</td>\n      <td>0.201841</td>\n      <td>0.131341</td>\n      <td>6.289502</td>\n      <td>75.704738</td>\n      <td>7.523900</td>\n      <td>0.587123</td>\n      <td>0.000000</td>\n      <td>14.675631</td>\n      <td>2.999867</td>\n      <td>0.004760</td>\n    </tr>\n    <tr>\n      <th>4562</th>\n      <td>2021-06-30</td>\n      <td>WMT</td>\n      <td>139.559998</td>\n      <td>142.580002</td>\n      <td>138.690002</td>\n      <td>138.293182</td>\n      <td>15170400.0</td>\n      <td>0.000000</td>\n      <td>0.000000</td>\n      <td>0.000000</td>\n      <td>...</td>\n      <td>0.000000</td>\n      <td>0.000000</td>\n      <td>0.000000</td>\n      <td>0.000000</td>\n      <td>0.000000</td>\n      <td>0.000000</td>\n      <td>0.000000</td>\n      <td>0.000000</td>\n      <td>0.000000</td>\n      <td>0.000000</td>\n    </tr>\n  </tbody>\n</table>\n<p>5 rows × 22 columns</p>\n</div>"
     },
     "execution_count": 27,
     "metadata": {},
     "output_type": "execute_result"
    }
   ],
   "source": [
    "train_data.tail()"
   ],
   "metadata": {
    "collapsed": false,
    "pycharm": {
     "name": "#%%\n"
    }
   }
  },
  {
   "cell_type": "code",
   "execution_count": 28,
   "outputs": [
    {
     "data": {
      "text/plain": "        date   tic        open        high         low       close  \\\n0 2021-07-01  AAPL  136.600006  137.330002  135.759995  136.300873   \n0 2021-07-01  AMGN  243.740005  247.100006  243.550003  237.151077   \n0 2021-07-01   AXP  165.649994  167.369995  164.690002  164.393829   \n0 2021-07-01    BA  240.360001  241.800003  238.610001  239.729996   \n0 2021-07-01   CAT  219.160004  219.789993  216.149994  209.446198   \n\n       volume       OPM       NPM       ROA  ...  quick_ratio  cash_ratio  \\\n0  52485800.0  0.093973  0.072040  0.014094  ...     0.000000    0.000000   \n0   2091600.0  0.093973  0.072040  0.014094  ...     0.000000    0.000000   \n0   2685900.0  0.047307  0.032525  0.026400  ...     0.368463    0.148507   \n0   9516200.0  0.124545  0.066662  0.040891  ...     0.890488    0.163158   \n0   2426300.0  0.234698  0.196418  0.097593  ...     2.498162    2.170759   \n\n   inv_turnover  acc_rec_turnover  acc_pay_turnover  debt_ratio  \\\n0      0.000000          0.351354          0.653355    0.869784   \n0      0.000000          0.351354          0.653355    0.869784   \n0      2.329670          6.815203          2.076967    1.009198   \n0      3.540791          2.460351          8.472455    0.893715   \n0      9.054201          6.844634         16.036800    0.400215   \n\n   debt_to_equity           PE          PB  Div_yield  \n0        6.679531   439.680235   12.622853   0.001321  \n0        6.679531   765.003475   21.962612   0.000759  \n0     -109.722986   188.958425 -173.160341   0.002555  \n0        9.089489 -1261.736820   23.138905   0.001752  \n0        0.667591   332.454282   33.276339   0.000000  \n\n[5 rows x 22 columns]",
      "text/html": "<div>\n<style scoped>\n    .dataframe tbody tr th:only-of-type {\n        vertical-align: middle;\n    }\n\n    .dataframe tbody tr th {\n        vertical-align: top;\n    }\n\n    .dataframe thead th {\n        text-align: right;\n    }\n</style>\n<table border=\"1\" class=\"dataframe\">\n  <thead>\n    <tr style=\"text-align: right;\">\n      <th></th>\n      <th>date</th>\n      <th>tic</th>\n      <th>open</th>\n      <th>high</th>\n      <th>low</th>\n      <th>close</th>\n      <th>volume</th>\n      <th>OPM</th>\n      <th>NPM</th>\n      <th>ROA</th>\n      <th>...</th>\n      <th>quick_ratio</th>\n      <th>cash_ratio</th>\n      <th>inv_turnover</th>\n      <th>acc_rec_turnover</th>\n      <th>acc_pay_turnover</th>\n      <th>debt_ratio</th>\n      <th>debt_to_equity</th>\n      <th>PE</th>\n      <th>PB</th>\n      <th>Div_yield</th>\n    </tr>\n  </thead>\n  <tbody>\n    <tr>\n      <th>0</th>\n      <td>2021-07-01</td>\n      <td>AAPL</td>\n      <td>136.600006</td>\n      <td>137.330002</td>\n      <td>135.759995</td>\n      <td>136.300873</td>\n      <td>52485800.0</td>\n      <td>0.093973</td>\n      <td>0.072040</td>\n      <td>0.014094</td>\n      <td>...</td>\n      <td>0.000000</td>\n      <td>0.000000</td>\n      <td>0.000000</td>\n      <td>0.351354</td>\n      <td>0.653355</td>\n      <td>0.869784</td>\n      <td>6.679531</td>\n      <td>439.680235</td>\n      <td>12.622853</td>\n      <td>0.001321</td>\n    </tr>\n    <tr>\n      <th>0</th>\n      <td>2021-07-01</td>\n      <td>AMGN</td>\n      <td>243.740005</td>\n      <td>247.100006</td>\n      <td>243.550003</td>\n      <td>237.151077</td>\n      <td>2091600.0</td>\n      <td>0.093973</td>\n      <td>0.072040</td>\n      <td>0.014094</td>\n      <td>...</td>\n      <td>0.000000</td>\n      <td>0.000000</td>\n      <td>0.000000</td>\n      <td>0.351354</td>\n      <td>0.653355</td>\n      <td>0.869784</td>\n      <td>6.679531</td>\n      <td>765.003475</td>\n      <td>21.962612</td>\n      <td>0.000759</td>\n    </tr>\n    <tr>\n      <th>0</th>\n      <td>2021-07-01</td>\n      <td>AXP</td>\n      <td>165.649994</td>\n      <td>167.369995</td>\n      <td>164.690002</td>\n      <td>164.393829</td>\n      <td>2685900.0</td>\n      <td>0.047307</td>\n      <td>0.032525</td>\n      <td>0.026400</td>\n      <td>...</td>\n      <td>0.368463</td>\n      <td>0.148507</td>\n      <td>2.329670</td>\n      <td>6.815203</td>\n      <td>2.076967</td>\n      <td>1.009198</td>\n      <td>-109.722986</td>\n      <td>188.958425</td>\n      <td>-173.160341</td>\n      <td>0.002555</td>\n    </tr>\n    <tr>\n      <th>0</th>\n      <td>2021-07-01</td>\n      <td>BA</td>\n      <td>240.360001</td>\n      <td>241.800003</td>\n      <td>238.610001</td>\n      <td>239.729996</td>\n      <td>9516200.0</td>\n      <td>0.124545</td>\n      <td>0.066662</td>\n      <td>0.040891</td>\n      <td>...</td>\n      <td>0.890488</td>\n      <td>0.163158</td>\n      <td>3.540791</td>\n      <td>2.460351</td>\n      <td>8.472455</td>\n      <td>0.893715</td>\n      <td>9.089489</td>\n      <td>-1261.736820</td>\n      <td>23.138905</td>\n      <td>0.001752</td>\n    </tr>\n    <tr>\n      <th>0</th>\n      <td>2021-07-01</td>\n      <td>CAT</td>\n      <td>219.160004</td>\n      <td>219.789993</td>\n      <td>216.149994</td>\n      <td>209.446198</td>\n      <td>2426300.0</td>\n      <td>0.234698</td>\n      <td>0.196418</td>\n      <td>0.097593</td>\n      <td>...</td>\n      <td>2.498162</td>\n      <td>2.170759</td>\n      <td>9.054201</td>\n      <td>6.844634</td>\n      <td>16.036800</td>\n      <td>0.400215</td>\n      <td>0.667591</td>\n      <td>332.454282</td>\n      <td>33.276339</td>\n      <td>0.000000</td>\n    </tr>\n  </tbody>\n</table>\n<p>5 rows × 22 columns</p>\n</div>"
     },
     "execution_count": 28,
     "metadata": {},
     "output_type": "execute_result"
    }
   ],
   "source": [
    "trade_data.head()"
   ],
   "metadata": {
    "collapsed": false,
    "pycharm": {
     "name": "#%%\n"
    }
   }
  },
  {
   "cell_type": "code",
   "execution_count": 29,
   "outputs": [
    {
     "data": {
      "text/plain": "          date  tic        open        high         low       close  \\\n364 2022-06-30  UNH  513.549988  516.320007  509.720001  512.023376   \n364 2022-06-30    V  195.369995  198.850006  192.850006  196.541885   \n364 2022-06-30   VZ   50.669998   51.220001   50.459999   49.288780   \n364 2022-06-30  WBA   39.520000   39.669998   37.709999   37.454884   \n364 2022-06-30  WMT  120.879997  122.059998  119.889999  121.052788   \n\n         volume       OPM       NPM       ROA  ...  quick_ratio  cash_ratio  \\\n364   3568900.0  0.491800  0.126457  0.020023  ...     1.539477    1.212821   \n364   7045200.0  0.185607  0.065097  0.021098  ...     0.465939    0.124070   \n364  18880500.0  0.050023  0.031948  0.057345  ...     0.605289    0.214709   \n364  15611700.0  0.055546  0.032500  0.058790  ...     0.201841    0.131341   \n364   6388700.0  0.000000  0.000000  0.000000  ...     0.000000    0.000000   \n\n     inv_turnover  acc_rec_turnover  acc_pay_turnover  debt_ratio  \\\n364      0.000000          3.651515          2.889423    0.307846   \n364     13.396811          6.132371          2.041658    0.644903   \n364      4.145016         15.712094          6.371261    0.448983   \n364      6.289502         75.704738          7.523900    0.587123   \n364      0.000000          0.000000          0.000000    0.000000   \n\n     debt_to_equity          PE         PB  Div_yield  \n364        0.444846  350.700943  17.480460   0.000205  \n364        1.816136  338.865320  13.339986   0.002340  \n364        0.814826   46.498849   3.573370   0.002282  \n364        0.000000   11.016142   2.251825   0.006341  \n364        0.000000    0.000000   0.000000   0.000000  \n\n[5 rows x 22 columns]",
      "text/html": "<div>\n<style scoped>\n    .dataframe tbody tr th:only-of-type {\n        vertical-align: middle;\n    }\n\n    .dataframe tbody tr th {\n        vertical-align: top;\n    }\n\n    .dataframe thead th {\n        text-align: right;\n    }\n</style>\n<table border=\"1\" class=\"dataframe\">\n  <thead>\n    <tr style=\"text-align: right;\">\n      <th></th>\n      <th>date</th>\n      <th>tic</th>\n      <th>open</th>\n      <th>high</th>\n      <th>low</th>\n      <th>close</th>\n      <th>volume</th>\n      <th>OPM</th>\n      <th>NPM</th>\n      <th>ROA</th>\n      <th>...</th>\n      <th>quick_ratio</th>\n      <th>cash_ratio</th>\n      <th>inv_turnover</th>\n      <th>acc_rec_turnover</th>\n      <th>acc_pay_turnover</th>\n      <th>debt_ratio</th>\n      <th>debt_to_equity</th>\n      <th>PE</th>\n      <th>PB</th>\n      <th>Div_yield</th>\n    </tr>\n  </thead>\n  <tbody>\n    <tr>\n      <th>364</th>\n      <td>2022-06-30</td>\n      <td>UNH</td>\n      <td>513.549988</td>\n      <td>516.320007</td>\n      <td>509.720001</td>\n      <td>512.023376</td>\n      <td>3568900.0</td>\n      <td>0.491800</td>\n      <td>0.126457</td>\n      <td>0.020023</td>\n      <td>...</td>\n      <td>1.539477</td>\n      <td>1.212821</td>\n      <td>0.000000</td>\n      <td>3.651515</td>\n      <td>2.889423</td>\n      <td>0.307846</td>\n      <td>0.444846</td>\n      <td>350.700943</td>\n      <td>17.480460</td>\n      <td>0.000205</td>\n    </tr>\n    <tr>\n      <th>364</th>\n      <td>2022-06-30</td>\n      <td>V</td>\n      <td>195.369995</td>\n      <td>198.850006</td>\n      <td>192.850006</td>\n      <td>196.541885</td>\n      <td>7045200.0</td>\n      <td>0.185607</td>\n      <td>0.065097</td>\n      <td>0.021098</td>\n      <td>...</td>\n      <td>0.465939</td>\n      <td>0.124070</td>\n      <td>13.396811</td>\n      <td>6.132371</td>\n      <td>2.041658</td>\n      <td>0.644903</td>\n      <td>1.816136</td>\n      <td>338.865320</td>\n      <td>13.339986</td>\n      <td>0.002340</td>\n    </tr>\n    <tr>\n      <th>364</th>\n      <td>2022-06-30</td>\n      <td>VZ</td>\n      <td>50.669998</td>\n      <td>51.220001</td>\n      <td>50.459999</td>\n      <td>49.288780</td>\n      <td>18880500.0</td>\n      <td>0.050023</td>\n      <td>0.031948</td>\n      <td>0.057345</td>\n      <td>...</td>\n      <td>0.605289</td>\n      <td>0.214709</td>\n      <td>4.145016</td>\n      <td>15.712094</td>\n      <td>6.371261</td>\n      <td>0.448983</td>\n      <td>0.814826</td>\n      <td>46.498849</td>\n      <td>3.573370</td>\n      <td>0.002282</td>\n    </tr>\n    <tr>\n      <th>364</th>\n      <td>2022-06-30</td>\n      <td>WBA</td>\n      <td>39.520000</td>\n      <td>39.669998</td>\n      <td>37.709999</td>\n      <td>37.454884</td>\n      <td>15611700.0</td>\n      <td>0.055546</td>\n      <td>0.032500</td>\n      <td>0.058790</td>\n      <td>...</td>\n      <td>0.201841</td>\n      <td>0.131341</td>\n      <td>6.289502</td>\n      <td>75.704738</td>\n      <td>7.523900</td>\n      <td>0.587123</td>\n      <td>0.000000</td>\n      <td>11.016142</td>\n      <td>2.251825</td>\n      <td>0.006341</td>\n    </tr>\n    <tr>\n      <th>364</th>\n      <td>2022-06-30</td>\n      <td>WMT</td>\n      <td>120.879997</td>\n      <td>122.059998</td>\n      <td>119.889999</td>\n      <td>121.052788</td>\n      <td>6388700.0</td>\n      <td>0.000000</td>\n      <td>0.000000</td>\n      <td>0.000000</td>\n      <td>...</td>\n      <td>0.000000</td>\n      <td>0.000000</td>\n      <td>0.000000</td>\n      <td>0.000000</td>\n      <td>0.000000</td>\n      <td>0.000000</td>\n      <td>0.000000</td>\n      <td>0.000000</td>\n      <td>0.000000</td>\n      <td>0.000000</td>\n    </tr>\n  </tbody>\n</table>\n<p>5 rows × 22 columns</p>\n</div>"
     },
     "execution_count": 29,
     "metadata": {},
     "output_type": "execute_result"
    }
   ],
   "source": [
    "trade_data.tail()"
   ],
   "metadata": {
    "collapsed": false,
    "pycharm": {
     "name": "#%%\n"
    }
   }
  },
  {
   "cell_type": "markdown",
   "source": [
    "## 5.2 Set up the training environment"
   ],
   "metadata": {
    "collapsed": false,
    "pycharm": {
     "name": "#%% md\n"
    }
   }
  },
  {
   "cell_type": "code",
   "execution_count": 30,
   "outputs": [
    {
     "ename": "ModuleNotFoundError",
     "evalue": "No module named 'experiments.stock.StockTradingEnv'",
     "output_type": "error",
     "traceback": [
      "\u001b[0;31m---------------------------------------------------------------------------\u001b[0m",
      "\u001b[0;31mModuleNotFoundError\u001b[0m                       Traceback (most recent call last)",
      "Cell \u001b[0;32mIn [30], line 9\u001b[0m\n\u001b[1;32m      7\u001b[0m \u001b[38;5;28;01mfrom\u001b[39;00m \u001b[38;5;21;01mgym\u001b[39;00m\u001b[38;5;21;01m.\u001b[39;00m\u001b[38;5;21;01mutils\u001b[39;00m \u001b[38;5;28;01mimport\u001b[39;00m seeding\n\u001b[1;32m      8\u001b[0m \u001b[38;5;28;01mfrom\u001b[39;00m \u001b[38;5;21;01mstable_baselines3\u001b[39;00m\u001b[38;5;21;01m.\u001b[39;00m\u001b[38;5;21;01mcommon\u001b[39;00m\u001b[38;5;21;01m.\u001b[39;00m\u001b[38;5;21;01mvec_env\u001b[39;00m \u001b[38;5;28;01mimport\u001b[39;00m DummyVecEnv\n\u001b[0;32m----> 9\u001b[0m \u001b[38;5;28;01mfrom\u001b[39;00m \u001b[38;5;21;01mexperiments\u001b[39;00m\u001b[38;5;21;01m.\u001b[39;00m\u001b[38;5;21;01mstock\u001b[39;00m\u001b[38;5;21;01m.\u001b[39;00m\u001b[38;5;21;01mStockTradingEnv\u001b[39;00m \u001b[38;5;28;01mimport\u001b[39;00m StockTradingEnv\n\u001b[1;32m     11\u001b[0m matplotlib\u001b[38;5;241m.\u001b[39muse(\u001b[38;5;124m\"\u001b[39m\u001b[38;5;124mAgg\u001b[39m\u001b[38;5;124m\"\u001b[39m)\n",
      "\u001b[0;31mModuleNotFoundError\u001b[0m: No module named 'experiments.stock.StockTradingEnv'"
     ]
    }
   ],
   "source": [
    "import gym\n",
    "import matplotlib\n",
    "import matplotlib.pyplot as plt\n",
    "import numpy as np\n",
    "import pandas as pd\n",
    "from gym import spaces\n",
    "from gym.utils import seeding\n",
    "from stable_baselines3.common.vec_env import DummyVecEnv\n",
    "\n",
    "matplotlib.use(\"Agg\")\n",
    "\n",
    "# from stable_baselines3.common import logger"
   ],
   "metadata": {
    "collapsed": false,
    "pycharm": {
     "name": "#%%\n"
    }
   }
  },
  {
   "cell_type": "code",
   "execution_count": null,
   "outputs": [],
   "source": [
    "ratio_list = [\n",
    "    \"OPM\",\n",
    "    \"NPM\",\n",
    "    \"ROA\",\n",
    "    \"ROE\",\n",
    "    \"cur_ratio\",\n",
    "    \"quick_ratio\",\n",
    "    \"cash_ratio\",\n",
    "    \"inv_turnover\",\n",
    "    \"acc_rec_turnover\",\n",
    "    \"acc_pay_turnover\",\n",
    "    \"debt_ratio\",\n",
    "    \"debt_to_equity\",\n",
    "    \"PE\",\n",
    "    \"PB\",\n",
    "    \"Div_yield\",\n",
    "]\n",
    "\n",
    "stock_dimension = len(train_data.tic.unique())\n",
    "state_space = 1 + 2 * stock_dimension + len(ratio_list) * stock_dimension  # TODO: Why?\n",
    "print(f\"Stock Dimension: {stock_dimension}, State Space: {state_space}\")\n",
    "print()"
   ],
   "metadata": {
    "collapsed": false,
    "pycharm": {
     "name": "#%%\n"
    }
   }
  },
  {
   "cell_type": "code",
   "execution_count": null,
   "outputs": [],
   "source": [
    "# Parameters for the environment\n",
    "env_kwargs = {\n",
    "    \"hmax\": 100,\n",
    "    \"initial_amount\": 1000000,\n",
    "    \"buy_cost_pct\": 0.001,\n",
    "    \"sell_cost_pct\": 0.001,\n",
    "    \"state_space\": state_space,\n",
    "    \"stock_dim\": stock_dimension,\n",
    "    \"tech_indicator_list\": ratio_list,\n",
    "    \"action_space\": stock_dimension,\n",
    "    \"reward_scaling\": 1e-4,\n",
    "}\n",
    "\n",
    "# Establish the training environment using StockTradingEnv() class\n",
    "e_train_gym = StockTradingEnv(df=train_data, **env_kwargs)"
   ],
   "metadata": {
    "collapsed": false,
    "pycharm": {
     "name": "#%%\n"
    }
   }
  },
  {
   "cell_type": "markdown",
   "source": [
    "## Environment for Training\n",
    "\n"
   ],
   "metadata": {
    "collapsed": false,
    "pycharm": {
     "name": "#%% md\n"
    }
   }
  },
  {
   "cell_type": "code",
   "execution_count": null,
   "outputs": [],
   "source": [
    "env_train, _ = e_train_gym.get_sb_env()\n",
    "print(type(env_train))"
   ],
   "metadata": {
    "collapsed": false,
    "pycharm": {
     "name": "#%%\n"
    }
   }
  },
  {
   "cell_type": "markdown",
   "source": [
    "<a id='5'></a>\n",
    "# Part 6: Train DRL Agents\n",
    "* The DRL algorithms are from **Stable Baselines 3**. Users are also encouraged to try **ElegantRL** and **Ray RLlib**.\n",
    "* FinRL library includes fine-tuned standard DRL algorithms, such as DQN, DDPG,\n",
    "Multi-Agent DDPG, PPO, SAC, A2C and TD3. We also allow users to\n",
    "design their own DRL algorithms by adapting these DRL algorithms."
   ],
   "metadata": {
    "collapsed": false,
    "pycharm": {
     "name": "#%% md\n"
    }
   }
  },
  {
   "cell_type": "code",
   "execution_count": null,
   "outputs": [],
   "source": [
    "# Set up the agent using DRLAgent() class using the environment created in the previous part\n",
    "agent = DRLAgent(env=env_train)\n",
    "\n",
    "if_using_a2c = False\n",
    "if_using_ddpg = False\n",
    "if_using_ppo = False\n",
    "if_using_td3 = False\n",
    "if_using_sac = True"
   ],
   "metadata": {
    "collapsed": false,
    "pycharm": {
     "name": "#%%\n"
    }
   }
  },
  {
   "cell_type": "markdown",
   "source": [
    "### Agent Training: 5 algorithms (A2C, DDPG, PPO, TD3, SAC)"
   ],
   "metadata": {
    "collapsed": false,
    "pycharm": {
     "name": "#%% md\n"
    }
   }
  },
  {
   "cell_type": "markdown",
   "source": [
    "### Model 1: PPO"
   ],
   "metadata": {
    "collapsed": false,
    "pycharm": {
     "name": "#%% md\n"
    }
   }
  },
  {
   "cell_type": "code",
   "execution_count": null,
   "outputs": [],
   "source": [
    "agent = DRLAgent(env=env_train)\n",
    "PPO_PARAMS = {\n",
    "    \"n_steps\": 2048,\n",
    "    \"ent_coef\": 0.01,\n",
    "    \"learning_rate\": 0.00025,\n",
    "    \"batch_size\": 128,\n",
    "}\n",
    "model_ppo = agent.get_model(\"ppo\", model_kwargs=PPO_PARAMS)\n",
    "\n",
    "if if_using_ppo:\n",
    "    # set up logger\n",
    "    tmp_path = RESULTS_DIR + \"/ppo\"\n",
    "    new_logger_ppo = configure(tmp_path, [\"stdout\", \"csv\", \"tensorboard\"])\n",
    "    # Set new logger\n",
    "    model_ppo.set_logger(new_logger_ppo)"
   ],
   "metadata": {
    "collapsed": false,
    "pycharm": {
     "name": "#%%\n"
    }
   }
  },
  {
   "cell_type": "code",
   "execution_count": null,
   "outputs": [],
   "source": [
    "trained_ppo = agent.train_model(model=model_ppo, tb_log_name=\"ppo\", total_timesteps=50000) if if_using_ppo else None"
   ],
   "metadata": {
    "collapsed": false,
    "pycharm": {
     "name": "#%%\n"
    }
   }
  },
  {
   "cell_type": "markdown",
   "source": [
    "### Model 2: DDPG"
   ],
   "metadata": {
    "collapsed": false,
    "pycharm": {
     "name": "#%% md\n"
    }
   }
  },
  {
   "cell_type": "code",
   "execution_count": null,
   "outputs": [],
   "source": [
    "agent = DRLAgent(env=env_train)\n",
    "model_ddpg = agent.get_model(\"ddpg\")\n",
    "\n",
    "if if_using_ddpg:\n",
    "    # set up logger\n",
    "    tmp_path = RESULTS_DIR + \"/ddpg\"\n",
    "    new_logger_ddpg = configure(tmp_path, [\"stdout\", \"csv\", \"tensorboard\"])\n",
    "    # Set new logger\n",
    "    model_ddpg.set_logger(new_logger_ddpg)"
   ],
   "metadata": {
    "collapsed": false,
    "pycharm": {
     "name": "#%%\n"
    }
   }
  },
  {
   "cell_type": "code",
   "execution_count": null,
   "outputs": [],
   "source": [
    "trained_ddpg = agent.train_model(model=model_ddpg, tb_log_name=\"ddpg\", total_timesteps=50000) if if_using_ddpg else None"
   ],
   "metadata": {
    "collapsed": false,
    "pycharm": {
     "name": "#%%\n"
    }
   }
  },
  {
   "cell_type": "markdown",
   "source": [
    "### Model 3: A2C\n"
   ],
   "metadata": {
    "collapsed": false,
    "pycharm": {
     "name": "#%% md\n"
    }
   }
  },
  {
   "cell_type": "code",
   "execution_count": null,
   "outputs": [],
   "source": [
    "agent = DRLAgent(env=env_train)\n",
    "model_a2c = agent.get_model(\"a2c\")\n",
    "\n",
    "if if_using_a2c:\n",
    "    # set up logger\n",
    "    tmp_path = RESULTS_DIR + \"/a2c\"\n",
    "    new_logger_a2c = configure(tmp_path, [\"stdout\", \"csv\", \"tensorboard\"])\n",
    "    # Set new logger\n",
    "    model_a2c.set_logger(new_logger_a2c)"
   ],
   "metadata": {
    "collapsed": false,
    "pycharm": {
     "name": "#%%\n"
    }
   }
  },
  {
   "cell_type": "code",
   "execution_count": null,
   "outputs": [],
   "source": [
    "trained_a2c = agent.train_model(model=model_a2c, tb_log_name=\"a2c\", total_timesteps=50000) if if_using_a2c else None"
   ],
   "metadata": {
    "collapsed": false,
    "pycharm": {
     "name": "#%%\n"
    }
   }
  },
  {
   "cell_type": "markdown",
   "source": [
    "### Model 4: TD3"
   ],
   "metadata": {
    "collapsed": false,
    "pycharm": {
     "name": "#%% md\n"
    }
   }
  },
  {
   "cell_type": "code",
   "execution_count": null,
   "outputs": [],
   "source": [
    "agent = DRLAgent(env=env_train)\n",
    "TD3_PARAMS = {\"batch_size\": 100, \"buffer_size\": 1000000, \"learning_rate\": 0.001}\n",
    "\n",
    "model_td3 = agent.get_model(\"td3\", model_kwargs=TD3_PARAMS)\n",
    "\n",
    "if if_using_td3:\n",
    "    # set up logger\n",
    "    tmp_path = RESULTS_DIR + \"/td3\"\n",
    "    new_logger_td3 = configure(tmp_path, [\"stdout\", \"csv\", \"tensorboard\"])\n",
    "    # Set new logger\n",
    "    model_td3.set_logger(new_logger_td3)"
   ],
   "metadata": {
    "collapsed": false,
    "pycharm": {
     "name": "#%%\n"
    }
   }
  },
  {
   "cell_type": "code",
   "execution_count": null,
   "outputs": [],
   "source": [
    "trained_td3 = agent.train_model(model=model_td3, tb_log_name=\"td3\", total_timesteps=30000) if if_using_td3 else None"
   ],
   "metadata": {
    "collapsed": false,
    "pycharm": {
     "name": "#%%\n"
    }
   }
  },
  {
   "cell_type": "markdown",
   "source": [
    "### Model 5: SAC"
   ],
   "metadata": {
    "collapsed": false,
    "pycharm": {
     "name": "#%% md\n"
    }
   }
  },
  {
   "cell_type": "code",
   "execution_count": null,
   "outputs": [],
   "source": [
    "agent = DRLAgent(env=env_train)\n",
    "import numpy as np\n",
    "\n",
    "\n",
    "def fun():\n",
    "    pass\n",
    "\n",
    "\n",
    "SAC_PARAMS = {\n",
    "    \"batch_size\": 128,\n",
    "    \"buffer_size\": 1000000,\n",
    "    \"learning_rate\": 0.0001,\n",
    "    \"learning_starts\": 100,\n",
    "    \"ent_coef\": \"auto_0.1\",\n",
    "}\n",
    "\n",
    "model_sac = agent.get_model(\"sac\", model_kwargs=SAC_PARAMS)\n",
    "\n",
    "if if_using_sac:\n",
    "    # set up logger\n",
    "    tmp_path = RESULTS_DIR + \"/sac\"\n",
    "    new_logger_sac = configure(tmp_path, [\"stdout\", \"csv\", \"tensorboard\"])\n",
    "    # Set new logger\n",
    "    model_sac.set_logger(new_logger_sac)"
   ],
   "metadata": {
    "collapsed": false,
    "pycharm": {
     "name": "#%%\n"
    }
   }
  },
  {
   "cell_type": "code",
   "execution_count": null,
   "outputs": [],
   "source": [
    "trained_sac = agent.train_model(model=model_sac, tb_log_name=\"sac\", total_timesteps=30000) if if_using_sac else None"
   ],
   "metadata": {
    "collapsed": false,
    "pycharm": {
     "name": "#%%\n"
    }
   }
  },
  {
   "cell_type": "markdown",
   "source": [
    "## Save models"
   ],
   "metadata": {
    "collapsed": false,
    "pycharm": {
     "name": "#%% md\n"
    }
   }
  },
  {
   "cell_type": "code",
   "execution_count": null,
   "outputs": [],
   "source": [
    "now = datetime.datetime.now().strftime(\"%Y%m%d-%Hh%M\")\n",
    "exp_count = \"1\"\n",
    "\n",
    "if if_using_ppo:\n",
    "    trained_model_filename = path.join(TRAINED_MODEL_DIR, f\"{exp_count}_trained_ppo_{now}\")\n",
    "    trained_sac.save(trained_model_filename)\n",
    "\n",
    "if if_using_ddpg:\n",
    "    trained_model_filename = path.join(TRAINED_MODEL_DIR, f\"{exp_count}_trained_ddpg_{now}\")\n",
    "    trained_sac.save(trained_model_filename)\n",
    "\n",
    "if if_using_a2c:\n",
    "    trained_model_filename = path.join(TRAINED_MODEL_DIR, f\"{exp_count}_trained_a2c_{now}\")\n",
    "    trained_sac.save(trained_model_filename)\n",
    "\n",
    "if if_using_td3:\n",
    "    trained_model_filename = path.join(TRAINED_MODEL_DIR, f\"{exp_count}_trained_td3_{now}\")\n",
    "    trained_sac.save(trained_model_filename)\n",
    "\n",
    "if if_using_sac:\n",
    "    trained_model_filename = path.join(TRAINED_MODEL_DIR, f\"{exp_count}_trained_sac_{now}\")\n",
    "    trained_sac.save(trained_model_filename)"
   ],
   "metadata": {
    "collapsed": false,
    "pycharm": {
     "name": "#%%\n"
    }
   }
  },
  {
   "cell_type": "markdown",
   "source": [
    "## Load saved models"
   ],
   "metadata": {
    "collapsed": false,
    "pycharm": {
     "name": "#%% md\n"
    }
   }
  },
  {
   "cell_type": "code",
   "execution_count": null,
   "outputs": [],
   "source": [
    "now = datetime.datetime.now().strftime(\"%Y%m%d-%Hh%M\")\n",
    "exp_count = \"1\"\n",
    "\n",
    "if if_using_ppo:\n",
    "    trained_model_filename = path.join(TRAINED_MODEL_DIR, f\"{exp_count}_trained_ppo_{now}\")\n",
    "    trained_sac.save(trained_model_filename)\n",
    "\n",
    "if if_using_ddpg:\n",
    "    trained_model_filename = path.join(TRAINED_MODEL_DIR, f\"{exp_count}_trained_ddpg_{now}\")\n",
    "    trained_sac.save(trained_model_filename)\n",
    "\n",
    "if if_using_a2c:\n",
    "    trained_model_filename = path.join(TRAINED_MODEL_DIR, f\"{exp_count}_trained_a2c_{now}\")\n",
    "    trained_sac.save(trained_model_filename)\n",
    "\n",
    "if if_using_td3:\n",
    "    trained_model_filename = path.join(TRAINED_MODEL_DIR, f\"{exp_count}_trained_td3_{now}\")\n",
    "    trained_sac.save(trained_model_filename)\n",
    "\n",
    "if if_using_sac:\n",
    "    trained_model_filename = path.join(TRAINED_MODEL_DIR, f\"{exp_count}_trained_sac_{now}\")\n",
    "    trained_sac.save(trained_model_filename)"
   ],
   "metadata": {
    "collapsed": false,
    "pycharm": {
     "name": "#%%\n"
    }
   }
  },
  {
   "cell_type": "code",
   "execution_count": null,
   "outputs": [],
   "source": [],
   "metadata": {
    "collapsed": false,
    "pycharm": {
     "name": "#%%\n"
    }
   }
  },
  {
   "cell_type": "code",
   "execution_count": null,
   "outputs": [],
   "source": [
    "# del trained_sac\n",
    "# trained_sac = SAC.load(trained_sac_filename)\n",
    "trained_sac = SAC.load(path.join(TRAINED_MODEL_DIR, \"trained_sac_20221023-21h44\"))"
   ],
   "metadata": {
    "collapsed": false,
    "pycharm": {
     "name": "#%%\n"
    }
   }
  },
  {
   "cell_type": "code",
   "execution_count": null,
   "outputs": [],
   "source": [],
   "metadata": {
    "collapsed": false,
    "pycharm": {
     "name": "#%%\n"
    }
   }
  },
  {
   "cell_type": "markdown",
   "source": [
    "## Trading\n",
    "Assume that we have $1,000,000 initial capital at TEST_START_DATE. We use the DDPG model to trade Dow jones 30 stocks."
   ],
   "metadata": {
    "collapsed": false,
    "pycharm": {
     "name": "#%% md\n"
    }
   }
  },
  {
   "cell_type": "markdown",
   "source": [
    "### Trade\n",
    "\n",
    "DRL model needs to update periodically in order to take full advantage of the data, ideally we need to retrain our model yearly, quarterly, or monthly. We also need to tune the parameters along the way, in this notebook I only use the in-sample data from 2009-01 to 2018-12 to tune the parameters once, so there is some alpha decay here as the length of trade date extends. \n",
    "\n",
    "Numerous hyperparameters – e.g. the learning rate, the total number of samples to train on – influence the learning process and are usually determined by testing some variations."
   ],
   "metadata": {
    "collapsed": false,
    "pycharm": {
     "name": "#%% md\n"
    }
   }
  },
  {
   "cell_type": "code",
   "execution_count": null,
   "outputs": [],
   "source": [
    "trade_data = data_split(processed_full, TEST_START_DATE, TEST_END_DATE)\n",
    "e_trade_gym = StockTradingEnv(df=trade_data, **env_kwargs)\n",
    "# env_trade, obs_trade = e_trade_gym.get_sb_env()"
   ],
   "metadata": {
    "collapsed": false,
    "pycharm": {
     "name": "#%%\n"
    }
   }
  },
  {
   "cell_type": "code",
   "execution_count": null,
   "outputs": [],
   "source": [
    "trade_data.head()"
   ],
   "metadata": {
    "collapsed": false,
    "pycharm": {
     "name": "#%%\n"
    }
   }
  },
  {
   "cell_type": "code",
   "execution_count": null,
   "outputs": [],
   "source": [
    "df_account_value_ppo, df_actions_ppo = (\n",
    "    DRLAgent.DRL_prediction(model=trained_ppo, environment=e_trade_gym) if if_using_ppo else [None, None]\n",
    ")\n",
    "\n",
    "df_account_value_ddpg, df_actions_ddpg = (\n",
    "    DRLAgent.DRL_prediction(model=trained_ddpg, environment=e_trade_gym) if if_using_ddpg else [None, None]\n",
    ")\n",
    "\n",
    "df_account_value_a2c, df_actions_a2c = (\n",
    "    DRLAgent.DRL_prediction(model=trained_a2c, environment=e_trade_gym) if if_using_a2c else [None, None]\n",
    ")\n",
    "\n",
    "df_account_value_td3, df_actions_td3 = (\n",
    "    DRLAgent.DRL_prediction(model=trained_td3, environment=e_trade_gym) if if_using_td3 else [None, None]\n",
    ")\n",
    "\n",
    "df_account_value_sac, df_actions_sac = (\n",
    "    DRLAgent.DRL_prediction(model=trained_sac, environment=e_trade_gym) if if_using_sac else [None, None]\n",
    ")"
   ],
   "metadata": {
    "collapsed": false,
    "pycharm": {
     "name": "#%%\n"
    }
   }
  },
  {
   "cell_type": "code",
   "execution_count": null,
   "outputs": [],
   "source": [
    "# df_account_value_ppo.shape\n",
    "# df_account_value_ddpg.shape\n",
    "# df_account_value_a2c.shape\n",
    "# df_account_value_td3.shape\n",
    "# df_account_value_sac.shape"
   ],
   "metadata": {
    "collapsed": false,
    "pycharm": {
     "name": "#%%\n"
    }
   }
  },
  {
   "cell_type": "code",
   "execution_count": null,
   "outputs": [],
   "source": [
    "# df_account_value_ppo.tail()\n",
    "# df_account_value_ddpg.tail()\n",
    "# df_account_value_a2c.tail()\n",
    "# df_account_value_td3.tail()\n",
    "# df_account_value_sac.tail()"
   ],
   "metadata": {
    "collapsed": false,
    "pycharm": {
     "name": "#%%\n"
    }
   }
  },
  {
   "cell_type": "code",
   "execution_count": null,
   "outputs": [],
   "source": [
    "# df_actions_ppo.head()\n",
    "# df_actions_ddpg.head()\n",
    "# df_actions_a2c.head()\n",
    "# df_actions_td3.head()\n",
    "# df_actions_sac.head()"
   ],
   "metadata": {
    "collapsed": false,
    "pycharm": {
     "name": "#%%\n"
    }
   }
  },
  {
   "cell_type": "markdown",
   "source": [
    "<a id='6'></a>\n",
    "# Part 7: Backtest Our Strategy\n",
    "Backtesting plays a key role in evaluating the performance of a trading strategy. Automated backtesting tool is preferred because it reduces the human error. We usually use the Quantopian pyfolio package to backtest our trading strategies. It is easy to use and consists of various individual plots that provide a comprehensive image of the performance of a trading strategy."
   ],
   "metadata": {
    "collapsed": false,
    "pycharm": {
     "name": "#%% md\n"
    }
   }
  },
  {
   "cell_type": "markdown",
   "source": [
    "<a id='6.1'></a>\n",
    "## 7.1 BackTestStats\n",
    "pass in df_account_value, this information is stored in env class\n"
   ],
   "metadata": {
    "collapsed": false,
    "pycharm": {
     "name": "#%% md\n"
    }
   }
  },
  {
   "cell_type": "code",
   "execution_count": null,
   "outputs": [],
   "source": [
    "print(\"==============Get Backtest Results===========\")\n",
    "now = datetime.datetime.now().strftime(\"%Y%m%d-%Hh%M\")\n",
    "\n",
    "if if_using_ppo:\n",
    "    print(\"\\n ppo:\")\n",
    "    perf_stats_all_ppo = backtest_stats(account_value=df_account_value_ppo)\n",
    "    perf_stats_all_ppo = pd.DataFrame(perf_stats_all_ppo)\n",
    "    perf_stats_all_ppo.to_csv(\"./\" + config.RESULTS_DIR + \"/perf_stats_all_ppo_\" + now + \".csv\")\n",
    "\n",
    "if if_using_ddpg:\n",
    "    print(\"\\n ddpg:\")\n",
    "    perf_stats_all_ddpg = backtest_stats(account_value=df_account_value_ddpg)\n",
    "    perf_stats_all_ddpg = pd.DataFrame(perf_stats_all_ddpg)\n",
    "    perf_stats_all_ddpg.to_csv(\"./\" + config.RESULTS_DIR + \"/perf_stats_all_ddpg_\" + now + \".csv\")\n",
    "\n",
    "if if_using_a2c:\n",
    "    print(\"\\n a2c:\")\n",
    "    perf_stats_all_a2c = backtest_stats(account_value=df_account_value_a2c)\n",
    "    perf_stats_all_a2c = pd.DataFrame(perf_stats_all_a2c)\n",
    "    perf_stats_all_a2c.to_csv(\"./\" + config.RESULTS_DIR + \"/perf_stats_all_a2c_\" + now + \".csv\")\n",
    "\n",
    "if if_using_td3:\n",
    "    print(\"\\n atd3:\")\n",
    "    perf_stats_all_td3 = backtest_stats(account_value=df_account_value_td3)\n",
    "    perf_stats_all_td3 = pd.DataFrame(perf_stats_all_td3)\n",
    "    perf_stats_all_td3.to_csv(\"./\" + config.RESULTS_DIR + \"/perf_stats_all_td3_\" + now + \".csv\")\n",
    "\n",
    "if if_using_sac:\n",
    "    print(\"\\n sac:\")\n",
    "    perf_stats_all_sac = backtest_stats(account_value=df_account_value_sac)\n",
    "    perf_stats_all_sac = pd.DataFrame(perf_stats_all_sac)\n",
    "    perf_stats_all_sac.to_csv(\"./\" + config.RESULTS_DIR + \"/perf_stats_all_sac_\" + now + \".csv\")"
   ],
   "metadata": {
    "collapsed": false,
    "pycharm": {
     "name": "#%%\n"
    }
   }
  },
  {
   "cell_type": "code",
   "execution_count": null,
   "outputs": [],
   "source": [
    "# baseline stats\n",
    "print(\"==============Get Baseline Stats===========\")\n",
    "baseline_df = get_baseline(ticker=\"^DJI\", start=TEST_START_DATE, end=TEST_END_DATE)\n",
    "\n",
    "stats = backtest_stats(baseline_df, value_col_name=\"close\")"
   ],
   "metadata": {
    "collapsed": false,
    "pycharm": {
     "name": "#%%\n"
    }
   }
  },
  {
   "cell_type": "markdown",
   "source": [
    "<a id='6.2'></a>\n",
    "## 7.2 BackTestPlot"
   ],
   "metadata": {
    "collapsed": false,
    "pycharm": {
     "name": "#%% md\n"
    }
   }
  },
  {
   "cell_type": "code",
   "execution_count": null,
   "outputs": [],
   "source": [
    "print(\"==============Compare to DJIA===========\")\n",
    "\"%matplotlib inline\"\n",
    "# S&P 500: ^GSPC\n",
    "# Dow Jones Index: ^DJI\n",
    "# NASDAQ 100: ^NDX\n",
    "\n",
    "if if_using_ppo:\n",
    "    backtest_plot(\n",
    "        df_account_value_ppo, baseline_ticker=\"^DJI\", baseline_start=TEST_START_DATE, baseline_end=TEST_END_DATE\n",
    "    )\n",
    "\n",
    "if if_using_ddpg:\n",
    "    backtest_plot(\n",
    "        df_account_value_ddpg, baseline_ticker=\"^DJI\", baseline_start=TEST_START_DATE, baseline_end=TEST_END_DATE\n",
    "    )\n",
    "\n",
    "if if_using_a2c:\n",
    "    backtest_plot(\n",
    "        df_account_value_a2c, baseline_ticker=\"^DJI\", baseline_start=TEST_START_DATE, baseline_end=TEST_END_DATE\n",
    "    )\n",
    "\n",
    "if if_using_td3:\n",
    "    backtest_plot(\n",
    "        df_account_value_td3, baseline_ticker=\"^DJI\", baseline_start=TEST_START_DATE, baseline_end=TEST_END_DATE\n",
    "    )\n",
    "\n",
    "if if_using_sac:\n",
    "    backtest_plot(\n",
    "        df_account_value_sac, baseline_ticker=\"^DJI\", baseline_start=TEST_START_DATE, baseline_end=TEST_END_DATE\n",
    "    )"
   ],
   "metadata": {
    "collapsed": false,
    "pycharm": {
     "name": "#%%\n"
    }
   }
  }
 ],
 "metadata": {
  "colab": {
   "collapsed_sections": [
    "_gDkU-j-fCmZ",
    "MRiOtrywfAo1",
    "3Zpv4S0-fDBv",
    "Dr49PotrfG01"
   ],
   "name": "Stock_Fundamental.ipynb",
   "provenance": []
  },
  "gpuClass": "standard",
  "kernelspec": {
   "display_name": "Python 3.8.6 64-bit",
   "language": "python",
   "name": "python3"
  },
  "language_info": {
   "codemirror_mode": {
    "name": "ipython",
    "version": 3
   },
   "file_extension": ".py",
   "mimetype": "text/x-python",
   "name": "python",
   "nbconvert_exporter": "python",
   "pygments_lexer": "ipython3",
   "version": "3.8.6"
  },
  "vscode": {
   "interpreter": {
    "hash": "a1dc24e770f11933509167a1c29cdaaeb86ecb8b4614cc65da123615b71c0aa2"
   }
  }
 },
 "nbformat": 4,
 "nbformat_minor": 0
}
