{
 "cells": [
  {
   "cell_type": "code",
   "execution_count": 1,
   "metadata": {
    "colab": {
     "base_uri": "https://localhost:8080/"
    },
    "id": "ntfTb0e2bU4C",
    "outputId": "5ee73d83-f253-4150-b806-56a60da1cc77"
   },
   "outputs": [
    {
     "name": "stderr",
     "output_type": "stream",
     "text": [
      "/Users/zlapik/my-drive-zlapik/0-todo/ai-investing/venv3.10/lib/python3.10/site-packages/pyfolio/pos.py:26: UserWarning: Module \"zipline.assets\" not found; multipliers will not be applied to position notionals.\n",
      "  warnings.warn(\n"
     ]
    }
   ],
   "source": [
    "#\n",
    "import os\n",
    "import sys\n",
    "import copy\n",
    "from pathlib import Path\n",
    "from typing import Dict\n",
    "\n",
    "sys.path.append(\"./src/\")\n",
    "sys.path.append(\"./\")\n",
    "sys.path.append(\"../\")\n",
    "sys.path.append(\"../../\")\n",
    "sys.path.append(\"../../../\")\n",
    "\n",
    "import pandas as pd\n",
    "\n",
    "from finrl import config_tickers\n",
    "from finrl.meta.preprocessor.preprocessors import FeatureEngineer, data_split\n",
    "\n",
    "#\n",
    "from configuration.settings import ProjectDir, ExperimentDir\n",
    "from rl.experiments._2_ta_orig.Env import StockPortfolioEnv\n",
    "from rl.experiments._2_ta_orig.train import dataset_name, base_cols, data_cols, features_cols\n",
    "from rl.experiments.common.classes import Program\n",
    "from rl.experiments.common.utils import ignore_warnings, load_all_initial_symbol_data\n",
    "from rl.data.CompanyInfo import CompanyInfo"
   ]
  },
  {
   "cell_type": "code",
   "execution_count": 2,
   "outputs": [],
   "source": [
    "ignore_warnings()"
   ],
   "metadata": {
    "collapsed": false
   }
  },
  {
   "cell_type": "code",
   "execution_count": 3,
   "outputs": [],
   "source": [
    "_TRAIN_DATA_START = \"2010-01-01\"\n",
    "_TRAIN_DATE_END = \"2021-12-31\"\n",
    "_TEST_DATA_START = \"2021-01-01\"\n",
    "_TEST_DATA_END = \"2021-12-31\""
   ],
   "metadata": {
    "collapsed": false
   }
  },
  {
   "cell_type": "code",
   "execution_count": 5,
   "outputs": [],
   "source": [
    "#\n",
    "program = Program(\n",
    "    prj_dir=ProjectDir(root=Path(\"/Users/zlapik/my-drive-zlapik/0-todo/ai-investing\")),\n",
    "    exp_dir=ExperimentDir(root=Path(os.getcwd())),\n",
    "    DEBUG=False,\n",
    ")\n",
    "program.exp_dir.check_and_create_dirs()\n",
    "\n",
    "#\n",
    "TICKERS = copy.deepcopy(config_tickers.DOW_30_TICKER)\n",
    "TICKERS.remove(\"DOW\")  # TODO: I don't have all necessary data for \"DOW\""
   ],
   "metadata": {
    "collapsed": false
   }
  },
  {
   "cell_type": "code",
   "execution_count": 6,
   "outputs": [
    {
     "name": "stdout",
     "output_type": "stream",
     "text": [
      "['AXP', 'AMGN', 'AAPL', 'BA', 'CAT', 'CSCO', 'CVX', 'GS', 'HD', 'HON', 'IBM', 'INTC', 'JNJ', 'KO', 'JPM', 'MCD', 'MMM', 'MRK', 'MSFT', 'NKE', 'PG', 'TRV', 'UNH', 'CRM', 'VZ', 'V', 'WBA', 'WMT', 'DIS']\n",
      "/Users/zlapik/my-drive-zlapik/0-todo/ai-investing\n",
      "/Users/zlapik/my-drive-zlapik/0-todo/ai-investing/src/rl/experiments/_2_ta_orig\n",
      "['date', 'tic']\n",
      "['open', 'high', 'low', 'close', 'volume']\n",
      "['macd', 'boll_ub', 'boll_lb', 'rsi_30', 'cci_30', 'dx_30', 'close_30_sma', 'close_60_sma']\n"
     ]
    }
   ],
   "source": [
    "print(TICKERS)\n",
    "print(program.prj_dir.root)\n",
    "print(program.exp_dir.root)\n",
    "print(base_cols)\n",
    "print(data_cols)\n",
    "print(features_cols)"
   ],
   "metadata": {
    "collapsed": false
   }
  },
  {
   "cell_type": "code",
   "execution_count": 7,
   "outputs": [],
   "source": [
    "tickers_data: Dict[str, CompanyInfo] = load_all_initial_symbol_data(TICKERS, program.prj_dir.data.tickers)"
   ],
   "metadata": {
    "collapsed": false
   }
  },
  {
   "cell_type": "code",
   "execution_count": 8,
   "outputs": [],
   "source": [
    "df = pd.DataFrame()\n",
    "\n",
    "for k, v in tickers_data.items():\n",
    "    # Prices\n",
    "    data = v.data_detailed[data_cols]\n",
    "    data.insert(0, \"tic\", k)\n",
    "\n",
    "    # Fill before or forward\n",
    "    data = data.fillna(method=\"bfill\")\n",
    "    data = data.fillna(method=\"ffill\")\n",
    "\n",
    "    # Clean\n",
    "    clean = data.drop(data[~data.index.str.contains(\"\\d{4}-\\d{2}-\\d{2}\")].index)\n",
    "    df = pd.concat([clean, df])\n",
    "\n",
    "df.insert(0, \"date\", df.index)\n",
    "df = df.sort_values(by=\"date\")\n",
    "df.index = df[\"date\"].factorize()[0]"
   ],
   "metadata": {
    "collapsed": false
   }
  },
  {
   "cell_type": "code",
   "execution_count": 9,
   "outputs": [
    {
     "name": "stdout",
     "output_type": "stream",
     "text": [
      "(94627, 7)\n"
     ]
    },
    {
     "data": {
      "text/plain": "             date  tic       open       high        low      close      volume\n12084  2010-01-04   VZ  31.325493  31.372387  31.034746  31.212946  16176648.0\n12084  2010-01-04  TRV  50.150002  50.439999  49.660000  49.810001   3716000.0\n12084  2010-01-04  NKE  16.514999  16.517500  16.280001  16.337500  11972400.0\n12084  2010-01-04  JNJ  64.709999  64.989998  64.410004  64.680000   9506200.0\n12084  2010-01-04   BA  55.720001  56.389999  54.799999  56.180000   6186700.0",
      "text/html": "<div>\n<style scoped>\n    .dataframe tbody tr th:only-of-type {\n        vertical-align: middle;\n    }\n\n    .dataframe tbody tr th {\n        vertical-align: top;\n    }\n\n    .dataframe thead th {\n        text-align: right;\n    }\n</style>\n<table border=\"1\" class=\"dataframe\">\n  <thead>\n    <tr style=\"text-align: right;\">\n      <th></th>\n      <th>date</th>\n      <th>tic</th>\n      <th>open</th>\n      <th>high</th>\n      <th>low</th>\n      <th>close</th>\n      <th>volume</th>\n    </tr>\n  </thead>\n  <tbody>\n    <tr>\n      <th>12084</th>\n      <td>2010-01-04</td>\n      <td>VZ</td>\n      <td>31.325493</td>\n      <td>31.372387</td>\n      <td>31.034746</td>\n      <td>31.212946</td>\n      <td>16176648.0</td>\n    </tr>\n    <tr>\n      <th>12084</th>\n      <td>2010-01-04</td>\n      <td>TRV</td>\n      <td>50.150002</td>\n      <td>50.439999</td>\n      <td>49.660000</td>\n      <td>49.810001</td>\n      <td>3716000.0</td>\n    </tr>\n    <tr>\n      <th>12084</th>\n      <td>2010-01-04</td>\n      <td>NKE</td>\n      <td>16.514999</td>\n      <td>16.517500</td>\n      <td>16.280001</td>\n      <td>16.337500</td>\n      <td>11972400.0</td>\n    </tr>\n    <tr>\n      <th>12084</th>\n      <td>2010-01-04</td>\n      <td>JNJ</td>\n      <td>64.709999</td>\n      <td>64.989998</td>\n      <td>64.410004</td>\n      <td>64.680000</td>\n      <td>9506200.0</td>\n    </tr>\n    <tr>\n      <th>12084</th>\n      <td>2010-01-04</td>\n      <td>BA</td>\n      <td>55.720001</td>\n      <td>56.389999</td>\n      <td>54.799999</td>\n      <td>56.180000</td>\n      <td>6186700.0</td>\n    </tr>\n  </tbody>\n</table>\n</div>"
     },
     "execution_count": 9,
     "metadata": {},
     "output_type": "execute_result"
    }
   ],
   "source": [
    "df = df[df[\"date\"] > _TRAIN_DATA_START]\n",
    "print(df.shape)\n",
    "df.head()"
   ],
   "metadata": {
    "collapsed": false
   }
  },
  {
   "cell_type": "code",
   "execution_count": 10,
   "metadata": {
    "colab": {
     "base_uri": "https://localhost:8080/"
    },
    "id": "P5h8RbeBHMDQ",
    "outputId": "dfa222bf-1363-4354-f825-28d86f50bbff"
   },
   "outputs": [
    {
     "name": "stdout",
     "output_type": "stream",
     "text": [
      "Successfully added technical indicators\n"
     ]
    }
   ],
   "source": [
    "fe = FeatureEngineer(use_technical_indicator=True, use_turbulence=False, user_defined_feature=False)\n",
    "\n",
    "df = fe.preprocess_data(df)"
   ]
  },
  {
   "cell_type": "code",
   "execution_count": 11,
   "metadata": {
    "colab": {
     "base_uri": "https://localhost:8080/"
    },
    "id": "_zsIW1LAiqCb",
    "outputId": "080be760-c4b2-4115-db37-b132cd482971"
   },
   "outputs": [
    {
     "name": "stdout",
     "output_type": "stream",
     "text": [
      "(94627, 15)\n"
     ]
    },
    {
     "data": {
      "text/plain": "             date   tic       open       high        low      close  \\\n0      2010-01-04  AAPL   7.622500   7.660714   7.585000   7.643214   \n3263   2010-01-04  AMGN  56.630001  57.869999  56.560001  57.720001   \n6526   2010-01-04   AXP  40.810001  41.099998  40.389999  40.919998   \n9789   2010-01-04    BA  55.720001  56.389999  54.799999  56.180000   \n13052  2010-01-04   CAT  57.650002  59.189999  57.509998  58.549999   \n\n            volume  macd  boll_ub   boll_lb  rsi_30     cci_30  dx_30  \\\n0      493729600.0   0.0  7.66851  7.631133   100.0  66.666667  100.0   \n3263     5277400.0   0.0  7.66851  7.631133   100.0  66.666667  100.0   \n6526     6894300.0   0.0  7.66851  7.631133   100.0  66.666667  100.0   \n9789     6186700.0   0.0  7.66851  7.631133   100.0  66.666667  100.0   \n13052    7325600.0   0.0  7.66851  7.631133   100.0  66.666667  100.0   \n\n       close_30_sma  close_60_sma  \n0          7.643214      7.643214  \n3263      57.720001     57.720001  \n6526      40.919998     40.919998  \n9789      56.180000     56.180000  \n13052     58.549999     58.549999  ",
      "text/html": "<div>\n<style scoped>\n    .dataframe tbody tr th:only-of-type {\n        vertical-align: middle;\n    }\n\n    .dataframe tbody tr th {\n        vertical-align: top;\n    }\n\n    .dataframe thead th {\n        text-align: right;\n    }\n</style>\n<table border=\"1\" class=\"dataframe\">\n  <thead>\n    <tr style=\"text-align: right;\">\n      <th></th>\n      <th>date</th>\n      <th>tic</th>\n      <th>open</th>\n      <th>high</th>\n      <th>low</th>\n      <th>close</th>\n      <th>volume</th>\n      <th>macd</th>\n      <th>boll_ub</th>\n      <th>boll_lb</th>\n      <th>rsi_30</th>\n      <th>cci_30</th>\n      <th>dx_30</th>\n      <th>close_30_sma</th>\n      <th>close_60_sma</th>\n    </tr>\n  </thead>\n  <tbody>\n    <tr>\n      <th>0</th>\n      <td>2010-01-04</td>\n      <td>AAPL</td>\n      <td>7.622500</td>\n      <td>7.660714</td>\n      <td>7.585000</td>\n      <td>7.643214</td>\n      <td>493729600.0</td>\n      <td>0.0</td>\n      <td>7.66851</td>\n      <td>7.631133</td>\n      <td>100.0</td>\n      <td>66.666667</td>\n      <td>100.0</td>\n      <td>7.643214</td>\n      <td>7.643214</td>\n    </tr>\n    <tr>\n      <th>3263</th>\n      <td>2010-01-04</td>\n      <td>AMGN</td>\n      <td>56.630001</td>\n      <td>57.869999</td>\n      <td>56.560001</td>\n      <td>57.720001</td>\n      <td>5277400.0</td>\n      <td>0.0</td>\n      <td>7.66851</td>\n      <td>7.631133</td>\n      <td>100.0</td>\n      <td>66.666667</td>\n      <td>100.0</td>\n      <td>57.720001</td>\n      <td>57.720001</td>\n    </tr>\n    <tr>\n      <th>6526</th>\n      <td>2010-01-04</td>\n      <td>AXP</td>\n      <td>40.810001</td>\n      <td>41.099998</td>\n      <td>40.389999</td>\n      <td>40.919998</td>\n      <td>6894300.0</td>\n      <td>0.0</td>\n      <td>7.66851</td>\n      <td>7.631133</td>\n      <td>100.0</td>\n      <td>66.666667</td>\n      <td>100.0</td>\n      <td>40.919998</td>\n      <td>40.919998</td>\n    </tr>\n    <tr>\n      <th>9789</th>\n      <td>2010-01-04</td>\n      <td>BA</td>\n      <td>55.720001</td>\n      <td>56.389999</td>\n      <td>54.799999</td>\n      <td>56.180000</td>\n      <td>6186700.0</td>\n      <td>0.0</td>\n      <td>7.66851</td>\n      <td>7.631133</td>\n      <td>100.0</td>\n      <td>66.666667</td>\n      <td>100.0</td>\n      <td>56.180000</td>\n      <td>56.180000</td>\n    </tr>\n    <tr>\n      <th>13052</th>\n      <td>2010-01-04</td>\n      <td>CAT</td>\n      <td>57.650002</td>\n      <td>59.189999</td>\n      <td>57.509998</td>\n      <td>58.549999</td>\n      <td>7325600.0</td>\n      <td>0.0</td>\n      <td>7.66851</td>\n      <td>7.631133</td>\n      <td>100.0</td>\n      <td>66.666667</td>\n      <td>100.0</td>\n      <td>58.549999</td>\n      <td>58.549999</td>\n    </tr>\n  </tbody>\n</table>\n</div>"
     },
     "execution_count": 11,
     "metadata": {},
     "output_type": "execute_result"
    }
   ],
   "source": [
    "print(df.shape)\n",
    "df.head()"
   ]
  },
  {
   "cell_type": "code",
   "execution_count": 12,
   "outputs": [],
   "source": [
    "assert df.isna().any().any() == False  # Can't be any Nan/np.inf values"
   ],
   "metadata": {
    "collapsed": false
   }
  },
  {
   "cell_type": "code",
   "execution_count": 13,
   "outputs": [],
   "source": [
    "# add covariance matrix as states\n",
    "df = df.sort_values([\"date\", \"tic\"], ignore_index=True)\n",
    "df.index = df.date.factorize()[0]\n",
    "\n",
    "cov_list = []\n",
    "return_list = []\n",
    "\n",
    "# look back is one year\n",
    "lookback = 252\n",
    "for i in range(lookback, len(df.index.unique())):\n",
    "    data_lookback = df.loc[i - lookback : i, :]\n",
    "    price_lookback = data_lookback.pivot_table(index=\"date\", columns=\"tic\", values=\"close\")\n",
    "    return_lookback = price_lookback.pct_change().dropna()\n",
    "    return_list.append(return_lookback)\n",
    "\n",
    "    covs = return_lookback.cov().values\n",
    "    cov_list.append(covs)\n",
    "\n",
    "df_cov = pd.DataFrame({\"date\": df.date.unique()[lookback:], \"cov_list\": cov_list, \"return_list\": return_list})\n",
    "df = df.merge(df_cov, on=\"date\")\n",
    "df = df.sort_values([\"date\", \"tic\"]).reset_index(drop=True)"
   ],
   "metadata": {
    "collapsed": false
   }
  },
  {
   "cell_type": "code",
   "execution_count": 17,
   "outputs": [],
   "source": [
    "_size = sys.getsizeof(df)"
   ],
   "metadata": {
    "collapsed": false
   }
  },
  {
   "cell_type": "code",
   "execution_count": 19,
   "outputs": [
    {
     "name": "stdout",
     "output_type": "stream",
     "text": [
      "6612 MB\n",
      "(87319, 17)\n"
     ]
    },
    {
     "data": {
      "text/plain": "         date   tic       open       high        low      close       volume  \\\n0  2011-01-03  AAPL  11.630000  11.795000  11.601429  11.770357  445138400.0   \n1  2011-01-03  AMGN  55.200001  56.279999  55.180000  55.549999    5453300.0   \n2  2011-01-03   AXP  43.299999  43.619999  43.110001  43.400002    7633300.0   \n3  2011-01-03    BA  66.150002  66.680000  66.000000  66.400002    8072900.0   \n4  2011-01-03   CAT  94.379997  94.809998  94.110001  94.150002    5231500.0   \n\n       macd    boll_ub    boll_lb     rsi_30      cci_30      dx_30  \\\n0  0.118248  11.709899  11.326780  62.862181  144.286560  25.488754   \n1  0.261720  58.568809  52.495191  50.863117   34.401812   4.927280   \n2 -0.178628  47.098241  41.260759  51.443736  -26.423900  13.049417   \n3 -0.081580  66.520526  63.197475  51.659857  149.651679  11.924390   \n4  2.266966  96.271975  88.886025  68.687626   82.330220  50.929602   \n\n   close_30_sma  close_60_sma  \\\n0     11.415357     11.212333   \n1     54.949000     55.565166   \n2     43.883000     42.473000   \n3     64.853001     66.948501   \n4     90.157333     85.266833   \n\n                                            cov_list  \\\n0  [[0.000284961868415017, 9.196035563171802e-05,...   \n1  [[0.000284961868415017, 9.196035563171802e-05,...   \n2  [[0.000284961868415017, 9.196035563171802e-05,...   \n3  [[0.000284961868415017, 9.196035563171802e-05,...   \n4  [[0.000284961868415017, 9.196035563171802e-05,...   \n\n                                         return_list  \n0  tic             AAPL      AMGN       AXP      ...  \n1  tic             AAPL      AMGN       AXP      ...  \n2  tic             AAPL      AMGN       AXP      ...  \n3  tic             AAPL      AMGN       AXP      ...  \n4  tic             AAPL      AMGN       AXP      ...  ",
      "text/html": "<div>\n<style scoped>\n    .dataframe tbody tr th:only-of-type {\n        vertical-align: middle;\n    }\n\n    .dataframe tbody tr th {\n        vertical-align: top;\n    }\n\n    .dataframe thead th {\n        text-align: right;\n    }\n</style>\n<table border=\"1\" class=\"dataframe\">\n  <thead>\n    <tr style=\"text-align: right;\">\n      <th></th>\n      <th>date</th>\n      <th>tic</th>\n      <th>open</th>\n      <th>high</th>\n      <th>low</th>\n      <th>close</th>\n      <th>volume</th>\n      <th>macd</th>\n      <th>boll_ub</th>\n      <th>boll_lb</th>\n      <th>rsi_30</th>\n      <th>cci_30</th>\n      <th>dx_30</th>\n      <th>close_30_sma</th>\n      <th>close_60_sma</th>\n      <th>cov_list</th>\n      <th>return_list</th>\n    </tr>\n  </thead>\n  <tbody>\n    <tr>\n      <th>0</th>\n      <td>2011-01-03</td>\n      <td>AAPL</td>\n      <td>11.630000</td>\n      <td>11.795000</td>\n      <td>11.601429</td>\n      <td>11.770357</td>\n      <td>445138400.0</td>\n      <td>0.118248</td>\n      <td>11.709899</td>\n      <td>11.326780</td>\n      <td>62.862181</td>\n      <td>144.286560</td>\n      <td>25.488754</td>\n      <td>11.415357</td>\n      <td>11.212333</td>\n      <td>[[0.000284961868415017, 9.196035563171802e-05,...</td>\n      <td>tic             AAPL      AMGN       AXP      ...</td>\n    </tr>\n    <tr>\n      <th>1</th>\n      <td>2011-01-03</td>\n      <td>AMGN</td>\n      <td>55.200001</td>\n      <td>56.279999</td>\n      <td>55.180000</td>\n      <td>55.549999</td>\n      <td>5453300.0</td>\n      <td>0.261720</td>\n      <td>58.568809</td>\n      <td>52.495191</td>\n      <td>50.863117</td>\n      <td>34.401812</td>\n      <td>4.927280</td>\n      <td>54.949000</td>\n      <td>55.565166</td>\n      <td>[[0.000284961868415017, 9.196035563171802e-05,...</td>\n      <td>tic             AAPL      AMGN       AXP      ...</td>\n    </tr>\n    <tr>\n      <th>2</th>\n      <td>2011-01-03</td>\n      <td>AXP</td>\n      <td>43.299999</td>\n      <td>43.619999</td>\n      <td>43.110001</td>\n      <td>43.400002</td>\n      <td>7633300.0</td>\n      <td>-0.178628</td>\n      <td>47.098241</td>\n      <td>41.260759</td>\n      <td>51.443736</td>\n      <td>-26.423900</td>\n      <td>13.049417</td>\n      <td>43.883000</td>\n      <td>42.473000</td>\n      <td>[[0.000284961868415017, 9.196035563171802e-05,...</td>\n      <td>tic             AAPL      AMGN       AXP      ...</td>\n    </tr>\n    <tr>\n      <th>3</th>\n      <td>2011-01-03</td>\n      <td>BA</td>\n      <td>66.150002</td>\n      <td>66.680000</td>\n      <td>66.000000</td>\n      <td>66.400002</td>\n      <td>8072900.0</td>\n      <td>-0.081580</td>\n      <td>66.520526</td>\n      <td>63.197475</td>\n      <td>51.659857</td>\n      <td>149.651679</td>\n      <td>11.924390</td>\n      <td>64.853001</td>\n      <td>66.948501</td>\n      <td>[[0.000284961868415017, 9.196035563171802e-05,...</td>\n      <td>tic             AAPL      AMGN       AXP      ...</td>\n    </tr>\n    <tr>\n      <th>4</th>\n      <td>2011-01-03</td>\n      <td>CAT</td>\n      <td>94.379997</td>\n      <td>94.809998</td>\n      <td>94.110001</td>\n      <td>94.150002</td>\n      <td>5231500.0</td>\n      <td>2.266966</td>\n      <td>96.271975</td>\n      <td>88.886025</td>\n      <td>68.687626</td>\n      <td>82.330220</td>\n      <td>50.929602</td>\n      <td>90.157333</td>\n      <td>85.266833</td>\n      <td>[[0.000284961868415017, 9.196035563171802e-05,...</td>\n      <td>tic             AAPL      AMGN       AXP      ...</td>\n    </tr>\n  </tbody>\n</table>\n</div>"
     },
     "execution_count": 19,
     "metadata": {},
     "output_type": "execute_result"
    }
   ],
   "source": [
    "print(f\"{_size // 1000_000} MB\")\n",
    "print(df.shape)\n",
    "df.head()"
   ],
   "metadata": {
    "collapsed": false
   }
  },
  {
   "cell_type": "code",
   "execution_count": null,
   "outputs": [],
   "source": [
    "df.to_json(program.exp_dir.out.datasets.joinpath(dataset_name))"
   ],
   "metadata": {
    "collapsed": false
   }
  },
  {
   "cell_type": "code",
   "execution_count": null,
   "outputs": [],
   "source": [],
   "metadata": {
    "collapsed": false
   }
  }
 ],
 "metadata": {
  "colab": {
   "collapsed_sections": [
    "lvrqTro3lhAh",
    "a3Iuv554xYFH",
    "SPEXBcm-uBJo",
    "iidB5E27dfzh"
   ],
   "name": "FinRL_PortfolioAllocation_NeurIPS_2020.ipynb",
   "provenance": []
  },
  "kernelspec": {
   "display_name": "venv3.10",
   "language": "python",
   "name": "python3"
  },
  "language_info": {
   "codemirror_mode": {
    "name": "ipython",
    "version": 3
   },
   "file_extension": ".py",
   "mimetype": "text/x-python",
   "name": "python",
   "nbconvert_exporter": "python",
   "pygments_lexer": "ipython3",
   "version": "3.10.8 (main, Oct 13 2022, 10:17:43) [Clang 14.0.0 (clang-1400.0.29.102)]"
  },
  "vscode": {
   "interpreter": {
    "hash": "805b2df09b2e4371278acfc7dff7b1148e2c0f7a546a13e972979c0e19194655"
   }
  }
 },
 "nbformat": 4,
 "nbformat_minor": 0
}
