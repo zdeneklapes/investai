{
 "cells": [
  {
   "cell_type": "code",
   "execution_count": 33,
   "metadata": {
    "collapsed": true
   },
   "outputs": [],
   "source": [
    "\n",
    "import sys\n",
    "\n",
    "sys.path.append('..')\n",
    "sys.path.append('../..')\n",
    "sys.path.append('../../..')\n",
    "import main as m\n"
   ]
  },
  {
   "cell_type": "code",
   "execution_count": 34,
   "outputs": [],
   "source": [
    "\n",
    "m.reload_module(m)\n"
   ],
   "metadata": {
    "collapsed": false
   }
  },
  {
   "cell_type": "markdown",
   "source": [],
   "metadata": {
    "collapsed": false
   }
  },
  {
   "cell_type": "code",
   "execution_count": 35,
   "outputs": [
    {
     "name": "stdout",
     "output_type": "stream",
     "text": [
      "[*********************100%***********************]  1 of 1 completed\n"
     ]
    }
   ],
   "source": [
    "\n",
    "forex_dataset = m.ForexDataset()\n",
    "data = forex_dataset.preprocess()\n"
   ],
   "metadata": {
    "collapsed": false
   }
  },
  {
   "cell_type": "code",
   "execution_count": 38,
   "outputs": [
    {
     "data": {
      "text/plain": "                               Open      High       Low     Close  Adj Close  \\\nDatetime                                                                       \n2023-02-13 00:00:00+00:00  1.068376  1.068376  1.068376  1.068376   1.068376   \n2023-02-13 00:01:00+00:00  1.068262  1.068262  1.068262  1.068262   1.068262   \n2023-02-13 00:02:00+00:00  1.068034  1.068034  1.068034  1.068034   1.068034   \n2023-02-13 00:03:00+00:00  1.068034  1.068034  1.068034  1.068034   1.068034   \n2023-02-13 00:04:00+00:00  1.068148  1.068148  1.068148  1.068148   1.068148   \n\n                           Volume      macd  boll_ub  boll_lb    rsi_30  \\\nDatetime                                                                  \n2023-02-13 00:00:00+00:00       0  0.000000      0.0      0.0   0.00000   \n2023-02-13 00:01:00+00:00       0 -0.000001      0.0      0.0   0.00000   \n2023-02-13 00:02:00+00:00       0 -0.000005      0.0      0.0   0.00000   \n2023-02-13 00:03:00+00:00       0 -0.000008      0.0      0.0   0.00000   \n2023-02-13 00:04:00+00:00       0 -0.000009      0.0      0.0  26.48947   \n\n                           dx_30  close_30_sma  close_60_sma  \nDatetime                                                      \n2023-02-13 00:00:00+00:00    0.0           0.0           0.0  \n2023-02-13 00:01:00+00:00    0.0           0.0           0.0  \n2023-02-13 00:02:00+00:00    0.0           0.0           0.0  \n2023-02-13 00:03:00+00:00    0.0           0.0           0.0  \n2023-02-13 00:04:00+00:00    0.0           0.0           0.0  ",
      "text/html": "<div>\n<style scoped>\n    .dataframe tbody tr th:only-of-type {\n        vertical-align: middle;\n    }\n\n    .dataframe tbody tr th {\n        vertical-align: top;\n    }\n\n    .dataframe thead th {\n        text-align: right;\n    }\n</style>\n<table border=\"1\" class=\"dataframe\">\n  <thead>\n    <tr style=\"text-align: right;\">\n      <th></th>\n      <th>Open</th>\n      <th>High</th>\n      <th>Low</th>\n      <th>Close</th>\n      <th>Adj Close</th>\n      <th>Volume</th>\n      <th>macd</th>\n      <th>boll_ub</th>\n      <th>boll_lb</th>\n      <th>rsi_30</th>\n      <th>dx_30</th>\n      <th>close_30_sma</th>\n      <th>close_60_sma</th>\n    </tr>\n    <tr>\n      <th>Datetime</th>\n      <th></th>\n      <th></th>\n      <th></th>\n      <th></th>\n      <th></th>\n      <th></th>\n      <th></th>\n      <th></th>\n      <th></th>\n      <th></th>\n      <th></th>\n      <th></th>\n      <th></th>\n    </tr>\n  </thead>\n  <tbody>\n    <tr>\n      <th>2023-02-13 00:00:00+00:00</th>\n      <td>1.068376</td>\n      <td>1.068376</td>\n      <td>1.068376</td>\n      <td>1.068376</td>\n      <td>1.068376</td>\n      <td>0</td>\n      <td>0.000000</td>\n      <td>0.0</td>\n      <td>0.0</td>\n      <td>0.00000</td>\n      <td>0.0</td>\n      <td>0.0</td>\n      <td>0.0</td>\n    </tr>\n    <tr>\n      <th>2023-02-13 00:01:00+00:00</th>\n      <td>1.068262</td>\n      <td>1.068262</td>\n      <td>1.068262</td>\n      <td>1.068262</td>\n      <td>1.068262</td>\n      <td>0</td>\n      <td>-0.000001</td>\n      <td>0.0</td>\n      <td>0.0</td>\n      <td>0.00000</td>\n      <td>0.0</td>\n      <td>0.0</td>\n      <td>0.0</td>\n    </tr>\n    <tr>\n      <th>2023-02-13 00:02:00+00:00</th>\n      <td>1.068034</td>\n      <td>1.068034</td>\n      <td>1.068034</td>\n      <td>1.068034</td>\n      <td>1.068034</td>\n      <td>0</td>\n      <td>-0.000005</td>\n      <td>0.0</td>\n      <td>0.0</td>\n      <td>0.00000</td>\n      <td>0.0</td>\n      <td>0.0</td>\n      <td>0.0</td>\n    </tr>\n    <tr>\n      <th>2023-02-13 00:03:00+00:00</th>\n      <td>1.068034</td>\n      <td>1.068034</td>\n      <td>1.068034</td>\n      <td>1.068034</td>\n      <td>1.068034</td>\n      <td>0</td>\n      <td>-0.000008</td>\n      <td>0.0</td>\n      <td>0.0</td>\n      <td>0.00000</td>\n      <td>0.0</td>\n      <td>0.0</td>\n      <td>0.0</td>\n    </tr>\n    <tr>\n      <th>2023-02-13 00:04:00+00:00</th>\n      <td>1.068148</td>\n      <td>1.068148</td>\n      <td>1.068148</td>\n      <td>1.068148</td>\n      <td>1.068148</td>\n      <td>0</td>\n      <td>-0.000009</td>\n      <td>0.0</td>\n      <td>0.0</td>\n      <td>26.48947</td>\n      <td>0.0</td>\n      <td>0.0</td>\n      <td>0.0</td>\n    </tr>\n  </tbody>\n</table>\n</div>"
     },
     "execution_count": 38,
     "metadata": {},
     "output_type": "execute_result"
    }
   ],
   "source": [
    "data.head()\n"
   ],
   "metadata": {
    "collapsed": false
   }
  },
  {
   "cell_type": "code",
   "execution_count": 39,
   "outputs": [
    {
     "data": {
      "text/plain": "                               Open      High       Low     Close  Adj Close  \\\nDatetime                                                                       \n2023-02-17 22:25:00+00:00  1.069747  1.069747  1.069747  1.069747   1.069747   \n2023-02-17 22:26:00+00:00  1.069747  1.069747  1.069747  1.069747   1.069747   \n2023-02-17 22:27:00+00:00  1.069747  1.069747  1.069747  1.069747   1.069747   \n2023-02-17 22:28:00+00:00  1.069747  1.069747  1.069747  1.069747   1.069747   \n2023-02-17 22:29:00+00:00  1.069747  1.069747  1.069747  1.069747   1.069747   \n\n                           Volume      macd   boll_ub   boll_lb     rsi_30  \\\nDatetime                                                                     \n2023-02-17 22:25:00+00:00       0 -0.000005  1.069747  1.069747  48.792955   \n2023-02-17 22:26:00+00:00       0 -0.000004  1.069747  1.069747  48.792955   \n2023-02-17 22:27:00+00:00       0 -0.000004  1.069747  1.069747  48.792955   \n2023-02-17 22:28:00+00:00       0 -0.000003  1.069747  1.069747  48.792955   \n2023-02-17 22:29:00+00:00       0 -0.000003  1.069747  1.069747  48.792955   \n\n                              dx_30  close_30_sma  close_60_sma  \nDatetime                                                         \n2023-02-17 22:25:00+00:00  2.878799      1.069736      1.069789  \n2023-02-17 22:26:00+00:00  2.814742      1.069740      1.069791  \n2023-02-17 22:27:00+00:00  2.752820      1.069744      1.069791  \n2023-02-17 22:28:00+00:00  2.692962      1.069744      1.069789  \n2023-02-17 22:29:00+00:00  2.635100      1.069744      1.069786  ",
      "text/html": "<div>\n<style scoped>\n    .dataframe tbody tr th:only-of-type {\n        vertical-align: middle;\n    }\n\n    .dataframe tbody tr th {\n        vertical-align: top;\n    }\n\n    .dataframe thead th {\n        text-align: right;\n    }\n</style>\n<table border=\"1\" class=\"dataframe\">\n  <thead>\n    <tr style=\"text-align: right;\">\n      <th></th>\n      <th>Open</th>\n      <th>High</th>\n      <th>Low</th>\n      <th>Close</th>\n      <th>Adj Close</th>\n      <th>Volume</th>\n      <th>macd</th>\n      <th>boll_ub</th>\n      <th>boll_lb</th>\n      <th>rsi_30</th>\n      <th>dx_30</th>\n      <th>close_30_sma</th>\n      <th>close_60_sma</th>\n    </tr>\n    <tr>\n      <th>Datetime</th>\n      <th></th>\n      <th></th>\n      <th></th>\n      <th></th>\n      <th></th>\n      <th></th>\n      <th></th>\n      <th></th>\n      <th></th>\n      <th></th>\n      <th></th>\n      <th></th>\n      <th></th>\n    </tr>\n  </thead>\n  <tbody>\n    <tr>\n      <th>2023-02-17 22:25:00+00:00</th>\n      <td>1.069747</td>\n      <td>1.069747</td>\n      <td>1.069747</td>\n      <td>1.069747</td>\n      <td>1.069747</td>\n      <td>0</td>\n      <td>-0.000005</td>\n      <td>1.069747</td>\n      <td>1.069747</td>\n      <td>48.792955</td>\n      <td>2.878799</td>\n      <td>1.069736</td>\n      <td>1.069789</td>\n    </tr>\n    <tr>\n      <th>2023-02-17 22:26:00+00:00</th>\n      <td>1.069747</td>\n      <td>1.069747</td>\n      <td>1.069747</td>\n      <td>1.069747</td>\n      <td>1.069747</td>\n      <td>0</td>\n      <td>-0.000004</td>\n      <td>1.069747</td>\n      <td>1.069747</td>\n      <td>48.792955</td>\n      <td>2.814742</td>\n      <td>1.069740</td>\n      <td>1.069791</td>\n    </tr>\n    <tr>\n      <th>2023-02-17 22:27:00+00:00</th>\n      <td>1.069747</td>\n      <td>1.069747</td>\n      <td>1.069747</td>\n      <td>1.069747</td>\n      <td>1.069747</td>\n      <td>0</td>\n      <td>-0.000004</td>\n      <td>1.069747</td>\n      <td>1.069747</td>\n      <td>48.792955</td>\n      <td>2.752820</td>\n      <td>1.069744</td>\n      <td>1.069791</td>\n    </tr>\n    <tr>\n      <th>2023-02-17 22:28:00+00:00</th>\n      <td>1.069747</td>\n      <td>1.069747</td>\n      <td>1.069747</td>\n      <td>1.069747</td>\n      <td>1.069747</td>\n      <td>0</td>\n      <td>-0.000003</td>\n      <td>1.069747</td>\n      <td>1.069747</td>\n      <td>48.792955</td>\n      <td>2.692962</td>\n      <td>1.069744</td>\n      <td>1.069789</td>\n    </tr>\n    <tr>\n      <th>2023-02-17 22:29:00+00:00</th>\n      <td>1.069747</td>\n      <td>1.069747</td>\n      <td>1.069747</td>\n      <td>1.069747</td>\n      <td>1.069747</td>\n      <td>0</td>\n      <td>-0.000003</td>\n      <td>1.069747</td>\n      <td>1.069747</td>\n      <td>48.792955</td>\n      <td>2.635100</td>\n      <td>1.069744</td>\n      <td>1.069786</td>\n    </tr>\n  </tbody>\n</table>\n</div>"
     },
     "execution_count": 39,
     "metadata": {},
     "output_type": "execute_result"
    }
   ],
   "source": [
    "data.tail()\n"
   ],
   "metadata": {
    "collapsed": false
   }
  },
  {
   "cell_type": "code",
   "execution_count": 44,
   "outputs": [
    {
     "data": {
      "text/plain": "                  Open      High       Low     Close  Adj Close  Volume  \\\nOpen          1.000000  1.000000  1.000000  1.000000   1.000000     NaN   \nHigh          1.000000  1.000000  1.000000  1.000000   1.000000     NaN   \nLow           1.000000  1.000000  1.000000  1.000000   1.000000     NaN   \nClose         1.000000  1.000000  1.000000  1.000000   1.000000     NaN   \nAdj Close     1.000000  1.000000  1.000000  1.000000   1.000000     NaN   \nVolume             NaN       NaN       NaN       NaN        NaN     NaN   \nmacd          0.127860  0.127860  0.127860  0.127860   0.127860     NaN   \nboll_ub       0.097439  0.097439  0.097439  0.097439   0.097439     NaN   \nboll_lb       0.096816  0.096816  0.096816  0.096816   0.096816     NaN   \nrsi_30        0.175595  0.175595  0.175595  0.175595   0.175595     NaN   \ndx_30        -0.085045 -0.085045 -0.085045 -0.085045  -0.085045     NaN   \nclose_30_sma  0.096356  0.096356  0.096356  0.096356   0.096356     NaN   \nclose_60_sma  0.103046  0.103046  0.103046  0.103046   0.103046     NaN   \n\n                  macd   boll_ub   boll_lb    rsi_30     dx_30  close_30_sma  \\\nOpen          0.127860  0.097439  0.096816  0.175595 -0.085045      0.096356   \nHigh          0.127860  0.097439  0.096816  0.175595 -0.085045      0.096356   \nLow           0.127860  0.097439  0.096816  0.175595 -0.085045      0.096356   \nClose         0.127860  0.097439  0.096816  0.175595 -0.085045      0.096356   \nAdj Close     0.127860  0.097439  0.096816  0.175595 -0.085045      0.096356   \nVolume             NaN       NaN       NaN       NaN       NaN           NaN   \nmacd          1.000000  0.020551  0.021315  0.723578  0.126275      0.026663   \nboll_ub       0.020551  1.000000  0.999933  0.355481  0.101013      0.810379   \nboll_lb       0.021315  0.999933  1.000000  0.355598  0.097906      0.810348   \nrsi_30        0.723578  0.355481  0.355598  1.000000  0.168727      0.348220   \ndx_30         0.126275  0.101013  0.097906  0.168727  1.000000      0.125170   \nclose_30_sma  0.026663  0.810379  0.810348  0.348220  0.125170      1.000000   \nclose_60_sma  0.016255  0.569637  0.569233  0.274972 -0.193737      0.701770   \n\n              close_60_sma  \nOpen              0.103046  \nHigh              0.103046  \nLow               0.103046  \nClose             0.103046  \nAdj Close         0.103046  \nVolume                 NaN  \nmacd              0.016255  \nboll_ub           0.569637  \nboll_lb           0.569233  \nrsi_30            0.274972  \ndx_30            -0.193737  \nclose_30_sma      0.701770  \nclose_60_sma      1.000000  ",
      "text/html": "<div>\n<style scoped>\n    .dataframe tbody tr th:only-of-type {\n        vertical-align: middle;\n    }\n\n    .dataframe tbody tr th {\n        vertical-align: top;\n    }\n\n    .dataframe thead th {\n        text-align: right;\n    }\n</style>\n<table border=\"1\" class=\"dataframe\">\n  <thead>\n    <tr style=\"text-align: right;\">\n      <th></th>\n      <th>Open</th>\n      <th>High</th>\n      <th>Low</th>\n      <th>Close</th>\n      <th>Adj Close</th>\n      <th>Volume</th>\n      <th>macd</th>\n      <th>boll_ub</th>\n      <th>boll_lb</th>\n      <th>rsi_30</th>\n      <th>dx_30</th>\n      <th>close_30_sma</th>\n      <th>close_60_sma</th>\n    </tr>\n  </thead>\n  <tbody>\n    <tr>\n      <th>Open</th>\n      <td>1.000000</td>\n      <td>1.000000</td>\n      <td>1.000000</td>\n      <td>1.000000</td>\n      <td>1.000000</td>\n      <td>NaN</td>\n      <td>0.127860</td>\n      <td>0.097439</td>\n      <td>0.096816</td>\n      <td>0.175595</td>\n      <td>-0.085045</td>\n      <td>0.096356</td>\n      <td>0.103046</td>\n    </tr>\n    <tr>\n      <th>High</th>\n      <td>1.000000</td>\n      <td>1.000000</td>\n      <td>1.000000</td>\n      <td>1.000000</td>\n      <td>1.000000</td>\n      <td>NaN</td>\n      <td>0.127860</td>\n      <td>0.097439</td>\n      <td>0.096816</td>\n      <td>0.175595</td>\n      <td>-0.085045</td>\n      <td>0.096356</td>\n      <td>0.103046</td>\n    </tr>\n    <tr>\n      <th>Low</th>\n      <td>1.000000</td>\n      <td>1.000000</td>\n      <td>1.000000</td>\n      <td>1.000000</td>\n      <td>1.000000</td>\n      <td>NaN</td>\n      <td>0.127860</td>\n      <td>0.097439</td>\n      <td>0.096816</td>\n      <td>0.175595</td>\n      <td>-0.085045</td>\n      <td>0.096356</td>\n      <td>0.103046</td>\n    </tr>\n    <tr>\n      <th>Close</th>\n      <td>1.000000</td>\n      <td>1.000000</td>\n      <td>1.000000</td>\n      <td>1.000000</td>\n      <td>1.000000</td>\n      <td>NaN</td>\n      <td>0.127860</td>\n      <td>0.097439</td>\n      <td>0.096816</td>\n      <td>0.175595</td>\n      <td>-0.085045</td>\n      <td>0.096356</td>\n      <td>0.103046</td>\n    </tr>\n    <tr>\n      <th>Adj Close</th>\n      <td>1.000000</td>\n      <td>1.000000</td>\n      <td>1.000000</td>\n      <td>1.000000</td>\n      <td>1.000000</td>\n      <td>NaN</td>\n      <td>0.127860</td>\n      <td>0.097439</td>\n      <td>0.096816</td>\n      <td>0.175595</td>\n      <td>-0.085045</td>\n      <td>0.096356</td>\n      <td>0.103046</td>\n    </tr>\n    <tr>\n      <th>Volume</th>\n      <td>NaN</td>\n      <td>NaN</td>\n      <td>NaN</td>\n      <td>NaN</td>\n      <td>NaN</td>\n      <td>NaN</td>\n      <td>NaN</td>\n      <td>NaN</td>\n      <td>NaN</td>\n      <td>NaN</td>\n      <td>NaN</td>\n      <td>NaN</td>\n      <td>NaN</td>\n    </tr>\n    <tr>\n      <th>macd</th>\n      <td>0.127860</td>\n      <td>0.127860</td>\n      <td>0.127860</td>\n      <td>0.127860</td>\n      <td>0.127860</td>\n      <td>NaN</td>\n      <td>1.000000</td>\n      <td>0.020551</td>\n      <td>0.021315</td>\n      <td>0.723578</td>\n      <td>0.126275</td>\n      <td>0.026663</td>\n      <td>0.016255</td>\n    </tr>\n    <tr>\n      <th>boll_ub</th>\n      <td>0.097439</td>\n      <td>0.097439</td>\n      <td>0.097439</td>\n      <td>0.097439</td>\n      <td>0.097439</td>\n      <td>NaN</td>\n      <td>0.020551</td>\n      <td>1.000000</td>\n      <td>0.999933</td>\n      <td>0.355481</td>\n      <td>0.101013</td>\n      <td>0.810379</td>\n      <td>0.569637</td>\n    </tr>\n    <tr>\n      <th>boll_lb</th>\n      <td>0.096816</td>\n      <td>0.096816</td>\n      <td>0.096816</td>\n      <td>0.096816</td>\n      <td>0.096816</td>\n      <td>NaN</td>\n      <td>0.021315</td>\n      <td>0.999933</td>\n      <td>1.000000</td>\n      <td>0.355598</td>\n      <td>0.097906</td>\n      <td>0.810348</td>\n      <td>0.569233</td>\n    </tr>\n    <tr>\n      <th>rsi_30</th>\n      <td>0.175595</td>\n      <td>0.175595</td>\n      <td>0.175595</td>\n      <td>0.175595</td>\n      <td>0.175595</td>\n      <td>NaN</td>\n      <td>0.723578</td>\n      <td>0.355481</td>\n      <td>0.355598</td>\n      <td>1.000000</td>\n      <td>0.168727</td>\n      <td>0.348220</td>\n      <td>0.274972</td>\n    </tr>\n    <tr>\n      <th>dx_30</th>\n      <td>-0.085045</td>\n      <td>-0.085045</td>\n      <td>-0.085045</td>\n      <td>-0.085045</td>\n      <td>-0.085045</td>\n      <td>NaN</td>\n      <td>0.126275</td>\n      <td>0.101013</td>\n      <td>0.097906</td>\n      <td>0.168727</td>\n      <td>1.000000</td>\n      <td>0.125170</td>\n      <td>-0.193737</td>\n    </tr>\n    <tr>\n      <th>close_30_sma</th>\n      <td>0.096356</td>\n      <td>0.096356</td>\n      <td>0.096356</td>\n      <td>0.096356</td>\n      <td>0.096356</td>\n      <td>NaN</td>\n      <td>0.026663</td>\n      <td>0.810379</td>\n      <td>0.810348</td>\n      <td>0.348220</td>\n      <td>0.125170</td>\n      <td>1.000000</td>\n      <td>0.701770</td>\n    </tr>\n    <tr>\n      <th>close_60_sma</th>\n      <td>0.103046</td>\n      <td>0.103046</td>\n      <td>0.103046</td>\n      <td>0.103046</td>\n      <td>0.103046</td>\n      <td>NaN</td>\n      <td>0.016255</td>\n      <td>0.569637</td>\n      <td>0.569233</td>\n      <td>0.274972</td>\n      <td>-0.193737</td>\n      <td>0.701770</td>\n      <td>1.000000</td>\n    </tr>\n  </tbody>\n</table>\n</div>"
     },
     "execution_count": 44,
     "metadata": {},
     "output_type": "execute_result"
    }
   ],
   "source": [
    "\n",
    "corr_pearson = data.corr(method='pearson')\n",
    "corr_pearson\n"
   ],
   "metadata": {
    "collapsed": false
   }
  },
  {
   "cell_type": "code",
   "execution_count": 45,
   "outputs": [
    {
     "data": {
      "text/plain": "                  Open      High       Low     Close  Adj Close  Volume  \\\nOpen          1.000000  1.000000  1.000000  1.000000   1.000000     NaN   \nHigh          1.000000  1.000000  1.000000  1.000000   1.000000     NaN   \nLow           1.000000  1.000000  1.000000  1.000000   1.000000     NaN   \nClose         1.000000  1.000000  1.000000  1.000000   1.000000     NaN   \nAdj Close     1.000000  1.000000  1.000000  1.000000   1.000000     NaN   \nVolume             NaN       NaN       NaN       NaN        NaN     1.0   \nmacd          0.106170  0.106170  0.106170  0.106170   0.106170     NaN   \nboll_ub       0.919658  0.919658  0.919658  0.919658   0.919658     NaN   \nboll_lb       0.920490  0.920490  0.920490  0.920490   0.920490     NaN   \nrsi_30        0.128955  0.128955  0.128955  0.128955   0.128955     NaN   \ndx_30        -0.078869 -0.078869 -0.078869 -0.078869  -0.078869     NaN   \nclose_30_sma  0.917722  0.917722  0.917722  0.917722   0.917722     NaN   \nclose_60_sma  0.887107  0.887107  0.887107  0.887107   0.887107     NaN   \n\n                  macd   boll_ub   boll_lb    rsi_30     dx_30  close_30_sma  \\\nOpen          0.106170  0.919658  0.920490  0.128955 -0.078869      0.917722   \nHigh          0.106170  0.919658  0.920490  0.128955 -0.078869      0.917722   \nLow           0.106170  0.919658  0.920490  0.128955 -0.078869      0.917722   \nClose         0.106170  0.919658  0.920490  0.128955 -0.078869      0.917722   \nAdj Close     0.106170  0.919658  0.920490  0.128955 -0.078869      0.917722   \nVolume             NaN       NaN       NaN       NaN       NaN           NaN   \nmacd          1.000000  0.074364  0.078711  0.610566  0.072981      0.052963   \nboll_ub       0.074364  1.000000  0.900263  0.072840 -0.056074      0.944479   \nboll_lb       0.078711  0.900263  1.000000  0.076530 -0.098262      0.939379   \nrsi_30        0.610566  0.072840  0.076530  1.000000  0.077683      0.058244   \ndx_30         0.072981 -0.056074 -0.098262  0.077683  1.000000     -0.076220   \nclose_30_sma  0.052963  0.944479  0.939379  0.058244 -0.076220      1.000000   \nclose_60_sma  0.011586  0.913345  0.901473  0.026485 -0.081885      0.940340   \n\n              close_60_sma  \nOpen              0.887107  \nHigh              0.887107  \nLow               0.887107  \nClose             0.887107  \nAdj Close         0.887107  \nVolume                 NaN  \nmacd              0.011586  \nboll_ub           0.913345  \nboll_lb           0.901473  \nrsi_30            0.026485  \ndx_30            -0.081885  \nclose_30_sma      0.940340  \nclose_60_sma      1.000000  ",
      "text/html": "<div>\n<style scoped>\n    .dataframe tbody tr th:only-of-type {\n        vertical-align: middle;\n    }\n\n    .dataframe tbody tr th {\n        vertical-align: top;\n    }\n\n    .dataframe thead th {\n        text-align: right;\n    }\n</style>\n<table border=\"1\" class=\"dataframe\">\n  <thead>\n    <tr style=\"text-align: right;\">\n      <th></th>\n      <th>Open</th>\n      <th>High</th>\n      <th>Low</th>\n      <th>Close</th>\n      <th>Adj Close</th>\n      <th>Volume</th>\n      <th>macd</th>\n      <th>boll_ub</th>\n      <th>boll_lb</th>\n      <th>rsi_30</th>\n      <th>dx_30</th>\n      <th>close_30_sma</th>\n      <th>close_60_sma</th>\n    </tr>\n  </thead>\n  <tbody>\n    <tr>\n      <th>Open</th>\n      <td>1.000000</td>\n      <td>1.000000</td>\n      <td>1.000000</td>\n      <td>1.000000</td>\n      <td>1.000000</td>\n      <td>NaN</td>\n      <td>0.106170</td>\n      <td>0.919658</td>\n      <td>0.920490</td>\n      <td>0.128955</td>\n      <td>-0.078869</td>\n      <td>0.917722</td>\n      <td>0.887107</td>\n    </tr>\n    <tr>\n      <th>High</th>\n      <td>1.000000</td>\n      <td>1.000000</td>\n      <td>1.000000</td>\n      <td>1.000000</td>\n      <td>1.000000</td>\n      <td>NaN</td>\n      <td>0.106170</td>\n      <td>0.919658</td>\n      <td>0.920490</td>\n      <td>0.128955</td>\n      <td>-0.078869</td>\n      <td>0.917722</td>\n      <td>0.887107</td>\n    </tr>\n    <tr>\n      <th>Low</th>\n      <td>1.000000</td>\n      <td>1.000000</td>\n      <td>1.000000</td>\n      <td>1.000000</td>\n      <td>1.000000</td>\n      <td>NaN</td>\n      <td>0.106170</td>\n      <td>0.919658</td>\n      <td>0.920490</td>\n      <td>0.128955</td>\n      <td>-0.078869</td>\n      <td>0.917722</td>\n      <td>0.887107</td>\n    </tr>\n    <tr>\n      <th>Close</th>\n      <td>1.000000</td>\n      <td>1.000000</td>\n      <td>1.000000</td>\n      <td>1.000000</td>\n      <td>1.000000</td>\n      <td>NaN</td>\n      <td>0.106170</td>\n      <td>0.919658</td>\n      <td>0.920490</td>\n      <td>0.128955</td>\n      <td>-0.078869</td>\n      <td>0.917722</td>\n      <td>0.887107</td>\n    </tr>\n    <tr>\n      <th>Adj Close</th>\n      <td>1.000000</td>\n      <td>1.000000</td>\n      <td>1.000000</td>\n      <td>1.000000</td>\n      <td>1.000000</td>\n      <td>NaN</td>\n      <td>0.106170</td>\n      <td>0.919658</td>\n      <td>0.920490</td>\n      <td>0.128955</td>\n      <td>-0.078869</td>\n      <td>0.917722</td>\n      <td>0.887107</td>\n    </tr>\n    <tr>\n      <th>Volume</th>\n      <td>NaN</td>\n      <td>NaN</td>\n      <td>NaN</td>\n      <td>NaN</td>\n      <td>NaN</td>\n      <td>1.0</td>\n      <td>NaN</td>\n      <td>NaN</td>\n      <td>NaN</td>\n      <td>NaN</td>\n      <td>NaN</td>\n      <td>NaN</td>\n      <td>NaN</td>\n    </tr>\n    <tr>\n      <th>macd</th>\n      <td>0.106170</td>\n      <td>0.106170</td>\n      <td>0.106170</td>\n      <td>0.106170</td>\n      <td>0.106170</td>\n      <td>NaN</td>\n      <td>1.000000</td>\n      <td>0.074364</td>\n      <td>0.078711</td>\n      <td>0.610566</td>\n      <td>0.072981</td>\n      <td>0.052963</td>\n      <td>0.011586</td>\n    </tr>\n    <tr>\n      <th>boll_ub</th>\n      <td>0.919658</td>\n      <td>0.919658</td>\n      <td>0.919658</td>\n      <td>0.919658</td>\n      <td>0.919658</td>\n      <td>NaN</td>\n      <td>0.074364</td>\n      <td>1.000000</td>\n      <td>0.900263</td>\n      <td>0.072840</td>\n      <td>-0.056074</td>\n      <td>0.944479</td>\n      <td>0.913345</td>\n    </tr>\n    <tr>\n      <th>boll_lb</th>\n      <td>0.920490</td>\n      <td>0.920490</td>\n      <td>0.920490</td>\n      <td>0.920490</td>\n      <td>0.920490</td>\n      <td>NaN</td>\n      <td>0.078711</td>\n      <td>0.900263</td>\n      <td>1.000000</td>\n      <td>0.076530</td>\n      <td>-0.098262</td>\n      <td>0.939379</td>\n      <td>0.901473</td>\n    </tr>\n    <tr>\n      <th>rsi_30</th>\n      <td>0.128955</td>\n      <td>0.128955</td>\n      <td>0.128955</td>\n      <td>0.128955</td>\n      <td>0.128955</td>\n      <td>NaN</td>\n      <td>0.610566</td>\n      <td>0.072840</td>\n      <td>0.076530</td>\n      <td>1.000000</td>\n      <td>0.077683</td>\n      <td>0.058244</td>\n      <td>0.026485</td>\n    </tr>\n    <tr>\n      <th>dx_30</th>\n      <td>-0.078869</td>\n      <td>-0.078869</td>\n      <td>-0.078869</td>\n      <td>-0.078869</td>\n      <td>-0.078869</td>\n      <td>NaN</td>\n      <td>0.072981</td>\n      <td>-0.056074</td>\n      <td>-0.098262</td>\n      <td>0.077683</td>\n      <td>1.000000</td>\n      <td>-0.076220</td>\n      <td>-0.081885</td>\n    </tr>\n    <tr>\n      <th>close_30_sma</th>\n      <td>0.917722</td>\n      <td>0.917722</td>\n      <td>0.917722</td>\n      <td>0.917722</td>\n      <td>0.917722</td>\n      <td>NaN</td>\n      <td>0.052963</td>\n      <td>0.944479</td>\n      <td>0.939379</td>\n      <td>0.058244</td>\n      <td>-0.076220</td>\n      <td>1.000000</td>\n      <td>0.940340</td>\n    </tr>\n    <tr>\n      <th>close_60_sma</th>\n      <td>0.887107</td>\n      <td>0.887107</td>\n      <td>0.887107</td>\n      <td>0.887107</td>\n      <td>0.887107</td>\n      <td>NaN</td>\n      <td>0.011586</td>\n      <td>0.913345</td>\n      <td>0.901473</td>\n      <td>0.026485</td>\n      <td>-0.081885</td>\n      <td>0.940340</td>\n      <td>1.000000</td>\n    </tr>\n  </tbody>\n</table>\n</div>"
     },
     "execution_count": 45,
     "metadata": {},
     "output_type": "execute_result"
    }
   ],
   "source": [
    "\n",
    "corr_kendall = data.corr(method='kendall')\n",
    "corr_kendall\n"
   ],
   "metadata": {
    "collapsed": false
   }
  },
  {
   "cell_type": "code",
   "execution_count": 46,
   "outputs": [
    {
     "data": {
      "text/plain": "                  Open      High       Low     Close  Adj Close  Volume  \\\nOpen          1.000000  1.000000  1.000000  1.000000   1.000000     NaN   \nHigh          1.000000  1.000000  1.000000  1.000000   1.000000     NaN   \nLow           1.000000  1.000000  1.000000  1.000000   1.000000     NaN   \nClose         1.000000  1.000000  1.000000  1.000000   1.000000     NaN   \nAdj Close     1.000000  1.000000  1.000000  1.000000   1.000000     NaN   \nVolume             NaN       NaN       NaN       NaN        NaN     NaN   \nmacd          0.156327  0.156327  0.156327  0.156327   0.156327     NaN   \nboll_ub       0.987941  0.987941  0.987941  0.987941   0.987941     NaN   \nboll_lb       0.988336  0.988336  0.988336  0.988336   0.988336     NaN   \nrsi_30        0.188738  0.188738  0.188738  0.188738   0.188738     NaN   \ndx_30        -0.117188 -0.117188 -0.117188 -0.117188  -0.117188     NaN   \nclose_30_sma  0.988668  0.988668  0.988668  0.988668   0.988668     NaN   \nclose_60_sma  0.980089  0.980089  0.980089  0.980089   0.980089     NaN   \n\n                  macd   boll_ub   boll_lb    rsi_30     dx_30  close_30_sma  \\\nOpen          0.156327  0.987941  0.988336  0.188738 -0.117188      0.988668   \nHigh          0.156327  0.987941  0.988336  0.188738 -0.117188      0.988668   \nLow           0.156327  0.987941  0.988336  0.188738 -0.117188      0.988668   \nClose         0.156327  0.987941  0.988336  0.188738 -0.117188      0.988668   \nAdj Close     0.156327  0.987941  0.988336  0.188738 -0.117188      0.988668   \nVolume             NaN       NaN       NaN       NaN       NaN           NaN   \nmacd          1.000000  0.108775  0.116993  0.801255  0.103885      0.079113   \nboll_ub       0.108775  1.000000  0.983656  0.108816 -0.084447      0.994949   \nboll_lb       0.116993  0.983656  1.000000  0.115585 -0.146131      0.993104   \nrsi_30        0.801255  0.108816  0.115585  1.000000  0.115087      0.088117   \ndx_30         0.103885 -0.084447 -0.146131  0.115087  1.000000     -0.115056   \nclose_30_sma  0.079113  0.994949  0.993104  0.088117 -0.115056      1.000000   \nclose_60_sma  0.017623  0.989082  0.983194  0.040451 -0.123121      0.994082   \n\n              close_60_sma  \nOpen              0.980089  \nHigh              0.980089  \nLow               0.980089  \nClose             0.980089  \nAdj Close         0.980089  \nVolume                 NaN  \nmacd              0.017623  \nboll_ub           0.989082  \nboll_lb           0.983194  \nrsi_30            0.040451  \ndx_30            -0.123121  \nclose_30_sma      0.994082  \nclose_60_sma      1.000000  ",
      "text/html": "<div>\n<style scoped>\n    .dataframe tbody tr th:only-of-type {\n        vertical-align: middle;\n    }\n\n    .dataframe tbody tr th {\n        vertical-align: top;\n    }\n\n    .dataframe thead th {\n        text-align: right;\n    }\n</style>\n<table border=\"1\" class=\"dataframe\">\n  <thead>\n    <tr style=\"text-align: right;\">\n      <th></th>\n      <th>Open</th>\n      <th>High</th>\n      <th>Low</th>\n      <th>Close</th>\n      <th>Adj Close</th>\n      <th>Volume</th>\n      <th>macd</th>\n      <th>boll_ub</th>\n      <th>boll_lb</th>\n      <th>rsi_30</th>\n      <th>dx_30</th>\n      <th>close_30_sma</th>\n      <th>close_60_sma</th>\n    </tr>\n  </thead>\n  <tbody>\n    <tr>\n      <th>Open</th>\n      <td>1.000000</td>\n      <td>1.000000</td>\n      <td>1.000000</td>\n      <td>1.000000</td>\n      <td>1.000000</td>\n      <td>NaN</td>\n      <td>0.156327</td>\n      <td>0.987941</td>\n      <td>0.988336</td>\n      <td>0.188738</td>\n      <td>-0.117188</td>\n      <td>0.988668</td>\n      <td>0.980089</td>\n    </tr>\n    <tr>\n      <th>High</th>\n      <td>1.000000</td>\n      <td>1.000000</td>\n      <td>1.000000</td>\n      <td>1.000000</td>\n      <td>1.000000</td>\n      <td>NaN</td>\n      <td>0.156327</td>\n      <td>0.987941</td>\n      <td>0.988336</td>\n      <td>0.188738</td>\n      <td>-0.117188</td>\n      <td>0.988668</td>\n      <td>0.980089</td>\n    </tr>\n    <tr>\n      <th>Low</th>\n      <td>1.000000</td>\n      <td>1.000000</td>\n      <td>1.000000</td>\n      <td>1.000000</td>\n      <td>1.000000</td>\n      <td>NaN</td>\n      <td>0.156327</td>\n      <td>0.987941</td>\n      <td>0.988336</td>\n      <td>0.188738</td>\n      <td>-0.117188</td>\n      <td>0.988668</td>\n      <td>0.980089</td>\n    </tr>\n    <tr>\n      <th>Close</th>\n      <td>1.000000</td>\n      <td>1.000000</td>\n      <td>1.000000</td>\n      <td>1.000000</td>\n      <td>1.000000</td>\n      <td>NaN</td>\n      <td>0.156327</td>\n      <td>0.987941</td>\n      <td>0.988336</td>\n      <td>0.188738</td>\n      <td>-0.117188</td>\n      <td>0.988668</td>\n      <td>0.980089</td>\n    </tr>\n    <tr>\n      <th>Adj Close</th>\n      <td>1.000000</td>\n      <td>1.000000</td>\n      <td>1.000000</td>\n      <td>1.000000</td>\n      <td>1.000000</td>\n      <td>NaN</td>\n      <td>0.156327</td>\n      <td>0.987941</td>\n      <td>0.988336</td>\n      <td>0.188738</td>\n      <td>-0.117188</td>\n      <td>0.988668</td>\n      <td>0.980089</td>\n    </tr>\n    <tr>\n      <th>Volume</th>\n      <td>NaN</td>\n      <td>NaN</td>\n      <td>NaN</td>\n      <td>NaN</td>\n      <td>NaN</td>\n      <td>NaN</td>\n      <td>NaN</td>\n      <td>NaN</td>\n      <td>NaN</td>\n      <td>NaN</td>\n      <td>NaN</td>\n      <td>NaN</td>\n      <td>NaN</td>\n    </tr>\n    <tr>\n      <th>macd</th>\n      <td>0.156327</td>\n      <td>0.156327</td>\n      <td>0.156327</td>\n      <td>0.156327</td>\n      <td>0.156327</td>\n      <td>NaN</td>\n      <td>1.000000</td>\n      <td>0.108775</td>\n      <td>0.116993</td>\n      <td>0.801255</td>\n      <td>0.103885</td>\n      <td>0.079113</td>\n      <td>0.017623</td>\n    </tr>\n    <tr>\n      <th>boll_ub</th>\n      <td>0.987941</td>\n      <td>0.987941</td>\n      <td>0.987941</td>\n      <td>0.987941</td>\n      <td>0.987941</td>\n      <td>NaN</td>\n      <td>0.108775</td>\n      <td>1.000000</td>\n      <td>0.983656</td>\n      <td>0.108816</td>\n      <td>-0.084447</td>\n      <td>0.994949</td>\n      <td>0.989082</td>\n    </tr>\n    <tr>\n      <th>boll_lb</th>\n      <td>0.988336</td>\n      <td>0.988336</td>\n      <td>0.988336</td>\n      <td>0.988336</td>\n      <td>0.988336</td>\n      <td>NaN</td>\n      <td>0.116993</td>\n      <td>0.983656</td>\n      <td>1.000000</td>\n      <td>0.115585</td>\n      <td>-0.146131</td>\n      <td>0.993104</td>\n      <td>0.983194</td>\n    </tr>\n    <tr>\n      <th>rsi_30</th>\n      <td>0.188738</td>\n      <td>0.188738</td>\n      <td>0.188738</td>\n      <td>0.188738</td>\n      <td>0.188738</td>\n      <td>NaN</td>\n      <td>0.801255</td>\n      <td>0.108816</td>\n      <td>0.115585</td>\n      <td>1.000000</td>\n      <td>0.115087</td>\n      <td>0.088117</td>\n      <td>0.040451</td>\n    </tr>\n    <tr>\n      <th>dx_30</th>\n      <td>-0.117188</td>\n      <td>-0.117188</td>\n      <td>-0.117188</td>\n      <td>-0.117188</td>\n      <td>-0.117188</td>\n      <td>NaN</td>\n      <td>0.103885</td>\n      <td>-0.084447</td>\n      <td>-0.146131</td>\n      <td>0.115087</td>\n      <td>1.000000</td>\n      <td>-0.115056</td>\n      <td>-0.123121</td>\n    </tr>\n    <tr>\n      <th>close_30_sma</th>\n      <td>0.988668</td>\n      <td>0.988668</td>\n      <td>0.988668</td>\n      <td>0.988668</td>\n      <td>0.988668</td>\n      <td>NaN</td>\n      <td>0.079113</td>\n      <td>0.994949</td>\n      <td>0.993104</td>\n      <td>0.088117</td>\n      <td>-0.115056</td>\n      <td>1.000000</td>\n      <td>0.994082</td>\n    </tr>\n    <tr>\n      <th>close_60_sma</th>\n      <td>0.980089</td>\n      <td>0.980089</td>\n      <td>0.980089</td>\n      <td>0.980089</td>\n      <td>0.980089</td>\n      <td>NaN</td>\n      <td>0.017623</td>\n      <td>0.989082</td>\n      <td>0.983194</td>\n      <td>0.040451</td>\n      <td>-0.123121</td>\n      <td>0.994082</td>\n      <td>1.000000</td>\n    </tr>\n  </tbody>\n</table>\n</div>"
     },
     "execution_count": 46,
     "metadata": {},
     "output_type": "execute_result"
    }
   ],
   "source": [
    "\n",
    "corr_spearman = data.corr(method='spearman')\n",
    "corr_spearman\n"
   ],
   "metadata": {
    "collapsed": false
   }
  },
  {
   "cell_type": "code",
   "execution_count": null,
   "outputs": [],
   "source": [],
   "metadata": {
    "collapsed": false
   }
  }
 ],
 "metadata": {
  "kernelspec": {
   "display_name": "Python 3",
   "language": "python",
   "name": "python3"
  },
  "language_info": {
   "codemirror_mode": {
    "name": "ipython",
    "version": 2
   },
   "file_extension": ".py",
   "mimetype": "text/x-python",
   "name": "python",
   "nbconvert_exporter": "python",
   "pygments_lexer": "ipython2",
   "version": "2.7.6"
  }
 },
 "nbformat": 4,
 "nbformat_minor": 0
}
