{
 "cells": [
  {
   "cell_type": "code",
   "execution_count": 1,
   "outputs": [
    {
     "name": "stderr",
     "output_type": "stream",
     "text": [
      "/Users/zlapik/my-drive-zlapik/0-todo/ai-investing/venv3.10/lib/python3.10/site-packages/pyfolio/pos.py:26: UserWarning: Module \"zipline.assets\" not found; multipliers will not be applied to position notionals.\n",
      "  warnings.warn(\n"
     ]
    }
   ],
   "source": [
    "#\n",
    "import os\n",
    "import sys\n",
    "import warnings\n",
    "import copy\n",
    "from pathlib import Path\n",
    "from typing import Union, List\n",
    "\n",
    "#\n",
    "sys.path.append(\"./src/\")\n",
    "sys.path.append(\"./\")\n",
    "sys.path.append(\"../\")\n",
    "sys.path.append(\"../../\")\n",
    "sys.path.append(\"../../../\")\n",
    "\n",
    "# Stable Baseline3\n",
    "from stable_baselines3 import A2C, DDPG, PPO, SAC, TD3\n",
    "\n",
    "#\n",
    "import matplotlib\n",
    "import pandas as pd\n",
    "from finrl import config_tickers\n",
    "\n",
    "#\n",
    "from rl.plot.plot import backtest_stats, backtest_plot, get_daily_return, get_baseline\n",
    "from rl.envs.StockTradingEnv import StockTradingEnv\n",
    "from rl.experiments._1_same_bigger_data_fundamental.train import (\n",
    "    CustomDRLAgent,\n",
    "    get_env_kwargs,\n",
    "    base_cols,\n",
    "    data_cols,\n",
    "    ratios_cols,\n",
    ")\n",
    "from rl.experiments.common.utils import init_program\n",
    "from rl.experiments.common.utils import ignore_warnings\n",
    "from rl.experiments.common.classes import LearnedAlgorithm\n",
    "\n",
    "#\n",
    "from configuration.settings import ProjectDir, ExperimentDir\n",
    "from rl.experiments._2_ta_orig.Env import StockPortfolioEnv\n",
    "from rl.experiments._2_ta_orig.train import base_cols, data_cols, features_cols\n",
    "from rl.experiments.common.classes import Program\n",
    "from rl.experiments.common.utils import ignore_warnings\n",
    "from rl.data.CompanyInfo import CompanyInfo"
   ],
   "metadata": {
    "collapsed": false
   }
  },
  {
   "cell_type": "code",
   "execution_count": 2,
   "outputs": [],
   "source": [
    "ignore_warnings()"
   ],
   "metadata": {
    "collapsed": false
   }
  },
  {
   "cell_type": "code",
   "execution_count": 3,
   "outputs": [],
   "source": [
    "_TRAIN_DATA_START = \"2010-01-01\"\n",
    "_TRAIN_DATE_END = \"2021-12-31\"\n",
    "_TEST_DATA_START = \"2021-01-01\"\n",
    "_TEST_DATA_END = \"2021-12-31\""
   ],
   "metadata": {
    "collapsed": false
   }
  },
  {
   "cell_type": "code",
   "execution_count": 4,
   "outputs": [],
   "source": [
    "program = init_program()"
   ],
   "metadata": {
    "collapsed": false
   }
  },
  {
   "cell_type": "code",
   "execution_count": 5,
   "outputs": [],
   "source": [
    "#\n",
    "program = Program(\n",
    "    prj_dir=ProjectDir(root=Path(\"/Users/zlapik/my-drive-zlapik/0-todo/ai-investing\")),\n",
    "    exp_dir=ExperimentDir(root=Path(os.getcwd())),\n",
    "    DEBUG=False,\n",
    ")\n",
    "program.exp_dir.check_and_create_dirs()\n",
    "\n",
    "#\n",
    "TICKERS = copy.deepcopy(config_tickers.DOW_30_TICKER)\n",
    "TICKERS.remove(\"DOW\")  # TODO: I don't have all necessary data for \"DOW\""
   ],
   "metadata": {
    "collapsed": false
   }
  },
  {
   "cell_type": "code",
   "execution_count": 6,
   "outputs": [
    {
     "name": "stdout",
     "output_type": "stream",
     "text": [
      "['AXP', 'AMGN', 'AAPL', 'BA', 'CAT', 'CSCO', 'CVX', 'GS', 'HD', 'HON', 'IBM', 'INTC', 'JNJ', 'KO', 'JPM', 'MCD', 'MMM', 'MRK', 'MSFT', 'NKE', 'PG', 'TRV', 'UNH', 'CRM', 'VZ', 'V', 'WBA', 'WMT', 'DIS']\n",
      "/Users/zlapik/my-drive-zlapik/0-todo/ai-investing\n",
      "/Users/zlapik/my-drive-zlapik/0-todo/ai-investing/src/rl/experiments/_2_ta_orig\n",
      "['date', 'tic']\n",
      "['open', 'high', 'low', 'close', 'volume']\n",
      "['macd', 'boll_ub', 'boll_lb', 'rsi_30', 'cci_30', 'dx_30', 'close_30_sma', 'close_60_sma']\n"
     ]
    }
   ],
   "source": [
    "print(TICKERS)\n",
    "print(program.prj_dir.root)\n",
    "print(program.exp_dir.root)\n",
    "print(base_cols)\n",
    "print(data_cols)\n",
    "print(features_cols)"
   ],
   "metadata": {
    "collapsed": false
   }
  },
  {
   "cell_type": "code",
   "execution_count": 6,
   "outputs": [],
   "source": [],
   "metadata": {
    "collapsed": false
   }
  },
  {
   "cell_type": "code",
   "execution_count": 7,
   "outputs": [],
   "source": [
    "# LearnedAlgorithm.__init__.__code__.co_varnames"
   ],
   "metadata": {
    "collapsed": false
   }
  },
  {
   "cell_type": "code",
   "execution_count": 8,
   "outputs": [],
   "source": [
    "def get_algorithm(filename: Path):\n",
    "    if \"a2c\" in filename.as_posix():\n",
    "        return LearnedAlgorithm(algorithm=\"a2c\", filename=filename, learned_algorithm=A2C.load(filename))\n",
    "\n",
    "\n",
    "learned_algorithms = []\n",
    "for filepath in program.exp_dir.out.algorithms.glob(\"*\"):\n",
    "    learned_algorithms.append(get_algorithm(filepath))\n",
    "    break"
   ],
   "metadata": {
    "collapsed": false
   }
  },
  {
   "cell_type": "code",
   "execution_count": 9,
   "outputs": [
    {
     "name": "stdout",
     "output_type": "stream",
     "text": [
      "0\n"
     ]
    }
   ],
   "source": [
    "# Test Learned Algorithms\n",
    "print(len(learned_algorithms))\n",
    "for algo in learned_algorithms:\n",
    "    env_kwargs = get_env_kwargs(program.dataset)\n",
    "    env_gym = StockTradingEnv(df=program.dataset, **env_kwargs)\n",
    "    algo.df_account_value, algo.df_actions = CustomDRLAgent.DRL_prediction(\n",
    "        model=algo.learned_algorithm, environment=env_gym\n",
    "    )\n",
    "# algos_prediction = predicate(program, learned_algorithms)"
   ],
   "metadata": {
    "collapsed": false
   }
  },
  {
   "cell_type": "code",
   "execution_count": 10,
   "outputs": [],
   "source": [
    "# print(learned_algorithms[0].df_actions)\n",
    "# print(learned_algorithms[0].df_account_value)"
   ],
   "metadata": {
    "collapsed": false
   }
  },
  {
   "cell_type": "code",
   "execution_count": 11,
   "outputs": [],
   "source": [
    "metric = \"Annual return\"\n",
    "\n",
    "for algo in learned_algorithms:\n",
    "    perf_stats_all = backtest_stats(account_value=algo.df_account_value)\n",
    "    algo.perf_stats_all = pd.DataFrame(perf_stats_all)"
   ],
   "metadata": {
    "collapsed": false
   }
  },
  {
   "cell_type": "code",
   "execution_count": 12,
   "outputs": [],
   "source": [
    "def print_learned_algo(algos: List[LearnedAlgorithm]):\n",
    "    for i in algos:\n",
    "        try:\n",
    "            print(i.perf_stats_all.loc[metric][0])\n",
    "        except Exception as e:\n",
    "            print(f\"{e}\")\n",
    "\n",
    "\n",
    "print_learned_algo(learned_algorithms)"
   ],
   "metadata": {
    "collapsed": false
   }
  },
  {
   "cell_type": "code",
   "execution_count": 13,
   "outputs": [],
   "source": [
    "sorted_list = sorted(learned_algorithms, key=lambda x: x.perf_stats_all.loc[metric][0])"
   ],
   "metadata": {
    "collapsed": false
   }
  },
  {
   "cell_type": "code",
   "execution_count": 14,
   "outputs": [
    {
     "ename": "IndexError",
     "evalue": "list index out of range",
     "output_type": "error",
     "traceback": [
      "\u001B[0;31m---------------------------------------------------------------------------\u001B[0m",
      "\u001B[0;31mIndexError\u001B[0m                                Traceback (most recent call last)",
      "Cell \u001B[0;32mIn[14], line 12\u001B[0m\n\u001B[1;32m      8\u001B[0m \u001B[38;5;28;01mdef\u001B[39;00m \u001B[38;5;21mget_annual_return\u001B[39m(algo: LearnedAlgorithm):\n\u001B[1;32m      9\u001B[0m     \u001B[38;5;28;01mreturn\u001B[39;00m algo\u001B[38;5;241m.\u001B[39mperf_stats_all\u001B[38;5;241m.\u001B[39mloc[metric][\u001B[38;5;241m0\u001B[39m]\n\u001B[0;32m---> 12\u001B[0m \u001B[38;5;28mprint\u001B[39m(\u001B[38;5;124mf\u001B[39m\u001B[38;5;124m\"\u001B[39m\u001B[38;5;132;01m{\u001B[39;00mget_annual_return(\u001B[43msorted_list\u001B[49m\u001B[43m[\u001B[49m\u001B[43mbest_idx\u001B[49m\u001B[43m]\u001B[49m)\u001B[38;5;132;01m}\u001B[39;00m\u001B[38;5;124m:  \u001B[39m\u001B[38;5;132;01m{\u001B[39;00msorted_list[best_idx]\u001B[38;5;241m.\u001B[39mfilename\u001B[38;5;241m.\u001B[39mname\u001B[38;5;132;01m}\u001B[39;00m\u001B[38;5;124m\"\u001B[39m)\n\u001B[1;32m     13\u001B[0m \u001B[38;5;28mprint\u001B[39m(\u001B[38;5;124mf\u001B[39m\u001B[38;5;124m\"\u001B[39m\u001B[38;5;132;01m{\u001B[39;00mget_annual_return(sorted_list[worst_idk])\u001B[38;5;132;01m}\u001B[39;00m\u001B[38;5;124m:  \u001B[39m\u001B[38;5;132;01m{\u001B[39;00msorted_list[worst_idk]\u001B[38;5;241m.\u001B[39mfilename\u001B[38;5;241m.\u001B[39mname\u001B[38;5;132;01m}\u001B[39;00m\u001B[38;5;124m\"\u001B[39m)\n",
      "\u001B[0;31mIndexError\u001B[0m: list index out of range"
     ]
    }
   ],
   "source": [
    "# print_learned_algo(sorted_list)\n",
    "# print(f\"{sorted_list[len(sorted_list)].filename}\")\n",
    "\n",
    "best_idx = len(sorted_list) - 1\n",
    "worst_idk = 0\n",
    "\n",
    "\n",
    "def get_annual_return(algo: LearnedAlgorithm):\n",
    "    return algo.perf_stats_all.loc[metric][0]\n",
    "\n",
    "\n",
    "print(f\"{get_annual_return(sorted_list[best_idx])}:  {sorted_list[best_idx].filename.name}\")\n",
    "print(f\"{get_annual_return(sorted_list[worst_idk])}:  {sorted_list[worst_idk].filename.name}\")"
   ],
   "metadata": {
    "collapsed": false
   }
  },
  {
   "cell_type": "code",
   "execution_count": null,
   "outputs": [],
   "source": [
    "stats = backtest_stats(sorted_list[best_idx].df_account_value)\n",
    "stats"
   ],
   "metadata": {
    "collapsed": false
   }
  },
  {
   "cell_type": "code",
   "execution_count": null,
   "outputs": [],
   "source": [
    "start = program.dataset[\"date\"].min()\n",
    "end = program.dataset[\"date\"].max()\n",
    "print(f\"Start: {start}  -  End: {end}\")"
   ],
   "metadata": {
    "collapsed": false
   }
  },
  {
   "cell_type": "code",
   "execution_count": null,
   "outputs": [],
   "source": [
    "# Baseline\n",
    "baseline_df = get_baseline(\"^DJI\", start, end)"
   ],
   "metadata": {
    "collapsed": false
   }
  },
  {
   "cell_type": "code",
   "execution_count": null,
   "outputs": [],
   "source": [
    "baseline_df"
   ],
   "metadata": {
    "collapsed": false
   }
  },
  {
   "cell_type": "code",
   "execution_count": null,
   "outputs": [],
   "source": [
    "print(baseline_df.index.min())\n",
    "print(baseline_df.index.max())"
   ],
   "metadata": {
    "collapsed": false
   }
  },
  {
   "cell_type": "code",
   "execution_count": null,
   "outputs": [],
   "source": [
    "stats = backtest_stats(baseline_df, value_col_name=\"close\")\n",
    "\n",
    "stats"
   ],
   "metadata": {
    "collapsed": false
   }
  },
  {
   "cell_type": "code",
   "execution_count": null,
   "outputs": [],
   "source": [
    "%matplotlib inline\n",
    "import matplotlib.pyplot as plt\n",
    "\n",
    "plt.rcParams[\"figure.figsize\"] = (10, 6)\n",
    "backtest_plot(baseline_df, value_col_name=\"close\")"
   ],
   "metadata": {
    "collapsed": false
   }
  },
  {
   "cell_type": "code",
   "execution_count": null,
   "outputs": [],
   "source": [],
   "metadata": {
    "collapsed": false
   }
  }
 ],
 "metadata": {
  "colab": {
   "collapsed_sections": [
    "_gDkU-j-fCmZ",
    "MRiOtrywfAo1",
    "3Zpv4S0-fDBv",
    "Dr49PotrfG01"
   ],
   "name": "Stock_Fundamental.ipynb",
   "provenance": []
  },
  "gpuClass": "standard",
  "kernelspec": {
   "display_name": "Python 3.10.8 ('venv3.10': venv)",
   "language": "python",
   "name": "python3"
  },
  "language_info": {
   "codemirror_mode": {
    "name": "ipython",
    "version": 3
   },
   "file_extension": ".py",
   "mimetype": "text/x-python",
   "name": "python",
   "nbconvert_exporter": "python",
   "pygments_lexer": "ipython3",
   "version": "3.10.8"
  },
  "vscode": {
   "interpreter": {
    "hash": "32c0c8ab8a6b580687c5ec847b855eb3ee7063ee446f183d34922604f3e580fd"
   }
  }
 },
 "nbformat": 4,
 "nbformat_minor": 0
}
