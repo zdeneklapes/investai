{
 "cells": [
  {
   "cell_type": "code",
   "execution_count": 1,
   "outputs": [
    {
     "name": "stderr",
     "output_type": "stream",
     "text": [
      "/Users/zlapik/my-drive-zlapik/0-todo/ai-investing/venv3.10/lib/python3.10/site-packages/pyfolio/pos.py:26: UserWarning: Module \"zipline.assets\" not found; multipliers will not be applied to position notionals.\n",
      "  warnings.warn(\n"
     ]
    }
   ],
   "source": [
    "##\n",
    "import sys\n",
    "import os\n",
    "import pickle\n",
    "import sys\n",
    "import warnings\n",
    "import enum\n",
    "from enum import Enum\n",
    "from typing import Optional, List, Dict, Callable\n",
    "\n",
    "##\n",
    "import matplotlib\n",
    "from pathlib import Path\n",
    "\n",
    "##\n",
    "sys.path.append(\"./src/\")\n",
    "sys.path.append(\"./\")\n",
    "sys.path.append(\"../\")\n",
    "sys.path.append(\"../../\")\n",
    "sys.path.append(\"../../../\")\n",
    "\n",
    "##\n",
    "from finrl import config as finrl_config\n",
    "from finrl.main import check_and_make_directories\n",
    "from finrl.config_tickers import DOW_30_TICKER\n",
    "from finrl.meta.preprocessor.preprocessors import FeatureEngineer\n",
    "from finrl.config import (\n",
    "    TEST_END_DATE,\n",
    "    TRAINED_MODEL_DIR,\n",
    ")\n",
    "from finrl.meta.preprocessor.preprocessors import data_split\n",
    "from finrl.plot import backtest_stats, convert_daily_return_to_pyfolio_ts, get_baseline\n",
    "\n",
    "##\n",
    "import yfinance as yf\n",
    "\n",
    "##\n",
    "from meta.data_processors.yahoofinance import Yahoofinance"
   ],
   "metadata": {
    "collapsed": false
   }
  },
  {
   "cell_type": "code",
   "execution_count": 2,
   "outputs": [],
   "source": [
    "def config():\n",
    "    # #\n",
    "    warnings.filterwarnings(\"ignore\", category=UserWarning)  # TODO: zipline problem\n",
    "    warnings.filterwarnings(\"ignore\", category=DeprecationWarning)\n",
    "    warnings.filterwarnings(\"ignore\", category=FutureWarning)\n",
    "    warnings.filterwarnings(\"ignore\", category=RuntimeWarning)\n",
    "    # os.environ['TF_CPP_MIN_LOG_LEVEL'] = '2'  # INFO, WARN are ignored and only ERROR messages will be printed\n",
    "\n",
    "    # #\n",
    "    matplotlib.use(\"Agg\")\n",
    "\n",
    "    # #\n",
    "    check_and_make_directories(\n",
    "        [\n",
    "            finrl_config.DATA_SAVE_DIR,\n",
    "            finrl_config.TRAINED_MODEL_DIR,\n",
    "            finrl_config.TENSORBOARD_LOG_DIR,\n",
    "            finrl_config.RESULTS_DIR,\n",
    "        ]\n",
    "    )\n",
    "\n",
    "\n",
    "config()"
   ],
   "metadata": {
    "collapsed": false
   }
  },
  {
   "cell_type": "code",
   "execution_count": 3,
   "outputs": [],
   "source": [
    "##\n",
    "import pandas as pd\n",
    "import tqdm\n",
    "from dotenv import load_dotenv\n",
    "import financedatabase as fd\n",
    "import fundamentalanalysis as fa\n",
    "\n",
    "##\n",
    "from common.utils import now_time\n",
    "from configuration.settings import ProjectDir\n",
    "from rl.data.Company import Company"
   ],
   "metadata": {
    "collapsed": false
   }
  },
  {
   "cell_type": "code",
   "execution_count": 4,
   "outputs": [],
   "source": [
    "prj_dir = ProjectDir(root=Path(\"/Users/zlapik/my-drive-zlapik/0-todo/ai-investing\"))\n",
    "load_dotenv(prj_dir.root.joinpath(\"env/.env\"))\n",
    "\n",
    "_TRAIN_DATA_START = \"2010-01-01\"\n",
    "_TRAIN_DATA_END = \"2021-12-31\"\n",
    "_TEST_DATA_START = \"2021-01-01\"\n",
    "_TEST_DATA_END = \"2021-12-31\"\n",
    "tickers = DOW_30_TICKER"
   ],
   "metadata": {
    "collapsed": false
   }
  },
  {
   "cell_type": "code",
   "execution_count": 5,
   "outputs": [
    {
     "name": "stdout",
     "output_type": "stream",
     "text": [
      "639b4cc5af44e7.93519913\n",
      "B9p3RKb-K6xWwBRLso7Z\n",
      "G21Y7NB8U8VJFFIH\n",
      "6b0006554aa86e3e21493713af2af3c4\n"
     ]
    }
   ],
   "source": [
    "try:\n",
    "    print(os.getenv(\"EOD_HISTORICAL_DATA_API\"))\n",
    "    print(os.getenv(\"NASDAQ_HISTORICAL_DATA_API\"))\n",
    "    print(os.getenv(\"ALPHA_VANTAGE_API\"))\n",
    "    print(os.getenv(\"FINANCIAL_MODELING_PREP_API\"))\n",
    "except:\n",
    "    raise ValueError(\"ERROR: API keys\")"
   ],
   "metadata": {
    "collapsed": false
   }
  },
  {
   "cell_type": "markdown",
   "source": [
    "\n",
    "## Financial Database\n"
   ],
   "metadata": {
    "collapsed": false
   }
  },
  {
   "cell_type": "code",
   "execution_count": 6,
   "outputs": [],
   "source": [
    "# Obtain all countries from the database\n",
    "equities_countries = fd.show_options(\"equities\", \"countries\")\n",
    "\n",
    "# Obtain all sectors from the database\n",
    "equities_sectors = fd.show_options(\"equities\", \"sectors\")\n",
    "\n",
    "# Obtain all industries from the database\n",
    "equities_industries = fd.show_options(\"equities\", \"industries\")\n",
    "\n",
    "# Obtain all countries + sectors + industries from the database\n",
    "equities_all_categories = fd.show_options(\"equities\")"
   ],
   "metadata": {
    "collapsed": false
   }
  },
  {
   "cell_type": "code",
   "execution_count": 7,
   "outputs": [
    {
     "name": "stdout",
     "output_type": "stream",
     "text": [
      "['Afghanistan', 'Anguilla', 'Argentina', 'Australia', 'Austria', 'Azerbaijan', 'Bahamas', 'Bangladesh', 'Barbados', 'Belgium', 'Belize', 'Bermuda', 'Botswana', 'Brazil', 'British Virgin Islands', 'Cambodia', 'Canada', 'Cayman Islands', 'Chile', 'China', 'Colombia', 'Costa Rica', 'Cyprus', 'Czech Republic', 'Denmark', 'Dominican Republic', 'Egypt', 'Estonia', 'Falkland Islands', 'Finland', 'France', 'French Guiana', 'Gabon', 'Georgia', 'Germany', 'Ghana', 'Gibraltar', 'Greece', 'Greenland', 'Guernsey', 'Hong Kong', 'Hungary', 'Iceland', 'India', 'Indonesia', 'Ireland', 'Isle of Man', 'Israel', 'Italy', 'Ivory Coast', 'Japan', 'Jersey', 'Jordan', 'Kazakhstan', 'Kyrgyzstan', 'Latvia', 'Liechtenstein', 'Lithuania', 'Luxembourg', 'Macau', 'Macedonia', 'Malaysia', 'Malta', 'Mauritius', 'Mexico', 'Monaco', 'Mongolia', 'Montenegro', 'Morocco', 'Mozambique', 'Myanmar', 'Namibia', 'Netherlands', 'Netherlands Antilles', 'New Zealand', 'Nigeria', 'Norway', 'Panama', 'Papua New Guinea', 'Peru', 'Philippines', 'Poland', 'Portugal', 'Qatar', 'Reunion', 'Romania', 'Russia', 'Saudi Arabia', 'Senegal', 'Singapore', 'Slovakia', 'Slovenia', 'South Africa', 'South Korea', 'Spain', 'Suriname', 'Sweden', 'Switzerland', 'Taiwan', 'Tanzania', 'Thailand', 'Turkey', 'Ukraine', 'United Arab Emirates', 'United Kingdom', 'United States', 'Uruguay', 'Vietnam', 'Zambia']\n",
      "\n",
      "['', 'Basic Materials', 'Communication Services', 'Conglomerates', 'Consumer Cyclical', 'Consumer Defensive', 'Consumer Goods', 'Energy', 'Financial', 'Financial Services', 'Healthcare', 'Industrial Goods', 'Industrials', 'Real Estate', 'Services', 'Technology', 'Utilities']\n",
      "\n",
      "['', 'Advertising Agencies', 'Aerospace & Defense', 'Aerospace Defense - Major Diversified', 'Aerospace Defense Products & Services', 'Agricultural Chemicals', 'Agricultural Inputs', 'Air Delivery & Freight Services', 'Airlines', 'Airports & Air Services', 'Aluminum', 'Apparel Manufacturing', 'Apparel Retail', 'Apparel Stores', 'Asset Management', 'Auto & Truck Dealerships', 'Auto Dealerships', 'Auto Manufacturers', 'Auto Manufacturers - Major', 'Auto Parts', 'Banks - Diversified', 'Banks - Regional', 'Beverages - Brewers', 'Beverages - Non-Alcoholic', 'Beverages - Soft Drinks', 'Beverages - Wineries & Distilleries', 'Beverages - Wineries & Distillers', 'Biotechnology', 'Broadcasting', 'Broadcasting - TV', 'Building Materials', 'Building Products & Equipment', 'Business Equipment', 'Business Equipment & Supplies', 'Business Services', 'Business Software & Services', 'Capital Markets', 'Chemicals', 'Chemicals - Major Diversified', 'Cigarettes', 'Closed-End Fund - Equity', 'Coking Coal', 'Communication Equipment', 'Computer Based Systems', 'Computer Hardware', 'Confectioners', 'Conglomerates', 'Consulting Services', 'Consumer Electronics', 'Copper', 'Credit Services', 'Department Stores', 'Diagnostics & Research', 'Discount Stores', 'Discount, Variety Stores', 'Diversified Computer Systems', 'Diversified Electronics', 'Diversified Investments', 'Diversified Machinery', 'Diversified Utilities', 'Drug Manufacturers - General', 'Drug Manufacturers - Major', 'Drug Manufacturers - Other', 'Drug Manufacturers - Specialty & Generic', 'Drugs - Generic', 'Education & Training Services', 'Electric Utilities', 'Electrical Equipment & Parts', 'Electronic Components', 'Electronic Equipment', 'Electronic Gaming & Multimedia', 'Electronics & Computer Distribution', 'Electronics Wholesale', 'Engineering & Construction', 'Entertainment', 'Entertainment - Diversified', 'Farm & Construction Machinery', 'Farm & Heavy Construction Machinery', 'Farm Products', 'Financial Conglomerates', 'Financial Data & Stock Exchanges', 'Food - Major Diversified', 'Food Distribution', 'Food Wholesale', 'Footwear & Accessories', 'Furnishings, Fixtures & Appliances', 'Gambling', 'Gaming Activities', 'General Building Materials', 'General Contractors', 'Gold', 'Grocery Stores', 'Health Care Plans', 'Health Information Services', 'Healthcare Information Services', 'Healthcare Plans', 'Heavy Construction', 'Home Furnishings & Fixtures', 'Home Improvement Retail', 'Hospitals', 'Household & Personal Products', 'Independent Oil & Gas', 'Industrial Distribution', 'Industrial Equipment Wholesale', 'Industrial Metals & Minerals', 'Information Technology Services', 'Infrastructure Operations', 'Insurance - Diversified', 'Insurance - Life', 'Insurance - Property & Casualty', 'Insurance - Reinsurance', 'Insurance - Specialty', 'Insurance Brokers', 'Integrated Freight & Logistics', 'Internet Content & Information', 'Internet Information Providers', 'Internet Retail', 'Internet Service Providers', 'Internet Software & Services', 'Investment Brokerage - National', 'Jewelry Stores', 'Leisure', 'Life Insurance', 'Lodging', 'Long Distance Carriers', 'Lumber & Wood Production', 'Lumber, Wood Production', 'Luxury Goods', 'Machine Tools & Accessories', 'Major Airlines', 'Major Integrated Oil & Gas', 'Marine Shipping', 'Marketing Services', 'Medical Appliances & Equipment', 'Medical Care Facilities', 'Medical Devices', 'Medical Distribution', 'Medical Instruments & Supplies', 'Medical Laboratories & Research', 'Metal Fabrication', 'Money Center Banks', 'Mortgage Finance', 'Mortgage Investment', 'Multimedia & Graphics Software', 'Networking & Communication Devices', 'Nonmetallic Mineral Mining', 'Oil & Gas Drilling', 'Oil & Gas Drilling & Exploration', 'Oil & Gas E&P', 'Oil & Gas Equipment & Services', 'Oil & Gas Integrated', 'Oil & Gas Midstream', 'Oil & Gas Pipelines', 'Oil & Gas Refining & Marketing', 'Other Industrial Metals & Mining', 'Other Precious Metals & Mining', 'Packaged Foods', 'Packaging & Containers', 'Paper & Paper Products', 'Personal Products', 'Personal Services', 'Pharmaceutical Retailers', 'Pollution & Treatment Controls', 'Printed Circuit Boards', 'Processed & Packaged Goods', 'Property & Casualty Insurance', 'Property Management', 'Publishing', 'Publishing - Newspapers', 'REIT - Diversified', 'REIT - Healthcare Facilities', 'REIT - Hotel & Motel', 'REIT - Industrial', 'REIT - Mortgage', 'REIT - Office', 'REIT - Residential', 'REIT - Retail', 'REIT - Specialty', 'Railroads', 'Real Estate - Development', 'Real Estate - Diversified', 'Real Estate Development', 'Real Estate Services', 'Recreational Goods, Other', 'Recreational Vehicles', 'Regional - Mid-Atlantic Banks', 'Rental & Leasing Services', 'Research Services', 'Residential Construction', 'Resorts & Casinos', 'Restaurants', 'Rubber & Plastics', 'Scientific & Technical Instruments', 'Security & Protection Services', 'Security Software & Services', 'Semiconductor - Broad Line', 'Semiconductor Equipment & Materials', 'Semiconductor- Memory Chips', 'Semiconductors', 'Shell Companies', 'Shipping', 'Silver', 'Software - Application', 'Software - Infrastructure', 'Solar', 'Specialized Health Services', 'Specialty Business Services', 'Specialty Chemicals', 'Specialty Industrial Machinery', 'Specialty Retail', 'Specialty Retail, Other', 'Staffing & Employment Services', 'Staffing & Outsourcing Services', 'Steel', 'Steel & Iron', 'Technical & System Software', 'Telecom Services', 'Textile - Apparel Clothing', 'Textile - Apparel Footwear & Accessories', 'Textile Industrial', 'Textile Manufacturing', 'Thermal Coal', 'Tobacco', 'Tobacco Products, Other', 'Tools & Accessories', 'Travel Services', 'Trucking', 'Trucks & Other Vehicles', 'Uranium', 'Utilities - Diversified', 'Utilities - Independent Power Producers', 'Utilities - Regulated Electric', 'Utilities - Regulated Gas', 'Utilities - Regulated Water', 'Utilities - Renewable', 'Waste Management', 'Water Utilities', 'Wireless Communications']\n",
      "\n",
      "{'countries': ['Afghanistan', 'Anguilla', 'Argentina', 'Australia', 'Austria', 'Azerbaijan', 'Bahamas', 'Bangladesh', 'Barbados', 'Belgium', 'Belize', 'Bermuda', 'Botswana', 'Brazil', 'British Virgin Islands', 'Cambodia', 'Canada', 'Cayman Islands', 'Chile', 'China', 'Colombia', 'Costa Rica', 'Cyprus', 'Czech Republic', 'Denmark', 'Dominican Republic', 'Egypt', 'Estonia', 'Falkland Islands', 'Finland', 'France', 'French Guiana', 'Gabon', 'Georgia', 'Germany', 'Ghana', 'Gibraltar', 'Greece', 'Greenland', 'Guernsey', 'Hong Kong', 'Hungary', 'Iceland', 'India', 'Indonesia', 'Ireland', 'Isle of Man', 'Israel', 'Italy', 'Ivory Coast', 'Japan', 'Jersey', 'Jordan', 'Kazakhstan', 'Kyrgyzstan', 'Latvia', 'Liechtenstein', 'Lithuania', 'Luxembourg', 'Macau', 'Macedonia', 'Malaysia', 'Malta', 'Mauritius', 'Mexico', 'Monaco', 'Mongolia', 'Montenegro', 'Morocco', 'Mozambique', 'Myanmar', 'Namibia', 'Netherlands', 'Netherlands Antilles', 'New Zealand', 'Nigeria', 'Norway', 'Panama', 'Papua New Guinea', 'Peru', 'Philippines', 'Poland', 'Portugal', 'Qatar', 'Reunion', 'Romania', 'Russia', 'Saudi Arabia', 'Senegal', 'Singapore', 'Slovakia', 'Slovenia', 'South Africa', 'South Korea', 'Spain', 'Suriname', 'Sweden', 'Switzerland', 'Taiwan', 'Tanzania', 'Thailand', 'Turkey', 'Ukraine', 'United Arab Emirates', 'United Kingdom', 'United States', 'Uruguay', 'Vietnam', 'Zambia'], 'sectors': ['', 'Basic Materials', 'Communication Services', 'Conglomerates', 'Consumer Cyclical', 'Consumer Defensive', 'Consumer Goods', 'Energy', 'Financial', 'Financial Services', 'Healthcare', 'Industrial Goods', 'Industrials', 'Real Estate', 'Services', 'Technology', 'Utilities'], 'industries': ['', 'Advertising Agencies', 'Aerospace & Defense', 'Aerospace Defense - Major Diversified', 'Aerospace Defense Products & Services', 'Agricultural Chemicals', 'Agricultural Inputs', 'Air Delivery & Freight Services', 'Airlines', 'Airports & Air Services', 'Aluminum', 'Apparel Manufacturing', 'Apparel Retail', 'Apparel Stores', 'Asset Management', 'Auto & Truck Dealerships', 'Auto Dealerships', 'Auto Manufacturers', 'Auto Manufacturers - Major', 'Auto Parts', 'Banks - Diversified', 'Banks - Regional', 'Beverages - Brewers', 'Beverages - Non-Alcoholic', 'Beverages - Soft Drinks', 'Beverages - Wineries & Distilleries', 'Beverages - Wineries & Distillers', 'Biotechnology', 'Broadcasting', 'Broadcasting - TV', 'Building Materials', 'Building Products & Equipment', 'Business Equipment', 'Business Equipment & Supplies', 'Business Services', 'Business Software & Services', 'Capital Markets', 'Chemicals', 'Chemicals - Major Diversified', 'Cigarettes', 'Closed-End Fund - Equity', 'Coking Coal', 'Communication Equipment', 'Computer Based Systems', 'Computer Hardware', 'Confectioners', 'Conglomerates', 'Consulting Services', 'Consumer Electronics', 'Copper', 'Credit Services', 'Department Stores', 'Diagnostics & Research', 'Discount Stores', 'Discount, Variety Stores', 'Diversified Computer Systems', 'Diversified Electronics', 'Diversified Investments', 'Diversified Machinery', 'Diversified Utilities', 'Drug Manufacturers - General', 'Drug Manufacturers - Major', 'Drug Manufacturers - Other', 'Drug Manufacturers - Specialty & Generic', 'Drugs - Generic', 'Education & Training Services', 'Electric Utilities', 'Electrical Equipment & Parts', 'Electronic Components', 'Electronic Equipment', 'Electronic Gaming & Multimedia', 'Electronics & Computer Distribution', 'Electronics Wholesale', 'Engineering & Construction', 'Entertainment', 'Entertainment - Diversified', 'Farm & Construction Machinery', 'Farm & Heavy Construction Machinery', 'Farm Products', 'Financial Conglomerates', 'Financial Data & Stock Exchanges', 'Food - Major Diversified', 'Food Distribution', 'Food Wholesale', 'Footwear & Accessories', 'Furnishings, Fixtures & Appliances', 'Gambling', 'Gaming Activities', 'General Building Materials', 'General Contractors', 'Gold', 'Grocery Stores', 'Health Care Plans', 'Health Information Services', 'Healthcare Information Services', 'Healthcare Plans', 'Heavy Construction', 'Home Furnishings & Fixtures', 'Home Improvement Retail', 'Hospitals', 'Household & Personal Products', 'Independent Oil & Gas', 'Industrial Distribution', 'Industrial Equipment Wholesale', 'Industrial Metals & Minerals', 'Information Technology Services', 'Infrastructure Operations', 'Insurance - Diversified', 'Insurance - Life', 'Insurance - Property & Casualty', 'Insurance - Reinsurance', 'Insurance - Specialty', 'Insurance Brokers', 'Integrated Freight & Logistics', 'Internet Content & Information', 'Internet Information Providers', 'Internet Retail', 'Internet Service Providers', 'Internet Software & Services', 'Investment Brokerage - National', 'Jewelry Stores', 'Leisure', 'Life Insurance', 'Lodging', 'Long Distance Carriers', 'Lumber & Wood Production', 'Lumber, Wood Production', 'Luxury Goods', 'Machine Tools & Accessories', 'Major Airlines', 'Major Integrated Oil & Gas', 'Marine Shipping', 'Marketing Services', 'Medical Appliances & Equipment', 'Medical Care Facilities', 'Medical Devices', 'Medical Distribution', 'Medical Instruments & Supplies', 'Medical Laboratories & Research', 'Metal Fabrication', 'Money Center Banks', 'Mortgage Finance', 'Mortgage Investment', 'Multimedia & Graphics Software', 'Networking & Communication Devices', 'Nonmetallic Mineral Mining', 'Oil & Gas Drilling', 'Oil & Gas Drilling & Exploration', 'Oil & Gas E&P', 'Oil & Gas Equipment & Services', 'Oil & Gas Integrated', 'Oil & Gas Midstream', 'Oil & Gas Pipelines', 'Oil & Gas Refining & Marketing', 'Other Industrial Metals & Mining', 'Other Precious Metals & Mining', 'Packaged Foods', 'Packaging & Containers', 'Paper & Paper Products', 'Personal Products', 'Personal Services', 'Pharmaceutical Retailers', 'Pollution & Treatment Controls', 'Printed Circuit Boards', 'Processed & Packaged Goods', 'Property & Casualty Insurance', 'Property Management', 'Publishing', 'Publishing - Newspapers', 'REIT - Diversified', 'REIT - Healthcare Facilities', 'REIT - Hotel & Motel', 'REIT - Industrial', 'REIT - Mortgage', 'REIT - Office', 'REIT - Residential', 'REIT - Retail', 'REIT - Specialty', 'Railroads', 'Real Estate - Development', 'Real Estate - Diversified', 'Real Estate Development', 'Real Estate Services', 'Recreational Goods, Other', 'Recreational Vehicles', 'Regional - Mid-Atlantic Banks', 'Rental & Leasing Services', 'Research Services', 'Residential Construction', 'Resorts & Casinos', 'Restaurants', 'Rubber & Plastics', 'Scientific & Technical Instruments', 'Security & Protection Services', 'Security Software & Services', 'Semiconductor - Broad Line', 'Semiconductor Equipment & Materials', 'Semiconductor- Memory Chips', 'Semiconductors', 'Shell Companies', 'Shipping', 'Silver', 'Software - Application', 'Software - Infrastructure', 'Solar', 'Specialized Health Services', 'Specialty Business Services', 'Specialty Chemicals', 'Specialty Industrial Machinery', 'Specialty Retail', 'Specialty Retail, Other', 'Staffing & Employment Services', 'Staffing & Outsourcing Services', 'Steel', 'Steel & Iron', 'Technical & System Software', 'Telecom Services', 'Textile - Apparel Clothing', 'Textile - Apparel Footwear & Accessories', 'Textile Industrial', 'Textile Manufacturing', 'Thermal Coal', 'Tobacco', 'Tobacco Products, Other', 'Tools & Accessories', 'Travel Services', 'Trucking', 'Trucks & Other Vehicles', 'Uranium', 'Utilities - Diversified', 'Utilities - Independent Power Producers', 'Utilities - Regulated Electric', 'Utilities - Regulated Gas', 'Utilities - Regulated Water', 'Utilities - Renewable', 'Waste Management', 'Water Utilities', 'Wireless Communications']}\n"
     ]
    }
   ],
   "source": [
    "print(equities_countries)\n",
    "print()\n",
    "print(equities_sectors)\n",
    "print()\n",
    "print(equities_industries)\n",
    "print()\n",
    "print(equities_all_categories)"
   ],
   "metadata": {
    "collapsed": false
   }
  },
  {
   "cell_type": "markdown",
   "source": [
    "## Financial Analyses"
   ],
   "metadata": {
    "collapsed": false
   }
  },
  {
   "cell_type": "code",
   "execution_count": 8,
   "outputs": [],
   "source": [
    "ticker = \"MSFT\"\n",
    "api_key = os.getenv(\"FINANCIAL_MODELING_PREP_API\")"
   ],
   "metadata": {
    "collapsed": false
   }
  },
  {
   "cell_type": "code",
   "execution_count": 9,
   "outputs": [],
   "source": [
    "# Show the available companies\n",
    "companies = fa.available_companies(api_key)"
   ],
   "metadata": {
    "collapsed": false
   }
  },
  {
   "cell_type": "code",
   "execution_count": 10,
   "outputs": [],
   "source": [
    "# # Collect general company information\n",
    "# profile = fa.profile(ticker, api_key)\n",
    "#\n",
    "# # Collect recent company quotes\n",
    "# quotes = fa.quote(ticker, api_key)\n",
    "#\n",
    "# # Collect market cap and enterprise value\n",
    "# entreprise_value = fa.enterprise(ticker, api_key)\n",
    "#\n",
    "# # Show recommendations of Analysts\n",
    "# ratings = fa.rating(ticker, api_key)\n",
    "#\n",
    "# # Obtain DCFs over time\n",
    "# dcf_annually = fa.discounted_cash_flow(ticker, api_key, period=\"annual\")\n",
    "#\n",
    "# # Collect the Balance Sheet statements\n",
    "# balance_sheet_annually = fa.balance_sheet_statement(ticker, api_key, period=\"annual\")\n",
    "#\n",
    "# # Collect the Income Statements\n",
    "# income_statement_annually = fa.income_statement(ticker, api_key, period=\"annual\")\n",
    "#\n",
    "# # Collect the Cash Flow Statements\n",
    "# cash_flow_statement_annually = fa.cash_flow_statement(ticker, api_key, period=\"annual\")\n",
    "#\n",
    "# # Show Key Metrics\n",
    "# key_metrics_annually = fa.key_metrics(ticker, api_key, period=\"annual\")\n",
    "#\n",
    "# # Show a large set of in-depth ratios\n",
    "# financial_ratios_annually = fa.financial_ratios(ticker, api_key, period=\"annual\")\n",
    "#\n",
    "# # Show the growth of the company\n",
    "# growth_annually = fa.financial_statement_growth(ticker, api_key, period=\"annual\")\n",
    "#\n",
    "# # Download general stock data\n",
    "# stock_data = fa.stock_data(ticker, period=\"ytd\", interval=\"1d\")\n",
    "#\n",
    "# # Download detailed stock data\n",
    "# stock_data_detailed = fa.stock_data_detailed(ticker, api_key, begin=\"2000-01-01\", end=\"2020-01-01\")\n",
    "#\n",
    "# # Download dividend history\n",
    "# dividends = fa.stock_dividend(ticker, api_key, begin=\"2000-01-01\", end=\"2020-01-01\")"
   ],
   "metadata": {
    "collapsed": false
   }
  },
  {
   "cell_type": "code",
   "execution_count": 11,
   "outputs": [],
   "source": [
    "# # Obtain DCFs over time\n",
    "# dcf_quarterly = fa.discounted_cash_flow(ticker, api_key, period=\"quarter\")\n",
    "#\n",
    "# # Collect the Balance Sheet statements\n",
    "# balance_sheet_quarterly = fa.balance_sheet_statement(ticker, api_key, period=\"quarter\")\n",
    "#\n",
    "# # Collect the Income Statements\n",
    "# income_statement_quarterly = fa.income_statement(ticker, api_key, period=\"quarter\")\n",
    "#\n",
    "# # Collect the Cash Flow Statements\n",
    "# cash_flow_statement_quarterly = fa.cash_flow_statement(ticker, api_key, period=\"quarter\")\n",
    "#\n",
    "# # Show Key Metrics\n",
    "# key_metrics_quarterly = fa.key_metrics(ticker, api_key, period=\"quarter\")\n",
    "#\n",
    "# # Show a large set of in-depth ratios\n",
    "# financial_ratios_quarterly = fa.financial_ratios(ticker, api_key, period=\"quarter\")\n",
    "#\n",
    "# # Show the growth of the company\n",
    "# growth_quarterly = fa.financial_statement_growth(ticker, api_key, period=\"quarter\")"
   ],
   "metadata": {
    "collapsed": false
   }
  },
  {
   "cell_type": "code",
   "execution_count": null,
   "outputs": [
    {
     "name": "stderr",
     "output_type": "stream",
     "text": [
      "Symbol: TWCCX:  63%|██████▎   | 62/99 [04:17<01:53,  3.07s/it] ]  5s/it]"
     ]
    }
   ],
   "source": [
    "from rl.data.financial_modeling_prep import download\n",
    "import concurrent\n",
    "\n",
    "all_symbols_info = dict()\n",
    "\n",
    "end = 1000\n",
    "step = end // 10\n",
    "with concurrent.futures.ProcessPoolExecutor() as executor:\n",
    "    result = [executor.submit(download, companies.index[i : i + step - 1], api_key) for i in range(0, end, step)]\n",
    "\n",
    "    for i in concurrent.futures.as_completed(result):\n",
    "        try:\n",
    "            all_symbols_info.update(i.result())\n",
    "        except Exception as e:\n",
    "            print(e)"
   ],
   "metadata": {
    "collapsed": false,
    "pycharm": {
     "is_executing": true
    }
   }
  },
  {
   "cell_type": "code",
   "execution_count": null,
   "outputs": [],
   "source": [
    "all_symbols_info.__len__()"
   ],
   "metadata": {
    "collapsed": false
   }
  },
  {
   "cell_type": "code",
   "execution_count": 50,
   "outputs": [
    {
     "name": "stdout",
     "output_type": "stream",
     "text": [
      "FBSOX\n",
      "SRIW.L\n",
      "ROCL\n",
      "C4S.PA\n",
      "0P00017UWV.L\n",
      "WLCTX\n",
      "MGLO\n",
      "ELCR\n",
      "MDGP\n",
      "MNNFF\n",
      "FIUIX\n",
      "MDNDF\n",
      "WGES.F\n",
      "FMBIX\n",
      "AILCX\n",
      "IDS.L\n",
      "HKTTY\n",
      "RFACR\n",
      "MNNDF\n",
      "SBWFF\n",
      "SGAS.DE\n",
      "EQL\n",
      "EXV2.DE\n",
      "CIPNX\n",
      "IE000QF66PE6.SG\n",
      "MEVOX\n",
      "SFOSF\n",
      "UIM3.DE\n",
      "VIGB.DE\n",
      "JPNE.F\n",
      "226380.KS\n",
      "251340.KS\n",
      "3IINFOTECH.BO\n",
      "AIR3.L\n",
      "URHG\n",
      "BRTE\n",
      "1944.T\n",
      "CHAM\n",
      "287310.KS\n",
      "EMV.L\n",
      "JRDM.L\n",
      "IDVY.L\n",
      "GCBLX\n",
      "FSA.AX\n",
      "ULST\n",
      "XS2427363895.SG\n",
      "HSWO.L\n",
      "MBIC\n",
      "MAKSF\n",
      "SAWLF\n",
      "ORPH.IR\n",
      "AMFFX\n",
      "UINC.L\n",
      "2402.TW\n",
      "DRLL\n",
      "105190.KS\n",
      "CGMBF\n",
      "MAGT.TO\n",
      "MIMSX\n",
      "MCIIX\n",
      "ARTG.V\n",
      "INKP.JK\n",
      "WTED.DE\n",
      "QGIAX\n",
      "CFGW\n",
      "AQX.L\n",
      "QVCC\n",
      "ERV2.F\n",
      "GLYC\n",
      "GCLE.L\n",
      "XIN9.FGI\n",
      "XHYC\n",
      "600818.SS\n",
      "001515.KS\n",
      "1702.TW\n",
      "227550.KS\n",
      "ELMFF\n",
      "NRUC\n",
      "TPSRF\n",
      "0URM.L\n",
      "VBTLX\n",
      "DBXR.DE\n",
      "EFEP.L\n",
      "IARGF\n",
      "4335.HK\n",
      "2031.TW\n",
      "IJH\n",
      "SGEA.L\n",
      "TPIS3.SA\n",
      "DBGR\n"
     ]
    }
   ],
   "source": [
    "for k, v in all_symbols_info.items():\n",
    "    print(k)"
   ],
   "metadata": {
    "collapsed": false
   }
  },
  {
   "cell_type": "code",
   "execution_count": 43,
   "outputs": [
    {
     "data": {
      "text/plain": "PosixPath('/Users/zlapik/my-drive-zlapik/0-todo/ai-investing/dataset/financialmodelingprep/all_companies_info_till_2022-12-16T01-06-20.pkl')"
     },
     "execution_count": 43,
     "metadata": {},
     "output_type": "execute_result"
    }
   ],
   "source": [
    "filename = prj_dir.dataset.financial_modeling_prep.joinpath(f\"all_companies_info_till_{now_time()}.pkl\")\n",
    "filename"
   ],
   "metadata": {
    "collapsed": false
   }
  },
  {
   "cell_type": "code",
   "execution_count": 44,
   "outputs": [],
   "source": [
    "# Save\n",
    "with open(file=filename, mode=\"wb\") as f:\n",
    "    pickle.dump(all_symbols_info, f)"
   ],
   "metadata": {
    "collapsed": false
   }
  },
  {
   "cell_type": "code",
   "execution_count": 47,
   "outputs": [
    {
     "data": {
      "text/plain": "360"
     },
     "execution_count": 47,
     "metadata": {},
     "output_type": "execute_result"
    }
   ],
   "source": [
    "# Load\n",
    "with open(filename, mode=\"rb\") as f:\n",
    "    all_companies: Dict[str, Company] = pickle.load(f)\n",
    "\n",
    "sys.getsizeof(all_companies)"
   ],
   "metadata": {
    "collapsed": false
   }
  },
  {
   "cell_type": "code",
   "execution_count": 48,
   "outputs": [
    {
     "name": "stdout",
     "output_type": "stream",
     "text": [
      "ULST\n",
      "AVUV\n",
      "287310.KS\n",
      "EMV.L\n",
      "JRDM.L\n",
      "IDVY.L\n",
      "1944.T\n",
      "CHAM\n",
      "GCBLX\n",
      "FSA.AX\n"
     ]
    }
   ],
   "source": [
    "for k, v in all_companies.items():\n",
    "    print(k)"
   ],
   "metadata": {
    "collapsed": false
   }
  },
  {
   "cell_type": "code",
   "execution_count": null,
   "outputs": [],
   "source": [],
   "metadata": {
    "collapsed": false
   }
  }
 ],
 "metadata": {
  "colab": {
   "collapsed_sections": [
    "_gDkU-j-fCmZ",
    "MRiOtrywfAo1",
    "3Zpv4S0-fDBv",
    "Dr49PotrfG01"
   ],
   "name": "Stock_Fundamental.ipynb",
   "provenance": []
  },
  "gpuClass": "standard",
  "kernelspec": {
   "display_name": "Python 3.10.8 ('venv3.10': venv)",
   "language": "python",
   "name": "python3"
  },
  "language_info": {
   "codemirror_mode": {
    "name": "ipython",
    "version": 3
   },
   "file_extension": ".py",
   "mimetype": "text/x-python",
   "name": "python",
   "nbconvert_exporter": "python",
   "pygments_lexer": "ipython3",
   "version": "3.10.8"
  },
  "vscode": {
   "interpreter": {
    "hash": "32c0c8ab8a6b580687c5ec847b855eb3ee7063ee446f183d34922604f3e580fd"
   }
  }
 },
 "nbformat": 4,
 "nbformat_minor": 0
}
