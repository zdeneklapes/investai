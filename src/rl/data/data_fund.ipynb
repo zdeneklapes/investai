{
 "cells": [
  {
   "cell_type": "code",
   "execution_count": 1,
   "outputs": [
    {
     "name": "stderr",
     "output_type": "stream",
     "text": [
      "/Users/zlapik/my-drive-zlapik/0-todo/ai-investing/venv3.10/lib/python3.10/site-packages/pyfolio/pos.py:26: UserWarning: Module \"zipline.assets\" not found; multipliers will not be applied to position notionals.\n",
      "  warnings.warn(\n"
     ]
    }
   ],
   "source": [
    "##\n",
    "import sys\n",
    "import os\n",
    "import pickle\n",
    "import sys\n",
    "import warnings\n",
    "import enum\n",
    "from enum import Enum\n",
    "from typing import Optional, List, Dict, Callable\n",
    "\n",
    "##\n",
    "import matplotlib\n",
    "from pathlib import Path\n",
    "\n",
    "##\n",
    "sys.path.append(\"./src/\")\n",
    "sys.path.append(\"./\")\n",
    "sys.path.append(\"../\")\n",
    "sys.path.append(\"../../\")\n",
    "sys.path.append(\"../../../\")\n",
    "\n",
    "##\n",
    "from finrl import config as finrl_config\n",
    "from finrl.main import check_and_make_directories\n",
    "from finrl.config_tickers import DOW_30_TICKER\n",
    "from finrl.meta.preprocessor.preprocessors import FeatureEngineer\n",
    "from finrl.config import (\n",
    "    TEST_END_DATE,\n",
    "    TRAINED_MODEL_DIR,\n",
    ")\n",
    "from finrl.meta.preprocessor.preprocessors import data_split\n",
    "from finrl.plot import backtest_stats, convert_daily_return_to_pyfolio_ts, get_baseline\n",
    "\n",
    "##\n",
    "import yfinance as yf\n",
    "\n",
    "##\n",
    "from meta.data_processors.yahoofinance import Yahoofinance"
   ],
   "metadata": {
    "collapsed": false
   }
  },
  {
   "cell_type": "code",
   "execution_count": 2,
   "outputs": [],
   "source": [
    "def config():\n",
    "    # #\n",
    "    warnings.filterwarnings(\"ignore\", category=UserWarning)  # TODO: zipline problem\n",
    "    warnings.filterwarnings(\"ignore\", category=DeprecationWarning)\n",
    "    warnings.filterwarnings(\"ignore\", category=FutureWarning)\n",
    "    warnings.filterwarnings(\"ignore\", category=RuntimeWarning)\n",
    "    # os.environ['TF_CPP_MIN_LOG_LEVEL'] = '2'  # INFO, WARN are ignored and only ERROR messages will be printed\n",
    "\n",
    "    # #\n",
    "    matplotlib.use(\"Agg\")\n",
    "\n",
    "    # #\n",
    "    check_and_make_directories(\n",
    "        [\n",
    "            finrl_config.DATA_SAVE_DIR,\n",
    "            finrl_config.TRAINED_MODEL_DIR,\n",
    "            finrl_config.TENSORBOARD_LOG_DIR,\n",
    "            finrl_config.RESULTS_DIR,\n",
    "        ]\n",
    "    )\n",
    "\n",
    "\n",
    "config()"
   ],
   "metadata": {
    "collapsed": false
   }
  },
  {
   "cell_type": "code",
   "execution_count": 3,
   "outputs": [],
   "source": [
    "##\n",
    "import pandas as pd\n",
    "import tqdm\n",
    "from dotenv import load_dotenv\n",
    "import financedatabase as fd\n",
    "import fundamentalanalysis as fa\n",
    "\n",
    "##\n",
    "from common.utils import now_time\n",
    "from configuration.settings import ProjectDir\n",
    "from rl.data.Company import Company"
   ],
   "metadata": {
    "collapsed": false
   }
  },
  {
   "cell_type": "code",
   "execution_count": 4,
   "outputs": [],
   "source": [
    "prj_dir = ProjectDir(root=Path(\"/Users/zlapik/my-drive-zlapik/0-todo/ai-investing\"))\n",
    "load_dotenv(prj_dir.root.joinpath(\"env/.env\"))\n",
    "\n",
    "_TRAIN_DATA_START = \"2010-01-01\"\n",
    "_TRAIN_DATA_END = \"2021-12-31\"\n",
    "_TEST_DATA_START = \"2021-01-01\"\n",
    "_TEST_DATA_END = \"2021-12-31\"\n",
    "tickers = DOW_30_TICKER"
   ],
   "metadata": {
    "collapsed": false
   }
  },
  {
   "cell_type": "code",
   "execution_count": 5,
   "outputs": [
    {
     "name": "stdout",
     "output_type": "stream",
     "text": [
      "639b4cc5af44e7.93519913\n",
      "B9p3RKb-K6xWwBRLso7Z\n",
      "G21Y7NB8U8VJFFIH\n",
      "6b0006554aa86e3e21493713af2af3c4\n"
     ]
    }
   ],
   "source": [
    "try:\n",
    "    print(os.getenv(\"EOD_HISTORICAL_DATA_API\"))\n",
    "    print(os.getenv(\"NASDAQ_HISTORICAL_DATA_API\"))\n",
    "    print(os.getenv(\"ALPHA_VANTAGE_API\"))\n",
    "    print(os.getenv(\"FINANCIAL_MODELING_PREP_API\"))\n",
    "except:\n",
    "    raise ValueError(\"ERROR: API keys\")"
   ],
   "metadata": {
    "collapsed": false
   }
  },
  {
   "cell_type": "markdown",
   "source": [
    "\n",
    "## Financial Database\n"
   ],
   "metadata": {
    "collapsed": false
   }
  },
  {
   "cell_type": "code",
   "execution_count": 6,
   "outputs": [],
   "source": [
    "# Obtain all countries from the database\n",
    "equities_countries = fd.show_options(\"equities\", \"countries\")\n",
    "\n",
    "# Obtain all sectors from the database\n",
    "equities_sectors = fd.show_options(\"equities\", \"sectors\")\n",
    "\n",
    "# Obtain all industries from the database\n",
    "equities_industries = fd.show_options(\"equities\", \"industries\")\n",
    "\n",
    "# Obtain all countries + sectors + industries from the database\n",
    "equities_all_categories = fd.show_options(\"equities\")"
   ],
   "metadata": {
    "collapsed": false
   }
  },
  {
   "cell_type": "code",
   "execution_count": 7,
   "outputs": [
    {
     "name": "stdout",
     "output_type": "stream",
     "text": [
      "['Afghanistan', 'Anguilla', 'Argentina', 'Australia', 'Austria', 'Azerbaijan', 'Bahamas', 'Bangladesh', 'Barbados', 'Belgium', 'Belize', 'Bermuda', 'Botswana', 'Brazil', 'British Virgin Islands', 'Cambodia', 'Canada', 'Cayman Islands', 'Chile', 'China', 'Colombia', 'Costa Rica', 'Cyprus', 'Czech Republic', 'Denmark', 'Dominican Republic', 'Egypt', 'Estonia', 'Falkland Islands', 'Finland', 'France', 'French Guiana', 'Gabon', 'Georgia', 'Germany', 'Ghana', 'Gibraltar', 'Greece', 'Greenland', 'Guernsey', 'Hong Kong', 'Hungary', 'Iceland', 'India', 'Indonesia', 'Ireland', 'Isle of Man', 'Israel', 'Italy', 'Ivory Coast', 'Japan', 'Jersey', 'Jordan', 'Kazakhstan', 'Kyrgyzstan', 'Latvia', 'Liechtenstein', 'Lithuania', 'Luxembourg', 'Macau', 'Macedonia', 'Malaysia', 'Malta', 'Mauritius', 'Mexico', 'Monaco', 'Mongolia', 'Montenegro', 'Morocco', 'Mozambique', 'Myanmar', 'Namibia', 'Netherlands', 'Netherlands Antilles', 'New Zealand', 'Nigeria', 'Norway', 'Panama', 'Papua New Guinea', 'Peru', 'Philippines', 'Poland', 'Portugal', 'Qatar', 'Reunion', 'Romania', 'Russia', 'Saudi Arabia', 'Senegal', 'Singapore', 'Slovakia', 'Slovenia', 'South Africa', 'South Korea', 'Spain', 'Suriname', 'Sweden', 'Switzerland', 'Taiwan', 'Tanzania', 'Thailand', 'Turkey', 'Ukraine', 'United Arab Emirates', 'United Kingdom', 'United States', 'Uruguay', 'Vietnam', 'Zambia']\n",
      "\n",
      "['', 'Basic Materials', 'Communication Services', 'Conglomerates', 'Consumer Cyclical', 'Consumer Defensive', 'Consumer Goods', 'Energy', 'Financial', 'Financial Services', 'Healthcare', 'Industrial Goods', 'Industrials', 'Real Estate', 'Services', 'Technology', 'Utilities']\n",
      "\n",
      "['', 'Advertising Agencies', 'Aerospace & Defense', 'Aerospace Defense - Major Diversified', 'Aerospace Defense Products & Services', 'Agricultural Chemicals', 'Agricultural Inputs', 'Air Delivery & Freight Services', 'Airlines', 'Airports & Air Services', 'Aluminum', 'Apparel Manufacturing', 'Apparel Retail', 'Apparel Stores', 'Asset Management', 'Auto & Truck Dealerships', 'Auto Dealerships', 'Auto Manufacturers', 'Auto Manufacturers - Major', 'Auto Parts', 'Banks - Diversified', 'Banks - Regional', 'Beverages - Brewers', 'Beverages - Non-Alcoholic', 'Beverages - Soft Drinks', 'Beverages - Wineries & Distilleries', 'Beverages - Wineries & Distillers', 'Biotechnology', 'Broadcasting', 'Broadcasting - TV', 'Building Materials', 'Building Products & Equipment', 'Business Equipment', 'Business Equipment & Supplies', 'Business Services', 'Business Software & Services', 'Capital Markets', 'Chemicals', 'Chemicals - Major Diversified', 'Cigarettes', 'Closed-End Fund - Equity', 'Coking Coal', 'Communication Equipment', 'Computer Based Systems', 'Computer Hardware', 'Confectioners', 'Conglomerates', 'Consulting Services', 'Consumer Electronics', 'Copper', 'Credit Services', 'Department Stores', 'Diagnostics & Research', 'Discount Stores', 'Discount, Variety Stores', 'Diversified Computer Systems', 'Diversified Electronics', 'Diversified Investments', 'Diversified Machinery', 'Diversified Utilities', 'Drug Manufacturers - General', 'Drug Manufacturers - Major', 'Drug Manufacturers - Other', 'Drug Manufacturers - Specialty & Generic', 'Drugs - Generic', 'Education & Training Services', 'Electric Utilities', 'Electrical Equipment & Parts', 'Electronic Components', 'Electronic Equipment', 'Electronic Gaming & Multimedia', 'Electronics & Computer Distribution', 'Electronics Wholesale', 'Engineering & Construction', 'Entertainment', 'Entertainment - Diversified', 'Farm & Construction Machinery', 'Farm & Heavy Construction Machinery', 'Farm Products', 'Financial Conglomerates', 'Financial Data & Stock Exchanges', 'Food - Major Diversified', 'Food Distribution', 'Food Wholesale', 'Footwear & Accessories', 'Furnishings, Fixtures & Appliances', 'Gambling', 'Gaming Activities', 'General Building Materials', 'General Contractors', 'Gold', 'Grocery Stores', 'Health Care Plans', 'Health Information Services', 'Healthcare Information Services', 'Healthcare Plans', 'Heavy Construction', 'Home Furnishings & Fixtures', 'Home Improvement Retail', 'Hospitals', 'Household & Personal Products', 'Independent Oil & Gas', 'Industrial Distribution', 'Industrial Equipment Wholesale', 'Industrial Metals & Minerals', 'Information Technology Services', 'Infrastructure Operations', 'Insurance - Diversified', 'Insurance - Life', 'Insurance - Property & Casualty', 'Insurance - Reinsurance', 'Insurance - Specialty', 'Insurance Brokers', 'Integrated Freight & Logistics', 'Internet Content & Information', 'Internet Information Providers', 'Internet Retail', 'Internet Service Providers', 'Internet Software & Services', 'Investment Brokerage - National', 'Jewelry Stores', 'Leisure', 'Life Insurance', 'Lodging', 'Long Distance Carriers', 'Lumber & Wood Production', 'Lumber, Wood Production', 'Luxury Goods', 'Machine Tools & Accessories', 'Major Airlines', 'Major Integrated Oil & Gas', 'Marine Shipping', 'Marketing Services', 'Medical Appliances & Equipment', 'Medical Care Facilities', 'Medical Devices', 'Medical Distribution', 'Medical Instruments & Supplies', 'Medical Laboratories & Research', 'Metal Fabrication', 'Money Center Banks', 'Mortgage Finance', 'Mortgage Investment', 'Multimedia & Graphics Software', 'Networking & Communication Devices', 'Nonmetallic Mineral Mining', 'Oil & Gas Drilling', 'Oil & Gas Drilling & Exploration', 'Oil & Gas E&P', 'Oil & Gas Equipment & Services', 'Oil & Gas Integrated', 'Oil & Gas Midstream', 'Oil & Gas Pipelines', 'Oil & Gas Refining & Marketing', 'Other Industrial Metals & Mining', 'Other Precious Metals & Mining', 'Packaged Foods', 'Packaging & Containers', 'Paper & Paper Products', 'Personal Products', 'Personal Services', 'Pharmaceutical Retailers', 'Pollution & Treatment Controls', 'Printed Circuit Boards', 'Processed & Packaged Goods', 'Property & Casualty Insurance', 'Property Management', 'Publishing', 'Publishing - Newspapers', 'REIT - Diversified', 'REIT - Healthcare Facilities', 'REIT - Hotel & Motel', 'REIT - Industrial', 'REIT - Mortgage', 'REIT - Office', 'REIT - Residential', 'REIT - Retail', 'REIT - Specialty', 'Railroads', 'Real Estate - Development', 'Real Estate - Diversified', 'Real Estate Development', 'Real Estate Services', 'Recreational Goods, Other', 'Recreational Vehicles', 'Regional - Mid-Atlantic Banks', 'Rental & Leasing Services', 'Research Services', 'Residential Construction', 'Resorts & Casinos', 'Restaurants', 'Rubber & Plastics', 'Scientific & Technical Instruments', 'Security & Protection Services', 'Security Software & Services', 'Semiconductor - Broad Line', 'Semiconductor Equipment & Materials', 'Semiconductor- Memory Chips', 'Semiconductors', 'Shell Companies', 'Shipping', 'Silver', 'Software - Application', 'Software - Infrastructure', 'Solar', 'Specialized Health Services', 'Specialty Business Services', 'Specialty Chemicals', 'Specialty Industrial Machinery', 'Specialty Retail', 'Specialty Retail, Other', 'Staffing & Employment Services', 'Staffing & Outsourcing Services', 'Steel', 'Steel & Iron', 'Technical & System Software', 'Telecom Services', 'Textile - Apparel Clothing', 'Textile - Apparel Footwear & Accessories', 'Textile Industrial', 'Textile Manufacturing', 'Thermal Coal', 'Tobacco', 'Tobacco Products, Other', 'Tools & Accessories', 'Travel Services', 'Trucking', 'Trucks & Other Vehicles', 'Uranium', 'Utilities - Diversified', 'Utilities - Independent Power Producers', 'Utilities - Regulated Electric', 'Utilities - Regulated Gas', 'Utilities - Regulated Water', 'Utilities - Renewable', 'Waste Management', 'Water Utilities', 'Wireless Communications']\n",
      "\n",
      "{'countries': ['Afghanistan', 'Anguilla', 'Argentina', 'Australia', 'Austria', 'Azerbaijan', 'Bahamas', 'Bangladesh', 'Barbados', 'Belgium', 'Belize', 'Bermuda', 'Botswana', 'Brazil', 'British Virgin Islands', 'Cambodia', 'Canada', 'Cayman Islands', 'Chile', 'China', 'Colombia', 'Costa Rica', 'Cyprus', 'Czech Republic', 'Denmark', 'Dominican Republic', 'Egypt', 'Estonia', 'Falkland Islands', 'Finland', 'France', 'French Guiana', 'Gabon', 'Georgia', 'Germany', 'Ghana', 'Gibraltar', 'Greece', 'Greenland', 'Guernsey', 'Hong Kong', 'Hungary', 'Iceland', 'India', 'Indonesia', 'Ireland', 'Isle of Man', 'Israel', 'Italy', 'Ivory Coast', 'Japan', 'Jersey', 'Jordan', 'Kazakhstan', 'Kyrgyzstan', 'Latvia', 'Liechtenstein', 'Lithuania', 'Luxembourg', 'Macau', 'Macedonia', 'Malaysia', 'Malta', 'Mauritius', 'Mexico', 'Monaco', 'Mongolia', 'Montenegro', 'Morocco', 'Mozambique', 'Myanmar', 'Namibia', 'Netherlands', 'Netherlands Antilles', 'New Zealand', 'Nigeria', 'Norway', 'Panama', 'Papua New Guinea', 'Peru', 'Philippines', 'Poland', 'Portugal', 'Qatar', 'Reunion', 'Romania', 'Russia', 'Saudi Arabia', 'Senegal', 'Singapore', 'Slovakia', 'Slovenia', 'South Africa', 'South Korea', 'Spain', 'Suriname', 'Sweden', 'Switzerland', 'Taiwan', 'Tanzania', 'Thailand', 'Turkey', 'Ukraine', 'United Arab Emirates', 'United Kingdom', 'United States', 'Uruguay', 'Vietnam', 'Zambia'], 'sectors': ['', 'Basic Materials', 'Communication Services', 'Conglomerates', 'Consumer Cyclical', 'Consumer Defensive', 'Consumer Goods', 'Energy', 'Financial', 'Financial Services', 'Healthcare', 'Industrial Goods', 'Industrials', 'Real Estate', 'Services', 'Technology', 'Utilities'], 'industries': ['', 'Advertising Agencies', 'Aerospace & Defense', 'Aerospace Defense - Major Diversified', 'Aerospace Defense Products & Services', 'Agricultural Chemicals', 'Agricultural Inputs', 'Air Delivery & Freight Services', 'Airlines', 'Airports & Air Services', 'Aluminum', 'Apparel Manufacturing', 'Apparel Retail', 'Apparel Stores', 'Asset Management', 'Auto & Truck Dealerships', 'Auto Dealerships', 'Auto Manufacturers', 'Auto Manufacturers - Major', 'Auto Parts', 'Banks - Diversified', 'Banks - Regional', 'Beverages - Brewers', 'Beverages - Non-Alcoholic', 'Beverages - Soft Drinks', 'Beverages - Wineries & Distilleries', 'Beverages - Wineries & Distillers', 'Biotechnology', 'Broadcasting', 'Broadcasting - TV', 'Building Materials', 'Building Products & Equipment', 'Business Equipment', 'Business Equipment & Supplies', 'Business Services', 'Business Software & Services', 'Capital Markets', 'Chemicals', 'Chemicals - Major Diversified', 'Cigarettes', 'Closed-End Fund - Equity', 'Coking Coal', 'Communication Equipment', 'Computer Based Systems', 'Computer Hardware', 'Confectioners', 'Conglomerates', 'Consulting Services', 'Consumer Electronics', 'Copper', 'Credit Services', 'Department Stores', 'Diagnostics & Research', 'Discount Stores', 'Discount, Variety Stores', 'Diversified Computer Systems', 'Diversified Electronics', 'Diversified Investments', 'Diversified Machinery', 'Diversified Utilities', 'Drug Manufacturers - General', 'Drug Manufacturers - Major', 'Drug Manufacturers - Other', 'Drug Manufacturers - Specialty & Generic', 'Drugs - Generic', 'Education & Training Services', 'Electric Utilities', 'Electrical Equipment & Parts', 'Electronic Components', 'Electronic Equipment', 'Electronic Gaming & Multimedia', 'Electronics & Computer Distribution', 'Electronics Wholesale', 'Engineering & Construction', 'Entertainment', 'Entertainment - Diversified', 'Farm & Construction Machinery', 'Farm & Heavy Construction Machinery', 'Farm Products', 'Financial Conglomerates', 'Financial Data & Stock Exchanges', 'Food - Major Diversified', 'Food Distribution', 'Food Wholesale', 'Footwear & Accessories', 'Furnishings, Fixtures & Appliances', 'Gambling', 'Gaming Activities', 'General Building Materials', 'General Contractors', 'Gold', 'Grocery Stores', 'Health Care Plans', 'Health Information Services', 'Healthcare Information Services', 'Healthcare Plans', 'Heavy Construction', 'Home Furnishings & Fixtures', 'Home Improvement Retail', 'Hospitals', 'Household & Personal Products', 'Independent Oil & Gas', 'Industrial Distribution', 'Industrial Equipment Wholesale', 'Industrial Metals & Minerals', 'Information Technology Services', 'Infrastructure Operations', 'Insurance - Diversified', 'Insurance - Life', 'Insurance - Property & Casualty', 'Insurance - Reinsurance', 'Insurance - Specialty', 'Insurance Brokers', 'Integrated Freight & Logistics', 'Internet Content & Information', 'Internet Information Providers', 'Internet Retail', 'Internet Service Providers', 'Internet Software & Services', 'Investment Brokerage - National', 'Jewelry Stores', 'Leisure', 'Life Insurance', 'Lodging', 'Long Distance Carriers', 'Lumber & Wood Production', 'Lumber, Wood Production', 'Luxury Goods', 'Machine Tools & Accessories', 'Major Airlines', 'Major Integrated Oil & Gas', 'Marine Shipping', 'Marketing Services', 'Medical Appliances & Equipment', 'Medical Care Facilities', 'Medical Devices', 'Medical Distribution', 'Medical Instruments & Supplies', 'Medical Laboratories & Research', 'Metal Fabrication', 'Money Center Banks', 'Mortgage Finance', 'Mortgage Investment', 'Multimedia & Graphics Software', 'Networking & Communication Devices', 'Nonmetallic Mineral Mining', 'Oil & Gas Drilling', 'Oil & Gas Drilling & Exploration', 'Oil & Gas E&P', 'Oil & Gas Equipment & Services', 'Oil & Gas Integrated', 'Oil & Gas Midstream', 'Oil & Gas Pipelines', 'Oil & Gas Refining & Marketing', 'Other Industrial Metals & Mining', 'Other Precious Metals & Mining', 'Packaged Foods', 'Packaging & Containers', 'Paper & Paper Products', 'Personal Products', 'Personal Services', 'Pharmaceutical Retailers', 'Pollution & Treatment Controls', 'Printed Circuit Boards', 'Processed & Packaged Goods', 'Property & Casualty Insurance', 'Property Management', 'Publishing', 'Publishing - Newspapers', 'REIT - Diversified', 'REIT - Healthcare Facilities', 'REIT - Hotel & Motel', 'REIT - Industrial', 'REIT - Mortgage', 'REIT - Office', 'REIT - Residential', 'REIT - Retail', 'REIT - Specialty', 'Railroads', 'Real Estate - Development', 'Real Estate - Diversified', 'Real Estate Development', 'Real Estate Services', 'Recreational Goods, Other', 'Recreational Vehicles', 'Regional - Mid-Atlantic Banks', 'Rental & Leasing Services', 'Research Services', 'Residential Construction', 'Resorts & Casinos', 'Restaurants', 'Rubber & Plastics', 'Scientific & Technical Instruments', 'Security & Protection Services', 'Security Software & Services', 'Semiconductor - Broad Line', 'Semiconductor Equipment & Materials', 'Semiconductor- Memory Chips', 'Semiconductors', 'Shell Companies', 'Shipping', 'Silver', 'Software - Application', 'Software - Infrastructure', 'Solar', 'Specialized Health Services', 'Specialty Business Services', 'Specialty Chemicals', 'Specialty Industrial Machinery', 'Specialty Retail', 'Specialty Retail, Other', 'Staffing & Employment Services', 'Staffing & Outsourcing Services', 'Steel', 'Steel & Iron', 'Technical & System Software', 'Telecom Services', 'Textile - Apparel Clothing', 'Textile - Apparel Footwear & Accessories', 'Textile Industrial', 'Textile Manufacturing', 'Thermal Coal', 'Tobacco', 'Tobacco Products, Other', 'Tools & Accessories', 'Travel Services', 'Trucking', 'Trucks & Other Vehicles', 'Uranium', 'Utilities - Diversified', 'Utilities - Independent Power Producers', 'Utilities - Regulated Electric', 'Utilities - Regulated Gas', 'Utilities - Regulated Water', 'Utilities - Renewable', 'Waste Management', 'Water Utilities', 'Wireless Communications']}\n"
     ]
    }
   ],
   "source": [
    "print(equities_countries)\n",
    "print()\n",
    "print(equities_sectors)\n",
    "print()\n",
    "print(equities_industries)\n",
    "print()\n",
    "print(equities_all_categories)"
   ],
   "metadata": {
    "collapsed": false
   }
  },
  {
   "cell_type": "markdown",
   "source": [
    "## Financial Analyses"
   ],
   "metadata": {
    "collapsed": false
   }
  },
  {
   "cell_type": "code",
   "execution_count": 8,
   "outputs": [],
   "source": [
    "ticker = \"MSFT\"\n",
    "api_key = os.getenv(\"FINANCIAL_MODELING_PREP_API\")"
   ],
   "metadata": {
    "collapsed": false
   }
  },
  {
   "cell_type": "code",
   "execution_count": 9,
   "outputs": [],
   "source": [
    "# Show the available companies\n",
    "companies = fa.available_companies(api_key)"
   ],
   "metadata": {
    "collapsed": false
   }
  },
  {
   "cell_type": "code",
   "execution_count": 10,
   "outputs": [],
   "source": [
    "# # Collect general company information\n",
    "# profile = fa.profile(ticker, api_key)\n",
    "#\n",
    "# # Collect recent company quotes\n",
    "# quotes = fa.quote(ticker, api_key)\n",
    "#\n",
    "# # Collect market cap and enterprise value\n",
    "# entreprise_value = fa.enterprise(ticker, api_key)\n",
    "#\n",
    "# # Show recommendations of Analysts\n",
    "# ratings = fa.rating(ticker, api_key)\n",
    "#\n",
    "# # Obtain DCFs over time\n",
    "# dcf_annually = fa.discounted_cash_flow(ticker, api_key, period=\"annual\")\n",
    "#\n",
    "# # Collect the Balance Sheet statements\n",
    "# balance_sheet_annually = fa.balance_sheet_statement(ticker, api_key, period=\"annual\")\n",
    "#\n",
    "# # Collect the Income Statements\n",
    "# income_statement_annually = fa.income_statement(ticker, api_key, period=\"annual\")\n",
    "#\n",
    "# # Collect the Cash Flow Statements\n",
    "# cash_flow_statement_annually = fa.cash_flow_statement(ticker, api_key, period=\"annual\")\n",
    "#\n",
    "# # Show Key Metrics\n",
    "# key_metrics_annually = fa.key_metrics(ticker, api_key, period=\"annual\")\n",
    "#\n",
    "# # Show a large set of in-depth ratios\n",
    "# financial_ratios_annually = fa.financial_ratios(ticker, api_key, period=\"annual\")\n",
    "#\n",
    "# # Show the growth of the company\n",
    "# growth_annually = fa.financial_statement_growth(ticker, api_key, period=\"annual\")\n",
    "#\n",
    "# # Download general stock data\n",
    "# stock_data = fa.stock_data(ticker, period=\"ytd\", interval=\"1d\")\n",
    "#\n",
    "# # Download detailed stock data\n",
    "# stock_data_detailed = fa.stock_data_detailed(ticker, api_key, begin=\"2000-01-01\", end=\"2020-01-01\")\n",
    "#\n",
    "# # Download dividend history\n",
    "# dividends = fa.stock_dividend(ticker, api_key, begin=\"2000-01-01\", end=\"2020-01-01\")"
   ],
   "metadata": {
    "collapsed": false
   }
  },
  {
   "cell_type": "code",
   "execution_count": 11,
   "outputs": [],
   "source": [
    "# # Obtain DCFs over time\n",
    "# dcf_quarterly = fa.discounted_cash_flow(ticker, api_key, period=\"quarter\")\n",
    "#\n",
    "# # Collect the Balance Sheet statements\n",
    "# balance_sheet_quarterly = fa.balance_sheet_statement(ticker, api_key, period=\"quarter\")\n",
    "#\n",
    "# # Collect the Income Statements\n",
    "# income_statement_quarterly = fa.income_statement(ticker, api_key, period=\"quarter\")\n",
    "#\n",
    "# # Collect the Cash Flow Statements\n",
    "# cash_flow_statement_quarterly = fa.cash_flow_statement(ticker, api_key, period=\"quarter\")\n",
    "#\n",
    "# # Show Key Metrics\n",
    "# key_metrics_quarterly = fa.key_metrics(ticker, api_key, period=\"quarter\")\n",
    "#\n",
    "# # Show a large set of in-depth ratios\n",
    "# financial_ratios_quarterly = fa.financial_ratios(ticker, api_key, period=\"quarter\")\n",
    "#\n",
    "# # Show the growth of the company\n",
    "# growth_quarterly = fa.financial_statement_growth(ticker, api_key, period=\"quarter\")"
   ],
   "metadata": {
    "collapsed": false
   }
  },
  {
   "cell_type": "code",
   "execution_count": 47,
   "outputs": [],
   "source": [
    "from rl.data.financial_modeling_prep import download\n",
    "import concurrent\n",
    "\n",
    "\n",
    "def download_subprocess(start: int, stop: int, step: int) -> dict:\n",
    "    all_symbols_info = dict()\n",
    "    with concurrent.futures.ProcessPoolExecutor() as executor:\n",
    "        result = [\n",
    "            executor.submit(download, companies.index[i : i + step - 1], api_key) for i in range(start, stop, step)\n",
    "        ]\n",
    "\n",
    "        for i in concurrent.futures.as_completed(result):\n",
    "            try:\n",
    "                all_symbols_info.update(i.result())\n",
    "            except Exception as e:\n",
    "                print(e)\n",
    "    return all_symbols_info"
   ],
   "metadata": {
    "collapsed": false
   }
  },
  {
   "cell_type": "code",
   "execution_count": 48,
   "outputs": [],
   "source": [
    "# filename = prj_dir.dataset.financial_modeling_prep.joinpath(f\"all_companies_info_till_{now_time()}.pkl\")\n",
    "# filename"
   ],
   "metadata": {
    "collapsed": false
   }
  },
  {
   "cell_type": "code",
   "execution_count": 2,
   "outputs": [
    {
     "name": "stdout",
     "output_type": "stream",
     "text": [
      "[(0, 99), (100, 199), (200, 299), (300, 399), (400, 499), (500, 599), (600, 699), (700, 799), (800, 899), (900, 999)]\n",
      "[(1000, 1099), (1100, 1199), (1200, 1299), (1300, 1399), (1400, 1499), (1500, 1599), (1600, 1699), (1700, 1799), (1800, 1899), (1900, 1999)]\n",
      "[(2000, 2099), (2100, 2199), (2200, 2299), (2300, 2399), (2400, 2499), (2500, 2599), (2600, 2699), (2700, 2799), (2800, 2899), (2900, 2999)]\n",
      "[(3000, 3099), (3100, 3199), (3200, 3299), (3300, 3399), (3400, 3499), (3500, 3599), (3600, 3699), (3700, 3799), (3800, 3899), (3900, 3999)]\n",
      "[(4000, 4099), (4100, 4199), (4200, 4299), (4300, 4399), (4400, 4499), (4500, 4599), (4600, 4699), (4700, 4799), (4800, 4899), (4900, 4999)]\n",
      "[(5000, 5099), (5100, 5199), (5200, 5299), (5300, 5399), (5400, 5499), (5500, 5599), (5600, 5699), (5700, 5799), (5800, 5899), (5900, 5999)]\n",
      "[(6000, 6099), (6100, 6199), (6200, 6299), (6300, 6399), (6400, 6499), (6500, 6599), (6600, 6699), (6700, 6799), (6800, 6899), (6900, 6999)]\n",
      "[(7000, 7099), (7100, 7199), (7200, 7299), (7300, 7399), (7400, 7499), (7500, 7599), (7600, 7699), (7700, 7799), (7800, 7899), (7900, 7999)]\n",
      "[(8000, 8099), (8100, 8199), (8200, 8299), (8300, 8399), (8400, 8499), (8500, 8599), (8600, 8699), (8700, 8799), (8800, 8899), (8900, 8999)]\n",
      "[(9000, 9099), (9100, 9199), (9200, 9299), (9300, 9399), (9400, 9499), (9500, 9599), (9600, 9699), (9700, 9799), (9800, 9899), (9900, 9999)]\n"
     ]
    }
   ],
   "source": [
    "last_i = 0\n",
    "start = 0\n",
    "stop = 10000  # companies.index.size\n",
    "step = 1000\n",
    "\n",
    "for i in range(start, stop, step):\n",
    "    ##\n",
    "    _start = i\n",
    "    _stop = i + step - 1\n",
    "    _step = step // 10\n",
    "    print([(i, i + _step - 1) for i in range(_start, _stop, _step)])\n",
    "    # continue\n",
    "\n",
    "    ##\n",
    "    filename = prj_dir.dataset.financial_modeling_prep.joinpath(f\"{i}_companies_{now_time()}.pkl\")\n",
    "    comps = download_subprocess(_start, _stop, _step)\n",
    "    with open(file=filename, mode=\"wb\") as f:\n",
    "        pickle.dump(comps, f)"
   ],
   "metadata": {
    "collapsed": false
   }
  },
  {
   "cell_type": "code",
   "execution_count": 18,
   "outputs": [],
   "source": [
    "# Save"
   ],
   "metadata": {
    "collapsed": false
   }
  },
  {
   "cell_type": "code",
   "execution_count": 47,
   "outputs": [
    {
     "data": {
      "text/plain": "360"
     },
     "execution_count": 47,
     "metadata": {},
     "output_type": "execute_result"
    }
   ],
   "source": [
    "# Load\n",
    "with open(filename, mode=\"rb\") as f:\n",
    "    all_companies: Dict[str, Company] = pickle.load(f)\n",
    "\n",
    "sys.getsizeof(all_companies)"
   ],
   "metadata": {
    "collapsed": false
   }
  },
  {
   "cell_type": "code",
   "execution_count": 48,
   "outputs": [
    {
     "name": "stdout",
     "output_type": "stream",
     "text": [
      "ULST\n",
      "AVUV\n",
      "287310.KS\n",
      "EMV.L\n",
      "JRDM.L\n",
      "IDVY.L\n",
      "1944.T\n",
      "CHAM\n",
      "GCBLX\n",
      "FSA.AX\n"
     ]
    }
   ],
   "source": [
    "for k, v in all_companies.items():\n",
    "    print(k)"
   ],
   "metadata": {
    "collapsed": false
   }
  },
  {
   "cell_type": "code",
   "execution_count": null,
   "outputs": [],
   "source": [],
   "metadata": {
    "collapsed": false
   }
  }
 ],
 "metadata": {
  "colab": {
   "collapsed_sections": [
    "_gDkU-j-fCmZ",
    "MRiOtrywfAo1",
    "3Zpv4S0-fDBv",
    "Dr49PotrfG01"
   ],
   "name": "Stock_Fundamental.ipynb",
   "provenance": []
  },
  "gpuClass": "standard",
  "kernelspec": {
   "display_name": "Python 3.10.8 ('venv3.10': venv)",
   "language": "python",
   "name": "python3"
  },
  "language_info": {
   "codemirror_mode": {
    "name": "ipython",
    "version": 3
   },
   "file_extension": ".py",
   "mimetype": "text/x-python",
   "name": "python",
   "nbconvert_exporter": "python",
   "pygments_lexer": "ipython3",
   "version": "3.10.8"
  },
  "vscode": {
   "interpreter": {
    "hash": "32c0c8ab8a6b580687c5ec847b855eb3ee7063ee446f183d34922604f3e580fd"
   }
  }
 },
 "nbformat": 4,
 "nbformat_minor": 0
}
