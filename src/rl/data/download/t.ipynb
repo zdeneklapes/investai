{
 "cells": [
  {
   "cell_type": "code",
   "execution_count": 1,
   "metadata": {
    "collapsed": true
   },
   "outputs": [],
   "source": [
    "import pandas as pd"
   ]
  },
  {
   "cell_type": "code",
   "execution_count": 2,
   "outputs": [
    {
     "name": "stdout",
     "output_type": "stream",
     "text": [
      "  key  value\n",
      "0  K0      0\n",
      "1  K1      1\n",
      "2  K2      2\n",
      "3  K3      3\n",
      "  key  value\n",
      "0  K0      0\n",
      "1  K1      1\n",
      "2  K2      2\n",
      "3  K4      7\n"
     ]
    }
   ],
   "source": [
    "df1 = pd.DataFrame({\"key\": [\"K0\", \"K1\", \"K2\", \"K3\"], \"value\": [0, 1, 2, 3]})\n",
    "df2 = pd.DataFrame({\"key\": [\"K0\", \"K1\", \"K2\", \"K4\"], \"value\": [0, 1, 2, 7]})\n",
    "\n",
    "# Print the dataframes\n",
    "print(df1)\n",
    "print(df2)"
   ],
   "metadata": {
    "collapsed": false
   }
  },
  {
   "cell_type": "code",
   "execution_count": 3,
   "outputs": [
    {
     "name": "stderr",
     "output_type": "stream",
     "text": [
      "/var/folders/9c/z5w432ls60300pg8dcrpkhkr0000gn/T/ipykernel_48166/2428309858.py:2: FutureWarning: The frame.append method is deprecated and will be removed from pandas in a future version. Use pandas.concat instead.\n",
      "  df1.append(df2[bin])\n"
     ]
    },
    {
     "data": {
      "text/plain": "  key  value\n0  K0      0\n1  K1      1\n2  K2      2\n3  K3      3\n3  K4      7",
      "text/html": "<div>\n<style scoped>\n    .dataframe tbody tr th:only-of-type {\n        vertical-align: middle;\n    }\n\n    .dataframe tbody tr th {\n        vertical-align: top;\n    }\n\n    .dataframe thead th {\n        text-align: right;\n    }\n</style>\n<table border=\"1\" class=\"dataframe\">\n  <thead>\n    <tr style=\"text-align: right;\">\n      <th></th>\n      <th>key</th>\n      <th>value</th>\n    </tr>\n  </thead>\n  <tbody>\n    <tr>\n      <th>0</th>\n      <td>K0</td>\n      <td>0</td>\n    </tr>\n    <tr>\n      <th>1</th>\n      <td>K1</td>\n      <td>1</td>\n    </tr>\n    <tr>\n      <th>2</th>\n      <td>K2</td>\n      <td>2</td>\n    </tr>\n    <tr>\n      <th>3</th>\n      <td>K3</td>\n      <td>3</td>\n    </tr>\n    <tr>\n      <th>3</th>\n      <td>K4</td>\n      <td>7</td>\n    </tr>\n  </tbody>\n</table>\n</div>"
     },
     "execution_count": 3,
     "metadata": {},
     "output_type": "execute_result"
    }
   ],
   "source": [
    "bin = df1[\"key\"] != df2[\"key\"]\n",
    "df1.append(df2[bin])"
   ],
   "metadata": {
    "collapsed": false
   }
  },
  {
   "cell_type": "code",
   "execution_count": 4,
   "outputs": [
    {
     "name": "stdout",
     "output_type": "stream",
     "text": [
      "  key  value\n",
      "0  K0      0\n",
      "1  K1      1\n",
      "2  K2      2\n",
      "3  K3      3\n",
      "  key  value1\n",
      "0  K0       0\n",
      "1  K1       1\n",
      "2  K2       2\n",
      "3  K4       7\n"
     ]
    }
   ],
   "source": [
    "df1 = pd.DataFrame({\"key\": [\"K0\", \"K1\", \"K2\", \"K3\"], \"value\": [0, 1, 2, 3]})\n",
    "df2 = pd.DataFrame({\"key\": [\"K0\", \"K1\", \"K2\", \"K4\"], \"value1\": [0, 1, 2, 7]})\n",
    "\n",
    "# Print the dataframes\n",
    "print(df1)\n",
    "print(df2)"
   ],
   "metadata": {
    "collapsed": false
   }
  },
  {
   "cell_type": "code",
   "execution_count": 5,
   "outputs": [
    {
     "data": {
      "text/plain": "  key  value  value1\n0  K0    0.0     0.0\n1  K1    1.0     1.0\n2  K2    2.0     2.0\n3  K3    3.0     NaN\n4  K4    NaN     7.0",
      "text/html": "<div>\n<style scoped>\n    .dataframe tbody tr th:only-of-type {\n        vertical-align: middle;\n    }\n\n    .dataframe tbody tr th {\n        vertical-align: top;\n    }\n\n    .dataframe thead th {\n        text-align: right;\n    }\n</style>\n<table border=\"1\" class=\"dataframe\">\n  <thead>\n    <tr style=\"text-align: right;\">\n      <th></th>\n      <th>key</th>\n      <th>value</th>\n      <th>value1</th>\n    </tr>\n  </thead>\n  <tbody>\n    <tr>\n      <th>0</th>\n      <td>K0</td>\n      <td>0.0</td>\n      <td>0.0</td>\n    </tr>\n    <tr>\n      <th>1</th>\n      <td>K1</td>\n      <td>1.0</td>\n      <td>1.0</td>\n    </tr>\n    <tr>\n      <th>2</th>\n      <td>K2</td>\n      <td>2.0</td>\n      <td>2.0</td>\n    </tr>\n    <tr>\n      <th>3</th>\n      <td>K3</td>\n      <td>3.0</td>\n      <td>NaN</td>\n    </tr>\n    <tr>\n      <th>4</th>\n      <td>K4</td>\n      <td>NaN</td>\n      <td>7.0</td>\n    </tr>\n  </tbody>\n</table>\n</div>"
     },
     "execution_count": 5,
     "metadata": {},
     "output_type": "execute_result"
    }
   ],
   "source": [
    "df1.merge(df2, how=\"outer\")\n",
    "# df1.merge(df2, how='outer')"
   ],
   "metadata": {
    "collapsed": false
   }
  },
  {
   "cell_type": "code",
   "execution_count": 6,
   "outputs": [
    {
     "name": "stdout",
     "output_type": "stream",
     "text": [
      "   C  B  A\n",
      "0  7  4  1\n",
      "1  8  5  2\n",
      "2  9  6  3\n"
     ]
    }
   ],
   "source": [
    "# Create a sample DataFrame\n",
    "df = pd.DataFrame({\"B\": [4, 5, 6], \"C\": [7, 8, 9], \"A\": [1, 2, 3]})\n",
    "\n",
    "# Sort the columns by name (ascending)\n",
    "df = df.sort_index(axis=1, ascending=False)\n",
    "\n",
    "print(df)"
   ],
   "metadata": {
    "collapsed": false
   }
  },
  {
   "cell_type": "code",
   "execution_count": null,
   "outputs": [],
   "source": [],
   "metadata": {
    "collapsed": false,
    "pycharm": {
     "is_executing": true
    }
   }
  },
  {
   "cell_type": "code",
   "execution_count": 9,
   "outputs": [],
   "source": [],
   "metadata": {
    "collapsed": false
   }
  }
 ],
 "metadata": {
  "kernelspec": {
   "display_name": "Python 3",
   "language": "python",
   "name": "python3"
  },
  "language_info": {
   "codemirror_mode": {
    "name": "ipython",
    "version": 2
   },
   "file_extension": ".py",
   "mimetype": "text/x-python",
   "name": "python",
   "nbconvert_exporter": "python",
   "pygments_lexer": "ipython2",
   "version": "2.7.6"
  }
 },
 "nbformat": 4,
 "nbformat_minor": 0
}
