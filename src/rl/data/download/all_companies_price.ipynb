{
 "cells": [
  {
   "cell_type": "code",
   "execution_count": 1,
   "outputs": [],
   "source": [
    "##\n",
    "import sys\n",
    "import os\n",
    "import pickle\n",
    "import sys\n",
    "import warnings\n",
    "import enum\n",
    "from enum import Enum\n",
    "import concurrent\n",
    "from typing import Optional, List, Dict, Callable\n",
    "\n",
    "##\n",
    "import matplotlib\n",
    "from pathlib import Path\n",
    "\n",
    "##\n",
    "sys.path.append(\"./src/\")\n",
    "sys.path.append(\"./\")\n",
    "sys.path.append(\"../\")\n",
    "sys.path.append(\"../../\")\n",
    "sys.path.append(\"../../../\")\n",
    "\n",
    "##\n",
    "from finrl import config as finrl_config\n",
    "from finrl.main import check_and_make_directories\n",
    "from finrl.config_tickers import DOW_30_TICKER"
   ],
   "metadata": {
    "collapsed": false
   }
  },
  {
   "cell_type": "code",
   "execution_count": 2,
   "outputs": [],
   "source": [
    "def config():\n",
    "    ##\n",
    "    warnings.filterwarnings(\"ignore\", category=UserWarning)  # TODO: zipline problem\n",
    "    warnings.filterwarnings(\"ignore\", category=DeprecationWarning)\n",
    "    warnings.filterwarnings(\"ignore\", category=FutureWarning)\n",
    "    warnings.filterwarnings(\"ignore\", category=RuntimeWarning)\n",
    "\n",
    "    ##\n",
    "    matplotlib.use(\"Agg\")\n",
    "\n",
    "\n",
    "config()"
   ],
   "metadata": {
    "collapsed": false
   }
  },
  {
   "cell_type": "code",
   "execution_count": 3,
   "outputs": [],
   "source": [
    "##\n",
    "import pandas as pd\n",
    "import tqdm\n",
    "from dotenv import load_dotenv\n",
    "import financedatabase as fd\n",
    "import fundamentalanalysis as fa\n",
    "\n",
    "##\n",
    "from common.utils import now_time\n",
    "from configuration.settings import ProjectDir\n",
    "from rl.data.financial_modeling_prep import download\n",
    "from rl.data.Company"
   ],
   "metadata": {
    "collapsed": false
   }
  },
  {
   "cell_type": "code",
   "execution_count": 4,
   "outputs": [],
   "source": [
    "prj_dir = ProjectDir(root=Path(\"/Users/zlapik/my-drive-zlapik/0-todo/ai-investing\"))"
   ],
   "metadata": {
    "collapsed": false
   }
  },
  {
   "cell_type": "code",
   "execution_count": 5,
   "outputs": [
    {
     "name": "stdout",
     "output_type": "stream",
     "text": [
      "639b4cc5af44e7.93519913\n",
      "B9p3RKb-K6xWwBRLso7Z\n",
      "G21Y7NB8U8VJFFIH\n",
      "6b0006554aa86e3e21493713af2af3c4\n"
     ]
    }
   ],
   "source": [
    "load_dotenv(prj_dir.root.joinpath(\"env/.env\"))\n",
    "try:\n",
    "    print(os.getenv(\"EOD_HISTORICAL_DATA_API\"))\n",
    "    print(os.getenv(\"NASDAQ_HISTORICAL_DATA_API\"))\n",
    "    print(os.getenv(\"ALPHA_VANTAGE_API\"))\n",
    "    print(os.getenv(\"FINANCIAL_MODELING_PREP_API\"))\n",
    "except:\n",
    "    raise ValueError(\"ERROR: API keys\")"
   ],
   "metadata": {
    "collapsed": false
   }
  },
  {
   "cell_type": "code",
   "execution_count": 6,
   "outputs": [],
   "source": [
    "ticker = \"AAPL\"\n",
    "api_key = os.getenv(\"FINANCIAL_MODELING_PREP_API\")"
   ],
   "metadata": {
    "collapsed": false
   }
  },
  {
   "cell_type": "code",
   "execution_count": null,
   "outputs": [],
   "source": [
    "def get_download_range(_from: int, _plus_costant: int) -> tuple:\n",
    "    return (_from, _from + _plus_costant)\n",
    "\n",
    "\n",
    "def download_subprocess(start: int, stop: int, step: int) -> dict:\n",
    "    all_symbols_info = dict()\n",
    "    with concurrent.futures.ProcessPoolExecutor() as executor:\n",
    "        result = [\n",
    "            executor.submit(\n",
    "                download, companies.index[get_download_range(i, step)[0] : get_download_range(i, step)[1]], api_key\n",
    "            )\n",
    "            for i in range(start, stop, step)\n",
    "        ]\n",
    "\n",
    "        for i in concurrent.futures.as_completed(result):\n",
    "            try:\n",
    "                all_symbols_info.update(i.result())\n",
    "            except Exception as e:\n",
    "                print(e)\n",
    "    return all_symbols_info"
   ],
   "metadata": {
    "collapsed": false
   }
  },
  {
   "cell_type": "code",
   "execution_count": null,
   "outputs": [],
   "source": [
    "api_key = os.getenv(\"FINANCIAL_MODELING_PREP_API\")"
   ],
   "metadata": {
    "collapsed": false
   }
  },
  {
   "cell_type": "code",
   "execution_count": null,
   "outputs": [],
   "source": [
    "#\n",
    "start = 30800\n",
    "stop = companies.index.size\n",
    "step = 200\n",
    "processes = 4\n",
    "for i in range(start, stop, step):\n",
    "    ##\n",
    "    _start = i\n",
    "    _stop = i + step\n",
    "    _step = step // processes\n",
    "    print(f\"{_start}, {_stop}, {_step}\")\n",
    "\n",
    "    # get_download_range()\n",
    "    print([get_download_range(i, _step) for i in range(_start, _stop, _step)])\n",
    "    # continue\n",
    "\n",
    "    ##\n",
    "    filename = prj_dir.dataset.financial_modeling_prep.joinpath(f\"{_start}_{_stop}_companies_{now_time()}.pkl\")\n",
    "    comps: dict = download_subprocess(_start, _stop, _step)\n",
    "    with open(file=filename, mode=\"wb\") as f:\n",
    "        import pickle\n",
    "\n",
    "        pickle.dump(comps, f)"
   ],
   "metadata": {
    "collapsed": false
   }
  },
  {
   "cell_type": "code",
   "execution_count": null,
   "outputs": [],
   "source": [
    "filename = prj_dir.dataset.financial_modeling_prep.joinpath(f\"AAPL_companies_{now_time()}.csv\")\n",
    "stock_data_detailed.to_csv(filename)"
   ],
   "metadata": {
    "collapsed": false
   }
  },
  {
   "cell_type": "code",
   "execution_count": null,
   "outputs": [],
   "source": [],
   "metadata": {
    "collapsed": false
   }
  }
 ],
 "metadata": {
  "colab": {
   "collapsed_sections": [
    "_gDkU-j-fCmZ",
    "MRiOtrywfAo1",
    "3Zpv4S0-fDBv",
    "Dr49PotrfG01"
   ],
   "name": "Stock_Fundamental.ipynb",
   "provenance": []
  },
  "gpuClass": "standard",
  "kernelspec": {
   "display_name": "Python 3.10.8 ('venv3.10': venv)",
   "language": "python",
   "name": "python3"
  },
  "language_info": {
   "codemirror_mode": {
    "name": "ipython",
    "version": 3
   },
   "file_extension": ".py",
   "mimetype": "text/x-python",
   "name": "python",
   "nbconvert_exporter": "python",
   "pygments_lexer": "ipython3",
   "version": "3.10.8"
  },
  "vscode": {
   "interpreter": {
    "hash": "32c0c8ab8a6b580687c5ec847b855eb3ee7063ee446f183d34922604f3e580fd"
   }
  }
 },
 "nbformat": 4,
 "nbformat_minor": 0
}
