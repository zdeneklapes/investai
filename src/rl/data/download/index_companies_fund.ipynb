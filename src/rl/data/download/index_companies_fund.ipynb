{
 "cells": [
  {
   "cell_type": "code",
   "execution_count": 1,
   "outputs": [],
   "source": [
    "##\n",
    "import sys\n",
    "import os\n",
    "import pickle\n",
    "import sys\n",
    "import warnings\n",
    "import enum\n",
    "from enum import Enum\n",
    "import concurrent\n",
    "from typing import Optional, List, Dict, Callable\n",
    "\n",
    "##\n",
    "import matplotlib\n",
    "from pathlib import Path\n",
    "\n",
    "##\n",
    "sys.path.append(\"./src/\")\n",
    "sys.path.append(\"./\")\n",
    "sys.path.append(\"../\")\n",
    "sys.path.append(\"../../\")\n",
    "sys.path.append(\"../../../\")\n",
    "\n",
    "##\n",
    "from finrl import config as finrl_config\n",
    "from finrl.main import check_and_make_directories\n",
    "from finrl.config_tickers import (\n",
    "    SINGLE_TICKER,\n",
    "    DOW_30_TICKER,\n",
    "    NAS_100_TICKER,\n",
    "    SP_500_TICKER,\n",
    "    HSI_50_TICKER,\n",
    "    SSE_50_TICKER,\n",
    "    CSI_300_TICKER,\n",
    "    CAC_40_TICKER,\n",
    "    DAX_30_TICKER,\n",
    "    TECDAX_TICKER,\n",
    "    MDAX_50_TICKER,\n",
    "    SDAX_50_TICKER,\n",
    "    LQ45_TICKER,\n",
    "    SRI_KEHATI_TICKER,\n",
    "    FX_TICKER,\n",
    ")"
   ],
   "metadata": {
    "collapsed": false
   }
  },
  {
   "cell_type": "code",
   "execution_count": 2,
   "outputs": [],
   "source": [
    "def config():\n",
    "    # #\n",
    "    warnings.filterwarnings(\"ignore\", category=UserWarning)  # TODO: zipline problem\n",
    "    warnings.filterwarnings(\"ignore\", category=DeprecationWarning)\n",
    "    warnings.filterwarnings(\"ignore\", category=FutureWarning)\n",
    "    warnings.filterwarnings(\"ignore\", category=RuntimeWarning)\n",
    "    # os.environ['TF_CPP_MIN_LOG_LEVEL'] = '2'  # INFO, WARN are ignored and only ERROR messages will be printed\n",
    "\n",
    "    # #\n",
    "    matplotlib.use(\"Agg\")\n",
    "\n",
    "    # #\n",
    "    check_and_make_directories(\n",
    "        [\n",
    "            finrl_config.DATA_SAVE_DIR,\n",
    "            finrl_config.TRAINED_MODEL_DIR,\n",
    "            finrl_config.TENSORBOARD_LOG_DIR,\n",
    "            finrl_config.RESULTS_DIR,\n",
    "        ]\n",
    "    )\n",
    "\n",
    "\n",
    "config()"
   ],
   "metadata": {
    "collapsed": false
   }
  },
  {
   "cell_type": "code",
   "execution_count": 3,
   "outputs": [],
   "source": [
    "##\n",
    "import pandas as pd\n",
    "import tqdm\n",
    "from dotenv import load_dotenv\n",
    "import financedatabase as fd\n",
    "import fundamentalanalysis as fa\n",
    "\n",
    "##\n",
    "from common.utils import now_time\n",
    "from configuration.settings import ProjectDir\n",
    "from rl.data.financial_modeling_prep import download\n",
    "from rl.data.Company import Company"
   ],
   "metadata": {
    "collapsed": false
   }
  },
  {
   "cell_type": "code",
   "execution_count": 4,
   "outputs": [],
   "source": [
    "prj_dir = ProjectDir(root=Path(\"/Users/zlapik/my-drive-zlapik/0-todo/ai-investing\"))"
   ],
   "metadata": {
    "collapsed": false
   }
  },
  {
   "cell_type": "code",
   "execution_count": 5,
   "outputs": [
    {
     "name": "stdout",
     "output_type": "stream",
     "text": [
      "639b4cc5af44e7.93519913\n",
      "B9p3RKb-K6xWwBRLso7Z\n",
      "G21Y7NB8U8VJFFIH\n",
      "6b0006554aa86e3e21493713af2af3c4\n"
     ]
    }
   ],
   "source": [
    "load_dotenv(prj_dir.root.joinpath(\"env/.env\"))\n",
    "try:\n",
    "    print(os.getenv(\"EOD_HISTORICAL_DATA_API\"))\n",
    "    print(os.getenv(\"NASDAQ_HISTORICAL_DATA_API\"))\n",
    "    print(os.getenv(\"ALPHA_VANTAGE_API\"))\n",
    "    print(os.getenv(\"FINANCIAL_MODELING_PREP_API\"))\n",
    "except:\n",
    "    raise ValueError(\"ERROR: API keys\")"
   ],
   "metadata": {
    "collapsed": false
   }
  },
  {
   "cell_type": "code",
   "execution_count": 6,
   "outputs": [],
   "source": [
    "def get_download_range(_from: int, _plus_costant: int) -> tuple:\n",
    "    return (_from, _from + _plus_costant)\n",
    "\n",
    "\n",
    "def download_subprocess(start: int, stop: int, step: int, companies: List[str]) -> dict:\n",
    "    all_symbols_info = dict()\n",
    "    with concurrent.futures.ProcessPoolExecutor() as executor:\n",
    "        result = [\n",
    "            executor.submit(\n",
    "                download, companies[get_download_range(i, step)[0] : get_download_range(i, step)[1]], api_key\n",
    "            )\n",
    "            for i in range(start, stop, step)\n",
    "        ]\n",
    "\n",
    "        for i in concurrent.futures.as_completed(result):\n",
    "            try:\n",
    "                all_symbols_info.update(i.result())\n",
    "            except Exception as e:\n",
    "                print(e)\n",
    "    return all_symbols_info"
   ],
   "metadata": {
    "collapsed": false
   }
  },
  {
   "cell_type": "code",
   "execution_count": 7,
   "outputs": [],
   "source": [
    "#\n",
    "api_key = os.getenv(\"FINANCIAL_MODELING_PREP_API\")"
   ],
   "metadata": {
    "collapsed": false
   }
  },
  {
   "cell_type": "code",
   "execution_count": 8,
   "outputs": [],
   "source": [
    "#\n",
    "indexes: List[List[str]] = [\n",
    "    # DOW_30_TICKER,\n",
    "    # NAS_100_TICKER,\n",
    "    SP_500_TICKER,\n",
    "    HSI_50_TICKER,\n",
    "    SSE_50_TICKER,\n",
    "    CSI_300_TICKER,\n",
    "    CAC_40_TICKER,\n",
    "    DAX_30_TICKER,\n",
    "    TECDAX_TICKER,\n",
    "    MDAX_50_TICKER,\n",
    "    SDAX_50_TICKER,\n",
    "    LQ45_TICKER,\n",
    "    SRI_KEHATI_TICKER,\n",
    "    FX_TICKER,\n",
    "]"
   ],
   "metadata": {
    "collapsed": false
   }
  },
  {
   "cell_type": "code",
   "execution_count": 9,
   "outputs": [
    {
     "name": "stdout",
     "output_type": "stream",
     "text": [
      "['A', 'AAL', 'AAP', 'AAPL', 'ABBV', 'ABC', 'ABMD', 'ABT', 'ACN', 'ADBE', 'ADI', 'ADM', 'ADP', 'ADS', 'ADSK', 'AEE', 'AEP', 'AES', 'AFL', 'AGN', 'AIG', 'AIV', 'AIZ', 'AJG', 'AKAM', 'ALB', 'ALGN', 'ALK', 'ALL', 'ALLE', 'ALXN', 'AMAT', 'AMCR', 'AMD', 'AME', 'AMG', 'AMGN', 'AMP', 'AMT', 'AMZN', 'ANET', 'ANSS', 'ANTM', 'AON', 'AOS', 'APA', 'APD', 'APH', 'APTV', 'ARE', 'ARNC', 'ATO', 'ATVI', 'AVB', 'AVGO', 'AVY', 'AWK', 'AXP', 'AZO', 'BA', 'BAC', 'BAX', 'BBT', 'BBY', 'BDX', 'BEN', 'BF.B', 'BHGE', 'BIIB', 'BK', 'BKNG', 'BLK', 'BLL', 'BMY', 'BR', 'BRK.B', 'BSX', 'BWA', 'BXP', 'C', 'CAG', 'CAH', 'CAT', 'CB', 'CBOE', 'CBRE', 'CBS', 'CCI', 'CCL', 'CDNS', 'CE', 'CELG', 'CERN', 'CF', 'CFG', 'CHD', 'CHRW', 'CHTR', 'CI', 'CINF', 'CL', 'CLX', 'CMA', 'CMCSA', 'CME', 'CMG', 'CMI', 'CMS', 'CNC', 'CNP', 'COF', 'COG', 'COO', 'COP', 'COST', 'COTY', 'CPB', 'CPRI', 'CPRT', 'CRM', 'CSCO', 'CSX', 'CTAS', 'CTL', 'CTSH', 'CTVA', 'CTXS', 'CVS', 'CVX', 'CXO', 'D', 'DAL', 'DD', 'DE', 'DFS', 'DG', 'DGX', 'DHI', 'DHR', 'DIS', 'DISCK', 'DISH', 'DLR', 'DLTR', 'DOV', 'DOW', 'DRE', 'DRI', 'DTE', 'DUK', 'DVA', 'DVN', 'DXC', 'EA', 'EBAY', 'ECL', 'ED', 'EFX', 'EIX', 'EL', 'EMN', 'EMR', 'EOG', 'EQIX', 'EQR', 'ES', 'ESS', 'ETFC', 'ETN', 'ETR', 'EVRG', 'EW', 'EXC', 'EXPD', 'EXPE', 'EXR', 'F', 'FANG', 'FAST', 'FB', 'FBHS', 'FCX', 'FDX', 'FE', 'FFIV', 'FIS', 'FISV', 'FITB', 'FLIR', 'FLS', 'FLT', 'FMC', 'FOXA', 'FRC', 'FRT', 'FTI', 'FTNT', 'FTV', 'GD', 'GE', 'GILD', 'GIS', 'GL', 'GLW', 'GM', 'GOOG', 'GPC', 'GPN', 'GPS', 'GRMN', 'GS', 'GWW', 'HAL', 'HAS', 'HBAN', 'HBI', 'HCA', 'HCP', 'HD', 'HES', 'HFC', 'HIG', 'HII', 'HLT', 'HOG', 'HOLX', 'HON', 'HP', 'HPE', 'HPQ', 'HRB', 'HRL', 'HSIC', 'HST', 'HSY', 'HUM', 'IBM', 'ICE', 'IDXX', 'IEX', 'IFF', 'ILMN', 'INCY', 'INFO', 'INTC', 'INTU', 'IP', 'IPG', 'IPGP', 'IQV', 'IR', 'IRM', 'ISRG', 'IT', 'ITW', 'IVZ', 'JBHT', 'JCI', 'JEC', 'JEF', 'JKHY', 'JNJ', 'JNPR', 'JPM', 'JWN', 'K', 'KEY', 'KEYS', 'KHC', 'KIM', 'KLAC', 'KMB', 'KMI', 'KMX', 'KO', 'KR', 'KSS', 'KSU', 'L', 'LB', 'LDOS', 'LEG', 'LEN', 'LH', 'LHX', 'LIN', 'LKQ', 'LLY', 'LMT', 'LNC', 'LNT', 'LOW', 'LRCX', 'LUV', 'LW', 'LYB', 'M', 'MA', 'MAA', 'MAC', 'MAR', 'MAS', 'MCD', 'MCHP', 'MCK', 'MCO', 'MDLZ', 'MDT', 'MET', 'MGM', 'MHK', 'MKC', 'MKTX', 'MLM', 'MMC', 'MMM', 'MNST', 'MO', 'MOS', 'MPC', 'MRK', 'MRO', 'MS', 'MSCI', 'MSFT', 'MSI', 'MTB', 'MTD', 'MU', 'MXIM', 'MYL', 'NBL', 'NCLH', 'NDAQ', 'NEE', 'NEM', 'NFLX', 'NI', 'NKE', 'NKTR', 'NLSN', 'NOC', 'NOV', 'NRG', 'NSC', 'NTAP', 'NTRS', 'NUE', 'NVDA', 'NWL', 'NWS', 'O', 'OI', 'OKE', 'OMC', 'ORCL', 'ORLY', 'OXY', 'PAYX', 'PBCT', 'PCAR', 'PEG', 'PEP', 'PFE', 'PFG', 'PG', 'PGR', 'PH', 'PHM', 'PKG', 'PKI', 'PLD', 'PM', 'PNC', 'PNR', 'PNW', 'PPG', 'PPL', 'PRGO', 'PRU', 'PSA', 'PSX', 'PVH', 'PWR', 'PXD', 'PYPL', 'QCOM', 'QRVO', 'RCL', 'RE', 'REG', 'REGN', 'RF', 'RHI', 'RJF', 'RL', 'RMD', 'ROK', 'ROL', 'ROP', 'ROST', 'RSG', 'RTN', 'SBAC', 'SBUX', 'SCHW', 'SEE', 'SHW', 'SIVB', 'SJM', 'SLB', 'SLG', 'SNA', 'SNPS', 'SO', 'SPG', 'SPGI', 'SRE', 'STI', 'STT', 'STX', 'STZ', 'SWK', 'SWKS', 'SYF', 'SYK', 'SYMC', 'SYY', 'T', 'TAP', 'TDG', 'TEL', 'TFX', 'TGT', 'TIF', 'TJX', 'TMO', 'TMUS', 'TPR', 'TRIP', 'TROW', 'TRV', 'TSCO', 'TSN', 'TSS', 'TTWO', 'TWTR', 'TXN', 'TXT', 'UA', 'UAL', 'UDR', 'UHS', 'ULTA', 'UNH', 'UNM', 'UNP', 'UPS', 'URI', 'USB', 'UTX', 'V', 'VAR', 'VFC', 'VIAB', 'VLO', 'VMC', 'VNO', 'VRSK', 'VRSN', 'VRTX', 'VTR', 'VZ', 'WAB', 'WAT', 'WBA', 'WCG', 'WDC', 'WEC', 'WELL', 'WFC', 'WHR', 'WLTW', 'WM', 'WMB', 'WMT', 'WRK', 'WU', 'WY', 'WYNN', 'XEC', 'XEL', 'XLNX', 'XOM', 'XRAY', 'XRX', 'XYL', 'YUM', 'ZBH', 'ZION', 'ZTS']\n",
      "0, 501, 125\n",
      "[(0, 125), (125, 250), (250, 375), (375, 500), (500, 625)]\n",
      "/Users/zlapik/my-drive-zlapik/0-todo/ai-investing/dataset/financialmodelingprep/0_501_companies_2022-12-17T14-14-08.pkl\n"
     ]
    },
    {
     "name": "stderr",
     "output_type": "stream",
     "text": [
      "Symbol: ZTS: 100%|██████████| 1/1 [00:07<00:00,  7.04s/it]t]]\n",
      "Symbol: ZION: 100%|██████████| 125/125 [31:14<00:00, 14.99s/it]  \n",
      "Symbol: IQV: 100%|██████████| 125/125 [31:31<00:00, 15.13s/it]]\n",
      "Symbol: PNR: 100%|██████████| 125/125 [31:50<00:00, 15.28s/it] \n",
      "Symbol: CTSH: 100%|██████████| 125/125 [32:02<00:00, 15.38s/it]\n"
     ]
    },
    {
     "name": "stdout",
     "output_type": "stream",
     "text": [
      "['0011.HK', '0005.HK', '0012.HK', '0006.HK', '0003.HK', '0016.HK', '0019.HK', '0002.HK', '0001.HK', '0267.HK', '0101.HK', '0941.HK', '0762.HK', '0066.HK', '0883.HK', '2388.HK', '0017.HK', '0083.HK', '0939.HK', '0388.HK', '0386.HK', '3988.HK', '2628.HK', '1398.HK', '2318.HK', '3328.HK', '0688.HK', '0857.HK', '1088.HK', '0700.HK', '0836.HK', '1109.HK', '1044.HK', '1299.HK', '0151.HK', '1928.HK', '0027.HK', '2319.HK', '0823.HK', '1113.HK', '1038.HK', '2018.HK', '0175.HK', '0288.HK', '1997.HK', '2007.HK', '2382.HK', '1093.HK', '1177.HK', '2313.HK']\n",
      "0, 50, 12\n",
      "[(0, 12), (12, 24), (24, 36), (36, 48), (48, 60)]\n",
      "/Users/zlapik/my-drive-zlapik/0-todo/ai-investing/dataset/financialmodelingprep/0_50_companies_2022-12-17T14-46-14.pkl\n"
     ]
    },
    {
     "name": "stderr",
     "output_type": "stream",
     "text": [
      "Symbol: 2313.HK: 100%|██████████| 2/2 [00:12<00:00,  6.04s/it]]\n",
      "Symbol: 1093.HK: 100%|██████████| 12/12 [00:56<00:00,  4.74s/it]\n",
      "Symbol: 0941.HK: 100%|██████████| 12/12 [01:03<00:00,  5.30s/it]\n",
      "Symbol: 1928.HK: 100%|██████████| 12/12 [01:14<00:00,  6.22s/it]\n",
      "Symbol: 1398.HK: 100%|██████████| 12/12 [01:23<00:00,  6.97s/it]\n"
     ]
    },
    {
     "name": "stdout",
     "output_type": "stream",
     "text": [
      "['600000.XSHG', '600036.XSHG', '600104.XSHG', '600030.XSHG', '601628.XSHG', '601166.XSHG', '601318.XSHG', '601328.XSHG', '601088.XSHG', '601857.XSHG', '601601.XSHG', '601668.XSHG', '601288.XSHG', '601818.XSHG', '601989.XSHG', '601398.XSHG', '600048.XSHG', '600028.XSHG', '600050.XSHG', '600519.XSHG', '600016.XSHG', '600887.XSHG', '601688.XSHG', '601186.XSHG', '601988.XSHG', '601211.XSHG', '601336.XSHG', '600309.XSHG', '603993.XSHG', '600690.XSHG', '600276.XSHG', '600703.XSHG', '600585.XSHG', '603259.XSHG', '601888.XSHG', '601138.XSHG', '600196.XSHG', '601766.XSHG', '600340.XSHG', '601390.XSHG', '601939.XSHG', '601111.XSHG', '600029.XSHG', '600019.XSHG', '601229.XSHG', '601800.XSHG', '600547.XSHG', '601006.XSHG', '601360.XSHG', '600606.XSHG', '601319.XSHG', '600837.XSHG', '600031.XSHG', '601066.XSHG', '600009.XSHG', '601236.XSHG', '601012.XSHG', '600745.XSHG', '600588.XSHG', '601658.XSHG', '601816.XSHG', '603160.XSHG']\n",
      "0, 62, 15\n",
      "[(0, 15), (15, 30), (30, 45), (45, 60), (60, 75)]\n",
      "/Users/zlapik/my-drive-zlapik/0-todo/ai-investing/dataset/financialmodelingprep/0_62_companies_2022-12-17T14-47-39.pkl\n"
     ]
    },
    {
     "name": "stderr",
     "output_type": "stream",
     "text": [
      "Symbol: 603160.XSHG: 100%|██████████| 2/2 [00:05<00:00,  2.92s/it]]\n",
      "Symbol: 601989.XSHG: 100%|██████████| 15/15 [00:44<00:00,  2.99s/it]\n",
      "Symbol: 601229.XSHG: 100%|██████████| 15/15 [00:44<00:00,  2.99s/it]\n",
      "Symbol: 600690.XSHG: 100%|██████████| 15/15 [00:44<00:00,  2.99s/it]\n"
     ]
    },
    {
     "name": "stdout",
     "output_type": "stream",
     "text": [
      "['600000.XSHG', '600004.XSHG', '600009.XSHG', '600010.XSHG', '600011.XSHG', '600015.XSHG', '600016.XSHG', '600018.XSHG', '600019.XSHG', '600025.XSHG', '600027.XSHG', '600028.XSHG', '600029.XSHG', '600030.XSHG', '600031.XSHG', '600036.XSHG', '600038.XSHG', '600048.XSHG', '600050.XSHG', '600061.XSHG', '600066.XSHG', '600068.XSHG', '600085.XSHG', '600089.XSHG', '600104.XSHG', '600109.XSHG', '600111.XSHG', '600115.XSHG', '600118.XSHG', '600170.XSHG', '600176.XSHG', '600177.XSHG', '600183.XSHG', '600188.XSHG', '600196.XSHG', '600208.XSHG', '600219.XSHG', '600221.XSHG', '600233.XSHG', '600271.XSHG', '600276.XSHG', '600297.XSHG', '600299.XSHG', '600309.XSHG', '600332.XSHG', '600340.XSHG', '600346.XSHG', '600352.XSHG', '600362.XSHG', '600369.XSHG', '600372.XSHG', '600383.XSHG', '600390.XSHG', '600398.XSHG', '600406.XSHG', '600436.XSHG', '600438.XSHG', '600482.XSHG', '600487.XSHG', '600489.XSHG', '600498.XSHG', '600516.XSHG', '600519.XSHG', '600522.XSHG', '600547.XSHG', '600570.XSHG', '600583.XSHG', '600585.XSHG', '600588.XSHG', '600606.XSHG', '600637.XSHG', '600655.XSHG', '600660.XSHG', '600674.XSHG', '600690.XSHG', '600703.XSHG', '600705.XSHG', '600741.XSHG', '600745.XSHG', '600760.XSHG', '600795.XSHG', '600809.XSHG', '600837.XSHG', '600848.XSHG', '600867.XSHG', '600886.XSHG', '600887.XSHG', '600893.XSHG', '600900.XSHG', '600919.XSHG', '600926.XSHG', '600928.XSHG', '600958.XSHG', '600968.XSHG', '600977.XSHG', '600989.XSHG', '600998.XSHG', '600999.XSHG', '601006.XSHG', '601009.XSHG', '601012.XSHG', '601018.XSHG', '601021.XSHG', '601066.XSHG', '601077.XSHG', '601088.XSHG', '601100.XSHG', '601108.XSHG', '601111.XSHG', '601117.XSHG', '601138.XSHG', '601155.XSHG', '601162.XSHG', '601166.XSHG', '601169.XSHG', '601186.XSHG', '601198.XSHG', '601211.XSHG', '601212.XSHG', '601216.XSHG', '601225.XSHG', '601229.XSHG', '601231.XSHG', '601236.XSHG', '601238.XSHG', '601288.XSHG', '601298.XSHG', '601318.XSHG', '601319.XSHG', '601328.XSHG', '601336.XSHG', '601360.XSHG', '601377.XSHG', '601390.XSHG', '601398.XSHG', '601555.XSHG', '601577.XSHG', '601600.XSHG', '601601.XSHG', '601607.XSHG', '601618.XSHG', '601628.XSHG', '601633.XSHG', '601658.XSHG', '601668.XSHG', '601669.XSHG', '601688.XSHG', '601698.XSHG', '601727.XSHG', '601766.XSHG', '601788.XSHG', '601800.XSHG', '601808.XSHG', '601816.XSHG', '601818.XSHG', '601828.XSHG', '601838.XSHG', '601857.XSHG', '601877.XSHG', '601878.XSHG', '601881.XSHG', '601888.XSHG', '601898.XSHG', '601899.XSHG', '601901.XSHG', '601916.XSHG', '601919.XSHG', '601933.XSHG', '601939.XSHG', '601985.XSHG', '601988.XSHG', '601989.XSHG', '601992.XSHG', '601997.XSHG', '601998.XSHG', '603019.XSHG', '603156.XSHG', '603160.XSHG', '603259.XSHG', '603260.XSHG', '603288.XSHG', '603369.XSHG', '603501.XSHG', '603658.XSHG', '603799.XSHG', '603833.XSHG', '603899.XSHG', '603986.XSHG', '603993.XSHG', '000001.XSHE', '000002.XSHE', '000063.XSHE', '000066.XSHE', '000069.XSHE', '000100.XSHE', '000157.XSHE', '000166.XSHE', '000333.XSHE', '000338.XSHE', '000425.XSHE', '000538.XSHE', '000568.XSHE', '000596.XSHE', '000625.XSHE', '000627.XSHE', '000651.XSHE', '000656.XSHE', '000661.XSHE', '000671.XSHE', '000703.XSHE', '000708.XSHE', '000709.XSHE', '000723.XSHE', '000725.XSHE', '000728.XSHE', '000768.XSHE', '000776.XSHE', '000783.XSHE', '000786.XSHE', '000858.XSHE', '000860.XSHE', '000876.XSHE', '000895.XSHE', '000938.XSHE', '000961.XSHE', '000963.XSHE', '000977.XSHE', '001979.XSHE', '002001.XSHE', '002007.XSHE', '002008.XSHE', '002024.XSHE', '002027.XSHE', '002032.XSHE', '002044.XSHE', '002050.XSHE', '002120.XSHE', '002129.XSHE', '002142.XSHE', '002146.XSHE', '002153.XSHE', '002157.XSHE', '002179.XSHE', '002202.XSHE', '002230.XSHE', '002236.XSHE', '002241.XSHE', '002252.XSHE', '002271.XSHE', '002304.XSHE', '002311.XSHE', '002352.XSHE', '002371.XSHE', '002410.XSHE', '002415.XSHE', '002422.XSHE', '002456.XSHE', '002460.XSHE', '002463.XSHE', '002466.XSHE', '002468.XSHE', '002475.XSHE', '002493.XSHE', '002508.XSHE', '002555.XSHE', '002558.XSHE', '002594.XSHE', '002601.XSHE', '002602.XSHE', '002607.XSHE', '002624.XSHE', '002673.XSHE', '002714.XSHE', '002736.XSHE', '002739.XSHE', '002773.XSHE', '002841.XSHE', '002916.XSHE', '002938.XSHE', '002939.XSHE', '002945.XSHE', '002958.XSHE', '003816.XSHE', '300003.XSHE', '300014.XSHE', '300015.XSHE', '300033.XSHE', '300059.XSHE', '300122.XSHE', '300124.XSHE', '300136.XSHE', '300142.XSHE', '300144.XSHE', '300347.XSHE', '300408.XSHE', '300413.XSHE', '300433.XSHE', '300498.XSHE', '300601.XSHE', '300628.XSHE']\n",
      "0, 300, 75\n",
      "[(0, 75), (75, 150), (150, 225), (225, 300)]\n",
      "/Users/zlapik/my-drive-zlapik/0-todo/ai-investing/dataset/financialmodelingprep/0_300_companies_2022-12-17T14-48-25.pkl\n"
     ]
    },
    {
     "name": "stderr",
     "output_type": "stream",
     "text": [
      "Symbol: 601658.XSHG: 100%|██████████| 15/15 [00:45<00:00,  3.03s/it]\n",
      "Symbol: 000961.XSHE: 100%|██████████| 75/75 [05:02<00:00,  4.04s/it]\n",
      "Symbol: 600690.XSHG: 100%|██████████| 75/75 [05:03<00:00,  4.04s/it]\n",
      "Symbol: 300628.XSHE: 100%|██████████| 75/75 [05:03<00:00,  4.04s/it]\n",
      "Symbol: 601766.XSHG: 100%|██████████| 75/75 [05:03<00:00,  4.05s/it]\n"
     ]
    },
    {
     "name": "stdout",
     "output_type": "stream",
     "text": [
      "['AC.PA', 'AI.PA', 'AIR.PA', 'MT.AS', 'ATO.PA', 'CS.PA', 'BNP.PA', 'EN.PA', 'CAP.PA', 'CA.PA', 'ACA.PA', 'BN.PA', 'DSY.PA', 'ENGI.PA', 'EL.PA', 'RMS.PA', 'KER.PA', 'OR.PA', 'LR.PA', 'MC.PA', 'ML.PA', 'ORA.PA', 'RI.PA', 'PUGOY', 'PUB.PA', 'RNO.PA', 'SAF.PA', 'SGO.PA', 'SAN.PA', 'SU.PA', 'GLE.PA', 'SW.PA', 'STM.PA', 'FTI.PA', 'FP.PA', 'URW.AS', 'FR.PA', 'VIE.PA', 'DG.PA', 'VIV.PA']\n",
      "0, 40, 10\n",
      "[(0, 10), (10, 20), (20, 30), (30, 40)]\n",
      "/Users/zlapik/my-drive-zlapik/0-todo/ai-investing/dataset/financialmodelingprep/0_40_companies_2022-12-17T14-53-29.pkl\n"
     ]
    },
    {
     "name": "stderr",
     "output_type": "stream",
     "text": [
      "Symbol: SU.PA: 100%|██████████| 10/10 [00:48<00:00,  4.83s/it] \n",
      "Symbol: CA.PA: 100%|██████████| 10/10 [00:51<00:00,  5.13s/it]\n",
      "Symbol: VIV.PA: 100%|██████████| 10/10 [01:11<00:00,  7.15s/it]\n"
     ]
    },
    {
     "name": "stdout",
     "output_type": "stream",
     "text": [
      "['DHER.DE', 'RWE.DE', 'FRE.DE', 'MTX.DE', 'MRK.DE', 'LIN.DE', 'ALV.DE', 'VNA.DE', 'EOAN.DE', 'HEN3.DE', 'DAI.DE', 'DB1.DE', 'DPW.DE', 'DWNI.DE', 'BMW.DE', 'DTE.DE', 'VOW3.DE', 'MUV2.DE', '1COV.DE', 'SAP.DE', 'FME.DE', 'BAS.DE', 'BAYN.DE', 'BEI.DE', 'CON.DE', 'SIE.DE', 'ADS.DE', 'HEI.DE', 'DBK.DE', 'IFX.DE']\n",
      "0, 30, 7\n",
      "[(0, 7), (7, 14), (14, 21), (21, 28), (28, 35)]\n",
      "/Users/zlapik/my-drive-zlapik/0-todo/ai-investing/dataset/financialmodelingprep/0_30_companies_2022-12-17T14-54-46.pkl\n"
     ]
    },
    {
     "name": "stderr",
     "output_type": "stream",
     "text": [
      "Symbol: MC.PA: 100%|██████████| 10/10 [01:16<00:00,  7.66s/it]\n",
      "Symbol: IFX.DE: 100%|██████████| 2/2 [00:19<00:00,  9.79s/it] \n",
      "Symbol: ALV.DE: 100%|██████████| 7/7 [00:49<00:00,  7.10s/it]]\n",
      "Symbol: DWNI.DE: 100%|██████████| 7/7 [00:54<00:00,  7.84s/it]\n",
      "Symbol: FME.DE: 100%|██████████| 7/7 [00:57<00:00,  8.23s/it]\n",
      "Symbol: HEI.DE: 100%|██████████| 7/7 [00:59<00:00,  8.43s/it]\n"
     ]
    },
    {
     "name": "stdout",
     "output_type": "stream",
     "text": [
      "['ADV.DE', 'AFX.DE', 'AM3D.DE', 'BC8.DE', 'COK.DE', 'DLG.DE', 'DRI.DE', 'DRW3.DE', 'EVT.DE', 'FNTN.DE', 'GFT.DE', 'JEN.DE', 'MDG1.DE', 'MOR.DE', 'NDX1.DE', 'NEM.DE', 'O2D.DE', 'PFV.DE', 'QIA.DE', 'RIB.DE', 'S92.DE', 'SANT.DE', 'SOW.DE', 'SRT3.DE', 'UTDI.DE', 'WAF.DE', 'WDI.DE']\n",
      "0, 27, 6\n",
      "[(0, 6), (6, 12), (12, 18), (18, 24), (24, 30)]\n",
      "/Users/zlapik/my-drive-zlapik/0-todo/ai-investing/dataset/financialmodelingprep/0_27_companies_2022-12-17T14-55-46.pkl\n"
     ]
    },
    {
     "name": "stderr",
     "output_type": "stream",
     "text": [
      "Symbol: WDI.DE: 100%|██████████| 3/3 [00:19<00:00,  6.62s/it] \n",
      "Symbol: DLG.DE: 100%|██████████| 6/6 [00:43<00:00,  7.25s/it]]\n",
      "Symbol: PFV.DE: 100%|██████████| 6/6 [00:44<00:00,  7.35s/it]\n",
      "Symbol: JEN.DE: 100%|██████████| 6/6 [00:45<00:00,  7.53s/it]\n"
     ]
    },
    {
     "name": "stdout",
     "output_type": "stream",
     "text": [
      "['1COV.DE', 'AIR.DE', 'AOX.DE', 'ARL.DE', 'BNR.DE', 'BOSS.DE', 'DEQ.DE', 'DUE.DE', 'DWNI.DE', 'EVD.DE', 'EVK.DE', 'FIE.DE', 'FPE3.DE', 'FRA.DE', 'G1A.DE', 'GBF.DE', 'GXI.DE', 'HLE.DE', 'HNR1.DE', 'HOT.DE', 'JUN3.DE', 'KGX.DE', 'KRN.DE', 'LEG.DE', 'LEO.DE', 'LXS.DE', 'MTX.DE', 'NDA.DE', 'NOEJ.DE', 'OSR.DE', 'PBB.DE', 'RAA.DE', 'RHM.DE', 'RRTL.DE', 'SAX.DE', 'SDF.DE', 'SHA.DE', 'SNH.DE', 'SY1.DE', 'SZG.DE', 'SZU.DE', 'TEG.DE', 'TLX.DE', 'UN01.DE', 'WCH.DE', 'ZAL.DE']\n",
      "0, 46, 11\n",
      "[(0, 11), (11, 22), (22, 33), (33, 44), (44, 55)]\n",
      "/Users/zlapik/my-drive-zlapik/0-todo/ai-investing/dataset/financialmodelingprep/0_46_companies_2022-12-17T14-56-34.pkl\n"
     ]
    },
    {
     "name": "stderr",
     "output_type": "stream",
     "text": [
      "Symbol: SRT3.DE: 100%|██████████| 6/6 [00:46<00:00,  7.78s/it]\n",
      "Symbol: ZAL.DE: 100%|██████████| 2/2 [00:12<00:00,  6.28s/it]]]\n",
      "Symbol: UN01.DE: 100%|██████████| 11/11 [01:09<00:00,  6.31s/it]\n",
      "Symbol: EVK.DE: 100%|██████████| 11/11 [01:13<00:00,  6.67s/it] \n",
      "Symbol: RHM.DE: 100%|██████████| 11/11 [01:13<00:00,  6.71s/it]\n",
      "Symbol: KGX.DE: 100%|██████████| 11/11 [01:16<00:00,  6.94s/it]\n"
     ]
    },
    {
     "name": "stdout",
     "output_type": "stream",
     "text": [
      "['AAD.DE', 'ACX.DE', 'ADJ.DE', 'ADL.DE', 'BDT.DE', 'BIO3.DE', 'BVB.DE', 'BYW6.DE', 'CWC.DE', 'DBAN.DE', 'DEZ.DE', 'DIC.DE', 'G24.DE', 'GIL.DE', 'GLJ.DE', 'GMM.DE', 'HBH.DE', 'HDD.DE', 'HHFA.DE', 'HLAG.DE', 'HYQ.DE', 'INH.DE', 'KCO.DE', 'KWS.DE', 'PUM.DE', 'RHK.DE', 'SFQ.DE', 'SGL.DE', 'SIX2.DE', 'SKB.DE', 'STM.DE', 'TC1.DE', 'TLG.DE', 'TTK.DE', 'VOS.DE', 'WAC.DE', 'WCMK.DE', 'WSU.DE', 'WUW.DE', 'ZIL2.DE', 'ZO1.DE']\n",
      "0, 41, 10\n",
      "[(0, 10), (10, 20), (20, 30), (30, 40), (40, 50)]\n",
      "/Users/zlapik/my-drive-zlapik/0-todo/ai-investing/dataset/financialmodelingprep/0_41_companies_2022-12-17T14-57-51.pkl\n"
     ]
    },
    {
     "name": "stderr",
     "output_type": "stream",
     "text": [
      "Symbol: ZO1.DE: 100%|██████████| 1/1 [00:07<00:00,  7.15s/it]]\n",
      "Symbol: ZIL2.DE: 100%|██████████| 10/10 [01:05<00:00,  6.56s/it]\n",
      "Symbol: DBAN.DE: 100%|██████████| 10/10 [01:07<00:00,  6.74s/it]\n",
      "Symbol: HLAG.DE: 100%|██████████| 10/10 [01:07<00:00,  6.80s/it]\n"
     ]
    },
    {
     "name": "stdout",
     "output_type": "stream",
     "text": [
      "['ACES.JK', 'ADRO.JK', 'AKRA.JK', 'ANTM.JK', 'ASII.JK', 'BBCA.JK', 'BBNI.JK', 'BBRI.JK', 'BBTN.JK', 'BMRI.JK', 'BRPT.JK', 'BSDE.JK', 'CPIN.JK', 'ERAA.JK', 'EXCL.JK', 'GGRM.JK', 'HMSP.JK', 'ICBP.JK', 'INCO.JK', 'INDF.JK', 'INKP.JK', 'INTP.JK', 'ITMG.JK', 'JPFA.JK', 'JSMR.JK', 'KLBF.JK', 'MDKA.JK', 'MEDC.JK', 'MIKA.JK', 'MNCN.JK', 'PGAS.JK', 'PTBA.JK', 'PTPP.JK', 'PWON.JK', 'SMGR.JK', 'SMRA.JK', 'TBIG.JK', 'TINS.JK', 'TKIM.JK', 'TLKM.JK', 'TOWR.JK', 'TPIA.JK', 'UNTR.JK', 'UNVR.JK', 'WIKA.JK']\n",
      "0, 45, 11\n",
      "[(0, 11), (11, 22), (22, 33), (33, 44), (44, 55)]\n",
      "/Users/zlapik/my-drive-zlapik/0-todo/ai-investing/dataset/financialmodelingprep/0_45_companies_2022-12-17T14-59-04.pkl\n"
     ]
    },
    {
     "name": "stderr",
     "output_type": "stream",
     "text": [
      "Symbol: SKB.DE: 100%|██████████| 10/10 [01:12<00:00,  7.26s/it]\n",
      "Symbol: WIKA.JK: 100%|██████████| 1/1 [00:06<00:00,  6.66s/it]]\n",
      "Symbol: BRPT.JK: 100%|██████████| 11/11 [01:11<00:00,  6.50s/it]\n",
      "Symbol: INTP.JK: 100%|██████████| 11/11 [01:11<00:00,  6.51s/it]\n",
      "Symbol: PTPP.JK: 100%|██████████| 11/11 [01:12<00:00,  6.55s/it]\n",
      "Symbol: UNVR.JK: 100%|██████████| 11/11 [01:16<00:00,  6.92s/it]\n"
     ]
    },
    {
     "name": "stdout",
     "output_type": "stream",
     "text": [
      "['AALI.JK', 'ADHI.JK', 'ASII.JK', 'BBCA.JK', 'BBNI.JK', 'BBRI.JK', 'BBTN.JK', 'BMRI.JK', 'BSDE.JK', 'INDF.JK', 'JPFA.JK', 'JSMR.JK', 'KLBF.JK', 'PGAS.JK', 'PJAA.JK', 'PPRO.JK', 'SIDO.JK', 'SMGR.JK', 'TINS.JK', 'TLKM.JK', 'UNTR.JK', 'UNVR.JK', 'WIKA.JK', 'WSKT.JK', 'WTON.JK']\n",
      "0, 25, 6\n",
      "[(0, 6), (6, 12), (12, 18), (18, 24), (24, 30)]\n",
      "/Users/zlapik/my-drive-zlapik/0-todo/ai-investing/dataset/financialmodelingprep/0_25_companies_2022-12-17T15-00-21.pkl\n"
     ]
    },
    {
     "name": "stderr",
     "output_type": "stream",
     "text": [
      "Symbol: WTON.JK: 100%|██████████| 1/1 [00:05<00:00,  5.67s/it]\n",
      "Symbol: SMGR.JK: 100%|██████████| 6/6 [00:36<00:00,  6.12s/it]\n",
      "Symbol: BBRI.JK: 100%|██████████| 6/6 [00:37<00:00,  6.27s/it]\n",
      "Symbol: JSMR.JK: 100%|██████████| 6/6 [00:39<00:00,  6.56s/it]\n"
     ]
    },
    {
     "name": "stdout",
     "output_type": "stream",
     "text": [
      "['AUDCAD=X', 'AUDCHF=X', 'AUDJPY=X', 'AUDNZD=X', 'AUDSGD=X', 'AUDUSD=X', 'AUDUSD=X', 'AUDUSD=X', 'AUDUSD=X', 'AUDUSD=X', 'AUDUSD=X', 'AUDUSD=X', 'CADCHF=X', 'CADHKD=X', 'CADJPY=X', 'CHFJPY=X', 'CHFSGD=X', 'EURAUD=X', 'EURCAD=X', 'EURCHF=X', 'EURCHF=X', 'EURCHF=X', 'EURCZK=X', 'EURGBP=X', 'EURHKD=X', 'EURHUF=X', 'EURJPY=X', 'EURNOK=X', 'EURNZD=X', 'EURPLN=X', 'EURRUB=X', 'EURSEK=X', 'EURSGD=X', 'EURTRY=X', 'EURTRY=X', 'EURUSD=X', 'GBPAUD=X', 'GBPAUD=X', 'GBPAUD=X', 'GBPCAD=X', 'GBPCHF=X', 'GBPJPY=X', 'GBPNZD=X', 'GBPUSD=X', 'HKDJPY=X', 'NZDCAD=X', 'NZDCHF=X', 'NZDJPY=X', 'NZDUSD=X', 'SGDJPY=X', 'TRYJPY=X', 'USDCAD=X', 'USDCHF=X', 'USDCNH=X', 'USDCZK=X', 'USDHKD=X', 'USDHUF=X', 'USDILS=X', 'USDJPY=X', 'USDMXN=X', 'USDNOK=X', 'USDPLN=X', 'USDRON=X', 'USDRUB=X', 'USDSEK=X', 'USDSGD=X', 'USDTHB=X', 'USDTRY=X', 'USDZAR=X', 'XAGUSD=X', 'XAUUSD=X', 'ZARJPY=X', 'EURDKK=X']\n",
      "0, 73, 18\n",
      "[(0, 18), (18, 36), (36, 54), (54, 72), (72, 90)]\n",
      "/Users/zlapik/my-drive-zlapik/0-todo/ai-investing/dataset/financialmodelingprep/0_73_companies_2022-12-17T15-01-05.pkl\n"
     ]
    },
    {
     "name": "stderr",
     "output_type": "stream",
     "text": [
      "Symbol: WSKT.JK: 100%|██████████| 6/6 [00:42<00:00,  7.14s/it]\n",
      "Symbol: EURDKK=X: 100%|██████████| 1/1 [00:03<00:00,  3.08s/it]]\n",
      "Symbol: ZARJPY=X: 100%|██████████| 18/18 [00:52<00:00,  2.93s/it]\n",
      "Symbol: USDCNH=X: 100%|██████████| 18/18 [00:53<00:00,  2.98s/it]\n",
      "Symbol: EURUSD=X: 100%|██████████| 18/18 [00:53<00:00,  2.98s/it]\n",
      "Symbol: EURAUD=X: 100%|██████████| 18/18 [00:53<00:00,  2.99s/it]\n"
     ]
    }
   ],
   "source": [
    "start = 0\n",
    "stop = indexes.__len__()\n",
    "step = 200\n",
    "processes = 4\n",
    "\n",
    "for tickers in indexes:\n",
    "    ##\n",
    "    _start = 0\n",
    "    _stop = tickers.__len__()\n",
    "    _step = _stop // processes\n",
    "    print(tickers)\n",
    "    print(f\"{_start}, {_stop}, {_step}\")\n",
    "\n",
    "    # get_download_range()\n",
    "    print([get_download_range(i, _step) for i in range(_start, _stop, _step)])\n",
    "\n",
    "    ##\n",
    "    filename = prj_dir.dataset.financial_modeling_prep.joinpath(f\"{_start}_{_stop}_companies_{now_time()}.pkl\")\n",
    "    print(filename)\n",
    "    downloaded_tickers: dict = download_subprocess(_start, _stop, _step, tickers)\n",
    "    with open(file=filename, mode=\"wb\") as f:\n",
    "        import pickle\n",
    "\n",
    "        pickle.dump(downloaded_tickers, f)"
   ],
   "metadata": {
    "collapsed": false
   }
  },
  {
   "cell_type": "code",
   "execution_count": null,
   "outputs": [],
   "source": [],
   "metadata": {
    "collapsed": false
   }
  }
 ],
 "metadata": {
  "colab": {
   "collapsed_sections": [
    "_gDkU-j-fCmZ",
    "MRiOtrywfAo1",
    "3Zpv4S0-fDBv",
    "Dr49PotrfG01"
   ],
   "name": "Stock_Fundamental.ipynb",
   "provenance": []
  },
  "gpuClass": "standard",
  "kernelspec": {
   "display_name": "Python 3.10.8 ('venv3.10': venv)",
   "language": "python",
   "name": "python3"
  },
  "language_info": {
   "codemirror_mode": {
    "name": "ipython",
    "version": 3
   },
   "file_extension": ".py",
   "mimetype": "text/x-python",
   "name": "python",
   "nbconvert_exporter": "python",
   "pygments_lexer": "ipython3",
   "version": "3.10.8"
  },
  "vscode": {
   "interpreter": {
    "hash": "32c0c8ab8a6b580687c5ec847b855eb3ee7063ee446f183d34922604f3e580fd"
   }
  }
 },
 "nbformat": 4,
 "nbformat_minor": 0
}
