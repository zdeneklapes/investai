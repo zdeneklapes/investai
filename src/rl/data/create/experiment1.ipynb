{
 "cells": [
  {
   "cell_type": "code",
   "execution_count": 42,
   "outputs": [],
   "source": [
    "#\n",
    "import os\n",
    "import copy\n",
    "import sys\n",
    "import warnings\n",
    "import matplotlib\n",
    "from pathlib import Path\n",
    "from typing import Dict\n",
    "\n",
    "#\n",
    "sys.path.append(\"./src/\")\n",
    "sys.path.append(\"./\")\n",
    "sys.path.append(\"../\")\n",
    "sys.path.append(\"../../\")\n",
    "sys.path.append(\"../../../\")\n",
    "\n",
    "# FinRL\n",
    "from finrl.config_tickers import DOW_30_TICKER\n",
    "\n",
    "# FinRL-Meta\n",
    "from meta.data_processors.yahoofinance import Yahoofinance\n",
    "\n",
    "#\n",
    "import yfinance as yf"
   ],
   "metadata": {
    "collapsed": false
   }
  },
  {
   "cell_type": "code",
   "execution_count": 43,
   "outputs": [],
   "source": [
    "def config():\n",
    "    #\n",
    "    warnings.filterwarnings(\"ignore\", category=UserWarning)  # TODO: zipline problem\n",
    "    warnings.filterwarnings(\"ignore\", category=DeprecationWarning)\n",
    "    warnings.filterwarnings(\"ignore\", category=FutureWarning)\n",
    "    warnings.filterwarnings(\"ignore\", category=RuntimeWarning)\n",
    "\n",
    "    #\n",
    "    matplotlib.use(\"Agg\")\n",
    "\n",
    "\n",
    "config()"
   ],
   "metadata": {
    "collapsed": false
   }
  },
  {
   "cell_type": "code",
   "execution_count": 44,
   "outputs": [],
   "source": [
    "#\n",
    "import numpy as np\n",
    "import pandas as pd\n",
    "import tqdm\n",
    "\n",
    "#\n",
    "from common.utils import now_time\n",
    "from configuration.settings import ProjectDir\n",
    "from rl.data.CompanyInfo import CompanyInfo"
   ],
   "metadata": {
    "collapsed": false
   }
  },
  {
   "cell_type": "code",
   "execution_count": 45,
   "outputs": [],
   "source": [
    "#\n",
    "prj_dir = ProjectDir(root=Path(\"/Users/zlapik/my-drive-zlapik/0-todo/ai-investing\"))\n",
    "\n",
    "#\n",
    "_TRAIN_DATA_START = \"2000-01-01\"\n",
    "_TRAIN_DATA_END = \"2015-12-31\"\n",
    "_TEST_DATA_START = \"2016-01-01\"\n",
    "_TEST_DATA_END = \"2021-12-31\"\n",
    "\n",
    "#\n",
    "TICKERS = copy.deepcopy(DOW_30_TICKER)\n",
    "TICKERS.remove(\"DOW\")  # TODO: I don't have all necessary data\n",
    "\n",
    "#\n",
    "prj_dir = ProjectDir(root=Path(\"/Users/zlapik/my-drive-zlapik/0-todo/ai-investing\"))"
   ],
   "metadata": {
    "collapsed": false
   }
  },
  {
   "cell_type": "code",
   "execution_count": 46,
   "outputs": [
    {
     "data": {
      "text/plain": "['AXP',\n 'AMGN',\n 'AAPL',\n 'BA',\n 'CAT',\n 'CSCO',\n 'CVX',\n 'GS',\n 'HD',\n 'HON',\n 'IBM',\n 'INTC',\n 'JNJ',\n 'KO',\n 'JPM',\n 'MCD',\n 'MMM',\n 'MRK',\n 'MSFT',\n 'NKE',\n 'PG',\n 'TRV',\n 'UNH',\n 'CRM',\n 'VZ',\n 'V',\n 'WBA',\n 'WMT',\n 'DIS']"
     },
     "execution_count": 46,
     "metadata": {},
     "output_type": "execute_result"
    }
   ],
   "source": [
    "TICKERS"
   ],
   "metadata": {
    "collapsed": false
   }
  },
  {
   "cell_type": "code",
   "execution_count": 47,
   "outputs": [
    {
     "data": {
      "text/plain": "PosixPath('/Users/zlapik/my-drive-zlapik/0-todo/ai-investing')"
     },
     "execution_count": 47,
     "metadata": {},
     "output_type": "execute_result"
    }
   ],
   "source": [
    "prj_dir.root"
   ],
   "metadata": {
    "collapsed": false
   }
  },
  {
   "cell_type": "code",
   "execution_count": 64,
   "outputs": [
    {
     "name": "stdout",
     "output_type": "stream",
     "text": [
      "['date', 'tic']\n",
      "['open', 'high', 'low', 'close', 'volume']\n",
      "['operatingProfitMargin', 'netProfitMargin', 'returnOnAssets', 'returnOnEquity', 'currentRatio', 'quickRatio', 'cashRatio', 'inventoryTurnover', 'receivablesTurnover', 'payablesTurnover', 'debtRatio', 'debtEquityRatio', 'priceEarningsRatio', 'priceBookValueRatio', 'dividendYield']\n"
     ]
    }
   ],
   "source": [
    "base_cols = list([\"date\", \"tic\"])\n",
    "\n",
    "data_cols = list([\"open\", \"high\", \"low\", \"close\", \"volume\"])\n",
    "\n",
    "ratios_cols = list(\n",
    "    [\n",
    "        \"operatingProfitMargin\",\n",
    "        \"netProfitMargin\",\n",
    "        \"returnOnAssets\",\n",
    "        \"returnOnEquity\",\n",
    "        \"currentRatio\",\n",
    "        \"quickRatio\",\n",
    "        \"cashRatio\",\n",
    "        \"inventoryTurnover\",\n",
    "        \"receivablesTurnover\",\n",
    "        \"payablesTurnover\",\n",
    "        \"debtRatio\",\n",
    "        \"debtEquityRatio\",\n",
    "        \"priceEarningsRatio\",\n",
    "        \"priceBookValueRatio\",\n",
    "        \"dividendYield\",\n",
    "    ]\n",
    ")\n",
    "\n",
    "print(base_cols)\n",
    "print(data_cols)\n",
    "print(ratios_cols)"
   ],
   "metadata": {
    "collapsed": false
   }
  },
  {
   "cell_type": "code",
   "execution_count": 65,
   "outputs": [],
   "source": [
    "# Load All Initial Tickers Data\n",
    "tickers_data: Dict[str, CompanyInfo] = dict()\n",
    "for tic in TICKERS:\n",
    "    data = dict(symbol=tic)\n",
    "    for f in CompanyInfo.Names.list():\n",
    "        tic_file = prj_dir.dataset.tickers.joinpath(tic).joinpath(f + \".csv\")\n",
    "        if tic_file.exists():\n",
    "            data[f] = pd.read_csv(tic_file, index_col=0)\n",
    "    tickers_data[tic] = CompanyInfo(**data)"
   ],
   "metadata": {
    "collapsed": false
   }
  },
  {
   "cell_type": "code",
   "execution_count": 56,
   "outputs": [
    {
     "name": "stdout",
     "output_type": "stream",
     "text": [
      "AXP\n",
      "AMGN\n",
      "AAPL\n",
      "BA\n",
      "CAT\n",
      "CSCO\n",
      "CVX\n",
      "GS\n",
      "HD\n",
      "HON\n",
      "IBM\n",
      "INTC\n",
      "JNJ\n",
      "KO\n",
      "JPM\n",
      "MCD\n",
      "MMM\n",
      "MRK\n",
      "MSFT\n",
      "NKE\n",
      "PG\n",
      "TRV\n",
      "UNH\n",
      "CRM\n",
      "VZ\n",
      "V\n",
      "WBA\n",
      "WMT\n",
      "DIS\n"
     ]
    }
   ],
   "source": [
    "for k, v in tickers_data.items():\n",
    "    print(k)"
   ],
   "metadata": {
    "collapsed": false
   }
  },
  {
   "cell_type": "code",
   "execution_count": 70,
   "outputs": [],
   "source": [
    "AAPL = tickers_data[\"AAPL\"]"
   ],
   "metadata": {
    "collapsed": false
   }
  },
  {
   "cell_type": "code",
   "execution_count": 74,
   "outputs": [
    {
     "data": {
      "text/plain": "                  open        high         low       close       volume\n2022-12-16  136.685000  137.650000  133.730000  134.510000  159808331.0\n2022-12-15  141.110000  141.800000  136.030000  136.500000   98827150.0\n2022-12-14  145.350000  146.660000  141.160000  143.210000   82234160.0\n2022-12-13  149.500000  149.970000  144.240000  145.470000   93831797.0\n2022-12-12  142.700000  144.500000  141.060000  144.490000   70422099.0\n...                ...         ...         ...         ...          ...\n1980-12-18    0.118862    0.119420    0.118862    0.118862   73449600.0\n1980-12-17    0.115513    0.116071    0.115513    0.115513   86441600.0\n1980-12-16    0.113281    0.113281    0.112723    0.112723  105728000.0\n1980-12-15    0.122210    0.122210    0.121652    0.121652  175884800.0\n1980-12-12    0.128348    0.128906    0.128348    0.128348  469033600.0\n\n[10594 rows x 5 columns]",
      "text/html": "<div>\n<style scoped>\n    .dataframe tbody tr th:only-of-type {\n        vertical-align: middle;\n    }\n\n    .dataframe tbody tr th {\n        vertical-align: top;\n    }\n\n    .dataframe thead th {\n        text-align: right;\n    }\n</style>\n<table border=\"1\" class=\"dataframe\">\n  <thead>\n    <tr style=\"text-align: right;\">\n      <th></th>\n      <th>open</th>\n      <th>high</th>\n      <th>low</th>\n      <th>close</th>\n      <th>volume</th>\n    </tr>\n  </thead>\n  <tbody>\n    <tr>\n      <th>2022-12-16</th>\n      <td>136.685000</td>\n      <td>137.650000</td>\n      <td>133.730000</td>\n      <td>134.510000</td>\n      <td>159808331.0</td>\n    </tr>\n    <tr>\n      <th>2022-12-15</th>\n      <td>141.110000</td>\n      <td>141.800000</td>\n      <td>136.030000</td>\n      <td>136.500000</td>\n      <td>98827150.0</td>\n    </tr>\n    <tr>\n      <th>2022-12-14</th>\n      <td>145.350000</td>\n      <td>146.660000</td>\n      <td>141.160000</td>\n      <td>143.210000</td>\n      <td>82234160.0</td>\n    </tr>\n    <tr>\n      <th>2022-12-13</th>\n      <td>149.500000</td>\n      <td>149.970000</td>\n      <td>144.240000</td>\n      <td>145.470000</td>\n      <td>93831797.0</td>\n    </tr>\n    <tr>\n      <th>2022-12-12</th>\n      <td>142.700000</td>\n      <td>144.500000</td>\n      <td>141.060000</td>\n      <td>144.490000</td>\n      <td>70422099.0</td>\n    </tr>\n    <tr>\n      <th>...</th>\n      <td>...</td>\n      <td>...</td>\n      <td>...</td>\n      <td>...</td>\n      <td>...</td>\n    </tr>\n    <tr>\n      <th>1980-12-18</th>\n      <td>0.118862</td>\n      <td>0.119420</td>\n      <td>0.118862</td>\n      <td>0.118862</td>\n      <td>73449600.0</td>\n    </tr>\n    <tr>\n      <th>1980-12-17</th>\n      <td>0.115513</td>\n      <td>0.116071</td>\n      <td>0.115513</td>\n      <td>0.115513</td>\n      <td>86441600.0</td>\n    </tr>\n    <tr>\n      <th>1980-12-16</th>\n      <td>0.113281</td>\n      <td>0.113281</td>\n      <td>0.112723</td>\n      <td>0.112723</td>\n      <td>105728000.0</td>\n    </tr>\n    <tr>\n      <th>1980-12-15</th>\n      <td>0.122210</td>\n      <td>0.122210</td>\n      <td>0.121652</td>\n      <td>0.121652</td>\n      <td>175884800.0</td>\n    </tr>\n    <tr>\n      <th>1980-12-12</th>\n      <td>0.128348</td>\n      <td>0.128906</td>\n      <td>0.128348</td>\n      <td>0.128348</td>\n      <td>469033600.0</td>\n    </tr>\n  </tbody>\n</table>\n<p>10594 rows × 5 columns</p>\n</div>"
     },
     "execution_count": 74,
     "metadata": {},
     "output_type": "execute_result"
    }
   ],
   "source": [
    "data = AAPL.data_detailed[data_cols]\n",
    "data"
   ],
   "metadata": {
    "collapsed": false
   }
  },
  {
   "cell_type": "code",
   "execution_count": 75,
   "outputs": [
    {
     "data": {
      "text/plain": "        operatingProfitMargin      netProfitMargin        returnOnAssets  \\\n2022-09   0.27615202005635303  0.22986044860559537   0.05874048560615725   \n2022-06    0.2781615014645789   0.2343567304331055  0.057809930748210725   \n2022-03   0.30817862209338187  0.25709821336787353   0.07132224193097626   \n2021-12    0.3347291137197951   0.2793981201339304   0.09084684580695766   \n2021-09   0.28534069097888676   0.2465331094049904   0.05854952393433656   \n...                       ...                  ...                   ...   \n1990-12     0.136317517159057   0.0898239331542823   0.04766731067684414   \n1990-09   0.10383280407650838  0.07274204268517835  0.033101455119803745   \n1990-06   0.13357268464243846  0.08777842907385698  0.041460460287246925   \n1990-03    0.1479720695290447  0.09790521467835389   0.04748351767121807   \n1989-12    0.1272264631043257  0.08356769787063077  0.044360715174350404   \n\n              returnOnEquity        currentRatio          quickRatio  \\\n2022-09  0.40892406062519737  0.8793560286267226  0.7094075930952969   \n2022-06   0.3345896363605073  0.8646292916926536  0.6966267045498294   \n2022-03  0.37107375480348376  0.9268438058788468  0.7600385858142235   \n2021-12   0.4814269031863427  1.0378115386179136   0.875262580129291   \n2021-09  0.32574100491361546  1.0745531195957954  0.9096596297447422   \n...                      ...                 ...                 ...   \n1990-12  0.09740469872500161  2.3724703907488576  1.4854052037676024   \n1990-09  0.06808128283107548   2.340116845180136  1.1067185978578384   \n1990-06  0.07950623838598354   2.637275904837073  1.5452700417183447   \n1990-03  0.08498291314720485  2.9312927805760043  1.6848766627921994   \n1989-12  0.08190051187819924  2.6050184832530525  1.2988686008737538   \n\n                   cashRatio   inventoryTurnover receivablesTurnover  \\\n2022-09  0.15356340351469652  10.523857662757784  1.4794525044311693   \n2022-06  0.21176072008808605   8.664457942205043   1.963898489654846   \n2022-03  0.22036264391253882  10.021794871794873  2.1426872246696034   \n2021-12    0.251528046945939   11.86215112321307  1.8994528987173003   \n2021-09   0.2784485300563432   7.323100303951367   1.618452219158933   \n...                      ...                 ...                 ...   \n1990-12   0.6894525785694302  1.8793145654834762  1.9630931458699472   \n1990-09   0.3648490749756573  1.6635724331926864   1.777267357920987   \n1990-06    0.749802683504341  1.9811579307982186  1.9345145287030474   \n1990-03   0.8340436523311378             1.80896  2.0434122647237403   \n1989-12   0.4598409320040327  1.5670417252695734  1.9938584779706274   \n\n           payablesTurnover            debtRatio     debtEquityRatio  \\\n2022-09  0.8118381034079388   0.8563535598361469   5.961536943479634   \n2022-06  0.9737500775706928   0.8272213946103137  4.7877536269296295   \n2022-03  1.0386659580122244    0.807794970655503  4.2027774892802565   \n2021-12  0.9373335843576021    0.811296699030145   4.299324361897347   \n2021-09  0.8799006628563081   0.8202574344305731   4.563512442542399   \n...                     ...                  ...                 ...   \n1990-12  1.8396836808051762   0.5106261679282932  1.0434276098634392   \n1990-09   1.736347621843805   0.5137950734281009  1.0567459220348354   \n1990-06  2.0720171981368685  0.47852569648728155   0.917640031855588   \n1990-03   2.397370653095844   0.4412580610296502  0.7897349925849507   \n1989-12  2.5840742172400466  0.45835851135676964     0.8462396639979   \n\n         priceEarningsRatio priceBookValueRatio          dividendYield  \n2022-09  29.094279320957142   47.58940336355801  0.0015355904623124512  \n2022-06   29.44196647082215   39.40390742084252   0.001664451729880866  \n2022-03  28.628169101859946   42.49264880710499     0.0012552540688802  \n2021-12   21.33929842928893   41.09324943592703  0.0012625512469071768  \n2021-09  29.466787353938763   38.39416369699132  0.0015027116177395326  \n...                     ...                 ...                    ...  \n1990-12   8.398446875000001  3.2721927504692254  0.0027492822590102694  \n1990-09   9.101845605964465  2.4786612999377935   0.003597195356710257  \n1990-06  11.653658333611267   3.706154150163604   0.002399527368976417  \n1990-03    9.67548076933564  3.2890021675116063   0.002646584793418943  \n1989-12           9.7005125   3.177907756923481  0.0028910711464854868  \n\n[132 rows x 15 columns]",
      "text/html": "<div>\n<style scoped>\n    .dataframe tbody tr th:only-of-type {\n        vertical-align: middle;\n    }\n\n    .dataframe tbody tr th {\n        vertical-align: top;\n    }\n\n    .dataframe thead th {\n        text-align: right;\n    }\n</style>\n<table border=\"1\" class=\"dataframe\">\n  <thead>\n    <tr style=\"text-align: right;\">\n      <th></th>\n      <th>operatingProfitMargin</th>\n      <th>netProfitMargin</th>\n      <th>returnOnAssets</th>\n      <th>returnOnEquity</th>\n      <th>currentRatio</th>\n      <th>quickRatio</th>\n      <th>cashRatio</th>\n      <th>inventoryTurnover</th>\n      <th>receivablesTurnover</th>\n      <th>payablesTurnover</th>\n      <th>debtRatio</th>\n      <th>debtEquityRatio</th>\n      <th>priceEarningsRatio</th>\n      <th>priceBookValueRatio</th>\n      <th>dividendYield</th>\n    </tr>\n  </thead>\n  <tbody>\n    <tr>\n      <th>2022-09</th>\n      <td>0.27615202005635303</td>\n      <td>0.22986044860559537</td>\n      <td>0.05874048560615725</td>\n      <td>0.40892406062519737</td>\n      <td>0.8793560286267226</td>\n      <td>0.7094075930952969</td>\n      <td>0.15356340351469652</td>\n      <td>10.523857662757784</td>\n      <td>1.4794525044311693</td>\n      <td>0.8118381034079388</td>\n      <td>0.8563535598361469</td>\n      <td>5.961536943479634</td>\n      <td>29.094279320957142</td>\n      <td>47.58940336355801</td>\n      <td>0.0015355904623124512</td>\n    </tr>\n    <tr>\n      <th>2022-06</th>\n      <td>0.2781615014645789</td>\n      <td>0.2343567304331055</td>\n      <td>0.057809930748210725</td>\n      <td>0.3345896363605073</td>\n      <td>0.8646292916926536</td>\n      <td>0.6966267045498294</td>\n      <td>0.21176072008808605</td>\n      <td>8.664457942205043</td>\n      <td>1.963898489654846</td>\n      <td>0.9737500775706928</td>\n      <td>0.8272213946103137</td>\n      <td>4.7877536269296295</td>\n      <td>29.44196647082215</td>\n      <td>39.40390742084252</td>\n      <td>0.001664451729880866</td>\n    </tr>\n    <tr>\n      <th>2022-03</th>\n      <td>0.30817862209338187</td>\n      <td>0.25709821336787353</td>\n      <td>0.07132224193097626</td>\n      <td>0.37107375480348376</td>\n      <td>0.9268438058788468</td>\n      <td>0.7600385858142235</td>\n      <td>0.22036264391253882</td>\n      <td>10.021794871794873</td>\n      <td>2.1426872246696034</td>\n      <td>1.0386659580122244</td>\n      <td>0.807794970655503</td>\n      <td>4.2027774892802565</td>\n      <td>28.628169101859946</td>\n      <td>42.49264880710499</td>\n      <td>0.0012552540688802</td>\n    </tr>\n    <tr>\n      <th>2021-12</th>\n      <td>0.3347291137197951</td>\n      <td>0.2793981201339304</td>\n      <td>0.09084684580695766</td>\n      <td>0.4814269031863427</td>\n      <td>1.0378115386179136</td>\n      <td>0.875262580129291</td>\n      <td>0.251528046945939</td>\n      <td>11.86215112321307</td>\n      <td>1.8994528987173003</td>\n      <td>0.9373335843576021</td>\n      <td>0.811296699030145</td>\n      <td>4.299324361897347</td>\n      <td>21.33929842928893</td>\n      <td>41.09324943592703</td>\n      <td>0.0012625512469071768</td>\n    </tr>\n    <tr>\n      <th>2021-09</th>\n      <td>0.28534069097888676</td>\n      <td>0.2465331094049904</td>\n      <td>0.05854952393433656</td>\n      <td>0.32574100491361546</td>\n      <td>1.0745531195957954</td>\n      <td>0.9096596297447422</td>\n      <td>0.2784485300563432</td>\n      <td>7.323100303951367</td>\n      <td>1.618452219158933</td>\n      <td>0.8799006628563081</td>\n      <td>0.8202574344305731</td>\n      <td>4.563512442542399</td>\n      <td>29.466787353938763</td>\n      <td>38.39416369699132</td>\n      <td>0.0015027116177395326</td>\n    </tr>\n    <tr>\n      <th>...</th>\n      <td>...</td>\n      <td>...</td>\n      <td>...</td>\n      <td>...</td>\n      <td>...</td>\n      <td>...</td>\n      <td>...</td>\n      <td>...</td>\n      <td>...</td>\n      <td>...</td>\n      <td>...</td>\n      <td>...</td>\n      <td>...</td>\n      <td>...</td>\n      <td>...</td>\n    </tr>\n    <tr>\n      <th>1990-12</th>\n      <td>0.136317517159057</td>\n      <td>0.0898239331542823</td>\n      <td>0.04766731067684414</td>\n      <td>0.09740469872500161</td>\n      <td>2.3724703907488576</td>\n      <td>1.4854052037676024</td>\n      <td>0.6894525785694302</td>\n      <td>1.8793145654834762</td>\n      <td>1.9630931458699472</td>\n      <td>1.8396836808051762</td>\n      <td>0.5106261679282932</td>\n      <td>1.0434276098634392</td>\n      <td>8.398446875000001</td>\n      <td>3.2721927504692254</td>\n      <td>0.0027492822590102694</td>\n    </tr>\n    <tr>\n      <th>1990-09</th>\n      <td>0.10383280407650838</td>\n      <td>0.07274204268517835</td>\n      <td>0.033101455119803745</td>\n      <td>0.06808128283107548</td>\n      <td>2.340116845180136</td>\n      <td>1.1067185978578384</td>\n      <td>0.3648490749756573</td>\n      <td>1.6635724331926864</td>\n      <td>1.777267357920987</td>\n      <td>1.736347621843805</td>\n      <td>0.5137950734281009</td>\n      <td>1.0567459220348354</td>\n      <td>9.101845605964465</td>\n      <td>2.4786612999377935</td>\n      <td>0.003597195356710257</td>\n    </tr>\n    <tr>\n      <th>1990-06</th>\n      <td>0.13357268464243846</td>\n      <td>0.08777842907385698</td>\n      <td>0.041460460287246925</td>\n      <td>0.07950623838598354</td>\n      <td>2.637275904837073</td>\n      <td>1.5452700417183447</td>\n      <td>0.749802683504341</td>\n      <td>1.9811579307982186</td>\n      <td>1.9345145287030474</td>\n      <td>2.0720171981368685</td>\n      <td>0.47852569648728155</td>\n      <td>0.917640031855588</td>\n      <td>11.653658333611267</td>\n      <td>3.706154150163604</td>\n      <td>0.002399527368976417</td>\n    </tr>\n    <tr>\n      <th>1990-03</th>\n      <td>0.1479720695290447</td>\n      <td>0.09790521467835389</td>\n      <td>0.04748351767121807</td>\n      <td>0.08498291314720485</td>\n      <td>2.9312927805760043</td>\n      <td>1.6848766627921994</td>\n      <td>0.8340436523311378</td>\n      <td>1.80896</td>\n      <td>2.0434122647237403</td>\n      <td>2.397370653095844</td>\n      <td>0.4412580610296502</td>\n      <td>0.7897349925849507</td>\n      <td>9.67548076933564</td>\n      <td>3.2890021675116063</td>\n      <td>0.002646584793418943</td>\n    </tr>\n    <tr>\n      <th>1989-12</th>\n      <td>0.1272264631043257</td>\n      <td>0.08356769787063077</td>\n      <td>0.044360715174350404</td>\n      <td>0.08190051187819924</td>\n      <td>2.6050184832530525</td>\n      <td>1.2988686008737538</td>\n      <td>0.4598409320040327</td>\n      <td>1.5670417252695734</td>\n      <td>1.9938584779706274</td>\n      <td>2.5840742172400466</td>\n      <td>0.45835851135676964</td>\n      <td>0.8462396639979</td>\n      <td>9.7005125</td>\n      <td>3.177907756923481</td>\n      <td>0.0028910711464854868</td>\n    </tr>\n  </tbody>\n</table>\n<p>132 rows × 15 columns</p>\n</div>"
     },
     "execution_count": 75,
     "metadata": {},
     "output_type": "execute_result"
    }
   ],
   "source": [
    "# AAPL.financial_ratios.loc[ratios_cols]\n",
    "ratios = AAPL.financial_ratios.loc[ratios_cols].transpose()\n",
    "ratios"
   ],
   "metadata": {
    "collapsed": false
   }
  },
  {
   "cell_type": "code",
   "execution_count": 89,
   "outputs": [],
   "source": [
    "merged_aapl = pd.merge(data, ratios, how=\"outer\", left_index=True, right_index=True)"
   ],
   "metadata": {
    "collapsed": false
   }
  },
  {
   "cell_type": "code",
   "execution_count": 104,
   "outputs": [],
   "source": [
    "_d = merged_aapl.bfill(axis=\"rows\")\n",
    "_d = _d.ffill(axis=\"rows\")\n",
    "# _d[~_d.index.str.contains('\\d{4}-\\d{2}-\\d{2}')]\n",
    "clean_d = _d.drop(_d[~_d.index.str.contains(\"\\d{4}-\\d{2}-\\d{2}\")].index)"
   ],
   "metadata": {
    "collapsed": false
   }
  }
 ],
 "metadata": {
  "colab": {
   "collapsed_sections": [
    "_gDkU-j-fCmZ",
    "MRiOtrywfAo1",
    "3Zpv4S0-fDBv",
    "Dr49PotrfG01"
   ],
   "name": "Stock_Fundamental.ipynb",
   "provenance": []
  },
  "gpuClass": "standard",
  "kernelspec": {
   "display_name": "Python 3.10.8 ('venv3.10': venv)",
   "language": "python",
   "name": "python3"
  },
  "language_info": {
   "codemirror_mode": {
    "name": "ipython",
    "version": 3
   },
   "file_extension": ".py",
   "mimetype": "text/x-python",
   "name": "python",
   "nbconvert_exporter": "python",
   "pygments_lexer": "ipython3",
   "version": "3.10.8"
  },
  "vscode": {
   "interpreter": {
    "hash": "32c0c8ab8a6b580687c5ec847b855eb3ee7063ee446f183d34922604f3e580fd"
   }
  }
 },
 "nbformat": 4,
 "nbformat_minor": 0
}
