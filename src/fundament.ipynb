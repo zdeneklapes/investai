{
 "cells": [
  {
   "cell_type": "code",
   "execution_count": null,
   "metadata": {
    "collapsed": false
   },
   "outputs": [],
   "source": [
    "# -*- coding: utf-8 -*-\n",
    "\n",
    "# ##############################################################################\n",
    "# # Stock trading with fundamentals\n",
    "# ##############################################################################\n",
    "\n",
    "# ##############################################################################\n",
    "# * This notebook is based on the tutorial:\n",
    "# https://towardsdatascience.com/finrl-for-quantitative-finance-tutorial-for-multiple-stock-trading-7b00763b7530\n",
    "\n",
    "\n",
    "# ##############################################################################\n",
    "# TODO\n",
    "# ##############################################################################\n",
    "# TODO: Add argument parser\n",
    "\n",
    "\n",
    "# ##############################################################################\n",
    "# INCLUDES\n",
    "# ##############################################################################\n",
    "import os\n",
    "import sys\n",
    "import typing as tp\n",
    "import warnings\n",
    "\n",
    "import matplotlib\n",
    "import pandas as pd\n",
    "import stable_baselines3 as sb3\n",
    "from finrl import config as finrl_config\n",
    "\n",
    "# from finrl.meta.env_stock_trading.env_stocktrading import StockTradingEnv\n",
    "from finrl.meta.preprocessor.preprocessors import FeatureEngineer, data_split\n",
    "from finrl.agents.stablebaselines3.models import DRLAgent\n",
    "from finrl.main import check_and_make_directories\n",
    "from finrl.plot import backtest_plot, backtest_stats, get_baseline\n",
    "from stable_baselines3.common.logger import configure, Logger\n",
    "from finrl.config import (\n",
    "    TRAIN_START_DATE,\n",
    "    TRAIN_END_DATE,\n",
    "    TEST_START_DATE,\n",
    "    TEST_END_DATE,\n",
    ")\n",
    "from finrl.config_tickers import (\n",
    "    DOW_30_TICKER,\n",
    "    CSI_300_TICKER,\n",
    "    NAS_100_TICKER,\n",
    "    CAC_40_TICKER,\n",
    "    DAX_30_TICKER,\n",
    "    HSI_50_TICKER,\n",
    ")\n",
    "\n",
    "sys.path.append(\"../\")\n",
    "sys.path.append(\"../../\")\n",
    "sys.path.append(\"../../../\")\n",
    "\n",
    "from common.Args import Args, argument_parser  # noqa: E402\n",
    "from config.settings import PROJECT_STUFF_DIR  # noqa: E402\n",
    "from stock.StockTradingEnv import StockTradingEnv  # noqa: E402\n",
    "from stock.hyperparameter import HyperParameter  # noqas: E402\n",
    "from Ratio import Ratio  # noqa: E402\n",
    "from common.utils import now_time\n",
    "\n",
    "from stock.Data import Data\n",
    "from stock.Agent import Agent\n",
    "\n",
    "\n",
    "# ##############################################################################\n",
    "# FUNCTIONS\n",
    "# ##############################################################################\n",
    "def config():\n",
    "    #\n",
    "    warnings.filterwarnings(\"ignore\", category=UserWarning)  # TODO: zipline problem\n",
    "    warnings.filterwarnings(\"ignore\", category=FutureWarning)  # TODO: ?\n",
    "    warnings.filterwarnings(\"ignore\", category=RuntimeWarning)  # TODO: ?\n",
    "\n",
    "    #\n",
    "    matplotlib.use(\"Agg\")\n",
    "\n",
    "    #\n",
    "    check_and_make_directories(\n",
    "        [\n",
    "            finrl_config.DATA_SAVE_DIR,\n",
    "            finrl_config.TRAINED_MODEL_DIR,\n",
    "            finrl_config.TENSORBOARD_LOG_DIR,\n",
    "            finrl_config.RESULTS_DIR,\n",
    "        ]\n",
    "    )\n",
    "\n",
    "\n",
    "# ##############################################################################\n",
    "# # Train/Test\n",
    "# ##############################################################################\n",
    "\n",
    "# ##############################################################################\n",
    "# ## Save/Load Helpers\n",
    "\n",
    "\n",
    "# ##############################################################################\n",
    "# # Main\n",
    "# ##############################################################################\n",
    "if __name__ == \"__main__\" and \"__file__\" in globals():\n",
    "    config()\n",
    "    args: Args = argument_parser()\n",
    "\n",
    "    if args.train:\n",
    "        data = Data(TRAIN_START_DATE, TRAIN_END_DATE, ticker_list=DOW_30_TICKER).get_preprocessed_data()\n",
    "        train_data = data_split(data, TRAIN_START_DATE, TRAIN_END_DATE)\n",
    "        trade_data = data_split(data, TEST_START_DATE, TEST_END_DATE)\n",
    "        agent = Agent(train_data, trade_data).train(model=\"a2c\")"
   ]
  },
  {
   "cell_type": "code",
   "execution_count": 13,
   "metadata": {},
   "outputs": [
    {
     "name": "stdout",
     "output_type": "stream",
     "text": [
      " "
     ]
    },
    {
     "name": "stdout",
     "output_type": "stream",
     "text": [
      "         4 function calls in 0.113 seconds\n",
      "\n",
      "   Ordered by: internal time\n",
      "\n",
      "   ncalls  tottime  percall  cumtime  percall filename:lineno(function)\n",
      "        1    0.113    0.113    0.113    0.113 3896508558.py:1(foo)\n",
      "        1    0.000    0.000    0.113    0.113 {built-in method builtins.exec}\n",
      "        1    0.000    0.000    0.113    0.113 <string>:1(<module>)\n",
      "        1    0.000    0.000    0.000    0.000 {method 'disable' of '_lsprof.Profiler' objects}"
     ]
    }
   ],
   "source": [
    "\n",
    "\n",
    "def foo():\n",
    "    f = 0\n",
    "    h =100\n",
    "    for i in range(h):\n",
    "        for j in range(h):\n",
    "            for k in range(h):\n",
    "                f += i * j * k\n",
    "\n",
    "# %load_ext line_profiler\n",
    "%lprun -f foo foo()\n",
    "# %prun foo()\n",
    "\n"
   ]
  },
  {
   "cell_type": "code",
   "execution_count": null,
   "metadata": {},
   "outputs": [],
   "source": []
  }
 ],
 "metadata": {
  "colab": {
   "collapsed_sections": [
    "_gDkU-j-fCmZ",
    "MRiOtrywfAo1",
    "3Zpv4S0-fDBv",
    "Dr49PotrfG01"
   ],
   "name": "Stock_Fundamental.ipynb",
   "provenance": []
  },
  "gpuClass": "standard",
  "kernelspec": {
   "display_name": "Python 3.10.8 ('venv3.10': venv)",
   "language": "python",
   "name": "python3"
  },
  "language_info": {
   "codemirror_mode": {
    "name": "ipython",
    "version": 3
   },
   "file_extension": ".py",
   "mimetype": "text/x-python",
   "name": "python",
   "nbconvert_exporter": "python",
   "pygments_lexer": "ipython3",
   "version": "3.10.8"
  },
  "vscode": {
   "interpreter": {
    "hash": "32c0c8ab8a6b580687c5ec847b855eb3ee7063ee446f183d34922604f3e580fd"
   }
  }
 },
 "nbformat": 4,
 "nbformat_minor": 0
}
