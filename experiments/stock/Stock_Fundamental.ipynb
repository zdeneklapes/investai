{
 "cells": [
  {
   "cell_type": "markdown",
   "metadata": {
    "id": "WwNYSFfH3Zzk",
    "pycharm": {
     "name": "#%% md\n"
    }
   },
   "source": [
    "<a href=\"https://colab.research.google.com/github/AI4Finance-Foundation/FinRL/blob/master/tutorials/1-Introduction/Stock_Fundamental.ipynb\" target=\"_parent\"><img src=\"https://colab.research.google.com/assets/colab-badge.svg\" alt=\"Open In Colab\"/></a>"
   ]
  },
  {
   "cell_type": "markdown",
   "metadata": {
    "id": "gXaoZs2lh1hi",
    "pycharm": {
     "name": "#%% md\n"
    }
   },
   "source": [
    "# Stock trading with fundamentals\n",
    "\n",
    "* This notebook is based on the tutorial: https://towardsdatascience.com/finrl-for-quantitative-finance-tutorial-for-multiple-stock-trading-7b00763b7530\n",
    "\n",
    "* This project is a result of the almuni-mentored research project at Columbia University, Application of Reinforcement Learning to Finance.\n",
    "* For detailed explanation, please check out the Medium article: https://medium.com/@mariko.sawada1/automated-stock-trading-with-deep-reinforcement-learning-and-financial-data-a63286ccbe2b\n",
    "\n"
   ]
  },
  {
   "cell_type": "markdown",
   "metadata": {
    "id": "lGunVt8oLCVS",
    "pycharm": {
     "name": "#%% md\n"
    }
   },
   "source": [
    "# Content"
   ]
  },
  {
   "cell_type": "markdown",
   "metadata": {
    "id": "HOzAKQ-SLGX6",
    "pycharm": {
     "name": "#%% md\n"
    }
   },
   "source": [
    "* [1. Task Discription](#0)\n",
    "* [2. Install Python packages](#1)\n",
    "    * [2.1. Install Packages](#1.1)    \n",
    "    * [2.2. A List of Python Packages](#1.2)\n",
    "    * [2.3. Import Packages](#1.3)\n",
    "    * [2.4. Create Folders](#1.4)\n",
    "* [3. Download Data](#2)\n",
    "* [4. Preprocess fundamental Data](#3)        \n",
    "    * [4.1 Import financial data](#3.1)\n",
    "    * [4.2 Specify items needed to calculate financial ratios](#3.2)\n",
    "    * [4.3 Calculate financial ratios](#3.3)\n",
    "    * [4.4 Deal with NAs and infinite values](#3.4)\n",
    "    * [4.5 Merge stock price data and ratios into one dataframe](#3.5)\n",
    "    * [4.6 Calculate market valuation ratios using daily stock price data](#3.6)\n",
    "* [5. Build Environment](#4)  \n",
    "    * [5.1. Training & Trade Data Split](#4.1)\n",
    "    * [5.2. User-defined Environment](#4.2)   \n",
    "    * [5.3. Initialize Environment](#4.3)    \n",
    "* [6. Train DRL Agents](#5)  \n",
    "* [7. Backtesting Performance](#6)  \n",
    "    * [7.1. BackTestStats](#6.1)\n",
    "    * [7.2. BackTestPlot](#6.2)   \n",
    "    * [7.3. Baseline Stats](#6.3)   \n",
    "    * [7.3. Compare to Stock Market Index](#6.4)             "
   ]
  },
  {
   "cell_type": "markdown",
   "metadata": {
    "id": "sApkDlD9LIZv",
    "pycharm": {
     "name": "#%% md\n"
    }
   },
   "source": [
    "<a id='0'></a>\n",
    "# Part 1. Task Description"
   ]
  },
  {
   "cell_type": "markdown",
   "metadata": {
    "id": "HjLD2TZSLKZ-",
    "pycharm": {
     "name": "#%% md\n"
    }
   },
   "source": [
    "We train a DRL agent for stock trading. The task is modeled as a Markov Decision Process (MDP), and the objective function is maximizing (expected) cumulative return.\n",
    "\n",
    "We specify the state-action-reward as follows:\n",
    "\n",
    "* **State s**: The state space represents an agent's perception of the market environment. Like a human trader analyzes various information, here our agent passively observes many features and learn by interacting with the market environment (usually by replaying historical data).\n",
    "\n",
    "* **Action a**: The action space includes allowed actions that an agent can take at each state. For example, a ∈ {−1, 0, 1}, where −1, 0, 1 represent\n",
    "selling, holding, and buying. When an action operates multiple shares, a ∈{−k, ..., −1, 0, 1, ..., k}, e.g.. \"Buy\n",
    "10 shares of AAPL\" or \"Sell 10 shares of AAPL\" are 10 or −10, respectively\n",
    "\n",
    "* **Reward function r(s, a, s′)**: Reward is an incentive for an agent to learn a better policy. For example, it can be the change of the portfolio value when taking a at state s and arriving at new state s',  i.e., r(s, a, s′) = v′ − v, where v′ and v represent the portfolio values at state s′ and s, respectively\n",
    "\n",
    "\n",
    "**Market environment**: 30 consituent stocks of Dow Jones Industrial Average (DJIA) index. Accessed at the starting date of the testing period.\n",
    "\n",
    "\n",
    "The data of the single stock that we will use for this case study is obtained from Yahoo Finance API. The data contains Open-High-Low-Close prices and volume.\n"
   ]
  },
  {
   "cell_type": "markdown",
   "metadata": {
    "id": "Ffsre789LY08",
    "pycharm": {
     "name": "#%% md\n"
    }
   },
   "source": [
    "<a id='1'></a>\n",
    "# Part 2. Load Python Packages"
   ]
  },
  {
   "cell_type": "markdown",
   "metadata": {
    "id": "Uy5_PTmOh1hj",
    "pycharm": {
     "name": "#%% md\n"
    }
   },
   "source": [
    "<a id='1.1'></a>\n",
    "## 2.1. Install all the packages through FinRL library\n"
   ]
  },
  {
   "cell_type": "code",
   "execution_count": 57,
   "metadata": {
    "colab": {
     "base_uri": "https://localhost:8080/",
     "height": 1000
    },
    "id": "mPT0ipYE28wL",
    "outputId": "4a352ef5-65c2-4393-c78b-909aa8a0b4d0",
    "pycharm": {
     "name": "#%%\n"
    }
   },
   "outputs": [
    {
     "name": "stdout",
     "output_type": "stream",
     "text": [
      "Collecting git+https://github.com/AI4Finance-Foundation/FinRL.git\r\n",
      "  Cloning https://github.com/AI4Finance-Foundation/FinRL.git to /private/var/folders/9c/z5w432ls60300pg8dcrpkhkr0000gn/T/pip-req-build-8iecttxn\r\n",
      "  Running command git clone --filter=blob:none --quiet https://github.com/AI4Finance-Foundation/FinRL.git /private/var/folders/9c/z5w432ls60300pg8dcrpkhkr0000gn/T/pip-req-build-8iecttxn\r\n",
      "  Resolved https://github.com/AI4Finance-Foundation/FinRL.git to commit eec4c887681dec9ef45bea641cde461c2b2a7084\r\n",
      "  Preparing metadata (setup.py) ... \u001B[?25ldone\r\n",
      "\u001B[?25hCollecting pyfolio@ git+https://github.com/quantopian/pyfolio.git#egg=pyfolio-0.9.2\r\n",
      "  Cloning https://github.com/quantopian/pyfolio.git to /private/var/folders/9c/z5w432ls60300pg8dcrpkhkr0000gn/T/pip-install-zc8i5l_g/pyfolio_b8ebc5dbe42647e4a9a7a7f313475312\r\n",
      "  Running command git clone --filter=blob:none --quiet https://github.com/quantopian/pyfolio.git /private/var/folders/9c/z5w432ls60300pg8dcrpkhkr0000gn/T/pip-install-zc8i5l_g/pyfolio_b8ebc5dbe42647e4a9a7a7f313475312\r\n",
      "  Resolved https://github.com/quantopian/pyfolio.git to commit 4b901f6d73aa02ceb6d04b7d83502e5c6f2e81aa\r\n",
      "  Preparing metadata (setup.py) ... \u001B[?25ldone\r\n",
      "\u001B[?25hCollecting elegantrl@ git+https://github.com/AI4Finance-Foundation/ElegantRL.git#egg=elegantrl\r\n",
      "  Cloning https://github.com/AI4Finance-Foundation/ElegantRL.git to /private/var/folders/9c/z5w432ls60300pg8dcrpkhkr0000gn/T/pip-install-zc8i5l_g/elegantrl_26d499d342dc4d3abf3dc80749190f5a\r\n",
      "  Running command git clone --filter=blob:none --quiet https://github.com/AI4Finance-Foundation/ElegantRL.git /private/var/folders/9c/z5w432ls60300pg8dcrpkhkr0000gn/T/pip-install-zc8i5l_g/elegantrl_26d499d342dc4d3abf3dc80749190f5a\r\n",
      "  Resolved https://github.com/AI4Finance-Foundation/ElegantRL.git to commit 1d5bf9e1639222c5d2a462adcc0c4eab453bbe70\r\n",
      "  Preparing metadata (setup.py) ... \u001B[?25ldone\r\n",
      "\u001B[?25hRequirement already satisfied: alpaca_trade_api>=2.1.0 in /Users/zlapik/my-drive-zdenda-lapes/0-todo/ai-investing/venv_2/lib/python3.10/site-packages (from finrl==0.3.5) (2.3.0)\r\n",
      "Requirement already satisfied: ccxt==1.66.32 in /Users/zlapik/my-drive-zdenda-lapes/0-todo/ai-investing/venv_2/lib/python3.10/site-packages (from finrl==0.3.5) (1.66.32)\r\n",
      "Requirement already satisfied: elegantrl in /Users/zlapik/my-drive-zdenda-lapes/0-todo/ai-investing/venv_2/lib/python3.10/site-packages (from finrl==0.3.5) (0.3.3)\r\n",
      "Requirement already satisfied: exchange_calendars==3.6.3 in /Users/zlapik/my-drive-zdenda-lapes/0-todo/ai-investing/venv_2/lib/python3.10/site-packages (from finrl==0.3.5) (3.6.3)\r\n",
      "Requirement already satisfied: gputil in /Users/zlapik/my-drive-zdenda-lapes/0-todo/ai-investing/venv_2/lib/python3.10/site-packages (from finrl==0.3.5) (1.4.0)\r\n",
      "Requirement already satisfied: gym>=0.17 in /Users/zlapik/my-drive-zdenda-lapes/0-todo/ai-investing/venv_2/lib/python3.10/site-packages (from finrl==0.3.5) (0.21.0)\r\n",
      "Requirement already satisfied: importlib-metadata==4.13.0 in /Users/zlapik/my-drive-zdenda-lapes/0-todo/ai-investing/venv_2/lib/python3.10/site-packages (from finrl==0.3.5) (4.13.0)\r\n",
      "Requirement already satisfied: jqdatasdk in /Users/zlapik/my-drive-zdenda-lapes/0-todo/ai-investing/venv_2/lib/python3.10/site-packages (from finrl==0.3.5) (1.8.11)\r\n",
      "Requirement already satisfied: lz4 in /Users/zlapik/my-drive-zdenda-lapes/0-todo/ai-investing/venv_2/lib/python3.10/site-packages (from finrl==0.3.5) (4.0.2)\r\n",
      "Requirement already satisfied: matplotlib in /Users/zlapik/my-drive-zdenda-lapes/0-todo/ai-investing/venv_2/lib/python3.10/site-packages (from finrl==0.3.5) (3.6.0)\r\n",
      "Requirement already satisfied: numpy>=1.17.3 in /Users/zlapik/my-drive-zdenda-lapes/0-todo/ai-investing/venv_2/lib/python3.10/site-packages (from finrl==0.3.5) (1.23.4)\r\n",
      "Requirement already satisfied: pandas>=1.1.5 in /Users/zlapik/my-drive-zdenda-lapes/0-todo/ai-investing/venv_2/lib/python3.10/site-packages (from finrl==0.3.5) (1.5.1)\r\n",
      "Requirement already satisfied: pre-commit in /Users/zlapik/my-drive-zdenda-lapes/0-todo/ai-investing/venv_2/lib/python3.10/site-packages (from finrl==0.3.5) (2.20.0)\r\n",
      "Requirement already satisfied: pytest in /Users/zlapik/my-drive-zdenda-lapes/0-todo/ai-investing/venv_2/lib/python3.10/site-packages (from finrl==0.3.5) (7.1.3)\r\n",
      "Requirement already satisfied: ray[default] in /Users/zlapik/my-drive-zdenda-lapes/0-todo/ai-investing/venv_2/lib/python3.10/site-packages (from finrl==0.3.5) (2.0.1)\r\n",
      "Requirement already satisfied: scikit-learn>=0.21.0 in /Users/zlapik/my-drive-zdenda-lapes/0-todo/ai-investing/venv_2/lib/python3.10/site-packages (from finrl==0.3.5) (1.1.2)\r\n",
      "Requirement already satisfied: setuptools==59.5.0 in /Users/zlapik/my-drive-zdenda-lapes/0-todo/ai-investing/venv_2/lib/python3.10/site-packages (from finrl==0.3.5) (59.5.0)\r\n",
      "Requirement already satisfied: stable-baselines3[extra] in /Users/zlapik/my-drive-zdenda-lapes/0-todo/ai-investing/venv_2/lib/python3.10/site-packages (from finrl==0.3.5) (1.6.2)\r\n",
      "Requirement already satisfied: stockstats>=0.4.0 in /Users/zlapik/my-drive-zdenda-lapes/0-todo/ai-investing/venv_2/lib/python3.10/site-packages (from finrl==0.3.5) (0.4.1)\r\n",
      "Requirement already satisfied: tensorboardX in /Users/zlapik/my-drive-zdenda-lapes/0-todo/ai-investing/venv_2/lib/python3.10/site-packages (from finrl==0.3.5) (2.5.1)\r\n",
      "Requirement already satisfied: wheel>=0.33.6 in /Users/zlapik/my-drive-zdenda-lapes/0-todo/ai-investing/venv_2/lib/python3.10/site-packages (from finrl==0.3.5) (0.37.1)\r\n",
      "Requirement already satisfied: wrds in /Users/zlapik/my-drive-zdenda-lapes/0-todo/ai-investing/venv_2/lib/python3.10/site-packages (from finrl==0.3.5) (3.1.2)\r\n",
      "Requirement already satisfied: yfinance in /Users/zlapik/my-drive-zdenda-lapes/0-todo/ai-investing/venv_2/lib/python3.10/site-packages (from finrl==0.3.5) (0.1.80)\r\n",
      "Requirement already satisfied: requests>=2.18.4 in /Users/zlapik/my-drive-zdenda-lapes/0-todo/ai-investing/venv_2/lib/python3.10/site-packages (from ccxt==1.66.32->finrl==0.3.5) (2.28.1)\r\n",
      "Requirement already satisfied: cryptography>=2.6.1 in /Users/zlapik/my-drive-zdenda-lapes/0-todo/ai-investing/venv_2/lib/python3.10/site-packages (from ccxt==1.66.32->finrl==0.3.5) (38.0.1)\r\n",
      "Requirement already satisfied: yarl==1.7.2 in /Users/zlapik/my-drive-zdenda-lapes/0-todo/ai-investing/venv_2/lib/python3.10/site-packages (from ccxt==1.66.32->finrl==0.3.5) (1.7.2)\r\n",
      "Requirement already satisfied: aiodns>=1.1.1 in /Users/zlapik/my-drive-zdenda-lapes/0-todo/ai-investing/venv_2/lib/python3.10/site-packages (from ccxt==1.66.32->finrl==0.3.5) (3.0.0)\r\n",
      "Requirement already satisfied: aiohttp>=3.8 in /Users/zlapik/my-drive-zdenda-lapes/0-todo/ai-investing/venv_2/lib/python3.10/site-packages (from ccxt==1.66.32->finrl==0.3.5) (3.8.1)\r\n",
      "Requirement already satisfied: certifi>=2018.1.18 in /Users/zlapik/my-drive-zdenda-lapes/0-todo/ai-investing/venv_2/lib/python3.10/site-packages (from ccxt==1.66.32->finrl==0.3.5) (2022.9.24)\r\n",
      "Requirement already satisfied: pyluach in /Users/zlapik/my-drive-zdenda-lapes/0-todo/ai-investing/venv_2/lib/python3.10/site-packages (from exchange_calendars==3.6.3->finrl==0.3.5) (2.0.1)\r\n",
      "Requirement already satisfied: pytz in /Users/zlapik/my-drive-zdenda-lapes/0-todo/ai-investing/venv_2/lib/python3.10/site-packages (from exchange_calendars==3.6.3->finrl==0.3.5) (2022.5)\r\n",
      "Requirement already satisfied: python-dateutil in /Users/zlapik/my-drive-zdenda-lapes/0-todo/ai-investing/venv_2/lib/python3.10/site-packages (from exchange_calendars==3.6.3->finrl==0.3.5) (2.8.2)\r\n",
      "Requirement already satisfied: korean-lunar-calendar in /Users/zlapik/my-drive-zdenda-lapes/0-todo/ai-investing/venv_2/lib/python3.10/site-packages (from exchange_calendars==3.6.3->finrl==0.3.5) (0.3.1)\r\n",
      "Requirement already satisfied: toolz in /Users/zlapik/my-drive-zdenda-lapes/0-todo/ai-investing/venv_2/lib/python3.10/site-packages (from exchange_calendars==3.6.3->finrl==0.3.5) (0.12.0)\r\n",
      "Requirement already satisfied: zipp>=0.5 in /Users/zlapik/my-drive-zdenda-lapes/0-todo/ai-investing/venv_2/lib/python3.10/site-packages (from importlib-metadata==4.13.0->finrl==0.3.5) (3.9.0)\r\n",
      "Requirement already satisfied: multidict>=4.0 in /Users/zlapik/my-drive-zdenda-lapes/0-todo/ai-investing/venv_2/lib/python3.10/site-packages (from yarl==1.7.2->ccxt==1.66.32->finrl==0.3.5) (6.0.2)\r\n",
      "Requirement already satisfied: idna>=2.0 in /Users/zlapik/my-drive-zdenda-lapes/0-todo/ai-investing/venv_2/lib/python3.10/site-packages (from yarl==1.7.2->ccxt==1.66.32->finrl==0.3.5) (3.4)\r\n",
      "Requirement already satisfied: PyYAML==6.0 in /Users/zlapik/my-drive-zdenda-lapes/0-todo/ai-investing/venv_2/lib/python3.10/site-packages (from alpaca_trade_api>=2.1.0->finrl==0.3.5) (6.0)\r\n",
      "Requirement already satisfied: websocket-client<2,>=0.56.0 in /Users/zlapik/my-drive-zdenda-lapes/0-todo/ai-investing/venv_2/lib/python3.10/site-packages (from alpaca_trade_api>=2.1.0->finrl==0.3.5) (1.4.1)\r\n",
      "Requirement already satisfied: deprecation==2.1.0 in /Users/zlapik/my-drive-zdenda-lapes/0-todo/ai-investing/venv_2/lib/python3.10/site-packages (from alpaca_trade_api>=2.1.0->finrl==0.3.5) (2.1.0)\r\n",
      "Requirement already satisfied: urllib3<2,>1.24 in /Users/zlapik/my-drive-zdenda-lapes/0-todo/ai-investing/venv_2/lib/python3.10/site-packages (from alpaca_trade_api>=2.1.0->finrl==0.3.5) (1.26.12)\r\n",
      "Requirement already satisfied: msgpack==1.0.3 in /Users/zlapik/my-drive-zdenda-lapes/0-todo/ai-investing/venv_2/lib/python3.10/site-packages (from alpaca_trade_api>=2.1.0->finrl==0.3.5) (1.0.3)\r\n",
      "Requirement already satisfied: websockets<11,>=9.0 in /Users/zlapik/my-drive-zdenda-lapes/0-todo/ai-investing/venv_2/lib/python3.10/site-packages (from alpaca_trade_api>=2.1.0->finrl==0.3.5) (10.3)\r\n",
      "Requirement already satisfied: async-timeout<5.0,>=4.0.0a3 in /Users/zlapik/my-drive-zdenda-lapes/0-todo/ai-investing/venv_2/lib/python3.10/site-packages (from aiohttp>=3.8->ccxt==1.66.32->finrl==0.3.5) (4.0.2)\r\n",
      "Requirement already satisfied: aiosignal>=1.1.2 in /Users/zlapik/my-drive-zdenda-lapes/0-todo/ai-investing/venv_2/lib/python3.10/site-packages (from aiohttp>=3.8->ccxt==1.66.32->finrl==0.3.5) (1.2.0)\r\n",
      "Requirement already satisfied: frozenlist>=1.1.1 in /Users/zlapik/my-drive-zdenda-lapes/0-todo/ai-investing/venv_2/lib/python3.10/site-packages (from aiohttp>=3.8->ccxt==1.66.32->finrl==0.3.5) (1.3.1)\r\n",
      "Requirement already satisfied: attrs>=17.3.0 in /Users/zlapik/my-drive-zdenda-lapes/0-todo/ai-investing/venv_2/lib/python3.10/site-packages (from aiohttp>=3.8->ccxt==1.66.32->finrl==0.3.5) (22.1.0)\r\n",
      "Requirement already satisfied: charset-normalizer<3.0,>=2.0 in /Users/zlapik/my-drive-zdenda-lapes/0-todo/ai-investing/venv_2/lib/python3.10/site-packages (from aiohttp>=3.8->ccxt==1.66.32->finrl==0.3.5) (2.1.1)\r\n",
      "Requirement already satisfied: packaging in /Users/zlapik/my-drive-zdenda-lapes/0-todo/ai-investing/venv_2/lib/python3.10/site-packages (from deprecation==2.1.0->alpaca_trade_api>=2.1.0->finrl==0.3.5) (21.3)\r\n",
      "Requirement already satisfied: cloudpickle>=1.2.0 in /Users/zlapik/my-drive-zdenda-lapes/0-todo/ai-investing/venv_2/lib/python3.10/site-packages (from gym>=0.17->finrl==0.3.5) (2.2.0)\r\n",
      "Requirement already satisfied: joblib>=1.0.0 in /Users/zlapik/my-drive-zdenda-lapes/0-todo/ai-investing/venv_2/lib/python3.10/site-packages (from scikit-learn>=0.21.0->finrl==0.3.5) (1.2.0)\r\n",
      "Requirement already satisfied: scipy>=1.3.2 in /Users/zlapik/my-drive-zdenda-lapes/0-todo/ai-investing/venv_2/lib/python3.10/site-packages (from scikit-learn>=0.21.0->finrl==0.3.5) (1.9.3)\r\n",
      "Requirement already satisfied: threadpoolctl>=2.0.0 in /Users/zlapik/my-drive-zdenda-lapes/0-todo/ai-investing/venv_2/lib/python3.10/site-packages (from scikit-learn>=0.21.0->finrl==0.3.5) (3.1.0)\r\n",
      "Requirement already satisfied: pybullet in /Users/zlapik/my-drive-zdenda-lapes/0-todo/ai-investing/venv_2/lib/python3.10/site-packages (from elegantrl@ git+https://github.com/AI4Finance-Foundation/ElegantRL.git#egg=elegantrl->finrl==0.3.5) (3.2.5)\r\n",
      "Requirement already satisfied: torch in /Users/zlapik/my-drive-zdenda-lapes/0-todo/ai-investing/venv_2/lib/python3.10/site-packages (from elegantrl@ git+https://github.com/AI4Finance-Foundation/ElegantRL.git#egg=elegantrl->finrl==0.3.5) (1.12.1)\r\n",
      "Requirement already satisfied: opencv-python in /Users/zlapik/my-drive-zdenda-lapes/0-todo/ai-investing/venv_2/lib/python3.10/site-packages (from elegantrl@ git+https://github.com/AI4Finance-Foundation/ElegantRL.git#egg=elegantrl->finrl==0.3.5) (4.6.0.66)\r\n",
      "Requirement already satisfied: box2d-py in /Users/zlapik/my-drive-zdenda-lapes/0-todo/ai-investing/venv_2/lib/python3.10/site-packages (from elegantrl@ git+https://github.com/AI4Finance-Foundation/ElegantRL.git#egg=elegantrl->finrl==0.3.5) (2.3.8)\r\n",
      "Requirement already satisfied: thriftpy2>=0.3.9 in /Users/zlapik/my-drive-zdenda-lapes/0-todo/ai-investing/venv_2/lib/python3.10/site-packages (from jqdatasdk->finrl==0.3.5) (0.4.14)\r\n",
      "Requirement already satisfied: six in /Users/zlapik/my-drive-zdenda-lapes/0-todo/ai-investing/venv_2/lib/python3.10/site-packages (from jqdatasdk->finrl==0.3.5) (1.16.0)\r\n",
      "Requirement already satisfied: pymysql>=0.7.6 in /Users/zlapik/my-drive-zdenda-lapes/0-todo/ai-investing/venv_2/lib/python3.10/site-packages (from jqdatasdk->finrl==0.3.5) (1.0.2)\r\n",
      "Requirement already satisfied: SQLAlchemy>=1.2.8 in /Users/zlapik/my-drive-zdenda-lapes/0-todo/ai-investing/venv_2/lib/python3.10/site-packages (from jqdatasdk->finrl==0.3.5) (1.4.42)\r\n",
      "Requirement already satisfied: fonttools>=4.22.0 in /Users/zlapik/my-drive-zdenda-lapes/0-todo/ai-investing/venv_2/lib/python3.10/site-packages (from matplotlib->finrl==0.3.5) (4.38.0)\r\n",
      "Requirement already satisfied: kiwisolver>=1.0.1 in /Users/zlapik/my-drive-zdenda-lapes/0-todo/ai-investing/venv_2/lib/python3.10/site-packages (from matplotlib->finrl==0.3.5) (1.4.4)\r\n",
      "Requirement already satisfied: pyparsing>=2.2.1 in /Users/zlapik/my-drive-zdenda-lapes/0-todo/ai-investing/venv_2/lib/python3.10/site-packages (from matplotlib->finrl==0.3.5) (3.0.9)\r\n",
      "Requirement already satisfied: cycler>=0.10 in /Users/zlapik/my-drive-zdenda-lapes/0-todo/ai-investing/venv_2/lib/python3.10/site-packages (from matplotlib->finrl==0.3.5) (0.11.0)\r\n",
      "Requirement already satisfied: pillow>=6.2.0 in /Users/zlapik/my-drive-zdenda-lapes/0-todo/ai-investing/venv_2/lib/python3.10/site-packages (from matplotlib->finrl==0.3.5) (9.2.0)\r\n",
      "Requirement already satisfied: contourpy>=1.0.1 in /Users/zlapik/my-drive-zdenda-lapes/0-todo/ai-investing/venv_2/lib/python3.10/site-packages (from matplotlib->finrl==0.3.5) (1.0.5)\r\n",
      "Requirement already satisfied: nodeenv>=0.11.1 in /Users/zlapik/my-drive-zdenda-lapes/0-todo/ai-investing/venv_2/lib/python3.10/site-packages (from pre-commit->finrl==0.3.5) (1.7.0)\r\n",
      "Requirement already satisfied: toml in /Users/zlapik/my-drive-zdenda-lapes/0-todo/ai-investing/venv_2/lib/python3.10/site-packages (from pre-commit->finrl==0.3.5) (0.10.2)\r\n",
      "Requirement already satisfied: identify>=1.0.0 in /Users/zlapik/my-drive-zdenda-lapes/0-todo/ai-investing/venv_2/lib/python3.10/site-packages (from pre-commit->finrl==0.3.5) (2.5.6)\r\n",
      "Requirement already satisfied: virtualenv>=20.0.8 in /Users/zlapik/my-drive-zdenda-lapes/0-todo/ai-investing/venv_2/lib/python3.10/site-packages (from pre-commit->finrl==0.3.5) (20.16.5)\r\n",
      "Requirement already satisfied: cfgv>=2.0.0 in /Users/zlapik/my-drive-zdenda-lapes/0-todo/ai-investing/venv_2/lib/python3.10/site-packages (from pre-commit->finrl==0.3.5) (3.3.1)\r\n",
      "Requirement already satisfied: ipython>=3.2.3 in /Users/zlapik/my-drive-zdenda-lapes/0-todo/ai-investing/venv_2/lib/python3.10/site-packages (from pyfolio@ git+https://github.com/quantopian/pyfolio.git#egg=pyfolio-0.9.2->finrl==0.3.5) (8.5.0)\r\n",
      "Requirement already satisfied: seaborn>=0.7.1 in /Users/zlapik/my-drive-zdenda-lapes/0-todo/ai-investing/venv_2/lib/python3.10/site-packages (from pyfolio@ git+https://github.com/quantopian/pyfolio.git#egg=pyfolio-0.9.2->finrl==0.3.5) (0.12.1)\r\n",
      "Requirement already satisfied: empyrical>=0.5.0 in /Users/zlapik/my-drive-zdenda-lapes/0-todo/ai-investing/venv_2/lib/python3.10/site-packages (from pyfolio@ git+https://github.com/quantopian/pyfolio.git#egg=pyfolio-0.9.2->finrl==0.3.5) (0.5.5)\r\n",
      "Requirement already satisfied: tomli>=1.0.0 in /Users/zlapik/my-drive-zdenda-lapes/0-todo/ai-investing/venv_2/lib/python3.10/site-packages (from pytest->finrl==0.3.5) (2.0.1)\r\n",
      "Requirement already satisfied: py>=1.8.2 in /Users/zlapik/my-drive-zdenda-lapes/0-todo/ai-investing/venv_2/lib/python3.10/site-packages (from pytest->finrl==0.3.5) (1.11.0)\r\n",
      "Requirement already satisfied: pluggy<2.0,>=0.12 in /Users/zlapik/my-drive-zdenda-lapes/0-todo/ai-investing/venv_2/lib/python3.10/site-packages (from pytest->finrl==0.3.5) (1.0.0)\r\n",
      "Requirement already satisfied: iniconfig in /Users/zlapik/my-drive-zdenda-lapes/0-todo/ai-investing/venv_2/lib/python3.10/site-packages (from pytest->finrl==0.3.5) (1.1.1)\r\n",
      "Requirement already satisfied: filelock in /Users/zlapik/my-drive-zdenda-lapes/0-todo/ai-investing/venv_2/lib/python3.10/site-packages (from ray[default]->finrl==0.3.5) (3.8.0)\r\n",
      "Requirement already satisfied: click<=8.0.4,>=7.0 in /Users/zlapik/my-drive-zdenda-lapes/0-todo/ai-investing/venv_2/lib/python3.10/site-packages (from ray[default]->finrl==0.3.5) (8.0.4)\r\n",
      "Requirement already satisfied: protobuf<4.0.0,>=3.15.3 in /Users/zlapik/my-drive-zdenda-lapes/0-todo/ai-investing/venv_2/lib/python3.10/site-packages (from ray[default]->finrl==0.3.5) (3.19.6)\r\n",
      "Requirement already satisfied: grpcio<=1.43.0,>=1.42.0 in /Users/zlapik/my-drive-zdenda-lapes/0-todo/ai-investing/venv_2/lib/python3.10/site-packages (from ray[default]->finrl==0.3.5) (1.43.0)\r\n",
      "Requirement already satisfied: jsonschema in /Users/zlapik/my-drive-zdenda-lapes/0-todo/ai-investing/venv_2/lib/python3.10/site-packages (from ray[default]->finrl==0.3.5) (4.16.0)\r\n",
      "Requirement already satisfied: colorful in /Users/zlapik/my-drive-zdenda-lapes/0-todo/ai-investing/venv_2/lib/python3.10/site-packages (from ray[default]->finrl==0.3.5) (0.5.4)\r\n",
      "Requirement already satisfied: opencensus in /Users/zlapik/my-drive-zdenda-lapes/0-todo/ai-investing/venv_2/lib/python3.10/site-packages (from ray[default]->finrl==0.3.5) (0.11.0)\r\n",
      "Requirement already satisfied: prometheus-client<0.14.0,>=0.7.1 in /Users/zlapik/my-drive-zdenda-lapes/0-todo/ai-investing/venv_2/lib/python3.10/site-packages (from ray[default]->finrl==0.3.5) (0.13.1)\r\n",
      "Requirement already satisfied: py-spy>=0.2.0 in /Users/zlapik/my-drive-zdenda-lapes/0-todo/ai-investing/venv_2/lib/python3.10/site-packages (from ray[default]->finrl==0.3.5) (0.3.14)\r\n",
      "Requirement already satisfied: gpustat>=1.0.0b1 in /Users/zlapik/my-drive-zdenda-lapes/0-todo/ai-investing/venv_2/lib/python3.10/site-packages (from ray[default]->finrl==0.3.5) (1.0.0)\r\n",
      "Requirement already satisfied: smart-open in /Users/zlapik/my-drive-zdenda-lapes/0-todo/ai-investing/venv_2/lib/python3.10/site-packages (from ray[default]->finrl==0.3.5) (6.2.0)\r\n",
      "Requirement already satisfied: pydantic in /Users/zlapik/my-drive-zdenda-lapes/0-todo/ai-investing/venv_2/lib/python3.10/site-packages (from ray[default]->finrl==0.3.5) (1.10.2)\r\n",
      "Requirement already satisfied: aiohttp-cors in /Users/zlapik/my-drive-zdenda-lapes/0-todo/ai-investing/venv_2/lib/python3.10/site-packages (from ray[default]->finrl==0.3.5) (0.7.0)\r\n",
      "Requirement already satisfied: tabulate in /Users/zlapik/my-drive-zdenda-lapes/0-todo/ai-investing/venv_2/lib/python3.10/site-packages (from ray[default]->finrl==0.3.5) (0.9.0)\r\n",
      "Requirement already satisfied: ale-py==0.7.4 in /Users/zlapik/my-drive-zdenda-lapes/0-todo/ai-investing/venv_2/lib/python3.10/site-packages (from stable-baselines3[extra]->finrl==0.3.5) (0.7.4)\r\n",
      "Requirement already satisfied: rich in /Users/zlapik/my-drive-zdenda-lapes/0-todo/ai-investing/venv_2/lib/python3.10/site-packages (from stable-baselines3[extra]->finrl==0.3.5) (12.6.0)\r\n",
      "Requirement already satisfied: autorom[accept-rom-license]~=0.4.2 in /Users/zlapik/my-drive-zdenda-lapes/0-todo/ai-investing/venv_2/lib/python3.10/site-packages (from stable-baselines3[extra]->finrl==0.3.5) (0.4.2)\r\n",
      "Requirement already satisfied: tensorboard>=2.9.1 in /Users/zlapik/my-drive-zdenda-lapes/0-todo/ai-investing/venv_2/lib/python3.10/site-packages (from stable-baselines3[extra]->finrl==0.3.5) (2.10.1)\r\n",
      "Requirement already satisfied: tqdm in /Users/zlapik/my-drive-zdenda-lapes/0-todo/ai-investing/venv_2/lib/python3.10/site-packages (from stable-baselines3[extra]->finrl==0.3.5) (4.64.1)\r\n",
      "Requirement already satisfied: psutil in /Users/zlapik/my-drive-zdenda-lapes/0-todo/ai-investing/venv_2/lib/python3.10/site-packages (from stable-baselines3[extra]->finrl==0.3.5) (5.9.3)\r\n",
      "Requirement already satisfied: importlib-resources in /Users/zlapik/my-drive-zdenda-lapes/0-todo/ai-investing/venv_2/lib/python3.10/site-packages (from ale-py==0.7.4->stable-baselines3[extra]->finrl==0.3.5) (5.10.0)\r\n",
      "Requirement already satisfied: psycopg2-binary in /Users/zlapik/my-drive-zdenda-lapes/0-todo/ai-investing/venv_2/lib/python3.10/site-packages (from wrds->finrl==0.3.5) (2.9.4)\r\n",
      "Requirement already satisfied: mock in /Users/zlapik/my-drive-zdenda-lapes/0-todo/ai-investing/venv_2/lib/python3.10/site-packages (from wrds->finrl==0.3.5) (4.0.3)\r\n",
      "Requirement already satisfied: lxml>=4.5.1 in /Users/zlapik/my-drive-zdenda-lapes/0-todo/ai-investing/venv_2/lib/python3.10/site-packages (from yfinance->finrl==0.3.5) (4.9.1)\r\n",
      "Requirement already satisfied: multitasking>=0.0.7 in /Users/zlapik/my-drive-zdenda-lapes/0-todo/ai-investing/venv_2/lib/python3.10/site-packages (from yfinance->finrl==0.3.5) (0.0.11)\r\n",
      "Requirement already satisfied: appdirs>=1.4.4 in /Users/zlapik/my-drive-zdenda-lapes/0-todo/ai-investing/venv_2/lib/python3.10/site-packages (from yfinance->finrl==0.3.5) (1.4.4)\r\n",
      "Requirement already satisfied: pycares>=4.0.0 in /Users/zlapik/my-drive-zdenda-lapes/0-todo/ai-investing/venv_2/lib/python3.10/site-packages (from aiodns>=1.1.1->ccxt==1.66.32->finrl==0.3.5) (4.2.2)\r\n",
      "Requirement already satisfied: AutoROM.accept-rom-license in /Users/zlapik/my-drive-zdenda-lapes/0-todo/ai-investing/venv_2/lib/python3.10/site-packages (from autorom[accept-rom-license]~=0.4.2->stable-baselines3[extra]->finrl==0.3.5) (0.4.2)\r\n",
      "Requirement already satisfied: cffi>=1.12 in /Users/zlapik/my-drive-zdenda-lapes/0-todo/ai-investing/venv_2/lib/python3.10/site-packages (from cryptography>=2.6.1->ccxt==1.66.32->finrl==0.3.5) (1.15.1)\r\n",
      "Requirement already satisfied: pandas-datareader>=0.2 in /Users/zlapik/my-drive-zdenda-lapes/0-todo/ai-investing/venv_2/lib/python3.10/site-packages (from empyrical>=0.5.0->pyfolio@ git+https://github.com/quantopian/pyfolio.git#egg=pyfolio-0.9.2->finrl==0.3.5) (0.10.0)\r\n",
      "Requirement already satisfied: nvidia-ml-py<=11.495.46,>=11.450.129 in /Users/zlapik/my-drive-zdenda-lapes/0-todo/ai-investing/venv_2/lib/python3.10/site-packages (from gpustat>=1.0.0b1->ray[default]->finrl==0.3.5) (11.495.46)\r\n",
      "Requirement already satisfied: blessed>=1.17.1 in /Users/zlapik/my-drive-zdenda-lapes/0-todo/ai-investing/venv_2/lib/python3.10/site-packages (from gpustat>=1.0.0b1->ray[default]->finrl==0.3.5) (1.19.1)\r\n",
      "Requirement already satisfied: matplotlib-inline in /Users/zlapik/my-drive-zdenda-lapes/0-todo/ai-investing/venv_2/lib/python3.10/site-packages (from ipython>=3.2.3->pyfolio@ git+https://github.com/quantopian/pyfolio.git#egg=pyfolio-0.9.2->finrl==0.3.5) (0.1.6)\r\n",
      "Requirement already satisfied: prompt-toolkit<3.1.0,>3.0.1 in /Users/zlapik/my-drive-zdenda-lapes/0-todo/ai-investing/venv_2/lib/python3.10/site-packages (from ipython>=3.2.3->pyfolio@ git+https://github.com/quantopian/pyfolio.git#egg=pyfolio-0.9.2->finrl==0.3.5) (3.0.31)\r\n",
      "Requirement already satisfied: pygments>=2.4.0 in /Users/zlapik/my-drive-zdenda-lapes/0-todo/ai-investing/venv_2/lib/python3.10/site-packages (from ipython>=3.2.3->pyfolio@ git+https://github.com/quantopian/pyfolio.git#egg=pyfolio-0.9.2->finrl==0.3.5) (2.13.0)\r\n",
      "Requirement already satisfied: stack-data in /Users/zlapik/my-drive-zdenda-lapes/0-todo/ai-investing/venv_2/lib/python3.10/site-packages (from ipython>=3.2.3->pyfolio@ git+https://github.com/quantopian/pyfolio.git#egg=pyfolio-0.9.2->finrl==0.3.5) (0.5.1)\r\n",
      "Requirement already satisfied: appnope in /Users/zlapik/my-drive-zdenda-lapes/0-todo/ai-investing/venv_2/lib/python3.10/site-packages (from ipython>=3.2.3->pyfolio@ git+https://github.com/quantopian/pyfolio.git#egg=pyfolio-0.9.2->finrl==0.3.5) (0.1.3)\r\n",
      "Requirement already satisfied: pickleshare in /Users/zlapik/my-drive-zdenda-lapes/0-todo/ai-investing/venv_2/lib/python3.10/site-packages (from ipython>=3.2.3->pyfolio@ git+https://github.com/quantopian/pyfolio.git#egg=pyfolio-0.9.2->finrl==0.3.5) (0.7.5)\r\n",
      "Requirement already satisfied: jedi>=0.16 in /Users/zlapik/my-drive-zdenda-lapes/0-todo/ai-investing/venv_2/lib/python3.10/site-packages (from ipython>=3.2.3->pyfolio@ git+https://github.com/quantopian/pyfolio.git#egg=pyfolio-0.9.2->finrl==0.3.5) (0.18.1)\r\n",
      "Requirement already satisfied: backcall in /Users/zlapik/my-drive-zdenda-lapes/0-todo/ai-investing/venv_2/lib/python3.10/site-packages (from ipython>=3.2.3->pyfolio@ git+https://github.com/quantopian/pyfolio.git#egg=pyfolio-0.9.2->finrl==0.3.5) (0.2.0)\r\n",
      "Requirement already satisfied: pexpect>4.3 in /Users/zlapik/my-drive-zdenda-lapes/0-todo/ai-investing/venv_2/lib/python3.10/site-packages (from ipython>=3.2.3->pyfolio@ git+https://github.com/quantopian/pyfolio.git#egg=pyfolio-0.9.2->finrl==0.3.5) (4.8.0)\r\n",
      "Requirement already satisfied: traitlets>=5 in /Users/zlapik/my-drive-zdenda-lapes/0-todo/ai-investing/venv_2/lib/python3.10/site-packages (from ipython>=3.2.3->pyfolio@ git+https://github.com/quantopian/pyfolio.git#egg=pyfolio-0.9.2->finrl==0.3.5) (5.5.0)\r\n",
      "Requirement already satisfied: decorator in /Users/zlapik/my-drive-zdenda-lapes/0-todo/ai-investing/venv_2/lib/python3.10/site-packages (from ipython>=3.2.3->pyfolio@ git+https://github.com/quantopian/pyfolio.git#egg=pyfolio-0.9.2->finrl==0.3.5) (5.1.1)\r\n",
      "Requirement already satisfied: greenlet!=0.4.17 in /Users/zlapik/my-drive-zdenda-lapes/0-todo/ai-investing/venv_2/lib/python3.10/site-packages (from SQLAlchemy>=1.2.8->jqdatasdk->finrl==0.3.5) (1.1.3.post0)\r\n",
      "Requirement already satisfied: markdown>=2.6.8 in /Users/zlapik/my-drive-zdenda-lapes/0-todo/ai-investing/venv_2/lib/python3.10/site-packages (from tensorboard>=2.9.1->stable-baselines3[extra]->finrl==0.3.5) (3.4.1)\r\n",
      "Requirement already satisfied: google-auth-oauthlib<0.5,>=0.4.1 in /Users/zlapik/my-drive-zdenda-lapes/0-todo/ai-investing/venv_2/lib/python3.10/site-packages (from tensorboard>=2.9.1->stable-baselines3[extra]->finrl==0.3.5) (0.4.6)\r\n",
      "Requirement already satisfied: google-auth<3,>=1.6.3 in /Users/zlapik/my-drive-zdenda-lapes/0-todo/ai-investing/venv_2/lib/python3.10/site-packages (from tensorboard>=2.9.1->stable-baselines3[extra]->finrl==0.3.5) (2.13.0)\r\n",
      "Requirement already satisfied: werkzeug>=1.0.1 in /Users/zlapik/my-drive-zdenda-lapes/0-todo/ai-investing/venv_2/lib/python3.10/site-packages (from tensorboard>=2.9.1->stable-baselines3[extra]->finrl==0.3.5) (2.2.2)\r\n",
      "Requirement already satisfied: tensorboard-data-server<0.7.0,>=0.6.0 in /Users/zlapik/my-drive-zdenda-lapes/0-todo/ai-investing/venv_2/lib/python3.10/site-packages (from tensorboard>=2.9.1->stable-baselines3[extra]->finrl==0.3.5) (0.6.1)\r\n",
      "Requirement already satisfied: tensorboard-plugin-wit>=1.6.0 in /Users/zlapik/my-drive-zdenda-lapes/0-todo/ai-investing/venv_2/lib/python3.10/site-packages (from tensorboard>=2.9.1->stable-baselines3[extra]->finrl==0.3.5) (1.8.1)\r\n",
      "Requirement already satisfied: absl-py>=0.4 in /Users/zlapik/my-drive-zdenda-lapes/0-todo/ai-investing/venv_2/lib/python3.10/site-packages (from tensorboard>=2.9.1->stable-baselines3[extra]->finrl==0.3.5) (1.3.0)\r\n",
      "Requirement already satisfied: ply<4.0,>=3.4 in /Users/zlapik/my-drive-zdenda-lapes/0-todo/ai-investing/venv_2/lib/python3.10/site-packages (from thriftpy2>=0.3.9->jqdatasdk->finrl==0.3.5) (3.11)\r\n",
      "Requirement already satisfied: typing-extensions in /Users/zlapik/my-drive-zdenda-lapes/0-todo/ai-investing/venv_2/lib/python3.10/site-packages (from torch->elegantrl@ git+https://github.com/AI4Finance-Foundation/ElegantRL.git#egg=elegantrl->finrl==0.3.5) (4.4.0)\r\n",
      "Requirement already satisfied: distlib<1,>=0.3.5 in /Users/zlapik/my-drive-zdenda-lapes/0-todo/ai-investing/venv_2/lib/python3.10/site-packages (from virtualenv>=20.0.8->pre-commit->finrl==0.3.5) (0.3.6)\r\n",
      "Requirement already satisfied: platformdirs<3,>=2.4 in /Users/zlapik/my-drive-zdenda-lapes/0-todo/ai-investing/venv_2/lib/python3.10/site-packages (from virtualenv>=20.0.8->pre-commit->finrl==0.3.5) (2.5.2)\r\n",
      "Requirement already satisfied: pyrsistent!=0.17.0,!=0.17.1,!=0.17.2,>=0.14.0 in /Users/zlapik/my-drive-zdenda-lapes/0-todo/ai-investing/venv_2/lib/python3.10/site-packages (from jsonschema->ray[default]->finrl==0.3.5) (0.18.1)\r\n",
      "Requirement already satisfied: opencensus-context>=0.1.3 in /Users/zlapik/my-drive-zdenda-lapes/0-todo/ai-investing/venv_2/lib/python3.10/site-packages (from opencensus->ray[default]->finrl==0.3.5) (0.1.3)\r\n",
      "Requirement already satisfied: google-api-core<3.0.0,>=1.0.0 in /Users/zlapik/my-drive-zdenda-lapes/0-todo/ai-investing/venv_2/lib/python3.10/site-packages (from opencensus->ray[default]->finrl==0.3.5) (2.10.2)\r\n",
      "Requirement already satisfied: commonmark<0.10.0,>=0.9.0 in /Users/zlapik/my-drive-zdenda-lapes/0-todo/ai-investing/venv_2/lib/python3.10/site-packages (from rich->stable-baselines3[extra]->finrl==0.3.5) (0.9.1)\r\n",
      "Requirement already satisfied: wcwidth>=0.1.4 in /Users/zlapik/my-drive-zdenda-lapes/0-todo/ai-investing/venv_2/lib/python3.10/site-packages (from blessed>=1.17.1->gpustat>=1.0.0b1->ray[default]->finrl==0.3.5) (0.2.5)\r\n",
      "Requirement already satisfied: pycparser in /Users/zlapik/my-drive-zdenda-lapes/0-todo/ai-investing/venv_2/lib/python3.10/site-packages (from cffi>=1.12->cryptography>=2.6.1->ccxt==1.66.32->finrl==0.3.5) (2.21)\r\n",
      "Requirement already satisfied: googleapis-common-protos<2.0dev,>=1.56.2 in /Users/zlapik/my-drive-zdenda-lapes/0-todo/ai-investing/venv_2/lib/python3.10/site-packages (from google-api-core<3.0.0,>=1.0.0->opencensus->ray[default]->finrl==0.3.5) (1.56.4)\r\n",
      "Requirement already satisfied: rsa<5,>=3.1.4 in /Users/zlapik/my-drive-zdenda-lapes/0-todo/ai-investing/venv_2/lib/python3.10/site-packages (from google-auth<3,>=1.6.3->tensorboard>=2.9.1->stable-baselines3[extra]->finrl==0.3.5) (4.9)\r\n",
      "Requirement already satisfied: cachetools<6.0,>=2.0.0 in /Users/zlapik/my-drive-zdenda-lapes/0-todo/ai-investing/venv_2/lib/python3.10/site-packages (from google-auth<3,>=1.6.3->tensorboard>=2.9.1->stable-baselines3[extra]->finrl==0.3.5) (5.2.0)\r\n",
      "Requirement already satisfied: pyasn1-modules>=0.2.1 in /Users/zlapik/my-drive-zdenda-lapes/0-todo/ai-investing/venv_2/lib/python3.10/site-packages (from google-auth<3,>=1.6.3->tensorboard>=2.9.1->stable-baselines3[extra]->finrl==0.3.5) (0.2.8)\r\n",
      "Requirement already satisfied: requests-oauthlib>=0.7.0 in /Users/zlapik/my-drive-zdenda-lapes/0-todo/ai-investing/venv_2/lib/python3.10/site-packages (from google-auth-oauthlib<0.5,>=0.4.1->tensorboard>=2.9.1->stable-baselines3[extra]->finrl==0.3.5) (1.3.1)\r\n",
      "Requirement already satisfied: parso<0.9.0,>=0.8.0 in /Users/zlapik/my-drive-zdenda-lapes/0-todo/ai-investing/venv_2/lib/python3.10/site-packages (from jedi>=0.16->ipython>=3.2.3->pyfolio@ git+https://github.com/quantopian/pyfolio.git#egg=pyfolio-0.9.2->finrl==0.3.5) (0.8.3)\r\n",
      "Requirement already satisfied: ptyprocess>=0.5 in /Users/zlapik/my-drive-zdenda-lapes/0-todo/ai-investing/venv_2/lib/python3.10/site-packages (from pexpect>4.3->ipython>=3.2.3->pyfolio@ git+https://github.com/quantopian/pyfolio.git#egg=pyfolio-0.9.2->finrl==0.3.5) (0.7.0)\r\n",
      "Requirement already satisfied: MarkupSafe>=2.1.1 in /Users/zlapik/my-drive-zdenda-lapes/0-todo/ai-investing/venv_2/lib/python3.10/site-packages (from werkzeug>=1.0.1->tensorboard>=2.9.1->stable-baselines3[extra]->finrl==0.3.5) (2.1.1)\r\n",
      "Requirement already satisfied: asttokens in /Users/zlapik/my-drive-zdenda-lapes/0-todo/ai-investing/venv_2/lib/python3.10/site-packages (from stack-data->ipython>=3.2.3->pyfolio@ git+https://github.com/quantopian/pyfolio.git#egg=pyfolio-0.9.2->finrl==0.3.5) (2.0.8)\r\n",
      "Requirement already satisfied: executing in /Users/zlapik/my-drive-zdenda-lapes/0-todo/ai-investing/venv_2/lib/python3.10/site-packages (from stack-data->ipython>=3.2.3->pyfolio@ git+https://github.com/quantopian/pyfolio.git#egg=pyfolio-0.9.2->finrl==0.3.5) (1.1.1)\r\n",
      "Requirement already satisfied: pure-eval in /Users/zlapik/my-drive-zdenda-lapes/0-todo/ai-investing/venv_2/lib/python3.10/site-packages (from stack-data->ipython>=3.2.3->pyfolio@ git+https://github.com/quantopian/pyfolio.git#egg=pyfolio-0.9.2->finrl==0.3.5) (0.2.2)\r\n",
      "Requirement already satisfied: pyasn1<0.5.0,>=0.4.6 in /Users/zlapik/my-drive-zdenda-lapes/0-todo/ai-investing/venv_2/lib/python3.10/site-packages (from pyasn1-modules>=0.2.1->google-auth<3,>=1.6.3->tensorboard>=2.9.1->stable-baselines3[extra]->finrl==0.3.5) (0.4.8)\r\n",
      "Requirement already satisfied: oauthlib>=3.0.0 in /Users/zlapik/my-drive-zdenda-lapes/0-todo/ai-investing/venv_2/lib/python3.10/site-packages (from requests-oauthlib>=0.7.0->google-auth-oauthlib<0.5,>=0.4.1->tensorboard>=2.9.1->stable-baselines3[extra]->finrl==0.3.5) (3.2.2)\r\n"
     ]
    }
   ],
   "source": [
    "## install finrl library\n",
    "!pip install \"git+https://github.com/AI4Finance-Foundation/FinRL.git\""
   ]
  },
  {
   "cell_type": "markdown",
   "metadata": {
    "id": "osBHhVysOEzi",
    "pycharm": {
     "name": "#%% md\n"
    }
   },
   "source": [
    "\n",
    "<a id='1.2'></a>\n",
    "## 2.2. A List of Python Packages\n",
    "* Yahoo Finance API\n",
    "* pandas\n",
    "* numpy\n",
    "* matplotlib\n",
    "* stockstats\n",
    "* OpenAI gym\n",
    "* stable-baselines\n",
    "* pyfolio"
   ]
  },
  {
   "cell_type": "markdown",
   "metadata": {
    "id": "nGv01K8Sh1hn",
    "pycharm": {
     "name": "#%% md\n"
    }
   },
   "source": [
    "<a id='1.3'></a>\n",
    "## 2.3. Import Packages"
   ]
  },
  {
   "cell_type": "code",
   "execution_count": null,
   "outputs": [],
   "source": [],
   "metadata": {
    "collapsed": false,
    "pycharm": {
     "name": "#%%\n"
    }
   }
  },
  {
   "cell_type": "code",
   "execution_count": null,
   "outputs": [],
   "source": [
    "import pandas as pd\n",
    "import numpy as np\n",
    "import matplotlib\n",
    "import matplotlib.pyplot as plt\n",
    "\n",
    "# matplotlib.use('Agg')\n",
    "import datetime\n",
    "\n",
    "%matplotlib inline\n",
    "%load_ext autoreload\n",
    "%autoreload 2\n",
    "\n",
    "import os\n",
    "from os import path\n",
    "from pathlib import Path\n",
    "from finrl import config\n",
    "from finrl import config_tickers\n",
    "from finrl.meta.preprocessor.yahoodownloader import YahooDownloader\n",
    "from finrl.meta.preprocessor.preprocessors import FeatureEngineer, data_split\n",
    "from finrl.meta.env_stock_trading.env_stocktrading import StockTradingEnv\n",
    "from finrl.agents.stablebaselines3.models import DRLAgent\n",
    "from finrl.plot import backtest_stats, backtest_plot, get_daily_return, get_baseline\n",
    "from finrl.main import check_and_make_directories\n",
    "from pprint import pprint\n",
    "from stable_baselines3.common.logger import configure\n",
    "import sys\n",
    "from src.config.settings import DATA_DIR\n",
    "\n",
    "import itertools\n",
    "\n",
    "from finrl.config import (\n",
    "    DATA_SAVE_DIR,\n",
    "    TRAINED_MODEL_DIR,\n",
    "    TENSORBOARD_LOG_DIR,\n",
    "    RESULTS_DIR,\n",
    "    INDICATORS,\n",
    "    TRAIN_START_DATE,\n",
    "    TRAIN_END_DATE,\n",
    "    TEST_START_DATE,\n",
    "    TEST_END_DATE,\n",
    "    TRADE_START_DATE,\n",
    "    TRADE_END_DATE,\n",
    ")\n",
    "\n",
    "from finrl.config_tickers import DOW_30_TICKER\n",
    "\n",
    "print(DATA_DIR)"
   ],
   "metadata": {
    "collapsed": false,
    "pycharm": {
     "name": "#%%\n"
    }
   }
  },
  {
   "cell_type": "markdown",
   "source": [
    "<a id='1.4'></a>\n",
    "## 2.4. Create Folders"
   ],
   "metadata": {
    "collapsed": false,
    "pycharm": {
     "name": "#%% md\n"
    }
   }
  },
  {
   "cell_type": "code",
   "execution_count": null,
   "outputs": [],
   "source": [
    "check_and_make_directories([DATA_SAVE_DIR, TRAINED_MODEL_DIR, TENSORBOARD_LOG_DIR, RESULTS_DIR])"
   ],
   "metadata": {
    "collapsed": false,
    "pycharm": {
     "name": "#%%\n"
    }
   }
  },
  {
   "cell_type": "markdown",
   "source": [
    "<a id='2'></a>\n",
    "# Part 3. Download Stock Data from Yahoo Finance\n",
    "Yahoo Finance provides stock data, financial news, financial reports, etc. Yahoo Finance is free.\n",
    "* FinRL uses a class **YahooDownloader** in FinRL-Meta to fetch data via Yahoo Finance API\n",
    "* Call Limit: Using the Public API (without authentication), you are limited to 2,000 requests per hour per IP (or up to a total of 48,000 requests a day).\n"
   ],
   "metadata": {
    "collapsed": false,
    "pycharm": {
     "name": "#%% md\n"
    }
   }
  },
  {
   "cell_type": "markdown",
   "source": [
    "\n",
    "\n",
    "-----\n",
    "class YahooDownloader:\n",
    "    Retrieving daily stock data from Yahoo Finance API\n",
    "\n",
    "    Attributes\n",
    "    ----------\n",
    "        start_date : str\n",
    "            start date of the data (modified from config.py)\n",
    "        end_date : str\n",
    "            end date of the data (modified from config.py)\n",
    "        ticker_list : list\n",
    "            a list of stock tickers (modified from config.py)\n",
    "\n",
    "    Methods\n",
    "    -------\n",
    "    fetch_data()"
   ],
   "metadata": {
    "collapsed": false,
    "pycharm": {
     "name": "#%% md\n"
    }
   }
  },
  {
   "cell_type": "code",
   "execution_count": null,
   "outputs": [],
   "source": [
    "print(DOW_30_TICKER)"
   ],
   "metadata": {
    "collapsed": false,
    "pycharm": {
     "name": "#%%\n"
    }
   }
  },
  {
   "cell_type": "code",
   "execution_count": null,
   "outputs": [],
   "source": [
    "TRAIN_START_DATE = \"2009-01-01\"\n",
    "TRAIN_END_DATE = \"2019-01-01\"\n",
    "TEST_START_DATE = \"2019-01-01\"\n",
    "TEST_END_DATE = \"2021-01-01\"\n",
    "\n",
    "df = YahooDownloader(start_date=TRAIN_START_DATE, end_date=TEST_END_DATE, ticker_list=DOW_30_TICKER).fetch_data()"
   ],
   "metadata": {
    "collapsed": false,
    "pycharm": {
     "name": "#%%\n"
    }
   }
  },
  {
   "cell_type": "code",
   "execution_count": null,
   "outputs": [],
   "source": [
    "df.shape"
   ],
   "metadata": {
    "collapsed": false,
    "pycharm": {
     "name": "#%%\n"
    }
   }
  },
  {
   "cell_type": "code",
   "execution_count": null,
   "outputs": [],
   "source": [
    "df.head()"
   ],
   "metadata": {
    "collapsed": false,
    "pycharm": {
     "name": "#%%\n"
    }
   }
  },
  {
   "cell_type": "code",
   "execution_count": null,
   "outputs": [],
   "source": [
    "df[\"date\"] = pd.to_datetime(df[\"date\"], format=\"%Y-%m-%d\")"
   ],
   "metadata": {
    "collapsed": false,
    "pycharm": {
     "name": "#%%\n"
    }
   }
  },
  {
   "cell_type": "code",
   "execution_count": null,
   "outputs": [],
   "source": [
    "df.sort_values([\"date\", \"tic\"], ignore_index=True).head()"
   ],
   "metadata": {
    "collapsed": false,
    "pycharm": {
     "name": "#%%\n"
    }
   }
  },
  {
   "cell_type": "markdown",
   "source": [
    "# Part 4: Preprocess fundamental data\n",
    "- Import finanical data downloaded from Compustat via WRDS(Wharton Research Data Service)\n",
    "- Preprocess the dataset and calculate financial ratios\n",
    "- Add those ratios to the price data preprocessed in Part 3\n",
    "- Calculate price-related ratios such as P/E and P/B"
   ],
   "metadata": {
    "collapsed": false,
    "pycharm": {
     "name": "#%% md\n"
    }
   }
  },
  {
   "cell_type": "markdown",
   "source": [
    "## 4.1 Import the financial data"
   ],
   "metadata": {
    "collapsed": false,
    "pycharm": {
     "name": "#%% md\n"
    }
   }
  },
  {
   "cell_type": "code",
   "execution_count": null,
   "outputs": [],
   "source": [
    "# Import fundamental data from my GitHub repository\n",
    "# url = \"https://raw.githubusercontent.com/mariko-sawada/FinRL_with_fundamental_data/main/dow_30_fundamental_wrds.csv\"\n",
    "\n",
    "# fund = pd.read_csv(url, low_memory=False)\n",
    "\n",
    "# if not path.exists(fundamenatal_data_filename.parent):\n",
    "#     os.makedirs(fundamenatal_data_filename.parent)\n",
    "# fund.to_csv(fundamenatal_data_filename\n",
    "# del fund\n",
    "\n",
    "fundamenatal_data_filename = Path(path.join(DATA_DIR, \"stock/ai4-finance/dji30_fundamental_data.csv\"))\n",
    "fund = pd.read_csv(fundamenatal_data_filename, low_memory=False)  # dtype param make low_memory warning silent"
   ],
   "metadata": {
    "collapsed": false,
    "pycharm": {
     "name": "#%%\n"
    }
   }
  },
  {
   "cell_type": "code",
   "execution_count": null,
   "outputs": [],
   "source": [
    "# Check the imported dataset\n",
    "fund.head()"
   ],
   "metadata": {
    "collapsed": false,
    "pycharm": {
     "name": "#%%\n"
    }
   }
  },
  {
   "cell_type": "markdown",
   "source": [
    "## 4.2 Specify items needed to calculate financial ratios\n",
    "- To learn more about the data description of the dataset, please check WRDS's website(https://wrds-www.wharton.upenn.edu/). Login will be required."
   ],
   "metadata": {
    "collapsed": false,
    "pycharm": {
     "name": "#%% md\n"
    }
   }
  },
  {
   "cell_type": "code",
   "execution_count": null,
   "outputs": [],
   "source": [
    "# List items that are used to calculate financial ratios\n",
    "\n",
    "items = [\n",
    "    \"datadate\",  # Date\n",
    "    \"tic\",  # Ticker\n",
    "    \"oiadpq\",  # Quarterly operating income\n",
    "    \"revtq\",  # Quartely revenue\n",
    "    \"niq\",  # Quartely net income\n",
    "    \"atq\",  # Total asset\n",
    "    \"teqq\",  # Shareholder's equity\n",
    "    \"epspiy\",  # EPS(Basic) incl. Extraordinary items\n",
    "    \"ceqq\",  # Common Equity\n",
    "    \"cshoq\",  # Common Shares Outstanding\n",
    "    \"dvpspq\",  # Dividends per share\n",
    "    \"actq\",  # Current assets\n",
    "    \"lctq\",  # Current liabilities\n",
    "    \"cheq\",  # Cash & Equivalent\n",
    "    \"rectq\",  # Recievalbles\n",
    "    \"cogsq\",  # Cost of  Goods Sold\n",
    "    \"invtq\",  # Inventories\n",
    "    \"apq\",  # Account payable\n",
    "    \"dlttq\",  # Long term debt\n",
    "    \"dlcq\",  # Debt in current liabilites\n",
    "    \"ltq\",  # Liabilities\n",
    "]\n",
    "\n",
    "# Omit items that will not be used\n",
    "fund_data = fund[items]"
   ],
   "metadata": {
    "collapsed": false,
    "pycharm": {
     "name": "#%%\n"
    }
   }
  },
  {
   "cell_type": "code",
   "execution_count": null,
   "outputs": [],
   "source": [
    "# Rename column names for the sake of readability\n",
    "fund_data = fund_data.rename(\n",
    "    columns={\n",
    "        \"datadate\": \"date\",  # Date\n",
    "        \"oiadpq\": \"op_inc_q\",  # Quarterly operating income\n",
    "        \"revtq\": \"rev_q\",  # Quartely revenue\n",
    "        \"niq\": \"net_inc_q\",  # Quartely net income\n",
    "        \"atq\": \"tot_assets\",  # Assets\n",
    "        \"teqq\": \"sh_equity\",  # Shareholder's equity\n",
    "        \"epspiy\": \"eps_incl_ex\",  # EPS(Basic) incl. Extraordinary items\n",
    "        \"ceqq\": \"com_eq\",  # Common Equity\n",
    "        \"cshoq\": \"sh_outstanding\",  # Common Shares Outstanding\n",
    "        \"dvpspq\": \"div_per_sh\",  # Dividends per share\n",
    "        \"actq\": \"cur_assets\",  # Current assets\n",
    "        \"lctq\": \"cur_liabilities\",  # Current liabilities\n",
    "        \"cheq\": \"cash_eq\",  # Cash & Equivalent\n",
    "        \"rectq\": \"receivables\",  # Receivalbles\n",
    "        \"cogsq\": \"cogs_q\",  # Cost of  Goods Sold\n",
    "        \"invtq\": \"inventories\",  # Inventories\n",
    "        \"apq\": \"payables\",  # Account payable\n",
    "        \"dlttq\": \"long_debt\",  # Long term debt\n",
    "        \"dlcq\": \"short_debt\",  # Debt in current liabilites\n",
    "        \"ltq\": \"tot_liabilities\",  # Liabilities\n",
    "    }\n",
    ")"
   ],
   "metadata": {
    "collapsed": false,
    "pycharm": {
     "name": "#%%\n"
    }
   }
  },
  {
   "cell_type": "code",
   "execution_count": null,
   "outputs": [],
   "source": [
    "# Check the data\n",
    "fund_data.head()"
   ],
   "metadata": {
    "collapsed": false,
    "pycharm": {
     "name": "#%%\n"
    }
   }
  },
  {
   "cell_type": "markdown",
   "source": [
    "## 4.3 Calculate financial ratios\n",
    "- For items from Profit/Loss statements, we calculate LTM (Last Twelve Months) and use them to derive profitability related ratios such as Operating Maring and ROE. For items from balance sheets, we use the numbers on the day.\n",
    "- To check the definitions of the financial ratios calculated here, please refer to CFI's website: https://corporatefinanceinstitute.com/resources/knowledge/finance/financial-ratios/"
   ],
   "metadata": {
    "collapsed": false,
    "pycharm": {
     "name": "#%% md\n"
    }
   }
  },
  {
   "cell_type": "code",
   "execution_count": null,
   "outputs": [],
   "source": [
    "# Calculate financial ratios\n",
    "date = pd.to_datetime(fund_data[\"date\"], format=\"%Y%m%d\")\n",
    "\n",
    "tic = fund_data[\"tic\"].to_frame(\"tic\")\n",
    "\n",
    "# Profitability ratios\n",
    "# Operating Margin\n",
    "OPM = pd.Series(np.empty(fund_data.shape[0], dtype=object), name=\"OPM\")\n",
    "for i in range(0, fund_data.shape[0]):\n",
    "    if i - 3 < 0:\n",
    "        OPM[i] = np.nan\n",
    "    elif fund_data.iloc[i, 1] != fund_data.iloc[i - 3, 1]:\n",
    "        OPM.iloc[i] = np.nan\n",
    "    else:\n",
    "        OPM.iloc[i] = np.sum(fund_data[\"op_inc_q\"].iloc[i - 3 : i]) / np.sum(fund_data[\"rev_q\"].iloc[i - 3 : i])\n",
    "\n",
    "# Net Profit Margin\n",
    "NPM = pd.Series(np.empty(fund_data.shape[0], dtype=object), name=\"NPM\")\n",
    "for i in range(0, fund_data.shape[0]):\n",
    "    if i - 3 < 0:\n",
    "        NPM[i] = np.nan\n",
    "    elif fund_data.iloc[i, 1] != fund_data.iloc[i - 3, 1]:\n",
    "        NPM.iloc[i] = np.nan\n",
    "    else:\n",
    "        NPM.iloc[i] = np.sum(fund_data[\"net_inc_q\"].iloc[i - 3 : i]) / np.sum(fund_data[\"rev_q\"].iloc[i - 3 : i])\n",
    "\n",
    "# Return On Assets\n",
    "ROA = pd.Series(np.empty(fund_data.shape[0], dtype=object), name=\"ROA\")\n",
    "for i in range(0, fund_data.shape[0]):\n",
    "    if i - 3 < 0:\n",
    "        ROA[i] = np.nan\n",
    "    elif fund_data.iloc[i, 1] != fund_data.iloc[i - 3, 1]:\n",
    "        ROA.iloc[i] = np.nan\n",
    "    else:\n",
    "        ROA.iloc[i] = np.sum(fund_data[\"net_inc_q\"].iloc[i - 3 : i]) / fund_data[\"tot_assets\"].iloc[i]\n",
    "\n",
    "# Return on Equity\n",
    "ROE = pd.Series(np.empty(fund_data.shape[0], dtype=object), name=\"ROE\")\n",
    "for i in range(0, fund_data.shape[0]):\n",
    "    if i - 3 < 0:\n",
    "        ROE[i] = np.nan\n",
    "    elif fund_data.iloc[i, 1] != fund_data.iloc[i - 3, 1]:\n",
    "        ROE.iloc[i] = np.nan\n",
    "    else:\n",
    "        ROE.iloc[i] = np.sum(fund_data[\"net_inc_q\"].iloc[i - 3 : i]) / fund_data[\"sh_equity\"].iloc[i]\n",
    "\n",
    "    # For calculating valuation ratios in the next subpart, calculate per share items in advance\n",
    "# Earnings Per Share\n",
    "EPS = fund_data[\"eps_incl_ex\"].to_frame(\"EPS\")\n",
    "\n",
    "# Book Per Share\n",
    "BPS = (fund_data[\"com_eq\"] / fund_data[\"sh_outstanding\"]).to_frame(\"BPS\")  # Need to check units\n",
    "\n",
    "# Dividend Per Share\n",
    "DPS = fund_data[\"div_per_sh\"].to_frame(\"DPS\")\n",
    "\n",
    "# Liquidity ratios\n",
    "# Current ratio\n",
    "cur_ratio = (fund_data[\"cur_assets\"] / fund_data[\"cur_liabilities\"]).to_frame(\"cur_ratio\")\n",
    "\n",
    "# Quick ratio\n",
    "quick_ratio = ((fund_data[\"cash_eq\"] + fund_data[\"receivables\"]) / fund_data[\"cur_liabilities\"]).to_frame(\"quick_ratio\")\n",
    "\n",
    "# Cash ratio\n",
    "cash_ratio = (fund_data[\"cash_eq\"] / fund_data[\"cur_liabilities\"]).to_frame(\"cash_ratio\")\n",
    "\n",
    "# Efficiency ratios\n",
    "# Inventory turnover ratio\n",
    "inv_turnover = pd.Series(np.empty(fund_data.shape[0], dtype=object), name=\"inv_turnover\")\n",
    "for i in range(0, fund_data.shape[0]):\n",
    "    if i - 3 < 0:\n",
    "        inv_turnover[i] = np.nan\n",
    "    elif fund_data.iloc[i, 1] != fund_data.iloc[i - 3, 1]:\n",
    "        inv_turnover.iloc[i] = np.nan\n",
    "    else:\n",
    "        inv_turnover.iloc[i] = np.sum(fund_data[\"cogs_q\"].iloc[i - 3 : i]) / fund_data[\"inventories\"].iloc[i]\n",
    "\n",
    "# Receivables turnover ratio\n",
    "acc_rec_turnover = pd.Series(np.empty(fund_data.shape[0], dtype=object), name=\"acc_rec_turnover\")\n",
    "for i in range(0, fund_data.shape[0]):\n",
    "    if i - 3 < 0:\n",
    "        acc_rec_turnover[i] = np.nan\n",
    "    elif fund_data.iloc[i, 1] != fund_data.iloc[i - 3, 1]:\n",
    "        acc_rec_turnover.iloc[i] = np.nan\n",
    "    else:\n",
    "        acc_rec_turnover.iloc[i] = np.sum(fund_data[\"rev_q\"].iloc[i - 3 : i]) / fund_data[\"receivables\"].iloc[i]\n",
    "\n",
    "# Payable turnover ratio\n",
    "acc_pay_turnover = pd.Series(np.empty(fund_data.shape[0], dtype=object), name=\"acc_pay_turnover\")\n",
    "for i in range(0, fund_data.shape[0]):\n",
    "    if i - 3 < 0:\n",
    "        acc_pay_turnover[i] = np.nan\n",
    "    elif fund_data.iloc[i, 1] != fund_data.iloc[i - 3, 1]:\n",
    "        acc_pay_turnover.iloc[i] = np.nan\n",
    "    else:\n",
    "        acc_pay_turnover.iloc[i] = np.sum(fund_data[\"cogs_q\"].iloc[i - 3 : i]) / fund_data[\"payables\"].iloc[i]\n",
    "\n",
    "## Leverage financial ratios\n",
    "# Debt ratio\n",
    "debt_ratio = (fund_data[\"tot_liabilities\"] / fund_data[\"tot_assets\"]).to_frame(\"debt_ratio\")\n",
    "\n",
    "# Debt to Equity ratio\n",
    "debt_to_equity = (fund_data[\"tot_liabilities\"] / fund_data[\"sh_equity\"]).to_frame(\"debt_to_equity\")"
   ],
   "metadata": {
    "collapsed": false,
    "pycharm": {
     "name": "#%%\n"
    }
   }
  },
  {
   "cell_type": "code",
   "execution_count": null,
   "outputs": [],
   "source": [
    "# Create a dataframe that merges all the ratios\n",
    "ratios = pd.concat(\n",
    "    [\n",
    "        date,\n",
    "        tic,\n",
    "        OPM,\n",
    "        NPM,\n",
    "        ROA,\n",
    "        ROE,\n",
    "        EPS,\n",
    "        BPS,\n",
    "        DPS,\n",
    "        cur_ratio,\n",
    "        quick_ratio,\n",
    "        cash_ratio,\n",
    "        inv_turnover,\n",
    "        acc_rec_turnover,\n",
    "        acc_pay_turnover,\n",
    "        debt_ratio,\n",
    "        debt_to_equity,\n",
    "    ],\n",
    "    axis=1,\n",
    ")"
   ],
   "metadata": {
    "collapsed": false,
    "pycharm": {
     "name": "#%%\n"
    }
   }
  },
  {
   "cell_type": "code",
   "execution_count": null,
   "outputs": [],
   "source": [
    "# Check the ratio data\n",
    "ratios.head()"
   ],
   "metadata": {
    "collapsed": false,
    "pycharm": {
     "name": "#%%\n"
    }
   }
  },
  {
   "cell_type": "code",
   "execution_count": null,
   "outputs": [],
   "source": [
    "ratios.tail()"
   ],
   "metadata": {
    "collapsed": false,
    "pycharm": {
     "name": "#%%\n"
    }
   }
  },
  {
   "cell_type": "markdown",
   "source": [
    "## 4.4 Deal with NAs and infinite values\n",
    "- We replace N/A and infinite values with zero."
   ],
   "metadata": {
    "collapsed": false,
    "pycharm": {
     "name": "#%% md\n"
    }
   }
  },
  {
   "cell_type": "code",
   "execution_count": null,
   "outputs": [],
   "source": [
    "# Replace NAs infinite values with zero\n",
    "final_ratios = ratios.copy()\n",
    "final_ratios = final_ratios.fillna(0)\n",
    "final_ratios = final_ratios.replace(np.inf, 0)"
   ],
   "metadata": {
    "collapsed": false,
    "pycharm": {
     "name": "#%%\n"
    }
   }
  },
  {
   "cell_type": "code",
   "execution_count": null,
   "outputs": [],
   "source": [
    "final_ratios.head()"
   ],
   "metadata": {
    "collapsed": false,
    "pycharm": {
     "name": "#%%\n"
    }
   }
  },
  {
   "cell_type": "code",
   "execution_count": null,
   "outputs": [],
   "source": [
    "final_ratios.tail()"
   ],
   "metadata": {
    "collapsed": false,
    "pycharm": {
     "name": "#%%\n"
    }
   }
  },
  {
   "cell_type": "markdown",
   "source": [
    "## 4.5 Merge stock price data and ratios into one dataframe\n",
    "- Merge the price dataframe preprocessed in Part 3 and the ratio dataframe created in this part\n",
    "- Since the prices are daily and ratios are quartely, we have NAs in the ratio columns after merging the two dataframes. We deal with this by backfilling the ratios."
   ],
   "metadata": {
    "collapsed": false,
    "pycharm": {
     "name": "#%% md\n"
    }
   }
  },
  {
   "cell_type": "code",
   "execution_count": null,
   "outputs": [],
   "source": [
    "list_ticker = df[\"tic\"].unique().tolist()\n",
    "list_date = list(pd.date_range(df[\"date\"].min(), df[\"date\"].max()))\n",
    "combination = list(itertools.product(list_date, list_ticker))\n",
    "\n",
    "# Merge stock price data and ratios into one dataframe\n",
    "processed_full = pd.DataFrame(combination, columns=[\"date\", \"tic\"]).merge(df, on=[\"date\", \"tic\"], how=\"left\")\n",
    "processed_full = processed_full.merge(final_ratios, how=\"left\", on=[\"date\", \"tic\"])\n",
    "processed_full = processed_full.sort_values([\"tic\", \"date\"])\n",
    "\n",
    "# Backfill the ratio data to make them daily\n",
    "processed_full = processed_full.bfill(axis=\"rows\")\n",
    "print(processed_full.shape)"
   ],
   "metadata": {
    "collapsed": false,
    "pycharm": {
     "name": "#%%\n"
    }
   }
  },
  {
   "cell_type": "markdown",
   "source": [
    "## 4.6 Calculate market valuation ratios using daily stock price data "
   ],
   "metadata": {
    "collapsed": false,
    "pycharm": {
     "name": "#%% md\n"
    }
   }
  },
  {
   "cell_type": "code",
   "execution_count": null,
   "outputs": [],
   "source": [
    "# Calculate P/E, P/B and dividend yield using daily closing price\n",
    "processed_full[\"PE\"] = processed_full[\"close\"] / processed_full[\"EPS\"]\n",
    "processed_full[\"PB\"] = processed_full[\"close\"] / processed_full[\"BPS\"]\n",
    "processed_full[\"Div_yield\"] = processed_full[\"DPS\"] / processed_full[\"close\"]\n",
    "\n",
    "# Drop per share items used for the above calculation\n",
    "processed_full = processed_full.drop(columns=[\"day\", \"EPS\", \"BPS\", \"DPS\"])\n",
    "# Replace NAs infinite values with zero\n",
    "processed_full = processed_full.copy()\n",
    "processed_full = processed_full.fillna(0)\n",
    "processed_full = processed_full.replace(np.inf, 0)\n",
    "print(processed_full.shape)"
   ],
   "metadata": {
    "collapsed": false,
    "pycharm": {
     "name": "#%%\n"
    }
   }
  },
  {
   "cell_type": "code",
   "execution_count": null,
   "outputs": [],
   "source": [
    "# Check the final data\n",
    "processed_full.sort_values([\"date\", \"tic\"], ignore_index=True).head(10)"
   ],
   "metadata": {
    "collapsed": false,
    "pycharm": {
     "name": "#%%\n"
    }
   }
  },
  {
   "cell_type": "markdown",
   "source": [
    "<a id='4'></a>\n",
    "# Part 5. A Market Environment in OpenAI Gym-style\n",
    "The training process involves observing stock price change, taking an action and reward's calculation. By interacting with the market environment, the agent will eventually derive a trading strategy that may maximize (expected) rewards.\n",
    "\n",
    "Our market environment, based on OpenAI Gym, simulates stock markets with historical market data."
   ],
   "metadata": {
    "collapsed": false,
    "pycharm": {
     "name": "#%% md\n"
    }
   }
  },
  {
   "cell_type": "markdown",
   "source": [
    "## 5.1 Data Split\n",
    "- Training data period: 2009-01-01 to 2019-01-01\n",
    "- Trade data period: 2019-01-01 to 2020-12-31"
   ],
   "metadata": {
    "collapsed": false,
    "pycharm": {
     "name": "#%% md\n"
    }
   }
  },
  {
   "cell_type": "code",
   "execution_count": null,
   "outputs": [],
   "source": [
    "train_data = data_split(processed_full, TRAIN_START_DATE, TRAIN_END_DATE)\n",
    "trade_data = data_split(processed_full, TEST_START_DATE, TEST_END_DATE)\n",
    "# Check the length of the two datasets\n",
    "print(len(train_data))\n",
    "print(len(trade_data))"
   ],
   "metadata": {
    "collapsed": false,
    "pycharm": {
     "name": "#%%\n"
    }
   }
  },
  {
   "cell_type": "code",
   "execution_count": null,
   "outputs": [],
   "source": [
    "train_data.head()"
   ],
   "metadata": {
    "collapsed": false,
    "pycharm": {
     "name": "#%%\n"
    }
   }
  },
  {
   "cell_type": "code",
   "execution_count": null,
   "outputs": [],
   "source": [
    "train_data.tail()"
   ],
   "metadata": {
    "collapsed": false,
    "pycharm": {
     "name": "#%%\n"
    }
   }
  },
  {
   "cell_type": "code",
   "execution_count": null,
   "outputs": [],
   "source": [
    "trade_data.head()"
   ],
   "metadata": {
    "collapsed": false,
    "pycharm": {
     "name": "#%%\n"
    }
   }
  },
  {
   "cell_type": "code",
   "execution_count": null,
   "outputs": [],
   "source": [
    "trade_data.tail()"
   ],
   "metadata": {
    "collapsed": false,
    "pycharm": {
     "name": "#%%\n"
    }
   }
  },
  {
   "cell_type": "markdown",
   "source": [
    "## 5.2 Set up the training environment"
   ],
   "metadata": {
    "collapsed": false,
    "pycharm": {
     "name": "#%% md\n"
    }
   }
  },
  {
   "cell_type": "code",
   "execution_count": null,
   "outputs": [],
   "source": [
    "import gym\n",
    "import matplotlib\n",
    "import matplotlib.pyplot as plt\n",
    "import numpy as np\n",
    "import pandas as pd\n",
    "from gym import spaces\n",
    "from gym.utils import seeding\n",
    "from stable_baselines3.common.vec_env import DummyVecEnv\n",
    "from experiments.stock.StockTradingEnv import StockTradingEnv\n",
    "\n",
    "matplotlib.use(\"Agg\")\n",
    "\n",
    "# from stable_baselines3.common import logger"
   ],
   "metadata": {
    "collapsed": false,
    "pycharm": {
     "name": "#%%\n"
    }
   }
  },
  {
   "cell_type": "code",
   "execution_count": null,
   "outputs": [],
   "source": [
    "ratio_list = [\n",
    "    \"OPM\",\n",
    "    \"NPM\",\n",
    "    \"ROA\",\n",
    "    \"ROE\",\n",
    "    \"cur_ratio\",\n",
    "    \"quick_ratio\",\n",
    "    \"cash_ratio\",\n",
    "    \"inv_turnover\",\n",
    "    \"acc_rec_turnover\",\n",
    "    \"acc_pay_turnover\",\n",
    "    \"debt_ratio\",\n",
    "    \"debt_to_equity\",\n",
    "    \"PE\",\n",
    "    \"PB\",\n",
    "    \"Div_yield\",\n",
    "]\n",
    "\n",
    "stock_dimension = len(train_data.tic.unique())\n",
    "state_space = 1 + 2 * stock_dimension + len(ratio_list) * stock_dimension  # TODO: Why?\n",
    "print(f\"Stock Dimension: {stock_dimension}, State Space: {state_space}\")\n",
    "print()"
   ],
   "metadata": {
    "collapsed": false,
    "pycharm": {
     "name": "#%%\n"
    }
   }
  },
  {
   "cell_type": "code",
   "execution_count": 88,
   "metadata": {
    "id": "AWyp84Ltto19",
    "pycharm": {
     "name": "#%%\n"
    }
   },
   "outputs": [],
   "source": [
    "# Parameters for the environment\n",
    "env_kwargs = {\n",
    "    \"hmax\": 100,\n",
    "    \"initial_amount\": 1000000,\n",
    "    \"buy_cost_pct\": 0.001,\n",
    "    \"sell_cost_pct\": 0.001,\n",
    "    \"state_space\": state_space,\n",
    "    \"stock_dim\": stock_dimension,\n",
    "    \"tech_indicator_list\": ratio_list,\n",
    "    \"action_space\": stock_dimension,\n",
    "    \"reward_scaling\": 1e-4,\n",
    "}\n",
    "\n",
    "# Establish the training environment using StockTradingEnv() class\n",
    "e_train_gym = StockTradingEnv(df=train_data, **env_kwargs)"
   ]
  },
  {
   "cell_type": "markdown",
   "metadata": {
    "id": "64EoqOrQjiVf",
    "pycharm": {
     "name": "#%% md\n"
    }
   },
   "source": [
    "## Environment for Training\n",
    "\n"
   ]
  },
  {
   "cell_type": "code",
   "execution_count": 89,
   "metadata": {
    "colab": {
     "base_uri": "https://localhost:8080/"
    },
    "id": "xwSvvPjutpqS",
    "outputId": "199470fd-2620-47ca-c3de-307b851dcaff",
    "pycharm": {
     "name": "#%%\n"
    }
   },
   "outputs": [
    {
     "name": "stdout",
     "output_type": "stream",
     "text": [
      "<class 'stable_baselines3.common.vec_env.dummy_vec_env.DummyVecEnv'>\n"
     ]
    }
   ],
   "source": [
    "env_train, _ = e_train_gym.get_sb_env()\n",
    "print(type(env_train))"
   ]
  },
  {
   "cell_type": "markdown",
   "metadata": {
    "id": "HMNR5nHjh1iz",
    "pycharm": {
     "name": "#%% md\n"
    }
   },
   "source": [
    "<a id='5'></a>\n",
    "# Part 6: Train DRL Agents\n",
    "* The DRL algorithms are from **Stable Baselines 3**. Users are also encouraged to try **ElegantRL** and **Ray RLlib**.\n",
    "* FinRL library includes fine-tuned standard DRL algorithms, such as DQN, DDPG,\n",
    "Multi-Agent DDPG, PPO, SAC, A2C and TD3. We also allow users to\n",
    "design their own DRL algorithms by adapting these DRL algorithms."
   ]
  },
  {
   "cell_type": "code",
   "execution_count": 90,
   "metadata": {
    "id": "364PsqckttcQ",
    "pycharm": {
     "name": "#%%\n"
    }
   },
   "outputs": [],
   "source": [
    "# Set up the agent using DRLAgent() class using the environment created in the previous part\n",
    "agent = DRLAgent(env=env_train)\n",
    "\n",
    "if_using_a2c = False\n",
    "if_using_ddpg = False\n",
    "if_using_ppo = False\n",
    "if_using_td3 = False\n",
    "if_using_sac = True"
   ]
  },
  {
   "cell_type": "markdown",
   "metadata": {
    "id": "YDmqOyF9h1iz",
    "pycharm": {
     "name": "#%% md\n"
    }
   },
   "source": [
    "### Agent Training: 5 algorithms (A2C, DDPG, PPO, TD3, SAC)"
   ]
  },
  {
   "cell_type": "markdown",
   "metadata": {
    "id": "_gDkU-j-fCmZ",
    "pycharm": {
     "name": "#%% md\n"
    }
   },
   "source": [
    "### Model 1: PPO"
   ]
  },
  {
   "cell_type": "code",
   "execution_count": 91,
   "metadata": {
    "id": "y5D5PFUhMzSV",
    "pycharm": {
     "name": "#%%\n"
    }
   },
   "outputs": [
    {
     "name": "stdout",
     "output_type": "stream",
     "text": [
      "{'n_steps': 2048, 'ent_coef': 0.01, 'learning_rate': 0.00025, 'batch_size': 128}\n",
      "Using cpu device\n"
     ]
    }
   ],
   "source": [
    "agent = DRLAgent(env=env_train)\n",
    "PPO_PARAMS = {\n",
    "    \"n_steps\": 2048,\n",
    "    \"ent_coef\": 0.01,\n",
    "    \"learning_rate\": 0.00025,\n",
    "    \"batch_size\": 128,\n",
    "}\n",
    "model_ppo = agent.get_model(\"ppo\", model_kwargs=PPO_PARAMS)\n",
    "\n",
    "if if_using_ppo:\n",
    "    # set up logger\n",
    "    tmp_path = RESULTS_DIR + \"/ppo\"\n",
    "    new_logger_ppo = configure(tmp_path, [\"stdout\", \"csv\", \"tensorboard\"])\n",
    "    # Set new logger\n",
    "    model_ppo.set_logger(new_logger_ppo)"
   ]
  },
  {
   "cell_type": "code",
   "execution_count": 92,
   "metadata": {
    "id": "Gt8eIQKYM4G3",
    "pycharm": {
     "name": "#%%\n"
    }
   },
   "outputs": [],
   "source": [
    "trained_ppo = agent.train_model(model=model_ppo, tb_log_name=\"ppo\", total_timesteps=50000) if if_using_ppo else None"
   ]
  },
  {
   "cell_type": "markdown",
   "metadata": {
    "id": "MRiOtrywfAo1",
    "pycharm": {
     "name": "#%% md\n"
    }
   },
   "source": [
    "### Model 2: DDPG"
   ]
  },
  {
   "cell_type": "code",
   "execution_count": 93,
   "metadata": {
    "id": "M2YadjfnLwgt",
    "pycharm": {
     "name": "#%%\n"
    }
   },
   "outputs": [
    {
     "name": "stdout",
     "output_type": "stream",
     "text": [
      "{'batch_size': 128, 'buffer_size': 50000, 'learning_rate': 0.001}\n",
      "Using cpu device\n"
     ]
    }
   ],
   "source": [
    "agent = DRLAgent(env=env_train)\n",
    "model_ddpg = agent.get_model(\"ddpg\")\n",
    "\n",
    "if if_using_ddpg:\n",
    "    # set up logger\n",
    "    tmp_path = RESULTS_DIR + \"/ddpg\"\n",
    "    new_logger_ddpg = configure(tmp_path, [\"stdout\", \"csv\", \"tensorboard\"])\n",
    "    # Set new logger\n",
    "    model_ddpg.set_logger(new_logger_ddpg)"
   ]
  },
  {
   "cell_type": "code",
   "execution_count": 94,
   "metadata": {
    "collapsed": true,
    "id": "tCDa78rqfO_a",
    "pycharm": {
     "name": "#%%\n"
    }
   },
   "outputs": [],
   "source": [
    "trained_ddpg = agent.train_model(model=model_ddpg, tb_log_name=\"ddpg\", total_timesteps=50000) if if_using_ddpg else None"
   ]
  },
  {
   "cell_type": "markdown",
   "metadata": {
    "id": "uijiWgkuh1jB",
    "pycharm": {
     "name": "#%% md\n"
    }
   },
   "source": [
    "### Model 3: A2C\n"
   ]
  },
  {
   "cell_type": "code",
   "execution_count": 95,
   "metadata": {
    "colab": {
     "base_uri": "https://localhost:8080/"
    },
    "id": "GUCnkn-HIbmj",
    "outputId": "a8d5a6e9-2ea1-49f4-ade3-40fd640a2ba4",
    "pycharm": {
     "name": "#%%\n"
    }
   },
   "outputs": [
    {
     "name": "stdout",
     "output_type": "stream",
     "text": [
      "{'n_steps': 5, 'ent_coef': 0.01, 'learning_rate': 0.0007}\n",
      "Using cpu device\n"
     ]
    }
   ],
   "source": [
    "agent = DRLAgent(env=env_train)\n",
    "model_a2c = agent.get_model(\"a2c\")\n",
    "\n",
    "if if_using_a2c:\n",
    "    # set up logger\n",
    "    tmp_path = RESULTS_DIR + \"/a2c\"\n",
    "    new_logger_a2c = configure(tmp_path, [\"stdout\", \"csv\", \"tensorboard\"])\n",
    "    # Set new logger\n",
    "    model_a2c.set_logger(new_logger_a2c)"
   ]
  },
  {
   "cell_type": "code",
   "execution_count": 96,
   "metadata": {
    "id": "0GVpkWGqH4-D",
    "pycharm": {
     "name": "#%%\n"
    }
   },
   "outputs": [],
   "source": [
    "trained_a2c = agent.train_model(model=model_a2c, tb_log_name=\"a2c\", total_timesteps=50000) if if_using_a2c else None"
   ]
  },
  {
   "cell_type": "markdown",
   "metadata": {
    "id": "3Zpv4S0-fDBv",
    "pycharm": {
     "name": "#%% md\n"
    }
   },
   "source": [
    "### Model 4: TD3"
   ]
  },
  {
   "cell_type": "code",
   "execution_count": 97,
   "metadata": {
    "id": "JSAHhV4Xc-bh",
    "pycharm": {
     "name": "#%%\n"
    }
   },
   "outputs": [
    {
     "name": "stdout",
     "output_type": "stream",
     "text": [
      "{'batch_size': 100, 'buffer_size': 1000000, 'learning_rate': 0.001}\n",
      "Using cpu device\n"
     ]
    }
   ],
   "source": [
    "agent = DRLAgent(env=env_train)\n",
    "TD3_PARAMS = {\"batch_size\": 100, \"buffer_size\": 1000000, \"learning_rate\": 0.001}\n",
    "\n",
    "model_td3 = agent.get_model(\"td3\", model_kwargs=TD3_PARAMS)\n",
    "\n",
    "if if_using_td3:\n",
    "    # set up logger\n",
    "    tmp_path = RESULTS_DIR + \"/td3\"\n",
    "    new_logger_td3 = configure(tmp_path, [\"stdout\", \"csv\", \"tensorboard\"])\n",
    "    # Set new logger\n",
    "    model_td3.set_logger(new_logger_td3)"
   ]
  },
  {
   "cell_type": "code",
   "execution_count": 98,
   "metadata": {
    "id": "OSRxNYAxdKpU",
    "pycharm": {
     "name": "#%%\n"
    }
   },
   "outputs": [],
   "source": [
    "trained_td3 = agent.train_model(model=model_td3, tb_log_name=\"td3\", total_timesteps=30000) if if_using_td3 else None"
   ]
  },
  {
   "cell_type": "markdown",
   "metadata": {
    "id": "Dr49PotrfG01",
    "pycharm": {
     "name": "#%% md\n"
    }
   },
   "source": [
    "### Model 5: SAC"
   ]
  },
  {
   "cell_type": "code",
   "execution_count": 99,
   "metadata": {
    "colab": {
     "base_uri": "https://localhost:8080/"
    },
    "id": "xwOhVjqRkCdM",
    "outputId": "a7947b0e-e8fe-4f42-8cba-a57b0fe69f58",
    "pycharm": {
     "name": "#%%\n"
    }
   },
   "outputs": [
    {
     "name": "stdout",
     "output_type": "stream",
     "text": [
      "{'batch_size': 128, 'buffer_size': 1000000, 'learning_rate': 0.0001, 'learning_starts': 100, 'ent_coef': 'auto_0.1'}\n",
      "Using cpu device\n",
      "Logging to results/sac\n"
     ]
    }
   ],
   "source": [
    "agent = DRLAgent(env=env_train)\n",
    "import numpy as np\n",
    "\n",
    "\n",
    "def fun():\n",
    "    pass\n",
    "\n",
    "\n",
    "SAC_PARAMS = {\n",
    "    \"batch_size\": 128,\n",
    "    \"buffer_size\": 1000000,\n",
    "    \"learning_rate\": 0.0001,\n",
    "    \"learning_starts\": 100,\n",
    "    \"ent_coef\": \"auto_0.1\",\n",
    "}\n",
    "\n",
    "model_sac = agent.get_model(\"sac\", model_kwargs=SAC_PARAMS)\n",
    "\n",
    "if if_using_sac:\n",
    "    # set up logger\n",
    "    tmp_path = RESULTS_DIR + \"/sac\"\n",
    "    new_logger_sac = configure(tmp_path, [\"stdout\", \"csv\", \"tensorboard\"])\n",
    "    # Set new logger\n",
    "    model_sac.set_logger(new_logger_sac)"
   ]
  },
  {
   "cell_type": "code",
   "execution_count": 100,
   "metadata": {
    "colab": {
     "base_uri": "https://localhost:8080/",
     "height": 750
    },
    "id": "K8RSdKCckJyH",
    "outputId": "a293320f-54e9-431b-8f17-2f8e0b47a6b8",
    "pycharm": {
     "name": "#%%\n"
    }
   },
   "outputs": [
    {
     "name": "stdout",
     "output_type": "stream",
     "text": [
      "-------------------------------------\n",
      "| time/              |              |\n",
      "|    episodes        | 4            |\n",
      "|    fps             | 36           |\n",
      "|    time_elapsed    | 399          |\n",
      "|    total_timesteps | 14604        |\n",
      "| train/             |              |\n",
      "|    actor_loss      | 1.19e+03     |\n",
      "|    critic_loss     | 245          |\n",
      "|    ent_coef        | 0.242        |\n",
      "|    ent_coef_loss   | -65.9        |\n",
      "|    learning_rate   | 0.0001       |\n",
      "|    n_updates       | 14503        |\n",
      "|    reward          | -0.018511066 |\n",
      "-------------------------------------\n",
      "--------------------------------------\n",
      "| time/              |               |\n",
      "|    episodes        | 8             |\n",
      "|    fps             | 36            |\n",
      "|    time_elapsed    | 810           |\n",
      "|    total_timesteps | 29208         |\n",
      "| train/             |               |\n",
      "|    actor_loss      | 439           |\n",
      "|    critic_loss     | 28.5          |\n",
      "|    ent_coef        | 0.0567        |\n",
      "|    ent_coef_loss   | -113          |\n",
      "|    learning_rate   | 0.0001        |\n",
      "|    n_updates       | 29107         |\n",
      "|    reward          | -7.649915e-06 |\n",
      "--------------------------------------\n"
     ]
    }
   ],
   "source": [
    "trained_sac = agent.train_model(model=model_sac, tb_log_name=\"sac\", total_timesteps=30000) if if_using_sac else None"
   ]
  },
  {
   "cell_type": "code",
   "execution_count": 101,
   "outputs": [],
   "source": [
    "now = datetime.datetime.now().strftime(\"%Y%m%d-%Hh%M\")\n",
    "trained_sac.save(path.join(TRAINED_MODEL_DIR, f\"orig_trained_sac_{now}\"))"
   ],
   "metadata": {
    "collapsed": false,
    "pycharm": {
     "name": "#%%\n"
    }
   }
  },
  {
   "cell_type": "markdown",
   "metadata": {
    "id": "f2wZgkQXh1jE",
    "pycharm": {
     "name": "#%% md\n"
    }
   },
   "source": [
    "## Trading\n",
    "Assume that we have $1,000,000 initial capital at TEST_START_DATE. We use the DDPG model to trade Dow jones 30 stocks."
   ]
  },
  {
   "cell_type": "markdown",
   "metadata": {
    "id": "U5mmgQF_h1jQ",
    "pycharm": {
     "name": "#%% md\n"
    }
   },
   "source": [
    "### Trade\n",
    "\n",
    "DRL model needs to update periodically in order to take full advantage of the data, ideally we need to retrain our model yearly, quarterly, or monthly. We also need to tune the parameters along the way, in this notebook I only use the in-sample data from 2009-01 to 2018-12 to tune the parameters once, so there is some alpha decay here as the length of trade date extends. \n",
    "\n",
    "Numerous hyperparameters – e.g. the learning rate, the total number of samples to train on – influence the learning process and are usually determined by testing some variations."
   ]
  },
  {
   "cell_type": "code",
   "execution_count": 102,
   "metadata": {
    "id": "cIqoV0GSI52v",
    "pycharm": {
     "name": "#%%\n"
    }
   },
   "outputs": [],
   "source": [
    "trade_data = data_split(processed_full, TEST_START_DATE, TEST_END_DATE)\n",
    "e_trade_gym = StockTradingEnv(df=trade_data, **env_kwargs)\n",
    "# env_trade, obs_trade = e_trade_gym.get_sb_env()"
   ]
  },
  {
   "cell_type": "code",
   "execution_count": 103,
   "metadata": {
    "id": "W_XNgGsBMeVw",
    "pycharm": {
     "name": "#%%\n"
    }
   },
   "outputs": [
    {
     "data": {
      "text/plain": "        date   tic        open        high         low       close  \\\n0 2019-01-01  AAPL   38.722500   39.712502   38.557499   38.168350   \n0 2019-01-01  AMGN  192.520004  193.199997  188.949997  171.580246   \n0 2019-01-01   AXP   93.910004   96.269997   93.769997   90.403236   \n0 2019-01-01    BA  316.190002  323.950012  313.709991  314.645142   \n0 2019-01-01   CAT  124.029999  127.879997  123.000000  114.177414   \n\n        volume       OPM       NPM       ROA  ...  quick_ratio  cash_ratio  \\\n0  148158800.0  0.258891  0.227773  0.133360  ...     1.134347    0.854114   \n0    3009100.0  0.093973  0.072040  0.014094  ...     0.000000    0.000000   \n0    4175400.0  0.203479  0.160494  0.026811  ...     0.000000    0.000000   \n0    3292200.0  0.116496  0.102682  0.066409  ...     0.262465    0.092436   \n0    4783200.0  0.186871  0.107064  0.056932  ...     0.919490    0.266175   \n\n   inv_turnover  acc_rec_turnover  acc_pay_turnover  debt_ratio  \\\n0     23.571867          7.620024          3.781658    0.690466   \n0      0.000000          0.351354          0.653355    0.869784   \n0      0.000000          0.231669          0.279424    0.887329   \n0      0.933164          5.468453          4.151637    0.998070   \n0      2.135008          2.339630          3.660183    0.803394   \n\n   debt_to_equity          PE           PB  Div_yield  \n0        2.230663    5.696769     1.661179   0.019126  \n0        6.679531  553.484664    15.890083   0.001049  \n0        7.875371   49.946539     3.405685   0.004314  \n0      517.142241   83.019826  1418.196271   0.006531  \n0        4.086316   34.704381     4.228507   0.007532  \n\n[5 rows x 22 columns]",
      "text/html": "<div>\n<style scoped>\n    .dataframe tbody tr th:only-of-type {\n        vertical-align: middle;\n    }\n\n    .dataframe tbody tr th {\n        vertical-align: top;\n    }\n\n    .dataframe thead th {\n        text-align: right;\n    }\n</style>\n<table border=\"1\" class=\"dataframe\">\n  <thead>\n    <tr style=\"text-align: right;\">\n      <th></th>\n      <th>date</th>\n      <th>tic</th>\n      <th>open</th>\n      <th>high</th>\n      <th>low</th>\n      <th>close</th>\n      <th>volume</th>\n      <th>OPM</th>\n      <th>NPM</th>\n      <th>ROA</th>\n      <th>...</th>\n      <th>quick_ratio</th>\n      <th>cash_ratio</th>\n      <th>inv_turnover</th>\n      <th>acc_rec_turnover</th>\n      <th>acc_pay_turnover</th>\n      <th>debt_ratio</th>\n      <th>debt_to_equity</th>\n      <th>PE</th>\n      <th>PB</th>\n      <th>Div_yield</th>\n    </tr>\n  </thead>\n  <tbody>\n    <tr>\n      <th>0</th>\n      <td>2019-01-01</td>\n      <td>AAPL</td>\n      <td>38.722500</td>\n      <td>39.712502</td>\n      <td>38.557499</td>\n      <td>38.168350</td>\n      <td>148158800.0</td>\n      <td>0.258891</td>\n      <td>0.227773</td>\n      <td>0.133360</td>\n      <td>...</td>\n      <td>1.134347</td>\n      <td>0.854114</td>\n      <td>23.571867</td>\n      <td>7.620024</td>\n      <td>3.781658</td>\n      <td>0.690466</td>\n      <td>2.230663</td>\n      <td>5.696769</td>\n      <td>1.661179</td>\n      <td>0.019126</td>\n    </tr>\n    <tr>\n      <th>0</th>\n      <td>2019-01-01</td>\n      <td>AMGN</td>\n      <td>192.520004</td>\n      <td>193.199997</td>\n      <td>188.949997</td>\n      <td>171.580246</td>\n      <td>3009100.0</td>\n      <td>0.093973</td>\n      <td>0.072040</td>\n      <td>0.014094</td>\n      <td>...</td>\n      <td>0.000000</td>\n      <td>0.000000</td>\n      <td>0.000000</td>\n      <td>0.351354</td>\n      <td>0.653355</td>\n      <td>0.869784</td>\n      <td>6.679531</td>\n      <td>553.484664</td>\n      <td>15.890083</td>\n      <td>0.001049</td>\n    </tr>\n    <tr>\n      <th>0</th>\n      <td>2019-01-01</td>\n      <td>AXP</td>\n      <td>93.910004</td>\n      <td>96.269997</td>\n      <td>93.769997</td>\n      <td>90.403236</td>\n      <td>4175400.0</td>\n      <td>0.203479</td>\n      <td>0.160494</td>\n      <td>0.026811</td>\n      <td>...</td>\n      <td>0.000000</td>\n      <td>0.000000</td>\n      <td>0.000000</td>\n      <td>0.231669</td>\n      <td>0.279424</td>\n      <td>0.887329</td>\n      <td>7.875371</td>\n      <td>49.946539</td>\n      <td>3.405685</td>\n      <td>0.004314</td>\n    </tr>\n    <tr>\n      <th>0</th>\n      <td>2019-01-01</td>\n      <td>BA</td>\n      <td>316.190002</td>\n      <td>323.950012</td>\n      <td>313.709991</td>\n      <td>314.645142</td>\n      <td>3292200.0</td>\n      <td>0.116496</td>\n      <td>0.102682</td>\n      <td>0.066409</td>\n      <td>...</td>\n      <td>0.262465</td>\n      <td>0.092436</td>\n      <td>0.933164</td>\n      <td>5.468453</td>\n      <td>4.151637</td>\n      <td>0.998070</td>\n      <td>517.142241</td>\n      <td>83.019826</td>\n      <td>1418.196271</td>\n      <td>0.006531</td>\n    </tr>\n    <tr>\n      <th>0</th>\n      <td>2019-01-01</td>\n      <td>CAT</td>\n      <td>124.029999</td>\n      <td>127.879997</td>\n      <td>123.000000</td>\n      <td>114.177414</td>\n      <td>4783200.0</td>\n      <td>0.186871</td>\n      <td>0.107064</td>\n      <td>0.056932</td>\n      <td>...</td>\n      <td>0.919490</td>\n      <td>0.266175</td>\n      <td>2.135008</td>\n      <td>2.339630</td>\n      <td>3.660183</td>\n      <td>0.803394</td>\n      <td>4.086316</td>\n      <td>34.704381</td>\n      <td>4.228507</td>\n      <td>0.007532</td>\n    </tr>\n  </tbody>\n</table>\n<p>5 rows × 22 columns</p>\n</div>"
     },
     "execution_count": 103,
     "metadata": {},
     "output_type": "execute_result"
    }
   ],
   "source": [
    "trade_data.head()"
   ]
  },
  {
   "cell_type": "code",
   "execution_count": 104,
   "metadata": {
    "id": "eLOnL5eYh1jR",
    "pycharm": {
     "name": "#%%\n"
    }
   },
   "outputs": [
    {
     "name": "stdout",
     "output_type": "stream",
     "text": [
      "hit end!\n"
     ]
    }
   ],
   "source": [
    "df_account_value_ppo, df_actions_ppo = (\n",
    "    DRLAgent.DRL_prediction(model=trained_ppo, environment=e_trade_gym) if if_using_ppo else [None, None]\n",
    ")\n",
    "\n",
    "df_account_value_ddpg, df_actions_ddpg = (\n",
    "    DRLAgent.DRL_prediction(model=trained_ddpg, environment=e_trade_gym) if if_using_ddpg else [None, None]\n",
    ")\n",
    "\n",
    "df_account_value_a2c, df_actions_a2c = (\n",
    "    DRLAgent.DRL_prediction(model=trained_a2c, environment=e_trade_gym) if if_using_a2c else [None, None]\n",
    ")\n",
    "\n",
    "df_account_value_td3, df_actions_td3 = (\n",
    "    DRLAgent.DRL_prediction(model=trained_td3, environment=e_trade_gym) if if_using_td3 else [None, None]\n",
    ")\n",
    "\n",
    "df_account_value_sac, df_actions_sac = (\n",
    "    DRLAgent.DRL_prediction(model=trained_sac, environment=e_trade_gym) if if_using_sac else [None, None]\n",
    ")"
   ]
  },
  {
   "cell_type": "code",
   "execution_count": 105,
   "metadata": {
    "id": "ERxw3KqLkcP4",
    "pycharm": {
     "name": "#%%\n"
    }
   },
   "outputs": [],
   "source": [
    "# df_account_value_ppo.shape\n",
    "# df_account_value_ddpg.shape\n",
    "# df_account_value_a2c.shape\n",
    "# df_account_value_td3.shape\n",
    "# df_account_value_sac.shape"
   ]
  },
  {
   "cell_type": "code",
   "execution_count": 106,
   "metadata": {
    "id": "2yRkNguY5yvp",
    "pycharm": {
     "name": "#%%\n"
    }
   },
   "outputs": [],
   "source": [
    "# df_account_value_ppo.tail()\n",
    "# df_account_value_ddpg.tail()\n",
    "# df_account_value_a2c.tail()\n",
    "# df_account_value_td3.tail()\n",
    "# df_account_value_sac.tail()"
   ]
  },
  {
   "cell_type": "code",
   "execution_count": 107,
   "metadata": {
    "id": "nFlK5hNbWVFk",
    "pycharm": {
     "name": "#%%\n"
    }
   },
   "outputs": [],
   "source": [
    "# df_actions_ppo.head()\n",
    "# df_actions_ddpg.head()\n",
    "# df_actions_a2c.head()\n",
    "# df_actions_td3.head()\n",
    "# df_actions_sac.head()"
   ]
  },
  {
   "cell_type": "markdown",
   "metadata": {
    "id": "W6vvNSC6h1jZ",
    "pycharm": {
     "name": "#%% md\n"
    }
   },
   "source": [
    "<a id='6'></a>\n",
    "# Part 7: Backtest Our Strategy\n",
    "Backtesting plays a key role in evaluating the performance of a trading strategy. Automated backtesting tool is preferred because it reduces the human error. We usually use the Quantopian pyfolio package to backtest our trading strategies. It is easy to use and consists of various individual plots that provide a comprehensive image of the performance of a trading strategy."
   ]
  },
  {
   "cell_type": "markdown",
   "metadata": {
    "id": "Lr2zX7ZxNyFQ",
    "pycharm": {
     "name": "#%% md\n"
    }
   },
   "source": [
    "<a id='6.1'></a>\n",
    "## 7.1 BackTestStats\n",
    "pass in df_account_value, this information is stored in env class\n"
   ]
  },
  {
   "cell_type": "code",
   "execution_count": 108,
   "metadata": {
    "id": "Nzkr9yv-AdV_",
    "pycharm": {
     "name": "#%%\n"
    }
   },
   "outputs": [
    {
     "name": "stdout",
     "output_type": "stream",
     "text": [
      "==============Get Backtest Results===========\n",
      "\n",
      " sac:\n",
      "Annual return          0.086564\n",
      "Cumulative returns     0.272299\n",
      "Annual volatility      0.244469\n",
      "Sharpe ratio           0.463112\n",
      "Calmar ratio           0.225982\n",
      "Stability              0.041207\n",
      "Max drawdown          -0.383058\n",
      "Omega ratio            1.127741\n",
      "Sortino ratio          0.642349\n",
      "Skew                        NaN\n",
      "Kurtosis                    NaN\n",
      "Tail ratio             0.950450\n",
      "Daily value at risk   -0.030351\n",
      "dtype: float64\n"
     ]
    },
    {
     "name": "stderr",
     "output_type": "stream",
     "text": [
      "/Users/zlapik/my-drive-zdenda-lapes/0-todo/ai-investing/venv_2/lib/python3.10/site-packages/pyfolio/timeseries.py:724: FutureWarning: The default dtype for empty Series will be 'object' instead of 'float64' in a future version. Specify a dtype explicitly to silence this warning.\n",
      "  stats = pd.Series()\n"
     ]
    }
   ],
   "source": [
    "print(\"==============Get Backtest Results===========\")\n",
    "now = datetime.datetime.now().strftime(\"%Y%m%d-%Hh%M\")\n",
    "\n",
    "if if_using_ppo:\n",
    "    print(\"\\n ppo:\")\n",
    "    perf_stats_all_ppo = backtest_stats(account_value=df_account_value_ppo)\n",
    "    perf_stats_all_ppo = pd.DataFrame(perf_stats_all_ppo)\n",
    "    perf_stats_all_ppo.to_csv(\"./\" + config.RESULTS_DIR + \"/perf_stats_all_ppo_\" + now + \".csv\")\n",
    "\n",
    "if if_using_ddpg:\n",
    "    print(\"\\n ddpg:\")\n",
    "    perf_stats_all_ddpg = backtest_stats(account_value=df_account_value_ddpg)\n",
    "    perf_stats_all_ddpg = pd.DataFrame(perf_stats_all_ddpg)\n",
    "    perf_stats_all_ddpg.to_csv(\"./\" + config.RESULTS_DIR + \"/perf_stats_all_ddpg_\" + now + \".csv\")\n",
    "\n",
    "if if_using_a2c:\n",
    "    print(\"\\n a2c:\")\n",
    "    perf_stats_all_a2c = backtest_stats(account_value=df_account_value_a2c)\n",
    "    perf_stats_all_a2c = pd.DataFrame(perf_stats_all_a2c)\n",
    "    perf_stats_all_a2c.to_csv(\"./\" + config.RESULTS_DIR + \"/perf_stats_all_a2c_\" + now + \".csv\")\n",
    "\n",
    "if if_using_td3:\n",
    "    print(\"\\n atd3:\")\n",
    "    perf_stats_all_td3 = backtest_stats(account_value=df_account_value_td3)\n",
    "    perf_stats_all_td3 = pd.DataFrame(perf_stats_all_td3)\n",
    "    perf_stats_all_td3.to_csv(\"./\" + config.RESULTS_DIR + \"/perf_stats_all_td3_\" + now + \".csv\")\n",
    "\n",
    "if if_using_sac:\n",
    "    print(\"\\n sac:\")\n",
    "    perf_stats_all_sac = backtest_stats(account_value=df_account_value_sac)\n",
    "    perf_stats_all_sac = pd.DataFrame(perf_stats_all_sac)\n",
    "    perf_stats_all_sac.to_csv(\"./\" + config.RESULTS_DIR + \"/perf_stats_all_sac_\" + now + \".csv\")"
   ]
  },
  {
   "cell_type": "code",
   "execution_count": 109,
   "metadata": {
    "id": "QkV-LB66iwhD",
    "pycharm": {
     "name": "#%%\n"
    }
   },
   "outputs": [
    {
     "name": "stdout",
     "output_type": "stream",
     "text": [
      "==============Get Baseline Stats===========\n",
      "[*********************100%***********************]  1 of 1 completed\n",
      "Shape of DataFrame:  (505, 8)\n",
      "Annual return          0.144674\n",
      "Cumulative returns     0.310981\n",
      "Annual volatility      0.274619\n",
      "Sharpe ratio           0.631418\n",
      "Calmar ratio           0.390102\n",
      "Stability              0.116677\n",
      "Max drawdown          -0.370862\n",
      "Omega ratio            1.149365\n",
      "Sortino ratio          0.870084\n",
      "Skew                        NaN\n",
      "Kurtosis                    NaN\n",
      "Tail ratio             0.860710\n",
      "Daily value at risk   -0.033911\n",
      "dtype: float64\n"
     ]
    },
    {
     "name": "stderr",
     "output_type": "stream",
     "text": [
      "/Users/zlapik/my-drive-zdenda-lapes/0-todo/ai-investing/venv_2/lib/python3.10/site-packages/finrl/meta/preprocessor/yahoodownloader.py:54: FutureWarning: The frame.append method is deprecated and will be removed from pandas in a future version. Use pandas.concat instead.\n",
      "  data_df = data_df.append(temp_df)\n",
      "/Users/zlapik/my-drive-zdenda-lapes/0-todo/ai-investing/venv_2/lib/python3.10/site-packages/pyfolio/timeseries.py:724: FutureWarning: The default dtype for empty Series will be 'object' instead of 'float64' in a future version. Specify a dtype explicitly to silence this warning.\n",
      "  stats = pd.Series()\n"
     ]
    }
   ],
   "source": [
    "# baseline stats\n",
    "print(\"==============Get Baseline Stats===========\")\n",
    "baseline_df = get_baseline(ticker=\"^DJI\", start=TEST_START_DATE, end=TEST_END_DATE)\n",
    "\n",
    "stats = backtest_stats(baseline_df, value_col_name=\"close\")"
   ]
  },
  {
   "cell_type": "markdown",
   "metadata": {
    "id": "9U6Suru3h1jc",
    "pycharm": {
     "name": "#%% md\n"
    }
   },
   "source": [
    "<a id='6.2'></a>\n",
    "## 7.2 BackTestPlot"
   ]
  },
  {
   "cell_type": "code",
   "execution_count": 110,
   "outputs": [
    {
     "name": "stdout",
     "output_type": "stream",
     "text": [
      "==============Compare to DJIA===========\n",
      "[*********************100%***********************]  1 of 1 completed\n",
      "Shape of DataFrame:  (505, 8)\n"
     ]
    },
    {
     "name": "stderr",
     "output_type": "stream",
     "text": [
      "/Users/zlapik/my-drive-zdenda-lapes/0-todo/ai-investing/venv_2/lib/python3.10/site-packages/finrl/meta/preprocessor/yahoodownloader.py:54: FutureWarning: The frame.append method is deprecated and will be removed from pandas in a future version. Use pandas.concat instead.\n",
      "  data_df = data_df.append(temp_df)\n",
      "/Users/zlapik/my-drive-zdenda-lapes/0-todo/ai-investing/venv_2/lib/python3.10/site-packages/pyfolio/timeseries.py:724: FutureWarning: The default dtype for empty Series will be 'object' instead of 'float64' in a future version. Specify a dtype explicitly to silence this warning.\n",
      "  stats = pd.Series()\n",
      "/Users/zlapik/my-drive-zdenda-lapes/0-todo/ai-investing/venv_2/lib/python3.10/site-packages/pyfolio/plotting.py:648: FutureWarning: iteritems is deprecated and will be removed in a future version. Use .items instead.\n",
      "  for stat, value in perf_stats[column].iteritems():\n"
     ]
    },
    {
     "data": {
      "text/plain": "<IPython.core.display.HTML object>",
      "text/html": "<table border=\"1\" class=\"dataframe\">\n  <thead>\n    <tr style=\"text-align: right;\"><th>Start date</th><td colspan=2>2019-01-01</td></tr>\n    <tr style=\"text-align: right;\"><th>End date</th><td colspan=2>2020-12-31</td></tr>\n    <tr style=\"text-align: right;\"><th>Total months</th><td colspan=2>34</td></tr>\n    <tr style=\"text-align: right;\">\n      <th></th>\n      <th>Backtest</th>\n    </tr>\n  </thead>\n  <tbody>\n    <tr>\n      <th>Annual return</th>\n      <td>8.656%</td>\n    </tr>\n    <tr>\n      <th>Cumulative returns</th>\n      <td>27.23%</td>\n    </tr>\n    <tr>\n      <th>Annual volatility</th>\n      <td>24.447%</td>\n    </tr>\n    <tr>\n      <th>Sharpe ratio</th>\n      <td>0.46</td>\n    </tr>\n    <tr>\n      <th>Calmar ratio</th>\n      <td>0.23</td>\n    </tr>\n    <tr>\n      <th>Stability</th>\n      <td>0.04</td>\n    </tr>\n    <tr>\n      <th>Max drawdown</th>\n      <td>-38.306%</td>\n    </tr>\n    <tr>\n      <th>Omega ratio</th>\n      <td>1.13</td>\n    </tr>\n    <tr>\n      <th>Sortino ratio</th>\n      <td>0.64</td>\n    </tr>\n    <tr>\n      <th>Skew</th>\n      <td>NaN</td>\n    </tr>\n    <tr>\n      <th>Kurtosis</th>\n      <td>NaN</td>\n    </tr>\n    <tr>\n      <th>Tail ratio</th>\n      <td>0.95</td>\n    </tr>\n    <tr>\n      <th>Daily value at risk</th>\n      <td>-3.035%</td>\n    </tr>\n    <tr>\n      <th>Alpha</th>\n      <td>0.03</td>\n    </tr>\n    <tr>\n      <th>Beta</th>\n      <td>0.72</td>\n    </tr>\n  </tbody>\n</table>"
     },
     "metadata": {},
     "output_type": "display_data"
    },
    {
     "data": {
      "text/plain": "<IPython.core.display.HTML object>",
      "text/html": "<table border=\"1\" class=\"dataframe\">\n  <thead>\n    <tr style=\"text-align: right;\">\n      <th>Worst drawdown periods</th>\n      <th>Net drawdown in %</th>\n      <th>Peak date</th>\n      <th>Valley date</th>\n      <th>Recovery date</th>\n      <th>Duration</th>\n    </tr>\n  </thead>\n  <tbody>\n    <tr>\n      <th>0</th>\n      <td>38.31</td>\n      <td>2020-02-19</td>\n      <td>2020-03-21</td>\n      <td>2020-11-10</td>\n      <td>190</td>\n    </tr>\n    <tr>\n      <th>1</th>\n      <td>8.35</td>\n      <td>2019-02-23</td>\n      <td>2019-06-01</td>\n      <td>2019-07-11</td>\n      <td>99</td>\n    </tr>\n    <tr>\n      <th>2</th>\n      <td>8.15</td>\n      <td>2019-07-23</td>\n      <td>2019-08-14</td>\n      <td>2019-11-02</td>\n      <td>74</td>\n    </tr>\n    <tr>\n      <th>3</th>\n      <td>4.57</td>\n      <td>2020-01-16</td>\n      <td>2020-01-31</td>\n      <td>2020-02-12</td>\n      <td>20</td>\n    </tr>\n    <tr>\n      <th>4</th>\n      <td>4.29</td>\n      <td>2020-11-16</td>\n      <td>2020-12-22</td>\n      <td>NaT</td>\n      <td>NaN</td>\n    </tr>\n  </tbody>\n</table>"
     },
     "metadata": {},
     "output_type": "display_data"
    },
    {
     "name": "stderr",
     "output_type": "stream",
     "text": [
      "/Users/zlapik/my-drive-zdenda-lapes/0-todo/ai-investing/venv_2/lib/python3.10/site-packages/pyfolio/plotting.py:805: FutureWarning: The default dtype for empty Series will be 'object' instead of 'float64' in a future version. Specify a dtype explicitly to silence this warning.\n",
      "  oos_cum_returns = pd.Series([])\n",
      "/Users/zlapik/my-drive-zdenda-lapes/0-todo/ai-investing/venv_2/lib/python3.10/site-packages/pyfolio/plotting.py:805: FutureWarning: The default dtype for empty Series will be 'object' instead of 'float64' in a future version. Specify a dtype explicitly to silence this warning.\n",
      "  oos_cum_returns = pd.Series([])\n",
      "/Users/zlapik/my-drive-zdenda-lapes/0-todo/ai-investing/venv_2/lib/python3.10/site-packages/pyfolio/plotting.py:805: FutureWarning: The default dtype for empty Series will be 'object' instead of 'float64' in a future version. Specify a dtype explicitly to silence this warning.\n",
      "  oos_cum_returns = pd.Series([])\n",
      "/Users/zlapik/my-drive-zdenda-lapes/0-todo/ai-investing/venv_2/lib/python3.10/site-packages/pyfolio/timeseries.py:541: FutureWarning: The default dtype for empty Series will be 'object' instead of 'float64' in a future version. Specify a dtype explicitly to silence this warning.\n",
      "  out = pd.Series(index=returns.index)\n",
      "/Users/zlapik/my-drive-zdenda-lapes/0-todo/ai-investing/venv_2/lib/python3.10/site-packages/pyfolio/timeseries.py:541: FutureWarning: The default dtype for empty Series will be 'object' instead of 'float64' in a future version. Specify a dtype explicitly to silence this warning.\n",
      "  out = pd.Series(index=returns.index)\n",
      "/Users/zlapik/my-drive-zdenda-lapes/0-todo/ai-investing/venv_2/lib/python3.10/site-packages/pyfolio/timeseries.py:1230: FutureWarning: Indexing a timezone-aware DatetimeIndex with a timezone-naive datetime is deprecated and will raise KeyError in a future version. Use a timezone-aware object instead.\n",
      "  period = returns_dupe.loc[start:end]\n"
     ]
    },
    {
     "data": {
      "text/plain": "<IPython.core.display.HTML object>",
      "text/html": "<table border=\"1\" class=\"dataframe\">\n  <thead>\n    <tr style=\"text-align: right;\">\n      <th>Stress Events</th>\n      <th>mean</th>\n      <th>min</th>\n      <th>max</th>\n    </tr>\n  </thead>\n  <tbody>\n    <tr>\n      <th>New Normal</th>\n      <td>0.04%</td>\n      <td>-13.36%</td>\n      <td>11.90%</td>\n    </tr>\n  </tbody>\n</table>"
     },
     "metadata": {},
     "output_type": "display_data"
    },
    {
     "name": "stderr",
     "output_type": "stream",
     "text": [
      "/Users/zlapik/my-drive-zdenda-lapes/0-todo/ai-investing/venv_2/lib/python3.10/site-packages/pyfolio/timeseries.py:1230: FutureWarning: Indexing a timezone-aware DatetimeIndex with a timezone-naive datetime is deprecated and will raise KeyError in a future version. Use a timezone-aware object instead.\n",
      "  period = returns_dupe.loc[start:end]\n"
     ]
    }
   ],
   "source": [
    "print(\"==============Compare to DJIA===========\")\n",
    "\"%matplotlib inline\"\n",
    "# S&P 500: ^GSPC\n",
    "# Dow Jones Index: ^DJI\n",
    "# NASDAQ 100: ^NDX\n",
    "\n",
    "if if_using_ppo:\n",
    "    backtest_plot(\n",
    "        df_account_value_ppo, baseline_ticker=\"^DJI\", baseline_start=TEST_START_DATE, baseline_end=TEST_END_DATE\n",
    "    )\n",
    "\n",
    "if if_using_ddpg:\n",
    "    backtest_plot(\n",
    "        df_account_value_ddpg, baseline_ticker=\"^DJI\", baseline_start=TEST_START_DATE, baseline_end=TEST_END_DATE\n",
    "    )\n",
    "\n",
    "if if_using_a2c:\n",
    "    backtest_plot(\n",
    "        df_account_value_a2c, baseline_ticker=\"^DJI\", baseline_start=TEST_START_DATE, baseline_end=TEST_END_DATE\n",
    "    )\n",
    "\n",
    "if if_using_td3:\n",
    "    backtest_plot(\n",
    "        df_account_value_td3, baseline_ticker=\"^DJI\", baseline_start=TEST_START_DATE, baseline_end=TEST_END_DATE\n",
    "    )\n",
    "\n",
    "if if_using_sac:\n",
    "    backtest_plot(\n",
    "        df_account_value_sac, baseline_ticker=\"^DJI\", baseline_start=TEST_START_DATE, baseline_end=TEST_END_DATE\n",
    "    )"
   ],
   "metadata": {
    "collapsed": false,
    "pycharm": {
     "name": "#%%\n"
    }
   }
  },
  {
   "cell_type": "code",
   "execution_count": 110,
   "outputs": [],
   "source": [],
   "metadata": {
    "collapsed": false,
    "pycharm": {
     "name": "#%%\n"
    }
   }
  }
 ],
 "metadata": {
  "colab": {
   "collapsed_sections": [
    "_gDkU-j-fCmZ",
    "MRiOtrywfAo1",
    "3Zpv4S0-fDBv",
    "Dr49PotrfG01"
   ],
   "name": "Stock_Fundamental.ipynb",
   "provenance": []
  },
  "gpuClass": "standard",
  "kernelspec": {
   "display_name": "Python 3.8.6 64-bit",
   "language": "python",
   "name": "python3"
  },
  "language_info": {
   "codemirror_mode": {
    "name": "ipython",
    "version": 3
   },
   "file_extension": ".py",
   "mimetype": "text/x-python",
   "name": "python",
   "nbconvert_exporter": "python",
   "pygments_lexer": "ipython3",
   "version": "3.8.6"
  },
  "vscode": {
   "interpreter": {
    "hash": "a1dc24e770f11933509167a1c29cdaaeb86ecb8b4614cc65da123615b71c0aa2"
   }
  }
 },
 "nbformat": 4,
 "nbformat_minor": 0
}
