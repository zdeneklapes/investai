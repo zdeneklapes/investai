{
 "cells": [
  {
   "cell_type": "markdown",
   "metadata": {
    "id": "WwNYSFfH3Zzk",
    "pycharm": {
     "name": "#%% md\n"
    }
   },
   "source": [
    "<a href=\"https://colab.research.google.com/github/AI4Finance-Foundation/FinRL/blob/master/tutorials/1-Introduction/Stock_Fundamental.ipynb\" target=\"_parent\"><img src=\"https://colab.research.google.com/assets/colab-badge.svg\" alt=\"Open In Colab\"/></a>"
   ]
  },
  {
   "cell_type": "markdown",
   "metadata": {
    "id": "gXaoZs2lh1hi",
    "pycharm": {
     "name": "#%% md\n"
    }
   },
   "source": [
    "# Stock trading with fundamentals\n",
    "\n",
    "* This notebook is based on the tutorial: https://towardsdatascience.com/finrl-for-quantitative-finance-tutorial-for-multiple-stock-trading-7b00763b7530\n",
    "\n",
    "* This project is a result of the almuni-mentored research project at Columbia University, Application of Reinforcement Learning to Finance.\n",
    "* For detailed explanation, please check out the Medium article: https://medium.com/@mariko.sawada1/automated-stock-trading-with-deep-reinforcement-learning-and-financial-data-a63286ccbe2b\n",
    "\n"
   ]
  },
  {
   "cell_type": "markdown",
   "metadata": {
    "id": "lGunVt8oLCVS",
    "pycharm": {
     "name": "#%% md\n"
    }
   },
   "source": [
    "# Content"
   ]
  },
  {
   "cell_type": "markdown",
   "metadata": {
    "id": "HOzAKQ-SLGX6",
    "pycharm": {
     "name": "#%% md\n"
    }
   },
   "source": [
    "* [1. Task Discription](#0)\n",
    "* [2. Install Python packages](#1)\n",
    "    * [2.1. Install Packages](#1.1)    \n",
    "    * [2.2. A List of Python Packages](#1.2)\n",
    "    * [2.3. Import Packages](#1.3)\n",
    "    * [2.4. Create Folders](#1.4)\n",
    "* [3. Download Data](#2)\n",
    "* [4. Preprocess fundamental Data](#3)        \n",
    "    * [4.1 Import financial data](#3.1)\n",
    "    * [4.2 Specify items needed to calculate financial ratios](#3.2)\n",
    "    * [4.3 Calculate financial ratios](#3.3)\n",
    "    * [4.4 Deal with NAs and infinite values](#3.4)\n",
    "    * [4.5 Merge stock price data and ratios into one dataframe](#3.5)\n",
    "    * [4.6 Calculate market valuation ratios using daily stock price data](#3.6)\n",
    "* [5. Build Environment](#4)  \n",
    "    * [5.1. Training & Trade Data Split](#4.1)\n",
    "    * [5.2. User-defined Environment](#4.2)   \n",
    "    * [5.3. Initialize Environment](#4.3)    \n",
    "* [6. Train DRL Agents](#5)  \n",
    "* [7. Backtesting Performance](#6)  \n",
    "    * [7.1. BackTestStats](#6.1)\n",
    "    * [7.2. BackTestPlot](#6.2)   \n",
    "    * [7.3. Baseline Stats](#6.3)   \n",
    "    * [7.3. Compare to Stock Market Index](#6.4)             "
   ]
  },
  {
   "cell_type": "markdown",
   "metadata": {
    "id": "sApkDlD9LIZv",
    "pycharm": {
     "name": "#%% md\n"
    }
   },
   "source": [
    "<a id='0'></a>\n",
    "# Part 1. Task Description"
   ]
  },
  {
   "cell_type": "markdown",
   "metadata": {
    "id": "HjLD2TZSLKZ-",
    "pycharm": {
     "name": "#%% md\n"
    }
   },
   "source": [
    "We train a DRL agent for stock trading. The task is modeled as a Markov Decision Process (MDP), and the objective function is maximizing (expected) cumulative return.\n",
    "\n",
    "We specify the state-action-reward as follows:\n",
    "\n",
    "* **State s**: The state space represents an agent's perception of the market environment. Like a human trader analyzes various information, here our agent passively observes many features and learn by interacting with the market environment (usually by replaying historical data).\n",
    "\n",
    "* **Action a**: The action space includes allowed actions that an agent can take at each state. For example, a ∈ {−1, 0, 1}, where −1, 0, 1 represent\n",
    "selling, holding, and buying. When an action operates multiple shares, a ∈{−k, ..., −1, 0, 1, ..., k}, e.g.. \"Buy\n",
    "10 shares of AAPL\" or \"Sell 10 shares of AAPL\" are 10 or −10, respectively\n",
    "\n",
    "* **Reward function r(s, a, s′)**: Reward is an incentive for an agent to learn a better policy. For example, it can be the change of the portfolio value when taking a at state s and arriving at new state s',  i.e., r(s, a, s′) = v′ − v, where v′ and v represent the portfolio values at state s′ and s, respectively\n",
    "\n",
    "\n",
    "**Market environment**: 30 consituent stocks of Dow Jones Industrial Average (DJIA) index. Accessed at the starting date of the testing period.\n",
    "\n",
    "\n",
    "The data of the single stock that we will use for this case study is obtained from Yahoo Finance API. The data contains Open-High-Low-Close prices and volume.\n"
   ]
  },
  {
   "cell_type": "markdown",
   "metadata": {
    "id": "Ffsre789LY08",
    "pycharm": {
     "name": "#%% md\n"
    }
   },
   "source": [
    "<a id='1'></a>\n",
    "# Part 2. Load Python Packages"
   ]
  },
  {
   "cell_type": "markdown",
   "metadata": {
    "id": "Uy5_PTmOh1hj",
    "pycharm": {
     "name": "#%% md\n"
    }
   },
   "source": [
    "<a id='1.1'></a>\n",
    "## 2.1. Install all the packages through FinRL library\n"
   ]
  },
  {
   "cell_type": "code",
   "execution_count": 57,
   "metadata": {
    "colab": {
     "base_uri": "https://localhost:8080/",
     "height": 1000
    },
    "id": "mPT0ipYE28wL",
    "outputId": "4a352ef5-65c2-4393-c78b-909aa8a0b4d0",
    "pycharm": {
     "name": "#%%\n"
    }
   },
   "outputs": [
    {
     "name": "stdout",
     "output_type": "stream",
     "text": [
      "Collecting git+https://github.com/AI4Finance-Foundation/FinRL.git\r\n",
      "  Cloning https://github.com/AI4Finance-Foundation/FinRL.git to /private/var/folders/9c/z5w432ls60300pg8dcrpkhkr0000gn/T/pip-req-build-8iecttxn\r\n",
      "  Running command git clone --filter=blob:none --quiet https://github.com/AI4Finance-Foundation/FinRL.git /private/var/folders/9c/z5w432ls60300pg8dcrpkhkr0000gn/T/pip-req-build-8iecttxn\r\n",
      "  Resolved https://github.com/AI4Finance-Foundation/FinRL.git to commit eec4c887681dec9ef45bea641cde461c2b2a7084\r\n",
      "  Preparing metadata (setup.py) ... \u001b[?25ldone\r\n",
      "\u001b[?25hCollecting pyfolio@ git+https://github.com/quantopian/pyfolio.git#egg=pyfolio-0.9.2\r\n",
      "  Cloning https://github.com/quantopian/pyfolio.git to /private/var/folders/9c/z5w432ls60300pg8dcrpkhkr0000gn/T/pip-install-zc8i5l_g/pyfolio_b8ebc5dbe42647e4a9a7a7f313475312\r\n",
      "  Running command git clone --filter=blob:none --quiet https://github.com/quantopian/pyfolio.git /private/var/folders/9c/z5w432ls60300pg8dcrpkhkr0000gn/T/pip-install-zc8i5l_g/pyfolio_b8ebc5dbe42647e4a9a7a7f313475312\r\n",
      "  Resolved https://github.com/quantopian/pyfolio.git to commit 4b901f6d73aa02ceb6d04b7d83502e5c6f2e81aa\r\n",
      "  Preparing metadata (setup.py) ... \u001b[?25ldone\r\n",
      "\u001b[?25hCollecting elegantrl@ git+https://github.com/AI4Finance-Foundation/ElegantRL.git#egg=elegantrl\r\n",
      "  Cloning https://github.com/AI4Finance-Foundation/ElegantRL.git to /private/var/folders/9c/z5w432ls60300pg8dcrpkhkr0000gn/T/pip-install-zc8i5l_g/elegantrl_26d499d342dc4d3abf3dc80749190f5a\r\n",
      "  Running command git clone --filter=blob:none --quiet https://github.com/AI4Finance-Foundation/ElegantRL.git /private/var/folders/9c/z5w432ls60300pg8dcrpkhkr0000gn/T/pip-install-zc8i5l_g/elegantrl_26d499d342dc4d3abf3dc80749190f5a\r\n",
      "  Resolved https://github.com/AI4Finance-Foundation/ElegantRL.git to commit 1d5bf9e1639222c5d2a462adcc0c4eab453bbe70\r\n",
      "  Preparing metadata (setup.py) ... \u001b[?25ldone\r\n",
      "\u001b[?25hRequirement already satisfied: alpaca_trade_api>=2.1.0 in /Users/zlapik/my-drive-zdenda-lapes/0-todo/ai-investing/venv_2/lib/python3.10/site-packages (from finrl==0.3.5) (2.3.0)\r\n",
      "Requirement already satisfied: ccxt==1.66.32 in /Users/zlapik/my-drive-zdenda-lapes/0-todo/ai-investing/venv_2/lib/python3.10/site-packages (from finrl==0.3.5) (1.66.32)\r\n",
      "Requirement already satisfied: elegantrl in /Users/zlapik/my-drive-zdenda-lapes/0-todo/ai-investing/venv_2/lib/python3.10/site-packages (from finrl==0.3.5) (0.3.3)\r\n",
      "Requirement already satisfied: exchange_calendars==3.6.3 in /Users/zlapik/my-drive-zdenda-lapes/0-todo/ai-investing/venv_2/lib/python3.10/site-packages (from finrl==0.3.5) (3.6.3)\r\n",
      "Requirement already satisfied: gputil in /Users/zlapik/my-drive-zdenda-lapes/0-todo/ai-investing/venv_2/lib/python3.10/site-packages (from finrl==0.3.5) (1.4.0)\r\n",
      "Requirement already satisfied: gym>=0.17 in /Users/zlapik/my-drive-zdenda-lapes/0-todo/ai-investing/venv_2/lib/python3.10/site-packages (from finrl==0.3.5) (0.21.0)\r\n",
      "Requirement already satisfied: importlib-metadata==4.13.0 in /Users/zlapik/my-drive-zdenda-lapes/0-todo/ai-investing/venv_2/lib/python3.10/site-packages (from finrl==0.3.5) (4.13.0)\r\n",
      "Requirement already satisfied: jqdatasdk in /Users/zlapik/my-drive-zdenda-lapes/0-todo/ai-investing/venv_2/lib/python3.10/site-packages (from finrl==0.3.5) (1.8.11)\r\n",
      "Requirement already satisfied: lz4 in /Users/zlapik/my-drive-zdenda-lapes/0-todo/ai-investing/venv_2/lib/python3.10/site-packages (from finrl==0.3.5) (4.0.2)\r\n",
      "Requirement already satisfied: matplotlib in /Users/zlapik/my-drive-zdenda-lapes/0-todo/ai-investing/venv_2/lib/python3.10/site-packages (from finrl==0.3.5) (3.6.0)\r\n",
      "Requirement already satisfied: numpy>=1.17.3 in /Users/zlapik/my-drive-zdenda-lapes/0-todo/ai-investing/venv_2/lib/python3.10/site-packages (from finrl==0.3.5) (1.23.4)\r\n",
      "Requirement already satisfied: pandas>=1.1.5 in /Users/zlapik/my-drive-zdenda-lapes/0-todo/ai-investing/venv_2/lib/python3.10/site-packages (from finrl==0.3.5) (1.5.1)\r\n",
      "Requirement already satisfied: pre-commit in /Users/zlapik/my-drive-zdenda-lapes/0-todo/ai-investing/venv_2/lib/python3.10/site-packages (from finrl==0.3.5) (2.20.0)\r\n",
      "Requirement already satisfied: pytest in /Users/zlapik/my-drive-zdenda-lapes/0-todo/ai-investing/venv_2/lib/python3.10/site-packages (from finrl==0.3.5) (7.1.3)\r\n",
      "Requirement already satisfied: ray[default] in /Users/zlapik/my-drive-zdenda-lapes/0-todo/ai-investing/venv_2/lib/python3.10/site-packages (from finrl==0.3.5) (2.0.1)\r\n",
      "Requirement already satisfied: scikit-learn>=0.21.0 in /Users/zlapik/my-drive-zdenda-lapes/0-todo/ai-investing/venv_2/lib/python3.10/site-packages (from finrl==0.3.5) (1.1.2)\r\n",
      "Requirement already satisfied: setuptools==59.5.0 in /Users/zlapik/my-drive-zdenda-lapes/0-todo/ai-investing/venv_2/lib/python3.10/site-packages (from finrl==0.3.5) (59.5.0)\r\n",
      "Requirement already satisfied: stable-baselines3[extra] in /Users/zlapik/my-drive-zdenda-lapes/0-todo/ai-investing/venv_2/lib/python3.10/site-packages (from finrl==0.3.5) (1.6.2)\r\n",
      "Requirement already satisfied: stockstats>=0.4.0 in /Users/zlapik/my-drive-zdenda-lapes/0-todo/ai-investing/venv_2/lib/python3.10/site-packages (from finrl==0.3.5) (0.4.1)\r\n",
      "Requirement already satisfied: tensorboardX in /Users/zlapik/my-drive-zdenda-lapes/0-todo/ai-investing/venv_2/lib/python3.10/site-packages (from finrl==0.3.5) (2.5.1)\r\n",
      "Requirement already satisfied: wheel>=0.33.6 in /Users/zlapik/my-drive-zdenda-lapes/0-todo/ai-investing/venv_2/lib/python3.10/site-packages (from finrl==0.3.5) (0.37.1)\r\n",
      "Requirement already satisfied: wrds in /Users/zlapik/my-drive-zdenda-lapes/0-todo/ai-investing/venv_2/lib/python3.10/site-packages (from finrl==0.3.5) (3.1.2)\r\n",
      "Requirement already satisfied: yfinance in /Users/zlapik/my-drive-zdenda-lapes/0-todo/ai-investing/venv_2/lib/python3.10/site-packages (from finrl==0.3.5) (0.1.80)\r\n",
      "Requirement already satisfied: requests>=2.18.4 in /Users/zlapik/my-drive-zdenda-lapes/0-todo/ai-investing/venv_2/lib/python3.10/site-packages (from ccxt==1.66.32->finrl==0.3.5) (2.28.1)\r\n",
      "Requirement already satisfied: cryptography>=2.6.1 in /Users/zlapik/my-drive-zdenda-lapes/0-todo/ai-investing/venv_2/lib/python3.10/site-packages (from ccxt==1.66.32->finrl==0.3.5) (38.0.1)\r\n",
      "Requirement already satisfied: yarl==1.7.2 in /Users/zlapik/my-drive-zdenda-lapes/0-todo/ai-investing/venv_2/lib/python3.10/site-packages (from ccxt==1.66.32->finrl==0.3.5) (1.7.2)\r\n",
      "Requirement already satisfied: aiodns>=1.1.1 in /Users/zlapik/my-drive-zdenda-lapes/0-todo/ai-investing/venv_2/lib/python3.10/site-packages (from ccxt==1.66.32->finrl==0.3.5) (3.0.0)\r\n",
      "Requirement already satisfied: aiohttp>=3.8 in /Users/zlapik/my-drive-zdenda-lapes/0-todo/ai-investing/venv_2/lib/python3.10/site-packages (from ccxt==1.66.32->finrl==0.3.5) (3.8.1)\r\n",
      "Requirement already satisfied: certifi>=2018.1.18 in /Users/zlapik/my-drive-zdenda-lapes/0-todo/ai-investing/venv_2/lib/python3.10/site-packages (from ccxt==1.66.32->finrl==0.3.5) (2022.9.24)\r\n",
      "Requirement already satisfied: pyluach in /Users/zlapik/my-drive-zdenda-lapes/0-todo/ai-investing/venv_2/lib/python3.10/site-packages (from exchange_calendars==3.6.3->finrl==0.3.5) (2.0.1)\r\n",
      "Requirement already satisfied: pytz in /Users/zlapik/my-drive-zdenda-lapes/0-todo/ai-investing/venv_2/lib/python3.10/site-packages (from exchange_calendars==3.6.3->finrl==0.3.5) (2022.5)\r\n",
      "Requirement already satisfied: python-dateutil in /Users/zlapik/my-drive-zdenda-lapes/0-todo/ai-investing/venv_2/lib/python3.10/site-packages (from exchange_calendars==3.6.3->finrl==0.3.5) (2.8.2)\r\n",
      "Requirement already satisfied: korean-lunar-calendar in /Users/zlapik/my-drive-zdenda-lapes/0-todo/ai-investing/venv_2/lib/python3.10/site-packages (from exchange_calendars==3.6.3->finrl==0.3.5) (0.3.1)\r\n",
      "Requirement already satisfied: toolz in /Users/zlapik/my-drive-zdenda-lapes/0-todo/ai-investing/venv_2/lib/python3.10/site-packages (from exchange_calendars==3.6.3->finrl==0.3.5) (0.12.0)\r\n",
      "Requirement already satisfied: zipp>=0.5 in /Users/zlapik/my-drive-zdenda-lapes/0-todo/ai-investing/venv_2/lib/python3.10/site-packages (from importlib-metadata==4.13.0->finrl==0.3.5) (3.9.0)\r\n",
      "Requirement already satisfied: multidict>=4.0 in /Users/zlapik/my-drive-zdenda-lapes/0-todo/ai-investing/venv_2/lib/python3.10/site-packages (from yarl==1.7.2->ccxt==1.66.32->finrl==0.3.5) (6.0.2)\r\n",
      "Requirement already satisfied: idna>=2.0 in /Users/zlapik/my-drive-zdenda-lapes/0-todo/ai-investing/venv_2/lib/python3.10/site-packages (from yarl==1.7.2->ccxt==1.66.32->finrl==0.3.5) (3.4)\r\n",
      "Requirement already satisfied: PyYAML==6.0 in /Users/zlapik/my-drive-zdenda-lapes/0-todo/ai-investing/venv_2/lib/python3.10/site-packages (from alpaca_trade_api>=2.1.0->finrl==0.3.5) (6.0)\r\n",
      "Requirement already satisfied: websocket-client<2,>=0.56.0 in /Users/zlapik/my-drive-zdenda-lapes/0-todo/ai-investing/venv_2/lib/python3.10/site-packages (from alpaca_trade_api>=2.1.0->finrl==0.3.5) (1.4.1)\r\n",
      "Requirement already satisfied: deprecation==2.1.0 in /Users/zlapik/my-drive-zdenda-lapes/0-todo/ai-investing/venv_2/lib/python3.10/site-packages (from alpaca_trade_api>=2.1.0->finrl==0.3.5) (2.1.0)\r\n",
      "Requirement already satisfied: urllib3<2,>1.24 in /Users/zlapik/my-drive-zdenda-lapes/0-todo/ai-investing/venv_2/lib/python3.10/site-packages (from alpaca_trade_api>=2.1.0->finrl==0.3.5) (1.26.12)\r\n",
      "Requirement already satisfied: msgpack==1.0.3 in /Users/zlapik/my-drive-zdenda-lapes/0-todo/ai-investing/venv_2/lib/python3.10/site-packages (from alpaca_trade_api>=2.1.0->finrl==0.3.5) (1.0.3)\r\n",
      "Requirement already satisfied: websockets<11,>=9.0 in /Users/zlapik/my-drive-zdenda-lapes/0-todo/ai-investing/venv_2/lib/python3.10/site-packages (from alpaca_trade_api>=2.1.0->finrl==0.3.5) (10.3)\r\n",
      "Requirement already satisfied: async-timeout<5.0,>=4.0.0a3 in /Users/zlapik/my-drive-zdenda-lapes/0-todo/ai-investing/venv_2/lib/python3.10/site-packages (from aiohttp>=3.8->ccxt==1.66.32->finrl==0.3.5) (4.0.2)\r\n",
      "Requirement already satisfied: aiosignal>=1.1.2 in /Users/zlapik/my-drive-zdenda-lapes/0-todo/ai-investing/venv_2/lib/python3.10/site-packages (from aiohttp>=3.8->ccxt==1.66.32->finrl==0.3.5) (1.2.0)\r\n",
      "Requirement already satisfied: frozenlist>=1.1.1 in /Users/zlapik/my-drive-zdenda-lapes/0-todo/ai-investing/venv_2/lib/python3.10/site-packages (from aiohttp>=3.8->ccxt==1.66.32->finrl==0.3.5) (1.3.1)\r\n",
      "Requirement already satisfied: attrs>=17.3.0 in /Users/zlapik/my-drive-zdenda-lapes/0-todo/ai-investing/venv_2/lib/python3.10/site-packages (from aiohttp>=3.8->ccxt==1.66.32->finrl==0.3.5) (22.1.0)\r\n",
      "Requirement already satisfied: charset-normalizer<3.0,>=2.0 in /Users/zlapik/my-drive-zdenda-lapes/0-todo/ai-investing/venv_2/lib/python3.10/site-packages (from aiohttp>=3.8->ccxt==1.66.32->finrl==0.3.5) (2.1.1)\r\n",
      "Requirement already satisfied: packaging in /Users/zlapik/my-drive-zdenda-lapes/0-todo/ai-investing/venv_2/lib/python3.10/site-packages (from deprecation==2.1.0->alpaca_trade_api>=2.1.0->finrl==0.3.5) (21.3)\r\n",
      "Requirement already satisfied: cloudpickle>=1.2.0 in /Users/zlapik/my-drive-zdenda-lapes/0-todo/ai-investing/venv_2/lib/python3.10/site-packages (from gym>=0.17->finrl==0.3.5) (2.2.0)\r\n",
      "Requirement already satisfied: joblib>=1.0.0 in /Users/zlapik/my-drive-zdenda-lapes/0-todo/ai-investing/venv_2/lib/python3.10/site-packages (from scikit-learn>=0.21.0->finrl==0.3.5) (1.2.0)\r\n",
      "Requirement already satisfied: scipy>=1.3.2 in /Users/zlapik/my-drive-zdenda-lapes/0-todo/ai-investing/venv_2/lib/python3.10/site-packages (from scikit-learn>=0.21.0->finrl==0.3.5) (1.9.3)\r\n",
      "Requirement already satisfied: threadpoolctl>=2.0.0 in /Users/zlapik/my-drive-zdenda-lapes/0-todo/ai-investing/venv_2/lib/python3.10/site-packages (from scikit-learn>=0.21.0->finrl==0.3.5) (3.1.0)\r\n",
      "Requirement already satisfied: pybullet in /Users/zlapik/my-drive-zdenda-lapes/0-todo/ai-investing/venv_2/lib/python3.10/site-packages (from elegantrl@ git+https://github.com/AI4Finance-Foundation/ElegantRL.git#egg=elegantrl->finrl==0.3.5) (3.2.5)\r\n",
      "Requirement already satisfied: torch in /Users/zlapik/my-drive-zdenda-lapes/0-todo/ai-investing/venv_2/lib/python3.10/site-packages (from elegantrl@ git+https://github.com/AI4Finance-Foundation/ElegantRL.git#egg=elegantrl->finrl==0.3.5) (1.12.1)\r\n",
      "Requirement already satisfied: opencv-python in /Users/zlapik/my-drive-zdenda-lapes/0-todo/ai-investing/venv_2/lib/python3.10/site-packages (from elegantrl@ git+https://github.com/AI4Finance-Foundation/ElegantRL.git#egg=elegantrl->finrl==0.3.5) (4.6.0.66)\r\n",
      "Requirement already satisfied: box2d-py in /Users/zlapik/my-drive-zdenda-lapes/0-todo/ai-investing/venv_2/lib/python3.10/site-packages (from elegantrl@ git+https://github.com/AI4Finance-Foundation/ElegantRL.git#egg=elegantrl->finrl==0.3.5) (2.3.8)\r\n",
      "Requirement already satisfied: thriftpy2>=0.3.9 in /Users/zlapik/my-drive-zdenda-lapes/0-todo/ai-investing/venv_2/lib/python3.10/site-packages (from jqdatasdk->finrl==0.3.5) (0.4.14)\r\n",
      "Requirement already satisfied: six in /Users/zlapik/my-drive-zdenda-lapes/0-todo/ai-investing/venv_2/lib/python3.10/site-packages (from jqdatasdk->finrl==0.3.5) (1.16.0)\r\n",
      "Requirement already satisfied: pymysql>=0.7.6 in /Users/zlapik/my-drive-zdenda-lapes/0-todo/ai-investing/venv_2/lib/python3.10/site-packages (from jqdatasdk->finrl==0.3.5) (1.0.2)\r\n",
      "Requirement already satisfied: SQLAlchemy>=1.2.8 in /Users/zlapik/my-drive-zdenda-lapes/0-todo/ai-investing/venv_2/lib/python3.10/site-packages (from jqdatasdk->finrl==0.3.5) (1.4.42)\r\n",
      "Requirement already satisfied: fonttools>=4.22.0 in /Users/zlapik/my-drive-zdenda-lapes/0-todo/ai-investing/venv_2/lib/python3.10/site-packages (from matplotlib->finrl==0.3.5) (4.38.0)\r\n",
      "Requirement already satisfied: kiwisolver>=1.0.1 in /Users/zlapik/my-drive-zdenda-lapes/0-todo/ai-investing/venv_2/lib/python3.10/site-packages (from matplotlib->finrl==0.3.5) (1.4.4)\r\n",
      "Requirement already satisfied: pyparsing>=2.2.1 in /Users/zlapik/my-drive-zdenda-lapes/0-todo/ai-investing/venv_2/lib/python3.10/site-packages (from matplotlib->finrl==0.3.5) (3.0.9)\r\n",
      "Requirement already satisfied: cycler>=0.10 in /Users/zlapik/my-drive-zdenda-lapes/0-todo/ai-investing/venv_2/lib/python3.10/site-packages (from matplotlib->finrl==0.3.5) (0.11.0)\r\n",
      "Requirement already satisfied: pillow>=6.2.0 in /Users/zlapik/my-drive-zdenda-lapes/0-todo/ai-investing/venv_2/lib/python3.10/site-packages (from matplotlib->finrl==0.3.5) (9.2.0)\r\n",
      "Requirement already satisfied: contourpy>=1.0.1 in /Users/zlapik/my-drive-zdenda-lapes/0-todo/ai-investing/venv_2/lib/python3.10/site-packages (from matplotlib->finrl==0.3.5) (1.0.5)\r\n",
      "Requirement already satisfied: nodeenv>=0.11.1 in /Users/zlapik/my-drive-zdenda-lapes/0-todo/ai-investing/venv_2/lib/python3.10/site-packages (from pre-commit->finrl==0.3.5) (1.7.0)\r\n",
      "Requirement already satisfied: toml in /Users/zlapik/my-drive-zdenda-lapes/0-todo/ai-investing/venv_2/lib/python3.10/site-packages (from pre-commit->finrl==0.3.5) (0.10.2)\r\n",
      "Requirement already satisfied: identify>=1.0.0 in /Users/zlapik/my-drive-zdenda-lapes/0-todo/ai-investing/venv_2/lib/python3.10/site-packages (from pre-commit->finrl==0.3.5) (2.5.6)\r\n",
      "Requirement already satisfied: virtualenv>=20.0.8 in /Users/zlapik/my-drive-zdenda-lapes/0-todo/ai-investing/venv_2/lib/python3.10/site-packages (from pre-commit->finrl==0.3.5) (20.16.5)\r\n",
      "Requirement already satisfied: cfgv>=2.0.0 in /Users/zlapik/my-drive-zdenda-lapes/0-todo/ai-investing/venv_2/lib/python3.10/site-packages (from pre-commit->finrl==0.3.5) (3.3.1)\r\n",
      "Requirement already satisfied: ipython>=3.2.3 in /Users/zlapik/my-drive-zdenda-lapes/0-todo/ai-investing/venv_2/lib/python3.10/site-packages (from pyfolio@ git+https://github.com/quantopian/pyfolio.git#egg=pyfolio-0.9.2->finrl==0.3.5) (8.5.0)\r\n",
      "Requirement already satisfied: seaborn>=0.7.1 in /Users/zlapik/my-drive-zdenda-lapes/0-todo/ai-investing/venv_2/lib/python3.10/site-packages (from pyfolio@ git+https://github.com/quantopian/pyfolio.git#egg=pyfolio-0.9.2->finrl==0.3.5) (0.12.1)\r\n",
      "Requirement already satisfied: empyrical>=0.5.0 in /Users/zlapik/my-drive-zdenda-lapes/0-todo/ai-investing/venv_2/lib/python3.10/site-packages (from pyfolio@ git+https://github.com/quantopian/pyfolio.git#egg=pyfolio-0.9.2->finrl==0.3.5) (0.5.5)\r\n",
      "Requirement already satisfied: tomli>=1.0.0 in /Users/zlapik/my-drive-zdenda-lapes/0-todo/ai-investing/venv_2/lib/python3.10/site-packages (from pytest->finrl==0.3.5) (2.0.1)\r\n",
      "Requirement already satisfied: py>=1.8.2 in /Users/zlapik/my-drive-zdenda-lapes/0-todo/ai-investing/venv_2/lib/python3.10/site-packages (from pytest->finrl==0.3.5) (1.11.0)\r\n",
      "Requirement already satisfied: pluggy<2.0,>=0.12 in /Users/zlapik/my-drive-zdenda-lapes/0-todo/ai-investing/venv_2/lib/python3.10/site-packages (from pytest->finrl==0.3.5) (1.0.0)\r\n",
      "Requirement already satisfied: iniconfig in /Users/zlapik/my-drive-zdenda-lapes/0-todo/ai-investing/venv_2/lib/python3.10/site-packages (from pytest->finrl==0.3.5) (1.1.1)\r\n",
      "Requirement already satisfied: filelock in /Users/zlapik/my-drive-zdenda-lapes/0-todo/ai-investing/venv_2/lib/python3.10/site-packages (from ray[default]->finrl==0.3.5) (3.8.0)\r\n",
      "Requirement already satisfied: click<=8.0.4,>=7.0 in /Users/zlapik/my-drive-zdenda-lapes/0-todo/ai-investing/venv_2/lib/python3.10/site-packages (from ray[default]->finrl==0.3.5) (8.0.4)\r\n",
      "Requirement already satisfied: protobuf<4.0.0,>=3.15.3 in /Users/zlapik/my-drive-zdenda-lapes/0-todo/ai-investing/venv_2/lib/python3.10/site-packages (from ray[default]->finrl==0.3.5) (3.19.6)\r\n",
      "Requirement already satisfied: grpcio<=1.43.0,>=1.42.0 in /Users/zlapik/my-drive-zdenda-lapes/0-todo/ai-investing/venv_2/lib/python3.10/site-packages (from ray[default]->finrl==0.3.5) (1.43.0)\r\n",
      "Requirement already satisfied: jsonschema in /Users/zlapik/my-drive-zdenda-lapes/0-todo/ai-investing/venv_2/lib/python3.10/site-packages (from ray[default]->finrl==0.3.5) (4.16.0)\r\n",
      "Requirement already satisfied: colorful in /Users/zlapik/my-drive-zdenda-lapes/0-todo/ai-investing/venv_2/lib/python3.10/site-packages (from ray[default]->finrl==0.3.5) (0.5.4)\r\n",
      "Requirement already satisfied: opencensus in /Users/zlapik/my-drive-zdenda-lapes/0-todo/ai-investing/venv_2/lib/python3.10/site-packages (from ray[default]->finrl==0.3.5) (0.11.0)\r\n",
      "Requirement already satisfied: prometheus-client<0.14.0,>=0.7.1 in /Users/zlapik/my-drive-zdenda-lapes/0-todo/ai-investing/venv_2/lib/python3.10/site-packages (from ray[default]->finrl==0.3.5) (0.13.1)\r\n",
      "Requirement already satisfied: py-spy>=0.2.0 in /Users/zlapik/my-drive-zdenda-lapes/0-todo/ai-investing/venv_2/lib/python3.10/site-packages (from ray[default]->finrl==0.3.5) (0.3.14)\r\n",
      "Requirement already satisfied: gpustat>=1.0.0b1 in /Users/zlapik/my-drive-zdenda-lapes/0-todo/ai-investing/venv_2/lib/python3.10/site-packages (from ray[default]->finrl==0.3.5) (1.0.0)\r\n",
      "Requirement already satisfied: smart-open in /Users/zlapik/my-drive-zdenda-lapes/0-todo/ai-investing/venv_2/lib/python3.10/site-packages (from ray[default]->finrl==0.3.5) (6.2.0)\r\n",
      "Requirement already satisfied: pydantic in /Users/zlapik/my-drive-zdenda-lapes/0-todo/ai-investing/venv_2/lib/python3.10/site-packages (from ray[default]->finrl==0.3.5) (1.10.2)\r\n",
      "Requirement already satisfied: aiohttp-cors in /Users/zlapik/my-drive-zdenda-lapes/0-todo/ai-investing/venv_2/lib/python3.10/site-packages (from ray[default]->finrl==0.3.5) (0.7.0)\r\n",
      "Requirement already satisfied: tabulate in /Users/zlapik/my-drive-zdenda-lapes/0-todo/ai-investing/venv_2/lib/python3.10/site-packages (from ray[default]->finrl==0.3.5) (0.9.0)\r\n",
      "Requirement already satisfied: ale-py==0.7.4 in /Users/zlapik/my-drive-zdenda-lapes/0-todo/ai-investing/venv_2/lib/python3.10/site-packages (from stable-baselines3[extra]->finrl==0.3.5) (0.7.4)\r\n",
      "Requirement already satisfied: rich in /Users/zlapik/my-drive-zdenda-lapes/0-todo/ai-investing/venv_2/lib/python3.10/site-packages (from stable-baselines3[extra]->finrl==0.3.5) (12.6.0)\r\n",
      "Requirement already satisfied: autorom[accept-rom-license]~=0.4.2 in /Users/zlapik/my-drive-zdenda-lapes/0-todo/ai-investing/venv_2/lib/python3.10/site-packages (from stable-baselines3[extra]->finrl==0.3.5) (0.4.2)\r\n",
      "Requirement already satisfied: tensorboard>=2.9.1 in /Users/zlapik/my-drive-zdenda-lapes/0-todo/ai-investing/venv_2/lib/python3.10/site-packages (from stable-baselines3[extra]->finrl==0.3.5) (2.10.1)\r\n",
      "Requirement already satisfied: tqdm in /Users/zlapik/my-drive-zdenda-lapes/0-todo/ai-investing/venv_2/lib/python3.10/site-packages (from stable-baselines3[extra]->finrl==0.3.5) (4.64.1)\r\n",
      "Requirement already satisfied: psutil in /Users/zlapik/my-drive-zdenda-lapes/0-todo/ai-investing/venv_2/lib/python3.10/site-packages (from stable-baselines3[extra]->finrl==0.3.5) (5.9.3)\r\n",
      "Requirement already satisfied: importlib-resources in /Users/zlapik/my-drive-zdenda-lapes/0-todo/ai-investing/venv_2/lib/python3.10/site-packages (from ale-py==0.7.4->stable-baselines3[extra]->finrl==0.3.5) (5.10.0)\r\n",
      "Requirement already satisfied: psycopg2-binary in /Users/zlapik/my-drive-zdenda-lapes/0-todo/ai-investing/venv_2/lib/python3.10/site-packages (from wrds->finrl==0.3.5) (2.9.4)\r\n",
      "Requirement already satisfied: mock in /Users/zlapik/my-drive-zdenda-lapes/0-todo/ai-investing/venv_2/lib/python3.10/site-packages (from wrds->finrl==0.3.5) (4.0.3)\r\n",
      "Requirement already satisfied: lxml>=4.5.1 in /Users/zlapik/my-drive-zdenda-lapes/0-todo/ai-investing/venv_2/lib/python3.10/site-packages (from yfinance->finrl==0.3.5) (4.9.1)\r\n",
      "Requirement already satisfied: multitasking>=0.0.7 in /Users/zlapik/my-drive-zdenda-lapes/0-todo/ai-investing/venv_2/lib/python3.10/site-packages (from yfinance->finrl==0.3.5) (0.0.11)\r\n",
      "Requirement already satisfied: appdirs>=1.4.4 in /Users/zlapik/my-drive-zdenda-lapes/0-todo/ai-investing/venv_2/lib/python3.10/site-packages (from yfinance->finrl==0.3.5) (1.4.4)\r\n",
      "Requirement already satisfied: pycares>=4.0.0 in /Users/zlapik/my-drive-zdenda-lapes/0-todo/ai-investing/venv_2/lib/python3.10/site-packages (from aiodns>=1.1.1->ccxt==1.66.32->finrl==0.3.5) (4.2.2)\r\n",
      "Requirement already satisfied: AutoROM.accept-rom-license in /Users/zlapik/my-drive-zdenda-lapes/0-todo/ai-investing/venv_2/lib/python3.10/site-packages (from autorom[accept-rom-license]~=0.4.2->stable-baselines3[extra]->finrl==0.3.5) (0.4.2)\r\n",
      "Requirement already satisfied: cffi>=1.12 in /Users/zlapik/my-drive-zdenda-lapes/0-todo/ai-investing/venv_2/lib/python3.10/site-packages (from cryptography>=2.6.1->ccxt==1.66.32->finrl==0.3.5) (1.15.1)\r\n",
      "Requirement already satisfied: pandas-datareader>=0.2 in /Users/zlapik/my-drive-zdenda-lapes/0-todo/ai-investing/venv_2/lib/python3.10/site-packages (from empyrical>=0.5.0->pyfolio@ git+https://github.com/quantopian/pyfolio.git#egg=pyfolio-0.9.2->finrl==0.3.5) (0.10.0)\r\n",
      "Requirement already satisfied: nvidia-ml-py<=11.495.46,>=11.450.129 in /Users/zlapik/my-drive-zdenda-lapes/0-todo/ai-investing/venv_2/lib/python3.10/site-packages (from gpustat>=1.0.0b1->ray[default]->finrl==0.3.5) (11.495.46)\r\n",
      "Requirement already satisfied: blessed>=1.17.1 in /Users/zlapik/my-drive-zdenda-lapes/0-todo/ai-investing/venv_2/lib/python3.10/site-packages (from gpustat>=1.0.0b1->ray[default]->finrl==0.3.5) (1.19.1)\r\n",
      "Requirement already satisfied: matplotlib-inline in /Users/zlapik/my-drive-zdenda-lapes/0-todo/ai-investing/venv_2/lib/python3.10/site-packages (from ipython>=3.2.3->pyfolio@ git+https://github.com/quantopian/pyfolio.git#egg=pyfolio-0.9.2->finrl==0.3.5) (0.1.6)\r\n",
      "Requirement already satisfied: prompt-toolkit<3.1.0,>3.0.1 in /Users/zlapik/my-drive-zdenda-lapes/0-todo/ai-investing/venv_2/lib/python3.10/site-packages (from ipython>=3.2.3->pyfolio@ git+https://github.com/quantopian/pyfolio.git#egg=pyfolio-0.9.2->finrl==0.3.5) (3.0.31)\r\n",
      "Requirement already satisfied: pygments>=2.4.0 in /Users/zlapik/my-drive-zdenda-lapes/0-todo/ai-investing/venv_2/lib/python3.10/site-packages (from ipython>=3.2.3->pyfolio@ git+https://github.com/quantopian/pyfolio.git#egg=pyfolio-0.9.2->finrl==0.3.5) (2.13.0)\r\n",
      "Requirement already satisfied: stack-data in /Users/zlapik/my-drive-zdenda-lapes/0-todo/ai-investing/venv_2/lib/python3.10/site-packages (from ipython>=3.2.3->pyfolio@ git+https://github.com/quantopian/pyfolio.git#egg=pyfolio-0.9.2->finrl==0.3.5) (0.5.1)\r\n",
      "Requirement already satisfied: appnope in /Users/zlapik/my-drive-zdenda-lapes/0-todo/ai-investing/venv_2/lib/python3.10/site-packages (from ipython>=3.2.3->pyfolio@ git+https://github.com/quantopian/pyfolio.git#egg=pyfolio-0.9.2->finrl==0.3.5) (0.1.3)\r\n",
      "Requirement already satisfied: pickleshare in /Users/zlapik/my-drive-zdenda-lapes/0-todo/ai-investing/venv_2/lib/python3.10/site-packages (from ipython>=3.2.3->pyfolio@ git+https://github.com/quantopian/pyfolio.git#egg=pyfolio-0.9.2->finrl==0.3.5) (0.7.5)\r\n",
      "Requirement already satisfied: jedi>=0.16 in /Users/zlapik/my-drive-zdenda-lapes/0-todo/ai-investing/venv_2/lib/python3.10/site-packages (from ipython>=3.2.3->pyfolio@ git+https://github.com/quantopian/pyfolio.git#egg=pyfolio-0.9.2->finrl==0.3.5) (0.18.1)\r\n",
      "Requirement already satisfied: backcall in /Users/zlapik/my-drive-zdenda-lapes/0-todo/ai-investing/venv_2/lib/python3.10/site-packages (from ipython>=3.2.3->pyfolio@ git+https://github.com/quantopian/pyfolio.git#egg=pyfolio-0.9.2->finrl==0.3.5) (0.2.0)\r\n",
      "Requirement already satisfied: pexpect>4.3 in /Users/zlapik/my-drive-zdenda-lapes/0-todo/ai-investing/venv_2/lib/python3.10/site-packages (from ipython>=3.2.3->pyfolio@ git+https://github.com/quantopian/pyfolio.git#egg=pyfolio-0.9.2->finrl==0.3.5) (4.8.0)\r\n",
      "Requirement already satisfied: traitlets>=5 in /Users/zlapik/my-drive-zdenda-lapes/0-todo/ai-investing/venv_2/lib/python3.10/site-packages (from ipython>=3.2.3->pyfolio@ git+https://github.com/quantopian/pyfolio.git#egg=pyfolio-0.9.2->finrl==0.3.5) (5.5.0)\r\n",
      "Requirement already satisfied: decorator in /Users/zlapik/my-drive-zdenda-lapes/0-todo/ai-investing/venv_2/lib/python3.10/site-packages (from ipython>=3.2.3->pyfolio@ git+https://github.com/quantopian/pyfolio.git#egg=pyfolio-0.9.2->finrl==0.3.5) (5.1.1)\r\n",
      "Requirement already satisfied: greenlet!=0.4.17 in /Users/zlapik/my-drive-zdenda-lapes/0-todo/ai-investing/venv_2/lib/python3.10/site-packages (from SQLAlchemy>=1.2.8->jqdatasdk->finrl==0.3.5) (1.1.3.post0)\r\n",
      "Requirement already satisfied: markdown>=2.6.8 in /Users/zlapik/my-drive-zdenda-lapes/0-todo/ai-investing/venv_2/lib/python3.10/site-packages (from tensorboard>=2.9.1->stable-baselines3[extra]->finrl==0.3.5) (3.4.1)\r\n",
      "Requirement already satisfied: google-auth-oauthlib<0.5,>=0.4.1 in /Users/zlapik/my-drive-zdenda-lapes/0-todo/ai-investing/venv_2/lib/python3.10/site-packages (from tensorboard>=2.9.1->stable-baselines3[extra]->finrl==0.3.5) (0.4.6)\r\n",
      "Requirement already satisfied: google-auth<3,>=1.6.3 in /Users/zlapik/my-drive-zdenda-lapes/0-todo/ai-investing/venv_2/lib/python3.10/site-packages (from tensorboard>=2.9.1->stable-baselines3[extra]->finrl==0.3.5) (2.13.0)\r\n",
      "Requirement already satisfied: werkzeug>=1.0.1 in /Users/zlapik/my-drive-zdenda-lapes/0-todo/ai-investing/venv_2/lib/python3.10/site-packages (from tensorboard>=2.9.1->stable-baselines3[extra]->finrl==0.3.5) (2.2.2)\r\n",
      "Requirement already satisfied: tensorboard-data-server<0.7.0,>=0.6.0 in /Users/zlapik/my-drive-zdenda-lapes/0-todo/ai-investing/venv_2/lib/python3.10/site-packages (from tensorboard>=2.9.1->stable-baselines3[extra]->finrl==0.3.5) (0.6.1)\r\n",
      "Requirement already satisfied: tensorboard-plugin-wit>=1.6.0 in /Users/zlapik/my-drive-zdenda-lapes/0-todo/ai-investing/venv_2/lib/python3.10/site-packages (from tensorboard>=2.9.1->stable-baselines3[extra]->finrl==0.3.5) (1.8.1)\r\n",
      "Requirement already satisfied: absl-py>=0.4 in /Users/zlapik/my-drive-zdenda-lapes/0-todo/ai-investing/venv_2/lib/python3.10/site-packages (from tensorboard>=2.9.1->stable-baselines3[extra]->finrl==0.3.5) (1.3.0)\r\n",
      "Requirement already satisfied: ply<4.0,>=3.4 in /Users/zlapik/my-drive-zdenda-lapes/0-todo/ai-investing/venv_2/lib/python3.10/site-packages (from thriftpy2>=0.3.9->jqdatasdk->finrl==0.3.5) (3.11)\r\n",
      "Requirement already satisfied: typing-extensions in /Users/zlapik/my-drive-zdenda-lapes/0-todo/ai-investing/venv_2/lib/python3.10/site-packages (from torch->elegantrl@ git+https://github.com/AI4Finance-Foundation/ElegantRL.git#egg=elegantrl->finrl==0.3.5) (4.4.0)\r\n",
      "Requirement already satisfied: distlib<1,>=0.3.5 in /Users/zlapik/my-drive-zdenda-lapes/0-todo/ai-investing/venv_2/lib/python3.10/site-packages (from virtualenv>=20.0.8->pre-commit->finrl==0.3.5) (0.3.6)\r\n",
      "Requirement already satisfied: platformdirs<3,>=2.4 in /Users/zlapik/my-drive-zdenda-lapes/0-todo/ai-investing/venv_2/lib/python3.10/site-packages (from virtualenv>=20.0.8->pre-commit->finrl==0.3.5) (2.5.2)\r\n",
      "Requirement already satisfied: pyrsistent!=0.17.0,!=0.17.1,!=0.17.2,>=0.14.0 in /Users/zlapik/my-drive-zdenda-lapes/0-todo/ai-investing/venv_2/lib/python3.10/site-packages (from jsonschema->ray[default]->finrl==0.3.5) (0.18.1)\r\n",
      "Requirement already satisfied: opencensus-context>=0.1.3 in /Users/zlapik/my-drive-zdenda-lapes/0-todo/ai-investing/venv_2/lib/python3.10/site-packages (from opencensus->ray[default]->finrl==0.3.5) (0.1.3)\r\n",
      "Requirement already satisfied: google-api-core<3.0.0,>=1.0.0 in /Users/zlapik/my-drive-zdenda-lapes/0-todo/ai-investing/venv_2/lib/python3.10/site-packages (from opencensus->ray[default]->finrl==0.3.5) (2.10.2)\r\n",
      "Requirement already satisfied: commonmark<0.10.0,>=0.9.0 in /Users/zlapik/my-drive-zdenda-lapes/0-todo/ai-investing/venv_2/lib/python3.10/site-packages (from rich->stable-baselines3[extra]->finrl==0.3.5) (0.9.1)\r\n",
      "Requirement already satisfied: wcwidth>=0.1.4 in /Users/zlapik/my-drive-zdenda-lapes/0-todo/ai-investing/venv_2/lib/python3.10/site-packages (from blessed>=1.17.1->gpustat>=1.0.0b1->ray[default]->finrl==0.3.5) (0.2.5)\r\n",
      "Requirement already satisfied: pycparser in /Users/zlapik/my-drive-zdenda-lapes/0-todo/ai-investing/venv_2/lib/python3.10/site-packages (from cffi>=1.12->cryptography>=2.6.1->ccxt==1.66.32->finrl==0.3.5) (2.21)\r\n",
      "Requirement already satisfied: googleapis-common-protos<2.0dev,>=1.56.2 in /Users/zlapik/my-drive-zdenda-lapes/0-todo/ai-investing/venv_2/lib/python3.10/site-packages (from google-api-core<3.0.0,>=1.0.0->opencensus->ray[default]->finrl==0.3.5) (1.56.4)\r\n",
      "Requirement already satisfied: rsa<5,>=3.1.4 in /Users/zlapik/my-drive-zdenda-lapes/0-todo/ai-investing/venv_2/lib/python3.10/site-packages (from google-auth<3,>=1.6.3->tensorboard>=2.9.1->stable-baselines3[extra]->finrl==0.3.5) (4.9)\r\n",
      "Requirement already satisfied: cachetools<6.0,>=2.0.0 in /Users/zlapik/my-drive-zdenda-lapes/0-todo/ai-investing/venv_2/lib/python3.10/site-packages (from google-auth<3,>=1.6.3->tensorboard>=2.9.1->stable-baselines3[extra]->finrl==0.3.5) (5.2.0)\r\n",
      "Requirement already satisfied: pyasn1-modules>=0.2.1 in /Users/zlapik/my-drive-zdenda-lapes/0-todo/ai-investing/venv_2/lib/python3.10/site-packages (from google-auth<3,>=1.6.3->tensorboard>=2.9.1->stable-baselines3[extra]->finrl==0.3.5) (0.2.8)\r\n",
      "Requirement already satisfied: requests-oauthlib>=0.7.0 in /Users/zlapik/my-drive-zdenda-lapes/0-todo/ai-investing/venv_2/lib/python3.10/site-packages (from google-auth-oauthlib<0.5,>=0.4.1->tensorboard>=2.9.1->stable-baselines3[extra]->finrl==0.3.5) (1.3.1)\r\n",
      "Requirement already satisfied: parso<0.9.0,>=0.8.0 in /Users/zlapik/my-drive-zdenda-lapes/0-todo/ai-investing/venv_2/lib/python3.10/site-packages (from jedi>=0.16->ipython>=3.2.3->pyfolio@ git+https://github.com/quantopian/pyfolio.git#egg=pyfolio-0.9.2->finrl==0.3.5) (0.8.3)\r\n",
      "Requirement already satisfied: ptyprocess>=0.5 in /Users/zlapik/my-drive-zdenda-lapes/0-todo/ai-investing/venv_2/lib/python3.10/site-packages (from pexpect>4.3->ipython>=3.2.3->pyfolio@ git+https://github.com/quantopian/pyfolio.git#egg=pyfolio-0.9.2->finrl==0.3.5) (0.7.0)\r\n",
      "Requirement already satisfied: MarkupSafe>=2.1.1 in /Users/zlapik/my-drive-zdenda-lapes/0-todo/ai-investing/venv_2/lib/python3.10/site-packages (from werkzeug>=1.0.1->tensorboard>=2.9.1->stable-baselines3[extra]->finrl==0.3.5) (2.1.1)\r\n",
      "Requirement already satisfied: asttokens in /Users/zlapik/my-drive-zdenda-lapes/0-todo/ai-investing/venv_2/lib/python3.10/site-packages (from stack-data->ipython>=3.2.3->pyfolio@ git+https://github.com/quantopian/pyfolio.git#egg=pyfolio-0.9.2->finrl==0.3.5) (2.0.8)\r\n",
      "Requirement already satisfied: executing in /Users/zlapik/my-drive-zdenda-lapes/0-todo/ai-investing/venv_2/lib/python3.10/site-packages (from stack-data->ipython>=3.2.3->pyfolio@ git+https://github.com/quantopian/pyfolio.git#egg=pyfolio-0.9.2->finrl==0.3.5) (1.1.1)\r\n",
      "Requirement already satisfied: pure-eval in /Users/zlapik/my-drive-zdenda-lapes/0-todo/ai-investing/venv_2/lib/python3.10/site-packages (from stack-data->ipython>=3.2.3->pyfolio@ git+https://github.com/quantopian/pyfolio.git#egg=pyfolio-0.9.2->finrl==0.3.5) (0.2.2)\r\n",
      "Requirement already satisfied: pyasn1<0.5.0,>=0.4.6 in /Users/zlapik/my-drive-zdenda-lapes/0-todo/ai-investing/venv_2/lib/python3.10/site-packages (from pyasn1-modules>=0.2.1->google-auth<3,>=1.6.3->tensorboard>=2.9.1->stable-baselines3[extra]->finrl==0.3.5) (0.4.8)\r\n",
      "Requirement already satisfied: oauthlib>=3.0.0 in /Users/zlapik/my-drive-zdenda-lapes/0-todo/ai-investing/venv_2/lib/python3.10/site-packages (from requests-oauthlib>=0.7.0->google-auth-oauthlib<0.5,>=0.4.1->tensorboard>=2.9.1->stable-baselines3[extra]->finrl==0.3.5) (3.2.2)\r\n"
     ]
    }
   ],
   "source": [
    "## install finrl library\n",
    "!pip install \"git+https://github.com/AI4Finance-Foundation/FinRL.git\""
   ]
  },
  {
   "cell_type": "markdown",
   "metadata": {
    "id": "osBHhVysOEzi",
    "pycharm": {
     "name": "#%% md\n"
    }
   },
   "source": [
    "\n",
    "<a id='1.2'></a>\n",
    "## 2.2. A List of Python Packages\n",
    "* Yahoo Finance API\n",
    "* pandas\n",
    "* numpy\n",
    "* matplotlib\n",
    "* stockstats\n",
    "* OpenAI gym\n",
    "* stable-baselines\n",
    "* pyfolio"
   ]
  },
  {
   "cell_type": "markdown",
   "metadata": {
    "id": "nGv01K8Sh1hn",
    "pycharm": {
     "name": "#%% md\n"
    }
   },
   "source": [
    "<a id='1.3'></a>\n",
    "## 2.3. Import Packages"
   ]
  },
  {
   "cell_type": "code",
   "execution_count": 57,
   "outputs": [],
   "source": [],
   "metadata": {
    "collapsed": false,
    "pycharm": {
     "name": "#%%\n"
    }
   }
  },
  {
   "cell_type": "code",
   "execution_count": 58,
   "metadata": {
    "id": "lPqeTTwoh1hn",
    "pycharm": {
     "name": "#%%\n"
    }
   },
   "outputs": [
    {
     "name": "stdout",
     "output_type": "stream",
     "text": [
      "The autoreload extension is already loaded. To reload it, use:\n",
      "  %reload_ext autoreload\n",
      "/Users/zlapik/my-drive-zdenda-lapes/datasets/ai-investing\n"
     ]
    }
   ],
   "source": [
    "import pandas as pd\n",
    "import numpy as np\n",
    "import matplotlib\n",
    "import matplotlib.pyplot as plt\n",
    "\n",
    "# matplotlib.use('Agg')\n",
    "import datetime\n",
    "\n",
    "%matplotlib inline\n",
    "%load_ext autoreload\n",
    "%autoreload 2\n",
    "\n",
    "import os\n",
    "from os import path\n",
    "from pathlib import Path\n",
    "from finrl import config\n",
    "from finrl import config_tickers\n",
    "from finrl.meta.preprocessor.yahoodownloader import YahooDownloader\n",
    "from finrl.meta.preprocessor.preprocessors import FeatureEngineer, data_split\n",
    "from finrl.meta.env_stock_trading.env_stocktrading import StockTradingEnv\n",
    "from finrl.agents.stablebaselines3.models import DRLAgent\n",
    "from finrl.plot import backtest_stats, backtest_plot, get_daily_return, get_baseline\n",
    "from finrl.main import check_and_make_directories\n",
    "from pprint import pprint\n",
    "from stable_baselines3.common.logger import configure\n",
    "import sys\n",
    "from src.config.settings import DATA_DIR\n",
    "\n",
    "import itertools\n",
    "\n",
    "from finrl.config import (\n",
    "    DATA_SAVE_DIR,\n",
    "    TRAINED_MODEL_DIR,\n",
    "    TENSORBOARD_LOG_DIR,\n",
    "    RESULTS_DIR,\n",
    "    INDICATORS,\n",
    "    TRAIN_START_DATE,\n",
    "    TRAIN_END_DATE,\n",
    "    TEST_START_DATE,\n",
    "    TEST_END_DATE,\n",
    "    TRADE_START_DATE,\n",
    "    TRADE_END_DATE,\n",
    ")\n",
    "\n",
    "from finrl.config_tickers import DOW_30_TICKER\n",
    "\n",
    "print(DATA_DIR)"
   ]
  },
  {
   "cell_type": "markdown",
   "metadata": {
    "id": "T2owTj985RW4",
    "pycharm": {
     "name": "#%% md\n"
    }
   },
   "source": [
    "<a id='1.4'></a>\n",
    "## 2.4. Create Folders"
   ]
  },
  {
   "cell_type": "code",
   "execution_count": 59,
   "metadata": {
    "id": "w9A8CN5R5PuZ",
    "pycharm": {
     "name": "#%%\n"
    }
   },
   "outputs": [],
   "source": [
    "check_and_make_directories([DATA_SAVE_DIR, TRAINED_MODEL_DIR, TENSORBOARD_LOG_DIR, RESULTS_DIR])"
   ]
  },
  {
   "cell_type": "markdown",
   "metadata": {
    "id": "A289rQWMh1hq",
    "pycharm": {
     "name": "#%% md\n"
    }
   },
   "source": [
    "<a id='2'></a>\n",
    "# Part 3. Download Stock Data from Yahoo Finance\n",
    "Yahoo Finance provides stock data, financial news, financial reports, etc. Yahoo Finance is free.\n",
    "* FinRL uses a class **YahooDownloader** in FinRL-Meta to fetch data via Yahoo Finance API\n",
    "* Call Limit: Using the Public API (without authentication), you are limited to 2,000 requests per hour per IP (or up to a total of 48,000 requests a day).\n"
   ]
  },
  {
   "cell_type": "markdown",
   "metadata": {
    "id": "NPeQ7iS-LoMm",
    "pycharm": {
     "name": "#%% md\n"
    }
   },
   "source": [
    "\n",
    "\n",
    "-----\n",
    "class YahooDownloader:\n",
    "    Retrieving daily stock data from Yahoo Finance API\n",
    "\n",
    "    Attributes\n",
    "    ----------\n",
    "        start_date : str\n",
    "            start date of the data (modified from config.py)\n",
    "        end_date : str\n",
    "            end date of the data (modified from config.py)\n",
    "        ticker_list : list\n",
    "            a list of stock tickers (modified from config.py)\n",
    "\n",
    "    Methods\n",
    "    -------\n",
    "    fetch_data()"
   ]
  },
  {
   "cell_type": "code",
   "execution_count": 60,
   "metadata": {
    "colab": {
     "base_uri": "https://localhost:8080/"
    },
    "id": "JzqRRTOX6aFu",
    "outputId": "067a94e9-2baf-437b-997c-74ff6cc4b932",
    "pycharm": {
     "name": "#%%\n"
    }
   },
   "outputs": [
    {
     "name": "stdout",
     "output_type": "stream",
     "text": [
      "['AXP', 'AMGN', 'AAPL', 'BA', 'CAT', 'CSCO', 'CVX', 'GS', 'HD', 'HON', 'IBM', 'INTC', 'JNJ', 'KO', 'JPM', 'MCD', 'MMM', 'MRK', 'MSFT', 'NKE', 'PG', 'TRV', 'UNH', 'CRM', 'VZ', 'V', 'WBA', 'WMT', 'DIS', 'DOW']\n"
     ]
    }
   ],
   "source": [
    "print(DOW_30_TICKER)"
   ]
  },
  {
   "cell_type": "code",
   "execution_count": 61,
   "metadata": {
    "colab": {
     "base_uri": "https://localhost:8080/"
    },
    "id": "yCKm4om-s9kE",
    "outputId": "14a428f3-de06-45b9-fdc1-0737b6713d26",
    "pycharm": {
     "name": "#%%\n"
    }
   },
   "outputs": [
    {
     "name": "stdout",
     "output_type": "stream",
     "text": [
      "[*********************100%***********************]  1 of 1 completed\n"
     ]
    },
    {
     "name": "stderr",
     "output_type": "stream",
     "text": [
      "/Users/zlapik/my-drive-zdenda-lapes/0-todo/ai-investing/venv_2/lib/python3.10/site-packages/finrl/meta/preprocessor/yahoodownloader.py:54: FutureWarning: The frame.append method is deprecated and will be removed from pandas in a future version. Use pandas.concat instead.\n",
      "  data_df = data_df.append(temp_df)\n"
     ]
    },
    {
     "name": "stdout",
     "output_type": "stream",
     "text": [
      "[*********************100%***********************]  1 of 1 completed\n"
     ]
    },
    {
     "name": "stderr",
     "output_type": "stream",
     "text": [
      "/Users/zlapik/my-drive-zdenda-lapes/0-todo/ai-investing/venv_2/lib/python3.10/site-packages/finrl/meta/preprocessor/yahoodownloader.py:54: FutureWarning: The frame.append method is deprecated and will be removed from pandas in a future version. Use pandas.concat instead.\n",
      "  data_df = data_df.append(temp_df)\n"
     ]
    },
    {
     "name": "stdout",
     "output_type": "stream",
     "text": [
      "[*********************100%***********************]  1 of 1 completed\n"
     ]
    },
    {
     "name": "stderr",
     "output_type": "stream",
     "text": [
      "/Users/zlapik/my-drive-zdenda-lapes/0-todo/ai-investing/venv_2/lib/python3.10/site-packages/finrl/meta/preprocessor/yahoodownloader.py:54: FutureWarning: The frame.append method is deprecated and will be removed from pandas in a future version. Use pandas.concat instead.\n",
      "  data_df = data_df.append(temp_df)\n"
     ]
    },
    {
     "name": "stdout",
     "output_type": "stream",
     "text": [
      "[*********************100%***********************]  1 of 1 completed\n"
     ]
    },
    {
     "name": "stderr",
     "output_type": "stream",
     "text": [
      "/Users/zlapik/my-drive-zdenda-lapes/0-todo/ai-investing/venv_2/lib/python3.10/site-packages/finrl/meta/preprocessor/yahoodownloader.py:54: FutureWarning: The frame.append method is deprecated and will be removed from pandas in a future version. Use pandas.concat instead.\n",
      "  data_df = data_df.append(temp_df)\n"
     ]
    },
    {
     "name": "stdout",
     "output_type": "stream",
     "text": [
      "[*********************100%***********************]  1 of 1 completed\n"
     ]
    },
    {
     "name": "stderr",
     "output_type": "stream",
     "text": [
      "/Users/zlapik/my-drive-zdenda-lapes/0-todo/ai-investing/venv_2/lib/python3.10/site-packages/finrl/meta/preprocessor/yahoodownloader.py:54: FutureWarning: The frame.append method is deprecated and will be removed from pandas in a future version. Use pandas.concat instead.\n",
      "  data_df = data_df.append(temp_df)\n"
     ]
    },
    {
     "name": "stdout",
     "output_type": "stream",
     "text": [
      "[*********************100%***********************]  1 of 1 completed\n"
     ]
    },
    {
     "name": "stderr",
     "output_type": "stream",
     "text": [
      "/Users/zlapik/my-drive-zdenda-lapes/0-todo/ai-investing/venv_2/lib/python3.10/site-packages/finrl/meta/preprocessor/yahoodownloader.py:54: FutureWarning: The frame.append method is deprecated and will be removed from pandas in a future version. Use pandas.concat instead.\n",
      "  data_df = data_df.append(temp_df)\n"
     ]
    },
    {
     "name": "stdout",
     "output_type": "stream",
     "text": [
      "[*********************100%***********************]  1 of 1 completed\n"
     ]
    },
    {
     "name": "stderr",
     "output_type": "stream",
     "text": [
      "/Users/zlapik/my-drive-zdenda-lapes/0-todo/ai-investing/venv_2/lib/python3.10/site-packages/finrl/meta/preprocessor/yahoodownloader.py:54: FutureWarning: The frame.append method is deprecated and will be removed from pandas in a future version. Use pandas.concat instead.\n",
      "  data_df = data_df.append(temp_df)\n"
     ]
    },
    {
     "name": "stdout",
     "output_type": "stream",
     "text": [
      "[*********************100%***********************]  1 of 1 completed\n"
     ]
    },
    {
     "name": "stderr",
     "output_type": "stream",
     "text": [
      "/Users/zlapik/my-drive-zdenda-lapes/0-todo/ai-investing/venv_2/lib/python3.10/site-packages/finrl/meta/preprocessor/yahoodownloader.py:54: FutureWarning: The frame.append method is deprecated and will be removed from pandas in a future version. Use pandas.concat instead.\n",
      "  data_df = data_df.append(temp_df)\n"
     ]
    },
    {
     "name": "stdout",
     "output_type": "stream",
     "text": [
      "[*********************100%***********************]  1 of 1 completed\n"
     ]
    },
    {
     "name": "stderr",
     "output_type": "stream",
     "text": [
      "/Users/zlapik/my-drive-zdenda-lapes/0-todo/ai-investing/venv_2/lib/python3.10/site-packages/finrl/meta/preprocessor/yahoodownloader.py:54: FutureWarning: The frame.append method is deprecated and will be removed from pandas in a future version. Use pandas.concat instead.\n",
      "  data_df = data_df.append(temp_df)\n"
     ]
    },
    {
     "name": "stdout",
     "output_type": "stream",
     "text": [
      "[*********************100%***********************]  1 of 1 completed\n"
     ]
    },
    {
     "name": "stderr",
     "output_type": "stream",
     "text": [
      "/Users/zlapik/my-drive-zdenda-lapes/0-todo/ai-investing/venv_2/lib/python3.10/site-packages/finrl/meta/preprocessor/yahoodownloader.py:54: FutureWarning: The frame.append method is deprecated and will be removed from pandas in a future version. Use pandas.concat instead.\n",
      "  data_df = data_df.append(temp_df)\n"
     ]
    },
    {
     "name": "stdout",
     "output_type": "stream",
     "text": [
      "[*********************100%***********************]  1 of 1 completed\n"
     ]
    },
    {
     "name": "stderr",
     "output_type": "stream",
     "text": [
      "/Users/zlapik/my-drive-zdenda-lapes/0-todo/ai-investing/venv_2/lib/python3.10/site-packages/finrl/meta/preprocessor/yahoodownloader.py:54: FutureWarning: The frame.append method is deprecated and will be removed from pandas in a future version. Use pandas.concat instead.\n",
      "  data_df = data_df.append(temp_df)\n"
     ]
    },
    {
     "name": "stdout",
     "output_type": "stream",
     "text": [
      "[*********************100%***********************]  1 of 1 completed\n"
     ]
    },
    {
     "name": "stderr",
     "output_type": "stream",
     "text": [
      "/Users/zlapik/my-drive-zdenda-lapes/0-todo/ai-investing/venv_2/lib/python3.10/site-packages/finrl/meta/preprocessor/yahoodownloader.py:54: FutureWarning: The frame.append method is deprecated and will be removed from pandas in a future version. Use pandas.concat instead.\n",
      "  data_df = data_df.append(temp_df)\n"
     ]
    },
    {
     "name": "stdout",
     "output_type": "stream",
     "text": [
      "[*********************100%***********************]  1 of 1 completed\n"
     ]
    },
    {
     "name": "stderr",
     "output_type": "stream",
     "text": [
      "/Users/zlapik/my-drive-zdenda-lapes/0-todo/ai-investing/venv_2/lib/python3.10/site-packages/finrl/meta/preprocessor/yahoodownloader.py:54: FutureWarning: The frame.append method is deprecated and will be removed from pandas in a future version. Use pandas.concat instead.\n",
      "  data_df = data_df.append(temp_df)\n"
     ]
    },
    {
     "name": "stdout",
     "output_type": "stream",
     "text": [
      "[*********************100%***********************]  1 of 1 completed\n"
     ]
    },
    {
     "name": "stderr",
     "output_type": "stream",
     "text": [
      "/Users/zlapik/my-drive-zdenda-lapes/0-todo/ai-investing/venv_2/lib/python3.10/site-packages/finrl/meta/preprocessor/yahoodownloader.py:54: FutureWarning: The frame.append method is deprecated and will be removed from pandas in a future version. Use pandas.concat instead.\n",
      "  data_df = data_df.append(temp_df)\n"
     ]
    },
    {
     "name": "stdout",
     "output_type": "stream",
     "text": [
      "[*********************100%***********************]  1 of 1 completed\n"
     ]
    },
    {
     "name": "stderr",
     "output_type": "stream",
     "text": [
      "/Users/zlapik/my-drive-zdenda-lapes/0-todo/ai-investing/venv_2/lib/python3.10/site-packages/finrl/meta/preprocessor/yahoodownloader.py:54: FutureWarning: The frame.append method is deprecated and will be removed from pandas in a future version. Use pandas.concat instead.\n",
      "  data_df = data_df.append(temp_df)\n"
     ]
    },
    {
     "name": "stdout",
     "output_type": "stream",
     "text": [
      "[*********************100%***********************]  1 of 1 completed\n"
     ]
    },
    {
     "name": "stderr",
     "output_type": "stream",
     "text": [
      "/Users/zlapik/my-drive-zdenda-lapes/0-todo/ai-investing/venv_2/lib/python3.10/site-packages/finrl/meta/preprocessor/yahoodownloader.py:54: FutureWarning: The frame.append method is deprecated and will be removed from pandas in a future version. Use pandas.concat instead.\n",
      "  data_df = data_df.append(temp_df)\n"
     ]
    },
    {
     "name": "stdout",
     "output_type": "stream",
     "text": [
      "[*********************100%***********************]  1 of 1 completed\n"
     ]
    },
    {
     "name": "stderr",
     "output_type": "stream",
     "text": [
      "/Users/zlapik/my-drive-zdenda-lapes/0-todo/ai-investing/venv_2/lib/python3.10/site-packages/finrl/meta/preprocessor/yahoodownloader.py:54: FutureWarning: The frame.append method is deprecated and will be removed from pandas in a future version. Use pandas.concat instead.\n",
      "  data_df = data_df.append(temp_df)\n"
     ]
    },
    {
     "name": "stdout",
     "output_type": "stream",
     "text": [
      "[*********************100%***********************]  1 of 1 completed\n"
     ]
    },
    {
     "name": "stderr",
     "output_type": "stream",
     "text": [
      "/Users/zlapik/my-drive-zdenda-lapes/0-todo/ai-investing/venv_2/lib/python3.10/site-packages/finrl/meta/preprocessor/yahoodownloader.py:54: FutureWarning: The frame.append method is deprecated and will be removed from pandas in a future version. Use pandas.concat instead.\n",
      "  data_df = data_df.append(temp_df)\n"
     ]
    },
    {
     "name": "stdout",
     "output_type": "stream",
     "text": [
      "[*********************100%***********************]  1 of 1 completed\n"
     ]
    },
    {
     "name": "stderr",
     "output_type": "stream",
     "text": [
      "/Users/zlapik/my-drive-zdenda-lapes/0-todo/ai-investing/venv_2/lib/python3.10/site-packages/finrl/meta/preprocessor/yahoodownloader.py:54: FutureWarning: The frame.append method is deprecated and will be removed from pandas in a future version. Use pandas.concat instead.\n",
      "  data_df = data_df.append(temp_df)\n"
     ]
    },
    {
     "name": "stdout",
     "output_type": "stream",
     "text": [
      "[*********************100%***********************]  1 of 1 completed\n"
     ]
    },
    {
     "name": "stderr",
     "output_type": "stream",
     "text": [
      "/Users/zlapik/my-drive-zdenda-lapes/0-todo/ai-investing/venv_2/lib/python3.10/site-packages/finrl/meta/preprocessor/yahoodownloader.py:54: FutureWarning: The frame.append method is deprecated and will be removed from pandas in a future version. Use pandas.concat instead.\n",
      "  data_df = data_df.append(temp_df)\n"
     ]
    },
    {
     "name": "stdout",
     "output_type": "stream",
     "text": [
      "[*********************100%***********************]  1 of 1 completed\n"
     ]
    },
    {
     "name": "stderr",
     "output_type": "stream",
     "text": [
      "/Users/zlapik/my-drive-zdenda-lapes/0-todo/ai-investing/venv_2/lib/python3.10/site-packages/finrl/meta/preprocessor/yahoodownloader.py:54: FutureWarning: The frame.append method is deprecated and will be removed from pandas in a future version. Use pandas.concat instead.\n",
      "  data_df = data_df.append(temp_df)\n"
     ]
    },
    {
     "name": "stdout",
     "output_type": "stream",
     "text": [
      "[*********************100%***********************]  1 of 1 completed\n"
     ]
    },
    {
     "name": "stderr",
     "output_type": "stream",
     "text": [
      "/Users/zlapik/my-drive-zdenda-lapes/0-todo/ai-investing/venv_2/lib/python3.10/site-packages/finrl/meta/preprocessor/yahoodownloader.py:54: FutureWarning: The frame.append method is deprecated and will be removed from pandas in a future version. Use pandas.concat instead.\n",
      "  data_df = data_df.append(temp_df)\n"
     ]
    },
    {
     "name": "stdout",
     "output_type": "stream",
     "text": [
      "[*********************100%***********************]  1 of 1 completed\n"
     ]
    },
    {
     "name": "stderr",
     "output_type": "stream",
     "text": [
      "/Users/zlapik/my-drive-zdenda-lapes/0-todo/ai-investing/venv_2/lib/python3.10/site-packages/finrl/meta/preprocessor/yahoodownloader.py:54: FutureWarning: The frame.append method is deprecated and will be removed from pandas in a future version. Use pandas.concat instead.\n",
      "  data_df = data_df.append(temp_df)\n"
     ]
    },
    {
     "name": "stdout",
     "output_type": "stream",
     "text": [
      "[*********************100%***********************]  1 of 1 completed\n"
     ]
    },
    {
     "name": "stderr",
     "output_type": "stream",
     "text": [
      "/Users/zlapik/my-drive-zdenda-lapes/0-todo/ai-investing/venv_2/lib/python3.10/site-packages/finrl/meta/preprocessor/yahoodownloader.py:54: FutureWarning: The frame.append method is deprecated and will be removed from pandas in a future version. Use pandas.concat instead.\n",
      "  data_df = data_df.append(temp_df)\n"
     ]
    },
    {
     "name": "stdout",
     "output_type": "stream",
     "text": [
      "[*********************100%***********************]  1 of 1 completed\n"
     ]
    },
    {
     "name": "stderr",
     "output_type": "stream",
     "text": [
      "/Users/zlapik/my-drive-zdenda-lapes/0-todo/ai-investing/venv_2/lib/python3.10/site-packages/finrl/meta/preprocessor/yahoodownloader.py:54: FutureWarning: The frame.append method is deprecated and will be removed from pandas in a future version. Use pandas.concat instead.\n",
      "  data_df = data_df.append(temp_df)\n"
     ]
    },
    {
     "name": "stdout",
     "output_type": "stream",
     "text": [
      "[*********************100%***********************]  1 of 1 completed\n"
     ]
    },
    {
     "name": "stderr",
     "output_type": "stream",
     "text": [
      "/Users/zlapik/my-drive-zdenda-lapes/0-todo/ai-investing/venv_2/lib/python3.10/site-packages/finrl/meta/preprocessor/yahoodownloader.py:54: FutureWarning: The frame.append method is deprecated and will be removed from pandas in a future version. Use pandas.concat instead.\n",
      "  data_df = data_df.append(temp_df)\n"
     ]
    },
    {
     "name": "stdout",
     "output_type": "stream",
     "text": [
      "[*********************100%***********************]  1 of 1 completed\n"
     ]
    },
    {
     "name": "stderr",
     "output_type": "stream",
     "text": [
      "/Users/zlapik/my-drive-zdenda-lapes/0-todo/ai-investing/venv_2/lib/python3.10/site-packages/finrl/meta/preprocessor/yahoodownloader.py:54: FutureWarning: The frame.append method is deprecated and will be removed from pandas in a future version. Use pandas.concat instead.\n",
      "  data_df = data_df.append(temp_df)\n"
     ]
    },
    {
     "name": "stdout",
     "output_type": "stream",
     "text": [
      "[*********************100%***********************]  1 of 1 completed\n"
     ]
    },
    {
     "name": "stderr",
     "output_type": "stream",
     "text": [
      "/Users/zlapik/my-drive-zdenda-lapes/0-todo/ai-investing/venv_2/lib/python3.10/site-packages/finrl/meta/preprocessor/yahoodownloader.py:54: FutureWarning: The frame.append method is deprecated and will be removed from pandas in a future version. Use pandas.concat instead.\n",
      "  data_df = data_df.append(temp_df)\n"
     ]
    },
    {
     "name": "stdout",
     "output_type": "stream",
     "text": [
      "[*********************100%***********************]  1 of 1 completed\n"
     ]
    },
    {
     "name": "stderr",
     "output_type": "stream",
     "text": [
      "/Users/zlapik/my-drive-zdenda-lapes/0-todo/ai-investing/venv_2/lib/python3.10/site-packages/finrl/meta/preprocessor/yahoodownloader.py:54: FutureWarning: The frame.append method is deprecated and will be removed from pandas in a future version. Use pandas.concat instead.\n",
      "  data_df = data_df.append(temp_df)\n"
     ]
    },
    {
     "name": "stdout",
     "output_type": "stream",
     "text": [
      "[*********************100%***********************]  1 of 1 completed\n"
     ]
    },
    {
     "name": "stderr",
     "output_type": "stream",
     "text": [
      "/Users/zlapik/my-drive-zdenda-lapes/0-todo/ai-investing/venv_2/lib/python3.10/site-packages/finrl/meta/preprocessor/yahoodownloader.py:54: FutureWarning: The frame.append method is deprecated and will be removed from pandas in a future version. Use pandas.concat instead.\n",
      "  data_df = data_df.append(temp_df)\n"
     ]
    },
    {
     "name": "stdout",
     "output_type": "stream",
     "text": [
      "Shape of DataFrame:  (88061, 8)\n"
     ]
    }
   ],
   "source": [
    "TRAIN_START_DATE = \"2009-01-01\"\n",
    "TRAIN_END_DATE = \"2019-01-01\"\n",
    "TEST_START_DATE = \"2019-01-01\"\n",
    "TEST_END_DATE = \"2021-01-01\"\n",
    "\n",
    "df = YahooDownloader(start_date=TRAIN_START_DATE, end_date=TEST_END_DATE, ticker_list=DOW_30_TICKER).fetch_data()"
   ]
  },
  {
   "cell_type": "code",
   "execution_count": 62,
   "metadata": {
    "colab": {
     "base_uri": "https://localhost:8080/"
    },
    "id": "CV3HrZHLh1hy",
    "outputId": "f490cbf0-47fa-4499-9966-019452089018",
    "pycharm": {
     "name": "#%%\n"
    }
   },
   "outputs": [
    {
     "data": {
      "text/plain": "(88061, 8)"
     },
     "execution_count": 62,
     "metadata": {},
     "output_type": "execute_result"
    }
   ],
   "source": [
    "df.shape"
   ]
  },
  {
   "cell_type": "code",
   "execution_count": 63,
   "metadata": {
    "colab": {
     "base_uri": "https://localhost:8080/",
     "height": 206
    },
    "id": "aBKF7sfV-Pi4",
    "outputId": "c0914a2f-469f-4d7f-f93c-48d1d1cf4e51",
    "pycharm": {
     "name": "#%%\n"
    }
   },
   "outputs": [
    {
     "data": {
      "text/plain": "         date       open       high        low      close     volume   tic  \\\n0  2009-01-02   3.067143   3.251429   3.041429   2.767330  746015200  AAPL   \n1  2009-01-02  58.590000  59.080002  57.750000  44.523743    6547900  AMGN   \n2  2009-01-02  18.570000  19.520000  18.400000  15.418563   10955700   AXP   \n3  2009-01-02  42.799999  45.560001  42.779999  33.941093    7010200    BA   \n4  2009-01-02  44.910000  46.980000  44.709999  31.729931    7117200   CAT   \n\n   day  \n0    4  \n1    4  \n2    4  \n3    4  \n4    4  ",
      "text/html": "<div>\n<style scoped>\n    .dataframe tbody tr th:only-of-type {\n        vertical-align: middle;\n    }\n\n    .dataframe tbody tr th {\n        vertical-align: top;\n    }\n\n    .dataframe thead th {\n        text-align: right;\n    }\n</style>\n<table border=\"1\" class=\"dataframe\">\n  <thead>\n    <tr style=\"text-align: right;\">\n      <th></th>\n      <th>date</th>\n      <th>open</th>\n      <th>high</th>\n      <th>low</th>\n      <th>close</th>\n      <th>volume</th>\n      <th>tic</th>\n      <th>day</th>\n    </tr>\n  </thead>\n  <tbody>\n    <tr>\n      <th>0</th>\n      <td>2009-01-02</td>\n      <td>3.067143</td>\n      <td>3.251429</td>\n      <td>3.041429</td>\n      <td>2.767330</td>\n      <td>746015200</td>\n      <td>AAPL</td>\n      <td>4</td>\n    </tr>\n    <tr>\n      <th>1</th>\n      <td>2009-01-02</td>\n      <td>58.590000</td>\n      <td>59.080002</td>\n      <td>57.750000</td>\n      <td>44.523743</td>\n      <td>6547900</td>\n      <td>AMGN</td>\n      <td>4</td>\n    </tr>\n    <tr>\n      <th>2</th>\n      <td>2009-01-02</td>\n      <td>18.570000</td>\n      <td>19.520000</td>\n      <td>18.400000</td>\n      <td>15.418563</td>\n      <td>10955700</td>\n      <td>AXP</td>\n      <td>4</td>\n    </tr>\n    <tr>\n      <th>3</th>\n      <td>2009-01-02</td>\n      <td>42.799999</td>\n      <td>45.560001</td>\n      <td>42.779999</td>\n      <td>33.941093</td>\n      <td>7010200</td>\n      <td>BA</td>\n      <td>4</td>\n    </tr>\n    <tr>\n      <th>4</th>\n      <td>2009-01-02</td>\n      <td>44.910000</td>\n      <td>46.980000</td>\n      <td>44.709999</td>\n      <td>31.729931</td>\n      <td>7117200</td>\n      <td>CAT</td>\n      <td>4</td>\n    </tr>\n  </tbody>\n</table>\n</div>"
     },
     "execution_count": 63,
     "metadata": {},
     "output_type": "execute_result"
    }
   ],
   "source": [
    "df.head()"
   ]
  },
  {
   "cell_type": "code",
   "execution_count": 64,
   "metadata": {
    "id": "QRWscKiPXXnj",
    "pycharm": {
     "name": "#%%\n"
    }
   },
   "outputs": [],
   "source": [
    "df[\"date\"] = pd.to_datetime(df[\"date\"], format=\"%Y-%m-%d\")"
   ]
  },
  {
   "cell_type": "code",
   "execution_count": 65,
   "metadata": {
    "colab": {
     "base_uri": "https://localhost:8080/",
     "height": 206
    },
    "id": "4hYkeaPiICHS",
    "outputId": "2c0a8f66-4b04-4f5e-b1a1-3641e2317052",
    "pycharm": {
     "name": "#%%\n"
    }
   },
   "outputs": [
    {
     "data": {
      "text/plain": "        date       open       high        low      close     volume   tic  day\n0 2009-01-02   3.067143   3.251429   3.041429   2.767330  746015200  AAPL    4\n1 2009-01-02  58.590000  59.080002  57.750000  44.523743    6547900  AMGN    4\n2 2009-01-02  18.570000  19.520000  18.400000  15.418563   10955700   AXP    4\n3 2009-01-02  42.799999  45.560001  42.779999  33.941093    7010200    BA    4\n4 2009-01-02  44.910000  46.980000  44.709999  31.729931    7117200   CAT    4",
      "text/html": "<div>\n<style scoped>\n    .dataframe tbody tr th:only-of-type {\n        vertical-align: middle;\n    }\n\n    .dataframe tbody tr th {\n        vertical-align: top;\n    }\n\n    .dataframe thead th {\n        text-align: right;\n    }\n</style>\n<table border=\"1\" class=\"dataframe\">\n  <thead>\n    <tr style=\"text-align: right;\">\n      <th></th>\n      <th>date</th>\n      <th>open</th>\n      <th>high</th>\n      <th>low</th>\n      <th>close</th>\n      <th>volume</th>\n      <th>tic</th>\n      <th>day</th>\n    </tr>\n  </thead>\n  <tbody>\n    <tr>\n      <th>0</th>\n      <td>2009-01-02</td>\n      <td>3.067143</td>\n      <td>3.251429</td>\n      <td>3.041429</td>\n      <td>2.767330</td>\n      <td>746015200</td>\n      <td>AAPL</td>\n      <td>4</td>\n    </tr>\n    <tr>\n      <th>1</th>\n      <td>2009-01-02</td>\n      <td>58.590000</td>\n      <td>59.080002</td>\n      <td>57.750000</td>\n      <td>44.523743</td>\n      <td>6547900</td>\n      <td>AMGN</td>\n      <td>4</td>\n    </tr>\n    <tr>\n      <th>2</th>\n      <td>2009-01-02</td>\n      <td>18.570000</td>\n      <td>19.520000</td>\n      <td>18.400000</td>\n      <td>15.418563</td>\n      <td>10955700</td>\n      <td>AXP</td>\n      <td>4</td>\n    </tr>\n    <tr>\n      <th>3</th>\n      <td>2009-01-02</td>\n      <td>42.799999</td>\n      <td>45.560001</td>\n      <td>42.779999</td>\n      <td>33.941093</td>\n      <td>7010200</td>\n      <td>BA</td>\n      <td>4</td>\n    </tr>\n    <tr>\n      <th>4</th>\n      <td>2009-01-02</td>\n      <td>44.910000</td>\n      <td>46.980000</td>\n      <td>44.709999</td>\n      <td>31.729931</td>\n      <td>7117200</td>\n      <td>CAT</td>\n      <td>4</td>\n    </tr>\n  </tbody>\n</table>\n</div>"
     },
     "execution_count": 65,
     "metadata": {},
     "output_type": "execute_result"
    }
   ],
   "source": [
    "df.sort_values([\"date\", \"tic\"], ignore_index=True).head()"
   ]
  },
  {
   "cell_type": "markdown",
   "metadata": {
    "id": "uqC6c40Zh1iH",
    "pycharm": {
     "name": "#%% md\n"
    }
   },
   "source": [
    "# Part 4: Preprocess fundamental data\n",
    "- Import finanical data downloaded from Compustat via WRDS(Wharton Research Data Service)\n",
    "- Preprocess the dataset and calculate financial ratios\n",
    "- Add those ratios to the price data preprocessed in Part 3\n",
    "- Calculate price-related ratios such as P/E and P/B"
   ]
  },
  {
   "cell_type": "markdown",
   "metadata": {
    "id": "VbXEllD2oROq",
    "pycharm": {
     "name": "#%% md\n"
    }
   },
   "source": [
    "## 4.1 Import the financial data"
   ]
  },
  {
   "cell_type": "code",
   "execution_count": 66,
   "metadata": {
    "colab": {
     "base_uri": "https://localhost:8080/"
    },
    "id": "PmKP-1ii3RLS",
    "outputId": "006dd708-469c-43e9-f65d-f0737561a7f5",
    "pycharm": {
     "name": "#%%\n"
    }
   },
   "outputs": [],
   "source": [
    "# Import fundamental data from my GitHub repository\n",
    "# url = \"https://raw.githubusercontent.com/mariko-sawada/FinRL_with_fundamental_data/main/dow_30_fundamental_wrds.csv\"\n",
    "\n",
    "# fund = pd.read_csv(url, low_memory=False)\n",
    "\n",
    "# if not path.exists(fundamenatal_data_filename.parent):\n",
    "#     os.makedirs(fundamenatal_data_filename.parent)\n",
    "# fund.to_csv(fundamenatal_data_filename\n",
    "# del fund\n",
    "\n",
    "fundamenatal_data_filename = Path(path.join(DATA_DIR, \"stock/ai4-finance/dji30_fundamental_data.csv\"))\n",
    "fund = pd.read_csv(fundamenatal_data_filename, low_memory=False)  # dtype param make low_memory warning silent"
   ]
  },
  {
   "cell_type": "code",
   "execution_count": 67,
   "metadata": {
    "colab": {
     "base_uri": "https://localhost:8080/",
     "height": 236
    },
    "id": "Tslhs_O5pOTL",
    "outputId": "eeb8d443-1a0e-4967-97c1-9c05cd3ae02f",
    "pycharm": {
     "name": "#%%\n"
    }
   },
   "outputs": [
    {
     "data": {
      "text/plain": "   Unnamed: 0  gvkey  datadate  fyearq  fqtr  fyr indfmt consol popsrc  \\\n0           0   1447  19990630    1999     2   12   INDL      C      D   \n1           1   1447  19990930    1999     3   12   INDL      C      D   \n2           2   1447  19991231    1999     4   12   INDL      C      D   \n3           3   1447  20000331    2000     1   12   INDL      C      D   \n4           4   1447  20000630    2000     2   12   INDL      C      D   \n\n  datafmt  ... dvpsxq mkvaltq     prccq     prchq     prclq  adjex  ggroup  \\\n0     STD  ...  0.225     NaN  130.1250  142.6250  114.5000    3.0    4020   \n1     STD  ...  0.000     NaN  135.0000  150.6250  121.8750    3.0    4020   \n2     STD  ...  0.225     NaN  166.2500  168.8750  130.2500    3.0    4020   \n3     STD  ...  0.225     NaN  148.9375  169.5000  119.5000    3.0    4020   \n4     STD  ...  0.080     NaN   52.1250   57.1875   43.9375    1.0    4020   \n\n     gind gsector   gsubind  \n0  402020      40  40202010  \n1  402020      40  40202010  \n2  402020      40  40202010  \n3  402020      40  40202010  \n4  402020      40  40202010  \n\n[5 rows x 648 columns]",
      "text/html": "<div>\n<style scoped>\n    .dataframe tbody tr th:only-of-type {\n        vertical-align: middle;\n    }\n\n    .dataframe tbody tr th {\n        vertical-align: top;\n    }\n\n    .dataframe thead th {\n        text-align: right;\n    }\n</style>\n<table border=\"1\" class=\"dataframe\">\n  <thead>\n    <tr style=\"text-align: right;\">\n      <th></th>\n      <th>Unnamed: 0</th>\n      <th>gvkey</th>\n      <th>datadate</th>\n      <th>fyearq</th>\n      <th>fqtr</th>\n      <th>fyr</th>\n      <th>indfmt</th>\n      <th>consol</th>\n      <th>popsrc</th>\n      <th>datafmt</th>\n      <th>...</th>\n      <th>dvpsxq</th>\n      <th>mkvaltq</th>\n      <th>prccq</th>\n      <th>prchq</th>\n      <th>prclq</th>\n      <th>adjex</th>\n      <th>ggroup</th>\n      <th>gind</th>\n      <th>gsector</th>\n      <th>gsubind</th>\n    </tr>\n  </thead>\n  <tbody>\n    <tr>\n      <th>0</th>\n      <td>0</td>\n      <td>1447</td>\n      <td>19990630</td>\n      <td>1999</td>\n      <td>2</td>\n      <td>12</td>\n      <td>INDL</td>\n      <td>C</td>\n      <td>D</td>\n      <td>STD</td>\n      <td>...</td>\n      <td>0.225</td>\n      <td>NaN</td>\n      <td>130.1250</td>\n      <td>142.6250</td>\n      <td>114.5000</td>\n      <td>3.0</td>\n      <td>4020</td>\n      <td>402020</td>\n      <td>40</td>\n      <td>40202010</td>\n    </tr>\n    <tr>\n      <th>1</th>\n      <td>1</td>\n      <td>1447</td>\n      <td>19990930</td>\n      <td>1999</td>\n      <td>3</td>\n      <td>12</td>\n      <td>INDL</td>\n      <td>C</td>\n      <td>D</td>\n      <td>STD</td>\n      <td>...</td>\n      <td>0.000</td>\n      <td>NaN</td>\n      <td>135.0000</td>\n      <td>150.6250</td>\n      <td>121.8750</td>\n      <td>3.0</td>\n      <td>4020</td>\n      <td>402020</td>\n      <td>40</td>\n      <td>40202010</td>\n    </tr>\n    <tr>\n      <th>2</th>\n      <td>2</td>\n      <td>1447</td>\n      <td>19991231</td>\n      <td>1999</td>\n      <td>4</td>\n      <td>12</td>\n      <td>INDL</td>\n      <td>C</td>\n      <td>D</td>\n      <td>STD</td>\n      <td>...</td>\n      <td>0.225</td>\n      <td>NaN</td>\n      <td>166.2500</td>\n      <td>168.8750</td>\n      <td>130.2500</td>\n      <td>3.0</td>\n      <td>4020</td>\n      <td>402020</td>\n      <td>40</td>\n      <td>40202010</td>\n    </tr>\n    <tr>\n      <th>3</th>\n      <td>3</td>\n      <td>1447</td>\n      <td>20000331</td>\n      <td>2000</td>\n      <td>1</td>\n      <td>12</td>\n      <td>INDL</td>\n      <td>C</td>\n      <td>D</td>\n      <td>STD</td>\n      <td>...</td>\n      <td>0.225</td>\n      <td>NaN</td>\n      <td>148.9375</td>\n      <td>169.5000</td>\n      <td>119.5000</td>\n      <td>3.0</td>\n      <td>4020</td>\n      <td>402020</td>\n      <td>40</td>\n      <td>40202010</td>\n    </tr>\n    <tr>\n      <th>4</th>\n      <td>4</td>\n      <td>1447</td>\n      <td>20000630</td>\n      <td>2000</td>\n      <td>2</td>\n      <td>12</td>\n      <td>INDL</td>\n      <td>C</td>\n      <td>D</td>\n      <td>STD</td>\n      <td>...</td>\n      <td>0.080</td>\n      <td>NaN</td>\n      <td>52.1250</td>\n      <td>57.1875</td>\n      <td>43.9375</td>\n      <td>1.0</td>\n      <td>4020</td>\n      <td>402020</td>\n      <td>40</td>\n      <td>40202010</td>\n    </tr>\n  </tbody>\n</table>\n<p>5 rows × 648 columns</p>\n</div>"
     },
     "execution_count": 67,
     "metadata": {},
     "output_type": "execute_result"
    }
   ],
   "source": [
    "# Check the imported dataset\n",
    "fund.head()"
   ]
  },
  {
   "cell_type": "markdown",
   "metadata": {
    "id": "9yk1dHTYogEP",
    "pycharm": {
     "name": "#%% md\n"
    }
   },
   "source": [
    "## 4.2 Specify items needed to calculate financial ratios\n",
    "- To learn more about the data description of the dataset, please check WRDS's website(https://wrds-www.wharton.upenn.edu/). Login will be required."
   ]
  },
  {
   "cell_type": "code",
   "execution_count": 68,
   "metadata": {
    "id": "CD0kFC7Ap02K",
    "pycharm": {
     "name": "#%%\n"
    }
   },
   "outputs": [],
   "source": [
    "# List items that are used to calculate financial ratios\n",
    "\n",
    "items = [\n",
    "    \"datadate\",  # Date\n",
    "    \"tic\",  # Ticker\n",
    "    \"oiadpq\",  # Quarterly operating income\n",
    "    \"revtq\",  # Quartely revenue\n",
    "    \"niq\",  # Quartely net income\n",
    "    \"atq\",  # Total asset\n",
    "    \"teqq\",  # Shareholder's equity\n",
    "    \"epspiy\",  # EPS(Basic) incl. Extraordinary items\n",
    "    \"ceqq\",  # Common Equity\n",
    "    \"cshoq\",  # Common Shares Outstanding\n",
    "    \"dvpspq\",  # Dividends per share\n",
    "    \"actq\",  # Current assets\n",
    "    \"lctq\",  # Current liabilities\n",
    "    \"cheq\",  # Cash & Equivalent\n",
    "    \"rectq\",  # Recievalbles\n",
    "    \"cogsq\",  # Cost of  Goods Sold\n",
    "    \"invtq\",  # Inventories\n",
    "    \"apq\",  # Account payable\n",
    "    \"dlttq\",  # Long term debt\n",
    "    \"dlcq\",  # Debt in current liabilites\n",
    "    \"ltq\",  # Liabilities\n",
    "]\n",
    "\n",
    "# Omit items that will not be used\n",
    "fund_data = fund[items]"
   ]
  },
  {
   "cell_type": "code",
   "execution_count": 69,
   "metadata": {
    "id": "jE7UNYtIqFkv",
    "pycharm": {
     "name": "#%%\n"
    }
   },
   "outputs": [],
   "source": [
    "# Rename column names for the sake of readability\n",
    "fund_data = fund_data.rename(\n",
    "    columns={\n",
    "        \"datadate\": \"date\",  # Date\n",
    "        \"oiadpq\": \"op_inc_q\",  # Quarterly operating income\n",
    "        \"revtq\": \"rev_q\",  # Quartely revenue\n",
    "        \"niq\": \"net_inc_q\",  # Quartely net income\n",
    "        \"atq\": \"tot_assets\",  # Assets\n",
    "        \"teqq\": \"sh_equity\",  # Shareholder's equity\n",
    "        \"epspiy\": \"eps_incl_ex\",  # EPS(Basic) incl. Extraordinary items\n",
    "        \"ceqq\": \"com_eq\",  # Common Equity\n",
    "        \"cshoq\": \"sh_outstanding\",  # Common Shares Outstanding\n",
    "        \"dvpspq\": \"div_per_sh\",  # Dividends per share\n",
    "        \"actq\": \"cur_assets\",  # Current assets\n",
    "        \"lctq\": \"cur_liabilities\",  # Current liabilities\n",
    "        \"cheq\": \"cash_eq\",  # Cash & Equivalent\n",
    "        \"rectq\": \"receivables\",  # Receivalbles\n",
    "        \"cogsq\": \"cogs_q\",  # Cost of  Goods Sold\n",
    "        \"invtq\": \"inventories\",  # Inventories\n",
    "        \"apq\": \"payables\",  # Account payable\n",
    "        \"dlttq\": \"long_debt\",  # Long term debt\n",
    "        \"dlcq\": \"short_debt\",  # Debt in current liabilites\n",
    "        \"ltq\": \"tot_liabilities\",  # Liabilities\n",
    "    }\n",
    ")"
   ]
  },
  {
   "cell_type": "code",
   "execution_count": 70,
   "metadata": {
    "colab": {
     "base_uri": "https://localhost:8080/",
     "height": 300
    },
    "id": "A0sszApfqO6D",
    "outputId": "98f02355-81d6-4606-e0ba-06a0abf8ddb6",
    "pycharm": {
     "name": "#%%\n"
    }
   },
   "outputs": [
    {
     "data": {
      "text/plain": "       date  tic  op_inc_q   rev_q  net_inc_q  tot_assets  sh_equity  \\\n0  19990630  AXP     896.0  5564.0      646.0    132452.0     9762.0   \n1  19990930  AXP     906.0  5584.0      648.0    132616.0     9744.0   \n2  19991231  AXP     845.0  6009.0      606.0    148517.0    10095.0   \n3  20000331  AXP     920.0  6021.0      656.0    150662.0    10253.0   \n4  20000630  AXP    1046.0  6370.0      740.0    148553.0    10509.0   \n\n   eps_incl_ex   com_eq  sh_outstanding  ...  cur_assets  cur_liabilities  \\\n0         2.73   9762.0           449.0  ...         NaN              NaN   \n1         4.18   9744.0           447.6  ...         NaN              NaN   \n2         5.54  10095.0           446.9  ...         NaN              NaN   \n3         1.48  10253.0           444.7  ...         NaN              NaN   \n4         1.05  10509.0          1333.0  ...         NaN              NaN   \n\n   cash_eq  receivables  cogs_q  inventories  payables  long_debt  short_debt  \\\n0   6096.0      46774.0  4668.0        448.0   22282.0     7005.0     24785.0   \n1   5102.0      48827.0  4678.0        284.0   23587.0     6720.0     24683.0   \n2  10391.0      54033.0  5164.0        277.0   25719.0     4685.0     32437.0   \n3   7425.0      53663.0  5101.0        315.0   26379.0     5670.0     29342.0   \n4   6841.0      54286.0  5324.0        261.0   29536.0     5336.0     26170.0   \n\n   tot_liabilities  \n0         122690.0  \n1         122872.0  \n2         138422.0  \n3         140409.0  \n4         138044.0  \n\n[5 rows x 21 columns]",
      "text/html": "<div>\n<style scoped>\n    .dataframe tbody tr th:only-of-type {\n        vertical-align: middle;\n    }\n\n    .dataframe tbody tr th {\n        vertical-align: top;\n    }\n\n    .dataframe thead th {\n        text-align: right;\n    }\n</style>\n<table border=\"1\" class=\"dataframe\">\n  <thead>\n    <tr style=\"text-align: right;\">\n      <th></th>\n      <th>date</th>\n      <th>tic</th>\n      <th>op_inc_q</th>\n      <th>rev_q</th>\n      <th>net_inc_q</th>\n      <th>tot_assets</th>\n      <th>sh_equity</th>\n      <th>eps_incl_ex</th>\n      <th>com_eq</th>\n      <th>sh_outstanding</th>\n      <th>...</th>\n      <th>cur_assets</th>\n      <th>cur_liabilities</th>\n      <th>cash_eq</th>\n      <th>receivables</th>\n      <th>cogs_q</th>\n      <th>inventories</th>\n      <th>payables</th>\n      <th>long_debt</th>\n      <th>short_debt</th>\n      <th>tot_liabilities</th>\n    </tr>\n  </thead>\n  <tbody>\n    <tr>\n      <th>0</th>\n      <td>19990630</td>\n      <td>AXP</td>\n      <td>896.0</td>\n      <td>5564.0</td>\n      <td>646.0</td>\n      <td>132452.0</td>\n      <td>9762.0</td>\n      <td>2.73</td>\n      <td>9762.0</td>\n      <td>449.0</td>\n      <td>...</td>\n      <td>NaN</td>\n      <td>NaN</td>\n      <td>6096.0</td>\n      <td>46774.0</td>\n      <td>4668.0</td>\n      <td>448.0</td>\n      <td>22282.0</td>\n      <td>7005.0</td>\n      <td>24785.0</td>\n      <td>122690.0</td>\n    </tr>\n    <tr>\n      <th>1</th>\n      <td>19990930</td>\n      <td>AXP</td>\n      <td>906.0</td>\n      <td>5584.0</td>\n      <td>648.0</td>\n      <td>132616.0</td>\n      <td>9744.0</td>\n      <td>4.18</td>\n      <td>9744.0</td>\n      <td>447.6</td>\n      <td>...</td>\n      <td>NaN</td>\n      <td>NaN</td>\n      <td>5102.0</td>\n      <td>48827.0</td>\n      <td>4678.0</td>\n      <td>284.0</td>\n      <td>23587.0</td>\n      <td>6720.0</td>\n      <td>24683.0</td>\n      <td>122872.0</td>\n    </tr>\n    <tr>\n      <th>2</th>\n      <td>19991231</td>\n      <td>AXP</td>\n      <td>845.0</td>\n      <td>6009.0</td>\n      <td>606.0</td>\n      <td>148517.0</td>\n      <td>10095.0</td>\n      <td>5.54</td>\n      <td>10095.0</td>\n      <td>446.9</td>\n      <td>...</td>\n      <td>NaN</td>\n      <td>NaN</td>\n      <td>10391.0</td>\n      <td>54033.0</td>\n      <td>5164.0</td>\n      <td>277.0</td>\n      <td>25719.0</td>\n      <td>4685.0</td>\n      <td>32437.0</td>\n      <td>138422.0</td>\n    </tr>\n    <tr>\n      <th>3</th>\n      <td>20000331</td>\n      <td>AXP</td>\n      <td>920.0</td>\n      <td>6021.0</td>\n      <td>656.0</td>\n      <td>150662.0</td>\n      <td>10253.0</td>\n      <td>1.48</td>\n      <td>10253.0</td>\n      <td>444.7</td>\n      <td>...</td>\n      <td>NaN</td>\n      <td>NaN</td>\n      <td>7425.0</td>\n      <td>53663.0</td>\n      <td>5101.0</td>\n      <td>315.0</td>\n      <td>26379.0</td>\n      <td>5670.0</td>\n      <td>29342.0</td>\n      <td>140409.0</td>\n    </tr>\n    <tr>\n      <th>4</th>\n      <td>20000630</td>\n      <td>AXP</td>\n      <td>1046.0</td>\n      <td>6370.0</td>\n      <td>740.0</td>\n      <td>148553.0</td>\n      <td>10509.0</td>\n      <td>1.05</td>\n      <td>10509.0</td>\n      <td>1333.0</td>\n      <td>...</td>\n      <td>NaN</td>\n      <td>NaN</td>\n      <td>6841.0</td>\n      <td>54286.0</td>\n      <td>5324.0</td>\n      <td>261.0</td>\n      <td>29536.0</td>\n      <td>5336.0</td>\n      <td>26170.0</td>\n      <td>138044.0</td>\n    </tr>\n  </tbody>\n</table>\n<p>5 rows × 21 columns</p>\n</div>"
     },
     "execution_count": 70,
     "metadata": {},
     "output_type": "execute_result"
    }
   ],
   "source": [
    "# Check the data\n",
    "fund_data.head()"
   ]
  },
  {
   "cell_type": "markdown",
   "metadata": {
    "id": "xPvwtMQUqZdP",
    "pycharm": {
     "name": "#%% md\n"
    }
   },
   "source": [
    "## 4.3 Calculate financial ratios\n",
    "- For items from Profit/Loss statements, we calculate LTM (Last Twelve Months) and use them to derive profitability related ratios such as Operating Maring and ROE. For items from balance sheets, we use the numbers on the day.\n",
    "- To check the definitions of the financial ratios calculated here, please refer to CFI's website: https://corporatefinanceinstitute.com/resources/knowledge/finance/financial-ratios/"
   ]
  },
  {
   "cell_type": "code",
   "execution_count": 71,
   "metadata": {
    "colab": {
     "base_uri": "https://localhost:8080/"
    },
    "id": "cfWtEophqS33",
    "outputId": "1b830d42-0878-45e5-d4f1-68f905d78774",
    "pycharm": {
     "name": "#%%\n"
    }
   },
   "outputs": [
    {
     "name": "stderr",
     "output_type": "stream",
     "text": [
      "/var/folders/9c/z5w432ls60300pg8dcrpkhkr0000gn/T/ipykernel_8965/232014527.py:15: RuntimeWarning: divide by zero encountered in double_scalars\n",
      "  OPM.iloc[i] = np.sum(fund_data[\"op_inc_q\"].iloc[i - 3: i]) / np.sum(fund_data[\"rev_q\"].iloc[i - 3: i])\n",
      "/var/folders/9c/z5w432ls60300pg8dcrpkhkr0000gn/T/ipykernel_8965/232014527.py:15: RuntimeWarning: invalid value encountered in double_scalars\n",
      "  OPM.iloc[i] = np.sum(fund_data[\"op_inc_q\"].iloc[i - 3: i]) / np.sum(fund_data[\"rev_q\"].iloc[i - 3: i])\n",
      "/var/folders/9c/z5w432ls60300pg8dcrpkhkr0000gn/T/ipykernel_8965/232014527.py:25: RuntimeWarning: divide by zero encountered in double_scalars\n",
      "  NPM.iloc[i] = np.sum(fund_data[\"net_inc_q\"].iloc[i - 3: i]) / np.sum(fund_data[\"rev_q\"].iloc[i - 3: i])\n",
      "/var/folders/9c/z5w432ls60300pg8dcrpkhkr0000gn/T/ipykernel_8965/232014527.py:25: RuntimeWarning: invalid value encountered in double_scalars\n",
      "  NPM.iloc[i] = np.sum(fund_data[\"net_inc_q\"].iloc[i - 3: i]) / np.sum(fund_data[\"rev_q\"].iloc[i - 3: i])\n",
      "/var/folders/9c/z5w432ls60300pg8dcrpkhkr0000gn/T/ipykernel_8965/232014527.py:76: RuntimeWarning: divide by zero encountered in double_scalars\n",
      "  inv_turnover.iloc[i] = np.sum(fund_data[\"cogs_q\"].iloc[i - 3: i]) / fund_data[\"inventories\"].iloc[i]\n",
      "/var/folders/9c/z5w432ls60300pg8dcrpkhkr0000gn/T/ipykernel_8965/232014527.py:76: RuntimeWarning: invalid value encountered in double_scalars\n",
      "  inv_turnover.iloc[i] = np.sum(fund_data[\"cogs_q\"].iloc[i - 3: i]) / fund_data[\"inventories\"].iloc[i]\n"
     ]
    }
   ],
   "source": [
    "# Calculate financial ratios\n",
    "date = pd.to_datetime(fund_data[\"date\"], format=\"%Y%m%d\")\n",
    "\n",
    "tic = fund_data[\"tic\"].to_frame(\"tic\")\n",
    "\n",
    "# Profitability ratios\n",
    "# Operating Margin\n",
    "OPM = pd.Series(np.empty(fund_data.shape[0], dtype=object), name=\"OPM\")\n",
    "for i in range(0, fund_data.shape[0]):\n",
    "    if i - 3 < 0:\n",
    "        OPM[i] = np.nan\n",
    "    elif fund_data.iloc[i, 1] != fund_data.iloc[i - 3, 1]:\n",
    "        OPM.iloc[i] = np.nan\n",
    "    else:\n",
    "        OPM.iloc[i] = np.sum(fund_data[\"op_inc_q\"].iloc[i - 3 : i]) / np.sum(fund_data[\"rev_q\"].iloc[i - 3 : i])\n",
    "\n",
    "# Net Profit Margin\n",
    "NPM = pd.Series(np.empty(fund_data.shape[0], dtype=object), name=\"NPM\")\n",
    "for i in range(0, fund_data.shape[0]):\n",
    "    if i - 3 < 0:\n",
    "        NPM[i] = np.nan\n",
    "    elif fund_data.iloc[i, 1] != fund_data.iloc[i - 3, 1]:\n",
    "        NPM.iloc[i] = np.nan\n",
    "    else:\n",
    "        NPM.iloc[i] = np.sum(fund_data[\"net_inc_q\"].iloc[i - 3 : i]) / np.sum(fund_data[\"rev_q\"].iloc[i - 3 : i])\n",
    "\n",
    "# Return On Assets\n",
    "ROA = pd.Series(np.empty(fund_data.shape[0], dtype=object), name=\"ROA\")\n",
    "for i in range(0, fund_data.shape[0]):\n",
    "    if i - 3 < 0:\n",
    "        ROA[i] = np.nan\n",
    "    elif fund_data.iloc[i, 1] != fund_data.iloc[i - 3, 1]:\n",
    "        ROA.iloc[i] = np.nan\n",
    "    else:\n",
    "        ROA.iloc[i] = np.sum(fund_data[\"net_inc_q\"].iloc[i - 3 : i]) / fund_data[\"tot_assets\"].iloc[i]\n",
    "\n",
    "# Return on Equity\n",
    "ROE = pd.Series(np.empty(fund_data.shape[0], dtype=object), name=\"ROE\")\n",
    "for i in range(0, fund_data.shape[0]):\n",
    "    if i - 3 < 0:\n",
    "        ROE[i] = np.nan\n",
    "    elif fund_data.iloc[i, 1] != fund_data.iloc[i - 3, 1]:\n",
    "        ROE.iloc[i] = np.nan\n",
    "    else:\n",
    "        ROE.iloc[i] = np.sum(fund_data[\"net_inc_q\"].iloc[i - 3 : i]) / fund_data[\"sh_equity\"].iloc[i]\n",
    "\n",
    "    # For calculating valuation ratios in the next subpart, calculate per share items in advance\n",
    "# Earnings Per Share\n",
    "EPS = fund_data[\"eps_incl_ex\"].to_frame(\"EPS\")\n",
    "\n",
    "# Book Per Share\n",
    "BPS = (fund_data[\"com_eq\"] / fund_data[\"sh_outstanding\"]).to_frame(\"BPS\")  # Need to check units\n",
    "\n",
    "# Dividend Per Share\n",
    "DPS = fund_data[\"div_per_sh\"].to_frame(\"DPS\")\n",
    "\n",
    "# Liquidity ratios\n",
    "# Current ratio\n",
    "cur_ratio = (fund_data[\"cur_assets\"] / fund_data[\"cur_liabilities\"]).to_frame(\"cur_ratio\")\n",
    "\n",
    "# Quick ratio\n",
    "quick_ratio = ((fund_data[\"cash_eq\"] + fund_data[\"receivables\"]) / fund_data[\"cur_liabilities\"]).to_frame(\"quick_ratio\")\n",
    "\n",
    "# Cash ratio\n",
    "cash_ratio = (fund_data[\"cash_eq\"] / fund_data[\"cur_liabilities\"]).to_frame(\"cash_ratio\")\n",
    "\n",
    "# Efficiency ratios\n",
    "# Inventory turnover ratio\n",
    "inv_turnover = pd.Series(np.empty(fund_data.shape[0], dtype=object), name=\"inv_turnover\")\n",
    "for i in range(0, fund_data.shape[0]):\n",
    "    if i - 3 < 0:\n",
    "        inv_turnover[i] = np.nan\n",
    "    elif fund_data.iloc[i, 1] != fund_data.iloc[i - 3, 1]:\n",
    "        inv_turnover.iloc[i] = np.nan\n",
    "    else:\n",
    "        inv_turnover.iloc[i] = np.sum(fund_data[\"cogs_q\"].iloc[i - 3 : i]) / fund_data[\"inventories\"].iloc[i]\n",
    "\n",
    "# Receivables turnover ratio\n",
    "acc_rec_turnover = pd.Series(np.empty(fund_data.shape[0], dtype=object), name=\"acc_rec_turnover\")\n",
    "for i in range(0, fund_data.shape[0]):\n",
    "    if i - 3 < 0:\n",
    "        acc_rec_turnover[i] = np.nan\n",
    "    elif fund_data.iloc[i, 1] != fund_data.iloc[i - 3, 1]:\n",
    "        acc_rec_turnover.iloc[i] = np.nan\n",
    "    else:\n",
    "        acc_rec_turnover.iloc[i] = np.sum(fund_data[\"rev_q\"].iloc[i - 3 : i]) / fund_data[\"receivables\"].iloc[i]\n",
    "\n",
    "# Payable turnover ratio\n",
    "acc_pay_turnover = pd.Series(np.empty(fund_data.shape[0], dtype=object), name=\"acc_pay_turnover\")\n",
    "for i in range(0, fund_data.shape[0]):\n",
    "    if i - 3 < 0:\n",
    "        acc_pay_turnover[i] = np.nan\n",
    "    elif fund_data.iloc[i, 1] != fund_data.iloc[i - 3, 1]:\n",
    "        acc_pay_turnover.iloc[i] = np.nan\n",
    "    else:\n",
    "        acc_pay_turnover.iloc[i] = np.sum(fund_data[\"cogs_q\"].iloc[i - 3 : i]) / fund_data[\"payables\"].iloc[i]\n",
    "\n",
    "## Leverage financial ratios\n",
    "# Debt ratio\n",
    "debt_ratio = (fund_data[\"tot_liabilities\"] / fund_data[\"tot_assets\"]).to_frame(\"debt_ratio\")\n",
    "\n",
    "# Debt to Equity ratio\n",
    "debt_to_equity = (fund_data[\"tot_liabilities\"] / fund_data[\"sh_equity\"]).to_frame(\"debt_to_equity\")"
   ]
  },
  {
   "cell_type": "code",
   "execution_count": 72,
   "metadata": {
    "id": "wwFVopRDqcby",
    "pycharm": {
     "name": "#%%\n"
    }
   },
   "outputs": [],
   "source": [
    "# Create a dataframe that merges all the ratios\n",
    "ratios = pd.concat(\n",
    "    [\n",
    "        date,\n",
    "        tic,\n",
    "        OPM,\n",
    "        NPM,\n",
    "        ROA,\n",
    "        ROE,\n",
    "        EPS,\n",
    "        BPS,\n",
    "        DPS,\n",
    "        cur_ratio,\n",
    "        quick_ratio,\n",
    "        cash_ratio,\n",
    "        inv_turnover,\n",
    "        acc_rec_turnover,\n",
    "        acc_pay_turnover,\n",
    "        debt_ratio,\n",
    "        debt_to_equity,\n",
    "    ],\n",
    "    axis=1,\n",
    ")"
   ]
  },
  {
   "cell_type": "code",
   "execution_count": 73,
   "metadata": {
    "colab": {
     "base_uri": "https://localhost:8080/",
     "height": 206
    },
    "id": "Mvnw7izFsJcT",
    "outputId": "e6bd5adc-ccb0-44b3-a5b5-2bd65637a3c0",
    "pycharm": {
     "name": "#%%\n"
    }
   },
   "outputs": [
    {
     "data": {
      "text/plain": "        date  tic       OPM       NPM       ROA       ROE   EPS        BPS  \\\n0 1999-06-30  AXP       NaN       NaN       NaN       NaN  2.73  21.741648   \n1 1999-09-30  AXP       NaN       NaN       NaN       NaN  4.18  21.769437   \n2 1999-12-31  AXP       NaN       NaN       NaN       NaN  5.54  22.588946   \n3 2000-03-31  AXP  0.154281  0.110742  0.012611  0.185312  1.48  23.055993   \n4 2000-06-30  AXP  0.151641  0.108436  0.012857  0.181749  1.05   7.883721   \n\n     DPS  cur_ratio  quick_ratio  cash_ratio inv_turnover acc_rec_turnover  \\\n0  0.225        NaN          NaN         NaN          NaN              NaN   \n1  0.225        NaN          NaN         NaN          NaN              NaN   \n2  0.225        NaN          NaN         NaN          NaN              NaN   \n3  0.225        NaN          NaN         NaN    46.063492         0.319717   \n4  0.080        NaN          NaN         NaN    57.252874         0.324467   \n\n  acc_pay_turnover  debt_ratio  debt_to_equity  \n0              NaN    0.926298       12.568121  \n1              NaN    0.926525       12.610016  \n2              NaN    0.932028       13.711937  \n3         0.550059    0.931947       13.694431  \n4         0.505925    0.929258       13.135788  ",
      "text/html": "<div>\n<style scoped>\n    .dataframe tbody tr th:only-of-type {\n        vertical-align: middle;\n    }\n\n    .dataframe tbody tr th {\n        vertical-align: top;\n    }\n\n    .dataframe thead th {\n        text-align: right;\n    }\n</style>\n<table border=\"1\" class=\"dataframe\">\n  <thead>\n    <tr style=\"text-align: right;\">\n      <th></th>\n      <th>date</th>\n      <th>tic</th>\n      <th>OPM</th>\n      <th>NPM</th>\n      <th>ROA</th>\n      <th>ROE</th>\n      <th>EPS</th>\n      <th>BPS</th>\n      <th>DPS</th>\n      <th>cur_ratio</th>\n      <th>quick_ratio</th>\n      <th>cash_ratio</th>\n      <th>inv_turnover</th>\n      <th>acc_rec_turnover</th>\n      <th>acc_pay_turnover</th>\n      <th>debt_ratio</th>\n      <th>debt_to_equity</th>\n    </tr>\n  </thead>\n  <tbody>\n    <tr>\n      <th>0</th>\n      <td>1999-06-30</td>\n      <td>AXP</td>\n      <td>NaN</td>\n      <td>NaN</td>\n      <td>NaN</td>\n      <td>NaN</td>\n      <td>2.73</td>\n      <td>21.741648</td>\n      <td>0.225</td>\n      <td>NaN</td>\n      <td>NaN</td>\n      <td>NaN</td>\n      <td>NaN</td>\n      <td>NaN</td>\n      <td>NaN</td>\n      <td>0.926298</td>\n      <td>12.568121</td>\n    </tr>\n    <tr>\n      <th>1</th>\n      <td>1999-09-30</td>\n      <td>AXP</td>\n      <td>NaN</td>\n      <td>NaN</td>\n      <td>NaN</td>\n      <td>NaN</td>\n      <td>4.18</td>\n      <td>21.769437</td>\n      <td>0.225</td>\n      <td>NaN</td>\n      <td>NaN</td>\n      <td>NaN</td>\n      <td>NaN</td>\n      <td>NaN</td>\n      <td>NaN</td>\n      <td>0.926525</td>\n      <td>12.610016</td>\n    </tr>\n    <tr>\n      <th>2</th>\n      <td>1999-12-31</td>\n      <td>AXP</td>\n      <td>NaN</td>\n      <td>NaN</td>\n      <td>NaN</td>\n      <td>NaN</td>\n      <td>5.54</td>\n      <td>22.588946</td>\n      <td>0.225</td>\n      <td>NaN</td>\n      <td>NaN</td>\n      <td>NaN</td>\n      <td>NaN</td>\n      <td>NaN</td>\n      <td>NaN</td>\n      <td>0.932028</td>\n      <td>13.711937</td>\n    </tr>\n    <tr>\n      <th>3</th>\n      <td>2000-03-31</td>\n      <td>AXP</td>\n      <td>0.154281</td>\n      <td>0.110742</td>\n      <td>0.012611</td>\n      <td>0.185312</td>\n      <td>1.48</td>\n      <td>23.055993</td>\n      <td>0.225</td>\n      <td>NaN</td>\n      <td>NaN</td>\n      <td>NaN</td>\n      <td>46.063492</td>\n      <td>0.319717</td>\n      <td>0.550059</td>\n      <td>0.931947</td>\n      <td>13.694431</td>\n    </tr>\n    <tr>\n      <th>4</th>\n      <td>2000-06-30</td>\n      <td>AXP</td>\n      <td>0.151641</td>\n      <td>0.108436</td>\n      <td>0.012857</td>\n      <td>0.181749</td>\n      <td>1.05</td>\n      <td>7.883721</td>\n      <td>0.080</td>\n      <td>NaN</td>\n      <td>NaN</td>\n      <td>NaN</td>\n      <td>57.252874</td>\n      <td>0.324467</td>\n      <td>0.505925</td>\n      <td>0.929258</td>\n      <td>13.135788</td>\n    </tr>\n  </tbody>\n</table>\n</div>"
     },
     "execution_count": 73,
     "metadata": {},
     "output_type": "execute_result"
    }
   ],
   "source": [
    "# Check the ratio data\n",
    "ratios.head()"
   ]
  },
  {
   "cell_type": "code",
   "execution_count": 74,
   "metadata": {
    "colab": {
     "base_uri": "https://localhost:8080/",
     "height": 206
    },
    "id": "AvG67ouguUKF",
    "outputId": "7a0caeb6-fa49-4541-b264-f910ab15fb6c",
    "pycharm": {
     "name": "#%%\n"
    }
   },
   "outputs": [
    {
     "data": {
      "text/plain": "           date tic       OPM       NPM       ROA       ROE   EPS        BPS  \\\n2451 2020-03-31   V  0.667517  0.521213  0.129058  0.271736  2.85  13.647142   \n2452 2020-06-30   V  0.668385  0.519867  0.120448  0.264075  3.92  14.203947   \n2453 2020-09-30   V  0.654464   0.52129  0.107873  0.241066  4.90  14.653484   \n2454 2020-12-31   V  0.638994  0.480876  0.094422  0.201545  1.42  15.908283   \n2455 2021-03-31   V  0.640128  0.488704  0.095218  0.202568  2.80  16.088525   \n\n       DPS  cur_ratio  quick_ratio  cash_ratio inv_turnover acc_rec_turnover  \\\n2451  0.30   1.248714     1.140070    0.955150          inf          6.11635   \n2452  0.30   1.553478     1.443292    1.221925          inf         5.063131   \n2453  0.30   1.905238     1.784838    1.579807          inf         5.628571   \n2454  0.32   2.121065     1.969814    1.700081          inf         4.725314   \n2455  0.32   2.116356     1.954292    1.700574          inf         4.844961   \n\n     acc_pay_turnover  debt_ratio  debt_to_equity  \n2451         2.697537    0.525062        1.105537  \n2452         1.889507    0.543886        1.192433  \n2453         2.730366    0.552515        1.234714  \n2454         2.347866    0.531507        1.134505  \n2455         2.367357    0.529946        1.127414  ",
      "text/html": "<div>\n<style scoped>\n    .dataframe tbody tr th:only-of-type {\n        vertical-align: middle;\n    }\n\n    .dataframe tbody tr th {\n        vertical-align: top;\n    }\n\n    .dataframe thead th {\n        text-align: right;\n    }\n</style>\n<table border=\"1\" class=\"dataframe\">\n  <thead>\n    <tr style=\"text-align: right;\">\n      <th></th>\n      <th>date</th>\n      <th>tic</th>\n      <th>OPM</th>\n      <th>NPM</th>\n      <th>ROA</th>\n      <th>ROE</th>\n      <th>EPS</th>\n      <th>BPS</th>\n      <th>DPS</th>\n      <th>cur_ratio</th>\n      <th>quick_ratio</th>\n      <th>cash_ratio</th>\n      <th>inv_turnover</th>\n      <th>acc_rec_turnover</th>\n      <th>acc_pay_turnover</th>\n      <th>debt_ratio</th>\n      <th>debt_to_equity</th>\n    </tr>\n  </thead>\n  <tbody>\n    <tr>\n      <th>2451</th>\n      <td>2020-03-31</td>\n      <td>V</td>\n      <td>0.667517</td>\n      <td>0.521213</td>\n      <td>0.129058</td>\n      <td>0.271736</td>\n      <td>2.85</td>\n      <td>13.647142</td>\n      <td>0.30</td>\n      <td>1.248714</td>\n      <td>1.140070</td>\n      <td>0.955150</td>\n      <td>inf</td>\n      <td>6.11635</td>\n      <td>2.697537</td>\n      <td>0.525062</td>\n      <td>1.105537</td>\n    </tr>\n    <tr>\n      <th>2452</th>\n      <td>2020-06-30</td>\n      <td>V</td>\n      <td>0.668385</td>\n      <td>0.519867</td>\n      <td>0.120448</td>\n      <td>0.264075</td>\n      <td>3.92</td>\n      <td>14.203947</td>\n      <td>0.30</td>\n      <td>1.553478</td>\n      <td>1.443292</td>\n      <td>1.221925</td>\n      <td>inf</td>\n      <td>5.063131</td>\n      <td>1.889507</td>\n      <td>0.543886</td>\n      <td>1.192433</td>\n    </tr>\n    <tr>\n      <th>2453</th>\n      <td>2020-09-30</td>\n      <td>V</td>\n      <td>0.654464</td>\n      <td>0.52129</td>\n      <td>0.107873</td>\n      <td>0.241066</td>\n      <td>4.90</td>\n      <td>14.653484</td>\n      <td>0.30</td>\n      <td>1.905238</td>\n      <td>1.784838</td>\n      <td>1.579807</td>\n      <td>inf</td>\n      <td>5.628571</td>\n      <td>2.730366</td>\n      <td>0.552515</td>\n      <td>1.234714</td>\n    </tr>\n    <tr>\n      <th>2454</th>\n      <td>2020-12-31</td>\n      <td>V</td>\n      <td>0.638994</td>\n      <td>0.480876</td>\n      <td>0.094422</td>\n      <td>0.201545</td>\n      <td>1.42</td>\n      <td>15.908283</td>\n      <td>0.32</td>\n      <td>2.121065</td>\n      <td>1.969814</td>\n      <td>1.700081</td>\n      <td>inf</td>\n      <td>4.725314</td>\n      <td>2.347866</td>\n      <td>0.531507</td>\n      <td>1.134505</td>\n    </tr>\n    <tr>\n      <th>2455</th>\n      <td>2021-03-31</td>\n      <td>V</td>\n      <td>0.640128</td>\n      <td>0.488704</td>\n      <td>0.095218</td>\n      <td>0.202568</td>\n      <td>2.80</td>\n      <td>16.088525</td>\n      <td>0.32</td>\n      <td>2.116356</td>\n      <td>1.954292</td>\n      <td>1.700574</td>\n      <td>inf</td>\n      <td>4.844961</td>\n      <td>2.367357</td>\n      <td>0.529946</td>\n      <td>1.127414</td>\n    </tr>\n  </tbody>\n</table>\n</div>"
     },
     "execution_count": 74,
     "metadata": {},
     "output_type": "execute_result"
    }
   ],
   "source": [
    "ratios.tail()"
   ]
  },
  {
   "cell_type": "markdown",
   "metadata": {
    "id": "JULhnNv8uaOB",
    "pycharm": {
     "name": "#%% md\n"
    }
   },
   "source": [
    "## 4.4 Deal with NAs and infinite values\n",
    "- We replace N/A and infinite values with zero."
   ]
  },
  {
   "cell_type": "code",
   "execution_count": 75,
   "metadata": {
    "id": "nuKPlGe4sNzQ",
    "pycharm": {
     "name": "#%%\n"
    }
   },
   "outputs": [],
   "source": [
    "# Replace NAs infinite values with zero\n",
    "final_ratios = ratios.copy()\n",
    "final_ratios = final_ratios.fillna(0)\n",
    "final_ratios = final_ratios.replace(np.inf, 0)"
   ]
  },
  {
   "cell_type": "code",
   "execution_count": 76,
   "metadata": {
    "colab": {
     "base_uri": "https://localhost:8080/",
     "height": 206
    },
    "id": "wc_rvvm1sRDd",
    "outputId": "f8028670-404f-4a50-b157-55ef87fe1756",
    "pycharm": {
     "name": "#%%\n"
    }
   },
   "outputs": [
    {
     "data": {
      "text/plain": "        date  tic       OPM       NPM       ROA       ROE   EPS        BPS  \\\n0 1999-06-30  AXP  0.000000  0.000000  0.000000  0.000000  2.73  21.741648   \n1 1999-09-30  AXP  0.000000  0.000000  0.000000  0.000000  4.18  21.769437   \n2 1999-12-31  AXP  0.000000  0.000000  0.000000  0.000000  5.54  22.588946   \n3 2000-03-31  AXP  0.154281  0.110742  0.012611  0.185312  1.48  23.055993   \n4 2000-06-30  AXP  0.151641  0.108436  0.012857  0.181749  1.05   7.883721   \n\n     DPS  cur_ratio  quick_ratio  cash_ratio  inv_turnover  acc_rec_turnover  \\\n0  0.225        0.0          0.0         0.0      0.000000          0.000000   \n1  0.225        0.0          0.0         0.0      0.000000          0.000000   \n2  0.225        0.0          0.0         0.0      0.000000          0.000000   \n3  0.225        0.0          0.0         0.0     46.063492          0.319717   \n4  0.080        0.0          0.0         0.0     57.252874          0.324467   \n\n   acc_pay_turnover  debt_ratio  debt_to_equity  \n0          0.000000    0.926298       12.568121  \n1          0.000000    0.926525       12.610016  \n2          0.000000    0.932028       13.711937  \n3          0.550059    0.931947       13.694431  \n4          0.505925    0.929258       13.135788  ",
      "text/html": "<div>\n<style scoped>\n    .dataframe tbody tr th:only-of-type {\n        vertical-align: middle;\n    }\n\n    .dataframe tbody tr th {\n        vertical-align: top;\n    }\n\n    .dataframe thead th {\n        text-align: right;\n    }\n</style>\n<table border=\"1\" class=\"dataframe\">\n  <thead>\n    <tr style=\"text-align: right;\">\n      <th></th>\n      <th>date</th>\n      <th>tic</th>\n      <th>OPM</th>\n      <th>NPM</th>\n      <th>ROA</th>\n      <th>ROE</th>\n      <th>EPS</th>\n      <th>BPS</th>\n      <th>DPS</th>\n      <th>cur_ratio</th>\n      <th>quick_ratio</th>\n      <th>cash_ratio</th>\n      <th>inv_turnover</th>\n      <th>acc_rec_turnover</th>\n      <th>acc_pay_turnover</th>\n      <th>debt_ratio</th>\n      <th>debt_to_equity</th>\n    </tr>\n  </thead>\n  <tbody>\n    <tr>\n      <th>0</th>\n      <td>1999-06-30</td>\n      <td>AXP</td>\n      <td>0.000000</td>\n      <td>0.000000</td>\n      <td>0.000000</td>\n      <td>0.000000</td>\n      <td>2.73</td>\n      <td>21.741648</td>\n      <td>0.225</td>\n      <td>0.0</td>\n      <td>0.0</td>\n      <td>0.0</td>\n      <td>0.000000</td>\n      <td>0.000000</td>\n      <td>0.000000</td>\n      <td>0.926298</td>\n      <td>12.568121</td>\n    </tr>\n    <tr>\n      <th>1</th>\n      <td>1999-09-30</td>\n      <td>AXP</td>\n      <td>0.000000</td>\n      <td>0.000000</td>\n      <td>0.000000</td>\n      <td>0.000000</td>\n      <td>4.18</td>\n      <td>21.769437</td>\n      <td>0.225</td>\n      <td>0.0</td>\n      <td>0.0</td>\n      <td>0.0</td>\n      <td>0.000000</td>\n      <td>0.000000</td>\n      <td>0.000000</td>\n      <td>0.926525</td>\n      <td>12.610016</td>\n    </tr>\n    <tr>\n      <th>2</th>\n      <td>1999-12-31</td>\n      <td>AXP</td>\n      <td>0.000000</td>\n      <td>0.000000</td>\n      <td>0.000000</td>\n      <td>0.000000</td>\n      <td>5.54</td>\n      <td>22.588946</td>\n      <td>0.225</td>\n      <td>0.0</td>\n      <td>0.0</td>\n      <td>0.0</td>\n      <td>0.000000</td>\n      <td>0.000000</td>\n      <td>0.000000</td>\n      <td>0.932028</td>\n      <td>13.711937</td>\n    </tr>\n    <tr>\n      <th>3</th>\n      <td>2000-03-31</td>\n      <td>AXP</td>\n      <td>0.154281</td>\n      <td>0.110742</td>\n      <td>0.012611</td>\n      <td>0.185312</td>\n      <td>1.48</td>\n      <td>23.055993</td>\n      <td>0.225</td>\n      <td>0.0</td>\n      <td>0.0</td>\n      <td>0.0</td>\n      <td>46.063492</td>\n      <td>0.319717</td>\n      <td>0.550059</td>\n      <td>0.931947</td>\n      <td>13.694431</td>\n    </tr>\n    <tr>\n      <th>4</th>\n      <td>2000-06-30</td>\n      <td>AXP</td>\n      <td>0.151641</td>\n      <td>0.108436</td>\n      <td>0.012857</td>\n      <td>0.181749</td>\n      <td>1.05</td>\n      <td>7.883721</td>\n      <td>0.080</td>\n      <td>0.0</td>\n      <td>0.0</td>\n      <td>0.0</td>\n      <td>57.252874</td>\n      <td>0.324467</td>\n      <td>0.505925</td>\n      <td>0.929258</td>\n      <td>13.135788</td>\n    </tr>\n  </tbody>\n</table>\n</div>"
     },
     "execution_count": 76,
     "metadata": {},
     "output_type": "execute_result"
    }
   ],
   "source": [
    "final_ratios.head()"
   ]
  },
  {
   "cell_type": "code",
   "execution_count": 77,
   "metadata": {
    "colab": {
     "base_uri": "https://localhost:8080/",
     "height": 206
    },
    "id": "RKwmRfs5sfra",
    "outputId": "3307342a-1b39-496f-cee3-1b5bf09e53fc",
    "pycharm": {
     "name": "#%%\n"
    }
   },
   "outputs": [
    {
     "data": {
      "text/plain": "           date tic       OPM       NPM       ROA       ROE   EPS        BPS  \\\n2451 2020-03-31   V  0.667517  0.521213  0.129058  0.271736  2.85  13.647142   \n2452 2020-06-30   V  0.668385  0.519867  0.120448  0.264075  3.92  14.203947   \n2453 2020-09-30   V  0.654464  0.521290  0.107873  0.241066  4.90  14.653484   \n2454 2020-12-31   V  0.638994  0.480876  0.094422  0.201545  1.42  15.908283   \n2455 2021-03-31   V  0.640128  0.488704  0.095218  0.202568  2.80  16.088525   \n\n       DPS  cur_ratio  quick_ratio  cash_ratio  inv_turnover  \\\n2451  0.30   1.248714     1.140070    0.955150           0.0   \n2452  0.30   1.553478     1.443292    1.221925           0.0   \n2453  0.30   1.905238     1.784838    1.579807           0.0   \n2454  0.32   2.121065     1.969814    1.700081           0.0   \n2455  0.32   2.116356     1.954292    1.700574           0.0   \n\n      acc_rec_turnover  acc_pay_turnover  debt_ratio  debt_to_equity  \n2451          6.116350          2.697537    0.525062        1.105537  \n2452          5.063131          1.889507    0.543886        1.192433  \n2453          5.628571          2.730366    0.552515        1.234714  \n2454          4.725314          2.347866    0.531507        1.134505  \n2455          4.844961          2.367357    0.529946        1.127414  ",
      "text/html": "<div>\n<style scoped>\n    .dataframe tbody tr th:only-of-type {\n        vertical-align: middle;\n    }\n\n    .dataframe tbody tr th {\n        vertical-align: top;\n    }\n\n    .dataframe thead th {\n        text-align: right;\n    }\n</style>\n<table border=\"1\" class=\"dataframe\">\n  <thead>\n    <tr style=\"text-align: right;\">\n      <th></th>\n      <th>date</th>\n      <th>tic</th>\n      <th>OPM</th>\n      <th>NPM</th>\n      <th>ROA</th>\n      <th>ROE</th>\n      <th>EPS</th>\n      <th>BPS</th>\n      <th>DPS</th>\n      <th>cur_ratio</th>\n      <th>quick_ratio</th>\n      <th>cash_ratio</th>\n      <th>inv_turnover</th>\n      <th>acc_rec_turnover</th>\n      <th>acc_pay_turnover</th>\n      <th>debt_ratio</th>\n      <th>debt_to_equity</th>\n    </tr>\n  </thead>\n  <tbody>\n    <tr>\n      <th>2451</th>\n      <td>2020-03-31</td>\n      <td>V</td>\n      <td>0.667517</td>\n      <td>0.521213</td>\n      <td>0.129058</td>\n      <td>0.271736</td>\n      <td>2.85</td>\n      <td>13.647142</td>\n      <td>0.30</td>\n      <td>1.248714</td>\n      <td>1.140070</td>\n      <td>0.955150</td>\n      <td>0.0</td>\n      <td>6.116350</td>\n      <td>2.697537</td>\n      <td>0.525062</td>\n      <td>1.105537</td>\n    </tr>\n    <tr>\n      <th>2452</th>\n      <td>2020-06-30</td>\n      <td>V</td>\n      <td>0.668385</td>\n      <td>0.519867</td>\n      <td>0.120448</td>\n      <td>0.264075</td>\n      <td>3.92</td>\n      <td>14.203947</td>\n      <td>0.30</td>\n      <td>1.553478</td>\n      <td>1.443292</td>\n      <td>1.221925</td>\n      <td>0.0</td>\n      <td>5.063131</td>\n      <td>1.889507</td>\n      <td>0.543886</td>\n      <td>1.192433</td>\n    </tr>\n    <tr>\n      <th>2453</th>\n      <td>2020-09-30</td>\n      <td>V</td>\n      <td>0.654464</td>\n      <td>0.521290</td>\n      <td>0.107873</td>\n      <td>0.241066</td>\n      <td>4.90</td>\n      <td>14.653484</td>\n      <td>0.30</td>\n      <td>1.905238</td>\n      <td>1.784838</td>\n      <td>1.579807</td>\n      <td>0.0</td>\n      <td>5.628571</td>\n      <td>2.730366</td>\n      <td>0.552515</td>\n      <td>1.234714</td>\n    </tr>\n    <tr>\n      <th>2454</th>\n      <td>2020-12-31</td>\n      <td>V</td>\n      <td>0.638994</td>\n      <td>0.480876</td>\n      <td>0.094422</td>\n      <td>0.201545</td>\n      <td>1.42</td>\n      <td>15.908283</td>\n      <td>0.32</td>\n      <td>2.121065</td>\n      <td>1.969814</td>\n      <td>1.700081</td>\n      <td>0.0</td>\n      <td>4.725314</td>\n      <td>2.347866</td>\n      <td>0.531507</td>\n      <td>1.134505</td>\n    </tr>\n    <tr>\n      <th>2455</th>\n      <td>2021-03-31</td>\n      <td>V</td>\n      <td>0.640128</td>\n      <td>0.488704</td>\n      <td>0.095218</td>\n      <td>0.202568</td>\n      <td>2.80</td>\n      <td>16.088525</td>\n      <td>0.32</td>\n      <td>2.116356</td>\n      <td>1.954292</td>\n      <td>1.700574</td>\n      <td>0.0</td>\n      <td>4.844961</td>\n      <td>2.367357</td>\n      <td>0.529946</td>\n      <td>1.127414</td>\n    </tr>\n  </tbody>\n</table>\n</div>"
     },
     "execution_count": 77,
     "metadata": {},
     "output_type": "execute_result"
    }
   ],
   "source": [
    "final_ratios.tail()"
   ]
  },
  {
   "cell_type": "markdown",
   "metadata": {
    "id": "66kjM0lhu91F",
    "pycharm": {
     "name": "#%% md\n"
    }
   },
   "source": [
    "## 4.5 Merge stock price data and ratios into one dataframe\n",
    "- Merge the price dataframe preprocessed in Part 3 and the ratio dataframe created in this part\n",
    "- Since the prices are daily and ratios are quartely, we have NAs in the ratio columns after merging the two dataframes. We deal with this by backfilling the ratios."
   ]
  },
  {
   "cell_type": "code",
   "execution_count": 78,
   "metadata": {
    "id": "Kixon2tR3RLT",
    "pycharm": {
     "name": "#%%\n"
    }
   },
   "outputs": [
    {
     "name": "stdout",
     "output_type": "stream",
     "text": [
      "(131460, 23)\n"
     ]
    }
   ],
   "source": [
    "list_ticker = df[\"tic\"].unique().tolist()\n",
    "list_date = list(pd.date_range(df[\"date\"].min(), df[\"date\"].max()))\n",
    "combination = list(itertools.product(list_date, list_ticker))\n",
    "\n",
    "# Merge stock price data and ratios into one dataframe\n",
    "processed_full = pd.DataFrame(combination, columns=[\"date\", \"tic\"]).merge(df, on=[\"date\", \"tic\"], how=\"left\")\n",
    "processed_full = processed_full.merge(final_ratios, how=\"left\", on=[\"date\", \"tic\"])\n",
    "processed_full = processed_full.sort_values([\"tic\", \"date\"])\n",
    "\n",
    "# Backfill the ratio data to make them daily\n",
    "processed_full = processed_full.bfill(axis=\"rows\")\n",
    "print(processed_full.shape)"
   ]
  },
  {
   "cell_type": "markdown",
   "metadata": {
    "id": "CGU69Ccfw_bR",
    "pycharm": {
     "name": "#%% md\n"
    }
   },
   "source": [
    "## 4.6 Calculate market valuation ratios using daily stock price data "
   ]
  },
  {
   "cell_type": "code",
   "execution_count": 79,
   "metadata": {
    "id": "EhiYLZPBVZNW",
    "pycharm": {
     "name": "#%%\n"
    }
   },
   "outputs": [
    {
     "name": "stdout",
     "output_type": "stream",
     "text": [
      "(131460, 22)\n"
     ]
    }
   ],
   "source": [
    "# Calculate P/E, P/B and dividend yield using daily closing price\n",
    "processed_full[\"PE\"] = processed_full[\"close\"] / processed_full[\"EPS\"]\n",
    "processed_full[\"PB\"] = processed_full[\"close\"] / processed_full[\"BPS\"]\n",
    "processed_full[\"Div_yield\"] = processed_full[\"DPS\"] / processed_full[\"close\"]\n",
    "\n",
    "# Drop per share items used for the above calculation\n",
    "processed_full = processed_full.drop(columns=[\"day\", \"EPS\", \"BPS\", \"DPS\"])\n",
    "# Replace NAs infinite values with zero\n",
    "processed_full = processed_full.copy()\n",
    "processed_full = processed_full.fillna(0)\n",
    "processed_full = processed_full.replace(np.inf, 0)\n",
    "print(processed_full.shape)"
   ]
  },
  {
   "cell_type": "code",
   "execution_count": 80,
   "metadata": {
    "colab": {
     "base_uri": "https://localhost:8080/",
     "height": 630
    },
    "id": "grvhGJJII3Xn",
    "outputId": "2a1c873f-38af-4f87-d858-a1466130f924",
    "pycharm": {
     "name": "#%%\n"
    }
   },
   "outputs": [
    {
     "data": {
      "text/plain": "        date   tic       open       high        low      close       volume  \\\n0 2009-01-02  AAPL   3.067143   3.251429   3.041429   2.767330  746015200.0   \n1 2009-01-02  AMGN  58.590000  59.080002  57.750000  44.523743    6547900.0   \n2 2009-01-02   AXP  18.570000  19.520000  18.400000  15.418563   10955700.0   \n3 2009-01-02    BA  42.799999  45.560001  42.779999  33.941093    7010200.0   \n4 2009-01-02   CAT  44.910000  46.980000  44.709999  31.729931    7117200.0   \n5 2009-01-02   CRM   8.025000   8.550000   7.912500   8.505000    4069200.0   \n6 2009-01-02  CSCO  16.410000  17.000000  16.250000  12.043802   40980600.0   \n7 2009-01-02   CVX  74.230003  77.300003  73.580002  44.404160   13695900.0   \n8 2009-01-02   DIS  22.760000  24.030001  22.500000  20.597494    9796600.0   \n9 2009-01-02   DOW  52.750000  53.500000  49.500000  41.373943    2350800.0   \n\n        OPM       NPM       ROA  ...  quick_ratio  cash_ratio  inv_turnover  \\\n0  0.217886  0.163846  0.103222  ...     2.039779    1.818995     54.403846   \n1  0.093973  0.072040  0.014094  ...     0.000000    0.000000      0.000000   \n2  0.093973  0.072040  0.014094  ...     0.000000    0.000000      0.000000   \n3  0.047307  0.032525  0.026400  ...     0.368463    0.148507      2.329670   \n4  0.124545  0.066662  0.040891  ...     0.890488    0.163158      3.540791   \n5  0.234698  0.196418  0.097593  ...     2.498162    2.170759      9.054201   \n6  0.234698  0.196418  0.097593  ...     2.498162    2.170759      9.054201   \n7  0.141417  0.097223  0.117691  ...     0.952878    0.373760     23.920348   \n8  0.167221  0.102157  0.045834  ...     0.815629    0.330748     11.310223   \n9  0.000000  0.000000  0.000000  ...     0.000000    0.000000      0.000000   \n\n   acc_rec_turnover  acc_pay_turnover  debt_ratio  debt_to_equity          PE  \\\n0          8.972003          4.269115    0.437727        0.778495    0.636168   \n1          0.351354          0.653355    0.869784        6.679531  143.624976   \n2          0.351354          0.653355    0.869784        6.679531   49.737300   \n3          6.815203          2.076967    1.009198     -109.722986   39.012751   \n4          2.460351          8.472455    0.893715        9.089489 -166.999636   \n5          6.844634         16.036800    0.400215        0.667591   13.500000   \n6          6.844634         16.036800    0.400215        0.667591   19.117146   \n7         13.387209         11.276861    0.449174        0.815455   48.265391   \n8          5.725855          4.287167    0.455848        0.837721   26.072777   \n9          0.000000          0.000000    0.000000        0.000000  179.886710   \n\n          PB  Div_yield  \n0   0.101527   0.000000  \n1   4.123353   0.004043  \n2   1.427916   0.011674  \n3 -35.751046   0.012374  \n4   3.062595   0.013237  \n5   1.351255   0.000000  \n6   1.913492   0.000000  \n7   1.019502   0.014638  \n8   1.126511   0.016992  \n9   0.000000   0.000000  \n\n[10 rows x 22 columns]",
      "text/html": "<div>\n<style scoped>\n    .dataframe tbody tr th:only-of-type {\n        vertical-align: middle;\n    }\n\n    .dataframe tbody tr th {\n        vertical-align: top;\n    }\n\n    .dataframe thead th {\n        text-align: right;\n    }\n</style>\n<table border=\"1\" class=\"dataframe\">\n  <thead>\n    <tr style=\"text-align: right;\">\n      <th></th>\n      <th>date</th>\n      <th>tic</th>\n      <th>open</th>\n      <th>high</th>\n      <th>low</th>\n      <th>close</th>\n      <th>volume</th>\n      <th>OPM</th>\n      <th>NPM</th>\n      <th>ROA</th>\n      <th>...</th>\n      <th>quick_ratio</th>\n      <th>cash_ratio</th>\n      <th>inv_turnover</th>\n      <th>acc_rec_turnover</th>\n      <th>acc_pay_turnover</th>\n      <th>debt_ratio</th>\n      <th>debt_to_equity</th>\n      <th>PE</th>\n      <th>PB</th>\n      <th>Div_yield</th>\n    </tr>\n  </thead>\n  <tbody>\n    <tr>\n      <th>0</th>\n      <td>2009-01-02</td>\n      <td>AAPL</td>\n      <td>3.067143</td>\n      <td>3.251429</td>\n      <td>3.041429</td>\n      <td>2.767330</td>\n      <td>746015200.0</td>\n      <td>0.217886</td>\n      <td>0.163846</td>\n      <td>0.103222</td>\n      <td>...</td>\n      <td>2.039779</td>\n      <td>1.818995</td>\n      <td>54.403846</td>\n      <td>8.972003</td>\n      <td>4.269115</td>\n      <td>0.437727</td>\n      <td>0.778495</td>\n      <td>0.636168</td>\n      <td>0.101527</td>\n      <td>0.000000</td>\n    </tr>\n    <tr>\n      <th>1</th>\n      <td>2009-01-02</td>\n      <td>AMGN</td>\n      <td>58.590000</td>\n      <td>59.080002</td>\n      <td>57.750000</td>\n      <td>44.523743</td>\n      <td>6547900.0</td>\n      <td>0.093973</td>\n      <td>0.072040</td>\n      <td>0.014094</td>\n      <td>...</td>\n      <td>0.000000</td>\n      <td>0.000000</td>\n      <td>0.000000</td>\n      <td>0.351354</td>\n      <td>0.653355</td>\n      <td>0.869784</td>\n      <td>6.679531</td>\n      <td>143.624976</td>\n      <td>4.123353</td>\n      <td>0.004043</td>\n    </tr>\n    <tr>\n      <th>2</th>\n      <td>2009-01-02</td>\n      <td>AXP</td>\n      <td>18.570000</td>\n      <td>19.520000</td>\n      <td>18.400000</td>\n      <td>15.418563</td>\n      <td>10955700.0</td>\n      <td>0.093973</td>\n      <td>0.072040</td>\n      <td>0.014094</td>\n      <td>...</td>\n      <td>0.000000</td>\n      <td>0.000000</td>\n      <td>0.000000</td>\n      <td>0.351354</td>\n      <td>0.653355</td>\n      <td>0.869784</td>\n      <td>6.679531</td>\n      <td>49.737300</td>\n      <td>1.427916</td>\n      <td>0.011674</td>\n    </tr>\n    <tr>\n      <th>3</th>\n      <td>2009-01-02</td>\n      <td>BA</td>\n      <td>42.799999</td>\n      <td>45.560001</td>\n      <td>42.779999</td>\n      <td>33.941093</td>\n      <td>7010200.0</td>\n      <td>0.047307</td>\n      <td>0.032525</td>\n      <td>0.026400</td>\n      <td>...</td>\n      <td>0.368463</td>\n      <td>0.148507</td>\n      <td>2.329670</td>\n      <td>6.815203</td>\n      <td>2.076967</td>\n      <td>1.009198</td>\n      <td>-109.722986</td>\n      <td>39.012751</td>\n      <td>-35.751046</td>\n      <td>0.012374</td>\n    </tr>\n    <tr>\n      <th>4</th>\n      <td>2009-01-02</td>\n      <td>CAT</td>\n      <td>44.910000</td>\n      <td>46.980000</td>\n      <td>44.709999</td>\n      <td>31.729931</td>\n      <td>7117200.0</td>\n      <td>0.124545</td>\n      <td>0.066662</td>\n      <td>0.040891</td>\n      <td>...</td>\n      <td>0.890488</td>\n      <td>0.163158</td>\n      <td>3.540791</td>\n      <td>2.460351</td>\n      <td>8.472455</td>\n      <td>0.893715</td>\n      <td>9.089489</td>\n      <td>-166.999636</td>\n      <td>3.062595</td>\n      <td>0.013237</td>\n    </tr>\n    <tr>\n      <th>5</th>\n      <td>2009-01-02</td>\n      <td>CRM</td>\n      <td>8.025000</td>\n      <td>8.550000</td>\n      <td>7.912500</td>\n      <td>8.505000</td>\n      <td>4069200.0</td>\n      <td>0.234698</td>\n      <td>0.196418</td>\n      <td>0.097593</td>\n      <td>...</td>\n      <td>2.498162</td>\n      <td>2.170759</td>\n      <td>9.054201</td>\n      <td>6.844634</td>\n      <td>16.036800</td>\n      <td>0.400215</td>\n      <td>0.667591</td>\n      <td>13.500000</td>\n      <td>1.351255</td>\n      <td>0.000000</td>\n    </tr>\n    <tr>\n      <th>6</th>\n      <td>2009-01-02</td>\n      <td>CSCO</td>\n      <td>16.410000</td>\n      <td>17.000000</td>\n      <td>16.250000</td>\n      <td>12.043802</td>\n      <td>40980600.0</td>\n      <td>0.234698</td>\n      <td>0.196418</td>\n      <td>0.097593</td>\n      <td>...</td>\n      <td>2.498162</td>\n      <td>2.170759</td>\n      <td>9.054201</td>\n      <td>6.844634</td>\n      <td>16.036800</td>\n      <td>0.400215</td>\n      <td>0.667591</td>\n      <td>19.117146</td>\n      <td>1.913492</td>\n      <td>0.000000</td>\n    </tr>\n    <tr>\n      <th>7</th>\n      <td>2009-01-02</td>\n      <td>CVX</td>\n      <td>74.230003</td>\n      <td>77.300003</td>\n      <td>73.580002</td>\n      <td>44.404160</td>\n      <td>13695900.0</td>\n      <td>0.141417</td>\n      <td>0.097223</td>\n      <td>0.117691</td>\n      <td>...</td>\n      <td>0.952878</td>\n      <td>0.373760</td>\n      <td>23.920348</td>\n      <td>13.387209</td>\n      <td>11.276861</td>\n      <td>0.449174</td>\n      <td>0.815455</td>\n      <td>48.265391</td>\n      <td>1.019502</td>\n      <td>0.014638</td>\n    </tr>\n    <tr>\n      <th>8</th>\n      <td>2009-01-02</td>\n      <td>DIS</td>\n      <td>22.760000</td>\n      <td>24.030001</td>\n      <td>22.500000</td>\n      <td>20.597494</td>\n      <td>9796600.0</td>\n      <td>0.167221</td>\n      <td>0.102157</td>\n      <td>0.045834</td>\n      <td>...</td>\n      <td>0.815629</td>\n      <td>0.330748</td>\n      <td>11.310223</td>\n      <td>5.725855</td>\n      <td>4.287167</td>\n      <td>0.455848</td>\n      <td>0.837721</td>\n      <td>26.072777</td>\n      <td>1.126511</td>\n      <td>0.016992</td>\n    </tr>\n    <tr>\n      <th>9</th>\n      <td>2009-01-02</td>\n      <td>DOW</td>\n      <td>52.750000</td>\n      <td>53.500000</td>\n      <td>49.500000</td>\n      <td>41.373943</td>\n      <td>2350800.0</td>\n      <td>0.000000</td>\n      <td>0.000000</td>\n      <td>0.000000</td>\n      <td>...</td>\n      <td>0.000000</td>\n      <td>0.000000</td>\n      <td>0.000000</td>\n      <td>0.000000</td>\n      <td>0.000000</td>\n      <td>0.000000</td>\n      <td>0.000000</td>\n      <td>179.886710</td>\n      <td>0.000000</td>\n      <td>0.000000</td>\n    </tr>\n  </tbody>\n</table>\n<p>10 rows × 22 columns</p>\n</div>"
     },
     "execution_count": 80,
     "metadata": {},
     "output_type": "execute_result"
    }
   ],
   "source": [
    "# Check the final data\n",
    "processed_full.sort_values([\"date\", \"tic\"], ignore_index=True).head(10)"
   ]
  },
  {
   "cell_type": "markdown",
   "metadata": {
    "id": "-QsYaY0Dh1iw",
    "pycharm": {
     "name": "#%% md\n"
    }
   },
   "source": [
    "<a id='4'></a>\n",
    "# Part 5. A Market Environment in OpenAI Gym-style\n",
    "The training process involves observing stock price change, taking an action and reward's calculation. By interacting with the market environment, the agent will eventually derive a trading strategy that may maximize (expected) rewards.\n",
    "\n",
    "Our market environment, based on OpenAI Gym, simulates stock markets with historical market data."
   ]
  },
  {
   "cell_type": "markdown",
   "metadata": {
    "id": "5TOhcryx44bb",
    "pycharm": {
     "name": "#%% md\n"
    }
   },
   "source": [
    "## 5.1 Data Split\n",
    "- Training data period: 2009-01-01 to 2019-01-01\n",
    "- Trade data period: 2019-01-01 to 2020-12-31"
   ]
  },
  {
   "cell_type": "code",
   "execution_count": 81,
   "metadata": {
    "colab": {
     "base_uri": "https://localhost:8080/"
    },
    "id": "W0qaVGjLtgbI",
    "outputId": "b1a3102a-5d4e-438e-faca-7d03a2e1f584",
    "pycharm": {
     "name": "#%%\n"
    }
   },
   "outputs": [
    {
     "name": "stdout",
     "output_type": "stream",
     "text": [
      "109530\n",
      "21930\n"
     ]
    }
   ],
   "source": [
    "train_data = data_split(processed_full, TRAIN_START_DATE, TRAIN_END_DATE)\n",
    "trade_data = data_split(processed_full, TEST_START_DATE, TEST_END_DATE)\n",
    "# Check the length of the two datasets\n",
    "print(len(train_data))\n",
    "print(len(trade_data))"
   ]
  },
  {
   "cell_type": "code",
   "execution_count": 82,
   "metadata": {
    "colab": {
     "base_uri": "https://localhost:8080/",
     "height": 386
    },
    "id": "p52zNCOhTtLR",
    "outputId": "0a43f44d-af70-420f-9a0c-6b17482849b6",
    "pycharm": {
     "name": "#%%\n"
    }
   },
   "outputs": [
    {
     "data": {
      "text/plain": "        date   tic       open       high        low      close       volume  \\\n0 2009-01-02  AAPL   3.067143   3.251429   3.041429   2.767330  746015200.0   \n0 2009-01-02  AMGN  58.590000  59.080002  57.750000  44.523743    6547900.0   \n0 2009-01-02   AXP  18.570000  19.520000  18.400000  15.418563   10955700.0   \n0 2009-01-02    BA  42.799999  45.560001  42.779999  33.941093    7010200.0   \n0 2009-01-02   CAT  44.910000  46.980000  44.709999  31.729931    7117200.0   \n\n        OPM       NPM       ROA  ...  quick_ratio  cash_ratio  inv_turnover  \\\n0  0.217886  0.163846  0.103222  ...     2.039779    1.818995     54.403846   \n0  0.093973  0.072040  0.014094  ...     0.000000    0.000000      0.000000   \n0  0.093973  0.072040  0.014094  ...     0.000000    0.000000      0.000000   \n0  0.047307  0.032525  0.026400  ...     0.368463    0.148507      2.329670   \n0  0.124545  0.066662  0.040891  ...     0.890488    0.163158      3.540791   \n\n   acc_rec_turnover  acc_pay_turnover  debt_ratio  debt_to_equity          PE  \\\n0          8.972003          4.269115    0.437727        0.778495    0.636168   \n0          0.351354          0.653355    0.869784        6.679531  143.624976   \n0          0.351354          0.653355    0.869784        6.679531   49.737300   \n0          6.815203          2.076967    1.009198     -109.722986   39.012751   \n0          2.460351          8.472455    0.893715        9.089489 -166.999636   \n\n          PB  Div_yield  \n0   0.101527   0.000000  \n0   4.123353   0.004043  \n0   1.427916   0.011674  \n0 -35.751046   0.012374  \n0   3.062595   0.013237  \n\n[5 rows x 22 columns]",
      "text/html": "<div>\n<style scoped>\n    .dataframe tbody tr th:only-of-type {\n        vertical-align: middle;\n    }\n\n    .dataframe tbody tr th {\n        vertical-align: top;\n    }\n\n    .dataframe thead th {\n        text-align: right;\n    }\n</style>\n<table border=\"1\" class=\"dataframe\">\n  <thead>\n    <tr style=\"text-align: right;\">\n      <th></th>\n      <th>date</th>\n      <th>tic</th>\n      <th>open</th>\n      <th>high</th>\n      <th>low</th>\n      <th>close</th>\n      <th>volume</th>\n      <th>OPM</th>\n      <th>NPM</th>\n      <th>ROA</th>\n      <th>...</th>\n      <th>quick_ratio</th>\n      <th>cash_ratio</th>\n      <th>inv_turnover</th>\n      <th>acc_rec_turnover</th>\n      <th>acc_pay_turnover</th>\n      <th>debt_ratio</th>\n      <th>debt_to_equity</th>\n      <th>PE</th>\n      <th>PB</th>\n      <th>Div_yield</th>\n    </tr>\n  </thead>\n  <tbody>\n    <tr>\n      <th>0</th>\n      <td>2009-01-02</td>\n      <td>AAPL</td>\n      <td>3.067143</td>\n      <td>3.251429</td>\n      <td>3.041429</td>\n      <td>2.767330</td>\n      <td>746015200.0</td>\n      <td>0.217886</td>\n      <td>0.163846</td>\n      <td>0.103222</td>\n      <td>...</td>\n      <td>2.039779</td>\n      <td>1.818995</td>\n      <td>54.403846</td>\n      <td>8.972003</td>\n      <td>4.269115</td>\n      <td>0.437727</td>\n      <td>0.778495</td>\n      <td>0.636168</td>\n      <td>0.101527</td>\n      <td>0.000000</td>\n    </tr>\n    <tr>\n      <th>0</th>\n      <td>2009-01-02</td>\n      <td>AMGN</td>\n      <td>58.590000</td>\n      <td>59.080002</td>\n      <td>57.750000</td>\n      <td>44.523743</td>\n      <td>6547900.0</td>\n      <td>0.093973</td>\n      <td>0.072040</td>\n      <td>0.014094</td>\n      <td>...</td>\n      <td>0.000000</td>\n      <td>0.000000</td>\n      <td>0.000000</td>\n      <td>0.351354</td>\n      <td>0.653355</td>\n      <td>0.869784</td>\n      <td>6.679531</td>\n      <td>143.624976</td>\n      <td>4.123353</td>\n      <td>0.004043</td>\n    </tr>\n    <tr>\n      <th>0</th>\n      <td>2009-01-02</td>\n      <td>AXP</td>\n      <td>18.570000</td>\n      <td>19.520000</td>\n      <td>18.400000</td>\n      <td>15.418563</td>\n      <td>10955700.0</td>\n      <td>0.093973</td>\n      <td>0.072040</td>\n      <td>0.014094</td>\n      <td>...</td>\n      <td>0.000000</td>\n      <td>0.000000</td>\n      <td>0.000000</td>\n      <td>0.351354</td>\n      <td>0.653355</td>\n      <td>0.869784</td>\n      <td>6.679531</td>\n      <td>49.737300</td>\n      <td>1.427916</td>\n      <td>0.011674</td>\n    </tr>\n    <tr>\n      <th>0</th>\n      <td>2009-01-02</td>\n      <td>BA</td>\n      <td>42.799999</td>\n      <td>45.560001</td>\n      <td>42.779999</td>\n      <td>33.941093</td>\n      <td>7010200.0</td>\n      <td>0.047307</td>\n      <td>0.032525</td>\n      <td>0.026400</td>\n      <td>...</td>\n      <td>0.368463</td>\n      <td>0.148507</td>\n      <td>2.329670</td>\n      <td>6.815203</td>\n      <td>2.076967</td>\n      <td>1.009198</td>\n      <td>-109.722986</td>\n      <td>39.012751</td>\n      <td>-35.751046</td>\n      <td>0.012374</td>\n    </tr>\n    <tr>\n      <th>0</th>\n      <td>2009-01-02</td>\n      <td>CAT</td>\n      <td>44.910000</td>\n      <td>46.980000</td>\n      <td>44.709999</td>\n      <td>31.729931</td>\n      <td>7117200.0</td>\n      <td>0.124545</td>\n      <td>0.066662</td>\n      <td>0.040891</td>\n      <td>...</td>\n      <td>0.890488</td>\n      <td>0.163158</td>\n      <td>3.540791</td>\n      <td>2.460351</td>\n      <td>8.472455</td>\n      <td>0.893715</td>\n      <td>9.089489</td>\n      <td>-166.999636</td>\n      <td>3.062595</td>\n      <td>0.013237</td>\n    </tr>\n  </tbody>\n</table>\n<p>5 rows × 22 columns</p>\n</div>"
     },
     "execution_count": 82,
     "metadata": {},
     "output_type": "execute_result"
    }
   ],
   "source": [
    "train_data.head()"
   ]
  },
  {
   "cell_type": "code",
   "execution_count": 83,
   "outputs": [
    {
     "data": {
      "text/plain": "           date  tic        open        high         low       close  \\\n3650 2018-12-31  UNH  248.059998  250.279999  246.940002  235.387100   \n3650 2018-12-31    V  131.679993  132.440002  130.229996  128.816315   \n3650 2018-12-31   VZ   55.529999   56.230000   55.070000   46.870449   \n3650 2018-12-31  WBA   68.540001   68.720001   67.739998   59.090961   \n3650 2018-12-31  WMT   92.669998   93.389999   92.250000   87.356163   \n\n          volume       OPM       NPM       ROA  ...  quick_ratio  cash_ratio  \\\n3650   3123200.0  0.076548  0.053304  0.058770  ...     0.612190    0.269203   \n3650   7976000.0  0.662285  0.493999  0.108562  ...     1.426843    1.088655   \n3650  15331800.0  0.233542  0.140699  0.051312  ...     0.781730    0.099974   \n3650   4870900.0  0.045713  0.039156  0.056464  ...     0.349247    0.039877   \n3650   7005800.0  0.042794  0.007942  0.013603  ...     0.180763    0.099668   \n\n      inv_turnover  acc_rec_turnover  acc_pay_turnover  debt_ratio  \\\n3650      0.000000          9.196164          3.492759    0.630623   \n3650      0.000000          3.477694          1.208271    0.524178   \n3650     29.875749          3.734947          5.519082    0.793414   \n3650      7.572873         12.975089          5.377753    0.639194   \n3650      6.154352         59.782270          5.789354    0.636864   \n\n      debt_to_equity         PE        PB  Div_yield  \n3650        1.767227  18.906594  4.371162   0.003823  \n3650        1.101628  99.089473  9.902718   0.001941  \n3650        3.840596  12.465545  3.644186   0.012855  \n3650        1.771574  24.317268  2.180845   0.007446  \n3650        1.753786  38.314107  3.467930   0.005953  \n\n[5 rows x 22 columns]",
      "text/html": "<div>\n<style scoped>\n    .dataframe tbody tr th:only-of-type {\n        vertical-align: middle;\n    }\n\n    .dataframe tbody tr th {\n        vertical-align: top;\n    }\n\n    .dataframe thead th {\n        text-align: right;\n    }\n</style>\n<table border=\"1\" class=\"dataframe\">\n  <thead>\n    <tr style=\"text-align: right;\">\n      <th></th>\n      <th>date</th>\n      <th>tic</th>\n      <th>open</th>\n      <th>high</th>\n      <th>low</th>\n      <th>close</th>\n      <th>volume</th>\n      <th>OPM</th>\n      <th>NPM</th>\n      <th>ROA</th>\n      <th>...</th>\n      <th>quick_ratio</th>\n      <th>cash_ratio</th>\n      <th>inv_turnover</th>\n      <th>acc_rec_turnover</th>\n      <th>acc_pay_turnover</th>\n      <th>debt_ratio</th>\n      <th>debt_to_equity</th>\n      <th>PE</th>\n      <th>PB</th>\n      <th>Div_yield</th>\n    </tr>\n  </thead>\n  <tbody>\n    <tr>\n      <th>3650</th>\n      <td>2018-12-31</td>\n      <td>UNH</td>\n      <td>248.059998</td>\n      <td>250.279999</td>\n      <td>246.940002</td>\n      <td>235.387100</td>\n      <td>3123200.0</td>\n      <td>0.076548</td>\n      <td>0.053304</td>\n      <td>0.058770</td>\n      <td>...</td>\n      <td>0.612190</td>\n      <td>0.269203</td>\n      <td>0.000000</td>\n      <td>9.196164</td>\n      <td>3.492759</td>\n      <td>0.630623</td>\n      <td>1.767227</td>\n      <td>18.906594</td>\n      <td>4.371162</td>\n      <td>0.003823</td>\n    </tr>\n    <tr>\n      <th>3650</th>\n      <td>2018-12-31</td>\n      <td>V</td>\n      <td>131.679993</td>\n      <td>132.440002</td>\n      <td>130.229996</td>\n      <td>128.816315</td>\n      <td>7976000.0</td>\n      <td>0.662285</td>\n      <td>0.493999</td>\n      <td>0.108562</td>\n      <td>...</td>\n      <td>1.426843</td>\n      <td>1.088655</td>\n      <td>0.000000</td>\n      <td>3.477694</td>\n      <td>1.208271</td>\n      <td>0.524178</td>\n      <td>1.101628</td>\n      <td>99.089473</td>\n      <td>9.902718</td>\n      <td>0.001941</td>\n    </tr>\n    <tr>\n      <th>3650</th>\n      <td>2018-12-31</td>\n      <td>VZ</td>\n      <td>55.529999</td>\n      <td>56.230000</td>\n      <td>55.070000</td>\n      <td>46.870449</td>\n      <td>15331800.0</td>\n      <td>0.233542</td>\n      <td>0.140699</td>\n      <td>0.051312</td>\n      <td>...</td>\n      <td>0.781730</td>\n      <td>0.099974</td>\n      <td>29.875749</td>\n      <td>3.734947</td>\n      <td>5.519082</td>\n      <td>0.793414</td>\n      <td>3.840596</td>\n      <td>12.465545</td>\n      <td>3.644186</td>\n      <td>0.012855</td>\n    </tr>\n    <tr>\n      <th>3650</th>\n      <td>2018-12-31</td>\n      <td>WBA</td>\n      <td>68.540001</td>\n      <td>68.720001</td>\n      <td>67.739998</td>\n      <td>59.090961</td>\n      <td>4870900.0</td>\n      <td>0.045713</td>\n      <td>0.039156</td>\n      <td>0.056464</td>\n      <td>...</td>\n      <td>0.349247</td>\n      <td>0.039877</td>\n      <td>7.572873</td>\n      <td>12.975089</td>\n      <td>5.377753</td>\n      <td>0.639194</td>\n      <td>1.771574</td>\n      <td>24.317268</td>\n      <td>2.180845</td>\n      <td>0.007446</td>\n    </tr>\n    <tr>\n      <th>3650</th>\n      <td>2018-12-31</td>\n      <td>WMT</td>\n      <td>92.669998</td>\n      <td>93.389999</td>\n      <td>92.250000</td>\n      <td>87.356163</td>\n      <td>7005800.0</td>\n      <td>0.042794</td>\n      <td>0.007942</td>\n      <td>0.013603</td>\n      <td>...</td>\n      <td>0.180763</td>\n      <td>0.099668</td>\n      <td>6.154352</td>\n      <td>59.782270</td>\n      <td>5.789354</td>\n      <td>0.636864</td>\n      <td>1.753786</td>\n      <td>38.314107</td>\n      <td>3.467930</td>\n      <td>0.005953</td>\n    </tr>\n  </tbody>\n</table>\n<p>5 rows × 22 columns</p>\n</div>"
     },
     "execution_count": 83,
     "metadata": {},
     "output_type": "execute_result"
    }
   ],
   "source": [
    "train_data.tail()"
   ],
   "metadata": {
    "collapsed": false,
    "pycharm": {
     "name": "#%%\n"
    }
   }
  },
  {
   "cell_type": "code",
   "execution_count": 84,
   "metadata": {
    "colab": {
     "base_uri": "https://localhost:8080/",
     "height": 386
    },
    "id": "k9zU9YaTTvFq",
    "outputId": "3cdc86bc-e7b4-46d4-bfdf-d3b706da2351",
    "pycharm": {
     "name": "#%%\n"
    }
   },
   "outputs": [
    {
     "data": {
      "text/plain": "        date   tic        open        high         low       close  \\\n0 2019-01-01  AAPL   38.722500   39.712502   38.557499   38.168350   \n0 2019-01-01  AMGN  192.520004  193.199997  188.949997  171.580246   \n0 2019-01-01   AXP   93.910004   96.269997   93.769997   90.403236   \n0 2019-01-01    BA  316.190002  323.950012  313.709991  314.645142   \n0 2019-01-01   CAT  124.029999  127.879997  123.000000  114.177414   \n\n        volume       OPM       NPM       ROA  ...  quick_ratio  cash_ratio  \\\n0  148158800.0  0.258891  0.227773  0.133360  ...     1.134347    0.854114   \n0    3009100.0  0.093973  0.072040  0.014094  ...     0.000000    0.000000   \n0    4175400.0  0.203479  0.160494  0.026811  ...     0.000000    0.000000   \n0    3292200.0  0.116496  0.102682  0.066409  ...     0.262465    0.092436   \n0    4783200.0  0.186871  0.107064  0.056932  ...     0.919490    0.266175   \n\n   inv_turnover  acc_rec_turnover  acc_pay_turnover  debt_ratio  \\\n0     23.571867          7.620024          3.781658    0.690466   \n0      0.000000          0.351354          0.653355    0.869784   \n0      0.000000          0.231669          0.279424    0.887329   \n0      0.933164          5.468453          4.151637    0.998070   \n0      2.135008          2.339630          3.660183    0.803394   \n\n   debt_to_equity          PE           PB  Div_yield  \n0        2.230663    5.696769     1.661179   0.019126  \n0        6.679531  553.484664    15.890083   0.001049  \n0        7.875371   49.946539     3.405685   0.004314  \n0      517.142241   83.019826  1418.196271   0.006531  \n0        4.086316   34.704381     4.228507   0.007532  \n\n[5 rows x 22 columns]",
      "text/html": "<div>\n<style scoped>\n    .dataframe tbody tr th:only-of-type {\n        vertical-align: middle;\n    }\n\n    .dataframe tbody tr th {\n        vertical-align: top;\n    }\n\n    .dataframe thead th {\n        text-align: right;\n    }\n</style>\n<table border=\"1\" class=\"dataframe\">\n  <thead>\n    <tr style=\"text-align: right;\">\n      <th></th>\n      <th>date</th>\n      <th>tic</th>\n      <th>open</th>\n      <th>high</th>\n      <th>low</th>\n      <th>close</th>\n      <th>volume</th>\n      <th>OPM</th>\n      <th>NPM</th>\n      <th>ROA</th>\n      <th>...</th>\n      <th>quick_ratio</th>\n      <th>cash_ratio</th>\n      <th>inv_turnover</th>\n      <th>acc_rec_turnover</th>\n      <th>acc_pay_turnover</th>\n      <th>debt_ratio</th>\n      <th>debt_to_equity</th>\n      <th>PE</th>\n      <th>PB</th>\n      <th>Div_yield</th>\n    </tr>\n  </thead>\n  <tbody>\n    <tr>\n      <th>0</th>\n      <td>2019-01-01</td>\n      <td>AAPL</td>\n      <td>38.722500</td>\n      <td>39.712502</td>\n      <td>38.557499</td>\n      <td>38.168350</td>\n      <td>148158800.0</td>\n      <td>0.258891</td>\n      <td>0.227773</td>\n      <td>0.133360</td>\n      <td>...</td>\n      <td>1.134347</td>\n      <td>0.854114</td>\n      <td>23.571867</td>\n      <td>7.620024</td>\n      <td>3.781658</td>\n      <td>0.690466</td>\n      <td>2.230663</td>\n      <td>5.696769</td>\n      <td>1.661179</td>\n      <td>0.019126</td>\n    </tr>\n    <tr>\n      <th>0</th>\n      <td>2019-01-01</td>\n      <td>AMGN</td>\n      <td>192.520004</td>\n      <td>193.199997</td>\n      <td>188.949997</td>\n      <td>171.580246</td>\n      <td>3009100.0</td>\n      <td>0.093973</td>\n      <td>0.072040</td>\n      <td>0.014094</td>\n      <td>...</td>\n      <td>0.000000</td>\n      <td>0.000000</td>\n      <td>0.000000</td>\n      <td>0.351354</td>\n      <td>0.653355</td>\n      <td>0.869784</td>\n      <td>6.679531</td>\n      <td>553.484664</td>\n      <td>15.890083</td>\n      <td>0.001049</td>\n    </tr>\n    <tr>\n      <th>0</th>\n      <td>2019-01-01</td>\n      <td>AXP</td>\n      <td>93.910004</td>\n      <td>96.269997</td>\n      <td>93.769997</td>\n      <td>90.403236</td>\n      <td>4175400.0</td>\n      <td>0.203479</td>\n      <td>0.160494</td>\n      <td>0.026811</td>\n      <td>...</td>\n      <td>0.000000</td>\n      <td>0.000000</td>\n      <td>0.000000</td>\n      <td>0.231669</td>\n      <td>0.279424</td>\n      <td>0.887329</td>\n      <td>7.875371</td>\n      <td>49.946539</td>\n      <td>3.405685</td>\n      <td>0.004314</td>\n    </tr>\n    <tr>\n      <th>0</th>\n      <td>2019-01-01</td>\n      <td>BA</td>\n      <td>316.190002</td>\n      <td>323.950012</td>\n      <td>313.709991</td>\n      <td>314.645142</td>\n      <td>3292200.0</td>\n      <td>0.116496</td>\n      <td>0.102682</td>\n      <td>0.066409</td>\n      <td>...</td>\n      <td>0.262465</td>\n      <td>0.092436</td>\n      <td>0.933164</td>\n      <td>5.468453</td>\n      <td>4.151637</td>\n      <td>0.998070</td>\n      <td>517.142241</td>\n      <td>83.019826</td>\n      <td>1418.196271</td>\n      <td>0.006531</td>\n    </tr>\n    <tr>\n      <th>0</th>\n      <td>2019-01-01</td>\n      <td>CAT</td>\n      <td>124.029999</td>\n      <td>127.879997</td>\n      <td>123.000000</td>\n      <td>114.177414</td>\n      <td>4783200.0</td>\n      <td>0.186871</td>\n      <td>0.107064</td>\n      <td>0.056932</td>\n      <td>...</td>\n      <td>0.919490</td>\n      <td>0.266175</td>\n      <td>2.135008</td>\n      <td>2.339630</td>\n      <td>3.660183</td>\n      <td>0.803394</td>\n      <td>4.086316</td>\n      <td>34.704381</td>\n      <td>4.228507</td>\n      <td>0.007532</td>\n    </tr>\n  </tbody>\n</table>\n<p>5 rows × 22 columns</p>\n</div>"
     },
     "execution_count": 84,
     "metadata": {},
     "output_type": "execute_result"
    }
   ],
   "source": [
    "trade_data.head()"
   ]
  },
  {
   "cell_type": "code",
   "execution_count": 85,
   "outputs": [
    {
     "data": {
      "text/plain": "          date  tic        open        high         low       close  \\\n730 2020-12-31  UNH  345.040009  351.089996  344.049988  342.497467   \n730 2020-12-31    V  218.399994  219.820007  216.199997  216.244751   \n730 2020-12-31   VZ   58.060001   58.799999   58.020000   53.285801   \n730 2020-12-31  WBA   39.330002   40.000000   39.029999   37.146488   \n730 2020-12-31  WMT  144.199997  144.270004  142.850006  140.224197   \n\n         volume       OPM       NPM       ROA  ...  quick_ratio  cash_ratio  \\\n730   1969000.0  0.098542  0.068820  0.066861  ...     0.623930    0.273143   \n730   5922200.0  0.638994  0.480876  0.094422  ...     1.969814    1.700081   \n730  12906300.0  0.230962  0.141165  0.041750  ...     1.210691    0.589158   \n730   7696000.0  0.055546  0.032500  0.058790  ...     0.201841    0.131341   \n730   5938000.0  0.000000  0.000000  0.000000  ...     0.000000    0.000000   \n\n     inv_turnover  acc_rec_turnover  acc_pay_turnover  debt_ratio  \\\n730      0.000000          7.545032          3.165348    0.642459   \n730      0.000000          4.725314          2.347866    0.531507   \n730     20.255568          3.797160          5.456577    0.781118   \n730      6.289502         75.704738          7.523900    0.587123   \n730      0.000000          0.000000          0.000000    0.000000   \n\n     debt_to_equity          PE         PB  Div_yield  \n730        1.855023   21.102740   4.947284   0.003650  \n730        1.134505  152.285036  13.593218   0.001480  \n730        3.568671   12.392047   3.250252   0.011776  \n730        0.000000   10.925438   2.233284   0.006394  \n730        0.000000    0.000000   0.000000   0.000000  \n\n[5 rows x 22 columns]",
      "text/html": "<div>\n<style scoped>\n    .dataframe tbody tr th:only-of-type {\n        vertical-align: middle;\n    }\n\n    .dataframe tbody tr th {\n        vertical-align: top;\n    }\n\n    .dataframe thead th {\n        text-align: right;\n    }\n</style>\n<table border=\"1\" class=\"dataframe\">\n  <thead>\n    <tr style=\"text-align: right;\">\n      <th></th>\n      <th>date</th>\n      <th>tic</th>\n      <th>open</th>\n      <th>high</th>\n      <th>low</th>\n      <th>close</th>\n      <th>volume</th>\n      <th>OPM</th>\n      <th>NPM</th>\n      <th>ROA</th>\n      <th>...</th>\n      <th>quick_ratio</th>\n      <th>cash_ratio</th>\n      <th>inv_turnover</th>\n      <th>acc_rec_turnover</th>\n      <th>acc_pay_turnover</th>\n      <th>debt_ratio</th>\n      <th>debt_to_equity</th>\n      <th>PE</th>\n      <th>PB</th>\n      <th>Div_yield</th>\n    </tr>\n  </thead>\n  <tbody>\n    <tr>\n      <th>730</th>\n      <td>2020-12-31</td>\n      <td>UNH</td>\n      <td>345.040009</td>\n      <td>351.089996</td>\n      <td>344.049988</td>\n      <td>342.497467</td>\n      <td>1969000.0</td>\n      <td>0.098542</td>\n      <td>0.068820</td>\n      <td>0.066861</td>\n      <td>...</td>\n      <td>0.623930</td>\n      <td>0.273143</td>\n      <td>0.000000</td>\n      <td>7.545032</td>\n      <td>3.165348</td>\n      <td>0.642459</td>\n      <td>1.855023</td>\n      <td>21.102740</td>\n      <td>4.947284</td>\n      <td>0.003650</td>\n    </tr>\n    <tr>\n      <th>730</th>\n      <td>2020-12-31</td>\n      <td>V</td>\n      <td>218.399994</td>\n      <td>219.820007</td>\n      <td>216.199997</td>\n      <td>216.244751</td>\n      <td>5922200.0</td>\n      <td>0.638994</td>\n      <td>0.480876</td>\n      <td>0.094422</td>\n      <td>...</td>\n      <td>1.969814</td>\n      <td>1.700081</td>\n      <td>0.000000</td>\n      <td>4.725314</td>\n      <td>2.347866</td>\n      <td>0.531507</td>\n      <td>1.134505</td>\n      <td>152.285036</td>\n      <td>13.593218</td>\n      <td>0.001480</td>\n    </tr>\n    <tr>\n      <th>730</th>\n      <td>2020-12-31</td>\n      <td>VZ</td>\n      <td>58.060001</td>\n      <td>58.799999</td>\n      <td>58.020000</td>\n      <td>53.285801</td>\n      <td>12906300.0</td>\n      <td>0.230962</td>\n      <td>0.141165</td>\n      <td>0.041750</td>\n      <td>...</td>\n      <td>1.210691</td>\n      <td>0.589158</td>\n      <td>20.255568</td>\n      <td>3.797160</td>\n      <td>5.456577</td>\n      <td>0.781118</td>\n      <td>3.568671</td>\n      <td>12.392047</td>\n      <td>3.250252</td>\n      <td>0.011776</td>\n    </tr>\n    <tr>\n      <th>730</th>\n      <td>2020-12-31</td>\n      <td>WBA</td>\n      <td>39.330002</td>\n      <td>40.000000</td>\n      <td>39.029999</td>\n      <td>37.146488</td>\n      <td>7696000.0</td>\n      <td>0.055546</td>\n      <td>0.032500</td>\n      <td>0.058790</td>\n      <td>...</td>\n      <td>0.201841</td>\n      <td>0.131341</td>\n      <td>6.289502</td>\n      <td>75.704738</td>\n      <td>7.523900</td>\n      <td>0.587123</td>\n      <td>0.000000</td>\n      <td>10.925438</td>\n      <td>2.233284</td>\n      <td>0.006394</td>\n    </tr>\n    <tr>\n      <th>730</th>\n      <td>2020-12-31</td>\n      <td>WMT</td>\n      <td>144.199997</td>\n      <td>144.270004</td>\n      <td>142.850006</td>\n      <td>140.224197</td>\n      <td>5938000.0</td>\n      <td>0.000000</td>\n      <td>0.000000</td>\n      <td>0.000000</td>\n      <td>...</td>\n      <td>0.000000</td>\n      <td>0.000000</td>\n      <td>0.000000</td>\n      <td>0.000000</td>\n      <td>0.000000</td>\n      <td>0.000000</td>\n      <td>0.000000</td>\n      <td>0.000000</td>\n      <td>0.000000</td>\n      <td>0.000000</td>\n    </tr>\n  </tbody>\n</table>\n<p>5 rows × 22 columns</p>\n</div>"
     },
     "execution_count": 85,
     "metadata": {},
     "output_type": "execute_result"
    }
   ],
   "source": [
    "trade_data.tail()"
   ],
   "metadata": {
    "collapsed": false,
    "pycharm": {
     "name": "#%%\n"
    }
   }
  },
  {
   "cell_type": "markdown",
   "metadata": {
    "id": "qqGG78pLyCX7",
    "pycharm": {
     "name": "#%% md\n"
    }
   },
   "source": [
    "## 5.2 Set up the training environment"
   ]
  },
  {
   "cell_type": "code",
   "execution_count": 86,
   "metadata": {
    "id": "LPD0wZLO-Pse",
    "pycharm": {
     "name": "#%%\n"
    }
   },
   "outputs": [],
   "source": [
    "import gym\n",
    "import matplotlib\n",
    "import matplotlib.pyplot as plt\n",
    "import numpy as np\n",
    "import pandas as pd\n",
    "from gym import spaces\n",
    "from gym.utils import seeding\n",
    "from stable_baselines3.common.vec_env import DummyVecEnv\n",
    "from experiments.stock.StockTradingEnv import StockTradingEnv\n",
    "\n",
    "matplotlib.use(\"Agg\")\n",
    "\n",
    "# from stable_baselines3.common import logger"
   ]
  },
  {
   "cell_type": "code",
   "execution_count": 87,
   "metadata": {
    "colab": {
     "base_uri": "https://localhost:8080/"
    },
    "id": "Q2zqII8rMIqn",
    "outputId": "b7deda63-17d4-421d-cf1c-102f08bcc151",
    "pycharm": {
     "name": "#%%\n"
    }
   },
   "outputs": [
    {
     "name": "stdout",
     "output_type": "stream",
     "text": [
      "Stock Dimension: 30, State Space: 511\n",
      "\n"
     ]
    }
   ],
   "source": [
    "ratio_list = [\n",
    "    \"OPM\",\n",
    "    \"NPM\",\n",
    "    \"ROA\",\n",
    "    \"ROE\",\n",
    "    \"cur_ratio\",\n",
    "    \"quick_ratio\",\n",
    "    \"cash_ratio\",\n",
    "    \"inv_turnover\",\n",
    "    \"acc_rec_turnover\",\n",
    "    \"acc_pay_turnover\",\n",
    "    \"debt_ratio\",\n",
    "    \"debt_to_equity\",\n",
    "    \"PE\",\n",
    "    \"PB\",\n",
    "    \"Div_yield\",\n",
    "]\n",
    "\n",
    "stock_dimension = len(train_data.tic.unique())\n",
    "state_space = 1 + 2 * stock_dimension + len(ratio_list) * stock_dimension  # TODO: Why?\n",
    "print(f\"Stock Dimension: {stock_dimension}, State Space: {state_space}\")\n",
    "print()"
   ]
  },
  {
   "cell_type": "code",
   "execution_count": 88,
   "metadata": {
    "id": "AWyp84Ltto19",
    "pycharm": {
     "name": "#%%\n"
    }
   },
   "outputs": [],
   "source": [
    "# Parameters for the environment\n",
    "env_kwargs = {\n",
    "    \"hmax\": 100,\n",
    "    \"initial_amount\": 1000000,\n",
    "    \"buy_cost_pct\": 0.001,\n",
    "    \"sell_cost_pct\": 0.001,\n",
    "    \"state_space\": state_space,\n",
    "    \"stock_dim\": stock_dimension,\n",
    "    \"tech_indicator_list\": ratio_list,\n",
    "    \"action_space\": stock_dimension,\n",
    "    \"reward_scaling\": 1e-4,\n",
    "}\n",
    "\n",
    "# Establish the training environment using StockTradingEnv() class\n",
    "e_train_gym = StockTradingEnv(df=train_data, **env_kwargs)"
   ]
  },
  {
   "cell_type": "markdown",
   "metadata": {
    "id": "64EoqOrQjiVf",
    "pycharm": {
     "name": "#%% md\n"
    }
   },
   "source": [
    "## Environment for Training\n",
    "\n"
   ]
  },
  {
   "cell_type": "code",
   "execution_count": 89,
   "metadata": {
    "colab": {
     "base_uri": "https://localhost:8080/"
    },
    "id": "xwSvvPjutpqS",
    "outputId": "199470fd-2620-47ca-c3de-307b851dcaff",
    "pycharm": {
     "name": "#%%\n"
    }
   },
   "outputs": [
    {
     "name": "stdout",
     "output_type": "stream",
     "text": [
      "<class 'stable_baselines3.common.vec_env.dummy_vec_env.DummyVecEnv'>\n"
     ]
    }
   ],
   "source": [
    "env_train, _ = e_train_gym.get_sb_env()\n",
    "print(type(env_train))"
   ]
  },
  {
   "cell_type": "markdown",
   "metadata": {
    "id": "HMNR5nHjh1iz",
    "pycharm": {
     "name": "#%% md\n"
    }
   },
   "source": [
    "<a id='5'></a>\n",
    "# Part 6: Train DRL Agents\n",
    "* The DRL algorithms are from **Stable Baselines 3**. Users are also encouraged to try **ElegantRL** and **Ray RLlib**.\n",
    "* FinRL library includes fine-tuned standard DRL algorithms, such as DQN, DDPG,\n",
    "Multi-Agent DDPG, PPO, SAC, A2C and TD3. We also allow users to\n",
    "design their own DRL algorithms by adapting these DRL algorithms."
   ]
  },
  {
   "cell_type": "code",
   "execution_count": 90,
   "metadata": {
    "id": "364PsqckttcQ",
    "pycharm": {
     "name": "#%%\n"
    }
   },
   "outputs": [],
   "source": [
    "# Set up the agent using DRLAgent() class using the environment created in the previous part\n",
    "agent = DRLAgent(env=env_train)\n",
    "\n",
    "if_using_a2c = False\n",
    "if_using_ddpg = False\n",
    "if_using_ppo = False\n",
    "if_using_td3 = False\n",
    "if_using_sac = True"
   ]
  },
  {
   "cell_type": "markdown",
   "metadata": {
    "id": "YDmqOyF9h1iz",
    "pycharm": {
     "name": "#%% md\n"
    }
   },
   "source": [
    "### Agent Training: 5 algorithms (A2C, DDPG, PPO, TD3, SAC)"
   ]
  },
  {
   "cell_type": "markdown",
   "metadata": {
    "id": "_gDkU-j-fCmZ",
    "pycharm": {
     "name": "#%% md\n"
    }
   },
   "source": [
    "### Model 1: PPO"
   ]
  },
  {
   "cell_type": "code",
   "execution_count": 91,
   "metadata": {
    "id": "y5D5PFUhMzSV",
    "pycharm": {
     "name": "#%%\n"
    }
   },
   "outputs": [
    {
     "name": "stdout",
     "output_type": "stream",
     "text": [
      "{'n_steps': 2048, 'ent_coef': 0.01, 'learning_rate': 0.00025, 'batch_size': 128}\n",
      "Using cpu device\n"
     ]
    }
   ],
   "source": [
    "agent = DRLAgent(env=env_train)\n",
    "PPO_PARAMS = {\n",
    "    \"n_steps\": 2048,\n",
    "    \"ent_coef\": 0.01,\n",
    "    \"learning_rate\": 0.00025,\n",
    "    \"batch_size\": 128,\n",
    "}\n",
    "model_ppo = agent.get_model(\"ppo\", model_kwargs=PPO_PARAMS)\n",
    "\n",
    "if if_using_ppo:\n",
    "    # set up logger\n",
    "    tmp_path = RESULTS_DIR + \"/ppo\"\n",
    "    new_logger_ppo = configure(tmp_path, [\"stdout\", \"csv\", \"tensorboard\"])\n",
    "    # Set new logger\n",
    "    model_ppo.set_logger(new_logger_ppo)"
   ]
  },
  {
   "cell_type": "code",
   "execution_count": 92,
   "metadata": {
    "id": "Gt8eIQKYM4G3",
    "pycharm": {
     "name": "#%%\n"
    }
   },
   "outputs": [],
   "source": [
    "trained_ppo = agent.train_model(model=model_ppo, tb_log_name=\"ppo\", total_timesteps=50000) if if_using_ppo else None"
   ]
  },
  {
   "cell_type": "markdown",
   "metadata": {
    "id": "MRiOtrywfAo1",
    "pycharm": {
     "name": "#%% md\n"
    }
   },
   "source": [
    "### Model 2: DDPG"
   ]
  },
  {
   "cell_type": "code",
   "execution_count": 93,
   "metadata": {
    "id": "M2YadjfnLwgt",
    "pycharm": {
     "name": "#%%\n"
    }
   },
   "outputs": [
    {
     "name": "stdout",
     "output_type": "stream",
     "text": [
      "{'batch_size': 128, 'buffer_size': 50000, 'learning_rate': 0.001}\n",
      "Using cpu device\n"
     ]
    }
   ],
   "source": [
    "agent = DRLAgent(env=env_train)\n",
    "model_ddpg = agent.get_model(\"ddpg\")\n",
    "\n",
    "if if_using_ddpg:\n",
    "    # set up logger\n",
    "    tmp_path = RESULTS_DIR + \"/ddpg\"\n",
    "    new_logger_ddpg = configure(tmp_path, [\"stdout\", \"csv\", \"tensorboard\"])\n",
    "    # Set new logger\n",
    "    model_ddpg.set_logger(new_logger_ddpg)"
   ]
  },
  {
   "cell_type": "code",
   "execution_count": 94,
   "metadata": {
    "collapsed": true,
    "id": "tCDa78rqfO_a",
    "pycharm": {
     "name": "#%%\n"
    }
   },
   "outputs": [],
   "source": [
    "trained_ddpg = agent.train_model(model=model_ddpg, tb_log_name=\"ddpg\", total_timesteps=50000) if if_using_ddpg else None"
   ]
  },
  {
   "cell_type": "markdown",
   "metadata": {
    "id": "uijiWgkuh1jB",
    "pycharm": {
     "name": "#%% md\n"
    }
   },
   "source": [
    "### Model 3: A2C\n"
   ]
  },
  {
   "cell_type": "code",
   "execution_count": 95,
   "metadata": {
    "colab": {
     "base_uri": "https://localhost:8080/"
    },
    "id": "GUCnkn-HIbmj",
    "outputId": "a8d5a6e9-2ea1-49f4-ade3-40fd640a2ba4",
    "pycharm": {
     "name": "#%%\n"
    }
   },
   "outputs": [
    {
     "name": "stdout",
     "output_type": "stream",
     "text": [
      "{'n_steps': 5, 'ent_coef': 0.01, 'learning_rate': 0.0007}\n",
      "Using cpu device\n"
     ]
    }
   ],
   "source": [
    "agent = DRLAgent(env=env_train)\n",
    "model_a2c = agent.get_model(\"a2c\")\n",
    "\n",
    "if if_using_a2c:\n",
    "    # set up logger\n",
    "    tmp_path = RESULTS_DIR + \"/a2c\"\n",
    "    new_logger_a2c = configure(tmp_path, [\"stdout\", \"csv\", \"tensorboard\"])\n",
    "    # Set new logger\n",
    "    model_a2c.set_logger(new_logger_a2c)"
   ]
  },
  {
   "cell_type": "code",
   "execution_count": 96,
   "metadata": {
    "id": "0GVpkWGqH4-D",
    "pycharm": {
     "name": "#%%\n"
    }
   },
   "outputs": [],
   "source": [
    "trained_a2c = agent.train_model(model=model_a2c, tb_log_name=\"a2c\", total_timesteps=50000) if if_using_a2c else None"
   ]
  },
  {
   "cell_type": "markdown",
   "metadata": {
    "id": "3Zpv4S0-fDBv",
    "pycharm": {
     "name": "#%% md\n"
    }
   },
   "source": [
    "### Model 4: TD3"
   ]
  },
  {
   "cell_type": "code",
   "execution_count": 97,
   "metadata": {
    "id": "JSAHhV4Xc-bh",
    "pycharm": {
     "name": "#%%\n"
    }
   },
   "outputs": [
    {
     "name": "stdout",
     "output_type": "stream",
     "text": [
      "{'batch_size': 100, 'buffer_size': 1000000, 'learning_rate': 0.001}\n",
      "Using cpu device\n"
     ]
    }
   ],
   "source": [
    "agent = DRLAgent(env=env_train)\n",
    "TD3_PARAMS = {\"batch_size\": 100, \"buffer_size\": 1000000, \"learning_rate\": 0.001}\n",
    "\n",
    "model_td3 = agent.get_model(\"td3\", model_kwargs=TD3_PARAMS)\n",
    "\n",
    "if if_using_td3:\n",
    "    # set up logger\n",
    "    tmp_path = RESULTS_DIR + \"/td3\"\n",
    "    new_logger_td3 = configure(tmp_path, [\"stdout\", \"csv\", \"tensorboard\"])\n",
    "    # Set new logger\n",
    "    model_td3.set_logger(new_logger_td3)"
   ]
  },
  {
   "cell_type": "code",
   "execution_count": 98,
   "metadata": {
    "id": "OSRxNYAxdKpU",
    "pycharm": {
     "name": "#%%\n"
    }
   },
   "outputs": [],
   "source": [
    "trained_td3 = agent.train_model(model=model_td3, tb_log_name=\"td3\", total_timesteps=30000) if if_using_td3 else None"
   ]
  },
  {
   "cell_type": "markdown",
   "metadata": {
    "id": "Dr49PotrfG01",
    "pycharm": {
     "name": "#%% md\n"
    }
   },
   "source": [
    "### Model 5: SAC"
   ]
  },
  {
   "cell_type": "code",
   "execution_count": 99,
   "metadata": {
    "colab": {
     "base_uri": "https://localhost:8080/"
    },
    "id": "xwOhVjqRkCdM",
    "outputId": "a7947b0e-e8fe-4f42-8cba-a57b0fe69f58",
    "pycharm": {
     "name": "#%%\n"
    }
   },
   "outputs": [
    {
     "name": "stdout",
     "output_type": "stream",
     "text": [
      "{'batch_size': 128, 'buffer_size': 1000000, 'learning_rate': 0.0001, 'learning_starts': 100, 'ent_coef': 'auto_0.1'}\n",
      "Using cpu device\n",
      "Logging to results/sac\n"
     ]
    }
   ],
   "source": [
    "agent = DRLAgent(env=env_train)\n",
    "import numpy as np\n",
    "\n",
    "\n",
    "def fun():\n",
    "    pass\n",
    "\n",
    "\n",
    "SAC_PARAMS = {\n",
    "    \"batch_size\": 128,\n",
    "    \"buffer_size\": 1000000,\n",
    "    \"learning_rate\": 0.0001,\n",
    "    \"learning_starts\": 100,\n",
    "    \"ent_coef\": \"auto_0.1\",\n",
    "}\n",
    "\n",
    "model_sac = agent.get_model(\"sac\", model_kwargs=SAC_PARAMS)\n",
    "\n",
    "if if_using_sac:\n",
    "    # set up logger\n",
    "    tmp_path = RESULTS_DIR + \"/sac\"\n",
    "    new_logger_sac = configure(tmp_path, [\"stdout\", \"csv\", \"tensorboard\"])\n",
    "    # Set new logger\n",
    "    model_sac.set_logger(new_logger_sac)"
   ]
  },
  {
   "cell_type": "code",
   "execution_count": 100,
   "metadata": {
    "colab": {
     "base_uri": "https://localhost:8080/",
     "height": 750
    },
    "id": "K8RSdKCckJyH",
    "outputId": "a293320f-54e9-431b-8f17-2f8e0b47a6b8",
    "pycharm": {
     "name": "#%%\n"
    }
   },
   "outputs": [
    {
     "name": "stdout",
     "output_type": "stream",
     "text": [
      "-------------------------------------\n",
      "| time/              |              |\n",
      "|    episodes        | 4            |\n",
      "|    fps             | 36           |\n",
      "|    time_elapsed    | 399          |\n",
      "|    total_timesteps | 14604        |\n",
      "| train/             |              |\n",
      "|    actor_loss      | 1.19e+03     |\n",
      "|    critic_loss     | 245          |\n",
      "|    ent_coef        | 0.242        |\n",
      "|    ent_coef_loss   | -65.9        |\n",
      "|    learning_rate   | 0.0001       |\n",
      "|    n_updates       | 14503        |\n",
      "|    reward          | -0.018511066 |\n",
      "-------------------------------------\n",
      "--------------------------------------\n",
      "| time/              |               |\n",
      "|    episodes        | 8             |\n",
      "|    fps             | 36            |\n",
      "|    time_elapsed    | 810           |\n",
      "|    total_timesteps | 29208         |\n",
      "| train/             |               |\n",
      "|    actor_loss      | 439           |\n",
      "|    critic_loss     | 28.5          |\n",
      "|    ent_coef        | 0.0567        |\n",
      "|    ent_coef_loss   | -113          |\n",
      "|    learning_rate   | 0.0001        |\n",
      "|    n_updates       | 29107         |\n",
      "|    reward          | -7.649915e-06 |\n",
      "--------------------------------------\n"
     ]
    }
   ],
   "source": [
    "trained_sac = agent.train_model(model=model_sac, tb_log_name=\"sac\", total_timesteps=30000) if if_using_sac else None"
   ]
  },
  {
   "cell_type": "code",
   "execution_count": 101,
   "outputs": [],
   "source": [
    "now = datetime.datetime.now().strftime(\"%Y%m%d-%Hh%M\")\n",
    "trained_sac.save(path.join(TRAINED_MODEL_DIR, f\"orig_trained_sac_{now}\"))"
   ],
   "metadata": {
    "collapsed": false,
    "pycharm": {
     "name": "#%%\n"
    }
   }
  },
  {
   "cell_type": "markdown",
   "metadata": {
    "id": "f2wZgkQXh1jE",
    "pycharm": {
     "name": "#%% md\n"
    }
   },
   "source": [
    "## Trading\n",
    "Assume that we have $1,000,000 initial capital at TEST_START_DATE. We use the DDPG model to trade Dow jones 30 stocks."
   ]
  },
  {
   "cell_type": "markdown",
   "metadata": {
    "id": "U5mmgQF_h1jQ",
    "pycharm": {
     "name": "#%% md\n"
    }
   },
   "source": [
    "### Trade\n",
    "\n",
    "DRL model needs to update periodically in order to take full advantage of the data, ideally we need to retrain our model yearly, quarterly, or monthly. We also need to tune the parameters along the way, in this notebook I only use the in-sample data from 2009-01 to 2018-12 to tune the parameters once, so there is some alpha decay here as the length of trade date extends. \n",
    "\n",
    "Numerous hyperparameters – e.g. the learning rate, the total number of samples to train on – influence the learning process and are usually determined by testing some variations."
   ]
  },
  {
   "cell_type": "code",
   "execution_count": 102,
   "metadata": {
    "id": "cIqoV0GSI52v",
    "pycharm": {
     "name": "#%%\n"
    }
   },
   "outputs": [],
   "source": [
    "trade_data = data_split(processed_full, TEST_START_DATE, TEST_END_DATE)\n",
    "e_trade_gym = StockTradingEnv(df=trade_data, **env_kwargs)\n",
    "# env_trade, obs_trade = e_trade_gym.get_sb_env()"
   ]
  },
  {
   "cell_type": "code",
   "execution_count": 103,
   "metadata": {
    "id": "W_XNgGsBMeVw",
    "pycharm": {
     "name": "#%%\n"
    }
   },
   "outputs": [
    {
     "data": {
      "text/plain": "        date   tic        open        high         low       close  \\\n0 2019-01-01  AAPL   38.722500   39.712502   38.557499   38.168350   \n0 2019-01-01  AMGN  192.520004  193.199997  188.949997  171.580246   \n0 2019-01-01   AXP   93.910004   96.269997   93.769997   90.403236   \n0 2019-01-01    BA  316.190002  323.950012  313.709991  314.645142   \n0 2019-01-01   CAT  124.029999  127.879997  123.000000  114.177414   \n\n        volume       OPM       NPM       ROA  ...  quick_ratio  cash_ratio  \\\n0  148158800.0  0.258891  0.227773  0.133360  ...     1.134347    0.854114   \n0    3009100.0  0.093973  0.072040  0.014094  ...     0.000000    0.000000   \n0    4175400.0  0.203479  0.160494  0.026811  ...     0.000000    0.000000   \n0    3292200.0  0.116496  0.102682  0.066409  ...     0.262465    0.092436   \n0    4783200.0  0.186871  0.107064  0.056932  ...     0.919490    0.266175   \n\n   inv_turnover  acc_rec_turnover  acc_pay_turnover  debt_ratio  \\\n0     23.571867          7.620024          3.781658    0.690466   \n0      0.000000          0.351354          0.653355    0.869784   \n0      0.000000          0.231669          0.279424    0.887329   \n0      0.933164          5.468453          4.151637    0.998070   \n0      2.135008          2.339630          3.660183    0.803394   \n\n   debt_to_equity          PE           PB  Div_yield  \n0        2.230663    5.696769     1.661179   0.019126  \n0        6.679531  553.484664    15.890083   0.001049  \n0        7.875371   49.946539     3.405685   0.004314  \n0      517.142241   83.019826  1418.196271   0.006531  \n0        4.086316   34.704381     4.228507   0.007532  \n\n[5 rows x 22 columns]",
      "text/html": "<div>\n<style scoped>\n    .dataframe tbody tr th:only-of-type {\n        vertical-align: middle;\n    }\n\n    .dataframe tbody tr th {\n        vertical-align: top;\n    }\n\n    .dataframe thead th {\n        text-align: right;\n    }\n</style>\n<table border=\"1\" class=\"dataframe\">\n  <thead>\n    <tr style=\"text-align: right;\">\n      <th></th>\n      <th>date</th>\n      <th>tic</th>\n      <th>open</th>\n      <th>high</th>\n      <th>low</th>\n      <th>close</th>\n      <th>volume</th>\n      <th>OPM</th>\n      <th>NPM</th>\n      <th>ROA</th>\n      <th>...</th>\n      <th>quick_ratio</th>\n      <th>cash_ratio</th>\n      <th>inv_turnover</th>\n      <th>acc_rec_turnover</th>\n      <th>acc_pay_turnover</th>\n      <th>debt_ratio</th>\n      <th>debt_to_equity</th>\n      <th>PE</th>\n      <th>PB</th>\n      <th>Div_yield</th>\n    </tr>\n  </thead>\n  <tbody>\n    <tr>\n      <th>0</th>\n      <td>2019-01-01</td>\n      <td>AAPL</td>\n      <td>38.722500</td>\n      <td>39.712502</td>\n      <td>38.557499</td>\n      <td>38.168350</td>\n      <td>148158800.0</td>\n      <td>0.258891</td>\n      <td>0.227773</td>\n      <td>0.133360</td>\n      <td>...</td>\n      <td>1.134347</td>\n      <td>0.854114</td>\n      <td>23.571867</td>\n      <td>7.620024</td>\n      <td>3.781658</td>\n      <td>0.690466</td>\n      <td>2.230663</td>\n      <td>5.696769</td>\n      <td>1.661179</td>\n      <td>0.019126</td>\n    </tr>\n    <tr>\n      <th>0</th>\n      <td>2019-01-01</td>\n      <td>AMGN</td>\n      <td>192.520004</td>\n      <td>193.199997</td>\n      <td>188.949997</td>\n      <td>171.580246</td>\n      <td>3009100.0</td>\n      <td>0.093973</td>\n      <td>0.072040</td>\n      <td>0.014094</td>\n      <td>...</td>\n      <td>0.000000</td>\n      <td>0.000000</td>\n      <td>0.000000</td>\n      <td>0.351354</td>\n      <td>0.653355</td>\n      <td>0.869784</td>\n      <td>6.679531</td>\n      <td>553.484664</td>\n      <td>15.890083</td>\n      <td>0.001049</td>\n    </tr>\n    <tr>\n      <th>0</th>\n      <td>2019-01-01</td>\n      <td>AXP</td>\n      <td>93.910004</td>\n      <td>96.269997</td>\n      <td>93.769997</td>\n      <td>90.403236</td>\n      <td>4175400.0</td>\n      <td>0.203479</td>\n      <td>0.160494</td>\n      <td>0.026811</td>\n      <td>...</td>\n      <td>0.000000</td>\n      <td>0.000000</td>\n      <td>0.000000</td>\n      <td>0.231669</td>\n      <td>0.279424</td>\n      <td>0.887329</td>\n      <td>7.875371</td>\n      <td>49.946539</td>\n      <td>3.405685</td>\n      <td>0.004314</td>\n    </tr>\n    <tr>\n      <th>0</th>\n      <td>2019-01-01</td>\n      <td>BA</td>\n      <td>316.190002</td>\n      <td>323.950012</td>\n      <td>313.709991</td>\n      <td>314.645142</td>\n      <td>3292200.0</td>\n      <td>0.116496</td>\n      <td>0.102682</td>\n      <td>0.066409</td>\n      <td>...</td>\n      <td>0.262465</td>\n      <td>0.092436</td>\n      <td>0.933164</td>\n      <td>5.468453</td>\n      <td>4.151637</td>\n      <td>0.998070</td>\n      <td>517.142241</td>\n      <td>83.019826</td>\n      <td>1418.196271</td>\n      <td>0.006531</td>\n    </tr>\n    <tr>\n      <th>0</th>\n      <td>2019-01-01</td>\n      <td>CAT</td>\n      <td>124.029999</td>\n      <td>127.879997</td>\n      <td>123.000000</td>\n      <td>114.177414</td>\n      <td>4783200.0</td>\n      <td>0.186871</td>\n      <td>0.107064</td>\n      <td>0.056932</td>\n      <td>...</td>\n      <td>0.919490</td>\n      <td>0.266175</td>\n      <td>2.135008</td>\n      <td>2.339630</td>\n      <td>3.660183</td>\n      <td>0.803394</td>\n      <td>4.086316</td>\n      <td>34.704381</td>\n      <td>4.228507</td>\n      <td>0.007532</td>\n    </tr>\n  </tbody>\n</table>\n<p>5 rows × 22 columns</p>\n</div>"
     },
     "execution_count": 103,
     "metadata": {},
     "output_type": "execute_result"
    }
   ],
   "source": [
    "trade_data.head()"
   ]
  },
  {
   "cell_type": "code",
   "execution_count": 104,
   "metadata": {
    "id": "eLOnL5eYh1jR",
    "pycharm": {
     "name": "#%%\n"
    }
   },
   "outputs": [
    {
     "name": "stdout",
     "output_type": "stream",
     "text": [
      "hit end!\n"
     ]
    }
   ],
   "source": [
    "df_account_value_ppo, df_actions_ppo = (\n",
    "    DRLAgent.DRL_prediction(model=trained_ppo, environment=e_trade_gym) if if_using_ppo else [None, None]\n",
    ")\n",
    "\n",
    "df_account_value_ddpg, df_actions_ddpg = (\n",
    "    DRLAgent.DRL_prediction(model=trained_ddpg, environment=e_trade_gym) if if_using_ddpg else [None, None]\n",
    ")\n",
    "\n",
    "df_account_value_a2c, df_actions_a2c = (\n",
    "    DRLAgent.DRL_prediction(model=trained_a2c, environment=e_trade_gym) if if_using_a2c else [None, None]\n",
    ")\n",
    "\n",
    "df_account_value_td3, df_actions_td3 = (\n",
    "    DRLAgent.DRL_prediction(model=trained_td3, environment=e_trade_gym) if if_using_td3 else [None, None]\n",
    ")\n",
    "\n",
    "df_account_value_sac, df_actions_sac = (\n",
    "    DRLAgent.DRL_prediction(model=trained_sac, environment=e_trade_gym) if if_using_sac else [None, None]\n",
    ")"
   ]
  },
  {
   "cell_type": "code",
   "execution_count": 105,
   "metadata": {
    "id": "ERxw3KqLkcP4",
    "pycharm": {
     "name": "#%%\n"
    }
   },
   "outputs": [],
   "source": [
    "# df_account_value_ppo.shape\n",
    "# df_account_value_ddpg.shape\n",
    "# df_account_value_a2c.shape\n",
    "# df_account_value_td3.shape\n",
    "# df_account_value_sac.shape"
   ]
  },
  {
   "cell_type": "code",
   "execution_count": 106,
   "metadata": {
    "id": "2yRkNguY5yvp",
    "pycharm": {
     "name": "#%%\n"
    }
   },
   "outputs": [],
   "source": [
    "# df_account_value_ppo.tail()\n",
    "# df_account_value_ddpg.tail()\n",
    "# df_account_value_a2c.tail()\n",
    "# df_account_value_td3.tail()\n",
    "# df_account_value_sac.tail()"
   ]
  },
  {
   "cell_type": "code",
   "execution_count": 107,
   "metadata": {
    "id": "nFlK5hNbWVFk",
    "pycharm": {
     "name": "#%%\n"
    }
   },
   "outputs": [],
   "source": [
    "# df_actions_ppo.head()\n",
    "# df_actions_ddpg.head()\n",
    "# df_actions_a2c.head()\n",
    "# df_actions_td3.head()\n",
    "# df_actions_sac.head()"
   ]
  },
  {
   "cell_type": "markdown",
   "metadata": {
    "id": "W6vvNSC6h1jZ",
    "pycharm": {
     "name": "#%% md\n"
    }
   },
   "source": [
    "<a id='6'></a>\n",
    "# Part 7: Backtest Our Strategy\n",
    "Backtesting plays a key role in evaluating the performance of a trading strategy. Automated backtesting tool is preferred because it reduces the human error. We usually use the Quantopian pyfolio package to backtest our trading strategies. It is easy to use and consists of various individual plots that provide a comprehensive image of the performance of a trading strategy."
   ]
  },
  {
   "cell_type": "markdown",
   "metadata": {
    "id": "Lr2zX7ZxNyFQ",
    "pycharm": {
     "name": "#%% md\n"
    }
   },
   "source": [
    "<a id='6.1'></a>\n",
    "## 7.1 BackTestStats\n",
    "pass in df_account_value, this information is stored in env class\n"
   ]
  },
  {
   "cell_type": "code",
   "execution_count": 108,
   "metadata": {
    "id": "Nzkr9yv-AdV_",
    "pycharm": {
     "name": "#%%\n"
    }
   },
   "outputs": [
    {
     "name": "stdout",
     "output_type": "stream",
     "text": [
      "==============Get Backtest Results===========\n",
      "\n",
      " sac:\n",
      "Annual return          0.086564\n",
      "Cumulative returns     0.272299\n",
      "Annual volatility      0.244469\n",
      "Sharpe ratio           0.463112\n",
      "Calmar ratio           0.225982\n",
      "Stability              0.041207\n",
      "Max drawdown          -0.383058\n",
      "Omega ratio            1.127741\n",
      "Sortino ratio          0.642349\n",
      "Skew                        NaN\n",
      "Kurtosis                    NaN\n",
      "Tail ratio             0.950450\n",
      "Daily value at risk   -0.030351\n",
      "dtype: float64\n"
     ]
    },
    {
     "name": "stderr",
     "output_type": "stream",
     "text": [
      "/Users/zlapik/my-drive-zdenda-lapes/0-todo/ai-investing/venv_2/lib/python3.10/site-packages/pyfolio/timeseries.py:724: FutureWarning: The default dtype for empty Series will be 'object' instead of 'float64' in a future version. Specify a dtype explicitly to silence this warning.\n",
      "  stats = pd.Series()\n"
     ]
    }
   ],
   "source": [
    "print(\"==============Get Backtest Results===========\")\n",
    "now = datetime.datetime.now().strftime(\"%Y%m%d-%Hh%M\")\n",
    "\n",
    "if if_using_ppo:\n",
    "    print(\"\\n ppo:\")\n",
    "    perf_stats_all_ppo = backtest_stats(account_value=df_account_value_ppo)\n",
    "    perf_stats_all_ppo = pd.DataFrame(perf_stats_all_ppo)\n",
    "    perf_stats_all_ppo.to_csv(\"./\" + config.RESULTS_DIR + \"/perf_stats_all_ppo_\" + now + \".csv\")\n",
    "\n",
    "if if_using_ddpg:\n",
    "    print(\"\\n ddpg:\")\n",
    "    perf_stats_all_ddpg = backtest_stats(account_value=df_account_value_ddpg)\n",
    "    perf_stats_all_ddpg = pd.DataFrame(perf_stats_all_ddpg)\n",
    "    perf_stats_all_ddpg.to_csv(\"./\" + config.RESULTS_DIR + \"/perf_stats_all_ddpg_\" + now + \".csv\")\n",
    "\n",
    "if if_using_a2c:\n",
    "    print(\"\\n a2c:\")\n",
    "    perf_stats_all_a2c = backtest_stats(account_value=df_account_value_a2c)\n",
    "    perf_stats_all_a2c = pd.DataFrame(perf_stats_all_a2c)\n",
    "    perf_stats_all_a2c.to_csv(\"./\" + config.RESULTS_DIR + \"/perf_stats_all_a2c_\" + now + \".csv\")\n",
    "\n",
    "if if_using_td3:\n",
    "    print(\"\\n atd3:\")\n",
    "    perf_stats_all_td3 = backtest_stats(account_value=df_account_value_td3)\n",
    "    perf_stats_all_td3 = pd.DataFrame(perf_stats_all_td3)\n",
    "    perf_stats_all_td3.to_csv(\"./\" + config.RESULTS_DIR + \"/perf_stats_all_td3_\" + now + \".csv\")\n",
    "\n",
    "if if_using_sac:\n",
    "    print(\"\\n sac:\")\n",
    "    perf_stats_all_sac = backtest_stats(account_value=df_account_value_sac)\n",
    "    perf_stats_all_sac = pd.DataFrame(perf_stats_all_sac)\n",
    "    perf_stats_all_sac.to_csv(\"./\" + config.RESULTS_DIR + \"/perf_stats_all_sac_\" + now + \".csv\")"
   ]
  },
  {
   "cell_type": "code",
   "execution_count": 109,
   "metadata": {
    "id": "QkV-LB66iwhD",
    "pycharm": {
     "name": "#%%\n"
    }
   },
   "outputs": [
    {
     "name": "stdout",
     "output_type": "stream",
     "text": [
      "==============Get Baseline Stats===========\n",
      "[*********************100%***********************]  1 of 1 completed\n",
      "Shape of DataFrame:  (505, 8)\n",
      "Annual return          0.144674\n",
      "Cumulative returns     0.310981\n",
      "Annual volatility      0.274619\n",
      "Sharpe ratio           0.631418\n",
      "Calmar ratio           0.390102\n",
      "Stability              0.116677\n",
      "Max drawdown          -0.370862\n",
      "Omega ratio            1.149365\n",
      "Sortino ratio          0.870084\n",
      "Skew                        NaN\n",
      "Kurtosis                    NaN\n",
      "Tail ratio             0.860710\n",
      "Daily value at risk   -0.033911\n",
      "dtype: float64\n"
     ]
    },
    {
     "name": "stderr",
     "output_type": "stream",
     "text": [
      "/Users/zlapik/my-drive-zdenda-lapes/0-todo/ai-investing/venv_2/lib/python3.10/site-packages/finrl/meta/preprocessor/yahoodownloader.py:54: FutureWarning: The frame.append method is deprecated and will be removed from pandas in a future version. Use pandas.concat instead.\n",
      "  data_df = data_df.append(temp_df)\n",
      "/Users/zlapik/my-drive-zdenda-lapes/0-todo/ai-investing/venv_2/lib/python3.10/site-packages/pyfolio/timeseries.py:724: FutureWarning: The default dtype for empty Series will be 'object' instead of 'float64' in a future version. Specify a dtype explicitly to silence this warning.\n",
      "  stats = pd.Series()\n"
     ]
    }
   ],
   "source": [
    "# baseline stats\n",
    "print(\"==============Get Baseline Stats===========\")\n",
    "baseline_df = get_baseline(ticker=\"^DJI\", start=TEST_START_DATE, end=TEST_END_DATE)\n",
    "\n",
    "stats = backtest_stats(baseline_df, value_col_name=\"close\")"
   ]
  },
  {
   "cell_type": "markdown",
   "metadata": {
    "id": "9U6Suru3h1jc",
    "pycharm": {
     "name": "#%% md\n"
    }
   },
   "source": [
    "<a id='6.2'></a>\n",
    "## 7.2 BackTestPlot"
   ]
  },
  {
   "cell_type": "code",
   "execution_count": 110,
   "outputs": [
    {
     "name": "stdout",
     "output_type": "stream",
     "text": [
      "==============Compare to DJIA===========\n",
      "[*********************100%***********************]  1 of 1 completed\n",
      "Shape of DataFrame:  (505, 8)\n"
     ]
    },
    {
     "name": "stderr",
     "output_type": "stream",
     "text": [
      "/Users/zlapik/my-drive-zdenda-lapes/0-todo/ai-investing/venv_2/lib/python3.10/site-packages/finrl/meta/preprocessor/yahoodownloader.py:54: FutureWarning: The frame.append method is deprecated and will be removed from pandas in a future version. Use pandas.concat instead.\n",
      "  data_df = data_df.append(temp_df)\n",
      "/Users/zlapik/my-drive-zdenda-lapes/0-todo/ai-investing/venv_2/lib/python3.10/site-packages/pyfolio/timeseries.py:724: FutureWarning: The default dtype for empty Series will be 'object' instead of 'float64' in a future version. Specify a dtype explicitly to silence this warning.\n",
      "  stats = pd.Series()\n",
      "/Users/zlapik/my-drive-zdenda-lapes/0-todo/ai-investing/venv_2/lib/python3.10/site-packages/pyfolio/plotting.py:648: FutureWarning: iteritems is deprecated and will be removed in a future version. Use .items instead.\n",
      "  for stat, value in perf_stats[column].iteritems():\n"
     ]
    },
    {
     "data": {
      "text/plain": "<IPython.core.display.HTML object>",
      "text/html": "<table border=\"1\" class=\"dataframe\">\n  <thead>\n    <tr style=\"text-align: right;\"><th>Start date</th><td colspan=2>2019-01-01</td></tr>\n    <tr style=\"text-align: right;\"><th>End date</th><td colspan=2>2020-12-31</td></tr>\n    <tr style=\"text-align: right;\"><th>Total months</th><td colspan=2>34</td></tr>\n    <tr style=\"text-align: right;\">\n      <th></th>\n      <th>Backtest</th>\n    </tr>\n  </thead>\n  <tbody>\n    <tr>\n      <th>Annual return</th>\n      <td>8.656%</td>\n    </tr>\n    <tr>\n      <th>Cumulative returns</th>\n      <td>27.23%</td>\n    </tr>\n    <tr>\n      <th>Annual volatility</th>\n      <td>24.447%</td>\n    </tr>\n    <tr>\n      <th>Sharpe ratio</th>\n      <td>0.46</td>\n    </tr>\n    <tr>\n      <th>Calmar ratio</th>\n      <td>0.23</td>\n    </tr>\n    <tr>\n      <th>Stability</th>\n      <td>0.04</td>\n    </tr>\n    <tr>\n      <th>Max drawdown</th>\n      <td>-38.306%</td>\n    </tr>\n    <tr>\n      <th>Omega ratio</th>\n      <td>1.13</td>\n    </tr>\n    <tr>\n      <th>Sortino ratio</th>\n      <td>0.64</td>\n    </tr>\n    <tr>\n      <th>Skew</th>\n      <td>NaN</td>\n    </tr>\n    <tr>\n      <th>Kurtosis</th>\n      <td>NaN</td>\n    </tr>\n    <tr>\n      <th>Tail ratio</th>\n      <td>0.95</td>\n    </tr>\n    <tr>\n      <th>Daily value at risk</th>\n      <td>-3.035%</td>\n    </tr>\n    <tr>\n      <th>Alpha</th>\n      <td>0.03</td>\n    </tr>\n    <tr>\n      <th>Beta</th>\n      <td>0.72</td>\n    </tr>\n  </tbody>\n</table>"
     },
     "metadata": {},
     "output_type": "display_data"
    },
    {
     "data": {
      "text/plain": "<IPython.core.display.HTML object>",
      "text/html": "<table border=\"1\" class=\"dataframe\">\n  <thead>\n    <tr style=\"text-align: right;\">\n      <th>Worst drawdown periods</th>\n      <th>Net drawdown in %</th>\n      <th>Peak date</th>\n      <th>Valley date</th>\n      <th>Recovery date</th>\n      <th>Duration</th>\n    </tr>\n  </thead>\n  <tbody>\n    <tr>\n      <th>0</th>\n      <td>38.31</td>\n      <td>2020-02-19</td>\n      <td>2020-03-21</td>\n      <td>2020-11-10</td>\n      <td>190</td>\n    </tr>\n    <tr>\n      <th>1</th>\n      <td>8.35</td>\n      <td>2019-02-23</td>\n      <td>2019-06-01</td>\n      <td>2019-07-11</td>\n      <td>99</td>\n    </tr>\n    <tr>\n      <th>2</th>\n      <td>8.15</td>\n      <td>2019-07-23</td>\n      <td>2019-08-14</td>\n      <td>2019-11-02</td>\n      <td>74</td>\n    </tr>\n    <tr>\n      <th>3</th>\n      <td>4.57</td>\n      <td>2020-01-16</td>\n      <td>2020-01-31</td>\n      <td>2020-02-12</td>\n      <td>20</td>\n    </tr>\n    <tr>\n      <th>4</th>\n      <td>4.29</td>\n      <td>2020-11-16</td>\n      <td>2020-12-22</td>\n      <td>NaT</td>\n      <td>NaN</td>\n    </tr>\n  </tbody>\n</table>"
     },
     "metadata": {},
     "output_type": "display_data"
    },
    {
     "name": "stderr",
     "output_type": "stream",
     "text": [
      "/Users/zlapik/my-drive-zdenda-lapes/0-todo/ai-investing/venv_2/lib/python3.10/site-packages/pyfolio/plotting.py:805: FutureWarning: The default dtype for empty Series will be 'object' instead of 'float64' in a future version. Specify a dtype explicitly to silence this warning.\n",
      "  oos_cum_returns = pd.Series([])\n",
      "/Users/zlapik/my-drive-zdenda-lapes/0-todo/ai-investing/venv_2/lib/python3.10/site-packages/pyfolio/plotting.py:805: FutureWarning: The default dtype for empty Series will be 'object' instead of 'float64' in a future version. Specify a dtype explicitly to silence this warning.\n",
      "  oos_cum_returns = pd.Series([])\n",
      "/Users/zlapik/my-drive-zdenda-lapes/0-todo/ai-investing/venv_2/lib/python3.10/site-packages/pyfolio/plotting.py:805: FutureWarning: The default dtype for empty Series will be 'object' instead of 'float64' in a future version. Specify a dtype explicitly to silence this warning.\n",
      "  oos_cum_returns = pd.Series([])\n",
      "/Users/zlapik/my-drive-zdenda-lapes/0-todo/ai-investing/venv_2/lib/python3.10/site-packages/pyfolio/timeseries.py:541: FutureWarning: The default dtype for empty Series will be 'object' instead of 'float64' in a future version. Specify a dtype explicitly to silence this warning.\n",
      "  out = pd.Series(index=returns.index)\n",
      "/Users/zlapik/my-drive-zdenda-lapes/0-todo/ai-investing/venv_2/lib/python3.10/site-packages/pyfolio/timeseries.py:541: FutureWarning: The default dtype for empty Series will be 'object' instead of 'float64' in a future version. Specify a dtype explicitly to silence this warning.\n",
      "  out = pd.Series(index=returns.index)\n",
      "/Users/zlapik/my-drive-zdenda-lapes/0-todo/ai-investing/venv_2/lib/python3.10/site-packages/pyfolio/timeseries.py:1230: FutureWarning: Indexing a timezone-aware DatetimeIndex with a timezone-naive datetime is deprecated and will raise KeyError in a future version. Use a timezone-aware object instead.\n",
      "  period = returns_dupe.loc[start:end]\n"
     ]
    },
    {
     "data": {
      "text/plain": "<IPython.core.display.HTML object>",
      "text/html": "<table border=\"1\" class=\"dataframe\">\n  <thead>\n    <tr style=\"text-align: right;\">\n      <th>Stress Events</th>\n      <th>mean</th>\n      <th>min</th>\n      <th>max</th>\n    </tr>\n  </thead>\n  <tbody>\n    <tr>\n      <th>New Normal</th>\n      <td>0.04%</td>\n      <td>-13.36%</td>\n      <td>11.90%</td>\n    </tr>\n  </tbody>\n</table>"
     },
     "metadata": {},
     "output_type": "display_data"
    },
    {
     "name": "stderr",
     "output_type": "stream",
     "text": [
      "/Users/zlapik/my-drive-zdenda-lapes/0-todo/ai-investing/venv_2/lib/python3.10/site-packages/pyfolio/timeseries.py:1230: FutureWarning: Indexing a timezone-aware DatetimeIndex with a timezone-naive datetime is deprecated and will raise KeyError in a future version. Use a timezone-aware object instead.\n",
      "  period = returns_dupe.loc[start:end]\n"
     ]
    }
   ],
   "source": [
    "print(\"==============Compare to DJIA===========\")\n",
    "\"%matplotlib inline\"\n",
    "# S&P 500: ^GSPC\n",
    "# Dow Jones Index: ^DJI\n",
    "# NASDAQ 100: ^NDX\n",
    "\n",
    "if if_using_ppo:\n",
    "    backtest_plot(\n",
    "        df_account_value_ppo, baseline_ticker=\"^DJI\", baseline_start=TEST_START_DATE, baseline_end=TEST_END_DATE\n",
    "    )\n",
    "\n",
    "if if_using_ddpg:\n",
    "    backtest_plot(\n",
    "        df_account_value_ddpg, baseline_ticker=\"^DJI\", baseline_start=TEST_START_DATE, baseline_end=TEST_END_DATE\n",
    "    )\n",
    "\n",
    "if if_using_a2c:\n",
    "    backtest_plot(\n",
    "        df_account_value_a2c, baseline_ticker=\"^DJI\", baseline_start=TEST_START_DATE, baseline_end=TEST_END_DATE\n",
    "    )\n",
    "\n",
    "if if_using_td3:\n",
    "    backtest_plot(\n",
    "        df_account_value_td3, baseline_ticker=\"^DJI\", baseline_start=TEST_START_DATE, baseline_end=TEST_END_DATE\n",
    "    )\n",
    "\n",
    "if if_using_sac:\n",
    "    backtest_plot(\n",
    "        df_account_value_sac, baseline_ticker=\"^DJI\", baseline_start=TEST_START_DATE, baseline_end=TEST_END_DATE\n",
    "    )"
   ],
   "metadata": {
    "collapsed": false,
    "pycharm": {
     "name": "#%%\n"
    }
   }
  },
  {
   "cell_type": "code",
   "execution_count": 110,
   "outputs": [],
   "source": [],
   "metadata": {
    "collapsed": false,
    "pycharm": {
     "name": "#%%\n"
    }
   }
  }
 ],
 "metadata": {
  "colab": {
   "collapsed_sections": [
    "_gDkU-j-fCmZ",
    "MRiOtrywfAo1",
    "3Zpv4S0-fDBv",
    "Dr49PotrfG01"
   ],
   "name": "Stock_Fundamental.ipynb",
   "provenance": []
  },
  "gpuClass": "standard",
  "kernelspec": {
   "display_name": "Python 3.8.6 64-bit",
   "language": "python",
   "name": "python3"
  },
  "language_info": {
   "codemirror_mode": {
    "name": "ipython",
    "version": 3
   },
   "file_extension": ".py",
   "mimetype": "text/x-python",
   "name": "python",
   "nbconvert_exporter": "python",
   "pygments_lexer": "ipython3",
   "version": "3.8.6"
  },
  "vscode": {
   "interpreter": {
    "hash": "a1dc24e770f11933509167a1c29cdaaeb86ecb8b4614cc65da123615b71c0aa2"
   }
  }
 },
 "nbformat": 4,
 "nbformat_minor": 0
}
