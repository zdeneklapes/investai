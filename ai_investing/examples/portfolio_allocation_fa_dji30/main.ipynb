{
 "cells": [
  {
   "cell_type": "code",
   "execution_count": 27,
   "metadata": {
    "collapsed": true
   },
   "outputs": [
    {
     "name": "stdout",
     "output_type": "stream",
     "text": [
      "/Users/zlapik/my-drive-zlapik/0-todo/ai-investing/venv3.10/bin/python\r\n"
     ]
    }
   ],
   "source": [
    "#\n",
    "import sys\n",
    "sys.path.append('..')\n",
    "sys.path.append('../..')\n",
    "sys.path.append('../../..')\n",
    "import main as m\n",
    "\n",
    "#\n",
    "!which python"
   ]
  },
  {
   "cell_type": "code",
   "execution_count": 28,
   "metadata": {
    "collapsed": false
   },
   "outputs": [],
   "source": [
    "\n",
    "m.reload_module(m)\n"
   ]
  },
  {
   "cell_type": "code",
   "execution_count": 29,
   "metadata": {},
   "outputs": [
    {
     "ename": "AttributeError",
     "evalue": "'dict' object has no attribute 'to_csv'",
     "output_type": "error",
     "traceback": [
      "\u001B[0;31m---------------------------------------------------------------------------\u001B[0m",
      "\u001B[0;31mAttributeError\u001B[0m                            Traceback (most recent call last)",
      "Cell \u001B[0;32mIn[29], line 1\u001B[0m\n\u001B[0;32m----> 1\u001B[0m d \u001B[38;5;241m=\u001B[39m \u001B[43mm\u001B[49m\u001B[38;5;241;43m.\u001B[39;49m\u001B[43mt1\u001B[49m\u001B[43m(\u001B[49m\u001B[43m)\u001B[49m\n\u001B[1;32m      2\u001B[0m d[\u001B[38;5;124m'\u001B[39m\u001B[38;5;124md\u001B[39m\u001B[38;5;124m'\u001B[39m]\n",
      "File \u001B[0;32m~/my-drive-zlapik/0-todo/ai-investing/ai_investing/examples/portfolio_allocation_fa_dji30/main.py:265\u001B[0m, in \u001B[0;36mt1\u001B[0;34m()\u001B[0m\n\u001B[1;32m    263\u001B[0m program \u001B[38;5;241m=\u001B[39m initialisation(\u001B[38;5;28;01mFalse\u001B[39;00m)\n\u001B[1;32m    264\u001B[0m d \u001B[38;5;241m=\u001B[39m StockDataset(program)\n\u001B[0;32m--> 265\u001B[0m df \u001B[38;5;241m=\u001B[39m \u001B[43md\u001B[49m\u001B[38;5;241;43m.\u001B[39;49m\u001B[43mpreprocess\u001B[49m\u001B[43m(\u001B[49m\u001B[43m)\u001B[49m\n\u001B[1;32m    266\u001B[0m \u001B[38;5;28;01mreturn\u001B[39;00m {\n\u001B[1;32m    267\u001B[0m     \u001B[38;5;241m1\u001B[39m: \u001B[38;5;241m1\u001B[39m,\n\u001B[1;32m    268\u001B[0m     \u001B[38;5;124m\"\u001B[39m\u001B[38;5;124md\u001B[39m\u001B[38;5;124m\"\u001B[39m: d,\n\u001B[1;32m    269\u001B[0m     \u001B[38;5;124m\"\u001B[39m\u001B[38;5;124mdf\u001B[39m\u001B[38;5;124m\"\u001B[39m: df,\n\u001B[1;32m    270\u001B[0m }\n",
      "File \u001B[0;32m~/my-drive-zlapik/0-todo/ai-investing/ai_investing/examples/portfolio_allocation_fa_dji30/main.py:68\u001B[0m, in \u001B[0;36mStockDataset.preprocess\u001B[0;34m(self)\u001B[0m\n\u001B[1;32m     62\u001B[0m \u001B[38;5;66;03m# df = self.add_ta_features(df)\u001B[39;00m\n\u001B[1;32m     63\u001B[0m \u001B[38;5;66;03m# df = self.add_fa_features(df)\u001B[39;00m\n\u001B[1;32m     64\u001B[0m \u001B[38;5;66;03m# df = self.add_candlestick_features(df)\u001B[39;00m\n\u001B[1;32m     65\u001B[0m \n\u001B[1;32m     66\u001B[0m \u001B[38;5;66;03m# save dataset\u001B[39;00m\n\u001B[1;32m     67\u001B[0m \u001B[38;5;28mself\u001B[39m\u001B[38;5;241m.\u001B[39mdataset \u001B[38;5;241m=\u001B[39m df\n\u001B[0;32m---> 68\u001B[0m \u001B[38;5;28;43mself\u001B[39;49m\u001B[38;5;241;43m.\u001B[39;49m\u001B[43msave\u001B[49m\u001B[43m(\u001B[49m\u001B[43m)\u001B[49m\n\u001B[1;32m     69\u001B[0m \u001B[38;5;28;01mreturn\u001B[39;00m df\n",
      "File \u001B[0;32m~/my-drive-zlapik/0-todo/ai-investing/ai_investing/examples/portfolio_allocation_fa_dji30/main.py:184\u001B[0m, in \u001B[0;36mStockDataset.save\u001B[0;34m(self)\u001B[0m\n\u001B[1;32m    182\u001B[0m \u001B[38;5;28;01mdef\u001B[39;00m \u001B[38;5;21msave\u001B[39m(\u001B[38;5;28mself\u001B[39m) \u001B[38;5;241m-\u001B[39m\u001B[38;5;241m>\u001B[39m \u001B[38;5;28;01mNone\u001B[39;00m:\n\u001B[1;32m    183\u001B[0m \u001B[38;5;250m    \u001B[39m\u001B[38;5;124;03m\"\"\"Save dataset\"\"\"\u001B[39;00m\n\u001B[0;32m--> 184\u001B[0m     \u001B[38;5;28;43mself\u001B[39;49m\u001B[38;5;241;43m.\u001B[39;49m\u001B[43mdataset\u001B[49m\u001B[38;5;241;43m.\u001B[39;49m\u001B[43mto_csv\u001B[49m(\u001B[38;5;28mself\u001B[39m\u001B[38;5;241m.\u001B[39mprogram\u001B[38;5;241m.\u001B[39margs\u001B[38;5;241m.\u001B[39mdataset, index\u001B[38;5;241m=\u001B[39m\u001B[38;5;28;01mFalse\u001B[39;00m)\n",
      "\u001B[0;31mAttributeError\u001B[0m: 'dict' object has no attribute 'to_csv'"
     ]
    }
   ],
   "source": [
    "\n",
    "d = m.t1()\n",
    "d['d']\n"
   ]
  },
  {
   "cell_type": "code",
   "execution_count": null,
   "outputs": [],
   "source": [],
   "metadata": {
    "collapsed": false
   }
  }
 ],
 "metadata": {
  "kernelspec": {
   "display_name": "venv3.10",
   "language": "python",
   "name": "venv3.10"
  },
  "language_info": {
   "codemirror_mode": {
    "name": "ipython",
    "version": 3
   },
   "file_extension": ".py",
   "mimetype": "text/x-python",
   "name": "python",
   "nbconvert_exporter": "python",
   "pygments_lexer": "ipython3",
   "version": "3.10.8"
  }
 },
 "nbformat": 4,
 "nbformat_minor": 0
}
