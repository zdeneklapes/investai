{
 "cells": [
  {
   "cell_type": "code",
   "execution_count": null,
   "metadata": {
    "collapsed": true,
    "pycharm": {
     "is_executing": true
    }
   },
   "outputs": [
    {
     "name": "stderr",
     "output_type": "stream",
     "text": [
      "/Users/zlapik/my-drive-zlapik/0-todo/ai-investing/venv3.10/lib/python3.10/site-packages/pyfolio/pos.py:26: UserWarning: Module \"zipline.assets\" not found; multipliers will not be applied to position notionals.\n",
      "  warnings.warn(\n"
     ]
    }
   ],
   "source": [
    "#\n",
    "import sys\n",
    "\n",
    "sys.path.append('../..')\n",
    "import main as m\n",
    "\n",
    "#\n",
    "!which python"
   ]
  },
  {
   "cell_type": "code",
   "execution_count": null,
   "outputs": [],
   "source": [
    "\n",
    "m.reload_module(m)\n"
   ],
   "metadata": {
    "collapsed": false,
    "pycharm": {
     "is_executing": true
    }
   }
  },
  {
   "cell_type": "code",
   "execution_count": null,
   "metadata": {
    "pycharm": {
     "is_executing": true
    }
   },
   "outputs": [],
   "source": [
    "\n",
    "sys.argv=['--test']\n",
    "try:\n",
    "    program = m.initialisation()\n",
    "except Exception as e:\n",
    "    print(e)\n",
    "dataset = m.stock_dataset(program)\n"
   ]
  },
  {
   "cell_type": "code",
   "execution_count": null,
   "outputs": [
    {
     "name": "stderr",
     "output_type": "stream",
     "text": [
      "/Users/zlapik/my-drive-zlapik/0-todo/ai-investing/venv3.10/lib/python3.10/site-packages/pyfolio/timeseries.py:724: FutureWarning: The default dtype for empty Series will be 'object' instead of 'float64' in a future version. Specify a dtype explicitly to silence this warning.\n",
      "  stats = pd.Series()\n",
      "/Users/zlapik/my-drive-zlapik/0-todo/ai-investing/venv3.10/lib/python3.10/site-packages/pyfolio/plotting.py:648: FutureWarning: iteritems is deprecated and will be removed in a future version. Use .items instead.\n",
      "  for stat, value in perf_stats[column].iteritems():\n"
     ]
    },
    {
     "data": {
      "text/plain": "<IPython.core.display.HTML object>",
      "text/html": "<table border=\"1\" class=\"dataframe\">\n  <thead>\n    <tr style=\"text-align: right;\"><th>Start date</th><td colspan=2>2020-01-08</td></tr>\n    <tr style=\"text-align: right;\"><th>End date</th><td colspan=2>2022-12-15</td></tr>\n    <tr style=\"text-align: right;\"><th>Total months</th><td colspan=2>35</td></tr>\n    <tr style=\"text-align: right;\">\n      <th></th>\n      <th>Backtest</th>\n    </tr>\n  </thead>\n  <tbody>\n    <tr>\n      <th>Annual return</th>\n      <td>7.431%</td>\n    </tr>\n    <tr>\n      <th>Cumulative returns</th>\n      <td>23.499%</td>\n    </tr>\n    <tr>\n      <th>Annual volatility</th>\n      <td>24.52%</td>\n    </tr>\n    <tr>\n      <th>Sharpe ratio</th>\n      <td>0.42</td>\n    </tr>\n    <tr>\n      <th>Calmar ratio</th>\n      <td>0.23</td>\n    </tr>\n    <tr>\n      <th>Stability</th>\n      <td>0.59</td>\n    </tr>\n    <tr>\n      <th>Max drawdown</th>\n      <td>-32.691%</td>\n    </tr>\n    <tr>\n      <th>Omega ratio</th>\n      <td>1.09</td>\n    </tr>\n    <tr>\n      <th>Sortino ratio</th>\n      <td>0.59</td>\n    </tr>\n    <tr>\n      <th>Skew</th>\n      <td>-0.26</td>\n    </tr>\n    <tr>\n      <th>Kurtosis</th>\n      <td>13.13</td>\n    </tr>\n    <tr>\n      <th>Tail ratio</th>\n      <td>0.90</td>\n    </tr>\n    <tr>\n      <th>Daily value at risk</th>\n      <td>-3.049%</td>\n    </tr>\n    <tr>\n      <th>Alpha</th>\n      <td>0.02</td>\n    </tr>\n    <tr>\n      <th>Beta</th>\n      <td>0.96</td>\n    </tr>\n  </tbody>\n</table>"
     },
     "metadata": {},
     "output_type": "display_data"
    },
    {
     "data": {
      "text/plain": "<IPython.core.display.HTML object>",
      "text/html": "<table border=\"1\" class=\"dataframe\">\n  <thead>\n    <tr style=\"text-align: right;\">\n      <th>Worst drawdown periods</th>\n      <th>Net drawdown in %</th>\n      <th>Peak date</th>\n      <th>Valley date</th>\n      <th>Recovery date</th>\n      <th>Duration</th>\n    </tr>\n  </thead>\n  <tbody>\n    <tr>\n      <th>0</th>\n      <td>32.69</td>\n      <td>2020-02-12</td>\n      <td>2020-03-23</td>\n      <td>2020-09-02</td>\n      <td>146</td>\n    </tr>\n    <tr>\n      <th>1</th>\n      <td>19.42</td>\n      <td>2022-01-04</td>\n      <td>2022-09-30</td>\n      <td>NaT</td>\n      <td>NaN</td>\n    </tr>\n    <tr>\n      <th>2</th>\n      <td>8.54</td>\n      <td>2020-09-02</td>\n      <td>2020-10-28</td>\n      <td>2020-11-09</td>\n      <td>49</td>\n    </tr>\n    <tr>\n      <th>3</th>\n      <td>6.94</td>\n      <td>2021-11-08</td>\n      <td>2021-12-01</td>\n      <td>2021-12-28</td>\n      <td>37</td>\n    </tr>\n    <tr>\n      <th>4</th>\n      <td>4.67</td>\n      <td>2021-08-16</td>\n      <td>2021-09-21</td>\n      <td>2021-10-29</td>\n      <td>55</td>\n    </tr>\n  </tbody>\n</table>"
     },
     "metadata": {},
     "output_type": "display_data"
    },
    {
     "name": "stderr",
     "output_type": "stream",
     "text": [
      "/Users/zlapik/my-drive-zlapik/0-todo/ai-investing/venv3.10/lib/python3.10/site-packages/pyfolio/plotting.py:805: FutureWarning: The default dtype for empty Series will be 'object' instead of 'float64' in a future version. Specify a dtype explicitly to silence this warning.\n",
      "  oos_cum_returns = pd.Series([])\n",
      "/Users/zlapik/my-drive-zlapik/0-todo/ai-investing/venv3.10/lib/python3.10/site-packages/pyfolio/plotting.py:805: FutureWarning: The default dtype for empty Series will be 'object' instead of 'float64' in a future version. Specify a dtype explicitly to silence this warning.\n",
      "  oos_cum_returns = pd.Series([])\n",
      "/Users/zlapik/my-drive-zlapik/0-todo/ai-investing/venv3.10/lib/python3.10/site-packages/pyfolio/plotting.py:805: FutureWarning: The default dtype for empty Series will be 'object' instead of 'float64' in a future version. Specify a dtype explicitly to silence this warning.\n",
      "  oos_cum_returns = pd.Series([])\n",
      "/Users/zlapik/my-drive-zlapik/0-todo/ai-investing/venv3.10/lib/python3.10/site-packages/pyfolio/timeseries.py:541: FutureWarning: The default dtype for empty Series will be 'object' instead of 'float64' in a future version. Specify a dtype explicitly to silence this warning.\n",
      "  out = pd.Series(index=returns.index)\n",
      "/Users/zlapik/my-drive-zlapik/0-todo/ai-investing/venv3.10/lib/python3.10/site-packages/pyfolio/timeseries.py:541: FutureWarning: The default dtype for empty Series will be 'object' instead of 'float64' in a future version. Specify a dtype explicitly to silence this warning.\n",
      "  out = pd.Series(index=returns.index)\n",
      "/Users/zlapik/my-drive-zlapik/0-todo/ai-investing/venv3.10/lib/python3.10/site-packages/pyfolio/timeseries.py:1230: FutureWarning: Indexing a timezone-aware DatetimeIndex with a timezone-naive datetime is deprecated and will raise KeyError in a future version. Use a timezone-aware object instead.\n",
      "  period = returns_dupe.loc[start:end]\n"
     ]
    },
    {
     "data": {
      "text/plain": "<IPython.core.display.HTML object>",
      "text/html": "<table border=\"1\" class=\"dataframe\">\n  <thead>\n    <tr style=\"text-align: right;\">\n      <th>Stress Events</th>\n      <th>mean</th>\n      <th>min</th>\n      <th>max</th>\n    </tr>\n  </thead>\n  <tbody>\n    <tr>\n      <th>New Normal</th>\n      <td>0.04%</td>\n      <td>-11.79%</td>\n      <td>10.90%</td>\n    </tr>\n  </tbody>\n</table>"
     },
     "metadata": {},
     "output_type": "display_data"
    },
    {
     "name": "stderr",
     "output_type": "stream",
     "text": [
      "/Users/zlapik/my-drive-zlapik/0-todo/ai-investing/venv3.10/lib/python3.10/site-packages/pyfolio/timeseries.py:1230: FutureWarning: Indexing a timezone-aware DatetimeIndex with a timezone-naive datetime is deprecated and will raise KeyError in a future version. Use a timezone-aware object instead.\n",
      "  period = returns_dupe.loc[start:end]\n",
      "/Users/zlapik/my-drive-zlapik/0-todo/ai-investing/venv3.10/lib/python3.10/site-packages/pyfolio/timeseries.py:724: FutureWarning: The default dtype for empty Series will be 'object' instead of 'float64' in a future version. Specify a dtype explicitly to silence this warning.\n",
      "  stats = pd.Series()\n"
     ]
    },
    {
     "name": "stdout",
     "output_type": "stream",
     "text": [
      "\n",
      "\n",
      "\n",
      "\n",
      "\n",
      "model_100_steps_memory.json\n"
     ]
    },
    {
     "name": "stderr",
     "output_type": "stream",
     "text": [
      "/Users/zlapik/my-drive-zlapik/0-todo/ai-investing/venv3.10/lib/python3.10/site-packages/pyfolio/plotting.py:648: FutureWarning: iteritems is deprecated and will be removed in a future version. Use .items instead.\n",
      "  for stat, value in perf_stats[column].iteritems():\n"
     ]
    },
    {
     "data": {
      "text/plain": "<IPython.core.display.HTML object>",
      "text/html": "<table border=\"1\" class=\"dataframe\">\n  <thead>\n    <tr style=\"text-align: right;\"><th>Start date</th><td colspan=2>2020-01-08</td></tr>\n    <tr style=\"text-align: right;\"><th>End date</th><td colspan=2>2022-12-15</td></tr>\n    <tr style=\"text-align: right;\"><th>Total months</th><td colspan=2>35</td></tr>\n    <tr style=\"text-align: right;\">\n      <th></th>\n      <th>Backtest</th>\n    </tr>\n  </thead>\n  <tbody>\n    <tr>\n      <th>Annual return</th>\n      <td>5.79%</td>\n    </tr>\n    <tr>\n      <th>Cumulative returns</th>\n      <td>18.026%</td>\n    </tr>\n    <tr>\n      <th>Annual volatility</th>\n      <td>24.864%</td>\n    </tr>\n    <tr>\n      <th>Sharpe ratio</th>\n      <td>0.35</td>\n    </tr>\n    <tr>\n      <th>Calmar ratio</th>\n      <td>0.17</td>\n    </tr>\n    <tr>\n      <th>Stability</th>\n      <td>0.49</td>\n    </tr>\n    <tr>\n      <th>Max drawdown</th>\n      <td>-34.276%</td>\n    </tr>\n    <tr>\n      <th>Omega ratio</th>\n      <td>1.07</td>\n    </tr>\n    <tr>\n      <th>Sortino ratio</th>\n      <td>0.50</td>\n    </tr>\n    <tr>\n      <th>Skew</th>\n      <td>-0.13</td>\n    </tr>\n    <tr>\n      <th>Kurtosis</th>\n      <td>13.70</td>\n    </tr>\n    <tr>\n      <th>Tail ratio</th>\n      <td>0.91</td>\n    </tr>\n    <tr>\n      <th>Daily value at risk</th>\n      <td>-3.098%</td>\n    </tr>\n    <tr>\n      <th>Alpha</th>\n      <td>0.01</td>\n    </tr>\n    <tr>\n      <th>Beta</th>\n      <td>0.97</td>\n    </tr>\n  </tbody>\n</table>"
     },
     "metadata": {},
     "output_type": "display_data"
    },
    {
     "data": {
      "text/plain": "<IPython.core.display.HTML object>",
      "text/html": "<table border=\"1\" class=\"dataframe\">\n  <thead>\n    <tr style=\"text-align: right;\">\n      <th>Worst drawdown periods</th>\n      <th>Net drawdown in %</th>\n      <th>Peak date</th>\n      <th>Valley date</th>\n      <th>Recovery date</th>\n      <th>Duration</th>\n    </tr>\n  </thead>\n  <tbody>\n    <tr>\n      <th>0</th>\n      <td>34.28</td>\n      <td>2020-02-12</td>\n      <td>2020-03-23</td>\n      <td>2020-11-09</td>\n      <td>194</td>\n    </tr>\n    <tr>\n      <th>1</th>\n      <td>23.98</td>\n      <td>2022-01-04</td>\n      <td>2022-09-30</td>\n      <td>NaT</td>\n      <td>NaN</td>\n    </tr>\n    <tr>\n      <th>2</th>\n      <td>6.54</td>\n      <td>2021-11-08</td>\n      <td>2021-12-01</td>\n      <td>2021-12-27</td>\n      <td>36</td>\n    </tr>\n    <tr>\n      <th>3</th>\n      <td>4.20</td>\n      <td>2021-08-16</td>\n      <td>2021-09-21</td>\n      <td>2021-10-19</td>\n      <td>47</td>\n    </tr>\n    <tr>\n      <th>4</th>\n      <td>4.07</td>\n      <td>2021-06-04</td>\n      <td>2021-06-18</td>\n      <td>2021-07-12</td>\n      <td>27</td>\n    </tr>\n  </tbody>\n</table>"
     },
     "metadata": {},
     "output_type": "display_data"
    },
    {
     "name": "stderr",
     "output_type": "stream",
     "text": [
      "/Users/zlapik/my-drive-zlapik/0-todo/ai-investing/venv3.10/lib/python3.10/site-packages/pyfolio/plotting.py:805: FutureWarning: The default dtype for empty Series will be 'object' instead of 'float64' in a future version. Specify a dtype explicitly to silence this warning.\n",
      "  oos_cum_returns = pd.Series([])\n",
      "/Users/zlapik/my-drive-zlapik/0-todo/ai-investing/venv3.10/lib/python3.10/site-packages/pyfolio/plotting.py:805: FutureWarning: The default dtype for empty Series will be 'object' instead of 'float64' in a future version. Specify a dtype explicitly to silence this warning.\n",
      "  oos_cum_returns = pd.Series([])\n",
      "/Users/zlapik/my-drive-zlapik/0-todo/ai-investing/venv3.10/lib/python3.10/site-packages/pyfolio/plotting.py:805: FutureWarning: The default dtype for empty Series will be 'object' instead of 'float64' in a future version. Specify a dtype explicitly to silence this warning.\n",
      "  oos_cum_returns = pd.Series([])\n",
      "/Users/zlapik/my-drive-zlapik/0-todo/ai-investing/venv3.10/lib/python3.10/site-packages/pyfolio/timeseries.py:541: FutureWarning: The default dtype for empty Series will be 'object' instead of 'float64' in a future version. Specify a dtype explicitly to silence this warning.\n",
      "  out = pd.Series(index=returns.index)\n",
      "/Users/zlapik/my-drive-zlapik/0-todo/ai-investing/venv3.10/lib/python3.10/site-packages/pyfolio/timeseries.py:541: FutureWarning: The default dtype for empty Series will be 'object' instead of 'float64' in a future version. Specify a dtype explicitly to silence this warning.\n",
      "  out = pd.Series(index=returns.index)\n",
      "/Users/zlapik/my-drive-zlapik/0-todo/ai-investing/venv3.10/lib/python3.10/site-packages/pyfolio/timeseries.py:1230: FutureWarning: Indexing a timezone-aware DatetimeIndex with a timezone-naive datetime is deprecated and will raise KeyError in a future version. Use a timezone-aware object instead.\n",
      "  period = returns_dupe.loc[start:end]\n"
     ]
    },
    {
     "data": {
      "text/plain": "<IPython.core.display.HTML object>",
      "text/html": "<table border=\"1\" class=\"dataframe\">\n  <thead>\n    <tr style=\"text-align: right;\">\n      <th>Stress Events</th>\n      <th>mean</th>\n      <th>min</th>\n      <th>max</th>\n    </tr>\n  </thead>\n  <tbody>\n    <tr>\n      <th>New Normal</th>\n      <td>0.03%</td>\n      <td>-11.60%</td>\n      <td>11.58%</td>\n    </tr>\n  </tbody>\n</table>"
     },
     "metadata": {},
     "output_type": "display_data"
    },
    {
     "name": "stderr",
     "output_type": "stream",
     "text": [
      "/Users/zlapik/my-drive-zlapik/0-todo/ai-investing/venv3.10/lib/python3.10/site-packages/pyfolio/timeseries.py:1230: FutureWarning: Indexing a timezone-aware DatetimeIndex with a timezone-naive datetime is deprecated and will raise KeyError in a future version. Use a timezone-aware object instead.\n",
      "  period = returns_dupe.loc[start:end]\n"
     ]
    },
    {
     "name": "stdout",
     "output_type": "stream",
     "text": [
      "\n",
      "\n",
      "\n",
      "\n",
      "\n",
      "model_200_steps_memory.json\n"
     ]
    },
    {
     "name": "stderr",
     "output_type": "stream",
     "text": [
      "/Users/zlapik/my-drive-zlapik/0-todo/ai-investing/venv3.10/lib/python3.10/site-packages/pyfolio/timeseries.py:724: FutureWarning: The default dtype for empty Series will be 'object' instead of 'float64' in a future version. Specify a dtype explicitly to silence this warning.\n",
      "  stats = pd.Series()\n",
      "/Users/zlapik/my-drive-zlapik/0-todo/ai-investing/venv3.10/lib/python3.10/site-packages/pyfolio/plotting.py:648: FutureWarning: iteritems is deprecated and will be removed in a future version. Use .items instead.\n",
      "  for stat, value in perf_stats[column].iteritems():\n"
     ]
    },
    {
     "data": {
      "text/plain": "<IPython.core.display.HTML object>",
      "text/html": "<table border=\"1\" class=\"dataframe\">\n  <thead>\n    <tr style=\"text-align: right;\"><th>Start date</th><td colspan=2>2020-01-08</td></tr>\n    <tr style=\"text-align: right;\"><th>End date</th><td colspan=2>2022-12-15</td></tr>\n    <tr style=\"text-align: right;\"><th>Total months</th><td colspan=2>35</td></tr>\n    <tr style=\"text-align: right;\">\n      <th></th>\n      <th>Backtest</th>\n    </tr>\n  </thead>\n  <tbody>\n    <tr>\n      <th>Annual return</th>\n      <td>6.152%</td>\n    </tr>\n    <tr>\n      <th>Cumulative returns</th>\n      <td>19.22%</td>\n    </tr>\n    <tr>\n      <th>Annual volatility</th>\n      <td>24.635%</td>\n    </tr>\n    <tr>\n      <th>Sharpe ratio</th>\n      <td>0.37</td>\n    </tr>\n    <tr>\n      <th>Calmar ratio</th>\n      <td>0.18</td>\n    </tr>\n    <tr>\n      <th>Stability</th>\n      <td>0.49</td>\n    </tr>\n    <tr>\n      <th>Max drawdown</th>\n      <td>-34.172%</td>\n    </tr>\n    <tr>\n      <th>Omega ratio</th>\n      <td>1.08</td>\n    </tr>\n    <tr>\n      <th>Sortino ratio</th>\n      <td>0.51</td>\n    </tr>\n    <tr>\n      <th>Skew</th>\n      <td>-0.26</td>\n    </tr>\n    <tr>\n      <th>Kurtosis</th>\n      <td>12.79</td>\n    </tr>\n    <tr>\n      <th>Tail ratio</th>\n      <td>0.89</td>\n    </tr>\n    <tr>\n      <th>Daily value at risk</th>\n      <td>-3.068%</td>\n    </tr>\n    <tr>\n      <th>Alpha</th>\n      <td>0.01</td>\n    </tr>\n    <tr>\n      <th>Beta</th>\n      <td>0.96</td>\n    </tr>\n  </tbody>\n</table>"
     },
     "metadata": {},
     "output_type": "display_data"
    },
    {
     "data": {
      "text/plain": "<IPython.core.display.HTML object>",
      "text/html": "<table border=\"1\" class=\"dataframe\">\n  <thead>\n    <tr style=\"text-align: right;\">\n      <th>Worst drawdown periods</th>\n      <th>Net drawdown in %</th>\n      <th>Peak date</th>\n      <th>Valley date</th>\n      <th>Recovery date</th>\n      <th>Duration</th>\n    </tr>\n  </thead>\n  <tbody>\n    <tr>\n      <th>0</th>\n      <td>34.17</td>\n      <td>2020-02-12</td>\n      <td>2020-03-23</td>\n      <td>2020-11-09</td>\n      <td>194</td>\n    </tr>\n    <tr>\n      <th>1</th>\n      <td>23.52</td>\n      <td>2022-01-04</td>\n      <td>2022-09-30</td>\n      <td>NaT</td>\n      <td>NaN</td>\n    </tr>\n    <tr>\n      <th>2</th>\n      <td>6.70</td>\n      <td>2021-11-08</td>\n      <td>2021-12-01</td>\n      <td>2021-12-27</td>\n      <td>36</td>\n    </tr>\n    <tr>\n      <th>3</th>\n      <td>5.23</td>\n      <td>2021-08-16</td>\n      <td>2021-09-21</td>\n      <td>2021-11-03</td>\n      <td>58</td>\n    </tr>\n    <tr>\n      <th>4</th>\n      <td>4.19</td>\n      <td>2021-06-04</td>\n      <td>2021-06-18</td>\n      <td>2021-07-09</td>\n      <td>26</td>\n    </tr>\n  </tbody>\n</table>"
     },
     "metadata": {},
     "output_type": "display_data"
    },
    {
     "name": "stderr",
     "output_type": "stream",
     "text": [
      "/Users/zlapik/my-drive-zlapik/0-todo/ai-investing/venv3.10/lib/python3.10/site-packages/pyfolio/plotting.py:805: FutureWarning: The default dtype for empty Series will be 'object' instead of 'float64' in a future version. Specify a dtype explicitly to silence this warning.\n",
      "  oos_cum_returns = pd.Series([])\n",
      "/Users/zlapik/my-drive-zlapik/0-todo/ai-investing/venv3.10/lib/python3.10/site-packages/pyfolio/plotting.py:805: FutureWarning: The default dtype for empty Series will be 'object' instead of 'float64' in a future version. Specify a dtype explicitly to silence this warning.\n",
      "  oos_cum_returns = pd.Series([])\n",
      "/Users/zlapik/my-drive-zlapik/0-todo/ai-investing/venv3.10/lib/python3.10/site-packages/pyfolio/plotting.py:805: FutureWarning: The default dtype for empty Series will be 'object' instead of 'float64' in a future version. Specify a dtype explicitly to silence this warning.\n",
      "  oos_cum_returns = pd.Series([])\n",
      "/Users/zlapik/my-drive-zlapik/0-todo/ai-investing/venv3.10/lib/python3.10/site-packages/pyfolio/timeseries.py:541: FutureWarning: The default dtype for empty Series will be 'object' instead of 'float64' in a future version. Specify a dtype explicitly to silence this warning.\n",
      "  out = pd.Series(index=returns.index)\n",
      "/Users/zlapik/my-drive-zlapik/0-todo/ai-investing/venv3.10/lib/python3.10/site-packages/pyfolio/timeseries.py:541: FutureWarning: The default dtype for empty Series will be 'object' instead of 'float64' in a future version. Specify a dtype explicitly to silence this warning.\n",
      "  out = pd.Series(index=returns.index)\n",
      "/Users/zlapik/my-drive-zlapik/0-todo/ai-investing/venv3.10/lib/python3.10/site-packages/pyfolio/timeseries.py:1230: FutureWarning: Indexing a timezone-aware DatetimeIndex with a timezone-naive datetime is deprecated and will raise KeyError in a future version. Use a timezone-aware object instead.\n",
      "  period = returns_dupe.loc[start:end]\n"
     ]
    },
    {
     "data": {
      "text/plain": "<IPython.core.display.HTML object>",
      "text/html": "<table border=\"1\" class=\"dataframe\">\n  <thead>\n    <tr style=\"text-align: right;\">\n      <th>Stress Events</th>\n      <th>mean</th>\n      <th>min</th>\n      <th>max</th>\n    </tr>\n  </thead>\n  <tbody>\n    <tr>\n      <th>New Normal</th>\n      <td>0.03%</td>\n      <td>-11.20%</td>\n      <td>10.47%</td>\n    </tr>\n  </tbody>\n</table>"
     },
     "metadata": {},
     "output_type": "display_data"
    },
    {
     "name": "stderr",
     "output_type": "stream",
     "text": [
      "/Users/zlapik/my-drive-zlapik/0-todo/ai-investing/venv3.10/lib/python3.10/site-packages/pyfolio/timeseries.py:1230: FutureWarning: Indexing a timezone-aware DatetimeIndex with a timezone-naive datetime is deprecated and will raise KeyError in a future version. Use a timezone-aware object instead.\n",
      "  period = returns_dupe.loc[start:end]\n"
     ]
    },
    {
     "name": "stdout",
     "output_type": "stream",
     "text": [
      "\n",
      "\n",
      "\n",
      "\n",
      "\n",
      "model_300_steps_memory.json\n"
     ]
    },
    {
     "name": "stderr",
     "output_type": "stream",
     "text": [
      "/Users/zlapik/my-drive-zlapik/0-todo/ai-investing/venv3.10/lib/python3.10/site-packages/pyfolio/timeseries.py:724: FutureWarning: The default dtype for empty Series will be 'object' instead of 'float64' in a future version. Specify a dtype explicitly to silence this warning.\n",
      "  stats = pd.Series()\n",
      "/Users/zlapik/my-drive-zlapik/0-todo/ai-investing/venv3.10/lib/python3.10/site-packages/pyfolio/plotting.py:648: FutureWarning: iteritems is deprecated and will be removed in a future version. Use .items instead.\n",
      "  for stat, value in perf_stats[column].iteritems():\n"
     ]
    },
    {
     "data": {
      "text/plain": "<IPython.core.display.HTML object>",
      "text/html": "<table border=\"1\" class=\"dataframe\">\n  <thead>\n    <tr style=\"text-align: right;\"><th>Start date</th><td colspan=2>2020-01-08</td></tr>\n    <tr style=\"text-align: right;\"><th>End date</th><td colspan=2>2022-12-15</td></tr>\n    <tr style=\"text-align: right;\"><th>Total months</th><td colspan=2>35</td></tr>\n    <tr style=\"text-align: right;\">\n      <th></th>\n      <th>Backtest</th>\n    </tr>\n  </thead>\n  <tbody>\n    <tr>\n      <th>Annual return</th>\n      <td>6.786%</td>\n    </tr>\n    <tr>\n      <th>Cumulative returns</th>\n      <td>21.326%</td>\n    </tr>\n    <tr>\n      <th>Annual volatility</th>\n      <td>24.812%</td>\n    </tr>\n    <tr>\n      <th>Sharpe ratio</th>\n      <td>0.39</td>\n    </tr>\n    <tr>\n      <th>Calmar ratio</th>\n      <td>0.21</td>\n    </tr>\n    <tr>\n      <th>Stability</th>\n      <td>0.48</td>\n    </tr>\n    <tr>\n      <th>Max drawdown</th>\n      <td>-33.003%</td>\n    </tr>\n    <tr>\n      <th>Omega ratio</th>\n      <td>1.08</td>\n    </tr>\n    <tr>\n      <th>Sortino ratio</th>\n      <td>0.55</td>\n    </tr>\n    <tr>\n      <th>Skew</th>\n      <td>-0.27</td>\n    </tr>\n    <tr>\n      <th>Kurtosis</th>\n      <td>12.59</td>\n    </tr>\n    <tr>\n      <th>Tail ratio</th>\n      <td>0.90</td>\n    </tr>\n    <tr>\n      <th>Daily value at risk</th>\n      <td>-3.088%</td>\n    </tr>\n    <tr>\n      <th>Alpha</th>\n      <td>0.02</td>\n    </tr>\n    <tr>\n      <th>Beta</th>\n      <td>0.97</td>\n    </tr>\n  </tbody>\n</table>"
     },
     "metadata": {},
     "output_type": "display_data"
    },
    {
     "data": {
      "text/plain": "<IPython.core.display.HTML object>",
      "text/html": "<table border=\"1\" class=\"dataframe\">\n  <thead>\n    <tr style=\"text-align: right;\">\n      <th>Worst drawdown periods</th>\n      <th>Net drawdown in %</th>\n      <th>Peak date</th>\n      <th>Valley date</th>\n      <th>Recovery date</th>\n      <th>Duration</th>\n    </tr>\n  </thead>\n  <tbody>\n    <tr>\n      <th>0</th>\n      <td>33.00</td>\n      <td>2020-02-12</td>\n      <td>2020-03-23</td>\n      <td>2020-09-02</td>\n      <td>146</td>\n    </tr>\n    <tr>\n      <th>1</th>\n      <td>23.27</td>\n      <td>2022-01-04</td>\n      <td>2022-09-30</td>\n      <td>NaT</td>\n      <td>NaN</td>\n    </tr>\n    <tr>\n      <th>2</th>\n      <td>8.38</td>\n      <td>2020-09-02</td>\n      <td>2020-10-28</td>\n      <td>2020-11-09</td>\n      <td>49</td>\n    </tr>\n    <tr>\n      <th>3</th>\n      <td>6.23</td>\n      <td>2021-11-08</td>\n      <td>2021-12-01</td>\n      <td>2021-12-27</td>\n      <td>36</td>\n    </tr>\n    <tr>\n      <th>4</th>\n      <td>4.96</td>\n      <td>2021-08-16</td>\n      <td>2021-09-30</td>\n      <td>2021-11-05</td>\n      <td>60</td>\n    </tr>\n  </tbody>\n</table>"
     },
     "metadata": {},
     "output_type": "display_data"
    },
    {
     "name": "stderr",
     "output_type": "stream",
     "text": [
      "/Users/zlapik/my-drive-zlapik/0-todo/ai-investing/venv3.10/lib/python3.10/site-packages/pyfolio/plotting.py:805: FutureWarning: The default dtype for empty Series will be 'object' instead of 'float64' in a future version. Specify a dtype explicitly to silence this warning.\n",
      "  oos_cum_returns = pd.Series([])\n",
      "/Users/zlapik/my-drive-zlapik/0-todo/ai-investing/venv3.10/lib/python3.10/site-packages/pyfolio/plotting.py:805: FutureWarning: The default dtype for empty Series will be 'object' instead of 'float64' in a future version. Specify a dtype explicitly to silence this warning.\n",
      "  oos_cum_returns = pd.Series([])\n",
      "/Users/zlapik/my-drive-zlapik/0-todo/ai-investing/venv3.10/lib/python3.10/site-packages/pyfolio/plotting.py:805: FutureWarning: The default dtype for empty Series will be 'object' instead of 'float64' in a future version. Specify a dtype explicitly to silence this warning.\n",
      "  oos_cum_returns = pd.Series([])\n",
      "/Users/zlapik/my-drive-zlapik/0-todo/ai-investing/venv3.10/lib/python3.10/site-packages/pyfolio/timeseries.py:541: FutureWarning: The default dtype for empty Series will be 'object' instead of 'float64' in a future version. Specify a dtype explicitly to silence this warning.\n",
      "  out = pd.Series(index=returns.index)\n",
      "/Users/zlapik/my-drive-zlapik/0-todo/ai-investing/venv3.10/lib/python3.10/site-packages/pyfolio/timeseries.py:541: FutureWarning: The default dtype for empty Series will be 'object' instead of 'float64' in a future version. Specify a dtype explicitly to silence this warning.\n",
      "  out = pd.Series(index=returns.index)\n",
      "/Users/zlapik/my-drive-zlapik/0-todo/ai-investing/venv3.10/lib/python3.10/site-packages/pyfolio/timeseries.py:1230: FutureWarning: Indexing a timezone-aware DatetimeIndex with a timezone-naive datetime is deprecated and will raise KeyError in a future version. Use a timezone-aware object instead.\n",
      "  period = returns_dupe.loc[start:end]\n"
     ]
    },
    {
     "data": {
      "text/plain": "<IPython.core.display.HTML object>",
      "text/html": "<table border=\"1\" class=\"dataframe\">\n  <thead>\n    <tr style=\"text-align: right;\">\n      <th>Stress Events</th>\n      <th>mean</th>\n      <th>min</th>\n      <th>max</th>\n    </tr>\n  </thead>\n  <tbody>\n    <tr>\n      <th>New Normal</th>\n      <td>0.04%</td>\n      <td>-11.53%</td>\n      <td>10.62%</td>\n    </tr>\n  </tbody>\n</table>"
     },
     "metadata": {},
     "output_type": "display_data"
    },
    {
     "name": "stderr",
     "output_type": "stream",
     "text": [
      "/Users/zlapik/my-drive-zlapik/0-todo/ai-investing/venv3.10/lib/python3.10/site-packages/pyfolio/timeseries.py:1230: FutureWarning: Indexing a timezone-aware DatetimeIndex with a timezone-naive datetime is deprecated and will raise KeyError in a future version. Use a timezone-aware object instead.\n",
      "  period = returns_dupe.loc[start:end]\n"
     ]
    },
    {
     "name": "stdout",
     "output_type": "stream",
     "text": [
      "\n",
      "\n",
      "\n",
      "\n",
      "\n",
      "model_400_steps_memory.json\n"
     ]
    },
    {
     "name": "stderr",
     "output_type": "stream",
     "text": [
      "/Users/zlapik/my-drive-zlapik/0-todo/ai-investing/venv3.10/lib/python3.10/site-packages/pyfolio/timeseries.py:724: FutureWarning: The default dtype for empty Series will be 'object' instead of 'float64' in a future version. Specify a dtype explicitly to silence this warning.\n",
      "  stats = pd.Series()\n",
      "/Users/zlapik/my-drive-zlapik/0-todo/ai-investing/venv3.10/lib/python3.10/site-packages/pyfolio/plotting.py:648: FutureWarning: iteritems is deprecated and will be removed in a future version. Use .items instead.\n",
      "  for stat, value in perf_stats[column].iteritems():\n"
     ]
    },
    {
     "data": {
      "text/plain": "<IPython.core.display.HTML object>",
      "text/html": "<table border=\"1\" class=\"dataframe\">\n  <thead>\n    <tr style=\"text-align: right;\"><th>Start date</th><td colspan=2>2020-01-08</td></tr>\n    <tr style=\"text-align: right;\"><th>End date</th><td colspan=2>2022-12-15</td></tr>\n    <tr style=\"text-align: right;\"><th>Total months</th><td colspan=2>35</td></tr>\n    <tr style=\"text-align: right;\">\n      <th></th>\n      <th>Backtest</th>\n    </tr>\n  </thead>\n  <tbody>\n    <tr>\n      <th>Annual return</th>\n      <td>7.284%</td>\n    </tr>\n    <tr>\n      <th>Cumulative returns</th>\n      <td>23.0%</td>\n    </tr>\n    <tr>\n      <th>Annual volatility</th>\n      <td>24.623%</td>\n    </tr>\n    <tr>\n      <th>Sharpe ratio</th>\n      <td>0.41</td>\n    </tr>\n    <tr>\n      <th>Calmar ratio</th>\n      <td>0.21</td>\n    </tr>\n    <tr>\n      <th>Stability</th>\n      <td>0.55</td>\n    </tr>\n    <tr>\n      <th>Max drawdown</th>\n      <td>-33.982%</td>\n    </tr>\n    <tr>\n      <th>Omega ratio</th>\n      <td>1.08</td>\n    </tr>\n    <tr>\n      <th>Sortino ratio</th>\n      <td>0.57</td>\n    </tr>\n    <tr>\n      <th>Skew</th>\n      <td>-0.32</td>\n    </tr>\n    <tr>\n      <th>Kurtosis</th>\n      <td>12.01</td>\n    </tr>\n    <tr>\n      <th>Tail ratio</th>\n      <td>0.93</td>\n    </tr>\n    <tr>\n      <th>Daily value at risk</th>\n      <td>-3.062%</td>\n    </tr>\n    <tr>\n      <th>Alpha</th>\n      <td>0.02</td>\n    </tr>\n    <tr>\n      <th>Beta</th>\n      <td>0.96</td>\n    </tr>\n  </tbody>\n</table>"
     },
     "metadata": {},
     "output_type": "display_data"
    },
    {
     "data": {
      "text/plain": "<IPython.core.display.HTML object>",
      "text/html": "<table border=\"1\" class=\"dataframe\">\n  <thead>\n    <tr style=\"text-align: right;\">\n      <th>Worst drawdown periods</th>\n      <th>Net drawdown in %</th>\n      <th>Peak date</th>\n      <th>Valley date</th>\n      <th>Recovery date</th>\n      <th>Duration</th>\n    </tr>\n  </thead>\n  <tbody>\n    <tr>\n      <th>0</th>\n      <td>33.98</td>\n      <td>2020-02-12</td>\n      <td>2020-03-23</td>\n      <td>2020-11-09</td>\n      <td>194</td>\n    </tr>\n    <tr>\n      <th>1</th>\n      <td>21.87</td>\n      <td>2022-01-04</td>\n      <td>2022-09-30</td>\n      <td>NaT</td>\n      <td>NaN</td>\n    </tr>\n    <tr>\n      <th>2</th>\n      <td>7.18</td>\n      <td>2021-11-08</td>\n      <td>2021-12-01</td>\n      <td>2021-12-27</td>\n      <td>36</td>\n    </tr>\n    <tr>\n      <th>3</th>\n      <td>4.53</td>\n      <td>2021-09-02</td>\n      <td>2021-09-21</td>\n      <td>2021-10-20</td>\n      <td>35</td>\n    </tr>\n    <tr>\n      <th>4</th>\n      <td>4.06</td>\n      <td>2021-01-20</td>\n      <td>2021-01-29</td>\n      <td>2021-02-08</td>\n      <td>14</td>\n    </tr>\n  </tbody>\n</table>"
     },
     "metadata": {},
     "output_type": "display_data"
    },
    {
     "name": "stderr",
     "output_type": "stream",
     "text": [
      "/Users/zlapik/my-drive-zlapik/0-todo/ai-investing/venv3.10/lib/python3.10/site-packages/pyfolio/plotting.py:805: FutureWarning: The default dtype for empty Series will be 'object' instead of 'float64' in a future version. Specify a dtype explicitly to silence this warning.\n",
      "  oos_cum_returns = pd.Series([])\n",
      "/Users/zlapik/my-drive-zlapik/0-todo/ai-investing/venv3.10/lib/python3.10/site-packages/pyfolio/plotting.py:805: FutureWarning: The default dtype for empty Series will be 'object' instead of 'float64' in a future version. Specify a dtype explicitly to silence this warning.\n",
      "  oos_cum_returns = pd.Series([])\n",
      "/Users/zlapik/my-drive-zlapik/0-todo/ai-investing/venv3.10/lib/python3.10/site-packages/pyfolio/plotting.py:805: FutureWarning: The default dtype for empty Series will be 'object' instead of 'float64' in a future version. Specify a dtype explicitly to silence this warning.\n",
      "  oos_cum_returns = pd.Series([])\n",
      "/Users/zlapik/my-drive-zlapik/0-todo/ai-investing/venv3.10/lib/python3.10/site-packages/pyfolio/timeseries.py:541: FutureWarning: The default dtype for empty Series will be 'object' instead of 'float64' in a future version. Specify a dtype explicitly to silence this warning.\n",
      "  out = pd.Series(index=returns.index)\n",
      "/Users/zlapik/my-drive-zlapik/0-todo/ai-investing/venv3.10/lib/python3.10/site-packages/pyfolio/timeseries.py:541: FutureWarning: The default dtype for empty Series will be 'object' instead of 'float64' in a future version. Specify a dtype explicitly to silence this warning.\n",
      "  out = pd.Series(index=returns.index)\n",
      "/Users/zlapik/my-drive-zlapik/0-todo/ai-investing/venv3.10/lib/python3.10/site-packages/pyfolio/timeseries.py:1230: FutureWarning: Indexing a timezone-aware DatetimeIndex with a timezone-naive datetime is deprecated and will raise KeyError in a future version. Use a timezone-aware object instead.\n",
      "  period = returns_dupe.loc[start:end]\n"
     ]
    },
    {
     "data": {
      "text/plain": "<IPython.core.display.HTML object>",
      "text/html": "<table border=\"1\" class=\"dataframe\">\n  <thead>\n    <tr style=\"text-align: right;\">\n      <th>Stress Events</th>\n      <th>mean</th>\n      <th>min</th>\n      <th>max</th>\n    </tr>\n  </thead>\n  <tbody>\n    <tr>\n      <th>New Normal</th>\n      <td>0.04%</td>\n      <td>-11.19%</td>\n      <td>10.26%</td>\n    </tr>\n  </tbody>\n</table>"
     },
     "metadata": {},
     "output_type": "display_data"
    },
    {
     "name": "stderr",
     "output_type": "stream",
     "text": [
      "/Users/zlapik/my-drive-zlapik/0-todo/ai-investing/venv3.10/lib/python3.10/site-packages/pyfolio/timeseries.py:1230: FutureWarning: Indexing a timezone-aware DatetimeIndex with a timezone-naive datetime is deprecated and will raise KeyError in a future version. Use a timezone-aware object instead.\n",
      "  period = returns_dupe.loc[start:end]\n"
     ]
    },
    {
     "name": "stdout",
     "output_type": "stream",
     "text": [
      "\n",
      "\n",
      "\n",
      "\n",
      "\n",
      "model_500_steps_memory.json\n"
     ]
    },
    {
     "name": "stderr",
     "output_type": "stream",
     "text": [
      "/Users/zlapik/my-drive-zlapik/0-todo/ai-investing/venv3.10/lib/python3.10/site-packages/pyfolio/timeseries.py:724: FutureWarning: The default dtype for empty Series will be 'object' instead of 'float64' in a future version. Specify a dtype explicitly to silence this warning.\n",
      "  stats = pd.Series()\n",
      "/Users/zlapik/my-drive-zlapik/0-todo/ai-investing/venv3.10/lib/python3.10/site-packages/pyfolio/plotting.py:648: FutureWarning: iteritems is deprecated and will be removed in a future version. Use .items instead.\n",
      "  for stat, value in perf_stats[column].iteritems():\n"
     ]
    },
    {
     "data": {
      "text/plain": "<IPython.core.display.HTML object>",
      "text/html": "<table border=\"1\" class=\"dataframe\">\n  <thead>\n    <tr style=\"text-align: right;\"><th>Start date</th><td colspan=2>2020-01-08</td></tr>\n    <tr style=\"text-align: right;\"><th>End date</th><td colspan=2>2022-12-15</td></tr>\n    <tr style=\"text-align: right;\"><th>Total months</th><td colspan=2>35</td></tr>\n    <tr style=\"text-align: right;\">\n      <th></th>\n      <th>Backtest</th>\n    </tr>\n  </thead>\n  <tbody>\n    <tr>\n      <th>Annual return</th>\n      <td>6.751%</td>\n    </tr>\n    <tr>\n      <th>Cumulative returns</th>\n      <td>21.21%</td>\n    </tr>\n    <tr>\n      <th>Annual volatility</th>\n      <td>25.101%</td>\n    </tr>\n    <tr>\n      <th>Sharpe ratio</th>\n      <td>0.39</td>\n    </tr>\n    <tr>\n      <th>Calmar ratio</th>\n      <td>0.21</td>\n    </tr>\n    <tr>\n      <th>Stability</th>\n      <td>0.48</td>\n    </tr>\n    <tr>\n      <th>Max drawdown</th>\n      <td>-32.899%</td>\n    </tr>\n    <tr>\n      <th>Omega ratio</th>\n      <td>1.08</td>\n    </tr>\n    <tr>\n      <th>Sortino ratio</th>\n      <td>0.55</td>\n    </tr>\n    <tr>\n      <th>Skew</th>\n      <td>-0.11</td>\n    </tr>\n    <tr>\n      <th>Kurtosis</th>\n      <td>13.78</td>\n    </tr>\n    <tr>\n      <th>Tail ratio</th>\n      <td>0.90</td>\n    </tr>\n    <tr>\n      <th>Daily value at risk</th>\n      <td>-3.124%</td>\n    </tr>\n    <tr>\n      <th>Alpha</th>\n      <td>0.02</td>\n    </tr>\n    <tr>\n      <th>Beta</th>\n      <td>0.98</td>\n    </tr>\n  </tbody>\n</table>"
     },
     "metadata": {},
     "output_type": "display_data"
    },
    {
     "data": {
      "text/plain": "<IPython.core.display.HTML object>",
      "text/html": "<table border=\"1\" class=\"dataframe\">\n  <thead>\n    <tr style=\"text-align: right;\">\n      <th>Worst drawdown periods</th>\n      <th>Net drawdown in %</th>\n      <th>Peak date</th>\n      <th>Valley date</th>\n      <th>Recovery date</th>\n      <th>Duration</th>\n    </tr>\n  </thead>\n  <tbody>\n    <tr>\n      <th>0</th>\n      <td>32.90</td>\n      <td>2020-02-12</td>\n      <td>2020-03-23</td>\n      <td>2020-08-27</td>\n      <td>142</td>\n    </tr>\n    <tr>\n      <th>1</th>\n      <td>24.02</td>\n      <td>2022-01-04</td>\n      <td>2022-09-30</td>\n      <td>NaT</td>\n      <td>NaN</td>\n    </tr>\n    <tr>\n      <th>2</th>\n      <td>9.66</td>\n      <td>2020-09-02</td>\n      <td>2020-10-30</td>\n      <td>2020-11-10</td>\n      <td>50</td>\n    </tr>\n    <tr>\n      <th>3</th>\n      <td>7.35</td>\n      <td>2021-11-08</td>\n      <td>2021-12-01</td>\n      <td>2021-12-29</td>\n      <td>38</td>\n    </tr>\n    <tr>\n      <th>4</th>\n      <td>4.57</td>\n      <td>2021-08-16</td>\n      <td>2021-09-21</td>\n      <td>2021-10-20</td>\n      <td>48</td>\n    </tr>\n  </tbody>\n</table>"
     },
     "metadata": {},
     "output_type": "display_data"
    },
    {
     "name": "stderr",
     "output_type": "stream",
     "text": [
      "/Users/zlapik/my-drive-zlapik/0-todo/ai-investing/venv3.10/lib/python3.10/site-packages/pyfolio/plotting.py:805: FutureWarning: The default dtype for empty Series will be 'object' instead of 'float64' in a future version. Specify a dtype explicitly to silence this warning.\n",
      "  oos_cum_returns = pd.Series([])\n",
      "/Users/zlapik/my-drive-zlapik/0-todo/ai-investing/venv3.10/lib/python3.10/site-packages/pyfolio/plotting.py:805: FutureWarning: The default dtype for empty Series will be 'object' instead of 'float64' in a future version. Specify a dtype explicitly to silence this warning.\n",
      "  oos_cum_returns = pd.Series([])\n",
      "/Users/zlapik/my-drive-zlapik/0-todo/ai-investing/venv3.10/lib/python3.10/site-packages/pyfolio/plotting.py:805: FutureWarning: The default dtype for empty Series will be 'object' instead of 'float64' in a future version. Specify a dtype explicitly to silence this warning.\n",
      "  oos_cum_returns = pd.Series([])\n",
      "/Users/zlapik/my-drive-zlapik/0-todo/ai-investing/venv3.10/lib/python3.10/site-packages/pyfolio/timeseries.py:541: FutureWarning: The default dtype for empty Series will be 'object' instead of 'float64' in a future version. Specify a dtype explicitly to silence this warning.\n",
      "  out = pd.Series(index=returns.index)\n",
      "/Users/zlapik/my-drive-zlapik/0-todo/ai-investing/venv3.10/lib/python3.10/site-packages/pyfolio/timeseries.py:541: FutureWarning: The default dtype for empty Series will be 'object' instead of 'float64' in a future version. Specify a dtype explicitly to silence this warning.\n",
      "  out = pd.Series(index=returns.index)\n",
      "/Users/zlapik/my-drive-zlapik/0-todo/ai-investing/venv3.10/lib/python3.10/site-packages/pyfolio/timeseries.py:1230: FutureWarning: Indexing a timezone-aware DatetimeIndex with a timezone-naive datetime is deprecated and will raise KeyError in a future version. Use a timezone-aware object instead.\n",
      "  period = returns_dupe.loc[start:end]\n"
     ]
    },
    {
     "data": {
      "text/plain": "<IPython.core.display.HTML object>",
      "text/html": "<table border=\"1\" class=\"dataframe\">\n  <thead>\n    <tr style=\"text-align: right;\">\n      <th>Stress Events</th>\n      <th>mean</th>\n      <th>min</th>\n      <th>max</th>\n    </tr>\n  </thead>\n  <tbody>\n    <tr>\n      <th>New Normal</th>\n      <td>0.04%</td>\n      <td>-11.94%</td>\n      <td>11.50%</td>\n    </tr>\n  </tbody>\n</table>"
     },
     "metadata": {},
     "output_type": "display_data"
    },
    {
     "name": "stderr",
     "output_type": "stream",
     "text": [
      "/Users/zlapik/my-drive-zlapik/0-todo/ai-investing/venv3.10/lib/python3.10/site-packages/pyfolio/timeseries.py:1230: FutureWarning: Indexing a timezone-aware DatetimeIndex with a timezone-naive datetime is deprecated and will raise KeyError in a future version. Use a timezone-aware object instead.\n",
      "  period = returns_dupe.loc[start:end]\n"
     ]
    },
    {
     "name": "stdout",
     "output_type": "stream",
     "text": [
      "\n",
      "\n",
      "\n",
      "\n",
      "\n",
      "model_600_steps_memory.json\n"
     ]
    },
    {
     "name": "stderr",
     "output_type": "stream",
     "text": [
      "/Users/zlapik/my-drive-zlapik/0-todo/ai-investing/venv3.10/lib/python3.10/site-packages/pyfolio/timeseries.py:724: FutureWarning: The default dtype for empty Series will be 'object' instead of 'float64' in a future version. Specify a dtype explicitly to silence this warning.\n",
      "  stats = pd.Series()\n",
      "/Users/zlapik/my-drive-zlapik/0-todo/ai-investing/venv3.10/lib/python3.10/site-packages/pyfolio/plotting.py:648: FutureWarning: iteritems is deprecated and will be removed in a future version. Use .items instead.\n",
      "  for stat, value in perf_stats[column].iteritems():\n"
     ]
    },
    {
     "data": {
      "text/plain": "<IPython.core.display.HTML object>",
      "text/html": "<table border=\"1\" class=\"dataframe\">\n  <thead>\n    <tr style=\"text-align: right;\"><th>Start date</th><td colspan=2>2020-01-08</td></tr>\n    <tr style=\"text-align: right;\"><th>End date</th><td colspan=2>2022-12-15</td></tr>\n    <tr style=\"text-align: right;\"><th>Total months</th><td colspan=2>35</td></tr>\n    <tr style=\"text-align: right;\">\n      <th></th>\n      <th>Backtest</th>\n    </tr>\n  </thead>\n  <tbody>\n    <tr>\n      <th>Annual return</th>\n      <td>4.177%</td>\n    </tr>\n    <tr>\n      <th>Cumulative returns</th>\n      <td>12.804%</td>\n    </tr>\n    <tr>\n      <th>Annual volatility</th>\n      <td>24.621%</td>\n    </tr>\n    <tr>\n      <th>Sharpe ratio</th>\n      <td>0.29</td>\n    </tr>\n    <tr>\n      <th>Calmar ratio</th>\n      <td>0.13</td>\n    </tr>\n    <tr>\n      <th>Stability</th>\n      <td>0.45</td>\n    </tr>\n    <tr>\n      <th>Max drawdown</th>\n      <td>-33.241%</td>\n    </tr>\n    <tr>\n      <th>Omega ratio</th>\n      <td>1.06</td>\n    </tr>\n    <tr>\n      <th>Sortino ratio</th>\n      <td>0.40</td>\n    </tr>\n    <tr>\n      <th>Skew</th>\n      <td>-0.32</td>\n    </tr>\n    <tr>\n      <th>Kurtosis</th>\n      <td>13.31</td>\n    </tr>\n    <tr>\n      <th>Tail ratio</th>\n      <td>0.92</td>\n    </tr>\n    <tr>\n      <th>Daily value at risk</th>\n      <td>-3.074%</td>\n    </tr>\n    <tr>\n      <th>Alpha</th>\n      <td>-0.01</td>\n    </tr>\n    <tr>\n      <th>Beta</th>\n      <td>0.96</td>\n    </tr>\n  </tbody>\n</table>"
     },
     "metadata": {},
     "output_type": "display_data"
    },
    {
     "data": {
      "text/plain": "<IPython.core.display.HTML object>",
      "text/html": "<table border=\"1\" class=\"dataframe\">\n  <thead>\n    <tr style=\"text-align: right;\">\n      <th>Worst drawdown periods</th>\n      <th>Net drawdown in %</th>\n      <th>Peak date</th>\n      <th>Valley date</th>\n      <th>Recovery date</th>\n      <th>Duration</th>\n    </tr>\n  </thead>\n  <tbody>\n    <tr>\n      <th>0</th>\n      <td>33.24</td>\n      <td>2020-02-12</td>\n      <td>2020-03-23</td>\n      <td>2020-12-03</td>\n      <td>212</td>\n    </tr>\n    <tr>\n      <th>1</th>\n      <td>23.41</td>\n      <td>2022-01-12</td>\n      <td>2022-09-30</td>\n      <td>NaT</td>\n      <td>NaN</td>\n    </tr>\n    <tr>\n      <th>2</th>\n      <td>6.70</td>\n      <td>2021-11-08</td>\n      <td>2021-12-01</td>\n      <td>2021-12-27</td>\n      <td>36</td>\n    </tr>\n    <tr>\n      <th>3</th>\n      <td>4.45</td>\n      <td>2021-08-16</td>\n      <td>2021-09-30</td>\n      <td>2021-10-20</td>\n      <td>48</td>\n    </tr>\n    <tr>\n      <th>4</th>\n      <td>4.19</td>\n      <td>2021-01-20</td>\n      <td>2021-01-29</td>\n      <td>2021-02-08</td>\n      <td>14</td>\n    </tr>\n  </tbody>\n</table>"
     },
     "metadata": {},
     "output_type": "display_data"
    },
    {
     "name": "stderr",
     "output_type": "stream",
     "text": [
      "/Users/zlapik/my-drive-zlapik/0-todo/ai-investing/venv3.10/lib/python3.10/site-packages/pyfolio/plotting.py:805: FutureWarning: The default dtype for empty Series will be 'object' instead of 'float64' in a future version. Specify a dtype explicitly to silence this warning.\n",
      "  oos_cum_returns = pd.Series([])\n",
      "/Users/zlapik/my-drive-zlapik/0-todo/ai-investing/venv3.10/lib/python3.10/site-packages/pyfolio/plotting.py:805: FutureWarning: The default dtype for empty Series will be 'object' instead of 'float64' in a future version. Specify a dtype explicitly to silence this warning.\n",
      "  oos_cum_returns = pd.Series([])\n",
      "/Users/zlapik/my-drive-zlapik/0-todo/ai-investing/venv3.10/lib/python3.10/site-packages/pyfolio/plotting.py:805: FutureWarning: The default dtype for empty Series will be 'object' instead of 'float64' in a future version. Specify a dtype explicitly to silence this warning.\n",
      "  oos_cum_returns = pd.Series([])\n",
      "/Users/zlapik/my-drive-zlapik/0-todo/ai-investing/venv3.10/lib/python3.10/site-packages/pyfolio/timeseries.py:541: FutureWarning: The default dtype for empty Series will be 'object' instead of 'float64' in a future version. Specify a dtype explicitly to silence this warning.\n",
      "  out = pd.Series(index=returns.index)\n",
      "/Users/zlapik/my-drive-zlapik/0-todo/ai-investing/venv3.10/lib/python3.10/site-packages/pyfolio/timeseries.py:541: FutureWarning: The default dtype for empty Series will be 'object' instead of 'float64' in a future version. Specify a dtype explicitly to silence this warning.\n",
      "  out = pd.Series(index=returns.index)\n",
      "/Users/zlapik/my-drive-zlapik/0-todo/ai-investing/venv3.10/lib/python3.10/site-packages/pyfolio/timeseries.py:1230: FutureWarning: Indexing a timezone-aware DatetimeIndex with a timezone-naive datetime is deprecated and will raise KeyError in a future version. Use a timezone-aware object instead.\n",
      "  period = returns_dupe.loc[start:end]\n"
     ]
    },
    {
     "data": {
      "text/plain": "<IPython.core.display.HTML object>",
      "text/html": "<table border=\"1\" class=\"dataframe\">\n  <thead>\n    <tr style=\"text-align: right;\">\n      <th>Stress Events</th>\n      <th>mean</th>\n      <th>min</th>\n      <th>max</th>\n    </tr>\n  </thead>\n  <tbody>\n    <tr>\n      <th>New Normal</th>\n      <td>0.03%</td>\n      <td>-11.75%</td>\n      <td>10.32%</td>\n    </tr>\n  </tbody>\n</table>"
     },
     "metadata": {},
     "output_type": "display_data"
    },
    {
     "name": "stderr",
     "output_type": "stream",
     "text": [
      "/Users/zlapik/my-drive-zlapik/0-todo/ai-investing/venv3.10/lib/python3.10/site-packages/pyfolio/timeseries.py:1230: FutureWarning: Indexing a timezone-aware DatetimeIndex with a timezone-naive datetime is deprecated and will raise KeyError in a future version. Use a timezone-aware object instead.\n",
      "  period = returns_dupe.loc[start:end]\n"
     ]
    },
    {
     "name": "stdout",
     "output_type": "stream",
     "text": [
      "\n",
      "\n",
      "\n",
      "\n",
      "\n",
      "model_700_steps_memory.json\n"
     ]
    },
    {
     "name": "stderr",
     "output_type": "stream",
     "text": [
      "/Users/zlapik/my-drive-zlapik/0-todo/ai-investing/venv3.10/lib/python3.10/site-packages/pyfolio/timeseries.py:724: FutureWarning: The default dtype for empty Series will be 'object' instead of 'float64' in a future version. Specify a dtype explicitly to silence this warning.\n",
      "  stats = pd.Series()\n",
      "/Users/zlapik/my-drive-zlapik/0-todo/ai-investing/venv3.10/lib/python3.10/site-packages/pyfolio/plotting.py:648: FutureWarning: iteritems is deprecated and will be removed in a future version. Use .items instead.\n",
      "  for stat, value in perf_stats[column].iteritems():\n"
     ]
    },
    {
     "data": {
      "text/plain": "<IPython.core.display.HTML object>",
      "text/html": "<table border=\"1\" class=\"dataframe\">\n  <thead>\n    <tr style=\"text-align: right;\"><th>Start date</th><td colspan=2>2020-01-08</td></tr>\n    <tr style=\"text-align: right;\"><th>End date</th><td colspan=2>2022-12-15</td></tr>\n    <tr style=\"text-align: right;\"><th>Total months</th><td colspan=2>35</td></tr>\n    <tr style=\"text-align: right;\">\n      <th></th>\n      <th>Backtest</th>\n    </tr>\n  </thead>\n  <tbody>\n    <tr>\n      <th>Annual return</th>\n      <td>3.826%</td>\n    </tr>\n    <tr>\n      <th>Cumulative returns</th>\n      <td>11.69%</td>\n    </tr>\n    <tr>\n      <th>Annual volatility</th>\n      <td>24.776%</td>\n    </tr>\n    <tr>\n      <th>Sharpe ratio</th>\n      <td>0.28</td>\n    </tr>\n    <tr>\n      <th>Calmar ratio</th>\n      <td>0.11</td>\n    </tr>\n    <tr>\n      <th>Stability</th>\n      <td>0.45</td>\n    </tr>\n    <tr>\n      <th>Max drawdown</th>\n      <td>-34.965%</td>\n    </tr>\n    <tr>\n      <th>Omega ratio</th>\n      <td>1.06</td>\n    </tr>\n    <tr>\n      <th>Sortino ratio</th>\n      <td>0.39</td>\n    </tr>\n    <tr>\n      <th>Skew</th>\n      <td>-0.21</td>\n    </tr>\n    <tr>\n      <th>Kurtosis</th>\n      <td>13.33</td>\n    </tr>\n    <tr>\n      <th>Tail ratio</th>\n      <td>0.91</td>\n    </tr>\n    <tr>\n      <th>Daily value at risk</th>\n      <td>-3.094%</td>\n    </tr>\n    <tr>\n      <th>Alpha</th>\n      <td>-0.01</td>\n    </tr>\n    <tr>\n      <th>Beta</th>\n      <td>0.97</td>\n    </tr>\n  </tbody>\n</table>"
     },
     "metadata": {},
     "output_type": "display_data"
    },
    {
     "data": {
      "text/plain": "<IPython.core.display.HTML object>",
      "text/html": "<table border=\"1\" class=\"dataframe\">\n  <thead>\n    <tr style=\"text-align: right;\">\n      <th>Worst drawdown periods</th>\n      <th>Net drawdown in %</th>\n      <th>Peak date</th>\n      <th>Valley date</th>\n      <th>Recovery date</th>\n      <th>Duration</th>\n    </tr>\n  </thead>\n  <tbody>\n    <tr>\n      <th>0</th>\n      <td>34.96</td>\n      <td>2020-02-12</td>\n      <td>2020-03-23</td>\n      <td>2021-01-06</td>\n      <td>236</td>\n    </tr>\n    <tr>\n      <th>1</th>\n      <td>21.29</td>\n      <td>2022-01-04</td>\n      <td>2022-09-30</td>\n      <td>NaT</td>\n      <td>NaN</td>\n    </tr>\n    <tr>\n      <th>2</th>\n      <td>6.18</td>\n      <td>2021-11-08</td>\n      <td>2021-12-01</td>\n      <td>2021-12-27</td>\n      <td>36</td>\n    </tr>\n    <tr>\n      <th>3</th>\n      <td>4.17</td>\n      <td>2021-08-16</td>\n      <td>2021-09-21</td>\n      <td>2021-11-02</td>\n      <td>57</td>\n    </tr>\n    <tr>\n      <th>4</th>\n      <td>3.94</td>\n      <td>2020-01-17</td>\n      <td>2020-01-31</td>\n      <td>2020-02-12</td>\n      <td>19</td>\n    </tr>\n  </tbody>\n</table>"
     },
     "metadata": {},
     "output_type": "display_data"
    },
    {
     "name": "stderr",
     "output_type": "stream",
     "text": [
      "/Users/zlapik/my-drive-zlapik/0-todo/ai-investing/venv3.10/lib/python3.10/site-packages/pyfolio/plotting.py:805: FutureWarning: The default dtype for empty Series will be 'object' instead of 'float64' in a future version. Specify a dtype explicitly to silence this warning.\n",
      "  oos_cum_returns = pd.Series([])\n",
      "/Users/zlapik/my-drive-zlapik/0-todo/ai-investing/venv3.10/lib/python3.10/site-packages/pyfolio/plotting.py:805: FutureWarning: The default dtype for empty Series will be 'object' instead of 'float64' in a future version. Specify a dtype explicitly to silence this warning.\n",
      "  oos_cum_returns = pd.Series([])\n",
      "/Users/zlapik/my-drive-zlapik/0-todo/ai-investing/venv3.10/lib/python3.10/site-packages/pyfolio/plotting.py:805: FutureWarning: The default dtype for empty Series will be 'object' instead of 'float64' in a future version. Specify a dtype explicitly to silence this warning.\n",
      "  oos_cum_returns = pd.Series([])\n",
      "/Users/zlapik/my-drive-zlapik/0-todo/ai-investing/venv3.10/lib/python3.10/site-packages/pyfolio/timeseries.py:541: FutureWarning: The default dtype for empty Series will be 'object' instead of 'float64' in a future version. Specify a dtype explicitly to silence this warning.\n",
      "  out = pd.Series(index=returns.index)\n",
      "/Users/zlapik/my-drive-zlapik/0-todo/ai-investing/venv3.10/lib/python3.10/site-packages/pyfolio/timeseries.py:541: FutureWarning: The default dtype for empty Series will be 'object' instead of 'float64' in a future version. Specify a dtype explicitly to silence this warning.\n",
      "  out = pd.Series(index=returns.index)\n",
      "/Users/zlapik/my-drive-zlapik/0-todo/ai-investing/venv3.10/lib/python3.10/site-packages/pyfolio/timeseries.py:1230: FutureWarning: Indexing a timezone-aware DatetimeIndex with a timezone-naive datetime is deprecated and will raise KeyError in a future version. Use a timezone-aware object instead.\n",
      "  period = returns_dupe.loc[start:end]\n"
     ]
    },
    {
     "data": {
      "text/plain": "<IPython.core.display.HTML object>",
      "text/html": "<table border=\"1\" class=\"dataframe\">\n  <thead>\n    <tr style=\"text-align: right;\">\n      <th>Stress Events</th>\n      <th>mean</th>\n      <th>min</th>\n      <th>max</th>\n    </tr>\n  </thead>\n  <tbody>\n    <tr>\n      <th>New Normal</th>\n      <td>0.03%</td>\n      <td>-11.49%</td>\n      <td>11.22%</td>\n    </tr>\n  </tbody>\n</table>"
     },
     "metadata": {},
     "output_type": "display_data"
    },
    {
     "name": "stderr",
     "output_type": "stream",
     "text": [
      "/Users/zlapik/my-drive-zlapik/0-todo/ai-investing/venv3.10/lib/python3.10/site-packages/pyfolio/timeseries.py:1230: FutureWarning: Indexing a timezone-aware DatetimeIndex with a timezone-naive datetime is deprecated and will raise KeyError in a future version. Use a timezone-aware object instead.\n",
      "  period = returns_dupe.loc[start:end]\n"
     ]
    },
    {
     "name": "stdout",
     "output_type": "stream",
     "text": [
      "\n",
      "\n",
      "\n",
      "\n",
      "\n",
      "model_800_steps_memory.json\n"
     ]
    },
    {
     "name": "stderr",
     "output_type": "stream",
     "text": [
      "/Users/zlapik/my-drive-zlapik/0-todo/ai-investing/venv3.10/lib/python3.10/site-packages/pyfolio/timeseries.py:724: FutureWarning: The default dtype for empty Series will be 'object' instead of 'float64' in a future version. Specify a dtype explicitly to silence this warning.\n",
      "  stats = pd.Series()\n",
      "/Users/zlapik/my-drive-zlapik/0-todo/ai-investing/venv3.10/lib/python3.10/site-packages/pyfolio/plotting.py:648: FutureWarning: iteritems is deprecated and will be removed in a future version. Use .items instead.\n",
      "  for stat, value in perf_stats[column].iteritems():\n"
     ]
    },
    {
     "data": {
      "text/plain": "<IPython.core.display.HTML object>",
      "text/html": "<table border=\"1\" class=\"dataframe\">\n  <thead>\n    <tr style=\"text-align: right;\"><th>Start date</th><td colspan=2>2020-01-08</td></tr>\n    <tr style=\"text-align: right;\"><th>End date</th><td colspan=2>2022-12-15</td></tr>\n    <tr style=\"text-align: right;\"><th>Total months</th><td colspan=2>35</td></tr>\n    <tr style=\"text-align: right;\">\n      <th></th>\n      <th>Backtest</th>\n    </tr>\n  </thead>\n  <tbody>\n    <tr>\n      <th>Annual return</th>\n      <td>5.279%</td>\n    </tr>\n    <tr>\n      <th>Cumulative returns</th>\n      <td>16.354%</td>\n    </tr>\n    <tr>\n      <th>Annual volatility</th>\n      <td>24.712%</td>\n    </tr>\n    <tr>\n      <th>Sharpe ratio</th>\n      <td>0.33</td>\n    </tr>\n    <tr>\n      <th>Calmar ratio</th>\n      <td>0.16</td>\n    </tr>\n    <tr>\n      <th>Stability</th>\n      <td>0.43</td>\n    </tr>\n    <tr>\n      <th>Max drawdown</th>\n      <td>-33.738%</td>\n    </tr>\n    <tr>\n      <th>Omega ratio</th>\n      <td>1.07</td>\n    </tr>\n    <tr>\n      <th>Sortino ratio</th>\n      <td>0.47</td>\n    </tr>\n    <tr>\n      <th>Skew</th>\n      <td>-0.30</td>\n    </tr>\n    <tr>\n      <th>Kurtosis</th>\n      <td>13.45</td>\n    </tr>\n    <tr>\n      <th>Tail ratio</th>\n      <td>0.92</td>\n    </tr>\n    <tr>\n      <th>Daily value at risk</th>\n      <td>-3.081%</td>\n    </tr>\n    <tr>\n      <th>Alpha</th>\n      <td>0.00</td>\n    </tr>\n    <tr>\n      <th>Beta</th>\n      <td>0.97</td>\n    </tr>\n  </tbody>\n</table>"
     },
     "metadata": {},
     "output_type": "display_data"
    },
    {
     "data": {
      "text/plain": "<IPython.core.display.HTML object>",
      "text/html": "<table border=\"1\" class=\"dataframe\">\n  <thead>\n    <tr style=\"text-align: right;\">\n      <th>Worst drawdown periods</th>\n      <th>Net drawdown in %</th>\n      <th>Peak date</th>\n      <th>Valley date</th>\n      <th>Recovery date</th>\n      <th>Duration</th>\n    </tr>\n  </thead>\n  <tbody>\n    <tr>\n      <th>0</th>\n      <td>33.74</td>\n      <td>2020-02-12</td>\n      <td>2020-03-23</td>\n      <td>2020-08-28</td>\n      <td>143</td>\n    </tr>\n    <tr>\n      <th>1</th>\n      <td>23.12</td>\n      <td>2022-01-04</td>\n      <td>2022-09-30</td>\n      <td>NaT</td>\n      <td>NaN</td>\n    </tr>\n    <tr>\n      <th>2</th>\n      <td>9.03</td>\n      <td>2020-09-02</td>\n      <td>2020-10-30</td>\n      <td>2020-11-10</td>\n      <td>50</td>\n    </tr>\n    <tr>\n      <th>3</th>\n      <td>7.93</td>\n      <td>2021-08-16</td>\n      <td>2021-12-01</td>\n      <td>2022-01-03</td>\n      <td>101</td>\n    </tr>\n    <tr>\n      <th>4</th>\n      <td>4.05</td>\n      <td>2021-01-20</td>\n      <td>2021-01-29</td>\n      <td>2021-02-08</td>\n      <td>14</td>\n    </tr>\n  </tbody>\n</table>"
     },
     "metadata": {},
     "output_type": "display_data"
    },
    {
     "name": "stderr",
     "output_type": "stream",
     "text": [
      "/Users/zlapik/my-drive-zlapik/0-todo/ai-investing/venv3.10/lib/python3.10/site-packages/pyfolio/plotting.py:805: FutureWarning: The default dtype for empty Series will be 'object' instead of 'float64' in a future version. Specify a dtype explicitly to silence this warning.\n",
      "  oos_cum_returns = pd.Series([])\n",
      "/Users/zlapik/my-drive-zlapik/0-todo/ai-investing/venv3.10/lib/python3.10/site-packages/pyfolio/plotting.py:805: FutureWarning: The default dtype for empty Series will be 'object' instead of 'float64' in a future version. Specify a dtype explicitly to silence this warning.\n",
      "  oos_cum_returns = pd.Series([])\n",
      "/Users/zlapik/my-drive-zlapik/0-todo/ai-investing/venv3.10/lib/python3.10/site-packages/pyfolio/plotting.py:805: FutureWarning: The default dtype for empty Series will be 'object' instead of 'float64' in a future version. Specify a dtype explicitly to silence this warning.\n",
      "  oos_cum_returns = pd.Series([])\n",
      "/Users/zlapik/my-drive-zlapik/0-todo/ai-investing/venv3.10/lib/python3.10/site-packages/pyfolio/timeseries.py:541: FutureWarning: The default dtype for empty Series will be 'object' instead of 'float64' in a future version. Specify a dtype explicitly to silence this warning.\n",
      "  out = pd.Series(index=returns.index)\n",
      "/Users/zlapik/my-drive-zlapik/0-todo/ai-investing/venv3.10/lib/python3.10/site-packages/pyfolio/timeseries.py:541: FutureWarning: The default dtype for empty Series will be 'object' instead of 'float64' in a future version. Specify a dtype explicitly to silence this warning.\n",
      "  out = pd.Series(index=returns.index)\n",
      "/Users/zlapik/my-drive-zlapik/0-todo/ai-investing/venv3.10/lib/python3.10/site-packages/pyfolio/timeseries.py:1230: FutureWarning: Indexing a timezone-aware DatetimeIndex with a timezone-naive datetime is deprecated and will raise KeyError in a future version. Use a timezone-aware object instead.\n",
      "  period = returns_dupe.loc[start:end]\n"
     ]
    },
    {
     "data": {
      "text/plain": "<IPython.core.display.HTML object>",
      "text/html": "<table border=\"1\" class=\"dataframe\">\n  <thead>\n    <tr style=\"text-align: right;\">\n      <th>Stress Events</th>\n      <th>mean</th>\n      <th>min</th>\n      <th>max</th>\n    </tr>\n  </thead>\n  <tbody>\n    <tr>\n      <th>New Normal</th>\n      <td>0.03%</td>\n      <td>-11.71%</td>\n      <td>11.03%</td>\n    </tr>\n  </tbody>\n</table>"
     },
     "metadata": {},
     "output_type": "display_data"
    },
    {
     "name": "stderr",
     "output_type": "stream",
     "text": [
      "/Users/zlapik/my-drive-zlapik/0-todo/ai-investing/venv3.10/lib/python3.10/site-packages/pyfolio/timeseries.py:1230: FutureWarning: Indexing a timezone-aware DatetimeIndex with a timezone-naive datetime is deprecated and will raise KeyError in a future version. Use a timezone-aware object instead.\n",
      "  period = returns_dupe.loc[start:end]\n"
     ]
    },
    {
     "name": "stdout",
     "output_type": "stream",
     "text": [
      "\n",
      "\n",
      "\n",
      "\n",
      "\n",
      "model_900_steps_memory.json\n"
     ]
    },
    {
     "name": "stderr",
     "output_type": "stream",
     "text": [
      "/Users/zlapik/my-drive-zlapik/0-todo/ai-investing/venv3.10/lib/python3.10/site-packages/pyfolio/timeseries.py:724: FutureWarning: The default dtype for empty Series will be 'object' instead of 'float64' in a future version. Specify a dtype explicitly to silence this warning.\n",
      "  stats = pd.Series()\n",
      "/Users/zlapik/my-drive-zlapik/0-todo/ai-investing/venv3.10/lib/python3.10/site-packages/pyfolio/plotting.py:648: FutureWarning: iteritems is deprecated and will be removed in a future version. Use .items instead.\n",
      "  for stat, value in perf_stats[column].iteritems():\n"
     ]
    },
    {
     "data": {
      "text/plain": "<IPython.core.display.HTML object>",
      "text/html": "<table border=\"1\" class=\"dataframe\">\n  <thead>\n    <tr style=\"text-align: right;\"><th>Start date</th><td colspan=2>2020-01-08</td></tr>\n    <tr style=\"text-align: right;\"><th>End date</th><td colspan=2>2022-12-15</td></tr>\n    <tr style=\"text-align: right;\"><th>Total months</th><td colspan=2>35</td></tr>\n    <tr style=\"text-align: right;\">\n      <th></th>\n      <th>Backtest</th>\n    </tr>\n  </thead>\n  <tbody>\n    <tr>\n      <th>Annual return</th>\n      <td>5.423%</td>\n    </tr>\n    <tr>\n      <th>Cumulative returns</th>\n      <td>16.824%</td>\n    </tr>\n    <tr>\n      <th>Annual volatility</th>\n      <td>24.996%</td>\n    </tr>\n    <tr>\n      <th>Sharpe ratio</th>\n      <td>0.34</td>\n    </tr>\n    <tr>\n      <th>Calmar ratio</th>\n      <td>0.16</td>\n    </tr>\n    <tr>\n      <th>Stability</th>\n      <td>0.48</td>\n    </tr>\n    <tr>\n      <th>Max drawdown</th>\n      <td>-34.407%</td>\n    </tr>\n    <tr>\n      <th>Omega ratio</th>\n      <td>1.07</td>\n    </tr>\n    <tr>\n      <th>Sortino ratio</th>\n      <td>0.47</td>\n    </tr>\n    <tr>\n      <th>Skew</th>\n      <td>-0.31</td>\n    </tr>\n    <tr>\n      <th>Kurtosis</th>\n      <td>14.52</td>\n    </tr>\n    <tr>\n      <th>Tail ratio</th>\n      <td>0.92</td>\n    </tr>\n    <tr>\n      <th>Daily value at risk</th>\n      <td>-3.116%</td>\n    </tr>\n    <tr>\n      <th>Alpha</th>\n      <td>0.00</td>\n    </tr>\n    <tr>\n      <th>Beta</th>\n      <td>0.98</td>\n    </tr>\n  </tbody>\n</table>"
     },
     "metadata": {},
     "output_type": "display_data"
    },
    {
     "data": {
      "text/plain": "<IPython.core.display.HTML object>",
      "text/html": "<table border=\"1\" class=\"dataframe\">\n  <thead>\n    <tr style=\"text-align: right;\">\n      <th>Worst drawdown periods</th>\n      <th>Net drawdown in %</th>\n      <th>Peak date</th>\n      <th>Valley date</th>\n      <th>Recovery date</th>\n      <th>Duration</th>\n    </tr>\n  </thead>\n  <tbody>\n    <tr>\n      <th>0</th>\n      <td>34.41</td>\n      <td>2020-02-12</td>\n      <td>2020-03-23</td>\n      <td>2020-11-10</td>\n      <td>195</td>\n    </tr>\n    <tr>\n      <th>1</th>\n      <td>24.65</td>\n      <td>2022-01-04</td>\n      <td>2022-09-30</td>\n      <td>NaT</td>\n      <td>NaN</td>\n    </tr>\n    <tr>\n      <th>2</th>\n      <td>6.07</td>\n      <td>2021-11-08</td>\n      <td>2021-12-01</td>\n      <td>2021-12-27</td>\n      <td>36</td>\n    </tr>\n    <tr>\n      <th>3</th>\n      <td>4.28</td>\n      <td>2021-09-02</td>\n      <td>2021-09-30</td>\n      <td>2021-10-20</td>\n      <td>35</td>\n    </tr>\n    <tr>\n      <th>4</th>\n      <td>4.17</td>\n      <td>2021-01-20</td>\n      <td>2021-01-29</td>\n      <td>2021-02-08</td>\n      <td>14</td>\n    </tr>\n  </tbody>\n</table>"
     },
     "metadata": {},
     "output_type": "display_data"
    },
    {
     "name": "stderr",
     "output_type": "stream",
     "text": [
      "/Users/zlapik/my-drive-zlapik/0-todo/ai-investing/venv3.10/lib/python3.10/site-packages/pyfolio/plotting.py:805: FutureWarning: The default dtype for empty Series will be 'object' instead of 'float64' in a future version. Specify a dtype explicitly to silence this warning.\n",
      "  oos_cum_returns = pd.Series([])\n",
      "/Users/zlapik/my-drive-zlapik/0-todo/ai-investing/venv3.10/lib/python3.10/site-packages/pyfolio/plotting.py:805: FutureWarning: The default dtype for empty Series will be 'object' instead of 'float64' in a future version. Specify a dtype explicitly to silence this warning.\n",
      "  oos_cum_returns = pd.Series([])\n",
      "/Users/zlapik/my-drive-zlapik/0-todo/ai-investing/venv3.10/lib/python3.10/site-packages/pyfolio/plotting.py:805: FutureWarning: The default dtype for empty Series will be 'object' instead of 'float64' in a future version. Specify a dtype explicitly to silence this warning.\n",
      "  oos_cum_returns = pd.Series([])\n",
      "/Users/zlapik/my-drive-zlapik/0-todo/ai-investing/venv3.10/lib/python3.10/site-packages/pyfolio/timeseries.py:541: FutureWarning: The default dtype for empty Series will be 'object' instead of 'float64' in a future version. Specify a dtype explicitly to silence this warning.\n",
      "  out = pd.Series(index=returns.index)\n",
      "/Users/zlapik/my-drive-zlapik/0-todo/ai-investing/venv3.10/lib/python3.10/site-packages/pyfolio/timeseries.py:541: FutureWarning: The default dtype for empty Series will be 'object' instead of 'float64' in a future version. Specify a dtype explicitly to silence this warning.\n",
      "  out = pd.Series(index=returns.index)\n",
      "/Users/zlapik/my-drive-zlapik/0-todo/ai-investing/venv3.10/lib/python3.10/site-packages/pyfolio/timeseries.py:1230: FutureWarning: Indexing a timezone-aware DatetimeIndex with a timezone-naive datetime is deprecated and will raise KeyError in a future version. Use a timezone-aware object instead.\n",
      "  period = returns_dupe.loc[start:end]\n"
     ]
    },
    {
     "data": {
      "text/plain": "<IPython.core.display.HTML object>",
      "text/html": "<table border=\"1\" class=\"dataframe\">\n  <thead>\n    <tr style=\"text-align: right;\">\n      <th>Stress Events</th>\n      <th>mean</th>\n      <th>min</th>\n      <th>max</th>\n    </tr>\n  </thead>\n  <tbody>\n    <tr>\n      <th>New Normal</th>\n      <td>0.03%</td>\n      <td>-12.55%</td>\n      <td>11.50%</td>\n    </tr>\n  </tbody>\n</table>"
     },
     "metadata": {},
     "output_type": "display_data"
    },
    {
     "name": "stderr",
     "output_type": "stream",
     "text": [
      "/Users/zlapik/my-drive-zlapik/0-todo/ai-investing/venv3.10/lib/python3.10/site-packages/pyfolio/timeseries.py:1230: FutureWarning: Indexing a timezone-aware DatetimeIndex with a timezone-naive datetime is deprecated and will raise KeyError in a future version. Use a timezone-aware object instead.\n",
      "  period = returns_dupe.loc[start:end]\n"
     ]
    },
    {
     "name": "stdout",
     "output_type": "stream",
     "text": [
      "\n",
      "\n",
      "\n",
      "\n",
      "\n",
      "model_1000_steps_memory.json\n"
     ]
    },
    {
     "name": "stderr",
     "output_type": "stream",
     "text": [
      "/Users/zlapik/my-drive-zlapik/0-todo/ai-investing/venv3.10/lib/python3.10/site-packages/pyfolio/timeseries.py:724: FutureWarning: The default dtype for empty Series will be 'object' instead of 'float64' in a future version. Specify a dtype explicitly to silence this warning.\n",
      "  stats = pd.Series()\n",
      "/Users/zlapik/my-drive-zlapik/0-todo/ai-investing/venv3.10/lib/python3.10/site-packages/pyfolio/plotting.py:648: FutureWarning: iteritems is deprecated and will be removed in a future version. Use .items instead.\n",
      "  for stat, value in perf_stats[column].iteritems():\n"
     ]
    },
    {
     "data": {
      "text/plain": "<IPython.core.display.HTML object>",
      "text/html": "<table border=\"1\" class=\"dataframe\">\n  <thead>\n    <tr style=\"text-align: right;\"><th>Start date</th><td colspan=2>2020-01-08</td></tr>\n    <tr style=\"text-align: right;\"><th>End date</th><td colspan=2>2022-12-15</td></tr>\n    <tr style=\"text-align: right;\"><th>Total months</th><td colspan=2>35</td></tr>\n    <tr style=\"text-align: right;\">\n      <th></th>\n      <th>Backtest</th>\n    </tr>\n  </thead>\n  <tbody>\n    <tr>\n      <th>Annual return</th>\n      <td>5.85%</td>\n    </tr>\n    <tr>\n      <th>Cumulative returns</th>\n      <td>18.222%</td>\n    </tr>\n    <tr>\n      <th>Annual volatility</th>\n      <td>24.757%</td>\n    </tr>\n    <tr>\n      <th>Sharpe ratio</th>\n      <td>0.35</td>\n    </tr>\n    <tr>\n      <th>Calmar ratio</th>\n      <td>0.18</td>\n    </tr>\n    <tr>\n      <th>Stability</th>\n      <td>0.48</td>\n    </tr>\n    <tr>\n      <th>Max drawdown</th>\n      <td>-32.447%</td>\n    </tr>\n    <tr>\n      <th>Omega ratio</th>\n      <td>1.07</td>\n    </tr>\n    <tr>\n      <th>Sortino ratio</th>\n      <td>0.50</td>\n    </tr>\n    <tr>\n      <th>Skew</th>\n      <td>-0.18</td>\n    </tr>\n    <tr>\n      <th>Kurtosis</th>\n      <td>12.44</td>\n    </tr>\n    <tr>\n      <th>Tail ratio</th>\n      <td>0.88</td>\n    </tr>\n    <tr>\n      <th>Daily value at risk</th>\n      <td>-3.084%</td>\n    </tr>\n    <tr>\n      <th>Alpha</th>\n      <td>0.01</td>\n    </tr>\n    <tr>\n      <th>Beta</th>\n      <td>0.97</td>\n    </tr>\n  </tbody>\n</table>"
     },
     "metadata": {},
     "output_type": "display_data"
    },
    {
     "data": {
      "text/plain": "<IPython.core.display.HTML object>",
      "text/html": "<table border=\"1\" class=\"dataframe\">\n  <thead>\n    <tr style=\"text-align: right;\">\n      <th>Worst drawdown periods</th>\n      <th>Net drawdown in %</th>\n      <th>Peak date</th>\n      <th>Valley date</th>\n      <th>Recovery date</th>\n      <th>Duration</th>\n    </tr>\n  </thead>\n  <tbody>\n    <tr>\n      <th>0</th>\n      <td>32.45</td>\n      <td>2020-01-17</td>\n      <td>2020-03-23</td>\n      <td>2020-08-26</td>\n      <td>159</td>\n    </tr>\n    <tr>\n      <th>1</th>\n      <td>24.12</td>\n      <td>2022-01-04</td>\n      <td>2022-09-30</td>\n      <td>NaT</td>\n      <td>NaN</td>\n    </tr>\n    <tr>\n      <th>2</th>\n      <td>9.78</td>\n      <td>2020-09-02</td>\n      <td>2020-10-30</td>\n      <td>2020-11-10</td>\n      <td>50</td>\n    </tr>\n    <tr>\n      <th>3</th>\n      <td>7.36</td>\n      <td>2021-11-08</td>\n      <td>2021-12-01</td>\n      <td>2021-12-29</td>\n      <td>38</td>\n    </tr>\n    <tr>\n      <th>4</th>\n      <td>4.62</td>\n      <td>2021-08-16</td>\n      <td>2021-09-21</td>\n      <td>2021-11-01</td>\n      <td>56</td>\n    </tr>\n  </tbody>\n</table>"
     },
     "metadata": {},
     "output_type": "display_data"
    },
    {
     "name": "stderr",
     "output_type": "stream",
     "text": [
      "/Users/zlapik/my-drive-zlapik/0-todo/ai-investing/venv3.10/lib/python3.10/site-packages/pyfolio/tears.py:488: RuntimeWarning: More than 20 figures have been opened. Figures created through the pyplot interface (`matplotlib.pyplot.figure`) are retained until explicitly closed and may consume too much memory. (To control this warning, see the rcParam `figure.max_open_warning`). Consider using `matplotlib.pyplot.close()`.\n",
      "  fig = plt.figure(figsize=(14, vertical_sections * 6))\n",
      "/Users/zlapik/my-drive-zlapik/0-todo/ai-investing/venv3.10/lib/python3.10/site-packages/pyfolio/plotting.py:805: FutureWarning: The default dtype for empty Series will be 'object' instead of 'float64' in a future version. Specify a dtype explicitly to silence this warning.\n",
      "  oos_cum_returns = pd.Series([])\n",
      "/Users/zlapik/my-drive-zlapik/0-todo/ai-investing/venv3.10/lib/python3.10/site-packages/pyfolio/plotting.py:805: FutureWarning: The default dtype for empty Series will be 'object' instead of 'float64' in a future version. Specify a dtype explicitly to silence this warning.\n",
      "  oos_cum_returns = pd.Series([])\n",
      "/Users/zlapik/my-drive-zlapik/0-todo/ai-investing/venv3.10/lib/python3.10/site-packages/pyfolio/plotting.py:805: FutureWarning: The default dtype for empty Series will be 'object' instead of 'float64' in a future version. Specify a dtype explicitly to silence this warning.\n",
      "  oos_cum_returns = pd.Series([])\n",
      "/Users/zlapik/my-drive-zlapik/0-todo/ai-investing/venv3.10/lib/python3.10/site-packages/pyfolio/timeseries.py:541: FutureWarning: The default dtype for empty Series will be 'object' instead of 'float64' in a future version. Specify a dtype explicitly to silence this warning.\n",
      "  out = pd.Series(index=returns.index)\n",
      "/Users/zlapik/my-drive-zlapik/0-todo/ai-investing/venv3.10/lib/python3.10/site-packages/pyfolio/timeseries.py:541: FutureWarning: The default dtype for empty Series will be 'object' instead of 'float64' in a future version. Specify a dtype explicitly to silence this warning.\n",
      "  out = pd.Series(index=returns.index)\n",
      "/Users/zlapik/my-drive-zlapik/0-todo/ai-investing/venv3.10/lib/python3.10/site-packages/pyfolio/timeseries.py:1230: FutureWarning: Indexing a timezone-aware DatetimeIndex with a timezone-naive datetime is deprecated and will raise KeyError in a future version. Use a timezone-aware object instead.\n",
      "  period = returns_dupe.loc[start:end]\n"
     ]
    },
    {
     "data": {
      "text/plain": "<IPython.core.display.HTML object>",
      "text/html": "<table border=\"1\" class=\"dataframe\">\n  <thead>\n    <tr style=\"text-align: right;\">\n      <th>Stress Events</th>\n      <th>mean</th>\n      <th>min</th>\n      <th>max</th>\n    </tr>\n  </thead>\n  <tbody>\n    <tr>\n      <th>New Normal</th>\n      <td>0.03%</td>\n      <td>-11.21%</td>\n      <td>10.58%</td>\n    </tr>\n  </tbody>\n</table>"
     },
     "metadata": {},
     "output_type": "display_data"
    },
    {
     "name": "stderr",
     "output_type": "stream",
     "text": [
      "/Users/zlapik/my-drive-zlapik/0-todo/ai-investing/venv3.10/lib/python3.10/site-packages/pyfolio/timeseries.py:1230: FutureWarning: Indexing a timezone-aware DatetimeIndex with a timezone-naive datetime is deprecated and will raise KeyError in a future version. Use a timezone-aware object instead.\n",
      "  period = returns_dupe.loc[start:end]\n"
     ]
    },
    {
     "name": "stdout",
     "output_type": "stream",
     "text": [
      "\n",
      "\n",
      "\n",
      "\n",
      "\n",
      "model_1100_steps_memory.json\n"
     ]
    },
    {
     "name": "stderr",
     "output_type": "stream",
     "text": [
      "/Users/zlapik/my-drive-zlapik/0-todo/ai-investing/venv3.10/lib/python3.10/site-packages/pyfolio/timeseries.py:724: FutureWarning: The default dtype for empty Series will be 'object' instead of 'float64' in a future version. Specify a dtype explicitly to silence this warning.\n",
      "  stats = pd.Series()\n",
      "/Users/zlapik/my-drive-zlapik/0-todo/ai-investing/venv3.10/lib/python3.10/site-packages/pyfolio/plotting.py:648: FutureWarning: iteritems is deprecated and will be removed in a future version. Use .items instead.\n",
      "  for stat, value in perf_stats[column].iteritems():\n"
     ]
    },
    {
     "data": {
      "text/plain": "<IPython.core.display.HTML object>",
      "text/html": "<table border=\"1\" class=\"dataframe\">\n  <thead>\n    <tr style=\"text-align: right;\"><th>Start date</th><td colspan=2>2020-01-08</td></tr>\n    <tr style=\"text-align: right;\"><th>End date</th><td colspan=2>2022-12-15</td></tr>\n    <tr style=\"text-align: right;\"><th>Total months</th><td colspan=2>35</td></tr>\n    <tr style=\"text-align: right;\">\n      <th></th>\n      <th>Backtest</th>\n    </tr>\n  </thead>\n  <tbody>\n    <tr>\n      <th>Annual return</th>\n      <td>3.659%</td>\n    </tr>\n    <tr>\n      <th>Cumulative returns</th>\n      <td>11.16%</td>\n    </tr>\n    <tr>\n      <th>Annual volatility</th>\n      <td>24.866%</td>\n    </tr>\n    <tr>\n      <th>Sharpe ratio</th>\n      <td>0.27</td>\n    </tr>\n    <tr>\n      <th>Calmar ratio</th>\n      <td>0.11</td>\n    </tr>\n    <tr>\n      <th>Stability</th>\n      <td>0.40</td>\n    </tr>\n    <tr>\n      <th>Max drawdown</th>\n      <td>-33.807%</td>\n    </tr>\n    <tr>\n      <th>Omega ratio</th>\n      <td>1.06</td>\n    </tr>\n    <tr>\n      <th>Sortino ratio</th>\n      <td>0.38</td>\n    </tr>\n    <tr>\n      <th>Skew</th>\n      <td>-0.37</td>\n    </tr>\n    <tr>\n      <th>Kurtosis</th>\n      <td>12.64</td>\n    </tr>\n    <tr>\n      <th>Tail ratio</th>\n      <td>0.87</td>\n    </tr>\n    <tr>\n      <th>Daily value at risk</th>\n      <td>-3.106%</td>\n    </tr>\n    <tr>\n      <th>Alpha</th>\n      <td>-0.01</td>\n    </tr>\n    <tr>\n      <th>Beta</th>\n      <td>0.97</td>\n    </tr>\n  </tbody>\n</table>"
     },
     "metadata": {},
     "output_type": "display_data"
    },
    {
     "data": {
      "text/plain": "<IPython.core.display.HTML object>",
      "text/html": "<table border=\"1\" class=\"dataframe\">\n  <thead>\n    <tr style=\"text-align: right;\">\n      <th>Worst drawdown periods</th>\n      <th>Net drawdown in %</th>\n      <th>Peak date</th>\n      <th>Valley date</th>\n      <th>Recovery date</th>\n      <th>Duration</th>\n    </tr>\n  </thead>\n  <tbody>\n    <tr>\n      <th>0</th>\n      <td>33.81</td>\n      <td>2020-02-12</td>\n      <td>2020-03-23</td>\n      <td>2020-11-10</td>\n      <td>195</td>\n    </tr>\n    <tr>\n      <th>1</th>\n      <td>23.56</td>\n      <td>2022-01-04</td>\n      <td>2022-09-30</td>\n      <td>NaT</td>\n      <td>NaN</td>\n    </tr>\n    <tr>\n      <th>2</th>\n      <td>6.81</td>\n      <td>2021-11-08</td>\n      <td>2021-12-01</td>\n      <td>2021-12-27</td>\n      <td>36</td>\n    </tr>\n    <tr>\n      <th>3</th>\n      <td>4.79</td>\n      <td>2021-08-16</td>\n      <td>2021-09-30</td>\n      <td>2021-11-01</td>\n      <td>56</td>\n    </tr>\n    <tr>\n      <th>4</th>\n      <td>4.32</td>\n      <td>2021-05-07</td>\n      <td>2021-06-18</td>\n      <td>2021-07-26</td>\n      <td>57</td>\n    </tr>\n  </tbody>\n</table>"
     },
     "metadata": {},
     "output_type": "display_data"
    },
    {
     "name": "stderr",
     "output_type": "stream",
     "text": [
      "/Users/zlapik/my-drive-zlapik/0-todo/ai-investing/venv3.10/lib/python3.10/site-packages/pyfolio/plotting.py:805: FutureWarning: The default dtype for empty Series will be 'object' instead of 'float64' in a future version. Specify a dtype explicitly to silence this warning.\n",
      "  oos_cum_returns = pd.Series([])\n",
      "/Users/zlapik/my-drive-zlapik/0-todo/ai-investing/venv3.10/lib/python3.10/site-packages/pyfolio/plotting.py:805: FutureWarning: The default dtype for empty Series will be 'object' instead of 'float64' in a future version. Specify a dtype explicitly to silence this warning.\n",
      "  oos_cum_returns = pd.Series([])\n",
      "/Users/zlapik/my-drive-zlapik/0-todo/ai-investing/venv3.10/lib/python3.10/site-packages/pyfolio/plotting.py:805: FutureWarning: The default dtype for empty Series will be 'object' instead of 'float64' in a future version. Specify a dtype explicitly to silence this warning.\n",
      "  oos_cum_returns = pd.Series([])\n",
      "/Users/zlapik/my-drive-zlapik/0-todo/ai-investing/venv3.10/lib/python3.10/site-packages/pyfolio/timeseries.py:541: FutureWarning: The default dtype for empty Series will be 'object' instead of 'float64' in a future version. Specify a dtype explicitly to silence this warning.\n",
      "  out = pd.Series(index=returns.index)\n",
      "/Users/zlapik/my-drive-zlapik/0-todo/ai-investing/venv3.10/lib/python3.10/site-packages/pyfolio/timeseries.py:541: FutureWarning: The default dtype for empty Series will be 'object' instead of 'float64' in a future version. Specify a dtype explicitly to silence this warning.\n",
      "  out = pd.Series(index=returns.index)\n",
      "\n",
      "KeyboardInterrupt\n",
      "\n"
     ]
    }
   ],
   "source": [
    "# m.mat\n",
    "\n",
    "m.reload_module(m)\n",
    "test = m.Test(program, dataset)\n",
    "test.plot_compare_portfolios()\n"
   ],
   "metadata": {
    "collapsed": false,
    "pycharm": {
     "is_executing": true
    }
   }
  },
  {
   "cell_type": "code",
   "execution_count": null,
   "outputs": [],
   "source": [],
   "metadata": {
    "collapsed": false
   }
  }
 ],
 "metadata": {
  "kernelspec": {
   "display_name": "venv3.10",
   "language": "python",
   "name": "venv3.10"
  },
  "language_info": {
   "codemirror_mode": {
    "name": "ipython",
    "version": 3
   },
   "file_extension": ".py",
   "mimetype": "text/x-python",
   "name": "python",
   "nbconvert_exporter": "python",
   "pygments_lexer": "ipython3",
   "version": "3.10.8"
  }
 },
 "nbformat": 4,
 "nbformat_minor": 0
}
