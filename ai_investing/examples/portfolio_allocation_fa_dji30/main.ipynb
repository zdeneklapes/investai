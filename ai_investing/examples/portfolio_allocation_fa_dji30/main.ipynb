{
 "cells": [
  {
   "cell_type": "code",
   "execution_count": 1,
   "metadata": {
    "collapsed": true
   },
   "outputs": [
    {
     "name": "stderr",
     "output_type": "stream",
     "text": [
      "/Users/zlapik/my-drive-zlapik/0-todo/ai-investing/venv3.10/lib/python3.10/site-packages/pyfolio/pos.py:26: UserWarning: Module \"zipline.assets\" not found; multipliers will not be applied to position notionals.\n",
      "  warnings.warn(\n"
     ]
    },
    {
     "name": "stdout",
     "output_type": "stream",
     "text": [
      "/Users/zlapik/my-drive-zlapik/0-todo/ai-investing/venv3.10/bin/python\r\n"
     ]
    }
   ],
   "source": [
    "#\n",
    "import sys\n",
    "\n",
    "sys.path.append('../..')\n",
    "import main as m\n",
    "\n",
    "#\n",
    "!which python"
   ]
  },
  {
   "cell_type": "code",
   "execution_count": 2,
   "outputs": [],
   "source": [
    "\n",
    "m.reload_module(m)\n"
   ],
   "metadata": {
    "collapsed": false
   }
  },
  {
   "cell_type": "code",
   "execution_count": 3,
   "metadata": {},
   "outputs": [
    {
     "name": "stdout",
     "output_type": "stream",
     "text": [
      "Loading dataset from: /Users/zlapik/my-drive-zlapik/0-todo/ai-investing/ai_investing/examples/portfolio_allocation_fa_dji30/out/datasets/dataset.csv\n"
     ]
    }
   ],
   "source": [
    "\n",
    "sys.argv=['--test']\n",
    "try:\n",
    "    program = m.initialisation()\n",
    "except Exception as e:\n",
    "    print(e)\n",
    "dataset = m.stock_dataset(program)\n"
   ]
  },
  {
   "cell_type": "code",
   "execution_count": 4,
   "outputs": [
    {
     "ename": "AttributeError",
     "evalue": "'DataFrame' object has no attribute 'return_list'",
     "output_type": "error",
     "traceback": [
      "\u001B[0;31m---------------------------------------------------------------------------\u001B[0m",
      "\u001B[0;31mAttributeError\u001B[0m                            Traceback (most recent call last)",
      "Cell \u001B[0;32mIn[4], line 5\u001B[0m\n\u001B[1;32m      3\u001B[0m m\u001B[38;5;241m.\u001B[39mreload_module(m)\n\u001B[1;32m      4\u001B[0m test \u001B[38;5;241m=\u001B[39m m\u001B[38;5;241m.\u001B[39mTest(program, dataset)\n\u001B[0;32m----> 5\u001B[0m \u001B[43mtest\u001B[49m\u001B[38;5;241;43m.\u001B[39;49m\u001B[43mplot_compare_portfolios\u001B[49m\u001B[43m(\u001B[49m\u001B[43m)\u001B[49m\n",
      "File \u001B[0;32m~/my-drive-zlapik/0-todo/ai-investing/ai_investing/examples/portfolio_allocation_fa_dji30/main.py:400\u001B[0m, in \u001B[0;36mTest.plot_compare_portfolios\u001B[0;34m(self)\u001B[0m\n\u001B[1;32m    398\u001B[0m model_cumpod \u001B[38;5;241m=\u001B[39m (\u001B[38;5;241m1\u001B[39m \u001B[38;5;241m+\u001B[39m df[\u001B[38;5;124m'\u001B[39m\u001B[38;5;124mportfolio_return\u001B[39m\u001B[38;5;124m'\u001B[39m])\u001B[38;5;241m.\u001B[39mcumprod() \u001B[38;5;241m-\u001B[39m \u001B[38;5;241m1\u001B[39m\n\u001B[1;32m    399\u001B[0m dji_cumpod \u001B[38;5;241m=\u001B[39m (\u001B[38;5;241m1\u001B[39m \u001B[38;5;241m+\u001B[39m baseline_returns)\u001B[38;5;241m.\u001B[39mcumprod() \u001B[38;5;241m-\u001B[39m \u001B[38;5;241m1\u001B[39m\n\u001B[0;32m--> 400\u001B[0m min_var_cumpod \u001B[38;5;241m=\u001B[39m \u001B[43mminimum_variance\u001B[49m\u001B[43m(\u001B[49m\u001B[38;5;28;43mself\u001B[39;49m\u001B[38;5;241;43m.\u001B[39;49m\u001B[43mstock_dataset\u001B[49m\u001B[38;5;241;43m.\u001B[39;49m\u001B[43mtest_dataset\u001B[49m\u001B[43m)\u001B[49m\n\u001B[1;32m    402\u001B[0m \u001B[38;5;66;03m#\u001B[39;00m\n\u001B[1;32m    403\u001B[0m trace0_portfolio \u001B[38;5;241m=\u001B[39m go\u001B[38;5;241m.\u001B[39mScatter(x\u001B[38;5;241m=\u001B[39mdf[\u001B[38;5;124m'\u001B[39m\u001B[38;5;124mdate\u001B[39m\u001B[38;5;124m'\u001B[39m], y\u001B[38;5;241m=\u001B[39mmodel_cumpod, mode\u001B[38;5;241m=\u001B[39m\u001B[38;5;124m'\u001B[39m\u001B[38;5;124mlines\u001B[39m\u001B[38;5;124m'\u001B[39m,\n\u001B[1;32m    404\u001B[0m                               name\u001B[38;5;241m=\u001B[39m\u001B[38;5;124mf\u001B[39m\u001B[38;5;124m\"\u001B[39m\u001B[38;5;132;01m{\u001B[39;00mp\u001B[38;5;241m.\u001B[39mname\u001B[38;5;132;01m}\u001B[39;00m\u001B[38;5;124m]\u001B[39m\u001B[38;5;124m\"\u001B[39m)\n",
      "File \u001B[0;32m~/my-drive-zlapik/0-todo/ai-investing/ai_investing/extra/math/finance/minimum_variance.py:20\u001B[0m, in \u001B[0;36mminimum_variance\u001B[0;34m(df)\u001B[0m\n\u001B[1;32m     17\u001B[0m df_temp_next \u001B[38;5;241m=\u001B[39m df[df\u001B[38;5;241m.\u001B[39mdate \u001B[38;5;241m==\u001B[39m unique_dates[i \u001B[38;5;241m+\u001B[39m \u001B[38;5;241m1\u001B[39m]]\u001B[38;5;241m.\u001B[39mreset_index(drop\u001B[38;5;241m=\u001B[39m\u001B[38;5;28;01mTrue\u001B[39;00m)\n\u001B[1;32m     18\u001B[0m \u001B[38;5;66;03m# Sigma = risk_models.sample_cov(df_temp.return_list[0])\u001B[39;00m\n\u001B[1;32m     19\u001B[0m \u001B[38;5;66;03m# calculate covariance matrix\u001B[39;00m\n\u001B[0;32m---> 20\u001B[0m Sigma \u001B[38;5;241m=\u001B[39m df_temp\u001B[38;5;241m.\u001B[39mreturn_list[\u001B[38;5;241m0\u001B[39m]\u001B[38;5;241m.\u001B[39mcov()\n\u001B[1;32m     21\u001B[0m \u001B[38;5;66;03m# portfolio allocation\u001B[39;00m\n\u001B[1;32m     22\u001B[0m ef_min_var \u001B[38;5;241m=\u001B[39m EfficientFrontier(\u001B[38;5;28;01mNone\u001B[39;00m, Sigma, weight_bounds\u001B[38;5;241m=\u001B[39m(\u001B[38;5;241m0\u001B[39m, \u001B[38;5;241m0.1\u001B[39m))\n",
      "File \u001B[0;32m~/my-drive-zlapik/0-todo/ai-investing/venv3.10/lib/python3.10/site-packages/pandas/core/generic.py:5902\u001B[0m, in \u001B[0;36mNDFrame.__getattr__\u001B[0;34m(self, name)\u001B[0m\n\u001B[1;32m   5895\u001B[0m \u001B[38;5;28;01mif\u001B[39;00m (\n\u001B[1;32m   5896\u001B[0m     name \u001B[38;5;129;01mnot\u001B[39;00m \u001B[38;5;129;01min\u001B[39;00m \u001B[38;5;28mself\u001B[39m\u001B[38;5;241m.\u001B[39m_internal_names_set\n\u001B[1;32m   5897\u001B[0m     \u001B[38;5;129;01mand\u001B[39;00m name \u001B[38;5;129;01mnot\u001B[39;00m \u001B[38;5;129;01min\u001B[39;00m \u001B[38;5;28mself\u001B[39m\u001B[38;5;241m.\u001B[39m_metadata\n\u001B[1;32m   5898\u001B[0m     \u001B[38;5;129;01mand\u001B[39;00m name \u001B[38;5;129;01mnot\u001B[39;00m \u001B[38;5;129;01min\u001B[39;00m \u001B[38;5;28mself\u001B[39m\u001B[38;5;241m.\u001B[39m_accessors\n\u001B[1;32m   5899\u001B[0m     \u001B[38;5;129;01mand\u001B[39;00m \u001B[38;5;28mself\u001B[39m\u001B[38;5;241m.\u001B[39m_info_axis\u001B[38;5;241m.\u001B[39m_can_hold_identifiers_and_holds_name(name)\n\u001B[1;32m   5900\u001B[0m ):\n\u001B[1;32m   5901\u001B[0m     \u001B[38;5;28;01mreturn\u001B[39;00m \u001B[38;5;28mself\u001B[39m[name]\n\u001B[0;32m-> 5902\u001B[0m \u001B[38;5;28;01mreturn\u001B[39;00m \u001B[38;5;28;43mobject\u001B[39;49m\u001B[38;5;241;43m.\u001B[39;49m\u001B[38;5;21;43m__getattribute__\u001B[39;49m\u001B[43m(\u001B[49m\u001B[38;5;28;43mself\u001B[39;49m\u001B[43m,\u001B[49m\u001B[43m \u001B[49m\u001B[43mname\u001B[49m\u001B[43m)\u001B[49m\n",
      "\u001B[0;31mAttributeError\u001B[0m: 'DataFrame' object has no attribute 'return_list'"
     ]
    }
   ],
   "source": [
    "# m.mat\n",
    "\n",
    "m.reload_module(m)\n",
    "test = m.Test(program, dataset)\n",
    "test.plot_compare_portfolios()\n"
   ],
   "metadata": {
    "collapsed": false
   }
  },
  {
   "cell_type": "code",
   "execution_count": null,
   "outputs": [],
   "source": [],
   "metadata": {
    "collapsed": false
   }
  }
 ],
 "metadata": {
  "kernelspec": {
   "display_name": "venv3.10",
   "language": "python",
   "name": "venv3.10"
  },
  "language_info": {
   "codemirror_mode": {
    "name": "ipython",
    "version": 3
   },
   "file_extension": ".py",
   "mimetype": "text/x-python",
   "name": "python",
   "nbconvert_exporter": "python",
   "pygments_lexer": "ipython3",
   "version": "3.10.8"
  }
 },
 "nbformat": 4,
 "nbformat_minor": 0
}
