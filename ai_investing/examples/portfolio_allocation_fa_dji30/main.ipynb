{
 "cells": [
  {
   "cell_type": "code",
   "execution_count": 48,
   "metadata": {
    "collapsed": true
   },
   "outputs": [
    {
     "name": "stdout",
     "output_type": "stream",
     "text": [
      "/Users/zlapik/my-drive-zlapik/0-todo/ai-investing/venv3.10/bin/python\r\n"
     ]
    }
   ],
   "source": [
    "#\n",
    "import sys\n",
    "sys.path.append('..')\n",
    "sys.path.append('../..')\n",
    "sys.path.append('../../..')\n",
    "import main as m\n",
    "\n",
    "#\n",
    "!which python"
   ]
  },
  {
   "cell_type": "code",
   "execution_count": 49,
   "metadata": {},
   "outputs": [
    {
     "name": "stderr",
     "output_type": "stream",
     "text": [
      "Processing DIS: 100%|██████████| 29/29 [00:06<00:00,  4.19it/s] \n"
     ]
    }
   ],
   "source": [
    "\n",
    "m.reload_module(m)\n",
    "d = m.t1()\n"
   ]
  },
  {
   "cell_type": "code",
   "execution_count": 46,
   "outputs": [
    {
     "data": {
      "text/plain": "         date   tic        open        high         low       close  \\\n0  2008-03-20   DIS   31.280001   31.980000   31.250000   31.900000   \n0  2008-03-20   MRK   41.593510   41.593510   40.076336   41.374046   \n0  2008-03-20   IBM  111.940727  113.269600  111.520073  113.126198   \n0  2008-03-20   MCD   53.950001   54.759998   53.700001   54.419998   \n0  2008-03-20  AMGN   40.160000   40.220001   39.160000   40.110001   \n\n       volume operatingProfitMargin      netProfitMargin  \\\n0  13802300.0   0.21881766998700736  0.13902122130792552   \n0  17209522.0    0.2570805380217456  0.29219405796622494   \n0  11943123.0   0.11490564596225838   0.1056230422492169   \n0  13075600.0    0.2722828502296183   0.1959574012805952   \n0  17844400.0     0.313230605738576                 0.25   \n\n         returnOnAssets  ...          quickRatio            cashRatio  \\\n0  0.020850248449222175  ...  0.8225918916226715   0.2578942125709732   \n0   0.03726070694832218  ...    1.40292840532587   0.7557878706809623   \n0    0.0228648451971421  ...  0.8297339032741758  0.21542868652507666   \n0   0.03900554694590335  ...  1.1150006611133148   0.7743289699854555   \n0    0.0260946729153379  ...  1.9918953766807883   0.6247927795174065   \n\n     inventoryTurnover receivablesTurnover    payablesTurnover  \\\n0    7.273185483870968  1.6292115011465866  1.3753335874952344   \n0   0.6374965762804711  1.6593912805045243   2.630438877378037   \n0    5.221612349914237  0.9614367562802997   2.021112734032665   \n0    33.45351867940921   5.894915583155443   6.402560691719321   \n0  0.24133083411433928  1.6147576147576148  0.6740837696335078   \n\n             debtRatio     debtEquityRatio  priceEarningsRatio  \\\n0   0.4476470397193985  0.8409957594801549   11.54205644470405   \n0   0.5223916135489649   1.223904028436019  10.903727198135215   \n0   0.7662741465996296   3.278516841211435   13.99869448680199   \n0   0.5209378368549177   1.087411774361219   13.32775290942461   \n0  0.48606527827847257  0.9457724059785247  13.506503662167908   \n\n  priceBookValueRatio         dividendYield  \n0   1.808474996186583                     0  \n0   3.807476462176639  0.010656830663198981  \n0    5.47783615284567  0.004424334040641282  \n0   4.340616577849209   0.00664284744150737  \n0  2.7431327785247936                     0  \n\n[5 rows x 22 columns]",
      "text/html": "<div>\n<style scoped>\n    .dataframe tbody tr th:only-of-type {\n        vertical-align: middle;\n    }\n\n    .dataframe tbody tr th {\n        vertical-align: top;\n    }\n\n    .dataframe thead th {\n        text-align: right;\n    }\n</style>\n<table border=\"1\" class=\"dataframe\">\n  <thead>\n    <tr style=\"text-align: right;\">\n      <th></th>\n      <th>date</th>\n      <th>tic</th>\n      <th>open</th>\n      <th>high</th>\n      <th>low</th>\n      <th>close</th>\n      <th>volume</th>\n      <th>operatingProfitMargin</th>\n      <th>netProfitMargin</th>\n      <th>returnOnAssets</th>\n      <th>...</th>\n      <th>quickRatio</th>\n      <th>cashRatio</th>\n      <th>inventoryTurnover</th>\n      <th>receivablesTurnover</th>\n      <th>payablesTurnover</th>\n      <th>debtRatio</th>\n      <th>debtEquityRatio</th>\n      <th>priceEarningsRatio</th>\n      <th>priceBookValueRatio</th>\n      <th>dividendYield</th>\n    </tr>\n  </thead>\n  <tbody>\n    <tr>\n      <th>0</th>\n      <td>2008-03-20</td>\n      <td>DIS</td>\n      <td>31.280001</td>\n      <td>31.980000</td>\n      <td>31.250000</td>\n      <td>31.900000</td>\n      <td>13802300.0</td>\n      <td>0.21881766998700736</td>\n      <td>0.13902122130792552</td>\n      <td>0.020850248449222175</td>\n      <td>...</td>\n      <td>0.8225918916226715</td>\n      <td>0.2578942125709732</td>\n      <td>7.273185483870968</td>\n      <td>1.6292115011465866</td>\n      <td>1.3753335874952344</td>\n      <td>0.4476470397193985</td>\n      <td>0.8409957594801549</td>\n      <td>11.54205644470405</td>\n      <td>1.808474996186583</td>\n      <td>0</td>\n    </tr>\n    <tr>\n      <th>0</th>\n      <td>2008-03-20</td>\n      <td>MRK</td>\n      <td>41.593510</td>\n      <td>41.593510</td>\n      <td>40.076336</td>\n      <td>41.374046</td>\n      <td>17209522.0</td>\n      <td>0.2570805380217456</td>\n      <td>0.29219405796622494</td>\n      <td>0.03726070694832218</td>\n      <td>...</td>\n      <td>1.40292840532587</td>\n      <td>0.7557878706809623</td>\n      <td>0.6374965762804711</td>\n      <td>1.6593912805045243</td>\n      <td>2.630438877378037</td>\n      <td>0.5223916135489649</td>\n      <td>1.223904028436019</td>\n      <td>10.903727198135215</td>\n      <td>3.807476462176639</td>\n      <td>0.010656830663198981</td>\n    </tr>\n    <tr>\n      <th>0</th>\n      <td>2008-03-20</td>\n      <td>IBM</td>\n      <td>111.940727</td>\n      <td>113.269600</td>\n      <td>111.520073</td>\n      <td>113.126198</td>\n      <td>11943123.0</td>\n      <td>0.11490564596225838</td>\n      <td>0.1056230422492169</td>\n      <td>0.0228648451971421</td>\n      <td>...</td>\n      <td>0.8297339032741758</td>\n      <td>0.21542868652507666</td>\n      <td>5.221612349914237</td>\n      <td>0.9614367562802997</td>\n      <td>2.021112734032665</td>\n      <td>0.7662741465996296</td>\n      <td>3.278516841211435</td>\n      <td>13.99869448680199</td>\n      <td>5.47783615284567</td>\n      <td>0.004424334040641282</td>\n    </tr>\n    <tr>\n      <th>0</th>\n      <td>2008-03-20</td>\n      <td>MCD</td>\n      <td>53.950001</td>\n      <td>54.759998</td>\n      <td>53.700001</td>\n      <td>54.419998</td>\n      <td>13075600.0</td>\n      <td>0.2722828502296183</td>\n      <td>0.1959574012805952</td>\n      <td>0.03900554694590335</td>\n      <td>...</td>\n      <td>1.1150006611133148</td>\n      <td>0.7743289699854555</td>\n      <td>33.45351867940921</td>\n      <td>5.894915583155443</td>\n      <td>6.402560691719321</td>\n      <td>0.5209378368549177</td>\n      <td>1.087411774361219</td>\n      <td>13.32775290942461</td>\n      <td>4.340616577849209</td>\n      <td>0.00664284744150737</td>\n    </tr>\n    <tr>\n      <th>0</th>\n      <td>2008-03-20</td>\n      <td>AMGN</td>\n      <td>40.160000</td>\n      <td>40.220001</td>\n      <td>39.160000</td>\n      <td>40.110001</td>\n      <td>17844400.0</td>\n      <td>0.313230605738576</td>\n      <td>0.25</td>\n      <td>0.0260946729153379</td>\n      <td>...</td>\n      <td>1.9918953766807883</td>\n      <td>0.6247927795174065</td>\n      <td>0.24133083411433928</td>\n      <td>1.6147576147576148</td>\n      <td>0.6740837696335078</td>\n      <td>0.48606527827847257</td>\n      <td>0.9457724059785247</td>\n      <td>13.506503662167908</td>\n      <td>2.7431327785247936</td>\n      <td>0</td>\n    </tr>\n  </tbody>\n</table>\n<p>5 rows × 22 columns</p>\n</div>"
     },
     "execution_count": 46,
     "metadata": {},
     "output_type": "execute_result"
    }
   ],
   "source": [
    "\n",
    "# print(d['df'])\n",
    "d['df'].head()\n"
   ],
   "metadata": {
    "collapsed": false
   }
  },
  {
   "cell_type": "code",
   "execution_count": null,
   "outputs": [],
   "source": [],
   "metadata": {
    "collapsed": false
   }
  }
 ],
 "metadata": {
  "kernelspec": {
   "display_name": "venv3.10",
   "language": "python",
   "name": "venv3.10"
  },
  "language_info": {
   "codemirror_mode": {
    "name": "ipython",
    "version": 3
   },
   "file_extension": ".py",
   "mimetype": "text/x-python",
   "name": "python",
   "nbconvert_exporter": "python",
   "pygments_lexer": "ipython3",
   "version": "3.10.8"
  }
 },
 "nbformat": 4,
 "nbformat_minor": 0
}
