{
 "cells": [
  {
   "cell_type": "code",
   "execution_count": 1,
   "outputs": [],
   "source": [
    "#\n",
    "import os\n",
    "import copy\n",
    "import sys\n",
    "import warnings\n",
    "import matplotlib\n",
    "from pathlib import Path\n",
    "from typing import Dict\n",
    "\n",
    "#\n",
    "sys.path.append(\"./src/\")\n",
    "sys.path.append(\"./\")\n",
    "sys.path.append(\"../\")\n",
    "sys.path.append(\"../../\")\n",
    "sys.path.append(\"../../../\")\n",
    "\n",
    "# FinRL\n",
    "from finrl.config_tickers import DOW_30_TICKER\n",
    "\n",
    "from rl.experiments.common.utils import ignore_warnings"
   ],
   "metadata": {
    "collapsed": false
   }
  },
  {
   "cell_type": "code",
   "execution_count": 2,
   "outputs": [],
   "source": [
    "ignore_warnings()"
   ],
   "metadata": {
    "collapsed": false
   }
  },
  {
   "cell_type": "code",
   "execution_count": 3,
   "outputs": [],
   "source": [
    "#\n",
    "import numpy as np\n",
    "import pandas as pd\n",
    "import tqdm\n",
    "\n",
    "#\n",
    "from common.utils import now_time\n",
    "from configuration.settings import ProjectDir, ExperimentDir\n",
    "from rl.data.CompanyInfo import CompanyInfo\n",
    "from rl.experiments._3_key_metrics_dow30.train import base_cols, data_cols, ratios_cols, dataset_name"
   ],
   "metadata": {
    "collapsed": false
   }
  },
  {
   "cell_type": "code",
   "execution_count": 4,
   "outputs": [],
   "source": [
    "#\n",
    "prj_dir = ProjectDir(__file__)\n",
    "exp_dir = ExperimentDir(root=Path(os.getcwd()))\n",
    "exp_dir.check_and_create_dirs()\n",
    "\n",
    "#\n",
    "TICKERS = copy.deepcopy(DOW_30_TICKER)\n",
    "TICKERS.remove(\"DOW\")  # TODO: I don't have all necessary data"
   ],
   "metadata": {
    "collapsed": false
   }
  },
  {
   "cell_type": "code",
   "execution_count": 5,
   "outputs": [
    {
     "data": {
      "text/plain": "['AXP',\n 'AMGN',\n 'AAPL',\n 'BA',\n 'CAT',\n 'CSCO',\n 'CVX',\n 'GS',\n 'HD',\n 'HON',\n 'IBM',\n 'INTC',\n 'JNJ',\n 'KO',\n 'JPM',\n 'MCD',\n 'MMM',\n 'MRK',\n 'MSFT',\n 'NKE',\n 'PG',\n 'TRV',\n 'UNH',\n 'CRM',\n 'VZ',\n 'V',\n 'WBA',\n 'WMT',\n 'DIS']"
     },
     "execution_count": 5,
     "metadata": {},
     "output_type": "execute_result"
    }
   ],
   "source": [
    "TICKERS"
   ],
   "metadata": {
    "collapsed": false
   }
  },
  {
   "cell_type": "code",
   "execution_count": 6,
   "outputs": [
    {
     "name": "stdout",
     "output_type": "stream",
     "text": [
      "/Users/zlapik/my-drive-zlapik/0-todo/ai-investing\n",
      "/Users/zlapik/my-drive-zlapik/0-todo/ai-investing/src/rl/experiments/_3_key_metrics_dow30\n"
     ]
    }
   ],
   "source": [
    "print(prj_dir.root)\n",
    "print(exp_dir.root)"
   ],
   "metadata": {
    "collapsed": false
   }
  },
  {
   "cell_type": "code",
   "execution_count": 7,
   "outputs": [
    {
     "name": "stdout",
     "output_type": "stream",
     "text": [
      "['date', 'tic']\n",
      "['open', 'high', 'low', 'close', 'volume']\n",
      "['operatingProfitMargin', 'netProfitMargin', 'returnOnAssets', 'returnOnEquity', 'currentRatio', 'quickRatio', 'cashRatio', 'inventoryTurnover', 'receivablesTurnover', 'payablesTurnover', 'debtRatio', 'debtEquityRatio', 'priceEarningsRatio', 'priceBookValueRatio', 'dividendYield']\n"
     ]
    }
   ],
   "source": [
    "print(base_cols)\n",
    "print(data_cols)\n",
    "print(ratios_cols)"
   ],
   "metadata": {
    "collapsed": false
   }
  },
  {
   "cell_type": "code",
   "execution_count": 8,
   "outputs": [],
   "source": [
    "# Load All Initial Tickers Data\n",
    "tickers_data: Dict[str, CompanyInfo] = dict()\n",
    "for tic in TICKERS:\n",
    "    data = dict(symbol=tic)\n",
    "    files = copy.deepcopy(CompanyInfo.Names.list())\n",
    "    files.remove(\"symbol\")\n",
    "    for f in files:\n",
    "        tic_file = prj_dir.data.tickers.joinpath(tic).joinpath(f + \".csv\")\n",
    "        if tic_file.exists():\n",
    "            data[f] = pd.read_csv(tic_file, index_col=0)\n",
    "        else:\n",
    "            raise FileExistsError(f\"File not exists: {tic_file}\")\n",
    "    tickers_data[tic] = CompanyInfo(**data)"
   ],
   "metadata": {
    "collapsed": false
   }
  },
  {
   "cell_type": "code",
   "execution_count": 9,
   "outputs": [
    {
     "name": "stdout",
     "output_type": "stream",
     "text": [
      "dict_keys(['AXP', 'AMGN', 'AAPL', 'BA', 'CAT', 'CSCO', 'CVX', 'GS', 'HD', 'HON', 'IBM', 'INTC', 'JNJ', 'KO', 'JPM', 'MCD', 'MMM', 'MRK', 'MSFT', 'NKE', 'PG', 'TRV', 'UNH', 'CRM', 'VZ', 'V', 'WBA', 'WMT', 'DIS'])\n"
     ]
    }
   ],
   "source": [
    "print(tickers_data.keys())\n",
    "# print(tickers_data.values())"
   ],
   "metadata": {
    "collapsed": false
   }
  },
  {
   "cell_type": "code",
   "execution_count": 9,
   "outputs": [],
   "source": [],
   "metadata": {
    "collapsed": false
   }
  },
  {
   "cell_type": "code",
   "execution_count": 9,
   "outputs": [],
   "source": [],
   "metadata": {
    "collapsed": false
   }
  },
  {
   "cell_type": "code",
   "execution_count": 10,
   "outputs": [],
   "source": [
    "dataset = pd.DataFrame()\n",
    "\n",
    "# Merge tickers information into one pd.Dataframe\n",
    "# for k, v in [(\"DIS\", tickers_data[\"DIS\"])]:\n",
    "for k, v in tickers_data.items():\n",
    "    # Prices\n",
    "    data = v.data_detailed[data_cols]\n",
    "    data.insert(0, \"tic\", k)\n",
    "\n",
    "    # Fill before or forward\n",
    "    data = data.fillna(method=\"bfill\")\n",
    "    data = data.fillna(method=\"ffill\")\n",
    "\n",
    "    # Ratios\n",
    "    ratios = v.key_metrics.transpose()\n",
    "\n",
    "    # Fill 0, where Nan/np.inf\n",
    "    ratios = ratios.fillna(0)\n",
    "    ratios = ratios.replace(np.inf, 0)\n",
    "\n",
    "    #\n",
    "    merge = pd.merge(data, ratios, how=\"outer\", left_index=True, right_index=True)\n",
    "    filled = merge.fillna(method=\"bfill\")\n",
    "    filled = filled.fillna(method=\"ffill\")\n",
    "    clean = filled.drop(filled[~filled.index.str.contains(\"\\d{4}-\\d{2}-\\d{2}\")].index)\n",
    "    dataset = pd.concat([clean, dataset])\n",
    "\n",
    "dataset.insert(0, \"date\", dataset.index)"
   ],
   "metadata": {
    "collapsed": false
   }
  },
  {
   "cell_type": "code",
   "execution_count": 11,
   "outputs": [],
   "source": [
    "assert dataset.isna().any().any() == False  # Can't be any Nan/np.inf values"
   ],
   "metadata": {
    "collapsed": false
   }
  },
  {
   "cell_type": "code",
   "execution_count": 12,
   "outputs": [
    {
     "data": {
      "text/plain": "                  date  tic        open        high         low       close  \\\n1962-01-02  1962-01-02  DIS    0.092908    0.096026    0.092908    0.092908   \n1962-01-03  1962-01-03  DIS    0.092908    0.094467    0.092908    0.094155   \n1962-01-04  1962-01-04  DIS    0.094155    0.094467    0.093532    0.094155   \n1962-01-05  1962-01-05  DIS    0.094155    0.094779    0.093844    0.094467   \n1962-01-08  1962-01-08  DIS    0.094467    0.095714    0.092285    0.094155   \n...                ...  ...         ...         ...         ...         ...   \n2022-12-12  2022-12-12  AXP  154.260000  157.760000  154.000000  157.310000   \n2022-12-13  2022-12-13  AXP  160.620000  161.550000  156.160000  157.520000   \n2022-12-14  2022-12-14  AXP  157.570000  158.620000  153.840000  154.110000   \n2022-12-15  2022-12-15  AXP  151.650000  152.280000  146.470000  150.220000   \n2022-12-16  2022-12-16  AXP  148.590000  148.590000  144.150000  146.300000   \n\n               volume period     revenuePerShare    netIncomePerShare  ...  \\\n1962-01-02   817400.0     Q1  0.7932324623088348  0.10738995608341934  ...   \n1962-01-03   778500.0     Q1  0.7932324623088348  0.10738995608341934  ...   \n1962-01-04   934200.0     Q1  0.7932324623088348  0.10738995608341934  ...   \n1962-01-05   934200.0     Q1  0.7932324623088348  0.10738995608341934  ...   \n1962-01-08  1245600.0     Q1  0.7932324623088348  0.10738995608341934  ...   \n...               ...    ...                 ...                  ...  ...   \n2022-12-12  2773675.0     Q3  18.060160427807485   2.5120320855614975  ...   \n2022-12-13  3110000.0     Q3  18.060160427807485   2.5120320855614975  ...   \n2022-12-14  3554804.0     Q3  18.060160427807485   2.5120320855614975  ...   \n2022-12-15  4282628.0     Q3  18.060160427807485   2.5120320855614975  ...   \n2022-12-16  4130931.0     Q3  18.060160427807485   2.5120320855614975  ...   \n\n           averagePayables averageInventory daysSalesOutstanding  \\\n1962-01-02             0.0        909050000      65.966464834653   \n1962-01-03             0.0        909050000      65.966464834653   \n1962-01-04             0.0        909050000      65.966464834653   \n1962-01-05             0.0        909050000      65.966464834653   \n1962-01-08             0.0        909050000      65.966464834653   \n...                    ...              ...                  ...   \n2022-12-12     11196000000              0.0                  0.0   \n2022-12-13     11196000000              0.0                  0.0   \n2022-12-14     11196000000              0.0                  0.0   \n2022-12-15     11196000000              0.0                  0.0   \n2022-12-16     11196000000              0.0                  0.0   \n\n           daysPayablesOutstanding daysOfInventoryOnHand receivablesTurnover  \\\n1962-01-02      133.67062107466853    23.876482903000696  1.3643295911883075   \n1962-01-03      133.67062107466853    23.876482903000696  1.3643295911883075   \n1962-01-04      133.67062107466853    23.876482903000696  1.3643295911883075   \n1962-01-05      133.67062107466853    23.876482903000696  1.3643295911883075   \n1962-01-08      133.67062107466853    23.876482903000696  1.3643295911883075   \n...                            ...                   ...                 ...   \n2022-12-12                     0.0                   0.0                   0   \n2022-12-13                     0.0                   0.0                   0   \n2022-12-14                     0.0                   0.0                   0   \n2022-12-15                     0.0                   0.0                   0   \n2022-12-16                     0.0                   0.0                   0   \n\n              payablesTurnover   inventoryTurnover                  roe  \\\n1962-01-02  0.6732967893500391  3.7693993862341078  0.05439630703970556   \n1962-01-03  0.6732967893500391  3.7693993862341078  0.05439630703970556   \n1962-01-04  0.6732967893500391  3.7693993862341078  0.05439630703970556   \n1962-01-05  0.6732967893500391  3.7693993862341078  0.05439630703970556   \n1962-01-08  0.6732967893500391  3.7693993862341078  0.05439630703970556   \n...                        ...                 ...                  ...   \n2022-12-12                 0.0                 0.0  0.07848788638262323   \n2022-12-13                 0.0                 0.0  0.07848788638262323   \n2022-12-14                 0.0                 0.0  0.07848788638262323   \n2022-12-15                 0.0                 0.0  0.07848788638262323   \n2022-12-16                 0.0                 0.0  0.07848788638262323   \n\n                   capexPerShare  \n1962-01-02  -0.07130594561043554  \n1962-01-03  -0.07130594561043554  \n1962-01-04  -0.07130594561043554  \n1962-01-05  -0.07130594561043554  \n1962-01-08  -0.07130594561043554  \n...                          ...  \n2022-12-12   -0.5922459893048129  \n2022-12-13   -0.5922459893048129  \n2022-12-14   -0.5922459893048129  \n2022-12-15   -0.5922459893048129  \n2022-12-16   -0.5922459893048129  \n\n[345570 rows x 65 columns]",
      "text/html": "<div>\n<style scoped>\n    .dataframe tbody tr th:only-of-type {\n        vertical-align: middle;\n    }\n\n    .dataframe tbody tr th {\n        vertical-align: top;\n    }\n\n    .dataframe thead th {\n        text-align: right;\n    }\n</style>\n<table border=\"1\" class=\"dataframe\">\n  <thead>\n    <tr style=\"text-align: right;\">\n      <th></th>\n      <th>date</th>\n      <th>tic</th>\n      <th>open</th>\n      <th>high</th>\n      <th>low</th>\n      <th>close</th>\n      <th>volume</th>\n      <th>period</th>\n      <th>revenuePerShare</th>\n      <th>netIncomePerShare</th>\n      <th>...</th>\n      <th>averagePayables</th>\n      <th>averageInventory</th>\n      <th>daysSalesOutstanding</th>\n      <th>daysPayablesOutstanding</th>\n      <th>daysOfInventoryOnHand</th>\n      <th>receivablesTurnover</th>\n      <th>payablesTurnover</th>\n      <th>inventoryTurnover</th>\n      <th>roe</th>\n      <th>capexPerShare</th>\n    </tr>\n  </thead>\n  <tbody>\n    <tr>\n      <th>1962-01-02</th>\n      <td>1962-01-02</td>\n      <td>DIS</td>\n      <td>0.092908</td>\n      <td>0.096026</td>\n      <td>0.092908</td>\n      <td>0.092908</td>\n      <td>817400.0</td>\n      <td>Q1</td>\n      <td>0.7932324623088348</td>\n      <td>0.10738995608341934</td>\n      <td>...</td>\n      <td>0.0</td>\n      <td>909050000</td>\n      <td>65.966464834653</td>\n      <td>133.67062107466853</td>\n      <td>23.876482903000696</td>\n      <td>1.3643295911883075</td>\n      <td>0.6732967893500391</td>\n      <td>3.7693993862341078</td>\n      <td>0.05439630703970556</td>\n      <td>-0.07130594561043554</td>\n    </tr>\n    <tr>\n      <th>1962-01-03</th>\n      <td>1962-01-03</td>\n      <td>DIS</td>\n      <td>0.092908</td>\n      <td>0.094467</td>\n      <td>0.092908</td>\n      <td>0.094155</td>\n      <td>778500.0</td>\n      <td>Q1</td>\n      <td>0.7932324623088348</td>\n      <td>0.10738995608341934</td>\n      <td>...</td>\n      <td>0.0</td>\n      <td>909050000</td>\n      <td>65.966464834653</td>\n      <td>133.67062107466853</td>\n      <td>23.876482903000696</td>\n      <td>1.3643295911883075</td>\n      <td>0.6732967893500391</td>\n      <td>3.7693993862341078</td>\n      <td>0.05439630703970556</td>\n      <td>-0.07130594561043554</td>\n    </tr>\n    <tr>\n      <th>1962-01-04</th>\n      <td>1962-01-04</td>\n      <td>DIS</td>\n      <td>0.094155</td>\n      <td>0.094467</td>\n      <td>0.093532</td>\n      <td>0.094155</td>\n      <td>934200.0</td>\n      <td>Q1</td>\n      <td>0.7932324623088348</td>\n      <td>0.10738995608341934</td>\n      <td>...</td>\n      <td>0.0</td>\n      <td>909050000</td>\n      <td>65.966464834653</td>\n      <td>133.67062107466853</td>\n      <td>23.876482903000696</td>\n      <td>1.3643295911883075</td>\n      <td>0.6732967893500391</td>\n      <td>3.7693993862341078</td>\n      <td>0.05439630703970556</td>\n      <td>-0.07130594561043554</td>\n    </tr>\n    <tr>\n      <th>1962-01-05</th>\n      <td>1962-01-05</td>\n      <td>DIS</td>\n      <td>0.094155</td>\n      <td>0.094779</td>\n      <td>0.093844</td>\n      <td>0.094467</td>\n      <td>934200.0</td>\n      <td>Q1</td>\n      <td>0.7932324623088348</td>\n      <td>0.10738995608341934</td>\n      <td>...</td>\n      <td>0.0</td>\n      <td>909050000</td>\n      <td>65.966464834653</td>\n      <td>133.67062107466853</td>\n      <td>23.876482903000696</td>\n      <td>1.3643295911883075</td>\n      <td>0.6732967893500391</td>\n      <td>3.7693993862341078</td>\n      <td>0.05439630703970556</td>\n      <td>-0.07130594561043554</td>\n    </tr>\n    <tr>\n      <th>1962-01-08</th>\n      <td>1962-01-08</td>\n      <td>DIS</td>\n      <td>0.094467</td>\n      <td>0.095714</td>\n      <td>0.092285</td>\n      <td>0.094155</td>\n      <td>1245600.0</td>\n      <td>Q1</td>\n      <td>0.7932324623088348</td>\n      <td>0.10738995608341934</td>\n      <td>...</td>\n      <td>0.0</td>\n      <td>909050000</td>\n      <td>65.966464834653</td>\n      <td>133.67062107466853</td>\n      <td>23.876482903000696</td>\n      <td>1.3643295911883075</td>\n      <td>0.6732967893500391</td>\n      <td>3.7693993862341078</td>\n      <td>0.05439630703970556</td>\n      <td>-0.07130594561043554</td>\n    </tr>\n    <tr>\n      <th>...</th>\n      <td>...</td>\n      <td>...</td>\n      <td>...</td>\n      <td>...</td>\n      <td>...</td>\n      <td>...</td>\n      <td>...</td>\n      <td>...</td>\n      <td>...</td>\n      <td>...</td>\n      <td>...</td>\n      <td>...</td>\n      <td>...</td>\n      <td>...</td>\n      <td>...</td>\n      <td>...</td>\n      <td>...</td>\n      <td>...</td>\n      <td>...</td>\n      <td>...</td>\n      <td>...</td>\n    </tr>\n    <tr>\n      <th>2022-12-12</th>\n      <td>2022-12-12</td>\n      <td>AXP</td>\n      <td>154.260000</td>\n      <td>157.760000</td>\n      <td>154.000000</td>\n      <td>157.310000</td>\n      <td>2773675.0</td>\n      <td>Q3</td>\n      <td>18.060160427807485</td>\n      <td>2.5120320855614975</td>\n      <td>...</td>\n      <td>11196000000</td>\n      <td>0.0</td>\n      <td>0.0</td>\n      <td>0.0</td>\n      <td>0.0</td>\n      <td>0</td>\n      <td>0.0</td>\n      <td>0.0</td>\n      <td>0.07848788638262323</td>\n      <td>-0.5922459893048129</td>\n    </tr>\n    <tr>\n      <th>2022-12-13</th>\n      <td>2022-12-13</td>\n      <td>AXP</td>\n      <td>160.620000</td>\n      <td>161.550000</td>\n      <td>156.160000</td>\n      <td>157.520000</td>\n      <td>3110000.0</td>\n      <td>Q3</td>\n      <td>18.060160427807485</td>\n      <td>2.5120320855614975</td>\n      <td>...</td>\n      <td>11196000000</td>\n      <td>0.0</td>\n      <td>0.0</td>\n      <td>0.0</td>\n      <td>0.0</td>\n      <td>0</td>\n      <td>0.0</td>\n      <td>0.0</td>\n      <td>0.07848788638262323</td>\n      <td>-0.5922459893048129</td>\n    </tr>\n    <tr>\n      <th>2022-12-14</th>\n      <td>2022-12-14</td>\n      <td>AXP</td>\n      <td>157.570000</td>\n      <td>158.620000</td>\n      <td>153.840000</td>\n      <td>154.110000</td>\n      <td>3554804.0</td>\n      <td>Q3</td>\n      <td>18.060160427807485</td>\n      <td>2.5120320855614975</td>\n      <td>...</td>\n      <td>11196000000</td>\n      <td>0.0</td>\n      <td>0.0</td>\n      <td>0.0</td>\n      <td>0.0</td>\n      <td>0</td>\n      <td>0.0</td>\n      <td>0.0</td>\n      <td>0.07848788638262323</td>\n      <td>-0.5922459893048129</td>\n    </tr>\n    <tr>\n      <th>2022-12-15</th>\n      <td>2022-12-15</td>\n      <td>AXP</td>\n      <td>151.650000</td>\n      <td>152.280000</td>\n      <td>146.470000</td>\n      <td>150.220000</td>\n      <td>4282628.0</td>\n      <td>Q3</td>\n      <td>18.060160427807485</td>\n      <td>2.5120320855614975</td>\n      <td>...</td>\n      <td>11196000000</td>\n      <td>0.0</td>\n      <td>0.0</td>\n      <td>0.0</td>\n      <td>0.0</td>\n      <td>0</td>\n      <td>0.0</td>\n      <td>0.0</td>\n      <td>0.07848788638262323</td>\n      <td>-0.5922459893048129</td>\n    </tr>\n    <tr>\n      <th>2022-12-16</th>\n      <td>2022-12-16</td>\n      <td>AXP</td>\n      <td>148.590000</td>\n      <td>148.590000</td>\n      <td>144.150000</td>\n      <td>146.300000</td>\n      <td>4130931.0</td>\n      <td>Q3</td>\n      <td>18.060160427807485</td>\n      <td>2.5120320855614975</td>\n      <td>...</td>\n      <td>11196000000</td>\n      <td>0.0</td>\n      <td>0.0</td>\n      <td>0.0</td>\n      <td>0.0</td>\n      <td>0</td>\n      <td>0.0</td>\n      <td>0.0</td>\n      <td>0.07848788638262323</td>\n      <td>-0.5922459893048129</td>\n    </tr>\n  </tbody>\n</table>\n<p>345570 rows × 65 columns</p>\n</div>"
     },
     "execution_count": 12,
     "metadata": {},
     "output_type": "execute_result"
    }
   ],
   "source": [
    "dataset"
   ],
   "metadata": {
    "collapsed": false
   }
  },
  {
   "cell_type": "code",
   "execution_count": 13,
   "outputs": [
    {
     "name": "stdout",
     "output_type": "stream",
     "text": [
      "15347\n",
      "15347\n"
     ]
    }
   ],
   "source": [
    "# Take only those dates where we have data for all stock in each day\n",
    "max_size = dataset.groupby(\"date\").size().unique().max()\n",
    "_d = dataset.groupby(\"date\").size()\n",
    "binary = _d.values == 29\n",
    "\n",
    "print(_d.size)\n",
    "print(binary.size)\n",
    "\n",
    "latest_date = _d[binary].index[0]\n",
    "dataset = dataset[dataset[\"date\"] > latest_date]"
   ],
   "metadata": {
    "collapsed": false
   }
  },
  {
   "cell_type": "code",
   "execution_count": 14,
   "outputs": [
    {
     "data": {
      "text/plain": "                  date  tic        open        high         low       close  \\\n2008-03-20  2008-03-20  DIS   31.280001   31.980000   31.250000   31.900000   \n2008-03-24  2008-03-24  DIS   32.000000   32.160000   31.799999   32.040001   \n2008-03-25  2008-03-25  DIS   31.990000   32.240002   31.840000   32.080002   \n2008-03-26  2008-03-26  DIS   31.910000   32.040001   31.530001   31.760000   \n2008-03-27  2008-03-27  DIS   31.879999   31.959999   31.309999   31.379999   \n...                ...  ...         ...         ...         ...         ...   \n2022-12-12  2022-12-12  AXP  154.260000  157.760000  154.000000  157.310000   \n2022-12-13  2022-12-13  AXP  160.620000  161.550000  156.160000  157.520000   \n2022-12-14  2022-12-14  AXP  157.570000  158.620000  153.840000  154.110000   \n2022-12-15  2022-12-15  AXP  151.650000  152.280000  146.470000  150.220000   \n2022-12-16  2022-12-16  AXP  148.590000  148.590000  144.150000  146.300000   \n\n                volume period     revenuePerShare   netIncomePerShare  ...  \\\n2008-03-20  13802300.0     Q3   4.861052631578947  0.6757894736842105  ...   \n2008-03-24  10536000.0     Q3   4.861052631578947  0.6757894736842105  ...   \n2008-03-25   8547300.0     Q3   4.861052631578947  0.6757894736842105  ...   \n2008-03-26   9219700.0     Q3   4.861052631578947  0.6757894736842105  ...   \n2008-03-27   9569900.0     Q3   4.861052631578947  0.6757894736842105  ...   \n...                ...    ...                 ...                 ...  ...   \n2022-12-12   2773675.0     Q3  18.060160427807485  2.5120320855614975  ...   \n2022-12-13   3110000.0     Q3  18.060160427807485  2.5120320855614975  ...   \n2022-12-14   3554804.0     Q3  18.060160427807485  2.5120320855614975  ...   \n2022-12-15   4282628.0     Q3  18.060160427807485  2.5120320855614975  ...   \n2022-12-16   4130931.0     Q3  18.060160427807485  2.5120320855614975  ...   \n\n           averagePayables averageInventory daysSalesOutstanding  \\\n2008-03-20             0.0       1291000000   55.241446513642266   \n2008-03-24             0.0       1291000000   55.241446513642266   \n2008-03-25             0.0       1291000000   55.241446513642266   \n2008-03-26             0.0       1291000000   55.241446513642266   \n2008-03-27             0.0       1291000000   55.241446513642266   \n...                    ...              ...                  ...   \n2022-12-12     11196000000              0.0                  0.0   \n2022-12-13     11196000000              0.0                  0.0   \n2022-12-14     11196000000              0.0                  0.0   \n2022-12-15     11196000000              0.0                  0.0   \n2022-12-16     11196000000              0.0                  0.0   \n\n           daysPayablesOutstanding daysOfInventoryOnHand receivablesTurnover  \\\n2008-03-20       65.43866943866944    12.374220374220373  1.6292115011465866   \n2008-03-24       65.43866943866944    12.374220374220373  1.6292115011465866   \n2008-03-25       65.43866943866944    12.374220374220373  1.6292115011465866   \n2008-03-26       65.43866943866944    12.374220374220373  1.6292115011465866   \n2008-03-27       65.43866943866944    12.374220374220373  1.6292115011465866   \n...                            ...                   ...                 ...   \n2022-12-12                     0.0                   0.0                   0   \n2022-12-13                     0.0                   0.0                   0   \n2022-12-14                     0.0                   0.0                   0   \n2022-12-15                     0.0                   0.0                   0   \n2022-12-16                     0.0                   0.0                   0   \n\n              payablesTurnover  inventoryTurnover                   roe  \\\n2008-03-20  1.3753335874952344  7.273185483870968  0.039171420726684766   \n2008-03-24  1.3753335874952344  7.273185483870968  0.039171420726684766   \n2008-03-25  1.3753335874952344  7.273185483870968  0.039171420726684766   \n2008-03-26  1.3753335874952344  7.273185483870968  0.039171420726684766   \n2008-03-27  1.3753335874952344  7.273185483870968  0.039171420726684766   \n...                        ...                ...                   ...   \n2022-12-12                 0.0                0.0   0.07848788638262323   \n2022-12-13                 0.0                0.0   0.07848788638262323   \n2022-12-14                 0.0                0.0   0.07848788638262323   \n2022-12-15                 0.0                0.0   0.07848788638262323   \n2022-12-16                 0.0                0.0   0.07848788638262323   \n\n                   capexPerShare  \n2008-03-20  -0.18578947368421053  \n2008-03-24  -0.18578947368421053  \n2008-03-25  -0.18578947368421053  \n2008-03-26  -0.18578947368421053  \n2008-03-27  -0.18578947368421053  \n...                          ...  \n2022-12-12   -0.5922459893048129  \n2022-12-13   -0.5922459893048129  \n2022-12-14   -0.5922459893048129  \n2022-12-15   -0.5922459893048129  \n2022-12-16   -0.5922459893048129  \n\n[107706 rows x 65 columns]",
      "text/html": "<div>\n<style scoped>\n    .dataframe tbody tr th:only-of-type {\n        vertical-align: middle;\n    }\n\n    .dataframe tbody tr th {\n        vertical-align: top;\n    }\n\n    .dataframe thead th {\n        text-align: right;\n    }\n</style>\n<table border=\"1\" class=\"dataframe\">\n  <thead>\n    <tr style=\"text-align: right;\">\n      <th></th>\n      <th>date</th>\n      <th>tic</th>\n      <th>open</th>\n      <th>high</th>\n      <th>low</th>\n      <th>close</th>\n      <th>volume</th>\n      <th>period</th>\n      <th>revenuePerShare</th>\n      <th>netIncomePerShare</th>\n      <th>...</th>\n      <th>averagePayables</th>\n      <th>averageInventory</th>\n      <th>daysSalesOutstanding</th>\n      <th>daysPayablesOutstanding</th>\n      <th>daysOfInventoryOnHand</th>\n      <th>receivablesTurnover</th>\n      <th>payablesTurnover</th>\n      <th>inventoryTurnover</th>\n      <th>roe</th>\n      <th>capexPerShare</th>\n    </tr>\n  </thead>\n  <tbody>\n    <tr>\n      <th>2008-03-20</th>\n      <td>2008-03-20</td>\n      <td>DIS</td>\n      <td>31.280001</td>\n      <td>31.980000</td>\n      <td>31.250000</td>\n      <td>31.900000</td>\n      <td>13802300.0</td>\n      <td>Q3</td>\n      <td>4.861052631578947</td>\n      <td>0.6757894736842105</td>\n      <td>...</td>\n      <td>0.0</td>\n      <td>1291000000</td>\n      <td>55.241446513642266</td>\n      <td>65.43866943866944</td>\n      <td>12.374220374220373</td>\n      <td>1.6292115011465866</td>\n      <td>1.3753335874952344</td>\n      <td>7.273185483870968</td>\n      <td>0.039171420726684766</td>\n      <td>-0.18578947368421053</td>\n    </tr>\n    <tr>\n      <th>2008-03-24</th>\n      <td>2008-03-24</td>\n      <td>DIS</td>\n      <td>32.000000</td>\n      <td>32.160000</td>\n      <td>31.799999</td>\n      <td>32.040001</td>\n      <td>10536000.0</td>\n      <td>Q3</td>\n      <td>4.861052631578947</td>\n      <td>0.6757894736842105</td>\n      <td>...</td>\n      <td>0.0</td>\n      <td>1291000000</td>\n      <td>55.241446513642266</td>\n      <td>65.43866943866944</td>\n      <td>12.374220374220373</td>\n      <td>1.6292115011465866</td>\n      <td>1.3753335874952344</td>\n      <td>7.273185483870968</td>\n      <td>0.039171420726684766</td>\n      <td>-0.18578947368421053</td>\n    </tr>\n    <tr>\n      <th>2008-03-25</th>\n      <td>2008-03-25</td>\n      <td>DIS</td>\n      <td>31.990000</td>\n      <td>32.240002</td>\n      <td>31.840000</td>\n      <td>32.080002</td>\n      <td>8547300.0</td>\n      <td>Q3</td>\n      <td>4.861052631578947</td>\n      <td>0.6757894736842105</td>\n      <td>...</td>\n      <td>0.0</td>\n      <td>1291000000</td>\n      <td>55.241446513642266</td>\n      <td>65.43866943866944</td>\n      <td>12.374220374220373</td>\n      <td>1.6292115011465866</td>\n      <td>1.3753335874952344</td>\n      <td>7.273185483870968</td>\n      <td>0.039171420726684766</td>\n      <td>-0.18578947368421053</td>\n    </tr>\n    <tr>\n      <th>2008-03-26</th>\n      <td>2008-03-26</td>\n      <td>DIS</td>\n      <td>31.910000</td>\n      <td>32.040001</td>\n      <td>31.530001</td>\n      <td>31.760000</td>\n      <td>9219700.0</td>\n      <td>Q3</td>\n      <td>4.861052631578947</td>\n      <td>0.6757894736842105</td>\n      <td>...</td>\n      <td>0.0</td>\n      <td>1291000000</td>\n      <td>55.241446513642266</td>\n      <td>65.43866943866944</td>\n      <td>12.374220374220373</td>\n      <td>1.6292115011465866</td>\n      <td>1.3753335874952344</td>\n      <td>7.273185483870968</td>\n      <td>0.039171420726684766</td>\n      <td>-0.18578947368421053</td>\n    </tr>\n    <tr>\n      <th>2008-03-27</th>\n      <td>2008-03-27</td>\n      <td>DIS</td>\n      <td>31.879999</td>\n      <td>31.959999</td>\n      <td>31.309999</td>\n      <td>31.379999</td>\n      <td>9569900.0</td>\n      <td>Q3</td>\n      <td>4.861052631578947</td>\n      <td>0.6757894736842105</td>\n      <td>...</td>\n      <td>0.0</td>\n      <td>1291000000</td>\n      <td>55.241446513642266</td>\n      <td>65.43866943866944</td>\n      <td>12.374220374220373</td>\n      <td>1.6292115011465866</td>\n      <td>1.3753335874952344</td>\n      <td>7.273185483870968</td>\n      <td>0.039171420726684766</td>\n      <td>-0.18578947368421053</td>\n    </tr>\n    <tr>\n      <th>...</th>\n      <td>...</td>\n      <td>...</td>\n      <td>...</td>\n      <td>...</td>\n      <td>...</td>\n      <td>...</td>\n      <td>...</td>\n      <td>...</td>\n      <td>...</td>\n      <td>...</td>\n      <td>...</td>\n      <td>...</td>\n      <td>...</td>\n      <td>...</td>\n      <td>...</td>\n      <td>...</td>\n      <td>...</td>\n      <td>...</td>\n      <td>...</td>\n      <td>...</td>\n      <td>...</td>\n    </tr>\n    <tr>\n      <th>2022-12-12</th>\n      <td>2022-12-12</td>\n      <td>AXP</td>\n      <td>154.260000</td>\n      <td>157.760000</td>\n      <td>154.000000</td>\n      <td>157.310000</td>\n      <td>2773675.0</td>\n      <td>Q3</td>\n      <td>18.060160427807485</td>\n      <td>2.5120320855614975</td>\n      <td>...</td>\n      <td>11196000000</td>\n      <td>0.0</td>\n      <td>0.0</td>\n      <td>0.0</td>\n      <td>0.0</td>\n      <td>0</td>\n      <td>0.0</td>\n      <td>0.0</td>\n      <td>0.07848788638262323</td>\n      <td>-0.5922459893048129</td>\n    </tr>\n    <tr>\n      <th>2022-12-13</th>\n      <td>2022-12-13</td>\n      <td>AXP</td>\n      <td>160.620000</td>\n      <td>161.550000</td>\n      <td>156.160000</td>\n      <td>157.520000</td>\n      <td>3110000.0</td>\n      <td>Q3</td>\n      <td>18.060160427807485</td>\n      <td>2.5120320855614975</td>\n      <td>...</td>\n      <td>11196000000</td>\n      <td>0.0</td>\n      <td>0.0</td>\n      <td>0.0</td>\n      <td>0.0</td>\n      <td>0</td>\n      <td>0.0</td>\n      <td>0.0</td>\n      <td>0.07848788638262323</td>\n      <td>-0.5922459893048129</td>\n    </tr>\n    <tr>\n      <th>2022-12-14</th>\n      <td>2022-12-14</td>\n      <td>AXP</td>\n      <td>157.570000</td>\n      <td>158.620000</td>\n      <td>153.840000</td>\n      <td>154.110000</td>\n      <td>3554804.0</td>\n      <td>Q3</td>\n      <td>18.060160427807485</td>\n      <td>2.5120320855614975</td>\n      <td>...</td>\n      <td>11196000000</td>\n      <td>0.0</td>\n      <td>0.0</td>\n      <td>0.0</td>\n      <td>0.0</td>\n      <td>0</td>\n      <td>0.0</td>\n      <td>0.0</td>\n      <td>0.07848788638262323</td>\n      <td>-0.5922459893048129</td>\n    </tr>\n    <tr>\n      <th>2022-12-15</th>\n      <td>2022-12-15</td>\n      <td>AXP</td>\n      <td>151.650000</td>\n      <td>152.280000</td>\n      <td>146.470000</td>\n      <td>150.220000</td>\n      <td>4282628.0</td>\n      <td>Q3</td>\n      <td>18.060160427807485</td>\n      <td>2.5120320855614975</td>\n      <td>...</td>\n      <td>11196000000</td>\n      <td>0.0</td>\n      <td>0.0</td>\n      <td>0.0</td>\n      <td>0.0</td>\n      <td>0</td>\n      <td>0.0</td>\n      <td>0.0</td>\n      <td>0.07848788638262323</td>\n      <td>-0.5922459893048129</td>\n    </tr>\n    <tr>\n      <th>2022-12-16</th>\n      <td>2022-12-16</td>\n      <td>AXP</td>\n      <td>148.590000</td>\n      <td>148.590000</td>\n      <td>144.150000</td>\n      <td>146.300000</td>\n      <td>4130931.0</td>\n      <td>Q3</td>\n      <td>18.060160427807485</td>\n      <td>2.5120320855614975</td>\n      <td>...</td>\n      <td>11196000000</td>\n      <td>0.0</td>\n      <td>0.0</td>\n      <td>0.0</td>\n      <td>0.0</td>\n      <td>0</td>\n      <td>0.0</td>\n      <td>0.0</td>\n      <td>0.07848788638262323</td>\n      <td>-0.5922459893048129</td>\n    </tr>\n  </tbody>\n</table>\n<p>107706 rows × 65 columns</p>\n</div>"
     },
     "execution_count": 14,
     "metadata": {},
     "output_type": "execute_result"
    }
   ],
   "source": [
    "dataset"
   ],
   "metadata": {
    "collapsed": false
   }
  },
  {
   "cell_type": "code",
   "execution_count": 15,
   "outputs": [],
   "source": [
    "dataset = dataset.sort_values(by=\"date\")\n",
    "dataset.index = dataset[\"date\"].factorize()[0]"
   ],
   "metadata": {
    "collapsed": false
   }
  },
  {
   "cell_type": "code",
   "execution_count": 16,
   "outputs": [],
   "source": [
    "assert dataset.groupby(\"date\").size().unique().size == 1"
   ],
   "metadata": {
    "collapsed": false
   }
  },
  {
   "cell_type": "code",
   "execution_count": 17,
   "outputs": [
    {
     "data": {
      "text/plain": "            date   tic        open        high         low       close  \\\n0     2008-03-20   DIS   31.280001   31.980000   31.250000   31.900000   \n0     2008-03-20   MRK   41.593510   41.593510   40.076336   41.374046   \n0     2008-03-20   IBM  111.940727  113.269600  111.520073  113.126198   \n0     2008-03-20   MCD   53.950001   54.759998   53.700001   54.419998   \n0     2008-03-20  AMGN   40.160000   40.220001   39.160000   40.110001   \n...          ...   ...         ...         ...         ...         ...   \n3713  2022-12-16   UNH  525.150000  525.810000  515.720000  523.700000   \n3713  2022-12-16   TRV  181.490000  183.800000  181.150000  182.800000   \n3713  2022-12-16   HON  207.350000  210.290000  206.230000  209.740000   \n3713  2022-12-16    VZ   37.510000   37.570000   36.670000   37.120000   \n3713  2022-12-16   AXP  148.590000  148.590000  144.150000  146.300000   \n\n          volume period     revenuePerShare   netIncomePerShare  ...  \\\n0     13802300.0     Q3   4.861052631578947  0.6757894736842105  ...   \n0     17209522.0     Q2  2.8220097924924223  0.8245744928887853  ...   \n0     11943123.0     Q2  19.159774573666105   2.023713679279807  ...   \n0     13075600.0     Q2   5.381610417220303  1.0545663920630703  ...   \n0     17844400.0     Q2    3.49165120593692    0.87291280148423  ...   \n...          ...    ...                 ...                 ...  ...   \n3713   7109629.0     Q3   85.96898395721925   5.627807486631016  ...   \n3713   3364427.0     Q3   39.51996601529312  1.9286321155480033  ...   \n3713   7129182.0     Q3    13.2784453345201   2.302329031300994  ...   \n3713  30249999.0     Q3   8.148738695859114  1.1661113755354593  ...   \n3713   4130931.0     Q3  18.060160427807485  2.5120320855614975  ...   \n\n     averagePayables averageInventory daysSalesOutstanding  \\\n0                0.0       1291000000   55.241446513642266   \n0         2006450000       3862800000    54.23675600647741   \n0         5619000000       2299500000    93.60990144396057   \n0          670400000         79200000    15.26739420275542   \n0         1010000000       3344000000    55.73591923485653   \n...              ...              ...                  ...   \n3713     55209500000              0.0    34.40850449733146   \n3713               0              0.0    85.96581747823282   \n3713      6181500000       5538500000    74.03306893084572   \n3713             0.0       3389500000    62.21488858386145   \n3713     11196000000              0.0                  0.0   \n\n     daysPayablesOutstanding daysOfInventoryOnHand receivablesTurnover  \\\n0          65.43866943866944    12.374220374220373  1.6292115011465866   \n0          34.21482277121375    141.17722878625136  1.6593912805045243   \n0         44.529925760462525    17.236055449707642  0.9614367562802997   \n0          14.05687573042462      2.69029996104402   5.894915583155443   \n0         133.51456310679612    372.93203883495147  1.6147576147576148   \n...                      ...                   ...                 ...   \n3713       83.14008631299126                   0.0  2.6156324232859327   \n3713                     0.0                   0.0  1.0469277515192437   \n3713        92.0615281725464     82.77712757064036  1.2156729593915523   \n3713                     0.0     19.31169098006986  1.4465990705534433   \n3713                     0.0                   0.0                   0   \n\n        payablesTurnover    inventoryTurnover                   roe  \\\n0     1.3753335874952344    7.273185483870968  0.039171420726684766   \n0      2.630438877378037   0.6374965762804711   0.08729759083728278   \n0      2.021112734032665    5.221612349914237   0.09782762524766488   \n0      6.402560691719321    33.45351867940921   0.08142063796027794   \n0     0.6740837696335078  0.24133083411433928   0.05077429450169967   \n...                  ...                  ...                   ...   \n3713  1.0825103026858036                  0.0   0.07049272566513946   \n3713                   0                  0.0  0.022807193810911282   \n3713  0.9776070611310886   1.0872568623886567   0.08764895239170949   \n3713                   0    4.660389403127993   0.05602048749256871   \n3713                 0.0                  0.0   0.07848788638262323   \n\n             capexPerShare  \n0     -0.18578947368421053  \n0     -0.13578922825833528  \n0      -0.8548634999634048  \n0     -0.42696430153246523  \n0     -0.15306122448979592  \n...                    ...  \n3713    -0.774331550802139  \n3713                   0.0  \n3713   -0.2729565346387776  \n3713   -1.4124226558781532  \n3713   -0.5922459893048129  \n\n[107706 rows x 65 columns]",
      "text/html": "<div>\n<style scoped>\n    .dataframe tbody tr th:only-of-type {\n        vertical-align: middle;\n    }\n\n    .dataframe tbody tr th {\n        vertical-align: top;\n    }\n\n    .dataframe thead th {\n        text-align: right;\n    }\n</style>\n<table border=\"1\" class=\"dataframe\">\n  <thead>\n    <tr style=\"text-align: right;\">\n      <th></th>\n      <th>date</th>\n      <th>tic</th>\n      <th>open</th>\n      <th>high</th>\n      <th>low</th>\n      <th>close</th>\n      <th>volume</th>\n      <th>period</th>\n      <th>revenuePerShare</th>\n      <th>netIncomePerShare</th>\n      <th>...</th>\n      <th>averagePayables</th>\n      <th>averageInventory</th>\n      <th>daysSalesOutstanding</th>\n      <th>daysPayablesOutstanding</th>\n      <th>daysOfInventoryOnHand</th>\n      <th>receivablesTurnover</th>\n      <th>payablesTurnover</th>\n      <th>inventoryTurnover</th>\n      <th>roe</th>\n      <th>capexPerShare</th>\n    </tr>\n  </thead>\n  <tbody>\n    <tr>\n      <th>0</th>\n      <td>2008-03-20</td>\n      <td>DIS</td>\n      <td>31.280001</td>\n      <td>31.980000</td>\n      <td>31.250000</td>\n      <td>31.900000</td>\n      <td>13802300.0</td>\n      <td>Q3</td>\n      <td>4.861052631578947</td>\n      <td>0.6757894736842105</td>\n      <td>...</td>\n      <td>0.0</td>\n      <td>1291000000</td>\n      <td>55.241446513642266</td>\n      <td>65.43866943866944</td>\n      <td>12.374220374220373</td>\n      <td>1.6292115011465866</td>\n      <td>1.3753335874952344</td>\n      <td>7.273185483870968</td>\n      <td>0.039171420726684766</td>\n      <td>-0.18578947368421053</td>\n    </tr>\n    <tr>\n      <th>0</th>\n      <td>2008-03-20</td>\n      <td>MRK</td>\n      <td>41.593510</td>\n      <td>41.593510</td>\n      <td>40.076336</td>\n      <td>41.374046</td>\n      <td>17209522.0</td>\n      <td>Q2</td>\n      <td>2.8220097924924223</td>\n      <td>0.8245744928887853</td>\n      <td>...</td>\n      <td>2006450000</td>\n      <td>3862800000</td>\n      <td>54.23675600647741</td>\n      <td>34.21482277121375</td>\n      <td>141.17722878625136</td>\n      <td>1.6593912805045243</td>\n      <td>2.630438877378037</td>\n      <td>0.6374965762804711</td>\n      <td>0.08729759083728278</td>\n      <td>-0.13578922825833528</td>\n    </tr>\n    <tr>\n      <th>0</th>\n      <td>2008-03-20</td>\n      <td>IBM</td>\n      <td>111.940727</td>\n      <td>113.269600</td>\n      <td>111.520073</td>\n      <td>113.126198</td>\n      <td>11943123.0</td>\n      <td>Q2</td>\n      <td>19.159774573666105</td>\n      <td>2.023713679279807</td>\n      <td>...</td>\n      <td>5619000000</td>\n      <td>2299500000</td>\n      <td>93.60990144396057</td>\n      <td>44.529925760462525</td>\n      <td>17.236055449707642</td>\n      <td>0.9614367562802997</td>\n      <td>2.021112734032665</td>\n      <td>5.221612349914237</td>\n      <td>0.09782762524766488</td>\n      <td>-0.8548634999634048</td>\n    </tr>\n    <tr>\n      <th>0</th>\n      <td>2008-03-20</td>\n      <td>MCD</td>\n      <td>53.950001</td>\n      <td>54.759998</td>\n      <td>53.700001</td>\n      <td>54.419998</td>\n      <td>13075600.0</td>\n      <td>Q2</td>\n      <td>5.381610417220303</td>\n      <td>1.0545663920630703</td>\n      <td>...</td>\n      <td>670400000</td>\n      <td>79200000</td>\n      <td>15.26739420275542</td>\n      <td>14.05687573042462</td>\n      <td>2.69029996104402</td>\n      <td>5.894915583155443</td>\n      <td>6.402560691719321</td>\n      <td>33.45351867940921</td>\n      <td>0.08142063796027794</td>\n      <td>-0.42696430153246523</td>\n    </tr>\n    <tr>\n      <th>0</th>\n      <td>2008-03-20</td>\n      <td>AMGN</td>\n      <td>40.160000</td>\n      <td>40.220001</td>\n      <td>39.160000</td>\n      <td>40.110001</td>\n      <td>17844400.0</td>\n      <td>Q2</td>\n      <td>3.49165120593692</td>\n      <td>0.87291280148423</td>\n      <td>...</td>\n      <td>1010000000</td>\n      <td>3344000000</td>\n      <td>55.73591923485653</td>\n      <td>133.51456310679612</td>\n      <td>372.93203883495147</td>\n      <td>1.6147576147576148</td>\n      <td>0.6740837696335078</td>\n      <td>0.24133083411433928</td>\n      <td>0.05077429450169967</td>\n      <td>-0.15306122448979592</td>\n    </tr>\n    <tr>\n      <th>...</th>\n      <td>...</td>\n      <td>...</td>\n      <td>...</td>\n      <td>...</td>\n      <td>...</td>\n      <td>...</td>\n      <td>...</td>\n      <td>...</td>\n      <td>...</td>\n      <td>...</td>\n      <td>...</td>\n      <td>...</td>\n      <td>...</td>\n      <td>...</td>\n      <td>...</td>\n      <td>...</td>\n      <td>...</td>\n      <td>...</td>\n      <td>...</td>\n      <td>...</td>\n      <td>...</td>\n    </tr>\n    <tr>\n      <th>3713</th>\n      <td>2022-12-16</td>\n      <td>UNH</td>\n      <td>525.150000</td>\n      <td>525.810000</td>\n      <td>515.720000</td>\n      <td>523.700000</td>\n      <td>7109629.0</td>\n      <td>Q3</td>\n      <td>85.96898395721925</td>\n      <td>5.627807486631016</td>\n      <td>...</td>\n      <td>55209500000</td>\n      <td>0.0</td>\n      <td>34.40850449733146</td>\n      <td>83.14008631299126</td>\n      <td>0.0</td>\n      <td>2.6156324232859327</td>\n      <td>1.0825103026858036</td>\n      <td>0.0</td>\n      <td>0.07049272566513946</td>\n      <td>-0.774331550802139</td>\n    </tr>\n    <tr>\n      <th>3713</th>\n      <td>2022-12-16</td>\n      <td>TRV</td>\n      <td>181.490000</td>\n      <td>183.800000</td>\n      <td>181.150000</td>\n      <td>182.800000</td>\n      <td>3364427.0</td>\n      <td>Q3</td>\n      <td>39.51996601529312</td>\n      <td>1.9286321155480033</td>\n      <td>...</td>\n      <td>0</td>\n      <td>0.0</td>\n      <td>85.96581747823282</td>\n      <td>0.0</td>\n      <td>0.0</td>\n      <td>1.0469277515192437</td>\n      <td>0</td>\n      <td>0.0</td>\n      <td>0.022807193810911282</td>\n      <td>0.0</td>\n    </tr>\n    <tr>\n      <th>3713</th>\n      <td>2022-12-16</td>\n      <td>HON</td>\n      <td>207.350000</td>\n      <td>210.290000</td>\n      <td>206.230000</td>\n      <td>209.740000</td>\n      <td>7129182.0</td>\n      <td>Q3</td>\n      <td>13.2784453345201</td>\n      <td>2.302329031300994</td>\n      <td>...</td>\n      <td>6181500000</td>\n      <td>5538500000</td>\n      <td>74.03306893084572</td>\n      <td>92.0615281725464</td>\n      <td>82.77712757064036</td>\n      <td>1.2156729593915523</td>\n      <td>0.9776070611310886</td>\n      <td>1.0872568623886567</td>\n      <td>0.08764895239170949</td>\n      <td>-0.2729565346387776</td>\n    </tr>\n    <tr>\n      <th>3713</th>\n      <td>2022-12-16</td>\n      <td>VZ</td>\n      <td>37.510000</td>\n      <td>37.570000</td>\n      <td>36.670000</td>\n      <td>37.120000</td>\n      <td>30249999.0</td>\n      <td>Q3</td>\n      <td>8.148738695859114</td>\n      <td>1.1661113755354593</td>\n      <td>...</td>\n      <td>0.0</td>\n      <td>3389500000</td>\n      <td>62.21488858386145</td>\n      <td>0.0</td>\n      <td>19.31169098006986</td>\n      <td>1.4465990705534433</td>\n      <td>0</td>\n      <td>4.660389403127993</td>\n      <td>0.05602048749256871</td>\n      <td>-1.4124226558781532</td>\n    </tr>\n    <tr>\n      <th>3713</th>\n      <td>2022-12-16</td>\n      <td>AXP</td>\n      <td>148.590000</td>\n      <td>148.590000</td>\n      <td>144.150000</td>\n      <td>146.300000</td>\n      <td>4130931.0</td>\n      <td>Q3</td>\n      <td>18.060160427807485</td>\n      <td>2.5120320855614975</td>\n      <td>...</td>\n      <td>11196000000</td>\n      <td>0.0</td>\n      <td>0.0</td>\n      <td>0.0</td>\n      <td>0.0</td>\n      <td>0</td>\n      <td>0.0</td>\n      <td>0.0</td>\n      <td>0.07848788638262323</td>\n      <td>-0.5922459893048129</td>\n    </tr>\n  </tbody>\n</table>\n<p>107706 rows × 65 columns</p>\n</div>"
     },
     "execution_count": 17,
     "metadata": {},
     "output_type": "execute_result"
    }
   ],
   "source": [
    "dataset"
   ],
   "metadata": {
    "collapsed": false
   }
  },
  {
   "cell_type": "code",
   "execution_count": 18,
   "outputs": [
    {
     "name": "stdout",
     "output_type": "stream",
     "text": [
      "2008-03-20\n",
      "2022-12-16\n"
     ]
    },
    {
     "data": {
      "text/plain": "            date   tic        open        high         low       close  \\\n0     2008-03-20   DIS   31.280001   31.980000   31.250000   31.900000   \n0     2008-03-20   MRK   41.593510   41.593510   40.076336   41.374046   \n0     2008-03-20   IBM  111.940727  113.269600  111.520073  113.126198   \n0     2008-03-20   MCD   53.950001   54.759998   53.700001   54.419998   \n0     2008-03-20  AMGN   40.160000   40.220001   39.160000   40.110001   \n...          ...   ...         ...         ...         ...         ...   \n2784  2019-04-11   WBA   54.590000   54.799999   53.320000   53.439999   \n2784  2019-04-11     V  159.110001  159.300003  157.440002  157.860001   \n2784  2019-04-11    HD  199.899994  201.500000  199.029999  201.479996   \n2784  2019-04-11   CVX  125.339996  126.260002  124.750000  125.989998   \n2784  2019-04-11   UNH  246.050003  246.919998  232.679993  235.419998   \n\n          volume period     revenuePerShare   netIncomePerShare  ...  \\\n0     13802300.0     Q3   4.861052631578947  0.6757894736842105  ...   \n0     17209522.0     Q2  2.8220097924924223  0.8245744928887853  ...   \n0     11943123.0     Q2  19.159774573666105   2.023713679279807  ...   \n0     13075600.0     Q2   5.381610417220303  1.0545663920630703  ...   \n0     17844400.0     Q2    3.49165120593692    0.87291280148423  ...   \n...          ...    ...                 ...                 ...  ...   \n2784   8194100.0     Q3   38.01626552368392  1.1264974172986042  ...   \n2784   5771400.0     Q3   2.931726907630522  1.5567269076305221  ...   \n2784   2465100.0     Q1   23.96094459582198   2.282470481380563  ...   \n2784   3248300.0     Q2  19.225995294466365   2.278663924859668  ...   \n2784   8223400.0     Q2    63.3048523206751  3.4736286919831225  ...   \n\n     averagePayables averageInventory daysSalesOutstanding  \\\n0                0.0       1291000000   55.241446513642266   \n0         2006450000       3862800000    54.23675600647741   \n0         5619000000       2299500000    93.60990144396057   \n0          670400000         79200000    15.26739420275542   \n0         1010000000       3344000000    55.73591923485653   \n...              ...              ...                  ...   \n2784     12962000000       9197000000    18.83466797721951   \n2784       189000000              0.0    49.62328767123288   \n2784     12329500000      20791500000     7.90455251885827   \n2784     19855500000       7262000000   35.637750185832665   \n2784     46079000000              0.0    27.25659440454568   \n\n     daysPayablesOutstanding daysOfInventoryOnHand receivablesTurnover  \\\n0          65.43866943866944    12.374220374220373  1.6292115011465866   \n0          34.21482277121375    141.17722878625136  1.6593912805045243   \n0         44.529925760462525    17.236055449707642  0.9614367562802997   \n0          14.05687573042462      2.69029996104402   5.894915583155443   \n0         133.51456310679612    372.93203883495147  1.6147576147576148   \n...                      ...                   ...                 ...   \n2784       46.86049082467389     32.74596506743312   4.778422434037851   \n2784      12.784090909090908                   0.0   1.813664596273292   \n2784       53.44333102971665     80.31271596406357  11.385843763487268   \n2784      52.940124756645076    24.347808812427985  2.5254119446568866   \n2784       73.17237398999615                   0.0   3.301953232462173   \n\n        payablesTurnover    inventoryTurnover                   roe  \\\n0     1.3753335874952344    7.273185483870968  0.039171420726684766   \n0      2.630438877378037   0.6374965762804711   0.08729759083728278   \n0      2.021112734032665    5.221612349914237   0.09782762524766488   \n0      6.402560691719321    33.45351867940921   0.08142063796027794   \n0     0.6740837696335078  0.24133083411433928   0.05077429450169967   \n...                  ...                  ...                   ...   \n2784  1.9205944798301486   2.7484302207818514   0.04247296233373389   \n2784                7.04                  0.0   0.08861265895127876   \n2784  1.6840267675298226    1.120619554695063   -1.1726551563229117   \n2784  1.7000337723741978   3.6964311940079306   0.02752645544934301   \n2784  1.2299723938477718                  0.0   0.06201156243526731   \n\n             capexPerShare  \n0     -0.18578947368421053  \n0     -0.13578922825833528  \n0      -0.8548634999634048  \n0     -0.42696430153246523  \n0     -0.15306122448979592  \n...                    ...  \n2784   -0.4978569073524563  \n2784  -0.09738955823293173  \n2784   -0.6185286103542235  \n2784   -1.8970340317530892  \n2784  -0.43776371308016876  \n\n[80765 rows x 65 columns]",
      "text/html": "<div>\n<style scoped>\n    .dataframe tbody tr th:only-of-type {\n        vertical-align: middle;\n    }\n\n    .dataframe tbody tr th {\n        vertical-align: top;\n    }\n\n    .dataframe thead th {\n        text-align: right;\n    }\n</style>\n<table border=\"1\" class=\"dataframe\">\n  <thead>\n    <tr style=\"text-align: right;\">\n      <th></th>\n      <th>date</th>\n      <th>tic</th>\n      <th>open</th>\n      <th>high</th>\n      <th>low</th>\n      <th>close</th>\n      <th>volume</th>\n      <th>period</th>\n      <th>revenuePerShare</th>\n      <th>netIncomePerShare</th>\n      <th>...</th>\n      <th>averagePayables</th>\n      <th>averageInventory</th>\n      <th>daysSalesOutstanding</th>\n      <th>daysPayablesOutstanding</th>\n      <th>daysOfInventoryOnHand</th>\n      <th>receivablesTurnover</th>\n      <th>payablesTurnover</th>\n      <th>inventoryTurnover</th>\n      <th>roe</th>\n      <th>capexPerShare</th>\n    </tr>\n  </thead>\n  <tbody>\n    <tr>\n      <th>0</th>\n      <td>2008-03-20</td>\n      <td>DIS</td>\n      <td>31.280001</td>\n      <td>31.980000</td>\n      <td>31.250000</td>\n      <td>31.900000</td>\n      <td>13802300.0</td>\n      <td>Q3</td>\n      <td>4.861052631578947</td>\n      <td>0.6757894736842105</td>\n      <td>...</td>\n      <td>0.0</td>\n      <td>1291000000</td>\n      <td>55.241446513642266</td>\n      <td>65.43866943866944</td>\n      <td>12.374220374220373</td>\n      <td>1.6292115011465866</td>\n      <td>1.3753335874952344</td>\n      <td>7.273185483870968</td>\n      <td>0.039171420726684766</td>\n      <td>-0.18578947368421053</td>\n    </tr>\n    <tr>\n      <th>0</th>\n      <td>2008-03-20</td>\n      <td>MRK</td>\n      <td>41.593510</td>\n      <td>41.593510</td>\n      <td>40.076336</td>\n      <td>41.374046</td>\n      <td>17209522.0</td>\n      <td>Q2</td>\n      <td>2.8220097924924223</td>\n      <td>0.8245744928887853</td>\n      <td>...</td>\n      <td>2006450000</td>\n      <td>3862800000</td>\n      <td>54.23675600647741</td>\n      <td>34.21482277121375</td>\n      <td>141.17722878625136</td>\n      <td>1.6593912805045243</td>\n      <td>2.630438877378037</td>\n      <td>0.6374965762804711</td>\n      <td>0.08729759083728278</td>\n      <td>-0.13578922825833528</td>\n    </tr>\n    <tr>\n      <th>0</th>\n      <td>2008-03-20</td>\n      <td>IBM</td>\n      <td>111.940727</td>\n      <td>113.269600</td>\n      <td>111.520073</td>\n      <td>113.126198</td>\n      <td>11943123.0</td>\n      <td>Q2</td>\n      <td>19.159774573666105</td>\n      <td>2.023713679279807</td>\n      <td>...</td>\n      <td>5619000000</td>\n      <td>2299500000</td>\n      <td>93.60990144396057</td>\n      <td>44.529925760462525</td>\n      <td>17.236055449707642</td>\n      <td>0.9614367562802997</td>\n      <td>2.021112734032665</td>\n      <td>5.221612349914237</td>\n      <td>0.09782762524766488</td>\n      <td>-0.8548634999634048</td>\n    </tr>\n    <tr>\n      <th>0</th>\n      <td>2008-03-20</td>\n      <td>MCD</td>\n      <td>53.950001</td>\n      <td>54.759998</td>\n      <td>53.700001</td>\n      <td>54.419998</td>\n      <td>13075600.0</td>\n      <td>Q2</td>\n      <td>5.381610417220303</td>\n      <td>1.0545663920630703</td>\n      <td>...</td>\n      <td>670400000</td>\n      <td>79200000</td>\n      <td>15.26739420275542</td>\n      <td>14.05687573042462</td>\n      <td>2.69029996104402</td>\n      <td>5.894915583155443</td>\n      <td>6.402560691719321</td>\n      <td>33.45351867940921</td>\n      <td>0.08142063796027794</td>\n      <td>-0.42696430153246523</td>\n    </tr>\n    <tr>\n      <th>0</th>\n      <td>2008-03-20</td>\n      <td>AMGN</td>\n      <td>40.160000</td>\n      <td>40.220001</td>\n      <td>39.160000</td>\n      <td>40.110001</td>\n      <td>17844400.0</td>\n      <td>Q2</td>\n      <td>3.49165120593692</td>\n      <td>0.87291280148423</td>\n      <td>...</td>\n      <td>1010000000</td>\n      <td>3344000000</td>\n      <td>55.73591923485653</td>\n      <td>133.51456310679612</td>\n      <td>372.93203883495147</td>\n      <td>1.6147576147576148</td>\n      <td>0.6740837696335078</td>\n      <td>0.24133083411433928</td>\n      <td>0.05077429450169967</td>\n      <td>-0.15306122448979592</td>\n    </tr>\n    <tr>\n      <th>...</th>\n      <td>...</td>\n      <td>...</td>\n      <td>...</td>\n      <td>...</td>\n      <td>...</td>\n      <td>...</td>\n      <td>...</td>\n      <td>...</td>\n      <td>...</td>\n      <td>...</td>\n      <td>...</td>\n      <td>...</td>\n      <td>...</td>\n      <td>...</td>\n      <td>...</td>\n      <td>...</td>\n      <td>...</td>\n      <td>...</td>\n      <td>...</td>\n      <td>...</td>\n      <td>...</td>\n    </tr>\n    <tr>\n      <th>2784</th>\n      <td>2019-04-11</td>\n      <td>WBA</td>\n      <td>54.590000</td>\n      <td>54.799999</td>\n      <td>53.320000</td>\n      <td>53.439999</td>\n      <td>8194100.0</td>\n      <td>Q3</td>\n      <td>38.01626552368392</td>\n      <td>1.1264974172986042</td>\n      <td>...</td>\n      <td>12962000000</td>\n      <td>9197000000</td>\n      <td>18.83466797721951</td>\n      <td>46.86049082467389</td>\n      <td>32.74596506743312</td>\n      <td>4.778422434037851</td>\n      <td>1.9205944798301486</td>\n      <td>2.7484302207818514</td>\n      <td>0.04247296233373389</td>\n      <td>-0.4978569073524563</td>\n    </tr>\n    <tr>\n      <th>2784</th>\n      <td>2019-04-11</td>\n      <td>V</td>\n      <td>159.110001</td>\n      <td>159.300003</td>\n      <td>157.440002</td>\n      <td>157.860001</td>\n      <td>5771400.0</td>\n      <td>Q3</td>\n      <td>2.931726907630522</td>\n      <td>1.5567269076305221</td>\n      <td>...</td>\n      <td>189000000</td>\n      <td>0.0</td>\n      <td>49.62328767123288</td>\n      <td>12.784090909090908</td>\n      <td>0.0</td>\n      <td>1.813664596273292</td>\n      <td>7.04</td>\n      <td>0.0</td>\n      <td>0.08861265895127876</td>\n      <td>-0.09738955823293173</td>\n    </tr>\n    <tr>\n      <th>2784</th>\n      <td>2019-04-11</td>\n      <td>HD</td>\n      <td>199.899994</td>\n      <td>201.500000</td>\n      <td>199.029999</td>\n      <td>201.479996</td>\n      <td>2465100.0</td>\n      <td>Q1</td>\n      <td>23.96094459582198</td>\n      <td>2.282470481380563</td>\n      <td>...</td>\n      <td>12329500000</td>\n      <td>20791500000</td>\n      <td>7.90455251885827</td>\n      <td>53.44333102971665</td>\n      <td>80.31271596406357</td>\n      <td>11.385843763487268</td>\n      <td>1.6840267675298226</td>\n      <td>1.120619554695063</td>\n      <td>-1.1726551563229117</td>\n      <td>-0.6185286103542235</td>\n    </tr>\n    <tr>\n      <th>2784</th>\n      <td>2019-04-11</td>\n      <td>CVX</td>\n      <td>125.339996</td>\n      <td>126.260002</td>\n      <td>124.750000</td>\n      <td>125.989998</td>\n      <td>3248300.0</td>\n      <td>Q2</td>\n      <td>19.225995294466365</td>\n      <td>2.278663924859668</td>\n      <td>...</td>\n      <td>19855500000</td>\n      <td>7262000000</td>\n      <td>35.637750185832665</td>\n      <td>52.940124756645076</td>\n      <td>24.347808812427985</td>\n      <td>2.5254119446568866</td>\n      <td>1.7000337723741978</td>\n      <td>3.6964311940079306</td>\n      <td>0.02752645544934301</td>\n      <td>-1.8970340317530892</td>\n    </tr>\n    <tr>\n      <th>2784</th>\n      <td>2019-04-11</td>\n      <td>UNH</td>\n      <td>246.050003</td>\n      <td>246.919998</td>\n      <td>232.679993</td>\n      <td>235.419998</td>\n      <td>8223400.0</td>\n      <td>Q2</td>\n      <td>63.3048523206751</td>\n      <td>3.4736286919831225</td>\n      <td>...</td>\n      <td>46079000000</td>\n      <td>0.0</td>\n      <td>27.25659440454568</td>\n      <td>73.17237398999615</td>\n      <td>0.0</td>\n      <td>3.301953232462173</td>\n      <td>1.2299723938477718</td>\n      <td>0.0</td>\n      <td>0.06201156243526731</td>\n      <td>-0.43776371308016876</td>\n    </tr>\n  </tbody>\n</table>\n<p>80765 rows × 65 columns</p>\n</div>"
     },
     "execution_count": 18,
     "metadata": {},
     "output_type": "execute_result"
    }
   ],
   "source": [
    "print(dataset[\"date\"].min())\n",
    "print(dataset[\"date\"].max())\n",
    "\n",
    "date_split = dataset.iloc[dataset.index.size // 4 * 3][\"date\"]\n",
    "dataset[dataset[\"date\"] < date_split]"
   ],
   "metadata": {
    "collapsed": false
   }
  },
  {
   "cell_type": "code",
   "execution_count": 19,
   "outputs": [
    {
     "data": {
      "text/plain": "PosixPath('/Users/zlapik/my-drive-zlapik/0-todo/ai-investing/src/rl/experiments/_3_key_metrics_dow30/out/datasets/experiment_same_bigger_fundamental.csv')"
     },
     "execution_count": 19,
     "metadata": {},
     "output_type": "execute_result"
    }
   ],
   "source": [
    "filepath = exp_dir.out.datasets.joinpath(dataset_name).with_suffix(\".csv\")\n",
    "dataset.to_csv(filepath)\n",
    "filepath"
   ],
   "metadata": {
    "collapsed": false
   }
  },
  {
   "cell_type": "code",
   "execution_count": null,
   "outputs": [],
   "source": [],
   "metadata": {
    "collapsed": false
   }
  }
 ],
 "metadata": {
  "colab": {
   "collapsed_sections": [
    "_gDkU-j-fCmZ",
    "MRiOtrywfAo1",
    "3Zpv4S0-fDBv",
    "Dr49PotrfG01"
   ],
   "name": "Stock_Fundamental.ipynb",
   "provenance": []
  },
  "gpuClass": "standard",
  "kernelspec": {
   "display_name": "Python 3.10.8 ('venv3.10': venv)",
   "language": "python",
   "name": "python3"
  },
  "language_info": {
   "codemirror_mode": {
    "name": "ipython",
    "version": 3
   },
   "file_extension": ".py",
   "mimetype": "text/x-python",
   "name": "python",
   "nbconvert_exporter": "python",
   "pygments_lexer": "ipython3",
   "version": "3.10.8"
  },
  "vscode": {
   "interpreter": {
    "hash": "32c0c8ab8a6b580687c5ec847b855eb3ee7063ee446f183d34922604f3e580fd"
   }
  }
 },
 "nbformat": 4,
 "nbformat_minor": 0
}
