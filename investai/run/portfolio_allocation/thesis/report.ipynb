{
 "cells": [
  {
   "cell_type": "code",
   "execution_count": null,
   "metadata": {
    "collapsed": true
   },
   "outputs": [],
   "source": [
    "import wandb\n",
    "from pprint import pprint\n",
    "from shared.program import Program\n",
    "from shared.utils import calculate_sharpe_ratio, reload_module  # noqa"
   ]
  },
  {
   "cell_type": "code",
   "execution_count": null,
   "outputs": [],
   "source": [
    "class WandbStats:\n",
    "    def __init__(self, program: Program = None):\n",
    "        self.program = program\n",
    "\n",
    "    def create_graphs(self):\n",
    "        api = wandb.Api()\n",
    "        runs = [\n",
    "            api.runs(self.program.args.wandb_entity + \"/\" + self.program.args.wandb_project, filters={\"group\": group})\n",
    "            for group in [\n",
    "                # \"sweep-nasfit-2\",\n",
    "                # \"sweep-nasfit-3\",\n",
    "                \"sweep-nasfit-4\"]\n",
    "        ]\n",
    "        test_log_keys = [\n",
    "            \"test/reward/^DJI\",\n",
    "            \"test/reward/^GSPC\",\n",
    "            \"test/reward/^IXIC\",\n",
    "            \"test/reward/^RUT\",\n",
    "            \"test/reward/maximum_sharp_0_1\",\n",
    "            \"test/reward/maximum_quadratic_utility_0_1\",\n",
    "            \"test/reward/minimum_variance_0_1\",\n",
    "            \"test/reward/model\",\n",
    "        ]\n",
    "        for runs_group in runs:\n",
    "            for run in runs_group:\n",
    "                history = run.scan_history(keys=test_log_keys)\n",
    "                for key in test_log_keys:\n",
    "                    print(key)\n",
    "                    pprint(history[key])\n",
    "                    print()"
   ],
   "metadata": {
    "collapsed": false
   }
  },
  {
   "cell_type": "markdown",
   "source": [
    "## Experiment Run\n",
    "\n",
    "### Exercise 1\n",
    "asas\n",
    "$$1+2+3$$\n",
    "asas\n",
    "\n"
   ],
   "metadata": {
    "collapsed": false
   }
  },
  {
   "cell_type": "code",
   "execution_count": null,
   "outputs": [],
   "source": [
    "class TestWandbStats:\n",
    "    def __init__(self, program: Program):\n",
    "        self.program = program\n",
    "\n",
    "    def test_create_graphs(self):\n",
    "        wandbstats = WandbStats(program=self.program)\n",
    "        wandbstats.create_graphs()"
   ],
   "metadata": {
    "collapsed": false
   }
  },
  {
   "cell_type": "code",
   "execution_count": null,
   "outputs": [],
   "source": [
    "def t():\n",
    "    program = Program()\n",
    "    wandbstats = TestWandbStats(program=program)\n",
    "    wandbstats.test_create_graphs()"
   ],
   "metadata": {
    "collapsed": false
   }
  },
  {
   "cell_type": "code",
   "execution_count": null,
   "outputs": [],
   "source": [
    "def main():\n",
    "    program = Program()\n",
    "    wandbstats = WandbStats(program=program)\n",
    "    wandbstats.create_graphs()"
   ],
   "metadata": {
    "collapsed": false
   }
  }
 ],
 "metadata": {
  "kernelspec": {
   "display_name": "Python 3",
   "language": "python",
   "name": "python3"
  },
  "language_info": {
   "codemirror_mode": {
    "name": "ipython",
    "version": 2
   },
   "file_extension": ".py",
   "mimetype": "text/x-python",
   "name": "python",
   "nbconvert_exporter": "python",
   "pygments_lexer": "ipython2",
   "version": "2.7.6"
  }
 },
 "nbformat": 4,
 "nbformat_minor": 0
}
